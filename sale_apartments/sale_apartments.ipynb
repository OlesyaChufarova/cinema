{
 "cells": [
  {
   "cell_type": "markdown",
   "metadata": {
    "toc": true
   },
   "source": [
    "<h1>Содержание<span class=\"tocSkip\"></span></h1>\n",
    "<div class=\"toc\"><ul class=\"toc-item\"><li><span><a href=\"#Изучение-данных-из-файла\" data-toc-modified-id=\"Изучение-данных-из-файла-1\"><span class=\"toc-item-num\">1&nbsp;&nbsp;</span>Изучение данных из файла</a></span><ul class=\"toc-item\"><li><span><a href=\"#Вывод\" data-toc-modified-id=\"Вывод-1.1\"><span class=\"toc-item-num\">1.1&nbsp;&nbsp;</span>Вывод</a></span></li></ul></li><li><span><a href=\"#Предобработка-данных\" data-toc-modified-id=\"Предобработка-данных-2\"><span class=\"toc-item-num\">2&nbsp;&nbsp;</span>Предобработка данных</a></span><ul class=\"toc-item\"><li><span><a href=\"#Замена-пропущенных-значений\" data-toc-modified-id=\"Замена-пропущенных-значений-2.1\"><span class=\"toc-item-num\">2.1&nbsp;&nbsp;</span>Замена пропущенных значений</a></span></li><li><span><a href=\"#Обработка-выбивающихся-значений\" data-toc-modified-id=\"Обработка-выбивающихся-значений-2.2\"><span class=\"toc-item-num\">2.2&nbsp;&nbsp;</span>Обработка выбивающихся значений</a></span></li><li><span><a href=\"#Изменение-типов-данных-в-столбцах\" data-toc-modified-id=\"Изменение-типов-данных-в-столбцах-2.3\"><span class=\"toc-item-num\">2.3&nbsp;&nbsp;</span>Изменение типов данных в столбцах</a></span></li><li><span><a href=\"#Обработка-значений-дата/время\" data-toc-modified-id=\"Обработка-значений-дата/время-2.4\"><span class=\"toc-item-num\">2.4&nbsp;&nbsp;</span>Обработка значений дата/время</a></span></li></ul></li><li><span><a href=\"#Расчёты-и-добавление-результатов-в-таблицу\" data-toc-modified-id=\"Расчёты-и-добавление-результатов-в-таблицу-3\"><span class=\"toc-item-num\">3&nbsp;&nbsp;</span>Расчёты и добавление результатов в таблицу</a></span><ul class=\"toc-item\"><li><span><a href=\"#Добавление-цены-квадратного-метра\" data-toc-modified-id=\"Добавление-цены-квадратного-метра-3.1\"><span class=\"toc-item-num\">3.1&nbsp;&nbsp;</span>Добавление цены квадратного метра</a></span></li><li><span><a href=\"#Добавление-дня-недели,-месяца-и-года-публикации-объявления\" data-toc-modified-id=\"Добавление-дня-недели,-месяца-и-года-публикации-объявления-3.2\"><span class=\"toc-item-num\">3.2&nbsp;&nbsp;</span>Добавление дня недели, месяца и года публикации объявления</a></span></li><li><span><a href=\"#Добавление-этажа-квартиры;-варианты-—-первый,-последний,-другой\" data-toc-modified-id=\"Добавление-этажа-квартиры;-варианты-—-первый,-последний,-другой-3.3\"><span class=\"toc-item-num\">3.3&nbsp;&nbsp;</span>Добавление этажа квартиры; варианты — первый, последний, другой</a></span></li><li><span><a href=\"#Cоотношение-жилой-и-общей-площади,-а-также-отношение-площади-кухни-к-общей\" data-toc-modified-id=\"Cоотношение-жилой-и-общей-площади,-а-также-отношение-площади-кухни-к-общей-3.4\"><span class=\"toc-item-num\">3.4&nbsp;&nbsp;</span>Cоотношение жилой и общей площади, а также отношение площади кухни к общей</a></span></li></ul></li><li><span><a href=\"#Исследовательский-анализ-данных\" data-toc-modified-id=\"Исследовательский-анализ-данных-4\"><span class=\"toc-item-num\">4&nbsp;&nbsp;</span>Исследовательский анализ данных</a></span><ul class=\"toc-item\"><li><span><a href=\"#Изучите-следующие-параметры:-площадь,-цена,-число-комнат,-высота-потолков.-Постройте-гистограммы-для-каждого-параметра\" data-toc-modified-id=\"Изучите-следующие-параметры:-площадь,-цена,-число-комнат,-высота-потолков.-Постройте-гистограммы-для-каждого-параметра-4.1\"><span class=\"toc-item-num\">4.1&nbsp;&nbsp;</span>Изучите следующие параметры: площадь, цена, число комнат, высота потолков. Постройте гистограммы для каждого параметра</a></span></li><li><span><a href=\"#Изучите-время-продажи-квартиры.\" data-toc-modified-id=\"Изучите-время-продажи-квартиры.-4.2\"><span class=\"toc-item-num\">4.2&nbsp;&nbsp;</span>Изучите время продажи квартиры.</a></span></li><li><span><a href=\"#Уберите-редкие-и-выбивающиеся-значения.-Опишите,-какие-особенности-обнаружили.\" data-toc-modified-id=\"Уберите-редкие-и-выбивающиеся-значения.-Опишите,-какие-особенности-обнаружили.-4.3\"><span class=\"toc-item-num\">4.3&nbsp;&nbsp;</span>Уберите редкие и выбивающиеся значения. Опишите, какие особенности обнаружили.</a></span></li><li><span><a href=\"#Какие-факторы-больше-всего-влияют-на-стоимость-квартиры?\" data-toc-modified-id=\"Какие-факторы-больше-всего-влияют-на-стоимость-квартиры?-4.4\"><span class=\"toc-item-num\">4.4&nbsp;&nbsp;</span>Какие факторы больше всего влияют на стоимость квартиры?</a></span></li><li><span><a href=\"#Выберите-10-населённых-пунктов-с-наибольшим-числом-объявлений\" data-toc-modified-id=\"Выберите-10-населённых-пунктов-с-наибольшим-числом-объявлений-4.5\"><span class=\"toc-item-num\">4.5&nbsp;&nbsp;</span>Выберите 10 населённых пунктов с наибольшим числом объявлений</a></span></li><li><span><a href=\"#Изучите-предложения-квартир\" data-toc-modified-id=\"Изучите-предложения-квартир-4.6\"><span class=\"toc-item-num\">4.6&nbsp;&nbsp;</span>Изучите предложения квартир</a></span></li><li><span><a href=\"#Выделите-сегмент-квартир-в-центре.\" data-toc-modified-id=\"Выделите-сегмент-квартир-в-центре.-4.7\"><span class=\"toc-item-num\">4.7&nbsp;&nbsp;</span>Выделите сегмент квартир в центре.</a></span></li></ul></li><li><span><a href=\"#Общий-вывод\" data-toc-modified-id=\"Общий-вывод-5\"><span class=\"toc-item-num\">5&nbsp;&nbsp;</span>Общий вывод</a></span></li></ul></div>"
   ]
  },
  {
   "cell_type": "markdown",
   "metadata": {},
   "source": [
    "## Изучение данных из файла"
   ]
  },
  {
   "cell_type": "markdown",
   "metadata": {},
   "source": [
    "Откроем полученный датасет, используя разделитель колонок. Посмотрим какие данные мы имеем"
   ]
  },
  {
   "cell_type": "code",
   "execution_count": 178,
   "metadata": {},
   "outputs": [
    {
     "data": {
      "text/html": [
       "<div>\n",
       "<style scoped>\n",
       "    .dataframe tbody tr th:only-of-type {\n",
       "        vertical-align: middle;\n",
       "    }\n",
       "\n",
       "    .dataframe tbody tr th {\n",
       "        vertical-align: top;\n",
       "    }\n",
       "\n",
       "    .dataframe thead th {\n",
       "        text-align: right;\n",
       "    }\n",
       "</style>\n",
       "<table border=\"1\" class=\"dataframe\">\n",
       "  <thead>\n",
       "    <tr style=\"text-align: right;\">\n",
       "      <th></th>\n",
       "      <th>total_images</th>\n",
       "      <th>last_price</th>\n",
       "      <th>total_area</th>\n",
       "      <th>first_day_exposition</th>\n",
       "      <th>rooms</th>\n",
       "      <th>ceiling_height</th>\n",
       "      <th>floors_total</th>\n",
       "      <th>living_area</th>\n",
       "      <th>floor</th>\n",
       "      <th>is_apartment</th>\n",
       "      <th>...</th>\n",
       "      <th>kitchen_area</th>\n",
       "      <th>balcony</th>\n",
       "      <th>locality_name</th>\n",
       "      <th>airports_nearest</th>\n",
       "      <th>cityCenters_nearest</th>\n",
       "      <th>parks_around3000</th>\n",
       "      <th>parks_nearest</th>\n",
       "      <th>ponds_around3000</th>\n",
       "      <th>ponds_nearest</th>\n",
       "      <th>days_exposition</th>\n",
       "    </tr>\n",
       "  </thead>\n",
       "  <tbody>\n",
       "    <tr>\n",
       "      <th>0</th>\n",
       "      <td>20</td>\n",
       "      <td>13000000.0</td>\n",
       "      <td>108.00</td>\n",
       "      <td>2019-03-07T00:00:00</td>\n",
       "      <td>3</td>\n",
       "      <td>2.70</td>\n",
       "      <td>16.0</td>\n",
       "      <td>51.0</td>\n",
       "      <td>8</td>\n",
       "      <td>NaN</td>\n",
       "      <td>...</td>\n",
       "      <td>25.00</td>\n",
       "      <td>NaN</td>\n",
       "      <td>Санкт-Петербург</td>\n",
       "      <td>18863.0</td>\n",
       "      <td>16028.0</td>\n",
       "      <td>1.0</td>\n",
       "      <td>482.0</td>\n",
       "      <td>2.0</td>\n",
       "      <td>755.0</td>\n",
       "      <td>NaN</td>\n",
       "    </tr>\n",
       "    <tr>\n",
       "      <th>1</th>\n",
       "      <td>7</td>\n",
       "      <td>3350000.0</td>\n",
       "      <td>40.40</td>\n",
       "      <td>2018-12-04T00:00:00</td>\n",
       "      <td>1</td>\n",
       "      <td>NaN</td>\n",
       "      <td>11.0</td>\n",
       "      <td>18.6</td>\n",
       "      <td>1</td>\n",
       "      <td>NaN</td>\n",
       "      <td>...</td>\n",
       "      <td>11.00</td>\n",
       "      <td>2.0</td>\n",
       "      <td>посёлок Шушары</td>\n",
       "      <td>12817.0</td>\n",
       "      <td>18603.0</td>\n",
       "      <td>0.0</td>\n",
       "      <td>NaN</td>\n",
       "      <td>0.0</td>\n",
       "      <td>NaN</td>\n",
       "      <td>81.0</td>\n",
       "    </tr>\n",
       "    <tr>\n",
       "      <th>2</th>\n",
       "      <td>10</td>\n",
       "      <td>5196000.0</td>\n",
       "      <td>56.00</td>\n",
       "      <td>2015-08-20T00:00:00</td>\n",
       "      <td>2</td>\n",
       "      <td>NaN</td>\n",
       "      <td>5.0</td>\n",
       "      <td>34.3</td>\n",
       "      <td>4</td>\n",
       "      <td>NaN</td>\n",
       "      <td>...</td>\n",
       "      <td>8.30</td>\n",
       "      <td>0.0</td>\n",
       "      <td>Санкт-Петербург</td>\n",
       "      <td>21741.0</td>\n",
       "      <td>13933.0</td>\n",
       "      <td>1.0</td>\n",
       "      <td>90.0</td>\n",
       "      <td>2.0</td>\n",
       "      <td>574.0</td>\n",
       "      <td>558.0</td>\n",
       "    </tr>\n",
       "    <tr>\n",
       "      <th>3</th>\n",
       "      <td>0</td>\n",
       "      <td>64900000.0</td>\n",
       "      <td>159.00</td>\n",
       "      <td>2015-07-24T00:00:00</td>\n",
       "      <td>3</td>\n",
       "      <td>NaN</td>\n",
       "      <td>14.0</td>\n",
       "      <td>NaN</td>\n",
       "      <td>9</td>\n",
       "      <td>NaN</td>\n",
       "      <td>...</td>\n",
       "      <td>NaN</td>\n",
       "      <td>0.0</td>\n",
       "      <td>Санкт-Петербург</td>\n",
       "      <td>28098.0</td>\n",
       "      <td>6800.0</td>\n",
       "      <td>2.0</td>\n",
       "      <td>84.0</td>\n",
       "      <td>3.0</td>\n",
       "      <td>234.0</td>\n",
       "      <td>424.0</td>\n",
       "    </tr>\n",
       "    <tr>\n",
       "      <th>4</th>\n",
       "      <td>2</td>\n",
       "      <td>10000000.0</td>\n",
       "      <td>100.00</td>\n",
       "      <td>2018-06-19T00:00:00</td>\n",
       "      <td>2</td>\n",
       "      <td>3.03</td>\n",
       "      <td>14.0</td>\n",
       "      <td>32.0</td>\n",
       "      <td>13</td>\n",
       "      <td>NaN</td>\n",
       "      <td>...</td>\n",
       "      <td>41.00</td>\n",
       "      <td>NaN</td>\n",
       "      <td>Санкт-Петербург</td>\n",
       "      <td>31856.0</td>\n",
       "      <td>8098.0</td>\n",
       "      <td>2.0</td>\n",
       "      <td>112.0</td>\n",
       "      <td>1.0</td>\n",
       "      <td>48.0</td>\n",
       "      <td>121.0</td>\n",
       "    </tr>\n",
       "    <tr>\n",
       "      <th>...</th>\n",
       "      <td>...</td>\n",
       "      <td>...</td>\n",
       "      <td>...</td>\n",
       "      <td>...</td>\n",
       "      <td>...</td>\n",
       "      <td>...</td>\n",
       "      <td>...</td>\n",
       "      <td>...</td>\n",
       "      <td>...</td>\n",
       "      <td>...</td>\n",
       "      <td>...</td>\n",
       "      <td>...</td>\n",
       "      <td>...</td>\n",
       "      <td>...</td>\n",
       "      <td>...</td>\n",
       "      <td>...</td>\n",
       "      <td>...</td>\n",
       "      <td>...</td>\n",
       "      <td>...</td>\n",
       "      <td>...</td>\n",
       "      <td>...</td>\n",
       "    </tr>\n",
       "    <tr>\n",
       "      <th>23694</th>\n",
       "      <td>9</td>\n",
       "      <td>9700000.0</td>\n",
       "      <td>133.81</td>\n",
       "      <td>2017-03-21T00:00:00</td>\n",
       "      <td>3</td>\n",
       "      <td>3.70</td>\n",
       "      <td>5.0</td>\n",
       "      <td>73.3</td>\n",
       "      <td>3</td>\n",
       "      <td>NaN</td>\n",
       "      <td>...</td>\n",
       "      <td>13.83</td>\n",
       "      <td>NaN</td>\n",
       "      <td>Санкт-Петербург</td>\n",
       "      <td>24665.0</td>\n",
       "      <td>4232.0</td>\n",
       "      <td>1.0</td>\n",
       "      <td>796.0</td>\n",
       "      <td>3.0</td>\n",
       "      <td>381.0</td>\n",
       "      <td>NaN</td>\n",
       "    </tr>\n",
       "    <tr>\n",
       "      <th>23695</th>\n",
       "      <td>14</td>\n",
       "      <td>3100000.0</td>\n",
       "      <td>59.00</td>\n",
       "      <td>2018-01-15T00:00:00</td>\n",
       "      <td>3</td>\n",
       "      <td>NaN</td>\n",
       "      <td>5.0</td>\n",
       "      <td>38.0</td>\n",
       "      <td>4</td>\n",
       "      <td>NaN</td>\n",
       "      <td>...</td>\n",
       "      <td>8.50</td>\n",
       "      <td>NaN</td>\n",
       "      <td>Тосно</td>\n",
       "      <td>NaN</td>\n",
       "      <td>NaN</td>\n",
       "      <td>NaN</td>\n",
       "      <td>NaN</td>\n",
       "      <td>NaN</td>\n",
       "      <td>NaN</td>\n",
       "      <td>45.0</td>\n",
       "    </tr>\n",
       "    <tr>\n",
       "      <th>23696</th>\n",
       "      <td>18</td>\n",
       "      <td>2500000.0</td>\n",
       "      <td>56.70</td>\n",
       "      <td>2018-02-11T00:00:00</td>\n",
       "      <td>2</td>\n",
       "      <td>NaN</td>\n",
       "      <td>3.0</td>\n",
       "      <td>29.7</td>\n",
       "      <td>1</td>\n",
       "      <td>NaN</td>\n",
       "      <td>...</td>\n",
       "      <td>NaN</td>\n",
       "      <td>NaN</td>\n",
       "      <td>село Рождествено</td>\n",
       "      <td>NaN</td>\n",
       "      <td>NaN</td>\n",
       "      <td>NaN</td>\n",
       "      <td>NaN</td>\n",
       "      <td>NaN</td>\n",
       "      <td>NaN</td>\n",
       "      <td>NaN</td>\n",
       "    </tr>\n",
       "    <tr>\n",
       "      <th>23697</th>\n",
       "      <td>13</td>\n",
       "      <td>11475000.0</td>\n",
       "      <td>76.75</td>\n",
       "      <td>2017-03-28T00:00:00</td>\n",
       "      <td>2</td>\n",
       "      <td>3.00</td>\n",
       "      <td>17.0</td>\n",
       "      <td>NaN</td>\n",
       "      <td>12</td>\n",
       "      <td>NaN</td>\n",
       "      <td>...</td>\n",
       "      <td>23.30</td>\n",
       "      <td>2.0</td>\n",
       "      <td>Санкт-Петербург</td>\n",
       "      <td>39140.0</td>\n",
       "      <td>10364.0</td>\n",
       "      <td>2.0</td>\n",
       "      <td>173.0</td>\n",
       "      <td>3.0</td>\n",
       "      <td>196.0</td>\n",
       "      <td>602.0</td>\n",
       "    </tr>\n",
       "    <tr>\n",
       "      <th>23698</th>\n",
       "      <td>4</td>\n",
       "      <td>1350000.0</td>\n",
       "      <td>32.30</td>\n",
       "      <td>2017-07-21T00:00:00</td>\n",
       "      <td>1</td>\n",
       "      <td>2.50</td>\n",
       "      <td>5.0</td>\n",
       "      <td>12.3</td>\n",
       "      <td>1</td>\n",
       "      <td>NaN</td>\n",
       "      <td>...</td>\n",
       "      <td>9.00</td>\n",
       "      <td>NaN</td>\n",
       "      <td>поселок Новый Учхоз</td>\n",
       "      <td>NaN</td>\n",
       "      <td>NaN</td>\n",
       "      <td>NaN</td>\n",
       "      <td>NaN</td>\n",
       "      <td>NaN</td>\n",
       "      <td>NaN</td>\n",
       "      <td>NaN</td>\n",
       "    </tr>\n",
       "  </tbody>\n",
       "</table>\n",
       "<p>23699 rows × 22 columns</p>\n",
       "</div>"
      ],
      "text/plain": [
       "       total_images  last_price  total_area first_day_exposition  rooms  \\\n",
       "0                20  13000000.0      108.00  2019-03-07T00:00:00      3   \n",
       "1                 7   3350000.0       40.40  2018-12-04T00:00:00      1   \n",
       "2                10   5196000.0       56.00  2015-08-20T00:00:00      2   \n",
       "3                 0  64900000.0      159.00  2015-07-24T00:00:00      3   \n",
       "4                 2  10000000.0      100.00  2018-06-19T00:00:00      2   \n",
       "...             ...         ...         ...                  ...    ...   \n",
       "23694             9   9700000.0      133.81  2017-03-21T00:00:00      3   \n",
       "23695            14   3100000.0       59.00  2018-01-15T00:00:00      3   \n",
       "23696            18   2500000.0       56.70  2018-02-11T00:00:00      2   \n",
       "23697            13  11475000.0       76.75  2017-03-28T00:00:00      2   \n",
       "23698             4   1350000.0       32.30  2017-07-21T00:00:00      1   \n",
       "\n",
       "       ceiling_height  floors_total  living_area  floor is_apartment  ...  \\\n",
       "0                2.70          16.0         51.0      8          NaN  ...   \n",
       "1                 NaN          11.0         18.6      1          NaN  ...   \n",
       "2                 NaN           5.0         34.3      4          NaN  ...   \n",
       "3                 NaN          14.0          NaN      9          NaN  ...   \n",
       "4                3.03          14.0         32.0     13          NaN  ...   \n",
       "...               ...           ...          ...    ...          ...  ...   \n",
       "23694            3.70           5.0         73.3      3          NaN  ...   \n",
       "23695             NaN           5.0         38.0      4          NaN  ...   \n",
       "23696             NaN           3.0         29.7      1          NaN  ...   \n",
       "23697            3.00          17.0          NaN     12          NaN  ...   \n",
       "23698            2.50           5.0         12.3      1          NaN  ...   \n",
       "\n",
       "       kitchen_area  balcony        locality_name  airports_nearest  \\\n",
       "0             25.00      NaN      Санкт-Петербург           18863.0   \n",
       "1             11.00      2.0       посёлок Шушары           12817.0   \n",
       "2              8.30      0.0      Санкт-Петербург           21741.0   \n",
       "3               NaN      0.0      Санкт-Петербург           28098.0   \n",
       "4             41.00      NaN      Санкт-Петербург           31856.0   \n",
       "...             ...      ...                  ...               ...   \n",
       "23694         13.83      NaN      Санкт-Петербург           24665.0   \n",
       "23695          8.50      NaN                Тосно               NaN   \n",
       "23696           NaN      NaN     село Рождествено               NaN   \n",
       "23697         23.30      2.0      Санкт-Петербург           39140.0   \n",
       "23698          9.00      NaN  поселок Новый Учхоз               NaN   \n",
       "\n",
       "      cityCenters_nearest  parks_around3000  parks_nearest  ponds_around3000  \\\n",
       "0                 16028.0               1.0          482.0               2.0   \n",
       "1                 18603.0               0.0            NaN               0.0   \n",
       "2                 13933.0               1.0           90.0               2.0   \n",
       "3                  6800.0               2.0           84.0               3.0   \n",
       "4                  8098.0               2.0          112.0               1.0   \n",
       "...                   ...               ...            ...               ...   \n",
       "23694              4232.0               1.0          796.0               3.0   \n",
       "23695                 NaN               NaN            NaN               NaN   \n",
       "23696                 NaN               NaN            NaN               NaN   \n",
       "23697             10364.0               2.0          173.0               3.0   \n",
       "23698                 NaN               NaN            NaN               NaN   \n",
       "\n",
       "       ponds_nearest  days_exposition  \n",
       "0              755.0              NaN  \n",
       "1                NaN             81.0  \n",
       "2              574.0            558.0  \n",
       "3              234.0            424.0  \n",
       "4               48.0            121.0  \n",
       "...              ...              ...  \n",
       "23694          381.0              NaN  \n",
       "23695            NaN             45.0  \n",
       "23696            NaN              NaN  \n",
       "23697          196.0            602.0  \n",
       "23698            NaN              NaN  \n",
       "\n",
       "[23699 rows x 22 columns]"
      ]
     },
     "execution_count": 178,
     "metadata": {},
     "output_type": "execute_result"
    }
   ],
   "source": [
    "import pandas as pd\n",
    "import matplotlib.pyplot as plt\n",
    "import numpy as np\n",
    "\n",
    "df = pd.read_csv('/datasets/real_estate_data.csv', sep='\\t')\n",
    "df"
   ]
  },
  {
   "cell_type": "markdown",
   "metadata": {},
   "source": [
    "Проверим общую информацию датафрейма - типы строк, количество значений"
   ]
  },
  {
   "cell_type": "code",
   "execution_count": 180,
   "metadata": {},
   "outputs": [
    {
     "name": "stdout",
     "output_type": "stream",
     "text": [
      "<class 'pandas.core.frame.DataFrame'>\n",
      "RangeIndex: 23699 entries, 0 to 23698\n",
      "Data columns (total 22 columns):\n",
      " #   Column                Non-Null Count  Dtype  \n",
      "---  ------                --------------  -----  \n",
      " 0   total_images          23699 non-null  int64  \n",
      " 1   last_price            23699 non-null  float64\n",
      " 2   total_area            23699 non-null  float64\n",
      " 3   first_day_exposition  23699 non-null  object \n",
      " 4   rooms                 23699 non-null  int64  \n",
      " 5   ceiling_height        14504 non-null  float64\n",
      " 6   floors_total          23613 non-null  float64\n",
      " 7   living_area           21796 non-null  float64\n",
      " 8   floor                 23699 non-null  int64  \n",
      " 9   is_apartment          2775 non-null   object \n",
      " 10  studio                23699 non-null  bool   \n",
      " 11  open_plan             23699 non-null  bool   \n",
      " 12  kitchen_area          21421 non-null  float64\n",
      " 13  balcony               12180 non-null  float64\n",
      " 14  locality_name         23650 non-null  object \n",
      " 15  airports_nearest      18157 non-null  float64\n",
      " 16  cityCenters_nearest   18180 non-null  float64\n",
      " 17  parks_around3000      18181 non-null  float64\n",
      " 18  parks_nearest         8079 non-null   float64\n",
      " 19  ponds_around3000      18181 non-null  float64\n",
      " 20  ponds_nearest         9110 non-null   float64\n",
      " 21  days_exposition       20518 non-null  float64\n",
      "dtypes: bool(2), float64(14), int64(3), object(3)\n",
      "memory usage: 3.7+ MB\n"
     ]
    }
   ],
   "source": [
    "df.info()"
   ]
  },
  {
   "cell_type": "markdown",
   "metadata": {},
   "source": [
    "Итак, мы имеем 22 колонки и 23699 значений в каждой из них (вместе с пропущенными значениями). У некоторых колонок (*balcony,  floors_total, parks_around3000, ponds_around3000, ponds_around3000*) логично было бы заменить тип колонок с вещественного на целочисленный, после обработки всех пропусков. Также в условии проекта колонка *is_apartment* имеет булевой тип данных, а по факту это не так."
   ]
  },
  {
   "cell_type": "markdown",
   "metadata": {},
   "source": [
    "Выведем на экран числовые описания данных для колонок"
   ]
  },
  {
   "cell_type": "code",
   "execution_count": 182,
   "metadata": {},
   "outputs": [
    {
     "data": {
      "text/html": [
       "<div>\n",
       "<style scoped>\n",
       "    .dataframe tbody tr th:only-of-type {\n",
       "        vertical-align: middle;\n",
       "    }\n",
       "\n",
       "    .dataframe tbody tr th {\n",
       "        vertical-align: top;\n",
       "    }\n",
       "\n",
       "    .dataframe thead th {\n",
       "        text-align: right;\n",
       "    }\n",
       "</style>\n",
       "<table border=\"1\" class=\"dataframe\">\n",
       "  <thead>\n",
       "    <tr style=\"text-align: right;\">\n",
       "      <th></th>\n",
       "      <th>total_images</th>\n",
       "      <th>last_price</th>\n",
       "      <th>total_area</th>\n",
       "      <th>rooms</th>\n",
       "      <th>ceiling_height</th>\n",
       "      <th>floors_total</th>\n",
       "      <th>living_area</th>\n",
       "      <th>floor</th>\n",
       "      <th>kitchen_area</th>\n",
       "      <th>balcony</th>\n",
       "      <th>airports_nearest</th>\n",
       "      <th>cityCenters_nearest</th>\n",
       "      <th>parks_around3000</th>\n",
       "      <th>parks_nearest</th>\n",
       "      <th>ponds_around3000</th>\n",
       "      <th>ponds_nearest</th>\n",
       "      <th>days_exposition</th>\n",
       "    </tr>\n",
       "  </thead>\n",
       "  <tbody>\n",
       "    <tr>\n",
       "      <th>count</th>\n",
       "      <td>23699.000000</td>\n",
       "      <td>2.369900e+04</td>\n",
       "      <td>23699.000000</td>\n",
       "      <td>23699.000000</td>\n",
       "      <td>14504.000000</td>\n",
       "      <td>23613.000000</td>\n",
       "      <td>21796.000000</td>\n",
       "      <td>23699.000000</td>\n",
       "      <td>21421.000000</td>\n",
       "      <td>12180.000000</td>\n",
       "      <td>18157.000000</td>\n",
       "      <td>18180.000000</td>\n",
       "      <td>18181.000000</td>\n",
       "      <td>8079.000000</td>\n",
       "      <td>18181.000000</td>\n",
       "      <td>9110.000000</td>\n",
       "      <td>20518.000000</td>\n",
       "    </tr>\n",
       "    <tr>\n",
       "      <th>mean</th>\n",
       "      <td>9.858475</td>\n",
       "      <td>6.541549e+06</td>\n",
       "      <td>60.348651</td>\n",
       "      <td>2.070636</td>\n",
       "      <td>2.771499</td>\n",
       "      <td>10.673824</td>\n",
       "      <td>34.457852</td>\n",
       "      <td>5.892358</td>\n",
       "      <td>10.569807</td>\n",
       "      <td>1.150082</td>\n",
       "      <td>28793.672193</td>\n",
       "      <td>14191.277833</td>\n",
       "      <td>0.611408</td>\n",
       "      <td>490.804555</td>\n",
       "      <td>0.770255</td>\n",
       "      <td>517.980900</td>\n",
       "      <td>180.888634</td>\n",
       "    </tr>\n",
       "    <tr>\n",
       "      <th>std</th>\n",
       "      <td>5.682529</td>\n",
       "      <td>1.088701e+07</td>\n",
       "      <td>35.654083</td>\n",
       "      <td>1.078405</td>\n",
       "      <td>1.261056</td>\n",
       "      <td>6.597173</td>\n",
       "      <td>22.030445</td>\n",
       "      <td>4.885249</td>\n",
       "      <td>5.905438</td>\n",
       "      <td>1.071300</td>\n",
       "      <td>12630.880622</td>\n",
       "      <td>8608.386210</td>\n",
       "      <td>0.802074</td>\n",
       "      <td>342.317995</td>\n",
       "      <td>0.938346</td>\n",
       "      <td>277.720643</td>\n",
       "      <td>219.727988</td>\n",
       "    </tr>\n",
       "    <tr>\n",
       "      <th>min</th>\n",
       "      <td>0.000000</td>\n",
       "      <td>1.219000e+04</td>\n",
       "      <td>12.000000</td>\n",
       "      <td>0.000000</td>\n",
       "      <td>1.000000</td>\n",
       "      <td>1.000000</td>\n",
       "      <td>2.000000</td>\n",
       "      <td>1.000000</td>\n",
       "      <td>1.300000</td>\n",
       "      <td>0.000000</td>\n",
       "      <td>0.000000</td>\n",
       "      <td>181.000000</td>\n",
       "      <td>0.000000</td>\n",
       "      <td>1.000000</td>\n",
       "      <td>0.000000</td>\n",
       "      <td>13.000000</td>\n",
       "      <td>1.000000</td>\n",
       "    </tr>\n",
       "    <tr>\n",
       "      <th>25%</th>\n",
       "      <td>6.000000</td>\n",
       "      <td>3.400000e+06</td>\n",
       "      <td>40.000000</td>\n",
       "      <td>1.000000</td>\n",
       "      <td>2.520000</td>\n",
       "      <td>5.000000</td>\n",
       "      <td>18.600000</td>\n",
       "      <td>2.000000</td>\n",
       "      <td>7.000000</td>\n",
       "      <td>0.000000</td>\n",
       "      <td>18585.000000</td>\n",
       "      <td>9238.000000</td>\n",
       "      <td>0.000000</td>\n",
       "      <td>288.000000</td>\n",
       "      <td>0.000000</td>\n",
       "      <td>294.000000</td>\n",
       "      <td>45.000000</td>\n",
       "    </tr>\n",
       "    <tr>\n",
       "      <th>50%</th>\n",
       "      <td>9.000000</td>\n",
       "      <td>4.650000e+06</td>\n",
       "      <td>52.000000</td>\n",
       "      <td>2.000000</td>\n",
       "      <td>2.650000</td>\n",
       "      <td>9.000000</td>\n",
       "      <td>30.000000</td>\n",
       "      <td>4.000000</td>\n",
       "      <td>9.100000</td>\n",
       "      <td>1.000000</td>\n",
       "      <td>26726.000000</td>\n",
       "      <td>13098.500000</td>\n",
       "      <td>0.000000</td>\n",
       "      <td>455.000000</td>\n",
       "      <td>1.000000</td>\n",
       "      <td>502.000000</td>\n",
       "      <td>95.000000</td>\n",
       "    </tr>\n",
       "    <tr>\n",
       "      <th>75%</th>\n",
       "      <td>14.000000</td>\n",
       "      <td>6.800000e+06</td>\n",
       "      <td>69.900000</td>\n",
       "      <td>3.000000</td>\n",
       "      <td>2.800000</td>\n",
       "      <td>16.000000</td>\n",
       "      <td>42.300000</td>\n",
       "      <td>8.000000</td>\n",
       "      <td>12.000000</td>\n",
       "      <td>2.000000</td>\n",
       "      <td>37273.000000</td>\n",
       "      <td>16293.000000</td>\n",
       "      <td>1.000000</td>\n",
       "      <td>612.000000</td>\n",
       "      <td>1.000000</td>\n",
       "      <td>729.000000</td>\n",
       "      <td>232.000000</td>\n",
       "    </tr>\n",
       "    <tr>\n",
       "      <th>max</th>\n",
       "      <td>50.000000</td>\n",
       "      <td>7.630000e+08</td>\n",
       "      <td>900.000000</td>\n",
       "      <td>19.000000</td>\n",
       "      <td>100.000000</td>\n",
       "      <td>60.000000</td>\n",
       "      <td>409.700000</td>\n",
       "      <td>33.000000</td>\n",
       "      <td>112.000000</td>\n",
       "      <td>5.000000</td>\n",
       "      <td>84869.000000</td>\n",
       "      <td>65968.000000</td>\n",
       "      <td>3.000000</td>\n",
       "      <td>3190.000000</td>\n",
       "      <td>3.000000</td>\n",
       "      <td>1344.000000</td>\n",
       "      <td>1580.000000</td>\n",
       "    </tr>\n",
       "  </tbody>\n",
       "</table>\n",
       "</div>"
      ],
      "text/plain": [
       "       total_images    last_price    total_area         rooms  ceiling_height  \\\n",
       "count  23699.000000  2.369900e+04  23699.000000  23699.000000    14504.000000   \n",
       "mean       9.858475  6.541549e+06     60.348651      2.070636        2.771499   \n",
       "std        5.682529  1.088701e+07     35.654083      1.078405        1.261056   \n",
       "min        0.000000  1.219000e+04     12.000000      0.000000        1.000000   \n",
       "25%        6.000000  3.400000e+06     40.000000      1.000000        2.520000   \n",
       "50%        9.000000  4.650000e+06     52.000000      2.000000        2.650000   \n",
       "75%       14.000000  6.800000e+06     69.900000      3.000000        2.800000   \n",
       "max       50.000000  7.630000e+08    900.000000     19.000000      100.000000   \n",
       "\n",
       "       floors_total   living_area         floor  kitchen_area       balcony  \\\n",
       "count  23613.000000  21796.000000  23699.000000  21421.000000  12180.000000   \n",
       "mean      10.673824     34.457852      5.892358     10.569807      1.150082   \n",
       "std        6.597173     22.030445      4.885249      5.905438      1.071300   \n",
       "min        1.000000      2.000000      1.000000      1.300000      0.000000   \n",
       "25%        5.000000     18.600000      2.000000      7.000000      0.000000   \n",
       "50%        9.000000     30.000000      4.000000      9.100000      1.000000   \n",
       "75%       16.000000     42.300000      8.000000     12.000000      2.000000   \n",
       "max       60.000000    409.700000     33.000000    112.000000      5.000000   \n",
       "\n",
       "       airports_nearest  cityCenters_nearest  parks_around3000  parks_nearest  \\\n",
       "count      18157.000000         18180.000000      18181.000000    8079.000000   \n",
       "mean       28793.672193         14191.277833          0.611408     490.804555   \n",
       "std        12630.880622          8608.386210          0.802074     342.317995   \n",
       "min            0.000000           181.000000          0.000000       1.000000   \n",
       "25%        18585.000000          9238.000000          0.000000     288.000000   \n",
       "50%        26726.000000         13098.500000          0.000000     455.000000   \n",
       "75%        37273.000000         16293.000000          1.000000     612.000000   \n",
       "max        84869.000000         65968.000000          3.000000    3190.000000   \n",
       "\n",
       "       ponds_around3000  ponds_nearest  days_exposition  \n",
       "count      18181.000000    9110.000000     20518.000000  \n",
       "mean           0.770255     517.980900       180.888634  \n",
       "std            0.938346     277.720643       219.727988  \n",
       "min            0.000000      13.000000         1.000000  \n",
       "25%            0.000000     294.000000        45.000000  \n",
       "50%            1.000000     502.000000        95.000000  \n",
       "75%            1.000000     729.000000       232.000000  \n",
       "max            3.000000    1344.000000      1580.000000  "
      ]
     },
     "execution_count": 182,
     "metadata": {},
     "output_type": "execute_result"
    }
   ],
   "source": [
    "df.describe()"
   ]
  },
  {
   "cell_type": "markdown",
   "metadata": {},
   "source": [
    "### Вывод\n",
    "\n",
    "1. Высота потолков в квартирах варьируется от 1 до 100 метров\n",
    "\n",
    "2. Квартира с максимальной площадью 900 кв.м очень выбивается из списка. Нужно будет проверить все квартиры с большой площадью. Они будут очень увеличивать среднюю стоимость квадратного метра, так как все большие дома это элитный класс и одна такая большая квартира перебивает стоимость десятка других.\n",
    "\n",
    "3. Квартира с расстоянием до аэропорта 0 метров. Даже если квартира располагается рядом с аэропортом, расстояние все равно должно быть. Либо в городе вообще нет аэропорта, либо это ошибка.\n",
    "\n",
    "4. Квартира с количеством комнат - 0. Нужно будет проверить какая площадь в той квартире, и есть ли еще похожие ошибки и заменить на подходящее число комнат.\n",
    "\n",
    "5. Очень много пропусков."
   ]
  },
  {
   "cell_type": "markdown",
   "metadata": {},
   "source": [
    "## Предобработка данных"
   ]
  },
  {
   "cell_type": "code",
   "execution_count": 184,
   "metadata": {},
   "outputs": [
    {
     "data": {
      "text/plain": [
       "total_images                0\n",
       "last_price                  0\n",
       "total_area                  0\n",
       "first_day_exposition        0\n",
       "rooms                       0\n",
       "ceiling_height           9195\n",
       "floors_total               86\n",
       "living_area              1903\n",
       "floor                       0\n",
       "is_apartment            20924\n",
       "studio                      0\n",
       "open_plan                   0\n",
       "kitchen_area             2278\n",
       "balcony                 11519\n",
       "locality_name              49\n",
       "airports_nearest         5542\n",
       "cityCenters_nearest      5519\n",
       "parks_around3000         5518\n",
       "parks_nearest           15620\n",
       "ponds_around3000         5518\n",
       "ponds_nearest           14589\n",
       "days_exposition          3181\n",
       "dtype: int64"
      ]
     },
     "execution_count": 184,
     "metadata": {},
     "output_type": "execute_result"
    }
   ],
   "source": [
    "df.isna().sum()"
   ]
  },
  {
   "cell_type": "markdown",
   "metadata": {},
   "source": [
    "Заменим порядок нахождения столбцов для удобства восприятия таблицы"
   ]
  },
  {
   "cell_type": "code",
   "execution_count": 186,
   "metadata": {},
   "outputs": [],
   "source": [
    "df = df[['locality_name',\n",
    "         'total_area',\n",
    "         'rooms',\n",
    "         'last_price',\n",
    "         'floor',\n",
    "         'floors_total',\n",
    "         'living_area',\n",
    "         'kitchen_area',\n",
    "         'balcony',\n",
    "         'ceiling_height',\n",
    "         'is_apartment',\n",
    "         'studio',\n",
    "         'open_plan',\n",
    "         'first_day_exposition',\n",
    "         'days_exposition',\n",
    "         'total_images',\n",
    "         'airports_nearest',\n",
    "         'cityCenters_nearest',\n",
    "         'parks_around3000',\n",
    "         'parks_nearest',\n",
    "         'ponds_around3000',\n",
    "         'ponds_nearest'         \n",
    "]]"
   ]
  },
  {
   "cell_type": "code",
   "execution_count": 188,
   "metadata": {},
   "outputs": [
    {
     "data": {
      "text/html": [
       "<div>\n",
       "<style scoped>\n",
       "    .dataframe tbody tr th:only-of-type {\n",
       "        vertical-align: middle;\n",
       "    }\n",
       "\n",
       "    .dataframe tbody tr th {\n",
       "        vertical-align: top;\n",
       "    }\n",
       "\n",
       "    .dataframe thead th {\n",
       "        text-align: right;\n",
       "    }\n",
       "</style>\n",
       "<table border=\"1\" class=\"dataframe\">\n",
       "  <thead>\n",
       "    <tr style=\"text-align: right;\">\n",
       "      <th></th>\n",
       "      <th>locality_name</th>\n",
       "      <th>total_area</th>\n",
       "      <th>rooms</th>\n",
       "      <th>last_price</th>\n",
       "      <th>floor</th>\n",
       "      <th>floors_total</th>\n",
       "      <th>living_area</th>\n",
       "      <th>kitchen_area</th>\n",
       "      <th>balcony</th>\n",
       "      <th>ceiling_height</th>\n",
       "      <th>...</th>\n",
       "      <th>open_plan</th>\n",
       "      <th>first_day_exposition</th>\n",
       "      <th>days_exposition</th>\n",
       "      <th>total_images</th>\n",
       "      <th>airports_nearest</th>\n",
       "      <th>cityCenters_nearest</th>\n",
       "      <th>parks_around3000</th>\n",
       "      <th>parks_nearest</th>\n",
       "      <th>ponds_around3000</th>\n",
       "      <th>ponds_nearest</th>\n",
       "    </tr>\n",
       "  </thead>\n",
       "  <tbody>\n",
       "    <tr>\n",
       "      <th>0</th>\n",
       "      <td>Санкт-Петербург</td>\n",
       "      <td>108.0</td>\n",
       "      <td>3</td>\n",
       "      <td>13000000.0</td>\n",
       "      <td>8</td>\n",
       "      <td>16.0</td>\n",
       "      <td>51.0</td>\n",
       "      <td>25.0</td>\n",
       "      <td>NaN</td>\n",
       "      <td>2.70</td>\n",
       "      <td>...</td>\n",
       "      <td>False</td>\n",
       "      <td>2019-03-07T00:00:00</td>\n",
       "      <td>NaN</td>\n",
       "      <td>20</td>\n",
       "      <td>18863.0</td>\n",
       "      <td>16028.0</td>\n",
       "      <td>1.0</td>\n",
       "      <td>482.0</td>\n",
       "      <td>2.0</td>\n",
       "      <td>755.0</td>\n",
       "    </tr>\n",
       "    <tr>\n",
       "      <th>1</th>\n",
       "      <td>посёлок Шушары</td>\n",
       "      <td>40.4</td>\n",
       "      <td>1</td>\n",
       "      <td>3350000.0</td>\n",
       "      <td>1</td>\n",
       "      <td>11.0</td>\n",
       "      <td>18.6</td>\n",
       "      <td>11.0</td>\n",
       "      <td>2.0</td>\n",
       "      <td>NaN</td>\n",
       "      <td>...</td>\n",
       "      <td>False</td>\n",
       "      <td>2018-12-04T00:00:00</td>\n",
       "      <td>81.0</td>\n",
       "      <td>7</td>\n",
       "      <td>12817.0</td>\n",
       "      <td>18603.0</td>\n",
       "      <td>0.0</td>\n",
       "      <td>NaN</td>\n",
       "      <td>0.0</td>\n",
       "      <td>NaN</td>\n",
       "    </tr>\n",
       "    <tr>\n",
       "      <th>2</th>\n",
       "      <td>Санкт-Петербург</td>\n",
       "      <td>56.0</td>\n",
       "      <td>2</td>\n",
       "      <td>5196000.0</td>\n",
       "      <td>4</td>\n",
       "      <td>5.0</td>\n",
       "      <td>34.3</td>\n",
       "      <td>8.3</td>\n",
       "      <td>0.0</td>\n",
       "      <td>NaN</td>\n",
       "      <td>...</td>\n",
       "      <td>False</td>\n",
       "      <td>2015-08-20T00:00:00</td>\n",
       "      <td>558.0</td>\n",
       "      <td>10</td>\n",
       "      <td>21741.0</td>\n",
       "      <td>13933.0</td>\n",
       "      <td>1.0</td>\n",
       "      <td>90.0</td>\n",
       "      <td>2.0</td>\n",
       "      <td>574.0</td>\n",
       "    </tr>\n",
       "    <tr>\n",
       "      <th>3</th>\n",
       "      <td>Санкт-Петербург</td>\n",
       "      <td>159.0</td>\n",
       "      <td>3</td>\n",
       "      <td>64900000.0</td>\n",
       "      <td>9</td>\n",
       "      <td>14.0</td>\n",
       "      <td>NaN</td>\n",
       "      <td>NaN</td>\n",
       "      <td>0.0</td>\n",
       "      <td>NaN</td>\n",
       "      <td>...</td>\n",
       "      <td>False</td>\n",
       "      <td>2015-07-24T00:00:00</td>\n",
       "      <td>424.0</td>\n",
       "      <td>0</td>\n",
       "      <td>28098.0</td>\n",
       "      <td>6800.0</td>\n",
       "      <td>2.0</td>\n",
       "      <td>84.0</td>\n",
       "      <td>3.0</td>\n",
       "      <td>234.0</td>\n",
       "    </tr>\n",
       "    <tr>\n",
       "      <th>4</th>\n",
       "      <td>Санкт-Петербург</td>\n",
       "      <td>100.0</td>\n",
       "      <td>2</td>\n",
       "      <td>10000000.0</td>\n",
       "      <td>13</td>\n",
       "      <td>14.0</td>\n",
       "      <td>32.0</td>\n",
       "      <td>41.0</td>\n",
       "      <td>NaN</td>\n",
       "      <td>3.03</td>\n",
       "      <td>...</td>\n",
       "      <td>False</td>\n",
       "      <td>2018-06-19T00:00:00</td>\n",
       "      <td>121.0</td>\n",
       "      <td>2</td>\n",
       "      <td>31856.0</td>\n",
       "      <td>8098.0</td>\n",
       "      <td>2.0</td>\n",
       "      <td>112.0</td>\n",
       "      <td>1.0</td>\n",
       "      <td>48.0</td>\n",
       "    </tr>\n",
       "  </tbody>\n",
       "</table>\n",
       "<p>5 rows × 22 columns</p>\n",
       "</div>"
      ],
      "text/plain": [
       "     locality_name  total_area  rooms  last_price  floor  floors_total  \\\n",
       "0  Санкт-Петербург       108.0      3  13000000.0      8          16.0   \n",
       "1   посёлок Шушары        40.4      1   3350000.0      1          11.0   \n",
       "2  Санкт-Петербург        56.0      2   5196000.0      4           5.0   \n",
       "3  Санкт-Петербург       159.0      3  64900000.0      9          14.0   \n",
       "4  Санкт-Петербург       100.0      2  10000000.0     13          14.0   \n",
       "\n",
       "   living_area  kitchen_area  balcony  ceiling_height  ... open_plan  \\\n",
       "0         51.0          25.0      NaN            2.70  ...     False   \n",
       "1         18.6          11.0      2.0             NaN  ...     False   \n",
       "2         34.3           8.3      0.0             NaN  ...     False   \n",
       "3          NaN           NaN      0.0             NaN  ...     False   \n",
       "4         32.0          41.0      NaN            3.03  ...     False   \n",
       "\n",
       "   first_day_exposition  days_exposition total_images  airports_nearest  \\\n",
       "0   2019-03-07T00:00:00              NaN           20           18863.0   \n",
       "1   2018-12-04T00:00:00             81.0            7           12817.0   \n",
       "2   2015-08-20T00:00:00            558.0           10           21741.0   \n",
       "3   2015-07-24T00:00:00            424.0            0           28098.0   \n",
       "4   2018-06-19T00:00:00            121.0            2           31856.0   \n",
       "\n",
       "   cityCenters_nearest  parks_around3000  parks_nearest  ponds_around3000  \\\n",
       "0              16028.0               1.0          482.0               2.0   \n",
       "1              18603.0               0.0            NaN               0.0   \n",
       "2              13933.0               1.0           90.0               2.0   \n",
       "3               6800.0               2.0           84.0               3.0   \n",
       "4               8098.0               2.0          112.0               1.0   \n",
       "\n",
       "   ponds_nearest  \n",
       "0          755.0  \n",
       "1            NaN  \n",
       "2          574.0  \n",
       "3          234.0  \n",
       "4           48.0  \n",
       "\n",
       "[5 rows x 22 columns]"
      ]
     },
     "execution_count": 188,
     "metadata": {},
     "output_type": "execute_result"
    }
   ],
   "source": [
    "df.head()"
   ]
  },
  {
   "cell_type": "markdown",
   "metadata": {},
   "source": [
    "### Замена пропущенных значений"
   ]
  },
  {
   "cell_type": "markdown",
   "metadata": {},
   "source": [
    "Значение количества отсутствующих балконов в квартирах заменим нулями\n",
    "\n"
   ]
  },
  {
   "cell_type": "code",
   "execution_count": 189,
   "metadata": {},
   "outputs": [],
   "source": [
    "df['balcony'] = df['balcony'].fillna(0)"
   ]
  },
  {
   "cell_type": "markdown",
   "metadata": {},
   "source": [
    "Поработаем со столбцом is_apartment(апартаменты). Проверим какие значения включает столбец"
   ]
  },
  {
   "cell_type": "code",
   "execution_count": 190,
   "metadata": {},
   "outputs": [
    {
     "data": {
      "text/plain": [
       "array([nan, False, True], dtype=object)"
      ]
     },
     "execution_count": 190,
     "metadata": {},
     "output_type": "execute_result"
    }
   ],
   "source": [
    "df['is_apartment'].unique()"
   ]
  },
  {
   "cell_type": "markdown",
   "metadata": {},
   "source": [
    "То есть, апартамены могут принимать значения Правда, Ложь, пропущенные значения. Логично предположить, что при пустом значении в столбце апартамены, его можно заменить на False "
   ]
  },
  {
   "cell_type": "code",
   "execution_count": 191,
   "metadata": {},
   "outputs": [],
   "source": [
    "df['is_apartment'] = df['is_apartment'].fillna(False)"
   ]
  },
  {
   "cell_type": "markdown",
   "metadata": {},
   "source": [
    "Поработаем со столбцом kitchen_area. Пропущено 2278 значений из 23699, то есть менее 10%. Площади кухни в квартирах имеют примерно одинаковое значение. 6-15 м2. Заполним недостающие значение средним арифметическим значением по данному столбцу"
   ]
  },
  {
   "cell_type": "code",
   "execution_count": 192,
   "metadata": {},
   "outputs": [],
   "source": [
    "apartment_mean = df['kitchen_area'].mean()\n",
    "df['kitchen_area'] = df['kitchen_area'].fillna(apartment_mean)"
   ]
  },
  {
   "cell_type": "markdown",
   "metadata": {},
   "source": [
    "Высота потолков ceiling_height. Согласно общей таблице, пропущено около 40% значений высоты потолков. При этом максимальная высота потолка 100 м. Похоже на ошибку\n",
    "\n",
    "Посмотрим сколько в датафрейме значений средней высоты потолка в размере 3 метра\n"
   ]
  },
  {
   "cell_type": "code",
   "execution_count": 193,
   "metadata": {},
   "outputs": [
    {
     "data": {
      "text/html": [
       "<div>\n",
       "<style scoped>\n",
       "    .dataframe tbody tr th:only-of-type {\n",
       "        vertical-align: middle;\n",
       "    }\n",
       "\n",
       "    .dataframe tbody tr th {\n",
       "        vertical-align: top;\n",
       "    }\n",
       "\n",
       "    .dataframe thead th {\n",
       "        text-align: right;\n",
       "    }\n",
       "</style>\n",
       "<table border=\"1\" class=\"dataframe\">\n",
       "  <thead>\n",
       "    <tr style=\"text-align: right;\">\n",
       "      <th></th>\n",
       "      <th>locality_name</th>\n",
       "      <th>total_area</th>\n",
       "      <th>rooms</th>\n",
       "      <th>last_price</th>\n",
       "      <th>floor</th>\n",
       "      <th>floors_total</th>\n",
       "      <th>living_area</th>\n",
       "      <th>kitchen_area</th>\n",
       "      <th>balcony</th>\n",
       "      <th>ceiling_height</th>\n",
       "      <th>...</th>\n",
       "      <th>open_plan</th>\n",
       "      <th>first_day_exposition</th>\n",
       "      <th>days_exposition</th>\n",
       "      <th>total_images</th>\n",
       "      <th>airports_nearest</th>\n",
       "      <th>cityCenters_nearest</th>\n",
       "      <th>parks_around3000</th>\n",
       "      <th>parks_nearest</th>\n",
       "      <th>ponds_around3000</th>\n",
       "      <th>ponds_nearest</th>\n",
       "    </tr>\n",
       "  </thead>\n",
       "  <tbody>\n",
       "    <tr>\n",
       "      <th>22869</th>\n",
       "      <td>Санкт-Петербург</td>\n",
       "      <td>25.0</td>\n",
       "      <td>1</td>\n",
       "      <td>15000000.0</td>\n",
       "      <td>5</td>\n",
       "      <td>5.0</td>\n",
       "      <td>14.0</td>\n",
       "      <td>11.000000</td>\n",
       "      <td>5.0</td>\n",
       "      <td>100.0</td>\n",
       "      <td>...</td>\n",
       "      <td>False</td>\n",
       "      <td>2018-07-25T00:00:00</td>\n",
       "      <td>19.0</td>\n",
       "      <td>0</td>\n",
       "      <td>34963.0</td>\n",
       "      <td>8283.0</td>\n",
       "      <td>1.0</td>\n",
       "      <td>223.0</td>\n",
       "      <td>3.0</td>\n",
       "      <td>30.0</td>\n",
       "    </tr>\n",
       "    <tr>\n",
       "      <th>22336</th>\n",
       "      <td>Санкт-Петербург</td>\n",
       "      <td>92.4</td>\n",
       "      <td>2</td>\n",
       "      <td>9999000.0</td>\n",
       "      <td>5</td>\n",
       "      <td>6.0</td>\n",
       "      <td>55.5</td>\n",
       "      <td>16.500000</td>\n",
       "      <td>4.0</td>\n",
       "      <td>32.0</td>\n",
       "      <td>...</td>\n",
       "      <td>False</td>\n",
       "      <td>2019-04-05T00:00:00</td>\n",
       "      <td>NaN</td>\n",
       "      <td>19</td>\n",
       "      <td>18838.0</td>\n",
       "      <td>3506.0</td>\n",
       "      <td>0.0</td>\n",
       "      <td>NaN</td>\n",
       "      <td>3.0</td>\n",
       "      <td>511.0</td>\n",
       "    </tr>\n",
       "    <tr>\n",
       "      <th>3148</th>\n",
       "      <td>Волхов</td>\n",
       "      <td>75.0</td>\n",
       "      <td>3</td>\n",
       "      <td>2900000.0</td>\n",
       "      <td>2</td>\n",
       "      <td>3.0</td>\n",
       "      <td>53.0</td>\n",
       "      <td>8.000000</td>\n",
       "      <td>0.0</td>\n",
       "      <td>32.0</td>\n",
       "      <td>...</td>\n",
       "      <td>False</td>\n",
       "      <td>2018-11-12T00:00:00</td>\n",
       "      <td>NaN</td>\n",
       "      <td>14</td>\n",
       "      <td>NaN</td>\n",
       "      <td>NaN</td>\n",
       "      <td>NaN</td>\n",
       "      <td>NaN</td>\n",
       "      <td>NaN</td>\n",
       "      <td>NaN</td>\n",
       "    </tr>\n",
       "    <tr>\n",
       "      <th>21377</th>\n",
       "      <td>Санкт-Петербург</td>\n",
       "      <td>42.0</td>\n",
       "      <td>1</td>\n",
       "      <td>4900000.0</td>\n",
       "      <td>19</td>\n",
       "      <td>24.0</td>\n",
       "      <td>37.7</td>\n",
       "      <td>11.000000</td>\n",
       "      <td>2.0</td>\n",
       "      <td>27.5</td>\n",
       "      <td>...</td>\n",
       "      <td>False</td>\n",
       "      <td>2017-04-18T00:00:00</td>\n",
       "      <td>61.0</td>\n",
       "      <td>19</td>\n",
       "      <td>42742.0</td>\n",
       "      <td>9760.0</td>\n",
       "      <td>0.0</td>\n",
       "      <td>NaN</td>\n",
       "      <td>0.0</td>\n",
       "      <td>NaN</td>\n",
       "    </tr>\n",
       "    <tr>\n",
       "      <th>22938</th>\n",
       "      <td>деревня Нижняя</td>\n",
       "      <td>98.0</td>\n",
       "      <td>4</td>\n",
       "      <td>4000000.0</td>\n",
       "      <td>2</td>\n",
       "      <td>2.0</td>\n",
       "      <td>73.0</td>\n",
       "      <td>9.000000</td>\n",
       "      <td>1.0</td>\n",
       "      <td>27.0</td>\n",
       "      <td>...</td>\n",
       "      <td>False</td>\n",
       "      <td>2018-03-15T00:00:00</td>\n",
       "      <td>27.0</td>\n",
       "      <td>14</td>\n",
       "      <td>NaN</td>\n",
       "      <td>NaN</td>\n",
       "      <td>NaN</td>\n",
       "      <td>NaN</td>\n",
       "      <td>NaN</td>\n",
       "      <td>NaN</td>\n",
       "    </tr>\n",
       "    <tr>\n",
       "      <th>10773</th>\n",
       "      <td>посёлок Мурино</td>\n",
       "      <td>58.0</td>\n",
       "      <td>2</td>\n",
       "      <td>3800000.0</td>\n",
       "      <td>3</td>\n",
       "      <td>10.0</td>\n",
       "      <td>30.1</td>\n",
       "      <td>8.100000</td>\n",
       "      <td>2.0</td>\n",
       "      <td>27.0</td>\n",
       "      <td>...</td>\n",
       "      <td>False</td>\n",
       "      <td>2017-10-13T00:00:00</td>\n",
       "      <td>71.0</td>\n",
       "      <td>8</td>\n",
       "      <td>NaN</td>\n",
       "      <td>NaN</td>\n",
       "      <td>NaN</td>\n",
       "      <td>NaN</td>\n",
       "      <td>NaN</td>\n",
       "      <td>NaN</td>\n",
       "    </tr>\n",
       "    <tr>\n",
       "      <th>21824</th>\n",
       "      <td>городской поселок Большая Ижора</td>\n",
       "      <td>44.0</td>\n",
       "      <td>2</td>\n",
       "      <td>2450000.0</td>\n",
       "      <td>2</td>\n",
       "      <td>2.0</td>\n",
       "      <td>38.0</td>\n",
       "      <td>8.600000</td>\n",
       "      <td>2.0</td>\n",
       "      <td>27.0</td>\n",
       "      <td>...</td>\n",
       "      <td>False</td>\n",
       "      <td>2019-02-12T00:00:00</td>\n",
       "      <td>NaN</td>\n",
       "      <td>20</td>\n",
       "      <td>NaN</td>\n",
       "      <td>NaN</td>\n",
       "      <td>NaN</td>\n",
       "      <td>NaN</td>\n",
       "      <td>NaN</td>\n",
       "      <td>NaN</td>\n",
       "    </tr>\n",
       "    <tr>\n",
       "      <th>4876</th>\n",
       "      <td>посёлок Мурино</td>\n",
       "      <td>25.0</td>\n",
       "      <td>0</td>\n",
       "      <td>3000000.0</td>\n",
       "      <td>17</td>\n",
       "      <td>25.0</td>\n",
       "      <td>17.0</td>\n",
       "      <td>10.569807</td>\n",
       "      <td>2.0</td>\n",
       "      <td>27.0</td>\n",
       "      <td>...</td>\n",
       "      <td>True</td>\n",
       "      <td>2017-09-27T00:00:00</td>\n",
       "      <td>28.0</td>\n",
       "      <td>7</td>\n",
       "      <td>NaN</td>\n",
       "      <td>NaN</td>\n",
       "      <td>NaN</td>\n",
       "      <td>NaN</td>\n",
       "      <td>NaN</td>\n",
       "      <td>NaN</td>\n",
       "    </tr>\n",
       "    <tr>\n",
       "      <th>20478</th>\n",
       "      <td>Санкт-Петербург</td>\n",
       "      <td>45.0</td>\n",
       "      <td>1</td>\n",
       "      <td>8000000.0</td>\n",
       "      <td>2</td>\n",
       "      <td>4.0</td>\n",
       "      <td>22.0</td>\n",
       "      <td>10.000000</td>\n",
       "      <td>1.0</td>\n",
       "      <td>27.0</td>\n",
       "      <td>...</td>\n",
       "      <td>False</td>\n",
       "      <td>2017-07-18T00:00:00</td>\n",
       "      <td>429.0</td>\n",
       "      <td>11</td>\n",
       "      <td>18975.0</td>\n",
       "      <td>3246.0</td>\n",
       "      <td>0.0</td>\n",
       "      <td>NaN</td>\n",
       "      <td>3.0</td>\n",
       "      <td>449.0</td>\n",
       "    </tr>\n",
       "    <tr>\n",
       "      <th>5246</th>\n",
       "      <td>деревня Мины</td>\n",
       "      <td>54.0</td>\n",
       "      <td>2</td>\n",
       "      <td>2500000.0</td>\n",
       "      <td>3</td>\n",
       "      <td>5.0</td>\n",
       "      <td>30.0</td>\n",
       "      <td>9.000000</td>\n",
       "      <td>2.0</td>\n",
       "      <td>27.0</td>\n",
       "      <td>...</td>\n",
       "      <td>False</td>\n",
       "      <td>2017-10-13T00:00:00</td>\n",
       "      <td>540.0</td>\n",
       "      <td>0</td>\n",
       "      <td>NaN</td>\n",
       "      <td>NaN</td>\n",
       "      <td>NaN</td>\n",
       "      <td>NaN</td>\n",
       "      <td>NaN</td>\n",
       "      <td>NaN</td>\n",
       "    </tr>\n",
       "    <tr>\n",
       "      <th>5807</th>\n",
       "      <td>Санкт-Петербург</td>\n",
       "      <td>80.0</td>\n",
       "      <td>2</td>\n",
       "      <td>8150000.0</td>\n",
       "      <td>13</td>\n",
       "      <td>36.0</td>\n",
       "      <td>41.0</td>\n",
       "      <td>12.000000</td>\n",
       "      <td>5.0</td>\n",
       "      <td>27.0</td>\n",
       "      <td>...</td>\n",
       "      <td>False</td>\n",
       "      <td>2019-01-09T00:00:00</td>\n",
       "      <td>38.0</td>\n",
       "      <td>17</td>\n",
       "      <td>18732.0</td>\n",
       "      <td>20444.0</td>\n",
       "      <td>0.0</td>\n",
       "      <td>NaN</td>\n",
       "      <td>3.0</td>\n",
       "      <td>80.0</td>\n",
       "    </tr>\n",
       "    <tr>\n",
       "      <th>17857</th>\n",
       "      <td>Санкт-Петербург</td>\n",
       "      <td>56.0</td>\n",
       "      <td>3</td>\n",
       "      <td>3900000.0</td>\n",
       "      <td>4</td>\n",
       "      <td>5.0</td>\n",
       "      <td>33.0</td>\n",
       "      <td>10.569807</td>\n",
       "      <td>0.0</td>\n",
       "      <td>27.0</td>\n",
       "      <td>...</td>\n",
       "      <td>False</td>\n",
       "      <td>2017-12-22T00:00:00</td>\n",
       "      <td>73.0</td>\n",
       "      <td>1</td>\n",
       "      <td>41030.0</td>\n",
       "      <td>15543.0</td>\n",
       "      <td>0.0</td>\n",
       "      <td>NaN</td>\n",
       "      <td>0.0</td>\n",
       "      <td>NaN</td>\n",
       "    </tr>\n",
       "    <tr>\n",
       "      <th>5669</th>\n",
       "      <td>Санкт-Петербург</td>\n",
       "      <td>50.0</td>\n",
       "      <td>2</td>\n",
       "      <td>4400000.0</td>\n",
       "      <td>3</td>\n",
       "      <td>9.0</td>\n",
       "      <td>21.3</td>\n",
       "      <td>7.000000</td>\n",
       "      <td>2.0</td>\n",
       "      <td>26.0</td>\n",
       "      <td>...</td>\n",
       "      <td>False</td>\n",
       "      <td>2017-08-08T00:00:00</td>\n",
       "      <td>267.0</td>\n",
       "      <td>4</td>\n",
       "      <td>28981.0</td>\n",
       "      <td>10912.0</td>\n",
       "      <td>1.0</td>\n",
       "      <td>305.0</td>\n",
       "      <td>0.0</td>\n",
       "      <td>NaN</td>\n",
       "    </tr>\n",
       "    <tr>\n",
       "      <th>18545</th>\n",
       "      <td>Санкт-Петербург</td>\n",
       "      <td>43.0</td>\n",
       "      <td>2</td>\n",
       "      <td>3750000.0</td>\n",
       "      <td>3</td>\n",
       "      <td>5.0</td>\n",
       "      <td>29.0</td>\n",
       "      <td>10.569807</td>\n",
       "      <td>0.0</td>\n",
       "      <td>25.0</td>\n",
       "      <td>...</td>\n",
       "      <td>False</td>\n",
       "      <td>2019-03-18T00:00:00</td>\n",
       "      <td>12.0</td>\n",
       "      <td>6</td>\n",
       "      <td>27054.0</td>\n",
       "      <td>8033.0</td>\n",
       "      <td>1.0</td>\n",
       "      <td>540.0</td>\n",
       "      <td>0.0</td>\n",
       "      <td>NaN</td>\n",
       "    </tr>\n",
       "    <tr>\n",
       "      <th>14382</th>\n",
       "      <td>поселок Новый Свет</td>\n",
       "      <td>35.0</td>\n",
       "      <td>1</td>\n",
       "      <td>1700000.0</td>\n",
       "      <td>2</td>\n",
       "      <td>5.0</td>\n",
       "      <td>20.0</td>\n",
       "      <td>8.000000</td>\n",
       "      <td>1.0</td>\n",
       "      <td>25.0</td>\n",
       "      <td>...</td>\n",
       "      <td>False</td>\n",
       "      <td>2015-12-04T00:00:00</td>\n",
       "      <td>206.0</td>\n",
       "      <td>9</td>\n",
       "      <td>NaN</td>\n",
       "      <td>NaN</td>\n",
       "      <td>NaN</td>\n",
       "      <td>NaN</td>\n",
       "      <td>NaN</td>\n",
       "      <td>NaN</td>\n",
       "    </tr>\n",
       "    <tr>\n",
       "      <th>11285</th>\n",
       "      <td>Луга</td>\n",
       "      <td>37.0</td>\n",
       "      <td>1</td>\n",
       "      <td>1950000.0</td>\n",
       "      <td>4</td>\n",
       "      <td>5.0</td>\n",
       "      <td>17.0</td>\n",
       "      <td>9.000000</td>\n",
       "      <td>2.0</td>\n",
       "      <td>25.0</td>\n",
       "      <td>...</td>\n",
       "      <td>False</td>\n",
       "      <td>2019-03-20T00:00:00</td>\n",
       "      <td>18.0</td>\n",
       "      <td>0</td>\n",
       "      <td>NaN</td>\n",
       "      <td>NaN</td>\n",
       "      <td>NaN</td>\n",
       "      <td>NaN</td>\n",
       "      <td>NaN</td>\n",
       "      <td>NaN</td>\n",
       "    </tr>\n",
       "    <tr>\n",
       "      <th>355</th>\n",
       "      <td>Гатчина</td>\n",
       "      <td>55.2</td>\n",
       "      <td>2</td>\n",
       "      <td>3600000.0</td>\n",
       "      <td>2</td>\n",
       "      <td>5.0</td>\n",
       "      <td>32.0</td>\n",
       "      <td>10.569807</td>\n",
       "      <td>2.0</td>\n",
       "      <td>25.0</td>\n",
       "      <td>...</td>\n",
       "      <td>False</td>\n",
       "      <td>2018-07-12T00:00:00</td>\n",
       "      <td>259.0</td>\n",
       "      <td>17</td>\n",
       "      <td>NaN</td>\n",
       "      <td>NaN</td>\n",
       "      <td>NaN</td>\n",
       "      <td>NaN</td>\n",
       "      <td>NaN</td>\n",
       "      <td>NaN</td>\n",
       "    </tr>\n",
       "    <tr>\n",
       "      <th>9379</th>\n",
       "      <td>Санкт-Петербург</td>\n",
       "      <td>42.0</td>\n",
       "      <td>3</td>\n",
       "      <td>3950000.0</td>\n",
       "      <td>2</td>\n",
       "      <td>5.0</td>\n",
       "      <td>30.0</td>\n",
       "      <td>5.200000</td>\n",
       "      <td>0.0</td>\n",
       "      <td>25.0</td>\n",
       "      <td>...</td>\n",
       "      <td>False</td>\n",
       "      <td>2017-03-26T00:00:00</td>\n",
       "      <td>NaN</td>\n",
       "      <td>5</td>\n",
       "      <td>11647.0</td>\n",
       "      <td>13581.0</td>\n",
       "      <td>0.0</td>\n",
       "      <td>NaN</td>\n",
       "      <td>0.0</td>\n",
       "      <td>NaN</td>\n",
       "    </tr>\n",
       "    <tr>\n",
       "      <th>4643</th>\n",
       "      <td>Санкт-Петербург</td>\n",
       "      <td>45.0</td>\n",
       "      <td>2</td>\n",
       "      <td>4300000.0</td>\n",
       "      <td>2</td>\n",
       "      <td>9.0</td>\n",
       "      <td>30.0</td>\n",
       "      <td>7.000000</td>\n",
       "      <td>1.0</td>\n",
       "      <td>25.0</td>\n",
       "      <td>...</td>\n",
       "      <td>False</td>\n",
       "      <td>2018-02-01T00:00:00</td>\n",
       "      <td>181.0</td>\n",
       "      <td>0</td>\n",
       "      <td>12016.0</td>\n",
       "      <td>13256.0</td>\n",
       "      <td>1.0</td>\n",
       "      <td>658.0</td>\n",
       "      <td>1.0</td>\n",
       "      <td>331.0</td>\n",
       "    </tr>\n",
       "    <tr>\n",
       "      <th>6246</th>\n",
       "      <td>Кронштадт</td>\n",
       "      <td>44.4</td>\n",
       "      <td>2</td>\n",
       "      <td>3300000.0</td>\n",
       "      <td>5</td>\n",
       "      <td>5.0</td>\n",
       "      <td>31.3</td>\n",
       "      <td>5.700000</td>\n",
       "      <td>0.0</td>\n",
       "      <td>25.0</td>\n",
       "      <td>...</td>\n",
       "      <td>False</td>\n",
       "      <td>2019-03-25T00:00:00</td>\n",
       "      <td>NaN</td>\n",
       "      <td>6</td>\n",
       "      <td>68923.0</td>\n",
       "      <td>50649.0</td>\n",
       "      <td>1.0</td>\n",
       "      <td>417.0</td>\n",
       "      <td>2.0</td>\n",
       "      <td>73.0</td>\n",
       "    </tr>\n",
       "    <tr>\n",
       "      <th>5076</th>\n",
       "      <td>Санкт-Петербург</td>\n",
       "      <td>30.5</td>\n",
       "      <td>1</td>\n",
       "      <td>3850000.0</td>\n",
       "      <td>1</td>\n",
       "      <td>5.0</td>\n",
       "      <td>19.5</td>\n",
       "      <td>5.500000</td>\n",
       "      <td>0.0</td>\n",
       "      <td>24.0</td>\n",
       "      <td>...</td>\n",
       "      <td>False</td>\n",
       "      <td>2018-10-03T00:00:00</td>\n",
       "      <td>7.0</td>\n",
       "      <td>0</td>\n",
       "      <td>29686.0</td>\n",
       "      <td>8389.0</td>\n",
       "      <td>3.0</td>\n",
       "      <td>397.0</td>\n",
       "      <td>1.0</td>\n",
       "      <td>578.0</td>\n",
       "    </tr>\n",
       "    <tr>\n",
       "      <th>20507</th>\n",
       "      <td>Санкт-Петербург</td>\n",
       "      <td>60.0</td>\n",
       "      <td>2</td>\n",
       "      <td>5950000.0</td>\n",
       "      <td>11</td>\n",
       "      <td>14.0</td>\n",
       "      <td>35.0</td>\n",
       "      <td>13.000000</td>\n",
       "      <td>1.0</td>\n",
       "      <td>22.6</td>\n",
       "      <td>...</td>\n",
       "      <td>False</td>\n",
       "      <td>2018-02-19T00:00:00</td>\n",
       "      <td>40.0</td>\n",
       "      <td>12</td>\n",
       "      <td>27028.0</td>\n",
       "      <td>12570.0</td>\n",
       "      <td>0.0</td>\n",
       "      <td>NaN</td>\n",
       "      <td>0.0</td>\n",
       "      <td>NaN</td>\n",
       "    </tr>\n",
       "    <tr>\n",
       "      <th>17496</th>\n",
       "      <td>Санкт-Петербург</td>\n",
       "      <td>92.9</td>\n",
       "      <td>3</td>\n",
       "      <td>6700000.0</td>\n",
       "      <td>14</td>\n",
       "      <td>17.0</td>\n",
       "      <td>53.2</td>\n",
       "      <td>12.000000</td>\n",
       "      <td>5.0</td>\n",
       "      <td>20.0</td>\n",
       "      <td>...</td>\n",
       "      <td>False</td>\n",
       "      <td>2019-02-19T00:00:00</td>\n",
       "      <td>NaN</td>\n",
       "      <td>15</td>\n",
       "      <td>16295.0</td>\n",
       "      <td>15092.0</td>\n",
       "      <td>1.0</td>\n",
       "      <td>967.0</td>\n",
       "      <td>0.0</td>\n",
       "      <td>NaN</td>\n",
       "    </tr>\n",
       "    <tr>\n",
       "      <th>15061</th>\n",
       "      <td>Санкт-Петербург</td>\n",
       "      <td>56.4</td>\n",
       "      <td>2</td>\n",
       "      <td>5600000.0</td>\n",
       "      <td>5</td>\n",
       "      <td>14.0</td>\n",
       "      <td>32.4</td>\n",
       "      <td>9.100000</td>\n",
       "      <td>2.0</td>\n",
       "      <td>14.0</td>\n",
       "      <td>...</td>\n",
       "      <td>False</td>\n",
       "      <td>2018-05-11T00:00:00</td>\n",
       "      <td>315.0</td>\n",
       "      <td>19</td>\n",
       "      <td>14814.0</td>\n",
       "      <td>13610.0</td>\n",
       "      <td>0.0</td>\n",
       "      <td>NaN</td>\n",
       "      <td>0.0</td>\n",
       "      <td>NaN</td>\n",
       "    </tr>\n",
       "    <tr>\n",
       "      <th>22309</th>\n",
       "      <td>Санкт-Петербург</td>\n",
       "      <td>45.0</td>\n",
       "      <td>1</td>\n",
       "      <td>5300000.0</td>\n",
       "      <td>15</td>\n",
       "      <td>16.0</td>\n",
       "      <td>15.5</td>\n",
       "      <td>10.569807</td>\n",
       "      <td>0.0</td>\n",
       "      <td>10.3</td>\n",
       "      <td>...</td>\n",
       "      <td>False</td>\n",
       "      <td>2017-09-30T00:00:00</td>\n",
       "      <td>136.0</td>\n",
       "      <td>20</td>\n",
       "      <td>36353.0</td>\n",
       "      <td>11936.0</td>\n",
       "      <td>2.0</td>\n",
       "      <td>440.0</td>\n",
       "      <td>2.0</td>\n",
       "      <td>450.0</td>\n",
       "    </tr>\n",
       "    <tr>\n",
       "      <th>5863</th>\n",
       "      <td>Санкт-Петербург</td>\n",
       "      <td>45.0</td>\n",
       "      <td>1</td>\n",
       "      <td>5650000.0</td>\n",
       "      <td>14</td>\n",
       "      <td>16.0</td>\n",
       "      <td>19.3</td>\n",
       "      <td>8.300000</td>\n",
       "      <td>1.0</td>\n",
       "      <td>8.3</td>\n",
       "      <td>...</td>\n",
       "      <td>False</td>\n",
       "      <td>2018-08-15T00:00:00</td>\n",
       "      <td>14.0</td>\n",
       "      <td>20</td>\n",
       "      <td>13069.0</td>\n",
       "      <td>10763.0</td>\n",
       "      <td>0.0</td>\n",
       "      <td>NaN</td>\n",
       "      <td>1.0</td>\n",
       "      <td>613.0</td>\n",
       "    </tr>\n",
       "    <tr>\n",
       "      <th>15743</th>\n",
       "      <td>Санкт-Петербург</td>\n",
       "      <td>67.0</td>\n",
       "      <td>3</td>\n",
       "      <td>5600000.0</td>\n",
       "      <td>1</td>\n",
       "      <td>16.0</td>\n",
       "      <td>41.0</td>\n",
       "      <td>8.000000</td>\n",
       "      <td>0.0</td>\n",
       "      <td>8.0</td>\n",
       "      <td>...</td>\n",
       "      <td>False</td>\n",
       "      <td>2016-11-11T00:00:00</td>\n",
       "      <td>474.0</td>\n",
       "      <td>14</td>\n",
       "      <td>32691.0</td>\n",
       "      <td>11035.0</td>\n",
       "      <td>1.0</td>\n",
       "      <td>723.0</td>\n",
       "      <td>0.0</td>\n",
       "      <td>NaN</td>\n",
       "    </tr>\n",
       "    <tr>\n",
       "      <th>17442</th>\n",
       "      <td>Красное Село</td>\n",
       "      <td>54.0</td>\n",
       "      <td>2</td>\n",
       "      <td>5350000.0</td>\n",
       "      <td>2</td>\n",
       "      <td>5.0</td>\n",
       "      <td>29.0</td>\n",
       "      <td>10.569807</td>\n",
       "      <td>1.0</td>\n",
       "      <td>8.0</td>\n",
       "      <td>...</td>\n",
       "      <td>False</td>\n",
       "      <td>2015-06-16T00:00:00</td>\n",
       "      <td>469.0</td>\n",
       "      <td>0</td>\n",
       "      <td>24638.0</td>\n",
       "      <td>28062.0</td>\n",
       "      <td>0.0</td>\n",
       "      <td>NaN</td>\n",
       "      <td>0.0</td>\n",
       "      <td>NaN</td>\n",
       "    </tr>\n",
       "    <tr>\n",
       "      <th>3474</th>\n",
       "      <td>деревня Нурма</td>\n",
       "      <td>30.0</td>\n",
       "      <td>1</td>\n",
       "      <td>1400000.0</td>\n",
       "      <td>2</td>\n",
       "      <td>5.0</td>\n",
       "      <td>15.3</td>\n",
       "      <td>7.300000</td>\n",
       "      <td>0.0</td>\n",
       "      <td>8.0</td>\n",
       "      <td>...</td>\n",
       "      <td>False</td>\n",
       "      <td>2018-03-16T00:00:00</td>\n",
       "      <td>125.0</td>\n",
       "      <td>3</td>\n",
       "      <td>NaN</td>\n",
       "      <td>NaN</td>\n",
       "      <td>NaN</td>\n",
       "      <td>NaN</td>\n",
       "      <td>NaN</td>\n",
       "      <td>NaN</td>\n",
       "    </tr>\n",
       "    <tr>\n",
       "      <th>20264</th>\n",
       "      <td>Санкт-Петербург</td>\n",
       "      <td>187.6</td>\n",
       "      <td>4</td>\n",
       "      <td>119000000.0</td>\n",
       "      <td>7</td>\n",
       "      <td>7.0</td>\n",
       "      <td>147.0</td>\n",
       "      <td>15.600000</td>\n",
       "      <td>0.0</td>\n",
       "      <td>6.0</td>\n",
       "      <td>...</td>\n",
       "      <td>False</td>\n",
       "      <td>2017-07-10T00:00:00</td>\n",
       "      <td>259.0</td>\n",
       "      <td>17</td>\n",
       "      <td>26902.0</td>\n",
       "      <td>5605.0</td>\n",
       "      <td>3.0</td>\n",
       "      <td>484.0</td>\n",
       "      <td>1.0</td>\n",
       "      <td>305.0</td>\n",
       "    </tr>\n",
       "    <tr>\n",
       "      <th>21227</th>\n",
       "      <td>Санкт-Петербург</td>\n",
       "      <td>71.0</td>\n",
       "      <td>0</td>\n",
       "      <td>8200000.0</td>\n",
       "      <td>5</td>\n",
       "      <td>5.0</td>\n",
       "      <td>68.0</td>\n",
       "      <td>10.569807</td>\n",
       "      <td>0.0</td>\n",
       "      <td>5.8</td>\n",
       "      <td>...</td>\n",
       "      <td>False</td>\n",
       "      <td>2017-07-21T00:00:00</td>\n",
       "      <td>30.0</td>\n",
       "      <td>0</td>\n",
       "      <td>20170.0</td>\n",
       "      <td>1261.0</td>\n",
       "      <td>2.0</td>\n",
       "      <td>295.0</td>\n",
       "      <td>3.0</td>\n",
       "      <td>366.0</td>\n",
       "    </tr>\n",
       "    <tr>\n",
       "      <th>1388</th>\n",
       "      <td>Санкт-Петербург</td>\n",
       "      <td>399.0</td>\n",
       "      <td>5</td>\n",
       "      <td>59800000.0</td>\n",
       "      <td>6</td>\n",
       "      <td>6.0</td>\n",
       "      <td>NaN</td>\n",
       "      <td>10.569807</td>\n",
       "      <td>0.0</td>\n",
       "      <td>5.6</td>\n",
       "      <td>...</td>\n",
       "      <td>False</td>\n",
       "      <td>2015-01-21T00:00:00</td>\n",
       "      <td>719.0</td>\n",
       "      <td>20</td>\n",
       "      <td>26204.0</td>\n",
       "      <td>6934.0</td>\n",
       "      <td>2.0</td>\n",
       "      <td>149.0</td>\n",
       "      <td>2.0</td>\n",
       "      <td>577.0</td>\n",
       "    </tr>\n",
       "    <tr>\n",
       "      <th>7578</th>\n",
       "      <td>Санкт-Петербург</td>\n",
       "      <td>143.0</td>\n",
       "      <td>3</td>\n",
       "      <td>38000000.0</td>\n",
       "      <td>5</td>\n",
       "      <td>5.0</td>\n",
       "      <td>83.0</td>\n",
       "      <td>29.000000</td>\n",
       "      <td>1.0</td>\n",
       "      <td>5.5</td>\n",
       "      <td>...</td>\n",
       "      <td>False</td>\n",
       "      <td>2017-11-02T00:00:00</td>\n",
       "      <td>NaN</td>\n",
       "      <td>17</td>\n",
       "      <td>26333.0</td>\n",
       "      <td>6448.0</td>\n",
       "      <td>3.0</td>\n",
       "      <td>479.0</td>\n",
       "      <td>0.0</td>\n",
       "      <td>NaN</td>\n",
       "    </tr>\n",
       "    <tr>\n",
       "      <th>1026</th>\n",
       "      <td>Санкт-Петербург</td>\n",
       "      <td>310.0</td>\n",
       "      <td>5</td>\n",
       "      <td>155000000.0</td>\n",
       "      <td>3</td>\n",
       "      <td>3.0</td>\n",
       "      <td>190.0</td>\n",
       "      <td>63.000000</td>\n",
       "      <td>2.0</td>\n",
       "      <td>5.3</td>\n",
       "      <td>...</td>\n",
       "      <td>False</td>\n",
       "      <td>2018-10-12T00:00:00</td>\n",
       "      <td>NaN</td>\n",
       "      <td>20</td>\n",
       "      <td>24899.0</td>\n",
       "      <td>4785.0</td>\n",
       "      <td>0.0</td>\n",
       "      <td>NaN</td>\n",
       "      <td>1.0</td>\n",
       "      <td>603.0</td>\n",
       "    </tr>\n",
       "    <tr>\n",
       "      <th>12628</th>\n",
       "      <td>Санкт-Петербург</td>\n",
       "      <td>50.0</td>\n",
       "      <td>1</td>\n",
       "      <td>3900000.0</td>\n",
       "      <td>5</td>\n",
       "      <td>5.0</td>\n",
       "      <td>NaN</td>\n",
       "      <td>10.569807</td>\n",
       "      <td>0.0</td>\n",
       "      <td>5.3</td>\n",
       "      <td>...</td>\n",
       "      <td>False</td>\n",
       "      <td>2018-03-29T00:00:00</td>\n",
       "      <td>8.0</td>\n",
       "      <td>14</td>\n",
       "      <td>19644.0</td>\n",
       "      <td>3918.0</td>\n",
       "      <td>1.0</td>\n",
       "      <td>505.0</td>\n",
       "      <td>1.0</td>\n",
       "      <td>92.0</td>\n",
       "    </tr>\n",
       "    <tr>\n",
       "      <th>464</th>\n",
       "      <td>Санкт-Петербург</td>\n",
       "      <td>280.3</td>\n",
       "      <td>6</td>\n",
       "      <td>66571000.0</td>\n",
       "      <td>7</td>\n",
       "      <td>8.0</td>\n",
       "      <td>159.5</td>\n",
       "      <td>21.100000</td>\n",
       "      <td>0.0</td>\n",
       "      <td>5.2</td>\n",
       "      <td>...</td>\n",
       "      <td>False</td>\n",
       "      <td>2015-06-11T00:00:00</td>\n",
       "      <td>578.0</td>\n",
       "      <td>15</td>\n",
       "      <td>26316.0</td>\n",
       "      <td>6655.0</td>\n",
       "      <td>3.0</td>\n",
       "      <td>187.0</td>\n",
       "      <td>1.0</td>\n",
       "      <td>616.0</td>\n",
       "    </tr>\n",
       "  </tbody>\n",
       "</table>\n",
       "<p>36 rows × 22 columns</p>\n",
       "</div>"
      ],
      "text/plain": [
       "                         locality_name  total_area  rooms   last_price  floor  \\\n",
       "22869                  Санкт-Петербург        25.0      1   15000000.0      5   \n",
       "22336                  Санкт-Петербург        92.4      2    9999000.0      5   \n",
       "3148                            Волхов        75.0      3    2900000.0      2   \n",
       "21377                  Санкт-Петербург        42.0      1    4900000.0     19   \n",
       "22938                   деревня Нижняя        98.0      4    4000000.0      2   \n",
       "10773                   посёлок Мурино        58.0      2    3800000.0      3   \n",
       "21824  городской поселок Большая Ижора        44.0      2    2450000.0      2   \n",
       "4876                    посёлок Мурино        25.0      0    3000000.0     17   \n",
       "20478                  Санкт-Петербург        45.0      1    8000000.0      2   \n",
       "5246                      деревня Мины        54.0      2    2500000.0      3   \n",
       "5807                   Санкт-Петербург        80.0      2    8150000.0     13   \n",
       "17857                  Санкт-Петербург        56.0      3    3900000.0      4   \n",
       "5669                   Санкт-Петербург        50.0      2    4400000.0      3   \n",
       "18545                  Санкт-Петербург        43.0      2    3750000.0      3   \n",
       "14382               поселок Новый Свет        35.0      1    1700000.0      2   \n",
       "11285                             Луга        37.0      1    1950000.0      4   \n",
       "355                            Гатчина        55.2      2    3600000.0      2   \n",
       "9379                   Санкт-Петербург        42.0      3    3950000.0      2   \n",
       "4643                   Санкт-Петербург        45.0      2    4300000.0      2   \n",
       "6246                         Кронштадт        44.4      2    3300000.0      5   \n",
       "5076                   Санкт-Петербург        30.5      1    3850000.0      1   \n",
       "20507                  Санкт-Петербург        60.0      2    5950000.0     11   \n",
       "17496                  Санкт-Петербург        92.9      3    6700000.0     14   \n",
       "15061                  Санкт-Петербург        56.4      2    5600000.0      5   \n",
       "22309                  Санкт-Петербург        45.0      1    5300000.0     15   \n",
       "5863                   Санкт-Петербург        45.0      1    5650000.0     14   \n",
       "15743                  Санкт-Петербург        67.0      3    5600000.0      1   \n",
       "17442                     Красное Село        54.0      2    5350000.0      2   \n",
       "3474                     деревня Нурма        30.0      1    1400000.0      2   \n",
       "20264                  Санкт-Петербург       187.6      4  119000000.0      7   \n",
       "21227                  Санкт-Петербург        71.0      0    8200000.0      5   \n",
       "1388                   Санкт-Петербург       399.0      5   59800000.0      6   \n",
       "7578                   Санкт-Петербург       143.0      3   38000000.0      5   \n",
       "1026                   Санкт-Петербург       310.0      5  155000000.0      3   \n",
       "12628                  Санкт-Петербург        50.0      1    3900000.0      5   \n",
       "464                    Санкт-Петербург       280.3      6   66571000.0      7   \n",
       "\n",
       "       floors_total  living_area  kitchen_area  balcony  ceiling_height  ...  \\\n",
       "22869           5.0         14.0     11.000000      5.0           100.0  ...   \n",
       "22336           6.0         55.5     16.500000      4.0            32.0  ...   \n",
       "3148            3.0         53.0      8.000000      0.0            32.0  ...   \n",
       "21377          24.0         37.7     11.000000      2.0            27.5  ...   \n",
       "22938           2.0         73.0      9.000000      1.0            27.0  ...   \n",
       "10773          10.0         30.1      8.100000      2.0            27.0  ...   \n",
       "21824           2.0         38.0      8.600000      2.0            27.0  ...   \n",
       "4876           25.0         17.0     10.569807      2.0            27.0  ...   \n",
       "20478           4.0         22.0     10.000000      1.0            27.0  ...   \n",
       "5246            5.0         30.0      9.000000      2.0            27.0  ...   \n",
       "5807           36.0         41.0     12.000000      5.0            27.0  ...   \n",
       "17857           5.0         33.0     10.569807      0.0            27.0  ...   \n",
       "5669            9.0         21.3      7.000000      2.0            26.0  ...   \n",
       "18545           5.0         29.0     10.569807      0.0            25.0  ...   \n",
       "14382           5.0         20.0      8.000000      1.0            25.0  ...   \n",
       "11285           5.0         17.0      9.000000      2.0            25.0  ...   \n",
       "355             5.0         32.0     10.569807      2.0            25.0  ...   \n",
       "9379            5.0         30.0      5.200000      0.0            25.0  ...   \n",
       "4643            9.0         30.0      7.000000      1.0            25.0  ...   \n",
       "6246            5.0         31.3      5.700000      0.0            25.0  ...   \n",
       "5076            5.0         19.5      5.500000      0.0            24.0  ...   \n",
       "20507          14.0         35.0     13.000000      1.0            22.6  ...   \n",
       "17496          17.0         53.2     12.000000      5.0            20.0  ...   \n",
       "15061          14.0         32.4      9.100000      2.0            14.0  ...   \n",
       "22309          16.0         15.5     10.569807      0.0            10.3  ...   \n",
       "5863           16.0         19.3      8.300000      1.0             8.3  ...   \n",
       "15743          16.0         41.0      8.000000      0.0             8.0  ...   \n",
       "17442           5.0         29.0     10.569807      1.0             8.0  ...   \n",
       "3474            5.0         15.3      7.300000      0.0             8.0  ...   \n",
       "20264           7.0        147.0     15.600000      0.0             6.0  ...   \n",
       "21227           5.0         68.0     10.569807      0.0             5.8  ...   \n",
       "1388            6.0          NaN     10.569807      0.0             5.6  ...   \n",
       "7578            5.0         83.0     29.000000      1.0             5.5  ...   \n",
       "1026            3.0        190.0     63.000000      2.0             5.3  ...   \n",
       "12628           5.0          NaN     10.569807      0.0             5.3  ...   \n",
       "464             8.0        159.5     21.100000      0.0             5.2  ...   \n",
       "\n",
       "       open_plan  first_day_exposition  days_exposition total_images  \\\n",
       "22869      False   2018-07-25T00:00:00             19.0            0   \n",
       "22336      False   2019-04-05T00:00:00              NaN           19   \n",
       "3148       False   2018-11-12T00:00:00              NaN           14   \n",
       "21377      False   2017-04-18T00:00:00             61.0           19   \n",
       "22938      False   2018-03-15T00:00:00             27.0           14   \n",
       "10773      False   2017-10-13T00:00:00             71.0            8   \n",
       "21824      False   2019-02-12T00:00:00              NaN           20   \n",
       "4876        True   2017-09-27T00:00:00             28.0            7   \n",
       "20478      False   2017-07-18T00:00:00            429.0           11   \n",
       "5246       False   2017-10-13T00:00:00            540.0            0   \n",
       "5807       False   2019-01-09T00:00:00             38.0           17   \n",
       "17857      False   2017-12-22T00:00:00             73.0            1   \n",
       "5669       False   2017-08-08T00:00:00            267.0            4   \n",
       "18545      False   2019-03-18T00:00:00             12.0            6   \n",
       "14382      False   2015-12-04T00:00:00            206.0            9   \n",
       "11285      False   2019-03-20T00:00:00             18.0            0   \n",
       "355        False   2018-07-12T00:00:00            259.0           17   \n",
       "9379       False   2017-03-26T00:00:00              NaN            5   \n",
       "4643       False   2018-02-01T00:00:00            181.0            0   \n",
       "6246       False   2019-03-25T00:00:00              NaN            6   \n",
       "5076       False   2018-10-03T00:00:00              7.0            0   \n",
       "20507      False   2018-02-19T00:00:00             40.0           12   \n",
       "17496      False   2019-02-19T00:00:00              NaN           15   \n",
       "15061      False   2018-05-11T00:00:00            315.0           19   \n",
       "22309      False   2017-09-30T00:00:00            136.0           20   \n",
       "5863       False   2018-08-15T00:00:00             14.0           20   \n",
       "15743      False   2016-11-11T00:00:00            474.0           14   \n",
       "17442      False   2015-06-16T00:00:00            469.0            0   \n",
       "3474       False   2018-03-16T00:00:00            125.0            3   \n",
       "20264      False   2017-07-10T00:00:00            259.0           17   \n",
       "21227      False   2017-07-21T00:00:00             30.0            0   \n",
       "1388       False   2015-01-21T00:00:00            719.0           20   \n",
       "7578       False   2017-11-02T00:00:00              NaN           17   \n",
       "1026       False   2018-10-12T00:00:00              NaN           20   \n",
       "12628      False   2018-03-29T00:00:00              8.0           14   \n",
       "464        False   2015-06-11T00:00:00            578.0           15   \n",
       "\n",
       "       airports_nearest  cityCenters_nearest  parks_around3000  parks_nearest  \\\n",
       "22869           34963.0               8283.0               1.0          223.0   \n",
       "22336           18838.0               3506.0               0.0            NaN   \n",
       "3148                NaN                  NaN               NaN            NaN   \n",
       "21377           42742.0               9760.0               0.0            NaN   \n",
       "22938               NaN                  NaN               NaN            NaN   \n",
       "10773               NaN                  NaN               NaN            NaN   \n",
       "21824               NaN                  NaN               NaN            NaN   \n",
       "4876                NaN                  NaN               NaN            NaN   \n",
       "20478           18975.0               3246.0               0.0            NaN   \n",
       "5246                NaN                  NaN               NaN            NaN   \n",
       "5807            18732.0              20444.0               0.0            NaN   \n",
       "17857           41030.0              15543.0               0.0            NaN   \n",
       "5669            28981.0              10912.0               1.0          305.0   \n",
       "18545           27054.0               8033.0               1.0          540.0   \n",
       "14382               NaN                  NaN               NaN            NaN   \n",
       "11285               NaN                  NaN               NaN            NaN   \n",
       "355                 NaN                  NaN               NaN            NaN   \n",
       "9379            11647.0              13581.0               0.0            NaN   \n",
       "4643            12016.0              13256.0               1.0          658.0   \n",
       "6246            68923.0              50649.0               1.0          417.0   \n",
       "5076            29686.0               8389.0               3.0          397.0   \n",
       "20507           27028.0              12570.0               0.0            NaN   \n",
       "17496           16295.0              15092.0               1.0          967.0   \n",
       "15061           14814.0              13610.0               0.0            NaN   \n",
       "22309           36353.0              11936.0               2.0          440.0   \n",
       "5863            13069.0              10763.0               0.0            NaN   \n",
       "15743           32691.0              11035.0               1.0          723.0   \n",
       "17442           24638.0              28062.0               0.0            NaN   \n",
       "3474                NaN                  NaN               NaN            NaN   \n",
       "20264           26902.0               5605.0               3.0          484.0   \n",
       "21227           20170.0               1261.0               2.0          295.0   \n",
       "1388            26204.0               6934.0               2.0          149.0   \n",
       "7578            26333.0               6448.0               3.0          479.0   \n",
       "1026            24899.0               4785.0               0.0            NaN   \n",
       "12628           19644.0               3918.0               1.0          505.0   \n",
       "464             26316.0               6655.0               3.0          187.0   \n",
       "\n",
       "       ponds_around3000  ponds_nearest  \n",
       "22869               3.0           30.0  \n",
       "22336               3.0          511.0  \n",
       "3148                NaN            NaN  \n",
       "21377               0.0            NaN  \n",
       "22938               NaN            NaN  \n",
       "10773               NaN            NaN  \n",
       "21824               NaN            NaN  \n",
       "4876                NaN            NaN  \n",
       "20478               3.0          449.0  \n",
       "5246                NaN            NaN  \n",
       "5807                3.0           80.0  \n",
       "17857               0.0            NaN  \n",
       "5669                0.0            NaN  \n",
       "18545               0.0            NaN  \n",
       "14382               NaN            NaN  \n",
       "11285               NaN            NaN  \n",
       "355                 NaN            NaN  \n",
       "9379                0.0            NaN  \n",
       "4643                1.0          331.0  \n",
       "6246                2.0           73.0  \n",
       "5076                1.0          578.0  \n",
       "20507               0.0            NaN  \n",
       "17496               0.0            NaN  \n",
       "15061               0.0            NaN  \n",
       "22309               2.0          450.0  \n",
       "5863                1.0          613.0  \n",
       "15743               0.0            NaN  \n",
       "17442               0.0            NaN  \n",
       "3474                NaN            NaN  \n",
       "20264               1.0          305.0  \n",
       "21227               3.0          366.0  \n",
       "1388                2.0          577.0  \n",
       "7578                0.0            NaN  \n",
       "1026                1.0          603.0  \n",
       "12628               1.0           92.0  \n",
       "464                 1.0          616.0  \n",
       "\n",
       "[36 rows x 22 columns]"
      ]
     },
     "execution_count": 193,
     "metadata": {},
     "output_type": "execute_result"
    }
   ],
   "source": [
    "hight_ceiling_height = df[df['ceiling_height']>5]\n",
    "hight_ceiling_height.sort_values(by='ceiling_height',ascending=False)"
   ]
  },
  {
   "cell_type": "markdown",
   "metadata": {},
   "source": [
    "Получаем слишком много значений. Проведя нехитрую аналитическую работу, сопоставив площади квартир/домов и высоту потолков, поработаем с высотой потолков свыше 5,6 метров. Потолки от 5 до 5,6 метров часто относятся к очень большим квартирам, думаю, что там высота потолков вполне может равняться и таким числам.\n",
    "\n",
    "Потолки высотой от 5,8 до 100 метров заменим на среднестатистическую высоту потолка 2,75 м"
   ]
  },
  {
   "cell_type": "code",
   "execution_count": 194,
   "metadata": {},
   "outputs": [
    {
     "data": {
      "text/html": [
       "<div>\n",
       "<style scoped>\n",
       "    .dataframe tbody tr th:only-of-type {\n",
       "        vertical-align: middle;\n",
       "    }\n",
       "\n",
       "    .dataframe tbody tr th {\n",
       "        vertical-align: top;\n",
       "    }\n",
       "\n",
       "    .dataframe thead th {\n",
       "        text-align: right;\n",
       "    }\n",
       "</style>\n",
       "<table border=\"1\" class=\"dataframe\">\n",
       "  <thead>\n",
       "    <tr style=\"text-align: right;\">\n",
       "      <th></th>\n",
       "      <th>locality_name</th>\n",
       "      <th>total_area</th>\n",
       "      <th>rooms</th>\n",
       "      <th>last_price</th>\n",
       "      <th>floor</th>\n",
       "      <th>floors_total</th>\n",
       "      <th>living_area</th>\n",
       "      <th>kitchen_area</th>\n",
       "      <th>balcony</th>\n",
       "      <th>ceiling_height</th>\n",
       "      <th>...</th>\n",
       "      <th>open_plan</th>\n",
       "      <th>first_day_exposition</th>\n",
       "      <th>days_exposition</th>\n",
       "      <th>total_images</th>\n",
       "      <th>airports_nearest</th>\n",
       "      <th>cityCenters_nearest</th>\n",
       "      <th>parks_around3000</th>\n",
       "      <th>parks_nearest</th>\n",
       "      <th>ponds_around3000</th>\n",
       "      <th>ponds_nearest</th>\n",
       "    </tr>\n",
       "  </thead>\n",
       "  <tbody>\n",
       "    <tr>\n",
       "      <th>7578</th>\n",
       "      <td>Санкт-Петербург</td>\n",
       "      <td>143.0</td>\n",
       "      <td>3</td>\n",
       "      <td>38000000.0</td>\n",
       "      <td>5</td>\n",
       "      <td>5.0</td>\n",
       "      <td>83.0</td>\n",
       "      <td>29.000000</td>\n",
       "      <td>1.0</td>\n",
       "      <td>5.5</td>\n",
       "      <td>...</td>\n",
       "      <td>False</td>\n",
       "      <td>2017-11-02T00:00:00</td>\n",
       "      <td>NaN</td>\n",
       "      <td>17</td>\n",
       "      <td>26333.0</td>\n",
       "      <td>6448.0</td>\n",
       "      <td>3.0</td>\n",
       "      <td>479.0</td>\n",
       "      <td>0.0</td>\n",
       "      <td>NaN</td>\n",
       "    </tr>\n",
       "    <tr>\n",
       "      <th>1026</th>\n",
       "      <td>Санкт-Петербург</td>\n",
       "      <td>310.0</td>\n",
       "      <td>5</td>\n",
       "      <td>155000000.0</td>\n",
       "      <td>3</td>\n",
       "      <td>3.0</td>\n",
       "      <td>190.0</td>\n",
       "      <td>63.000000</td>\n",
       "      <td>2.0</td>\n",
       "      <td>5.3</td>\n",
       "      <td>...</td>\n",
       "      <td>False</td>\n",
       "      <td>2018-10-12T00:00:00</td>\n",
       "      <td>NaN</td>\n",
       "      <td>20</td>\n",
       "      <td>24899.0</td>\n",
       "      <td>4785.0</td>\n",
       "      <td>0.0</td>\n",
       "      <td>NaN</td>\n",
       "      <td>1.0</td>\n",
       "      <td>603.0</td>\n",
       "    </tr>\n",
       "    <tr>\n",
       "      <th>12628</th>\n",
       "      <td>Санкт-Петербург</td>\n",
       "      <td>50.0</td>\n",
       "      <td>1</td>\n",
       "      <td>3900000.0</td>\n",
       "      <td>5</td>\n",
       "      <td>5.0</td>\n",
       "      <td>NaN</td>\n",
       "      <td>10.569807</td>\n",
       "      <td>0.0</td>\n",
       "      <td>5.3</td>\n",
       "      <td>...</td>\n",
       "      <td>False</td>\n",
       "      <td>2018-03-29T00:00:00</td>\n",
       "      <td>8.0</td>\n",
       "      <td>14</td>\n",
       "      <td>19644.0</td>\n",
       "      <td>3918.0</td>\n",
       "      <td>1.0</td>\n",
       "      <td>505.0</td>\n",
       "      <td>1.0</td>\n",
       "      <td>92.0</td>\n",
       "    </tr>\n",
       "    <tr>\n",
       "      <th>464</th>\n",
       "      <td>Санкт-Петербург</td>\n",
       "      <td>280.3</td>\n",
       "      <td>6</td>\n",
       "      <td>66571000.0</td>\n",
       "      <td>7</td>\n",
       "      <td>8.0</td>\n",
       "      <td>159.5</td>\n",
       "      <td>21.100000</td>\n",
       "      <td>0.0</td>\n",
       "      <td>5.2</td>\n",
       "      <td>...</td>\n",
       "      <td>False</td>\n",
       "      <td>2015-06-11T00:00:00</td>\n",
       "      <td>578.0</td>\n",
       "      <td>15</td>\n",
       "      <td>26316.0</td>\n",
       "      <td>6655.0</td>\n",
       "      <td>3.0</td>\n",
       "      <td>187.0</td>\n",
       "      <td>1.0</td>\n",
       "      <td>616.0</td>\n",
       "    </tr>\n",
       "    <tr>\n",
       "      <th>1053</th>\n",
       "      <td>Бокситогорск</td>\n",
       "      <td>29.0</td>\n",
       "      <td>1</td>\n",
       "      <td>550000.0</td>\n",
       "      <td>1</td>\n",
       "      <td>3.0</td>\n",
       "      <td>NaN</td>\n",
       "      <td>10.569807</td>\n",
       "      <td>0.0</td>\n",
       "      <td>5.0</td>\n",
       "      <td>...</td>\n",
       "      <td>False</td>\n",
       "      <td>2018-02-01T00:00:00</td>\n",
       "      <td>6.0</td>\n",
       "      <td>13</td>\n",
       "      <td>NaN</td>\n",
       "      <td>NaN</td>\n",
       "      <td>NaN</td>\n",
       "      <td>NaN</td>\n",
       "      <td>NaN</td>\n",
       "      <td>NaN</td>\n",
       "    </tr>\n",
       "    <tr>\n",
       "      <th>...</th>\n",
       "      <td>...</td>\n",
       "      <td>...</td>\n",
       "      <td>...</td>\n",
       "      <td>...</td>\n",
       "      <td>...</td>\n",
       "      <td>...</td>\n",
       "      <td>...</td>\n",
       "      <td>...</td>\n",
       "      <td>...</td>\n",
       "      <td>...</td>\n",
       "      <td>...</td>\n",
       "      <td>...</td>\n",
       "      <td>...</td>\n",
       "      <td>...</td>\n",
       "      <td>...</td>\n",
       "      <td>...</td>\n",
       "      <td>...</td>\n",
       "      <td>...</td>\n",
       "      <td>...</td>\n",
       "      <td>...</td>\n",
       "      <td>...</td>\n",
       "    </tr>\n",
       "    <tr>\n",
       "      <th>23687</th>\n",
       "      <td>Санкт-Петербург</td>\n",
       "      <td>39.0</td>\n",
       "      <td>1</td>\n",
       "      <td>3200000.0</td>\n",
       "      <td>6</td>\n",
       "      <td>9.0</td>\n",
       "      <td>20.0</td>\n",
       "      <td>11.000000</td>\n",
       "      <td>2.0</td>\n",
       "      <td>NaN</td>\n",
       "      <td>...</td>\n",
       "      <td>False</td>\n",
       "      <td>2017-12-16T00:00:00</td>\n",
       "      <td>38.0</td>\n",
       "      <td>6</td>\n",
       "      <td>40837.0</td>\n",
       "      <td>16704.0</td>\n",
       "      <td>0.0</td>\n",
       "      <td>NaN</td>\n",
       "      <td>0.0</td>\n",
       "      <td>NaN</td>\n",
       "    </tr>\n",
       "    <tr>\n",
       "      <th>23690</th>\n",
       "      <td>Санкт-Петербург</td>\n",
       "      <td>52.0</td>\n",
       "      <td>2</td>\n",
       "      <td>5500000.0</td>\n",
       "      <td>2</td>\n",
       "      <td>5.0</td>\n",
       "      <td>31.0</td>\n",
       "      <td>6.000000</td>\n",
       "      <td>0.0</td>\n",
       "      <td>NaN</td>\n",
       "      <td>...</td>\n",
       "      <td>False</td>\n",
       "      <td>2018-07-19T00:00:00</td>\n",
       "      <td>15.0</td>\n",
       "      <td>3</td>\n",
       "      <td>20151.0</td>\n",
       "      <td>6263.0</td>\n",
       "      <td>1.0</td>\n",
       "      <td>300.0</td>\n",
       "      <td>0.0</td>\n",
       "      <td>NaN</td>\n",
       "    </tr>\n",
       "    <tr>\n",
       "      <th>23692</th>\n",
       "      <td>Тихвин</td>\n",
       "      <td>30.0</td>\n",
       "      <td>1</td>\n",
       "      <td>1350000.0</td>\n",
       "      <td>4</td>\n",
       "      <td>5.0</td>\n",
       "      <td>17.5</td>\n",
       "      <td>6.000000</td>\n",
       "      <td>0.0</td>\n",
       "      <td>NaN</td>\n",
       "      <td>...</td>\n",
       "      <td>False</td>\n",
       "      <td>2017-07-07T00:00:00</td>\n",
       "      <td>413.0</td>\n",
       "      <td>2</td>\n",
       "      <td>NaN</td>\n",
       "      <td>NaN</td>\n",
       "      <td>NaN</td>\n",
       "      <td>NaN</td>\n",
       "      <td>NaN</td>\n",
       "      <td>NaN</td>\n",
       "    </tr>\n",
       "    <tr>\n",
       "      <th>23695</th>\n",
       "      <td>Тосно</td>\n",
       "      <td>59.0</td>\n",
       "      <td>3</td>\n",
       "      <td>3100000.0</td>\n",
       "      <td>4</td>\n",
       "      <td>5.0</td>\n",
       "      <td>38.0</td>\n",
       "      <td>8.500000</td>\n",
       "      <td>0.0</td>\n",
       "      <td>NaN</td>\n",
       "      <td>...</td>\n",
       "      <td>False</td>\n",
       "      <td>2018-01-15T00:00:00</td>\n",
       "      <td>45.0</td>\n",
       "      <td>14</td>\n",
       "      <td>NaN</td>\n",
       "      <td>NaN</td>\n",
       "      <td>NaN</td>\n",
       "      <td>NaN</td>\n",
       "      <td>NaN</td>\n",
       "      <td>NaN</td>\n",
       "    </tr>\n",
       "    <tr>\n",
       "      <th>23696</th>\n",
       "      <td>село Рождествено</td>\n",
       "      <td>56.7</td>\n",
       "      <td>2</td>\n",
       "      <td>2500000.0</td>\n",
       "      <td>1</td>\n",
       "      <td>3.0</td>\n",
       "      <td>29.7</td>\n",
       "      <td>10.569807</td>\n",
       "      <td>0.0</td>\n",
       "      <td>NaN</td>\n",
       "      <td>...</td>\n",
       "      <td>False</td>\n",
       "      <td>2018-02-11T00:00:00</td>\n",
       "      <td>NaN</td>\n",
       "      <td>18</td>\n",
       "      <td>NaN</td>\n",
       "      <td>NaN</td>\n",
       "      <td>NaN</td>\n",
       "      <td>NaN</td>\n",
       "      <td>NaN</td>\n",
       "      <td>NaN</td>\n",
       "    </tr>\n",
       "  </tbody>\n",
       "</table>\n",
       "<p>23699 rows × 22 columns</p>\n",
       "</div>"
      ],
      "text/plain": [
       "          locality_name  total_area  rooms   last_price  floor  floors_total  \\\n",
       "7578    Санкт-Петербург       143.0      3   38000000.0      5           5.0   \n",
       "1026    Санкт-Петербург       310.0      5  155000000.0      3           3.0   \n",
       "12628   Санкт-Петербург        50.0      1    3900000.0      5           5.0   \n",
       "464     Санкт-Петербург       280.3      6   66571000.0      7           8.0   \n",
       "1053       Бокситогорск        29.0      1     550000.0      1           3.0   \n",
       "...                 ...         ...    ...          ...    ...           ...   \n",
       "23687   Санкт-Петербург        39.0      1    3200000.0      6           9.0   \n",
       "23690   Санкт-Петербург        52.0      2    5500000.0      2           5.0   \n",
       "23692            Тихвин        30.0      1    1350000.0      4           5.0   \n",
       "23695             Тосно        59.0      3    3100000.0      4           5.0   \n",
       "23696  село Рождествено        56.7      2    2500000.0      1           3.0   \n",
       "\n",
       "       living_area  kitchen_area  balcony  ceiling_height  ...  open_plan  \\\n",
       "7578          83.0     29.000000      1.0             5.5  ...      False   \n",
       "1026         190.0     63.000000      2.0             5.3  ...      False   \n",
       "12628          NaN     10.569807      0.0             5.3  ...      False   \n",
       "464          159.5     21.100000      0.0             5.2  ...      False   \n",
       "1053           NaN     10.569807      0.0             5.0  ...      False   \n",
       "...            ...           ...      ...             ...  ...        ...   \n",
       "23687         20.0     11.000000      2.0             NaN  ...      False   \n",
       "23690         31.0      6.000000      0.0             NaN  ...      False   \n",
       "23692         17.5      6.000000      0.0             NaN  ...      False   \n",
       "23695         38.0      8.500000      0.0             NaN  ...      False   \n",
       "23696         29.7     10.569807      0.0             NaN  ...      False   \n",
       "\n",
       "       first_day_exposition  days_exposition total_images  airports_nearest  \\\n",
       "7578    2017-11-02T00:00:00              NaN           17           26333.0   \n",
       "1026    2018-10-12T00:00:00              NaN           20           24899.0   \n",
       "12628   2018-03-29T00:00:00              8.0           14           19644.0   \n",
       "464     2015-06-11T00:00:00            578.0           15           26316.0   \n",
       "1053    2018-02-01T00:00:00              6.0           13               NaN   \n",
       "...                     ...              ...          ...               ...   \n",
       "23687   2017-12-16T00:00:00             38.0            6           40837.0   \n",
       "23690   2018-07-19T00:00:00             15.0            3           20151.0   \n",
       "23692   2017-07-07T00:00:00            413.0            2               NaN   \n",
       "23695   2018-01-15T00:00:00             45.0           14               NaN   \n",
       "23696   2018-02-11T00:00:00              NaN           18               NaN   \n",
       "\n",
       "       cityCenters_nearest  parks_around3000  parks_nearest  ponds_around3000  \\\n",
       "7578                6448.0               3.0          479.0               0.0   \n",
       "1026                4785.0               0.0            NaN               1.0   \n",
       "12628               3918.0               1.0          505.0               1.0   \n",
       "464                 6655.0               3.0          187.0               1.0   \n",
       "1053                   NaN               NaN            NaN               NaN   \n",
       "...                    ...               ...            ...               ...   \n",
       "23687              16704.0               0.0            NaN               0.0   \n",
       "23690               6263.0               1.0          300.0               0.0   \n",
       "23692                  NaN               NaN            NaN               NaN   \n",
       "23695                  NaN               NaN            NaN               NaN   \n",
       "23696                  NaN               NaN            NaN               NaN   \n",
       "\n",
       "       ponds_nearest  \n",
       "7578             NaN  \n",
       "1026           603.0  \n",
       "12628           92.0  \n",
       "464            616.0  \n",
       "1053             NaN  \n",
       "...              ...  \n",
       "23687            NaN  \n",
       "23690            NaN  \n",
       "23692            NaN  \n",
       "23695            NaN  \n",
       "23696            NaN  \n",
       "\n",
       "[23699 rows x 22 columns]"
      ]
     },
     "execution_count": 194,
     "metadata": {},
     "output_type": "execute_result"
    }
   ],
   "source": [
    "df['ceiling_height'].where(~(df.ceiling_height >= 5.6), other=2.75, inplace=True)\n",
    "df.sort_values(by='ceiling_height',ascending=False)"
   ]
  },
  {
   "cell_type": "markdown",
   "metadata": {},
   "source": [
    "Исправлена высота потолков свыше 5,6 метров. Однако, в датафрейме были замечены также и высота потолков от 1 метра."
   ]
  },
  {
   "cell_type": "code",
   "execution_count": 195,
   "metadata": {},
   "outputs": [
    {
     "data": {
      "text/html": [
       "<div>\n",
       "<style scoped>\n",
       "    .dataframe tbody tr th:only-of-type {\n",
       "        vertical-align: middle;\n",
       "    }\n",
       "\n",
       "    .dataframe tbody tr th {\n",
       "        vertical-align: top;\n",
       "    }\n",
       "\n",
       "    .dataframe thead th {\n",
       "        text-align: right;\n",
       "    }\n",
       "</style>\n",
       "<table border=\"1\" class=\"dataframe\">\n",
       "  <thead>\n",
       "    <tr style=\"text-align: right;\">\n",
       "      <th></th>\n",
       "      <th>locality_name</th>\n",
       "      <th>total_area</th>\n",
       "      <th>rooms</th>\n",
       "      <th>last_price</th>\n",
       "      <th>floor</th>\n",
       "      <th>floors_total</th>\n",
       "      <th>living_area</th>\n",
       "      <th>kitchen_area</th>\n",
       "      <th>balcony</th>\n",
       "      <th>ceiling_height</th>\n",
       "      <th>...</th>\n",
       "      <th>open_plan</th>\n",
       "      <th>first_day_exposition</th>\n",
       "      <th>days_exposition</th>\n",
       "      <th>total_images</th>\n",
       "      <th>airports_nearest</th>\n",
       "      <th>cityCenters_nearest</th>\n",
       "      <th>parks_around3000</th>\n",
       "      <th>parks_nearest</th>\n",
       "      <th>ponds_around3000</th>\n",
       "      <th>ponds_nearest</th>\n",
       "    </tr>\n",
       "  </thead>\n",
       "  <tbody>\n",
       "    <tr>\n",
       "      <th>22590</th>\n",
       "      <td>Санкт-Петербург</td>\n",
       "      <td>55.00</td>\n",
       "      <td>2</td>\n",
       "      <td>6000000.0</td>\n",
       "      <td>7</td>\n",
       "      <td>12.0</td>\n",
       "      <td>32.400000</td>\n",
       "      <td>10.000000</td>\n",
       "      <td>0.0</td>\n",
       "      <td>1.00</td>\n",
       "      <td>...</td>\n",
       "      <td>False</td>\n",
       "      <td>2018-10-31T00:00:00</td>\n",
       "      <td>13.0</td>\n",
       "      <td>16</td>\n",
       "      <td>33053.0</td>\n",
       "      <td>14217.0</td>\n",
       "      <td>2.0</td>\n",
       "      <td>293.0</td>\n",
       "      <td>2.0</td>\n",
       "      <td>289.0</td>\n",
       "    </tr>\n",
       "    <tr>\n",
       "      <th>5712</th>\n",
       "      <td>городской посёлок Мга</td>\n",
       "      <td>42.80</td>\n",
       "      <td>2</td>\n",
       "      <td>1500000.0</td>\n",
       "      <td>1</td>\n",
       "      <td>2.0</td>\n",
       "      <td>27.500000</td>\n",
       "      <td>5.200000</td>\n",
       "      <td>0.0</td>\n",
       "      <td>1.20</td>\n",
       "      <td>...</td>\n",
       "      <td>False</td>\n",
       "      <td>2017-08-14T00:00:00</td>\n",
       "      <td>248.0</td>\n",
       "      <td>5</td>\n",
       "      <td>NaN</td>\n",
       "      <td>NaN</td>\n",
       "      <td>NaN</td>\n",
       "      <td>NaN</td>\n",
       "      <td>NaN</td>\n",
       "      <td>NaN</td>\n",
       "    </tr>\n",
       "    <tr>\n",
       "      <th>16934</th>\n",
       "      <td>Санкт-Петербург</td>\n",
       "      <td>40.00</td>\n",
       "      <td>1</td>\n",
       "      <td>4100000.0</td>\n",
       "      <td>5</td>\n",
       "      <td>37.0</td>\n",
       "      <td>17.400000</td>\n",
       "      <td>8.340000</td>\n",
       "      <td>0.0</td>\n",
       "      <td>1.75</td>\n",
       "      <td>...</td>\n",
       "      <td>False</td>\n",
       "      <td>2017-10-17T00:00:00</td>\n",
       "      <td>71.0</td>\n",
       "      <td>5</td>\n",
       "      <td>18732.0</td>\n",
       "      <td>20444.0</td>\n",
       "      <td>0.0</td>\n",
       "      <td>NaN</td>\n",
       "      <td>3.0</td>\n",
       "      <td>80.0</td>\n",
       "    </tr>\n",
       "    <tr>\n",
       "      <th>2572</th>\n",
       "      <td>Луга</td>\n",
       "      <td>62.00</td>\n",
       "      <td>3</td>\n",
       "      <td>2400000.0</td>\n",
       "      <td>4</td>\n",
       "      <td>5.0</td>\n",
       "      <td>40.000000</td>\n",
       "      <td>6.000000</td>\n",
       "      <td>1.0</td>\n",
       "      <td>2.00</td>\n",
       "      <td>...</td>\n",
       "      <td>False</td>\n",
       "      <td>2018-12-27T00:00:00</td>\n",
       "      <td>NaN</td>\n",
       "      <td>4</td>\n",
       "      <td>NaN</td>\n",
       "      <td>NaN</td>\n",
       "      <td>NaN</td>\n",
       "      <td>NaN</td>\n",
       "      <td>NaN</td>\n",
       "      <td>NaN</td>\n",
       "    </tr>\n",
       "    <tr>\n",
       "      <th>19329</th>\n",
       "      <td>Сосновый Бор</td>\n",
       "      <td>40.00</td>\n",
       "      <td>2</td>\n",
       "      <td>1700000.0</td>\n",
       "      <td>8</td>\n",
       "      <td>9.0</td>\n",
       "      <td>NaN</td>\n",
       "      <td>10.569807</td>\n",
       "      <td>0.0</td>\n",
       "      <td>2.00</td>\n",
       "      <td>...</td>\n",
       "      <td>False</td>\n",
       "      <td>2018-07-15T00:00:00</td>\n",
       "      <td>45.0</td>\n",
       "      <td>5</td>\n",
       "      <td>NaN</td>\n",
       "      <td>NaN</td>\n",
       "      <td>NaN</td>\n",
       "      <td>NaN</td>\n",
       "      <td>NaN</td>\n",
       "      <td>NaN</td>\n",
       "    </tr>\n",
       "    <tr>\n",
       "      <th>11352</th>\n",
       "      <td>посёлок Металлострой</td>\n",
       "      <td>36.00</td>\n",
       "      <td>1</td>\n",
       "      <td>3300000.0</td>\n",
       "      <td>12</td>\n",
       "      <td>17.0</td>\n",
       "      <td>15.200000</td>\n",
       "      <td>10.100000</td>\n",
       "      <td>0.0</td>\n",
       "      <td>2.00</td>\n",
       "      <td>...</td>\n",
       "      <td>False</td>\n",
       "      <td>2017-06-18T00:00:00</td>\n",
       "      <td>53.0</td>\n",
       "      <td>4</td>\n",
       "      <td>25268.0</td>\n",
       "      <td>26980.0</td>\n",
       "      <td>0.0</td>\n",
       "      <td>NaN</td>\n",
       "      <td>0.0</td>\n",
       "      <td>NaN</td>\n",
       "    </tr>\n",
       "    <tr>\n",
       "      <th>5850</th>\n",
       "      <td>Луга</td>\n",
       "      <td>35.50</td>\n",
       "      <td>1</td>\n",
       "      <td>1650000.0</td>\n",
       "      <td>5</td>\n",
       "      <td>5.0</td>\n",
       "      <td>NaN</td>\n",
       "      <td>10.569807</td>\n",
       "      <td>0.0</td>\n",
       "      <td>2.00</td>\n",
       "      <td>...</td>\n",
       "      <td>False</td>\n",
       "      <td>2018-05-29T00:00:00</td>\n",
       "      <td>100.0</td>\n",
       "      <td>9</td>\n",
       "      <td>NaN</td>\n",
       "      <td>NaN</td>\n",
       "      <td>NaN</td>\n",
       "      <td>NaN</td>\n",
       "      <td>NaN</td>\n",
       "      <td>NaN</td>\n",
       "    </tr>\n",
       "    <tr>\n",
       "      <th>19098</th>\n",
       "      <td>Выборг</td>\n",
       "      <td>56.00</td>\n",
       "      <td>3</td>\n",
       "      <td>2700000.0</td>\n",
       "      <td>1</td>\n",
       "      <td>5.0</td>\n",
       "      <td>46.000000</td>\n",
       "      <td>6.000000</td>\n",
       "      <td>0.0</td>\n",
       "      <td>2.00</td>\n",
       "      <td>...</td>\n",
       "      <td>False</td>\n",
       "      <td>2018-02-04T00:00:00</td>\n",
       "      <td>282.0</td>\n",
       "      <td>7</td>\n",
       "      <td>NaN</td>\n",
       "      <td>NaN</td>\n",
       "      <td>NaN</td>\n",
       "      <td>NaN</td>\n",
       "      <td>NaN</td>\n",
       "      <td>NaN</td>\n",
       "    </tr>\n",
       "    <tr>\n",
       "      <th>16884</th>\n",
       "      <td>Выборг</td>\n",
       "      <td>33.00</td>\n",
       "      <td>1</td>\n",
       "      <td>1500000.0</td>\n",
       "      <td>5</td>\n",
       "      <td>5.0</td>\n",
       "      <td>20.000000</td>\n",
       "      <td>6.000000</td>\n",
       "      <td>0.0</td>\n",
       "      <td>2.00</td>\n",
       "      <td>...</td>\n",
       "      <td>False</td>\n",
       "      <td>2018-10-03T00:00:00</td>\n",
       "      <td>6.0</td>\n",
       "      <td>0</td>\n",
       "      <td>NaN</td>\n",
       "      <td>NaN</td>\n",
       "      <td>NaN</td>\n",
       "      <td>NaN</td>\n",
       "      <td>NaN</td>\n",
       "      <td>NaN</td>\n",
       "    </tr>\n",
       "    <tr>\n",
       "      <th>22960</th>\n",
       "      <td>Всеволожск</td>\n",
       "      <td>53.60</td>\n",
       "      <td>2</td>\n",
       "      <td>2300000.0</td>\n",
       "      <td>1</td>\n",
       "      <td>2.0</td>\n",
       "      <td>19.000000</td>\n",
       "      <td>10.000000</td>\n",
       "      <td>0.0</td>\n",
       "      <td>2.00</td>\n",
       "      <td>...</td>\n",
       "      <td>False</td>\n",
       "      <td>2018-10-18T00:00:00</td>\n",
       "      <td>NaN</td>\n",
       "      <td>17</td>\n",
       "      <td>NaN</td>\n",
       "      <td>NaN</td>\n",
       "      <td>NaN</td>\n",
       "      <td>NaN</td>\n",
       "      <td>NaN</td>\n",
       "      <td>NaN</td>\n",
       "    </tr>\n",
       "    <tr>\n",
       "      <th>552</th>\n",
       "      <td>Санкт-Петербург</td>\n",
       "      <td>33.50</td>\n",
       "      <td>1</td>\n",
       "      <td>2999000.0</td>\n",
       "      <td>6</td>\n",
       "      <td>15.0</td>\n",
       "      <td>17.500000</td>\n",
       "      <td>6.500000</td>\n",
       "      <td>0.0</td>\n",
       "      <td>2.00</td>\n",
       "      <td>...</td>\n",
       "      <td>False</td>\n",
       "      <td>2017-03-30T00:00:00</td>\n",
       "      <td>270.0</td>\n",
       "      <td>11</td>\n",
       "      <td>33972.0</td>\n",
       "      <td>11746.0</td>\n",
       "      <td>1.0</td>\n",
       "      <td>520.0</td>\n",
       "      <td>1.0</td>\n",
       "      <td>949.0</td>\n",
       "    </tr>\n",
       "    <tr>\n",
       "      <th>20520</th>\n",
       "      <td>Кудрово</td>\n",
       "      <td>38.00</td>\n",
       "      <td>1</td>\n",
       "      <td>3600000.0</td>\n",
       "      <td>9</td>\n",
       "      <td>12.0</td>\n",
       "      <td>15.000000</td>\n",
       "      <td>11.800000</td>\n",
       "      <td>1.0</td>\n",
       "      <td>2.00</td>\n",
       "      <td>...</td>\n",
       "      <td>False</td>\n",
       "      <td>2018-07-05T00:00:00</td>\n",
       "      <td>62.0</td>\n",
       "      <td>9</td>\n",
       "      <td>NaN</td>\n",
       "      <td>NaN</td>\n",
       "      <td>NaN</td>\n",
       "      <td>NaN</td>\n",
       "      <td>NaN</td>\n",
       "      <td>NaN</td>\n",
       "    </tr>\n",
       "    <tr>\n",
       "      <th>16446</th>\n",
       "      <td>Санкт-Петербург</td>\n",
       "      <td>88.30</td>\n",
       "      <td>3</td>\n",
       "      <td>12300000.0</td>\n",
       "      <td>2</td>\n",
       "      <td>5.0</td>\n",
       "      <td>63.900000</td>\n",
       "      <td>12.000000</td>\n",
       "      <td>0.0</td>\n",
       "      <td>2.00</td>\n",
       "      <td>...</td>\n",
       "      <td>False</td>\n",
       "      <td>2019-03-12T00:00:00</td>\n",
       "      <td>NaN</td>\n",
       "      <td>6</td>\n",
       "      <td>38415.0</td>\n",
       "      <td>7675.0</td>\n",
       "      <td>1.0</td>\n",
       "      <td>568.0</td>\n",
       "      <td>1.0</td>\n",
       "      <td>154.0</td>\n",
       "    </tr>\n",
       "    <tr>\n",
       "      <th>4212</th>\n",
       "      <td>Тосно</td>\n",
       "      <td>35.43</td>\n",
       "      <td>1</td>\n",
       "      <td>2120000.0</td>\n",
       "      <td>9</td>\n",
       "      <td>18.0</td>\n",
       "      <td>16.600000</td>\n",
       "      <td>8.800000</td>\n",
       "      <td>2.0</td>\n",
       "      <td>2.00</td>\n",
       "      <td>...</td>\n",
       "      <td>False</td>\n",
       "      <td>2017-12-18T00:00:00</td>\n",
       "      <td>36.0</td>\n",
       "      <td>1</td>\n",
       "      <td>NaN</td>\n",
       "      <td>NaN</td>\n",
       "      <td>NaN</td>\n",
       "      <td>NaN</td>\n",
       "      <td>NaN</td>\n",
       "      <td>NaN</td>\n",
       "    </tr>\n",
       "    <tr>\n",
       "      <th>12755</th>\n",
       "      <td>село Копорье</td>\n",
       "      <td>22.50</td>\n",
       "      <td>1</td>\n",
       "      <td>1400000.0</td>\n",
       "      <td>2</td>\n",
       "      <td>2.0</td>\n",
       "      <td>18.000000</td>\n",
       "      <td>4.500000</td>\n",
       "      <td>1.0</td>\n",
       "      <td>2.20</td>\n",
       "      <td>...</td>\n",
       "      <td>False</td>\n",
       "      <td>2017-09-21T00:00:00</td>\n",
       "      <td>45.0</td>\n",
       "      <td>2</td>\n",
       "      <td>NaN</td>\n",
       "      <td>NaN</td>\n",
       "      <td>NaN</td>\n",
       "      <td>NaN</td>\n",
       "      <td>NaN</td>\n",
       "      <td>NaN</td>\n",
       "    </tr>\n",
       "    <tr>\n",
       "      <th>17794</th>\n",
       "      <td>деревня Бегуницы</td>\n",
       "      <td>58.60</td>\n",
       "      <td>3</td>\n",
       "      <td>2300000.0</td>\n",
       "      <td>3</td>\n",
       "      <td>5.0</td>\n",
       "      <td>44.100002</td>\n",
       "      <td>5.500000</td>\n",
       "      <td>1.0</td>\n",
       "      <td>2.25</td>\n",
       "      <td>...</td>\n",
       "      <td>False</td>\n",
       "      <td>2016-05-12T00:00:00</td>\n",
       "      <td>45.0</td>\n",
       "      <td>1</td>\n",
       "      <td>NaN</td>\n",
       "      <td>NaN</td>\n",
       "      <td>NaN</td>\n",
       "      <td>NaN</td>\n",
       "      <td>NaN</td>\n",
       "      <td>NaN</td>\n",
       "    </tr>\n",
       "    <tr>\n",
       "      <th>1582</th>\n",
       "      <td>Санкт-Петербург</td>\n",
       "      <td>45.60</td>\n",
       "      <td>2</td>\n",
       "      <td>4100000.0</td>\n",
       "      <td>8</td>\n",
       "      <td>9.0</td>\n",
       "      <td>28.400000</td>\n",
       "      <td>7.000000</td>\n",
       "      <td>2.0</td>\n",
       "      <td>2.30</td>\n",
       "      <td>...</td>\n",
       "      <td>False</td>\n",
       "      <td>2016-01-13T00:00:00</td>\n",
       "      <td>329.0</td>\n",
       "      <td>4</td>\n",
       "      <td>49152.0</td>\n",
       "      <td>14977.0</td>\n",
       "      <td>1.0</td>\n",
       "      <td>489.0</td>\n",
       "      <td>1.0</td>\n",
       "      <td>525.0</td>\n",
       "    </tr>\n",
       "    <tr>\n",
       "      <th>5498</th>\n",
       "      <td>Сясьстрой</td>\n",
       "      <td>56.00</td>\n",
       "      <td>2</td>\n",
       "      <td>2200000.0</td>\n",
       "      <td>1</td>\n",
       "      <td>5.0</td>\n",
       "      <td>45.000000</td>\n",
       "      <td>9.000000</td>\n",
       "      <td>2.0</td>\n",
       "      <td>2.30</td>\n",
       "      <td>...</td>\n",
       "      <td>False</td>\n",
       "      <td>2018-04-02T00:00:00</td>\n",
       "      <td>55.0</td>\n",
       "      <td>17</td>\n",
       "      <td>NaN</td>\n",
       "      <td>NaN</td>\n",
       "      <td>NaN</td>\n",
       "      <td>NaN</td>\n",
       "      <td>NaN</td>\n",
       "      <td>NaN</td>\n",
       "    </tr>\n",
       "    <tr>\n",
       "      <th>17762</th>\n",
       "      <td>деревня Бегуницы</td>\n",
       "      <td>54.30</td>\n",
       "      <td>3</td>\n",
       "      <td>2300000.0</td>\n",
       "      <td>2</td>\n",
       "      <td>5.0</td>\n",
       "      <td>39.000000</td>\n",
       "      <td>5.300000</td>\n",
       "      <td>1.0</td>\n",
       "      <td>2.30</td>\n",
       "      <td>...</td>\n",
       "      <td>False</td>\n",
       "      <td>2018-06-28T00:00:00</td>\n",
       "      <td>189.0</td>\n",
       "      <td>20</td>\n",
       "      <td>NaN</td>\n",
       "      <td>NaN</td>\n",
       "      <td>NaN</td>\n",
       "      <td>NaN</td>\n",
       "      <td>NaN</td>\n",
       "      <td>NaN</td>\n",
       "    </tr>\n",
       "    <tr>\n",
       "      <th>23498</th>\n",
       "      <td>Высоцк</td>\n",
       "      <td>54.00</td>\n",
       "      <td>2</td>\n",
       "      <td>1600000.0</td>\n",
       "      <td>1</td>\n",
       "      <td>1.0</td>\n",
       "      <td>33.000000</td>\n",
       "      <td>3.500000</td>\n",
       "      <td>0.0</td>\n",
       "      <td>2.30</td>\n",
       "      <td>...</td>\n",
       "      <td>False</td>\n",
       "      <td>2016-12-26T00:00:00</td>\n",
       "      <td>281.0</td>\n",
       "      <td>7</td>\n",
       "      <td>NaN</td>\n",
       "      <td>NaN</td>\n",
       "      <td>NaN</td>\n",
       "      <td>NaN</td>\n",
       "      <td>NaN</td>\n",
       "      <td>NaN</td>\n",
       "    </tr>\n",
       "  </tbody>\n",
       "</table>\n",
       "<p>20 rows × 22 columns</p>\n",
       "</div>"
      ],
      "text/plain": [
       "               locality_name  total_area  rooms  last_price  floor  \\\n",
       "22590        Санкт-Петербург       55.00      2   6000000.0      7   \n",
       "5712   городской посёлок Мга       42.80      2   1500000.0      1   \n",
       "16934        Санкт-Петербург       40.00      1   4100000.0      5   \n",
       "2572                    Луга       62.00      3   2400000.0      4   \n",
       "19329           Сосновый Бор       40.00      2   1700000.0      8   \n",
       "11352   посёлок Металлострой       36.00      1   3300000.0     12   \n",
       "5850                    Луга       35.50      1   1650000.0      5   \n",
       "19098                 Выборг       56.00      3   2700000.0      1   \n",
       "16884                 Выборг       33.00      1   1500000.0      5   \n",
       "22960             Всеволожск       53.60      2   2300000.0      1   \n",
       "552          Санкт-Петербург       33.50      1   2999000.0      6   \n",
       "20520                Кудрово       38.00      1   3600000.0      9   \n",
       "16446        Санкт-Петербург       88.30      3  12300000.0      2   \n",
       "4212                   Тосно       35.43      1   2120000.0      9   \n",
       "12755           село Копорье       22.50      1   1400000.0      2   \n",
       "17794       деревня Бегуницы       58.60      3   2300000.0      3   \n",
       "1582         Санкт-Петербург       45.60      2   4100000.0      8   \n",
       "5498               Сясьстрой       56.00      2   2200000.0      1   \n",
       "17762       деревня Бегуницы       54.30      3   2300000.0      2   \n",
       "23498                 Высоцк       54.00      2   1600000.0      1   \n",
       "\n",
       "       floors_total  living_area  kitchen_area  balcony  ceiling_height  ...  \\\n",
       "22590          12.0    32.400000     10.000000      0.0            1.00  ...   \n",
       "5712            2.0    27.500000      5.200000      0.0            1.20  ...   \n",
       "16934          37.0    17.400000      8.340000      0.0            1.75  ...   \n",
       "2572            5.0    40.000000      6.000000      1.0            2.00  ...   \n",
       "19329           9.0          NaN     10.569807      0.0            2.00  ...   \n",
       "11352          17.0    15.200000     10.100000      0.0            2.00  ...   \n",
       "5850            5.0          NaN     10.569807      0.0            2.00  ...   \n",
       "19098           5.0    46.000000      6.000000      0.0            2.00  ...   \n",
       "16884           5.0    20.000000      6.000000      0.0            2.00  ...   \n",
       "22960           2.0    19.000000     10.000000      0.0            2.00  ...   \n",
       "552            15.0    17.500000      6.500000      0.0            2.00  ...   \n",
       "20520          12.0    15.000000     11.800000      1.0            2.00  ...   \n",
       "16446           5.0    63.900000     12.000000      0.0            2.00  ...   \n",
       "4212           18.0    16.600000      8.800000      2.0            2.00  ...   \n",
       "12755           2.0    18.000000      4.500000      1.0            2.20  ...   \n",
       "17794           5.0    44.100002      5.500000      1.0            2.25  ...   \n",
       "1582            9.0    28.400000      7.000000      2.0            2.30  ...   \n",
       "5498            5.0    45.000000      9.000000      2.0            2.30  ...   \n",
       "17762           5.0    39.000000      5.300000      1.0            2.30  ...   \n",
       "23498           1.0    33.000000      3.500000      0.0            2.30  ...   \n",
       "\n",
       "       open_plan  first_day_exposition  days_exposition total_images  \\\n",
       "22590      False   2018-10-31T00:00:00             13.0           16   \n",
       "5712       False   2017-08-14T00:00:00            248.0            5   \n",
       "16934      False   2017-10-17T00:00:00             71.0            5   \n",
       "2572       False   2018-12-27T00:00:00              NaN            4   \n",
       "19329      False   2018-07-15T00:00:00             45.0            5   \n",
       "11352      False   2017-06-18T00:00:00             53.0            4   \n",
       "5850       False   2018-05-29T00:00:00            100.0            9   \n",
       "19098      False   2018-02-04T00:00:00            282.0            7   \n",
       "16884      False   2018-10-03T00:00:00              6.0            0   \n",
       "22960      False   2018-10-18T00:00:00              NaN           17   \n",
       "552        False   2017-03-30T00:00:00            270.0           11   \n",
       "20520      False   2018-07-05T00:00:00             62.0            9   \n",
       "16446      False   2019-03-12T00:00:00              NaN            6   \n",
       "4212       False   2017-12-18T00:00:00             36.0            1   \n",
       "12755      False   2017-09-21T00:00:00             45.0            2   \n",
       "17794      False   2016-05-12T00:00:00             45.0            1   \n",
       "1582       False   2016-01-13T00:00:00            329.0            4   \n",
       "5498       False   2018-04-02T00:00:00             55.0           17   \n",
       "17762      False   2018-06-28T00:00:00            189.0           20   \n",
       "23498      False   2016-12-26T00:00:00            281.0            7   \n",
       "\n",
       "       airports_nearest  cityCenters_nearest  parks_around3000  parks_nearest  \\\n",
       "22590           33053.0              14217.0               2.0          293.0   \n",
       "5712                NaN                  NaN               NaN            NaN   \n",
       "16934           18732.0              20444.0               0.0            NaN   \n",
       "2572                NaN                  NaN               NaN            NaN   \n",
       "19329               NaN                  NaN               NaN            NaN   \n",
       "11352           25268.0              26980.0               0.0            NaN   \n",
       "5850                NaN                  NaN               NaN            NaN   \n",
       "19098               NaN                  NaN               NaN            NaN   \n",
       "16884               NaN                  NaN               NaN            NaN   \n",
       "22960               NaN                  NaN               NaN            NaN   \n",
       "552             33972.0              11746.0               1.0          520.0   \n",
       "20520               NaN                  NaN               NaN            NaN   \n",
       "16446           38415.0               7675.0               1.0          568.0   \n",
       "4212                NaN                  NaN               NaN            NaN   \n",
       "12755               NaN                  NaN               NaN            NaN   \n",
       "17794               NaN                  NaN               NaN            NaN   \n",
       "1582            49152.0              14977.0               1.0          489.0   \n",
       "5498                NaN                  NaN               NaN            NaN   \n",
       "17762               NaN                  NaN               NaN            NaN   \n",
       "23498               NaN                  NaN               NaN            NaN   \n",
       "\n",
       "       ponds_around3000  ponds_nearest  \n",
       "22590               2.0          289.0  \n",
       "5712                NaN            NaN  \n",
       "16934               3.0           80.0  \n",
       "2572                NaN            NaN  \n",
       "19329               NaN            NaN  \n",
       "11352               0.0            NaN  \n",
       "5850                NaN            NaN  \n",
       "19098               NaN            NaN  \n",
       "16884               NaN            NaN  \n",
       "22960               NaN            NaN  \n",
       "552                 1.0          949.0  \n",
       "20520               NaN            NaN  \n",
       "16446               1.0          154.0  \n",
       "4212                NaN            NaN  \n",
       "12755               NaN            NaN  \n",
       "17794               NaN            NaN  \n",
       "1582                1.0          525.0  \n",
       "5498                NaN            NaN  \n",
       "17762               NaN            NaN  \n",
       "23498               NaN            NaN  \n",
       "\n",
       "[20 rows x 22 columns]"
      ]
     },
     "execution_count": 195,
     "metadata": {},
     "output_type": "execute_result"
    }
   ],
   "source": [
    "df.sort_values(by='ceiling_height'). head(20)"
   ]
  },
  {
   "cell_type": "markdown",
   "metadata": {},
   "source": [
    "И в деревнях и в поселках имеются такие странные данные. Даже в квартирах эконом класса высота 2,5 м является стандартным значением. Поэтому заменим все значения меньше 2,5 метров.\n"
   ]
  },
  {
   "cell_type": "code",
   "execution_count": 196,
   "metadata": {},
   "outputs": [
    {
     "data": {
      "text/html": [
       "<div>\n",
       "<style scoped>\n",
       "    .dataframe tbody tr th:only-of-type {\n",
       "        vertical-align: middle;\n",
       "    }\n",
       "\n",
       "    .dataframe tbody tr th {\n",
       "        vertical-align: top;\n",
       "    }\n",
       "\n",
       "    .dataframe thead th {\n",
       "        text-align: right;\n",
       "    }\n",
       "</style>\n",
       "<table border=\"1\" class=\"dataframe\">\n",
       "  <thead>\n",
       "    <tr style=\"text-align: right;\">\n",
       "      <th></th>\n",
       "      <th>locality_name</th>\n",
       "      <th>total_area</th>\n",
       "      <th>rooms</th>\n",
       "      <th>last_price</th>\n",
       "      <th>floor</th>\n",
       "      <th>floors_total</th>\n",
       "      <th>living_area</th>\n",
       "      <th>kitchen_area</th>\n",
       "      <th>balcony</th>\n",
       "      <th>ceiling_height</th>\n",
       "      <th>...</th>\n",
       "      <th>open_plan</th>\n",
       "      <th>first_day_exposition</th>\n",
       "      <th>days_exposition</th>\n",
       "      <th>total_images</th>\n",
       "      <th>airports_nearest</th>\n",
       "      <th>cityCenters_nearest</th>\n",
       "      <th>parks_around3000</th>\n",
       "      <th>parks_nearest</th>\n",
       "      <th>ponds_around3000</th>\n",
       "      <th>ponds_nearest</th>\n",
       "    </tr>\n",
       "  </thead>\n",
       "  <tbody>\n",
       "    <tr>\n",
       "      <th>11868</th>\n",
       "      <td>Санкт-Петербург</td>\n",
       "      <td>60.0</td>\n",
       "      <td>2</td>\n",
       "      <td>7000000.0</td>\n",
       "      <td>6</td>\n",
       "      <td>12.0</td>\n",
       "      <td>45.0</td>\n",
       "      <td>11.000000</td>\n",
       "      <td>2.0</td>\n",
       "      <td>2.5</td>\n",
       "      <td>...</td>\n",
       "      <td>False</td>\n",
       "      <td>2017-11-17T00:00:00</td>\n",
       "      <td>40.0</td>\n",
       "      <td>10</td>\n",
       "      <td>16106.0</td>\n",
       "      <td>15255.0</td>\n",
       "      <td>1.0</td>\n",
       "      <td>761.0</td>\n",
       "      <td>0.0</td>\n",
       "      <td>NaN</td>\n",
       "    </tr>\n",
       "    <tr>\n",
       "      <th>11127</th>\n",
       "      <td>Колпино</td>\n",
       "      <td>52.2</td>\n",
       "      <td>2</td>\n",
       "      <td>4090000.0</td>\n",
       "      <td>1</td>\n",
       "      <td>9.0</td>\n",
       "      <td>29.0</td>\n",
       "      <td>7.100000</td>\n",
       "      <td>0.0</td>\n",
       "      <td>2.5</td>\n",
       "      <td>...</td>\n",
       "      <td>False</td>\n",
       "      <td>2019-04-04T00:00:00</td>\n",
       "      <td>NaN</td>\n",
       "      <td>10</td>\n",
       "      <td>25020.0</td>\n",
       "      <td>30806.0</td>\n",
       "      <td>1.0</td>\n",
       "      <td>132.0</td>\n",
       "      <td>0.0</td>\n",
       "      <td>NaN</td>\n",
       "    </tr>\n",
       "    <tr>\n",
       "      <th>11126</th>\n",
       "      <td>Санкт-Петербург</td>\n",
       "      <td>41.0</td>\n",
       "      <td>2</td>\n",
       "      <td>4500000.0</td>\n",
       "      <td>2</td>\n",
       "      <td>5.0</td>\n",
       "      <td>28.0</td>\n",
       "      <td>7.000000</td>\n",
       "      <td>0.0</td>\n",
       "      <td>2.5</td>\n",
       "      <td>...</td>\n",
       "      <td>False</td>\n",
       "      <td>2019-03-14T00:00:00</td>\n",
       "      <td>7.0</td>\n",
       "      <td>3</td>\n",
       "      <td>38999.0</td>\n",
       "      <td>8288.0</td>\n",
       "      <td>0.0</td>\n",
       "      <td>NaN</td>\n",
       "      <td>1.0</td>\n",
       "      <td>469.0</td>\n",
       "    </tr>\n",
       "    <tr>\n",
       "      <th>11125</th>\n",
       "      <td>Санкт-Петербург</td>\n",
       "      <td>45.6</td>\n",
       "      <td>2</td>\n",
       "      <td>3700000.0</td>\n",
       "      <td>1</td>\n",
       "      <td>9.0</td>\n",
       "      <td>29.0</td>\n",
       "      <td>7.100000</td>\n",
       "      <td>0.0</td>\n",
       "      <td>2.5</td>\n",
       "      <td>...</td>\n",
       "      <td>False</td>\n",
       "      <td>2018-06-25T00:00:00</td>\n",
       "      <td>138.0</td>\n",
       "      <td>11</td>\n",
       "      <td>33230.0</td>\n",
       "      <td>13799.0</td>\n",
       "      <td>1.0</td>\n",
       "      <td>512.0</td>\n",
       "      <td>1.0</td>\n",
       "      <td>422.0</td>\n",
       "    </tr>\n",
       "    <tr>\n",
       "      <th>11121</th>\n",
       "      <td>Санкт-Петербург</td>\n",
       "      <td>34.7</td>\n",
       "      <td>1</td>\n",
       "      <td>4700000.0</td>\n",
       "      <td>2</td>\n",
       "      <td>16.0</td>\n",
       "      <td>17.4</td>\n",
       "      <td>10.400000</td>\n",
       "      <td>2.0</td>\n",
       "      <td>2.5</td>\n",
       "      <td>...</td>\n",
       "      <td>False</td>\n",
       "      <td>2018-10-30T00:00:00</td>\n",
       "      <td>29.0</td>\n",
       "      <td>9</td>\n",
       "      <td>50789.0</td>\n",
       "      <td>15140.0</td>\n",
       "      <td>1.0</td>\n",
       "      <td>446.0</td>\n",
       "      <td>0.0</td>\n",
       "      <td>NaN</td>\n",
       "    </tr>\n",
       "    <tr>\n",
       "      <th>...</th>\n",
       "      <td>...</td>\n",
       "      <td>...</td>\n",
       "      <td>...</td>\n",
       "      <td>...</td>\n",
       "      <td>...</td>\n",
       "      <td>...</td>\n",
       "      <td>...</td>\n",
       "      <td>...</td>\n",
       "      <td>...</td>\n",
       "      <td>...</td>\n",
       "      <td>...</td>\n",
       "      <td>...</td>\n",
       "      <td>...</td>\n",
       "      <td>...</td>\n",
       "      <td>...</td>\n",
       "      <td>...</td>\n",
       "      <td>...</td>\n",
       "      <td>...</td>\n",
       "      <td>...</td>\n",
       "      <td>...</td>\n",
       "      <td>...</td>\n",
       "    </tr>\n",
       "    <tr>\n",
       "      <th>23687</th>\n",
       "      <td>Санкт-Петербург</td>\n",
       "      <td>39.0</td>\n",
       "      <td>1</td>\n",
       "      <td>3200000.0</td>\n",
       "      <td>6</td>\n",
       "      <td>9.0</td>\n",
       "      <td>20.0</td>\n",
       "      <td>11.000000</td>\n",
       "      <td>2.0</td>\n",
       "      <td>NaN</td>\n",
       "      <td>...</td>\n",
       "      <td>False</td>\n",
       "      <td>2017-12-16T00:00:00</td>\n",
       "      <td>38.0</td>\n",
       "      <td>6</td>\n",
       "      <td>40837.0</td>\n",
       "      <td>16704.0</td>\n",
       "      <td>0.0</td>\n",
       "      <td>NaN</td>\n",
       "      <td>0.0</td>\n",
       "      <td>NaN</td>\n",
       "    </tr>\n",
       "    <tr>\n",
       "      <th>23690</th>\n",
       "      <td>Санкт-Петербург</td>\n",
       "      <td>52.0</td>\n",
       "      <td>2</td>\n",
       "      <td>5500000.0</td>\n",
       "      <td>2</td>\n",
       "      <td>5.0</td>\n",
       "      <td>31.0</td>\n",
       "      <td>6.000000</td>\n",
       "      <td>0.0</td>\n",
       "      <td>NaN</td>\n",
       "      <td>...</td>\n",
       "      <td>False</td>\n",
       "      <td>2018-07-19T00:00:00</td>\n",
       "      <td>15.0</td>\n",
       "      <td>3</td>\n",
       "      <td>20151.0</td>\n",
       "      <td>6263.0</td>\n",
       "      <td>1.0</td>\n",
       "      <td>300.0</td>\n",
       "      <td>0.0</td>\n",
       "      <td>NaN</td>\n",
       "    </tr>\n",
       "    <tr>\n",
       "      <th>23692</th>\n",
       "      <td>Тихвин</td>\n",
       "      <td>30.0</td>\n",
       "      <td>1</td>\n",
       "      <td>1350000.0</td>\n",
       "      <td>4</td>\n",
       "      <td>5.0</td>\n",
       "      <td>17.5</td>\n",
       "      <td>6.000000</td>\n",
       "      <td>0.0</td>\n",
       "      <td>NaN</td>\n",
       "      <td>...</td>\n",
       "      <td>False</td>\n",
       "      <td>2017-07-07T00:00:00</td>\n",
       "      <td>413.0</td>\n",
       "      <td>2</td>\n",
       "      <td>NaN</td>\n",
       "      <td>NaN</td>\n",
       "      <td>NaN</td>\n",
       "      <td>NaN</td>\n",
       "      <td>NaN</td>\n",
       "      <td>NaN</td>\n",
       "    </tr>\n",
       "    <tr>\n",
       "      <th>23695</th>\n",
       "      <td>Тосно</td>\n",
       "      <td>59.0</td>\n",
       "      <td>3</td>\n",
       "      <td>3100000.0</td>\n",
       "      <td>4</td>\n",
       "      <td>5.0</td>\n",
       "      <td>38.0</td>\n",
       "      <td>8.500000</td>\n",
       "      <td>0.0</td>\n",
       "      <td>NaN</td>\n",
       "      <td>...</td>\n",
       "      <td>False</td>\n",
       "      <td>2018-01-15T00:00:00</td>\n",
       "      <td>45.0</td>\n",
       "      <td>14</td>\n",
       "      <td>NaN</td>\n",
       "      <td>NaN</td>\n",
       "      <td>NaN</td>\n",
       "      <td>NaN</td>\n",
       "      <td>NaN</td>\n",
       "      <td>NaN</td>\n",
       "    </tr>\n",
       "    <tr>\n",
       "      <th>23696</th>\n",
       "      <td>село Рождествено</td>\n",
       "      <td>56.7</td>\n",
       "      <td>2</td>\n",
       "      <td>2500000.0</td>\n",
       "      <td>1</td>\n",
       "      <td>3.0</td>\n",
       "      <td>29.7</td>\n",
       "      <td>10.569807</td>\n",
       "      <td>0.0</td>\n",
       "      <td>NaN</td>\n",
       "      <td>...</td>\n",
       "      <td>False</td>\n",
       "      <td>2018-02-11T00:00:00</td>\n",
       "      <td>NaN</td>\n",
       "      <td>18</td>\n",
       "      <td>NaN</td>\n",
       "      <td>NaN</td>\n",
       "      <td>NaN</td>\n",
       "      <td>NaN</td>\n",
       "      <td>NaN</td>\n",
       "      <td>NaN</td>\n",
       "    </tr>\n",
       "  </tbody>\n",
       "</table>\n",
       "<p>23699 rows × 22 columns</p>\n",
       "</div>"
      ],
      "text/plain": [
       "          locality_name  total_area  rooms  last_price  floor  floors_total  \\\n",
       "11868   Санкт-Петербург        60.0      2   7000000.0      6          12.0   \n",
       "11127           Колпино        52.2      2   4090000.0      1           9.0   \n",
       "11126   Санкт-Петербург        41.0      2   4500000.0      2           5.0   \n",
       "11125   Санкт-Петербург        45.6      2   3700000.0      1           9.0   \n",
       "11121   Санкт-Петербург        34.7      1   4700000.0      2          16.0   \n",
       "...                 ...         ...    ...         ...    ...           ...   \n",
       "23687   Санкт-Петербург        39.0      1   3200000.0      6           9.0   \n",
       "23690   Санкт-Петербург        52.0      2   5500000.0      2           5.0   \n",
       "23692            Тихвин        30.0      1   1350000.0      4           5.0   \n",
       "23695             Тосно        59.0      3   3100000.0      4           5.0   \n",
       "23696  село Рождествено        56.7      2   2500000.0      1           3.0   \n",
       "\n",
       "       living_area  kitchen_area  balcony  ceiling_height  ...  open_plan  \\\n",
       "11868         45.0     11.000000      2.0             2.5  ...      False   \n",
       "11127         29.0      7.100000      0.0             2.5  ...      False   \n",
       "11126         28.0      7.000000      0.0             2.5  ...      False   \n",
       "11125         29.0      7.100000      0.0             2.5  ...      False   \n",
       "11121         17.4     10.400000      2.0             2.5  ...      False   \n",
       "...            ...           ...      ...             ...  ...        ...   \n",
       "23687         20.0     11.000000      2.0             NaN  ...      False   \n",
       "23690         31.0      6.000000      0.0             NaN  ...      False   \n",
       "23692         17.5      6.000000      0.0             NaN  ...      False   \n",
       "23695         38.0      8.500000      0.0             NaN  ...      False   \n",
       "23696         29.7     10.569807      0.0             NaN  ...      False   \n",
       "\n",
       "       first_day_exposition  days_exposition total_images  airports_nearest  \\\n",
       "11868   2017-11-17T00:00:00             40.0           10           16106.0   \n",
       "11127   2019-04-04T00:00:00              NaN           10           25020.0   \n",
       "11126   2019-03-14T00:00:00              7.0            3           38999.0   \n",
       "11125   2018-06-25T00:00:00            138.0           11           33230.0   \n",
       "11121   2018-10-30T00:00:00             29.0            9           50789.0   \n",
       "...                     ...              ...          ...               ...   \n",
       "23687   2017-12-16T00:00:00             38.0            6           40837.0   \n",
       "23690   2018-07-19T00:00:00             15.0            3           20151.0   \n",
       "23692   2017-07-07T00:00:00            413.0            2               NaN   \n",
       "23695   2018-01-15T00:00:00             45.0           14               NaN   \n",
       "23696   2018-02-11T00:00:00              NaN           18               NaN   \n",
       "\n",
       "       cityCenters_nearest  parks_around3000  parks_nearest  ponds_around3000  \\\n",
       "11868              15255.0               1.0          761.0               0.0   \n",
       "11127              30806.0               1.0          132.0               0.0   \n",
       "11126               8288.0               0.0            NaN               1.0   \n",
       "11125              13799.0               1.0          512.0               1.0   \n",
       "11121              15140.0               1.0          446.0               0.0   \n",
       "...                    ...               ...            ...               ...   \n",
       "23687              16704.0               0.0            NaN               0.0   \n",
       "23690               6263.0               1.0          300.0               0.0   \n",
       "23692                  NaN               NaN            NaN               NaN   \n",
       "23695                  NaN               NaN            NaN               NaN   \n",
       "23696                  NaN               NaN            NaN               NaN   \n",
       "\n",
       "       ponds_nearest  \n",
       "11868            NaN  \n",
       "11127            NaN  \n",
       "11126          469.0  \n",
       "11125          422.0  \n",
       "11121            NaN  \n",
       "...              ...  \n",
       "23687            NaN  \n",
       "23690            NaN  \n",
       "23692            NaN  \n",
       "23695            NaN  \n",
       "23696            NaN  \n",
       "\n",
       "[23699 rows x 22 columns]"
      ]
     },
     "execution_count": 196,
     "metadata": {},
     "output_type": "execute_result"
    }
   ],
   "source": [
    "df['ceiling_height'].where(~(df.ceiling_height < 2.5), other=2.5, inplace=True)\n",
    "df.sort_values(by='ceiling_height')"
   ]
  },
  {
   "cell_type": "markdown",
   "metadata": {},
   "source": [
    "Однако, остались еще пропущенные значения высоты потолков. Заменим эти значения на среднюю высоту потолков 2,7 метров. "
   ]
  },
  {
   "cell_type": "code",
   "execution_count": 197,
   "metadata": {},
   "outputs": [
    {
     "data": {
      "text/plain": [
       "2.7268801709873136"
      ]
     },
     "execution_count": 197,
     "metadata": {},
     "output_type": "execute_result"
    }
   ],
   "source": [
    "df['ceiling_height'].mean()"
   ]
  },
  {
   "cell_type": "markdown",
   "metadata": {},
   "source": [
    "Медиана значений данного столбца подтвердила это значение. Проверим результаты"
   ]
  },
  {
   "cell_type": "code",
   "execution_count": 198,
   "metadata": {},
   "outputs": [
    {
     "data": {
      "text/plain": [
       "locality_name              49\n",
       "total_area                  0\n",
       "rooms                       0\n",
       "last_price                  0\n",
       "floor                       0\n",
       "floors_total               86\n",
       "living_area              1903\n",
       "kitchen_area                0\n",
       "balcony                     0\n",
       "ceiling_height              0\n",
       "is_apartment                0\n",
       "studio                      0\n",
       "open_plan                   0\n",
       "first_day_exposition        0\n",
       "days_exposition          3181\n",
       "total_images                0\n",
       "airports_nearest         5542\n",
       "cityCenters_nearest      5519\n",
       "parks_around3000         5518\n",
       "parks_nearest           15620\n",
       "ponds_around3000         5518\n",
       "ponds_nearest           14589\n",
       "dtype: int64"
      ]
     },
     "execution_count": 198,
     "metadata": {},
     "output_type": "execute_result"
    }
   ],
   "source": [
    "df['ceiling_height'] = df['ceiling_height'].fillna(2.7)\n",
    "df.isna().sum()"
   ]
  },
  {
   "cell_type": "markdown",
   "metadata": {},
   "source": [
    "Проверим столбец *floors_total* на возможность замены пропусков подходящими значениями"
   ]
  },
  {
   "cell_type": "code",
   "execution_count": 199,
   "metadata": {},
   "outputs": [
    {
     "data": {
      "text/html": [
       "<div>\n",
       "<style scoped>\n",
       "    .dataframe tbody tr th:only-of-type {\n",
       "        vertical-align: middle;\n",
       "    }\n",
       "\n",
       "    .dataframe tbody tr th {\n",
       "        vertical-align: top;\n",
       "    }\n",
       "\n",
       "    .dataframe thead th {\n",
       "        text-align: right;\n",
       "    }\n",
       "</style>\n",
       "<table border=\"1\" class=\"dataframe\">\n",
       "  <thead>\n",
       "    <tr style=\"text-align: right;\">\n",
       "      <th></th>\n",
       "      <th>locality_name</th>\n",
       "      <th>total_area</th>\n",
       "      <th>rooms</th>\n",
       "      <th>last_price</th>\n",
       "      <th>floor</th>\n",
       "      <th>floors_total</th>\n",
       "      <th>living_area</th>\n",
       "      <th>kitchen_area</th>\n",
       "      <th>balcony</th>\n",
       "      <th>ceiling_height</th>\n",
       "      <th>...</th>\n",
       "      <th>open_plan</th>\n",
       "      <th>first_day_exposition</th>\n",
       "      <th>days_exposition</th>\n",
       "      <th>total_images</th>\n",
       "      <th>airports_nearest</th>\n",
       "      <th>cityCenters_nearest</th>\n",
       "      <th>parks_around3000</th>\n",
       "      <th>parks_nearest</th>\n",
       "      <th>ponds_around3000</th>\n",
       "      <th>ponds_nearest</th>\n",
       "    </tr>\n",
       "  </thead>\n",
       "  <tbody>\n",
       "    <tr>\n",
       "      <th>16668</th>\n",
       "      <td>Санкт-Петербург</td>\n",
       "      <td>108.00</td>\n",
       "      <td>3</td>\n",
       "      <td>15950000.0</td>\n",
       "      <td>3</td>\n",
       "      <td>NaN</td>\n",
       "      <td>NaN</td>\n",
       "      <td>10.569807</td>\n",
       "      <td>0.0</td>\n",
       "      <td>2.8</td>\n",
       "      <td>...</td>\n",
       "      <td>False</td>\n",
       "      <td>2017-10-24T00:00:00</td>\n",
       "      <td>91.0</td>\n",
       "      <td>0</td>\n",
       "      <td>26402.0</td>\n",
       "      <td>5249.0</td>\n",
       "      <td>0.0</td>\n",
       "      <td>NaN</td>\n",
       "      <td>2.0</td>\n",
       "      <td>444.0</td>\n",
       "    </tr>\n",
       "    <tr>\n",
       "      <th>16850</th>\n",
       "      <td>Санкт-Петербург</td>\n",
       "      <td>90.20</td>\n",
       "      <td>3</td>\n",
       "      <td>6188957.0</td>\n",
       "      <td>14</td>\n",
       "      <td>NaN</td>\n",
       "      <td>47.70</td>\n",
       "      <td>16.700000</td>\n",
       "      <td>0.0</td>\n",
       "      <td>2.7</td>\n",
       "      <td>...</td>\n",
       "      <td>False</td>\n",
       "      <td>2016-09-21T00:00:00</td>\n",
       "      <td>320.0</td>\n",
       "      <td>4</td>\n",
       "      <td>22041.0</td>\n",
       "      <td>17369.0</td>\n",
       "      <td>0.0</td>\n",
       "      <td>NaN</td>\n",
       "      <td>1.0</td>\n",
       "      <td>374.0</td>\n",
       "    </tr>\n",
       "    <tr>\n",
       "      <th>17498</th>\n",
       "      <td>Санкт-Петербург</td>\n",
       "      <td>60.20</td>\n",
       "      <td>2</td>\n",
       "      <td>4252249.0</td>\n",
       "      <td>13</td>\n",
       "      <td>NaN</td>\n",
       "      <td>31.80</td>\n",
       "      <td>12.100000</td>\n",
       "      <td>0.0</td>\n",
       "      <td>2.7</td>\n",
       "      <td>...</td>\n",
       "      <td>False</td>\n",
       "      <td>2017-04-01T00:00:00</td>\n",
       "      <td>128.0</td>\n",
       "      <td>4</td>\n",
       "      <td>22041.0</td>\n",
       "      <td>17369.0</td>\n",
       "      <td>0.0</td>\n",
       "      <td>NaN</td>\n",
       "      <td>1.0</td>\n",
       "      <td>374.0</td>\n",
       "    </tr>\n",
       "    <tr>\n",
       "      <th>17721</th>\n",
       "      <td>Санкт-Петербург</td>\n",
       "      <td>76.50</td>\n",
       "      <td>2</td>\n",
       "      <td>12000000.0</td>\n",
       "      <td>8</td>\n",
       "      <td>NaN</td>\n",
       "      <td>36.30</td>\n",
       "      <td>13.800000</td>\n",
       "      <td>0.0</td>\n",
       "      <td>2.7</td>\n",
       "      <td>...</td>\n",
       "      <td>False</td>\n",
       "      <td>2017-07-02T00:00:00</td>\n",
       "      <td>36.0</td>\n",
       "      <td>0</td>\n",
       "      <td>39393.0</td>\n",
       "      <td>11096.0</td>\n",
       "      <td>1.0</td>\n",
       "      <td>537.0</td>\n",
       "      <td>0.0</td>\n",
       "      <td>NaN</td>\n",
       "    </tr>\n",
       "    <tr>\n",
       "      <th>17925</th>\n",
       "      <td>Санкт-Петербург</td>\n",
       "      <td>32.69</td>\n",
       "      <td>1</td>\n",
       "      <td>3241540.0</td>\n",
       "      <td>9</td>\n",
       "      <td>NaN</td>\n",
       "      <td>11.00</td>\n",
       "      <td>10.569807</td>\n",
       "      <td>0.0</td>\n",
       "      <td>2.7</td>\n",
       "      <td>...</td>\n",
       "      <td>False</td>\n",
       "      <td>2018-10-01T00:00:00</td>\n",
       "      <td>145.0</td>\n",
       "      <td>10</td>\n",
       "      <td>47303.0</td>\n",
       "      <td>25866.0</td>\n",
       "      <td>1.0</td>\n",
       "      <td>251.0</td>\n",
       "      <td>1.0</td>\n",
       "      <td>350.0</td>\n",
       "    </tr>\n",
       "    <tr>\n",
       "      <th>18832</th>\n",
       "      <td>Санкт-Петербург</td>\n",
       "      <td>284.00</td>\n",
       "      <td>4</td>\n",
       "      <td>40348248.0</td>\n",
       "      <td>6</td>\n",
       "      <td>NaN</td>\n",
       "      <td>104.76</td>\n",
       "      <td>14.770000</td>\n",
       "      <td>0.0</td>\n",
       "      <td>2.7</td>\n",
       "      <td>...</td>\n",
       "      <td>False</td>\n",
       "      <td>2016-11-24T00:00:00</td>\n",
       "      <td>256.0</td>\n",
       "      <td>0</td>\n",
       "      <td>19095.0</td>\n",
       "      <td>4529.0</td>\n",
       "      <td>0.0</td>\n",
       "      <td>NaN</td>\n",
       "      <td>0.0</td>\n",
       "      <td>NaN</td>\n",
       "    </tr>\n",
       "    <tr>\n",
       "      <th>19133</th>\n",
       "      <td>Санкт-Петербург</td>\n",
       "      <td>24.67</td>\n",
       "      <td>1</td>\n",
       "      <td>2903659.0</td>\n",
       "      <td>6</td>\n",
       "      <td>NaN</td>\n",
       "      <td>16.00</td>\n",
       "      <td>10.569807</td>\n",
       "      <td>0.0</td>\n",
       "      <td>2.7</td>\n",
       "      <td>...</td>\n",
       "      <td>False</td>\n",
       "      <td>2018-10-10T00:00:00</td>\n",
       "      <td>136.0</td>\n",
       "      <td>10</td>\n",
       "      <td>47303.0</td>\n",
       "      <td>25865.0</td>\n",
       "      <td>1.0</td>\n",
       "      <td>400.0</td>\n",
       "      <td>1.0</td>\n",
       "      <td>492.0</td>\n",
       "    </tr>\n",
       "    <tr>\n",
       "      <th>19350</th>\n",
       "      <td>Санкт-Петербург</td>\n",
       "      <td>51.77</td>\n",
       "      <td>2</td>\n",
       "      <td>5249478.0</td>\n",
       "      <td>6</td>\n",
       "      <td>NaN</td>\n",
       "      <td>22.00</td>\n",
       "      <td>10.569807</td>\n",
       "      <td>0.0</td>\n",
       "      <td>2.7</td>\n",
       "      <td>...</td>\n",
       "      <td>False</td>\n",
       "      <td>2018-11-04T00:00:00</td>\n",
       "      <td>111.0</td>\n",
       "      <td>10</td>\n",
       "      <td>47303.0</td>\n",
       "      <td>25866.0</td>\n",
       "      <td>1.0</td>\n",
       "      <td>251.0</td>\n",
       "      <td>1.0</td>\n",
       "      <td>350.0</td>\n",
       "    </tr>\n",
       "    <tr>\n",
       "      <th>19452</th>\n",
       "      <td>Санкт-Петербург</td>\n",
       "      <td>76.80</td>\n",
       "      <td>3</td>\n",
       "      <td>9500000.0</td>\n",
       "      <td>10</td>\n",
       "      <td>NaN</td>\n",
       "      <td>NaN</td>\n",
       "      <td>10.569807</td>\n",
       "      <td>0.0</td>\n",
       "      <td>2.7</td>\n",
       "      <td>...</td>\n",
       "      <td>False</td>\n",
       "      <td>2019-04-11T00:00:00</td>\n",
       "      <td>NaN</td>\n",
       "      <td>5</td>\n",
       "      <td>36628.0</td>\n",
       "      <td>14780.0</td>\n",
       "      <td>0.0</td>\n",
       "      <td>NaN</td>\n",
       "      <td>0.0</td>\n",
       "      <td>NaN</td>\n",
       "    </tr>\n",
       "    <tr>\n",
       "      <th>20146</th>\n",
       "      <td>посёлок Стрельна</td>\n",
       "      <td>36.00</td>\n",
       "      <td>1</td>\n",
       "      <td>3850000.0</td>\n",
       "      <td>15</td>\n",
       "      <td>NaN</td>\n",
       "      <td>19.00</td>\n",
       "      <td>8.500000</td>\n",
       "      <td>0.0</td>\n",
       "      <td>2.7</td>\n",
       "      <td>...</td>\n",
       "      <td>False</td>\n",
       "      <td>2018-10-12T00:00:00</td>\n",
       "      <td>183.0</td>\n",
       "      <td>16</td>\n",
       "      <td>28276.0</td>\n",
       "      <td>23454.0</td>\n",
       "      <td>0.0</td>\n",
       "      <td>NaN</td>\n",
       "      <td>0.0</td>\n",
       "      <td>NaN</td>\n",
       "    </tr>\n",
       "    <tr>\n",
       "      <th>20250</th>\n",
       "      <td>Санкт-Петербург</td>\n",
       "      <td>60.60</td>\n",
       "      <td>2</td>\n",
       "      <td>6060000.0</td>\n",
       "      <td>2</td>\n",
       "      <td>NaN</td>\n",
       "      <td>NaN</td>\n",
       "      <td>10.569807</td>\n",
       "      <td>0.0</td>\n",
       "      <td>2.8</td>\n",
       "      <td>...</td>\n",
       "      <td>False</td>\n",
       "      <td>2015-10-29T00:00:00</td>\n",
       "      <td>1257.0</td>\n",
       "      <td>5</td>\n",
       "      <td>35231.0</td>\n",
       "      <td>13301.0</td>\n",
       "      <td>0.0</td>\n",
       "      <td>NaN</td>\n",
       "      <td>1.0</td>\n",
       "      <td>830.0</td>\n",
       "    </tr>\n",
       "    <tr>\n",
       "      <th>20738</th>\n",
       "      <td>посёлок Мурино</td>\n",
       "      <td>54.22</td>\n",
       "      <td>2</td>\n",
       "      <td>4480000.0</td>\n",
       "      <td>10</td>\n",
       "      <td>NaN</td>\n",
       "      <td>NaN</td>\n",
       "      <td>10.569807</td>\n",
       "      <td>0.0</td>\n",
       "      <td>2.7</td>\n",
       "      <td>...</td>\n",
       "      <td>False</td>\n",
       "      <td>2018-02-01T00:00:00</td>\n",
       "      <td>42.0</td>\n",
       "      <td>5</td>\n",
       "      <td>NaN</td>\n",
       "      <td>NaN</td>\n",
       "      <td>NaN</td>\n",
       "      <td>NaN</td>\n",
       "      <td>NaN</td>\n",
       "      <td>NaN</td>\n",
       "    </tr>\n",
       "    <tr>\n",
       "      <th>21273</th>\n",
       "      <td>Санкт-Петербург</td>\n",
       "      <td>70.02</td>\n",
       "      <td>2</td>\n",
       "      <td>6300000.0</td>\n",
       "      <td>19</td>\n",
       "      <td>NaN</td>\n",
       "      <td>34.87</td>\n",
       "      <td>10.130000</td>\n",
       "      <td>0.0</td>\n",
       "      <td>2.7</td>\n",
       "      <td>...</td>\n",
       "      <td>False</td>\n",
       "      <td>2015-03-28T00:00:00</td>\n",
       "      <td>516.0</td>\n",
       "      <td>3</td>\n",
       "      <td>35234.0</td>\n",
       "      <td>14674.0</td>\n",
       "      <td>0.0</td>\n",
       "      <td>NaN</td>\n",
       "      <td>1.0</td>\n",
       "      <td>844.0</td>\n",
       "    </tr>\n",
       "    <tr>\n",
       "      <th>21651</th>\n",
       "      <td>Санкт-Петербург</td>\n",
       "      <td>44.70</td>\n",
       "      <td>1</td>\n",
       "      <td>7143060.0</td>\n",
       "      <td>19</td>\n",
       "      <td>NaN</td>\n",
       "      <td>13.79</td>\n",
       "      <td>10.569807</td>\n",
       "      <td>0.0</td>\n",
       "      <td>3.0</td>\n",
       "      <td>...</td>\n",
       "      <td>False</td>\n",
       "      <td>2019-01-11T00:00:00</td>\n",
       "      <td>NaN</td>\n",
       "      <td>4</td>\n",
       "      <td>9222.0</td>\n",
       "      <td>11340.0</td>\n",
       "      <td>0.0</td>\n",
       "      <td>NaN</td>\n",
       "      <td>0.0</td>\n",
       "      <td>NaN</td>\n",
       "    </tr>\n",
       "    <tr>\n",
       "      <th>21753</th>\n",
       "      <td>Санкт-Петербург</td>\n",
       "      <td>57.00</td>\n",
       "      <td>2</td>\n",
       "      <td>6800000.0</td>\n",
       "      <td>21</td>\n",
       "      <td>NaN</td>\n",
       "      <td>NaN</td>\n",
       "      <td>10.569807</td>\n",
       "      <td>0.0</td>\n",
       "      <td>2.7</td>\n",
       "      <td>...</td>\n",
       "      <td>False</td>\n",
       "      <td>2017-05-01T00:00:00</td>\n",
       "      <td>36.0</td>\n",
       "      <td>7</td>\n",
       "      <td>17618.0</td>\n",
       "      <td>14600.0</td>\n",
       "      <td>2.0</td>\n",
       "      <td>104.0</td>\n",
       "      <td>0.0</td>\n",
       "      <td>NaN</td>\n",
       "    </tr>\n",
       "    <tr>\n",
       "      <th>22542</th>\n",
       "      <td>Санкт-Петербург</td>\n",
       "      <td>63.50</td>\n",
       "      <td>2</td>\n",
       "      <td>8500000.0</td>\n",
       "      <td>3</td>\n",
       "      <td>NaN</td>\n",
       "      <td>NaN</td>\n",
       "      <td>10.569807</td>\n",
       "      <td>0.0</td>\n",
       "      <td>2.8</td>\n",
       "      <td>...</td>\n",
       "      <td>False</td>\n",
       "      <td>2017-05-24T00:00:00</td>\n",
       "      <td>512.0</td>\n",
       "      <td>5</td>\n",
       "      <td>51340.0</td>\n",
       "      <td>15363.0</td>\n",
       "      <td>0.0</td>\n",
       "      <td>NaN</td>\n",
       "      <td>1.0</td>\n",
       "      <td>853.0</td>\n",
       "    </tr>\n",
       "    <tr>\n",
       "      <th>22656</th>\n",
       "      <td>Санкт-Петербург</td>\n",
       "      <td>64.50</td>\n",
       "      <td>2</td>\n",
       "      <td>4574160.0</td>\n",
       "      <td>20</td>\n",
       "      <td>NaN</td>\n",
       "      <td>31.70</td>\n",
       "      <td>14.400000</td>\n",
       "      <td>0.0</td>\n",
       "      <td>2.7</td>\n",
       "      <td>...</td>\n",
       "      <td>False</td>\n",
       "      <td>2017-04-02T00:00:00</td>\n",
       "      <td>127.0</td>\n",
       "      <td>4</td>\n",
       "      <td>22041.0</td>\n",
       "      <td>17369.0</td>\n",
       "      <td>0.0</td>\n",
       "      <td>NaN</td>\n",
       "      <td>1.0</td>\n",
       "      <td>374.0</td>\n",
       "    </tr>\n",
       "    <tr>\n",
       "      <th>22808</th>\n",
       "      <td>Санкт-Петербург</td>\n",
       "      <td>110.40</td>\n",
       "      <td>3</td>\n",
       "      <td>14569263.0</td>\n",
       "      <td>6</td>\n",
       "      <td>NaN</td>\n",
       "      <td>45.38</td>\n",
       "      <td>23.420000</td>\n",
       "      <td>0.0</td>\n",
       "      <td>2.7</td>\n",
       "      <td>...</td>\n",
       "      <td>False</td>\n",
       "      <td>2016-11-20T00:00:00</td>\n",
       "      <td>260.0</td>\n",
       "      <td>0</td>\n",
       "      <td>19095.0</td>\n",
       "      <td>4529.0</td>\n",
       "      <td>0.0</td>\n",
       "      <td>NaN</td>\n",
       "      <td>0.0</td>\n",
       "      <td>NaN</td>\n",
       "    </tr>\n",
       "    <tr>\n",
       "      <th>23590</th>\n",
       "      <td>Санкт-Петербург</td>\n",
       "      <td>123.30</td>\n",
       "      <td>3</td>\n",
       "      <td>21187872.0</td>\n",
       "      <td>18</td>\n",
       "      <td>NaN</td>\n",
       "      <td>50.40</td>\n",
       "      <td>23.600000</td>\n",
       "      <td>0.0</td>\n",
       "      <td>2.7</td>\n",
       "      <td>...</td>\n",
       "      <td>False</td>\n",
       "      <td>2017-04-25T00:00:00</td>\n",
       "      <td>104.0</td>\n",
       "      <td>0</td>\n",
       "      <td>19095.0</td>\n",
       "      <td>4529.0</td>\n",
       "      <td>0.0</td>\n",
       "      <td>NaN</td>\n",
       "      <td>0.0</td>\n",
       "      <td>NaN</td>\n",
       "    </tr>\n",
       "    <tr>\n",
       "      <th>23658</th>\n",
       "      <td>Санкт-Петербург</td>\n",
       "      <td>43.80</td>\n",
       "      <td>1</td>\n",
       "      <td>3063600.0</td>\n",
       "      <td>8</td>\n",
       "      <td>NaN</td>\n",
       "      <td>14.00</td>\n",
       "      <td>15.500000</td>\n",
       "      <td>2.0</td>\n",
       "      <td>2.7</td>\n",
       "      <td>...</td>\n",
       "      <td>False</td>\n",
       "      <td>2016-11-28T00:00:00</td>\n",
       "      <td>246.0</td>\n",
       "      <td>6</td>\n",
       "      <td>8426.0</td>\n",
       "      <td>12082.0</td>\n",
       "      <td>2.0</td>\n",
       "      <td>24.0</td>\n",
       "      <td>1.0</td>\n",
       "      <td>271.0</td>\n",
       "    </tr>\n",
       "  </tbody>\n",
       "</table>\n",
       "<p>20 rows × 22 columns</p>\n",
       "</div>"
      ],
      "text/plain": [
       "          locality_name  total_area  rooms  last_price  floor  floors_total  \\\n",
       "16668   Санкт-Петербург      108.00      3  15950000.0      3           NaN   \n",
       "16850   Санкт-Петербург       90.20      3   6188957.0     14           NaN   \n",
       "17498   Санкт-Петербург       60.20      2   4252249.0     13           NaN   \n",
       "17721   Санкт-Петербург       76.50      2  12000000.0      8           NaN   \n",
       "17925   Санкт-Петербург       32.69      1   3241540.0      9           NaN   \n",
       "18832   Санкт-Петербург      284.00      4  40348248.0      6           NaN   \n",
       "19133   Санкт-Петербург       24.67      1   2903659.0      6           NaN   \n",
       "19350   Санкт-Петербург       51.77      2   5249478.0      6           NaN   \n",
       "19452   Санкт-Петербург       76.80      3   9500000.0     10           NaN   \n",
       "20146  посёлок Стрельна       36.00      1   3850000.0     15           NaN   \n",
       "20250   Санкт-Петербург       60.60      2   6060000.0      2           NaN   \n",
       "20738    посёлок Мурино       54.22      2   4480000.0     10           NaN   \n",
       "21273   Санкт-Петербург       70.02      2   6300000.0     19           NaN   \n",
       "21651   Санкт-Петербург       44.70      1   7143060.0     19           NaN   \n",
       "21753   Санкт-Петербург       57.00      2   6800000.0     21           NaN   \n",
       "22542   Санкт-Петербург       63.50      2   8500000.0      3           NaN   \n",
       "22656   Санкт-Петербург       64.50      2   4574160.0     20           NaN   \n",
       "22808   Санкт-Петербург      110.40      3  14569263.0      6           NaN   \n",
       "23590   Санкт-Петербург      123.30      3  21187872.0     18           NaN   \n",
       "23658   Санкт-Петербург       43.80      1   3063600.0      8           NaN   \n",
       "\n",
       "       living_area  kitchen_area  balcony  ceiling_height  ...  open_plan  \\\n",
       "16668          NaN     10.569807      0.0             2.8  ...      False   \n",
       "16850        47.70     16.700000      0.0             2.7  ...      False   \n",
       "17498        31.80     12.100000      0.0             2.7  ...      False   \n",
       "17721        36.30     13.800000      0.0             2.7  ...      False   \n",
       "17925        11.00     10.569807      0.0             2.7  ...      False   \n",
       "18832       104.76     14.770000      0.0             2.7  ...      False   \n",
       "19133        16.00     10.569807      0.0             2.7  ...      False   \n",
       "19350        22.00     10.569807      0.0             2.7  ...      False   \n",
       "19452          NaN     10.569807      0.0             2.7  ...      False   \n",
       "20146        19.00      8.500000      0.0             2.7  ...      False   \n",
       "20250          NaN     10.569807      0.0             2.8  ...      False   \n",
       "20738          NaN     10.569807      0.0             2.7  ...      False   \n",
       "21273        34.87     10.130000      0.0             2.7  ...      False   \n",
       "21651        13.79     10.569807      0.0             3.0  ...      False   \n",
       "21753          NaN     10.569807      0.0             2.7  ...      False   \n",
       "22542          NaN     10.569807      0.0             2.8  ...      False   \n",
       "22656        31.70     14.400000      0.0             2.7  ...      False   \n",
       "22808        45.38     23.420000      0.0             2.7  ...      False   \n",
       "23590        50.40     23.600000      0.0             2.7  ...      False   \n",
       "23658        14.00     15.500000      2.0             2.7  ...      False   \n",
       "\n",
       "       first_day_exposition  days_exposition total_images  airports_nearest  \\\n",
       "16668   2017-10-24T00:00:00             91.0            0           26402.0   \n",
       "16850   2016-09-21T00:00:00            320.0            4           22041.0   \n",
       "17498   2017-04-01T00:00:00            128.0            4           22041.0   \n",
       "17721   2017-07-02T00:00:00             36.0            0           39393.0   \n",
       "17925   2018-10-01T00:00:00            145.0           10           47303.0   \n",
       "18832   2016-11-24T00:00:00            256.0            0           19095.0   \n",
       "19133   2018-10-10T00:00:00            136.0           10           47303.0   \n",
       "19350   2018-11-04T00:00:00            111.0           10           47303.0   \n",
       "19452   2019-04-11T00:00:00              NaN            5           36628.0   \n",
       "20146   2018-10-12T00:00:00            183.0           16           28276.0   \n",
       "20250   2015-10-29T00:00:00           1257.0            5           35231.0   \n",
       "20738   2018-02-01T00:00:00             42.0            5               NaN   \n",
       "21273   2015-03-28T00:00:00            516.0            3           35234.0   \n",
       "21651   2019-01-11T00:00:00              NaN            4            9222.0   \n",
       "21753   2017-05-01T00:00:00             36.0            7           17618.0   \n",
       "22542   2017-05-24T00:00:00            512.0            5           51340.0   \n",
       "22656   2017-04-02T00:00:00            127.0            4           22041.0   \n",
       "22808   2016-11-20T00:00:00            260.0            0           19095.0   \n",
       "23590   2017-04-25T00:00:00            104.0            0           19095.0   \n",
       "23658   2016-11-28T00:00:00            246.0            6            8426.0   \n",
       "\n",
       "       cityCenters_nearest  parks_around3000  parks_nearest  ponds_around3000  \\\n",
       "16668               5249.0               0.0            NaN               2.0   \n",
       "16850              17369.0               0.0            NaN               1.0   \n",
       "17498              17369.0               0.0            NaN               1.0   \n",
       "17721              11096.0               1.0          537.0               0.0   \n",
       "17925              25866.0               1.0          251.0               1.0   \n",
       "18832               4529.0               0.0            NaN               0.0   \n",
       "19133              25865.0               1.0          400.0               1.0   \n",
       "19350              25866.0               1.0          251.0               1.0   \n",
       "19452              14780.0               0.0            NaN               0.0   \n",
       "20146              23454.0               0.0            NaN               0.0   \n",
       "20250              13301.0               0.0            NaN               1.0   \n",
       "20738                  NaN               NaN            NaN               NaN   \n",
       "21273              14674.0               0.0            NaN               1.0   \n",
       "21651              11340.0               0.0            NaN               0.0   \n",
       "21753              14600.0               2.0          104.0               0.0   \n",
       "22542              15363.0               0.0            NaN               1.0   \n",
       "22656              17369.0               0.0            NaN               1.0   \n",
       "22808               4529.0               0.0            NaN               0.0   \n",
       "23590               4529.0               0.0            NaN               0.0   \n",
       "23658              12082.0               2.0           24.0               1.0   \n",
       "\n",
       "       ponds_nearest  \n",
       "16668          444.0  \n",
       "16850          374.0  \n",
       "17498          374.0  \n",
       "17721            NaN  \n",
       "17925          350.0  \n",
       "18832            NaN  \n",
       "19133          492.0  \n",
       "19350          350.0  \n",
       "19452            NaN  \n",
       "20146            NaN  \n",
       "20250          830.0  \n",
       "20738            NaN  \n",
       "21273          844.0  \n",
       "21651            NaN  \n",
       "21753            NaN  \n",
       "22542          853.0  \n",
       "22656          374.0  \n",
       "22808            NaN  \n",
       "23590            NaN  \n",
       "23658          271.0  \n",
       "\n",
       "[20 rows x 22 columns]"
      ]
     },
     "execution_count": 199,
     "metadata": {},
     "output_type": "execute_result"
    }
   ],
   "source": [
    "df.sort_values(by='floors_total'). tail(20)"
   ]
  },
  {
   "cell_type": "markdown",
   "metadata": {},
   "source": [
    "Мы имеем все многоэтажные дома, не частный сектор, номер этажа везде разный. Данные пропущенные значения оставим пустыми, так как тип Nan может участвовать в математических операциях и число пропущенных значений очень мало"
   ]
  },
  {
   "cell_type": "markdown",
   "metadata": {},
   "source": [
    "Столбец *locality_name* невозможно заменить на какое то среднее значение. Для проведения анализа необходимо наименование населенного пункта, поэтому удалим строки с пропущенным значением столбца *locality_name*."
   ]
  },
  {
   "cell_type": "code",
   "execution_count": 200,
   "metadata": {},
   "outputs": [
    {
     "data": {
      "text/plain": [
       "locality_name              49\n",
       "total_area                  0\n",
       "rooms                       0\n",
       "last_price                  0\n",
       "floor                       0\n",
       "floors_total               86\n",
       "living_area              1903\n",
       "kitchen_area                0\n",
       "balcony                     0\n",
       "ceiling_height              0\n",
       "is_apartment                0\n",
       "studio                      0\n",
       "open_plan                   0\n",
       "first_day_exposition        0\n",
       "days_exposition          3181\n",
       "total_images                0\n",
       "airports_nearest         5542\n",
       "cityCenters_nearest      5519\n",
       "parks_around3000         5518\n",
       "parks_nearest           15620\n",
       "ponds_around3000         5518\n",
       "ponds_nearest           14589\n",
       "dtype: int64"
      ]
     },
     "execution_count": 200,
     "metadata": {},
     "output_type": "execute_result"
    }
   ],
   "source": [
    "df.dropna(subset=['locality_name'])\n",
    "df.isna().sum()"
   ]
  },
  {
   "cell_type": "markdown",
   "metadata": {},
   "source": [
    "Из столбцов, с которыми можно еще поработать остались:   \n",
    "    *parks_around3000*,\n",
    "    *ponds_around3000*,\n",
    "    *days_exposition*.\n",
    "    \n",
    "    Логично предположить, что если данные пропущены, то их в данных столбцах можно заменить нулями. То есть рядом отсутствуют парки, водоемы. И если количество дней размещения не определено, то возможно объявление только сегодня размещено на портале.\n",
    "    "
   ]
  },
  {
   "cell_type": "code",
   "execution_count": 201,
   "metadata": {},
   "outputs": [],
   "source": [
    "df['parks_around3000'] = df['parks_around3000'].fillna(0)\n",
    "df['ponds_around3000'] = df['ponds_around3000'].fillna(0)"
   ]
  },
  {
   "cell_type": "markdown",
   "metadata": {},
   "source": [
    "### Обработка выбивающихся значений"
   ]
  },
  {
   "cell_type": "markdown",
   "metadata": {},
   "source": [
    "Уберем из общих данных квартиры стоимостью более 100 млн рублей - как выбивающиеся значения"
   ]
  },
  {
   "cell_type": "code",
   "execution_count": 202,
   "metadata": {},
   "outputs": [
    {
     "data": {
      "text/html": [
       "<div>\n",
       "<style scoped>\n",
       "    .dataframe tbody tr th:only-of-type {\n",
       "        vertical-align: middle;\n",
       "    }\n",
       "\n",
       "    .dataframe tbody tr th {\n",
       "        vertical-align: top;\n",
       "    }\n",
       "\n",
       "    .dataframe thead th {\n",
       "        text-align: right;\n",
       "    }\n",
       "</style>\n",
       "<table border=\"1\" class=\"dataframe\">\n",
       "  <thead>\n",
       "    <tr style=\"text-align: right;\">\n",
       "      <th></th>\n",
       "      <th>locality_name</th>\n",
       "      <th>total_area</th>\n",
       "      <th>rooms</th>\n",
       "      <th>last_price</th>\n",
       "      <th>floor</th>\n",
       "      <th>floors_total</th>\n",
       "      <th>living_area</th>\n",
       "      <th>kitchen_area</th>\n",
       "      <th>balcony</th>\n",
       "      <th>ceiling_height</th>\n",
       "      <th>...</th>\n",
       "      <th>open_plan</th>\n",
       "      <th>first_day_exposition</th>\n",
       "      <th>days_exposition</th>\n",
       "      <th>total_images</th>\n",
       "      <th>airports_nearest</th>\n",
       "      <th>cityCenters_nearest</th>\n",
       "      <th>parks_around3000</th>\n",
       "      <th>parks_nearest</th>\n",
       "      <th>ponds_around3000</th>\n",
       "      <th>ponds_nearest</th>\n",
       "    </tr>\n",
       "  </thead>\n",
       "  <tbody>\n",
       "    <tr>\n",
       "      <th>793</th>\n",
       "      <td>Санкт-Петербург</td>\n",
       "      <td>310.0</td>\n",
       "      <td>4</td>\n",
       "      <td>135000000.0</td>\n",
       "      <td>2</td>\n",
       "      <td>5.0</td>\n",
       "      <td>250.00</td>\n",
       "      <td>50.000000</td>\n",
       "      <td>0.0</td>\n",
       "      <td>3.30</td>\n",
       "      <td>...</td>\n",
       "      <td>False</td>\n",
       "      <td>2018-05-22T00:00:00</td>\n",
       "      <td>342.0</td>\n",
       "      <td>20</td>\n",
       "      <td>34159.0</td>\n",
       "      <td>7251.0</td>\n",
       "      <td>2.0</td>\n",
       "      <td>295.0</td>\n",
       "      <td>3.0</td>\n",
       "      <td>190.0</td>\n",
       "    </tr>\n",
       "    <tr>\n",
       "      <th>1026</th>\n",
       "      <td>Санкт-Петербург</td>\n",
       "      <td>310.0</td>\n",
       "      <td>5</td>\n",
       "      <td>155000000.0</td>\n",
       "      <td>3</td>\n",
       "      <td>3.0</td>\n",
       "      <td>190.00</td>\n",
       "      <td>63.000000</td>\n",
       "      <td>2.0</td>\n",
       "      <td>5.30</td>\n",
       "      <td>...</td>\n",
       "      <td>False</td>\n",
       "      <td>2018-10-12T00:00:00</td>\n",
       "      <td>NaN</td>\n",
       "      <td>20</td>\n",
       "      <td>24899.0</td>\n",
       "      <td>4785.0</td>\n",
       "      <td>0.0</td>\n",
       "      <td>NaN</td>\n",
       "      <td>1.0</td>\n",
       "      <td>603.0</td>\n",
       "    </tr>\n",
       "    <tr>\n",
       "      <th>1188</th>\n",
       "      <td>Санкт-Петербург</td>\n",
       "      <td>290.6</td>\n",
       "      <td>6</td>\n",
       "      <td>118000000.0</td>\n",
       "      <td>3</td>\n",
       "      <td>6.0</td>\n",
       "      <td>188.70</td>\n",
       "      <td>22.000000</td>\n",
       "      <td>1.0</td>\n",
       "      <td>3.82</td>\n",
       "      <td>...</td>\n",
       "      <td>False</td>\n",
       "      <td>2018-06-01T00:00:00</td>\n",
       "      <td>316.0</td>\n",
       "      <td>20</td>\n",
       "      <td>25309.0</td>\n",
       "      <td>6224.0</td>\n",
       "      <td>1.0</td>\n",
       "      <td>217.0</td>\n",
       "      <td>0.0</td>\n",
       "      <td>NaN</td>\n",
       "    </tr>\n",
       "    <tr>\n",
       "      <th>1300</th>\n",
       "      <td>Санкт-Петербург</td>\n",
       "      <td>280.0</td>\n",
       "      <td>5</td>\n",
       "      <td>120000000.0</td>\n",
       "      <td>3</td>\n",
       "      <td>4.0</td>\n",
       "      <td>162.00</td>\n",
       "      <td>30.000000</td>\n",
       "      <td>0.0</td>\n",
       "      <td>4.70</td>\n",
       "      <td>...</td>\n",
       "      <td>False</td>\n",
       "      <td>2018-07-12T00:00:00</td>\n",
       "      <td>225.0</td>\n",
       "      <td>14</td>\n",
       "      <td>24680.0</td>\n",
       "      <td>4247.0</td>\n",
       "      <td>1.0</td>\n",
       "      <td>464.0</td>\n",
       "      <td>3.0</td>\n",
       "      <td>339.0</td>\n",
       "    </tr>\n",
       "    <tr>\n",
       "      <th>1436</th>\n",
       "      <td>Санкт-Петербург</td>\n",
       "      <td>190.0</td>\n",
       "      <td>3</td>\n",
       "      <td>330000000.0</td>\n",
       "      <td>5</td>\n",
       "      <td>7.0</td>\n",
       "      <td>95.00</td>\n",
       "      <td>40.000000</td>\n",
       "      <td>0.0</td>\n",
       "      <td>3.50</td>\n",
       "      <td>...</td>\n",
       "      <td>False</td>\n",
       "      <td>2018-04-04T00:00:00</td>\n",
       "      <td>233.0</td>\n",
       "      <td>19</td>\n",
       "      <td>23011.0</td>\n",
       "      <td>1197.0</td>\n",
       "      <td>3.0</td>\n",
       "      <td>519.0</td>\n",
       "      <td>3.0</td>\n",
       "      <td>285.0</td>\n",
       "    </tr>\n",
       "    <tr>\n",
       "      <th>1928</th>\n",
       "      <td>Санкт-Петербург</td>\n",
       "      <td>224.5</td>\n",
       "      <td>4</td>\n",
       "      <td>125000000.0</td>\n",
       "      <td>3</td>\n",
       "      <td>4.0</td>\n",
       "      <td>163.50</td>\n",
       "      <td>30.000000</td>\n",
       "      <td>1.0</td>\n",
       "      <td>2.70</td>\n",
       "      <td>...</td>\n",
       "      <td>False</td>\n",
       "      <td>2017-01-24T00:00:00</td>\n",
       "      <td>174.0</td>\n",
       "      <td>11</td>\n",
       "      <td>22805.0</td>\n",
       "      <td>2335.0</td>\n",
       "      <td>0.0</td>\n",
       "      <td>NaN</td>\n",
       "      <td>2.0</td>\n",
       "      <td>497.0</td>\n",
       "    </tr>\n",
       "    <tr>\n",
       "      <th>2243</th>\n",
       "      <td>Санкт-Петербург</td>\n",
       "      <td>304.0</td>\n",
       "      <td>5</td>\n",
       "      <td>130278280.0</td>\n",
       "      <td>7</td>\n",
       "      <td>9.0</td>\n",
       "      <td>NaN</td>\n",
       "      <td>10.569807</td>\n",
       "      <td>0.0</td>\n",
       "      <td>3.11</td>\n",
       "      <td>...</td>\n",
       "      <td>False</td>\n",
       "      <td>2015-07-24T00:00:00</td>\n",
       "      <td>599.0</td>\n",
       "      <td>9</td>\n",
       "      <td>25593.0</td>\n",
       "      <td>5913.0</td>\n",
       "      <td>2.0</td>\n",
       "      <td>164.0</td>\n",
       "      <td>0.0</td>\n",
       "      <td>NaN</td>\n",
       "    </tr>\n",
       "    <tr>\n",
       "      <th>2536</th>\n",
       "      <td>Санкт-Петербург</td>\n",
       "      <td>242.4</td>\n",
       "      <td>4</td>\n",
       "      <td>159984000.0</td>\n",
       "      <td>7</td>\n",
       "      <td>9.0</td>\n",
       "      <td>131.00</td>\n",
       "      <td>20.000000</td>\n",
       "      <td>0.0</td>\n",
       "      <td>3.85</td>\n",
       "      <td>...</td>\n",
       "      <td>False</td>\n",
       "      <td>2015-08-27T00:00:00</td>\n",
       "      <td>501.0</td>\n",
       "      <td>16</td>\n",
       "      <td>21946.0</td>\n",
       "      <td>2242.0</td>\n",
       "      <td>1.0</td>\n",
       "      <td>679.0</td>\n",
       "      <td>1.0</td>\n",
       "      <td>227.0</td>\n",
       "    </tr>\n",
       "    <tr>\n",
       "      <th>3117</th>\n",
       "      <td>Санкт-Петербург</td>\n",
       "      <td>631.0</td>\n",
       "      <td>7</td>\n",
       "      <td>140000000.0</td>\n",
       "      <td>5</td>\n",
       "      <td>5.0</td>\n",
       "      <td>NaN</td>\n",
       "      <td>60.000000</td>\n",
       "      <td>0.0</td>\n",
       "      <td>2.70</td>\n",
       "      <td>...</td>\n",
       "      <td>False</td>\n",
       "      <td>2019-03-30T00:00:00</td>\n",
       "      <td>NaN</td>\n",
       "      <td>19</td>\n",
       "      <td>25707.0</td>\n",
       "      <td>4972.0</td>\n",
       "      <td>0.0</td>\n",
       "      <td>NaN</td>\n",
       "      <td>2.0</td>\n",
       "      <td>210.0</td>\n",
       "    </tr>\n",
       "    <tr>\n",
       "      <th>4996</th>\n",
       "      <td>Санкт-Петербург</td>\n",
       "      <td>124.5</td>\n",
       "      <td>4</td>\n",
       "      <td>124000000.0</td>\n",
       "      <td>2</td>\n",
       "      <td>4.0</td>\n",
       "      <td>67.20</td>\n",
       "      <td>20.000000</td>\n",
       "      <td>0.0</td>\n",
       "      <td>3.00</td>\n",
       "      <td>...</td>\n",
       "      <td>False</td>\n",
       "      <td>2017-10-12T00:00:00</td>\n",
       "      <td>45.0</td>\n",
       "      <td>20</td>\n",
       "      <td>20399.0</td>\n",
       "      <td>1722.0</td>\n",
       "      <td>3.0</td>\n",
       "      <td>302.0</td>\n",
       "      <td>3.0</td>\n",
       "      <td>172.0</td>\n",
       "    </tr>\n",
       "    <tr>\n",
       "      <th>5893</th>\n",
       "      <td>Санкт-Петербург</td>\n",
       "      <td>500.0</td>\n",
       "      <td>6</td>\n",
       "      <td>230000000.0</td>\n",
       "      <td>7</td>\n",
       "      <td>7.0</td>\n",
       "      <td>NaN</td>\n",
       "      <td>40.000000</td>\n",
       "      <td>0.0</td>\n",
       "      <td>2.70</td>\n",
       "      <td>...</td>\n",
       "      <td>False</td>\n",
       "      <td>2017-05-31T00:00:00</td>\n",
       "      <td>50.0</td>\n",
       "      <td>3</td>\n",
       "      <td>32440.0</td>\n",
       "      <td>5297.0</td>\n",
       "      <td>0.0</td>\n",
       "      <td>NaN</td>\n",
       "      <td>2.0</td>\n",
       "      <td>198.0</td>\n",
       "    </tr>\n",
       "    <tr>\n",
       "      <th>7543</th>\n",
       "      <td>Санкт-Петербург</td>\n",
       "      <td>307.8</td>\n",
       "      <td>5</td>\n",
       "      <td>130000000.0</td>\n",
       "      <td>3</td>\n",
       "      <td>4.0</td>\n",
       "      <td>187.90</td>\n",
       "      <td>63.400000</td>\n",
       "      <td>0.0</td>\n",
       "      <td>2.70</td>\n",
       "      <td>...</td>\n",
       "      <td>False</td>\n",
       "      <td>2016-04-24T00:00:00</td>\n",
       "      <td>1094.0</td>\n",
       "      <td>20</td>\n",
       "      <td>24899.0</td>\n",
       "      <td>4785.0</td>\n",
       "      <td>0.0</td>\n",
       "      <td>NaN</td>\n",
       "      <td>1.0</td>\n",
       "      <td>603.0</td>\n",
       "    </tr>\n",
       "    <tr>\n",
       "      <th>7674</th>\n",
       "      <td>Санкт-Петербург</td>\n",
       "      <td>380.0</td>\n",
       "      <td>5</td>\n",
       "      <td>131000000.0</td>\n",
       "      <td>4</td>\n",
       "      <td>6.0</td>\n",
       "      <td>150.00</td>\n",
       "      <td>10.569807</td>\n",
       "      <td>1.0</td>\n",
       "      <td>3.90</td>\n",
       "      <td>...</td>\n",
       "      <td>False</td>\n",
       "      <td>2016-09-23T00:00:00</td>\n",
       "      <td>901.0</td>\n",
       "      <td>20</td>\n",
       "      <td>25801.0</td>\n",
       "      <td>4504.0</td>\n",
       "      <td>2.0</td>\n",
       "      <td>161.0</td>\n",
       "      <td>1.0</td>\n",
       "      <td>635.0</td>\n",
       "    </tr>\n",
       "    <tr>\n",
       "      <th>7857</th>\n",
       "      <td>Санкт-Петербург</td>\n",
       "      <td>230.0</td>\n",
       "      <td>8</td>\n",
       "      <td>150000000.0</td>\n",
       "      <td>8</td>\n",
       "      <td>8.0</td>\n",
       "      <td>220.00</td>\n",
       "      <td>10.569807</td>\n",
       "      <td>0.0</td>\n",
       "      <td>2.70</td>\n",
       "      <td>...</td>\n",
       "      <td>False</td>\n",
       "      <td>2017-10-25T00:00:00</td>\n",
       "      <td>135.0</td>\n",
       "      <td>11</td>\n",
       "      <td>25525.0</td>\n",
       "      <td>5845.0</td>\n",
       "      <td>2.0</td>\n",
       "      <td>116.0</td>\n",
       "      <td>0.0</td>\n",
       "      <td>NaN</td>\n",
       "    </tr>\n",
       "    <tr>\n",
       "      <th>8900</th>\n",
       "      <td>Санкт-Петербург</td>\n",
       "      <td>268.0</td>\n",
       "      <td>3</td>\n",
       "      <td>190870000.0</td>\n",
       "      <td>7</td>\n",
       "      <td>8.0</td>\n",
       "      <td>132.00</td>\n",
       "      <td>40.000000</td>\n",
       "      <td>0.0</td>\n",
       "      <td>2.70</td>\n",
       "      <td>...</td>\n",
       "      <td>False</td>\n",
       "      <td>2016-03-25T00:00:00</td>\n",
       "      <td>901.0</td>\n",
       "      <td>13</td>\n",
       "      <td>32440.0</td>\n",
       "      <td>5297.0</td>\n",
       "      <td>0.0</td>\n",
       "      <td>NaN</td>\n",
       "      <td>2.0</td>\n",
       "      <td>198.0</td>\n",
       "    </tr>\n",
       "    <tr>\n",
       "      <th>12674</th>\n",
       "      <td>Санкт-Петербург</td>\n",
       "      <td>241.0</td>\n",
       "      <td>5</td>\n",
       "      <td>140000000.0</td>\n",
       "      <td>4</td>\n",
       "      <td>5.0</td>\n",
       "      <td>NaN</td>\n",
       "      <td>10.569807</td>\n",
       "      <td>0.0</td>\n",
       "      <td>3.00</td>\n",
       "      <td>...</td>\n",
       "      <td>False</td>\n",
       "      <td>2015-07-24T00:00:00</td>\n",
       "      <td>399.0</td>\n",
       "      <td>16</td>\n",
       "      <td>23512.0</td>\n",
       "      <td>3503.0</td>\n",
       "      <td>3.0</td>\n",
       "      <td>413.0</td>\n",
       "      <td>3.0</td>\n",
       "      <td>83.0</td>\n",
       "    </tr>\n",
       "    <tr>\n",
       "      <th>12859</th>\n",
       "      <td>Санкт-Петербург</td>\n",
       "      <td>631.2</td>\n",
       "      <td>7</td>\n",
       "      <td>140000000.0</td>\n",
       "      <td>4</td>\n",
       "      <td>4.0</td>\n",
       "      <td>322.30</td>\n",
       "      <td>19.500000</td>\n",
       "      <td>1.0</td>\n",
       "      <td>3.90</td>\n",
       "      <td>...</td>\n",
       "      <td>False</td>\n",
       "      <td>2019-04-09T00:00:00</td>\n",
       "      <td>NaN</td>\n",
       "      <td>20</td>\n",
       "      <td>25707.0</td>\n",
       "      <td>4972.0</td>\n",
       "      <td>0.0</td>\n",
       "      <td>NaN</td>\n",
       "      <td>2.0</td>\n",
       "      <td>210.0</td>\n",
       "    </tr>\n",
       "    <tr>\n",
       "      <th>12971</th>\n",
       "      <td>Санкт-Петербург</td>\n",
       "      <td>400.0</td>\n",
       "      <td>7</td>\n",
       "      <td>763000000.0</td>\n",
       "      <td>10</td>\n",
       "      <td>10.0</td>\n",
       "      <td>250.00</td>\n",
       "      <td>10.569807</td>\n",
       "      <td>2.0</td>\n",
       "      <td>2.70</td>\n",
       "      <td>...</td>\n",
       "      <td>False</td>\n",
       "      <td>2017-09-30T00:00:00</td>\n",
       "      <td>33.0</td>\n",
       "      <td>19</td>\n",
       "      <td>25108.0</td>\n",
       "      <td>3956.0</td>\n",
       "      <td>1.0</td>\n",
       "      <td>530.0</td>\n",
       "      <td>3.0</td>\n",
       "      <td>756.0</td>\n",
       "    </tr>\n",
       "    <tr>\n",
       "      <th>13749</th>\n",
       "      <td>Санкт-Петербург</td>\n",
       "      <td>410.0</td>\n",
       "      <td>6</td>\n",
       "      <td>240000000.0</td>\n",
       "      <td>7</td>\n",
       "      <td>7.0</td>\n",
       "      <td>218.00</td>\n",
       "      <td>40.000000</td>\n",
       "      <td>0.0</td>\n",
       "      <td>3.40</td>\n",
       "      <td>...</td>\n",
       "      <td>False</td>\n",
       "      <td>2017-04-01T00:00:00</td>\n",
       "      <td>199.0</td>\n",
       "      <td>7</td>\n",
       "      <td>32440.0</td>\n",
       "      <td>5297.0</td>\n",
       "      <td>0.0</td>\n",
       "      <td>NaN</td>\n",
       "      <td>2.0</td>\n",
       "      <td>198.0</td>\n",
       "    </tr>\n",
       "    <tr>\n",
       "      <th>13864</th>\n",
       "      <td>Санкт-Петербург</td>\n",
       "      <td>231.0</td>\n",
       "      <td>6</td>\n",
       "      <td>130000000.0</td>\n",
       "      <td>4</td>\n",
       "      <td>6.0</td>\n",
       "      <td>148.00</td>\n",
       "      <td>12.000000</td>\n",
       "      <td>0.0</td>\n",
       "      <td>3.60</td>\n",
       "      <td>...</td>\n",
       "      <td>False</td>\n",
       "      <td>2015-08-13T00:00:00</td>\n",
       "      <td>467.0</td>\n",
       "      <td>20</td>\n",
       "      <td>22992.0</td>\n",
       "      <td>1280.0</td>\n",
       "      <td>3.0</td>\n",
       "      <td>395.0</td>\n",
       "      <td>3.0</td>\n",
       "      <td>170.0</td>\n",
       "    </tr>\n",
       "    <tr>\n",
       "      <th>14706</th>\n",
       "      <td>Санкт-Петербург</td>\n",
       "      <td>401.0</td>\n",
       "      <td>5</td>\n",
       "      <td>401300000.0</td>\n",
       "      <td>9</td>\n",
       "      <td>9.0</td>\n",
       "      <td>204.00</td>\n",
       "      <td>24.000000</td>\n",
       "      <td>3.0</td>\n",
       "      <td>2.70</td>\n",
       "      <td>...</td>\n",
       "      <td>False</td>\n",
       "      <td>2016-02-20T00:00:00</td>\n",
       "      <td>393.0</td>\n",
       "      <td>15</td>\n",
       "      <td>21912.0</td>\n",
       "      <td>2389.0</td>\n",
       "      <td>1.0</td>\n",
       "      <td>545.0</td>\n",
       "      <td>1.0</td>\n",
       "      <td>478.0</td>\n",
       "    </tr>\n",
       "    <tr>\n",
       "      <th>15016</th>\n",
       "      <td>Санкт-Петербург</td>\n",
       "      <td>500.0</td>\n",
       "      <td>4</td>\n",
       "      <td>150000000.0</td>\n",
       "      <td>7</td>\n",
       "      <td>7.0</td>\n",
       "      <td>NaN</td>\n",
       "      <td>10.569807</td>\n",
       "      <td>0.0</td>\n",
       "      <td>3.20</td>\n",
       "      <td>...</td>\n",
       "      <td>False</td>\n",
       "      <td>2016-01-13T00:00:00</td>\n",
       "      <td>303.0</td>\n",
       "      <td>8</td>\n",
       "      <td>33058.0</td>\n",
       "      <td>6150.0</td>\n",
       "      <td>3.0</td>\n",
       "      <td>209.0</td>\n",
       "      <td>3.0</td>\n",
       "      <td>531.0</td>\n",
       "    </tr>\n",
       "    <tr>\n",
       "      <th>15651</th>\n",
       "      <td>Санкт-Петербург</td>\n",
       "      <td>618.0</td>\n",
       "      <td>7</td>\n",
       "      <td>300000000.0</td>\n",
       "      <td>5</td>\n",
       "      <td>7.0</td>\n",
       "      <td>258.00</td>\n",
       "      <td>70.000000</td>\n",
       "      <td>0.0</td>\n",
       "      <td>3.40</td>\n",
       "      <td>...</td>\n",
       "      <td>False</td>\n",
       "      <td>2017-12-18T00:00:00</td>\n",
       "      <td>111.0</td>\n",
       "      <td>20</td>\n",
       "      <td>32440.0</td>\n",
       "      <td>5297.0</td>\n",
       "      <td>0.0</td>\n",
       "      <td>NaN</td>\n",
       "      <td>2.0</td>\n",
       "      <td>198.0</td>\n",
       "    </tr>\n",
       "    <tr>\n",
       "      <th>16461</th>\n",
       "      <td>Санкт-Петербург</td>\n",
       "      <td>285.7</td>\n",
       "      <td>6</td>\n",
       "      <td>245000000.0</td>\n",
       "      <td>4</td>\n",
       "      <td>7.0</td>\n",
       "      <td>182.80</td>\n",
       "      <td>29.800000</td>\n",
       "      <td>0.0</td>\n",
       "      <td>3.35</td>\n",
       "      <td>...</td>\n",
       "      <td>False</td>\n",
       "      <td>2017-04-10T00:00:00</td>\n",
       "      <td>249.0</td>\n",
       "      <td>17</td>\n",
       "      <td>33143.0</td>\n",
       "      <td>6235.0</td>\n",
       "      <td>3.0</td>\n",
       "      <td>400.0</td>\n",
       "      <td>3.0</td>\n",
       "      <td>140.0</td>\n",
       "    </tr>\n",
       "    <tr>\n",
       "      <th>16495</th>\n",
       "      <td>Санкт-Петербург</td>\n",
       "      <td>260.0</td>\n",
       "      <td>4</td>\n",
       "      <td>159000000.0</td>\n",
       "      <td>4</td>\n",
       "      <td>5.0</td>\n",
       "      <td>180.00</td>\n",
       "      <td>30.000000</td>\n",
       "      <td>2.0</td>\n",
       "      <td>2.70</td>\n",
       "      <td>...</td>\n",
       "      <td>False</td>\n",
       "      <td>2017-04-04T00:00:00</td>\n",
       "      <td>178.0</td>\n",
       "      <td>12</td>\n",
       "      <td>21740.0</td>\n",
       "      <td>436.0</td>\n",
       "      <td>2.0</td>\n",
       "      <td>138.0</td>\n",
       "      <td>3.0</td>\n",
       "      <td>620.0</td>\n",
       "    </tr>\n",
       "    <tr>\n",
       "      <th>16647</th>\n",
       "      <td>Санкт-Петербург</td>\n",
       "      <td>145.0</td>\n",
       "      <td>3</td>\n",
       "      <td>122000000.0</td>\n",
       "      <td>2</td>\n",
       "      <td>6.0</td>\n",
       "      <td>36.00</td>\n",
       "      <td>72.000000</td>\n",
       "      <td>0.0</td>\n",
       "      <td>3.30</td>\n",
       "      <td>...</td>\n",
       "      <td>False</td>\n",
       "      <td>2017-04-25T00:00:00</td>\n",
       "      <td>335.0</td>\n",
       "      <td>15</td>\n",
       "      <td>33931.0</td>\n",
       "      <td>7023.0</td>\n",
       "      <td>2.0</td>\n",
       "      <td>478.0</td>\n",
       "      <td>3.0</td>\n",
       "      <td>250.0</td>\n",
       "    </tr>\n",
       "    <tr>\n",
       "      <th>17912</th>\n",
       "      <td>Санкт-Петербург</td>\n",
       "      <td>166.0</td>\n",
       "      <td>3</td>\n",
       "      <td>135000000.0</td>\n",
       "      <td>1</td>\n",
       "      <td>7.0</td>\n",
       "      <td>52.00</td>\n",
       "      <td>64.000000</td>\n",
       "      <td>0.0</td>\n",
       "      <td>3.30</td>\n",
       "      <td>...</td>\n",
       "      <td>False</td>\n",
       "      <td>2019-02-07T00:00:00</td>\n",
       "      <td>NaN</td>\n",
       "      <td>17</td>\n",
       "      <td>32863.0</td>\n",
       "      <td>5955.0</td>\n",
       "      <td>2.0</td>\n",
       "      <td>230.0</td>\n",
       "      <td>3.0</td>\n",
       "      <td>215.0</td>\n",
       "    </tr>\n",
       "    <tr>\n",
       "      <th>19155</th>\n",
       "      <td>Санкт-Петербург</td>\n",
       "      <td>243.0</td>\n",
       "      <td>5</td>\n",
       "      <td>160000000.0</td>\n",
       "      <td>4</td>\n",
       "      <td>5.0</td>\n",
       "      <td>145.00</td>\n",
       "      <td>33.000000</td>\n",
       "      <td>0.0</td>\n",
       "      <td>2.70</td>\n",
       "      <td>...</td>\n",
       "      <td>False</td>\n",
       "      <td>2018-11-12T00:00:00</td>\n",
       "      <td>18.0</td>\n",
       "      <td>20</td>\n",
       "      <td>22640.0</td>\n",
       "      <td>555.0</td>\n",
       "      <td>3.0</td>\n",
       "      <td>285.0</td>\n",
       "      <td>1.0</td>\n",
       "      <td>200.0</td>\n",
       "    </tr>\n",
       "    <tr>\n",
       "      <th>19540</th>\n",
       "      <td>Санкт-Петербург</td>\n",
       "      <td>900.0</td>\n",
       "      <td>12</td>\n",
       "      <td>420000000.0</td>\n",
       "      <td>25</td>\n",
       "      <td>25.0</td>\n",
       "      <td>409.70</td>\n",
       "      <td>112.000000</td>\n",
       "      <td>0.0</td>\n",
       "      <td>2.80</td>\n",
       "      <td>...</td>\n",
       "      <td>False</td>\n",
       "      <td>2017-12-06T00:00:00</td>\n",
       "      <td>106.0</td>\n",
       "      <td>8</td>\n",
       "      <td>30706.0</td>\n",
       "      <td>7877.0</td>\n",
       "      <td>0.0</td>\n",
       "      <td>NaN</td>\n",
       "      <td>2.0</td>\n",
       "      <td>318.0</td>\n",
       "    </tr>\n",
       "    <tr>\n",
       "      <th>19865</th>\n",
       "      <td>Санкт-Петербург</td>\n",
       "      <td>347.0</td>\n",
       "      <td>8</td>\n",
       "      <td>180000000.0</td>\n",
       "      <td>3</td>\n",
       "      <td>6.0</td>\n",
       "      <td>260.00</td>\n",
       "      <td>45.000000</td>\n",
       "      <td>0.0</td>\n",
       "      <td>3.90</td>\n",
       "      <td>...</td>\n",
       "      <td>False</td>\n",
       "      <td>2015-01-21T00:00:00</td>\n",
       "      <td>834.0</td>\n",
       "      <td>20</td>\n",
       "      <td>23962.0</td>\n",
       "      <td>3794.0</td>\n",
       "      <td>2.0</td>\n",
       "      <td>537.0</td>\n",
       "      <td>3.0</td>\n",
       "      <td>501.0</td>\n",
       "    </tr>\n",
       "    <tr>\n",
       "      <th>20264</th>\n",
       "      <td>Санкт-Петербург</td>\n",
       "      <td>187.6</td>\n",
       "      <td>4</td>\n",
       "      <td>119000000.0</td>\n",
       "      <td>7</td>\n",
       "      <td>7.0</td>\n",
       "      <td>147.00</td>\n",
       "      <td>15.600000</td>\n",
       "      <td>0.0</td>\n",
       "      <td>2.75</td>\n",
       "      <td>...</td>\n",
       "      <td>False</td>\n",
       "      <td>2017-07-10T00:00:00</td>\n",
       "      <td>259.0</td>\n",
       "      <td>17</td>\n",
       "      <td>26902.0</td>\n",
       "      <td>5605.0</td>\n",
       "      <td>3.0</td>\n",
       "      <td>484.0</td>\n",
       "      <td>1.0</td>\n",
       "      <td>305.0</td>\n",
       "    </tr>\n",
       "    <tr>\n",
       "      <th>20349</th>\n",
       "      <td>Санкт-Петербург</td>\n",
       "      <td>267.7</td>\n",
       "      <td>4</td>\n",
       "      <td>124480000.0</td>\n",
       "      <td>8</td>\n",
       "      <td>8.0</td>\n",
       "      <td>107.03</td>\n",
       "      <td>29.860000</td>\n",
       "      <td>0.0</td>\n",
       "      <td>2.70</td>\n",
       "      <td>...</td>\n",
       "      <td>False</td>\n",
       "      <td>2016-06-18T00:00:00</td>\n",
       "      <td>205.0</td>\n",
       "      <td>17</td>\n",
       "      <td>27102.0</td>\n",
       "      <td>7442.0</td>\n",
       "      <td>2.0</td>\n",
       "      <td>164.0</td>\n",
       "      <td>2.0</td>\n",
       "      <td>473.0</td>\n",
       "    </tr>\n",
       "    <tr>\n",
       "      <th>21023</th>\n",
       "      <td>Санкт-Петербург</td>\n",
       "      <td>248.7</td>\n",
       "      <td>4</td>\n",
       "      <td>124350000.0</td>\n",
       "      <td>4</td>\n",
       "      <td>9.0</td>\n",
       "      <td>131.00</td>\n",
       "      <td>23.000000</td>\n",
       "      <td>0.0</td>\n",
       "      <td>3.40</td>\n",
       "      <td>...</td>\n",
       "      <td>False</td>\n",
       "      <td>2015-08-27T00:00:00</td>\n",
       "      <td>501.0</td>\n",
       "      <td>17</td>\n",
       "      <td>21946.0</td>\n",
       "      <td>2242.0</td>\n",
       "      <td>1.0</td>\n",
       "      <td>679.0</td>\n",
       "      <td>1.0</td>\n",
       "      <td>227.0</td>\n",
       "    </tr>\n",
       "    <tr>\n",
       "      <th>21923</th>\n",
       "      <td>Санкт-Петербург</td>\n",
       "      <td>235.0</td>\n",
       "      <td>5</td>\n",
       "      <td>115490000.0</td>\n",
       "      <td>5</td>\n",
       "      <td>5.0</td>\n",
       "      <td>140.00</td>\n",
       "      <td>50.000000</td>\n",
       "      <td>0.0</td>\n",
       "      <td>4.90</td>\n",
       "      <td>...</td>\n",
       "      <td>False</td>\n",
       "      <td>2017-04-09T00:00:00</td>\n",
       "      <td>351.0</td>\n",
       "      <td>10</td>\n",
       "      <td>22777.0</td>\n",
       "      <td>1328.0</td>\n",
       "      <td>3.0</td>\n",
       "      <td>652.0</td>\n",
       "      <td>3.0</td>\n",
       "      <td>253.0</td>\n",
       "    </tr>\n",
       "    <tr>\n",
       "      <th>21955</th>\n",
       "      <td>Санкт-Петербург</td>\n",
       "      <td>431.0</td>\n",
       "      <td>7</td>\n",
       "      <td>130000000.0</td>\n",
       "      <td>5</td>\n",
       "      <td>8.0</td>\n",
       "      <td>220.00</td>\n",
       "      <td>20.000000</td>\n",
       "      <td>5.0</td>\n",
       "      <td>3.70</td>\n",
       "      <td>...</td>\n",
       "      <td>False</td>\n",
       "      <td>2017-10-02T00:00:00</td>\n",
       "      <td>161.0</td>\n",
       "      <td>19</td>\n",
       "      <td>NaN</td>\n",
       "      <td>NaN</td>\n",
       "      <td>0.0</td>\n",
       "      <td>NaN</td>\n",
       "      <td>0.0</td>\n",
       "      <td>NaN</td>\n",
       "    </tr>\n",
       "    <tr>\n",
       "      <th>22229</th>\n",
       "      <td>Санкт-Петербург</td>\n",
       "      <td>256.0</td>\n",
       "      <td>5</td>\n",
       "      <td>148000000.0</td>\n",
       "      <td>5</td>\n",
       "      <td>6.0</td>\n",
       "      <td>179.00</td>\n",
       "      <td>36.000000</td>\n",
       "      <td>0.0</td>\n",
       "      <td>2.70</td>\n",
       "      <td>...</td>\n",
       "      <td>False</td>\n",
       "      <td>2016-03-16T00:00:00</td>\n",
       "      <td>233.0</td>\n",
       "      <td>16</td>\n",
       "      <td>24072.0</td>\n",
       "      <td>3639.0</td>\n",
       "      <td>2.0</td>\n",
       "      <td>727.0</td>\n",
       "      <td>3.0</td>\n",
       "      <td>462.0</td>\n",
       "    </tr>\n",
       "    <tr>\n",
       "      <th>22831</th>\n",
       "      <td>Санкт-Петербург</td>\n",
       "      <td>187.5</td>\n",
       "      <td>2</td>\n",
       "      <td>289238400.0</td>\n",
       "      <td>6</td>\n",
       "      <td>6.0</td>\n",
       "      <td>63.70</td>\n",
       "      <td>30.200000</td>\n",
       "      <td>0.0</td>\n",
       "      <td>3.37</td>\n",
       "      <td>...</td>\n",
       "      <td>False</td>\n",
       "      <td>2019-03-19T00:00:00</td>\n",
       "      <td>NaN</td>\n",
       "      <td>18</td>\n",
       "      <td>22494.0</td>\n",
       "      <td>1073.0</td>\n",
       "      <td>3.0</td>\n",
       "      <td>386.0</td>\n",
       "      <td>3.0</td>\n",
       "      <td>188.0</td>\n",
       "    </tr>\n",
       "  </tbody>\n",
       "</table>\n",
       "<p>37 rows × 22 columns</p>\n",
       "</div>"
      ],
      "text/plain": [
       "         locality_name  total_area  rooms   last_price  floor  floors_total  \\\n",
       "793    Санкт-Петербург       310.0      4  135000000.0      2           5.0   \n",
       "1026   Санкт-Петербург       310.0      5  155000000.0      3           3.0   \n",
       "1188   Санкт-Петербург       290.6      6  118000000.0      3           6.0   \n",
       "1300   Санкт-Петербург       280.0      5  120000000.0      3           4.0   \n",
       "1436   Санкт-Петербург       190.0      3  330000000.0      5           7.0   \n",
       "1928   Санкт-Петербург       224.5      4  125000000.0      3           4.0   \n",
       "2243   Санкт-Петербург       304.0      5  130278280.0      7           9.0   \n",
       "2536   Санкт-Петербург       242.4      4  159984000.0      7           9.0   \n",
       "3117   Санкт-Петербург       631.0      7  140000000.0      5           5.0   \n",
       "4996   Санкт-Петербург       124.5      4  124000000.0      2           4.0   \n",
       "5893   Санкт-Петербург       500.0      6  230000000.0      7           7.0   \n",
       "7543   Санкт-Петербург       307.8      5  130000000.0      3           4.0   \n",
       "7674   Санкт-Петербург       380.0      5  131000000.0      4           6.0   \n",
       "7857   Санкт-Петербург       230.0      8  150000000.0      8           8.0   \n",
       "8900   Санкт-Петербург       268.0      3  190870000.0      7           8.0   \n",
       "12674  Санкт-Петербург       241.0      5  140000000.0      4           5.0   \n",
       "12859  Санкт-Петербург       631.2      7  140000000.0      4           4.0   \n",
       "12971  Санкт-Петербург       400.0      7  763000000.0     10          10.0   \n",
       "13749  Санкт-Петербург       410.0      6  240000000.0      7           7.0   \n",
       "13864  Санкт-Петербург       231.0      6  130000000.0      4           6.0   \n",
       "14706  Санкт-Петербург       401.0      5  401300000.0      9           9.0   \n",
       "15016  Санкт-Петербург       500.0      4  150000000.0      7           7.0   \n",
       "15651  Санкт-Петербург       618.0      7  300000000.0      5           7.0   \n",
       "16461  Санкт-Петербург       285.7      6  245000000.0      4           7.0   \n",
       "16495  Санкт-Петербург       260.0      4  159000000.0      4           5.0   \n",
       "16647  Санкт-Петербург       145.0      3  122000000.0      2           6.0   \n",
       "17912  Санкт-Петербург       166.0      3  135000000.0      1           7.0   \n",
       "19155  Санкт-Петербург       243.0      5  160000000.0      4           5.0   \n",
       "19540  Санкт-Петербург       900.0     12  420000000.0     25          25.0   \n",
       "19865  Санкт-Петербург       347.0      8  180000000.0      3           6.0   \n",
       "20264  Санкт-Петербург       187.6      4  119000000.0      7           7.0   \n",
       "20349  Санкт-Петербург       267.7      4  124480000.0      8           8.0   \n",
       "21023  Санкт-Петербург       248.7      4  124350000.0      4           9.0   \n",
       "21923  Санкт-Петербург       235.0      5  115490000.0      5           5.0   \n",
       "21955  Санкт-Петербург       431.0      7  130000000.0      5           8.0   \n",
       "22229  Санкт-Петербург       256.0      5  148000000.0      5           6.0   \n",
       "22831  Санкт-Петербург       187.5      2  289238400.0      6           6.0   \n",
       "\n",
       "       living_area  kitchen_area  balcony  ceiling_height  ...  open_plan  \\\n",
       "793         250.00     50.000000      0.0            3.30  ...      False   \n",
       "1026        190.00     63.000000      2.0            5.30  ...      False   \n",
       "1188        188.70     22.000000      1.0            3.82  ...      False   \n",
       "1300        162.00     30.000000      0.0            4.70  ...      False   \n",
       "1436         95.00     40.000000      0.0            3.50  ...      False   \n",
       "1928        163.50     30.000000      1.0            2.70  ...      False   \n",
       "2243           NaN     10.569807      0.0            3.11  ...      False   \n",
       "2536        131.00     20.000000      0.0            3.85  ...      False   \n",
       "3117           NaN     60.000000      0.0            2.70  ...      False   \n",
       "4996         67.20     20.000000      0.0            3.00  ...      False   \n",
       "5893           NaN     40.000000      0.0            2.70  ...      False   \n",
       "7543        187.90     63.400000      0.0            2.70  ...      False   \n",
       "7674        150.00     10.569807      1.0            3.90  ...      False   \n",
       "7857        220.00     10.569807      0.0            2.70  ...      False   \n",
       "8900        132.00     40.000000      0.0            2.70  ...      False   \n",
       "12674          NaN     10.569807      0.0            3.00  ...      False   \n",
       "12859       322.30     19.500000      1.0            3.90  ...      False   \n",
       "12971       250.00     10.569807      2.0            2.70  ...      False   \n",
       "13749       218.00     40.000000      0.0            3.40  ...      False   \n",
       "13864       148.00     12.000000      0.0            3.60  ...      False   \n",
       "14706       204.00     24.000000      3.0            2.70  ...      False   \n",
       "15016          NaN     10.569807      0.0            3.20  ...      False   \n",
       "15651       258.00     70.000000      0.0            3.40  ...      False   \n",
       "16461       182.80     29.800000      0.0            3.35  ...      False   \n",
       "16495       180.00     30.000000      2.0            2.70  ...      False   \n",
       "16647        36.00     72.000000      0.0            3.30  ...      False   \n",
       "17912        52.00     64.000000      0.0            3.30  ...      False   \n",
       "19155       145.00     33.000000      0.0            2.70  ...      False   \n",
       "19540       409.70    112.000000      0.0            2.80  ...      False   \n",
       "19865       260.00     45.000000      0.0            3.90  ...      False   \n",
       "20264       147.00     15.600000      0.0            2.75  ...      False   \n",
       "20349       107.03     29.860000      0.0            2.70  ...      False   \n",
       "21023       131.00     23.000000      0.0            3.40  ...      False   \n",
       "21923       140.00     50.000000      0.0            4.90  ...      False   \n",
       "21955       220.00     20.000000      5.0            3.70  ...      False   \n",
       "22229       179.00     36.000000      0.0            2.70  ...      False   \n",
       "22831        63.70     30.200000      0.0            3.37  ...      False   \n",
       "\n",
       "       first_day_exposition  days_exposition total_images  airports_nearest  \\\n",
       "793     2018-05-22T00:00:00            342.0           20           34159.0   \n",
       "1026    2018-10-12T00:00:00              NaN           20           24899.0   \n",
       "1188    2018-06-01T00:00:00            316.0           20           25309.0   \n",
       "1300    2018-07-12T00:00:00            225.0           14           24680.0   \n",
       "1436    2018-04-04T00:00:00            233.0           19           23011.0   \n",
       "1928    2017-01-24T00:00:00            174.0           11           22805.0   \n",
       "2243    2015-07-24T00:00:00            599.0            9           25593.0   \n",
       "2536    2015-08-27T00:00:00            501.0           16           21946.0   \n",
       "3117    2019-03-30T00:00:00              NaN           19           25707.0   \n",
       "4996    2017-10-12T00:00:00             45.0           20           20399.0   \n",
       "5893    2017-05-31T00:00:00             50.0            3           32440.0   \n",
       "7543    2016-04-24T00:00:00           1094.0           20           24899.0   \n",
       "7674    2016-09-23T00:00:00            901.0           20           25801.0   \n",
       "7857    2017-10-25T00:00:00            135.0           11           25525.0   \n",
       "8900    2016-03-25T00:00:00            901.0           13           32440.0   \n",
       "12674   2015-07-24T00:00:00            399.0           16           23512.0   \n",
       "12859   2019-04-09T00:00:00              NaN           20           25707.0   \n",
       "12971   2017-09-30T00:00:00             33.0           19           25108.0   \n",
       "13749   2017-04-01T00:00:00            199.0            7           32440.0   \n",
       "13864   2015-08-13T00:00:00            467.0           20           22992.0   \n",
       "14706   2016-02-20T00:00:00            393.0           15           21912.0   \n",
       "15016   2016-01-13T00:00:00            303.0            8           33058.0   \n",
       "15651   2017-12-18T00:00:00            111.0           20           32440.0   \n",
       "16461   2017-04-10T00:00:00            249.0           17           33143.0   \n",
       "16495   2017-04-04T00:00:00            178.0           12           21740.0   \n",
       "16647   2017-04-25T00:00:00            335.0           15           33931.0   \n",
       "17912   2019-02-07T00:00:00              NaN           17           32863.0   \n",
       "19155   2018-11-12T00:00:00             18.0           20           22640.0   \n",
       "19540   2017-12-06T00:00:00            106.0            8           30706.0   \n",
       "19865   2015-01-21T00:00:00            834.0           20           23962.0   \n",
       "20264   2017-07-10T00:00:00            259.0           17           26902.0   \n",
       "20349   2016-06-18T00:00:00            205.0           17           27102.0   \n",
       "21023   2015-08-27T00:00:00            501.0           17           21946.0   \n",
       "21923   2017-04-09T00:00:00            351.0           10           22777.0   \n",
       "21955   2017-10-02T00:00:00            161.0           19               NaN   \n",
       "22229   2016-03-16T00:00:00            233.0           16           24072.0   \n",
       "22831   2019-03-19T00:00:00              NaN           18           22494.0   \n",
       "\n",
       "       cityCenters_nearest  parks_around3000  parks_nearest  ponds_around3000  \\\n",
       "793                 7251.0               2.0          295.0               3.0   \n",
       "1026                4785.0               0.0            NaN               1.0   \n",
       "1188                6224.0               1.0          217.0               0.0   \n",
       "1300                4247.0               1.0          464.0               3.0   \n",
       "1436                1197.0               3.0          519.0               3.0   \n",
       "1928                2335.0               0.0            NaN               2.0   \n",
       "2243                5913.0               2.0          164.0               0.0   \n",
       "2536                2242.0               1.0          679.0               1.0   \n",
       "3117                4972.0               0.0            NaN               2.0   \n",
       "4996                1722.0               3.0          302.0               3.0   \n",
       "5893                5297.0               0.0            NaN               2.0   \n",
       "7543                4785.0               0.0            NaN               1.0   \n",
       "7674                4504.0               2.0          161.0               1.0   \n",
       "7857                5845.0               2.0          116.0               0.0   \n",
       "8900                5297.0               0.0            NaN               2.0   \n",
       "12674               3503.0               3.0          413.0               3.0   \n",
       "12859               4972.0               0.0            NaN               2.0   \n",
       "12971               3956.0               1.0          530.0               3.0   \n",
       "13749               5297.0               0.0            NaN               2.0   \n",
       "13864               1280.0               3.0          395.0               3.0   \n",
       "14706               2389.0               1.0          545.0               1.0   \n",
       "15016               6150.0               3.0          209.0               3.0   \n",
       "15651               5297.0               0.0            NaN               2.0   \n",
       "16461               6235.0               3.0          400.0               3.0   \n",
       "16495                436.0               2.0          138.0               3.0   \n",
       "16647               7023.0               2.0          478.0               3.0   \n",
       "17912               5955.0               2.0          230.0               3.0   \n",
       "19155                555.0               3.0          285.0               1.0   \n",
       "19540               7877.0               0.0            NaN               2.0   \n",
       "19865               3794.0               2.0          537.0               3.0   \n",
       "20264               5605.0               3.0          484.0               1.0   \n",
       "20349               7442.0               2.0          164.0               2.0   \n",
       "21023               2242.0               1.0          679.0               1.0   \n",
       "21923               1328.0               3.0          652.0               3.0   \n",
       "21955                  NaN               0.0            NaN               0.0   \n",
       "22229               3639.0               2.0          727.0               3.0   \n",
       "22831               1073.0               3.0          386.0               3.0   \n",
       "\n",
       "       ponds_nearest  \n",
       "793            190.0  \n",
       "1026           603.0  \n",
       "1188             NaN  \n",
       "1300           339.0  \n",
       "1436           285.0  \n",
       "1928           497.0  \n",
       "2243             NaN  \n",
       "2536           227.0  \n",
       "3117           210.0  \n",
       "4996           172.0  \n",
       "5893           198.0  \n",
       "7543           603.0  \n",
       "7674           635.0  \n",
       "7857             NaN  \n",
       "8900           198.0  \n",
       "12674           83.0  \n",
       "12859          210.0  \n",
       "12971          756.0  \n",
       "13749          198.0  \n",
       "13864          170.0  \n",
       "14706          478.0  \n",
       "15016          531.0  \n",
       "15651          198.0  \n",
       "16461          140.0  \n",
       "16495          620.0  \n",
       "16647          250.0  \n",
       "17912          215.0  \n",
       "19155          200.0  \n",
       "19540          318.0  \n",
       "19865          501.0  \n",
       "20264          305.0  \n",
       "20349          473.0  \n",
       "21023          227.0  \n",
       "21923          253.0  \n",
       "21955            NaN  \n",
       "22229          462.0  \n",
       "22831          188.0  \n",
       "\n",
       "[37 rows x 22 columns]"
      ]
     },
     "execution_count": 202,
     "metadata": {},
     "output_type": "execute_result"
    }
   ],
   "source": [
    "df.query('last_price>=100000000')"
   ]
  },
  {
   "cell_type": "markdown",
   "metadata": {},
   "source": [
    "Имеем всего 37 квартир. Удалим их"
   ]
  },
  {
   "cell_type": "code",
   "execution_count": 203,
   "metadata": {},
   "outputs": [],
   "source": [
    "df = df.loc[df['last_price']<=100000000]"
   ]
  },
  {
   "cell_type": "markdown",
   "metadata": {},
   "source": [
    "Проверим количество квартир с количеством комнат 0."
   ]
  },
  {
   "cell_type": "code",
   "execution_count": 204,
   "metadata": {},
   "outputs": [
    {
     "data": {
      "text/html": [
       "<div>\n",
       "<style scoped>\n",
       "    .dataframe tbody tr th:only-of-type {\n",
       "        vertical-align: middle;\n",
       "    }\n",
       "\n",
       "    .dataframe tbody tr th {\n",
       "        vertical-align: top;\n",
       "    }\n",
       "\n",
       "    .dataframe thead th {\n",
       "        text-align: right;\n",
       "    }\n",
       "</style>\n",
       "<table border=\"1\" class=\"dataframe\">\n",
       "  <thead>\n",
       "    <tr style=\"text-align: right;\">\n",
       "      <th></th>\n",
       "      <th>locality_name</th>\n",
       "      <th>total_area</th>\n",
       "      <th>rooms</th>\n",
       "      <th>last_price</th>\n",
       "      <th>floor</th>\n",
       "      <th>floors_total</th>\n",
       "      <th>living_area</th>\n",
       "      <th>kitchen_area</th>\n",
       "      <th>balcony</th>\n",
       "      <th>ceiling_height</th>\n",
       "      <th>...</th>\n",
       "      <th>open_plan</th>\n",
       "      <th>first_day_exposition</th>\n",
       "      <th>days_exposition</th>\n",
       "      <th>total_images</th>\n",
       "      <th>airports_nearest</th>\n",
       "      <th>cityCenters_nearest</th>\n",
       "      <th>parks_around3000</th>\n",
       "      <th>parks_nearest</th>\n",
       "      <th>ponds_around3000</th>\n",
       "      <th>ponds_nearest</th>\n",
       "    </tr>\n",
       "  </thead>\n",
       "  <tbody>\n",
       "    <tr>\n",
       "      <th>144</th>\n",
       "      <td>посёлок Мурино</td>\n",
       "      <td>27.00</td>\n",
       "      <td>0</td>\n",
       "      <td>2450000.0</td>\n",
       "      <td>2</td>\n",
       "      <td>24.0</td>\n",
       "      <td>15.50</td>\n",
       "      <td>10.569807</td>\n",
       "      <td>2.0</td>\n",
       "      <td>2.7</td>\n",
       "      <td>...</td>\n",
       "      <td>False</td>\n",
       "      <td>2017-03-30T00:00:00</td>\n",
       "      <td>181.0</td>\n",
       "      <td>1</td>\n",
       "      <td>NaN</td>\n",
       "      <td>NaN</td>\n",
       "      <td>0.0</td>\n",
       "      <td>NaN</td>\n",
       "      <td>0.0</td>\n",
       "      <td>NaN</td>\n",
       "    </tr>\n",
       "    <tr>\n",
       "      <th>349</th>\n",
       "      <td>деревня Кудрово</td>\n",
       "      <td>25.00</td>\n",
       "      <td>0</td>\n",
       "      <td>2320000.0</td>\n",
       "      <td>1</td>\n",
       "      <td>14.0</td>\n",
       "      <td>17.00</td>\n",
       "      <td>10.569807</td>\n",
       "      <td>0.0</td>\n",
       "      <td>2.7</td>\n",
       "      <td>...</td>\n",
       "      <td>True</td>\n",
       "      <td>2017-09-27T00:00:00</td>\n",
       "      <td>45.0</td>\n",
       "      <td>4</td>\n",
       "      <td>NaN</td>\n",
       "      <td>NaN</td>\n",
       "      <td>0.0</td>\n",
       "      <td>NaN</td>\n",
       "      <td>0.0</td>\n",
       "      <td>NaN</td>\n",
       "    </tr>\n",
       "    <tr>\n",
       "      <th>440</th>\n",
       "      <td>Санкт-Петербург</td>\n",
       "      <td>27.11</td>\n",
       "      <td>0</td>\n",
       "      <td>2480000.0</td>\n",
       "      <td>4</td>\n",
       "      <td>17.0</td>\n",
       "      <td>24.75</td>\n",
       "      <td>10.569807</td>\n",
       "      <td>2.0</td>\n",
       "      <td>2.7</td>\n",
       "      <td>...</td>\n",
       "      <td>False</td>\n",
       "      <td>2018-03-12T00:00:00</td>\n",
       "      <td>64.0</td>\n",
       "      <td>8</td>\n",
       "      <td>38171.0</td>\n",
       "      <td>15015.0</td>\n",
       "      <td>0.0</td>\n",
       "      <td>NaN</td>\n",
       "      <td>2.0</td>\n",
       "      <td>982.0</td>\n",
       "    </tr>\n",
       "    <tr>\n",
       "      <th>508</th>\n",
       "      <td>посёлок Парголово</td>\n",
       "      <td>34.40</td>\n",
       "      <td>0</td>\n",
       "      <td>3375000.0</td>\n",
       "      <td>19</td>\n",
       "      <td>26.0</td>\n",
       "      <td>24.30</td>\n",
       "      <td>10.569807</td>\n",
       "      <td>1.0</td>\n",
       "      <td>2.7</td>\n",
       "      <td>...</td>\n",
       "      <td>True</td>\n",
       "      <td>2017-03-28T00:00:00</td>\n",
       "      <td>430.0</td>\n",
       "      <td>0</td>\n",
       "      <td>53115.0</td>\n",
       "      <td>19292.0</td>\n",
       "      <td>0.0</td>\n",
       "      <td>NaN</td>\n",
       "      <td>1.0</td>\n",
       "      <td>593.0</td>\n",
       "    </tr>\n",
       "    <tr>\n",
       "      <th>608</th>\n",
       "      <td>посёлок Шушары</td>\n",
       "      <td>25.00</td>\n",
       "      <td>0</td>\n",
       "      <td>1850000.0</td>\n",
       "      <td>7</td>\n",
       "      <td>10.0</td>\n",
       "      <td>NaN</td>\n",
       "      <td>10.569807</td>\n",
       "      <td>0.0</td>\n",
       "      <td>2.7</td>\n",
       "      <td>...</td>\n",
       "      <td>False</td>\n",
       "      <td>2019-02-20T00:00:00</td>\n",
       "      <td>29.0</td>\n",
       "      <td>2</td>\n",
       "      <td>NaN</td>\n",
       "      <td>NaN</td>\n",
       "      <td>0.0</td>\n",
       "      <td>NaN</td>\n",
       "      <td>0.0</td>\n",
       "      <td>NaN</td>\n",
       "    </tr>\n",
       "    <tr>\n",
       "      <th>...</th>\n",
       "      <td>...</td>\n",
       "      <td>...</td>\n",
       "      <td>...</td>\n",
       "      <td>...</td>\n",
       "      <td>...</td>\n",
       "      <td>...</td>\n",
       "      <td>...</td>\n",
       "      <td>...</td>\n",
       "      <td>...</td>\n",
       "      <td>...</td>\n",
       "      <td>...</td>\n",
       "      <td>...</td>\n",
       "      <td>...</td>\n",
       "      <td>...</td>\n",
       "      <td>...</td>\n",
       "      <td>...</td>\n",
       "      <td>...</td>\n",
       "      <td>...</td>\n",
       "      <td>...</td>\n",
       "      <td>...</td>\n",
       "      <td>...</td>\n",
       "    </tr>\n",
       "    <tr>\n",
       "      <th>23210</th>\n",
       "      <td>Санкт-Петербург</td>\n",
       "      <td>26.00</td>\n",
       "      <td>0</td>\n",
       "      <td>3200000.0</td>\n",
       "      <td>16</td>\n",
       "      <td>25.0</td>\n",
       "      <td>18.00</td>\n",
       "      <td>10.569807</td>\n",
       "      <td>0.0</td>\n",
       "      <td>2.7</td>\n",
       "      <td>...</td>\n",
       "      <td>False</td>\n",
       "      <td>2017-09-01T00:00:00</td>\n",
       "      <td>14.0</td>\n",
       "      <td>7</td>\n",
       "      <td>11405.0</td>\n",
       "      <td>13222.0</td>\n",
       "      <td>0.0</td>\n",
       "      <td>NaN</td>\n",
       "      <td>1.0</td>\n",
       "      <td>623.0</td>\n",
       "    </tr>\n",
       "    <tr>\n",
       "      <th>23442</th>\n",
       "      <td>посёлок Мурино</td>\n",
       "      <td>27.70</td>\n",
       "      <td>0</td>\n",
       "      <td>2500000.0</td>\n",
       "      <td>4</td>\n",
       "      <td>24.0</td>\n",
       "      <td>18.00</td>\n",
       "      <td>10.569807</td>\n",
       "      <td>2.0</td>\n",
       "      <td>2.7</td>\n",
       "      <td>...</td>\n",
       "      <td>True</td>\n",
       "      <td>2017-09-28T00:00:00</td>\n",
       "      <td>4.0</td>\n",
       "      <td>0</td>\n",
       "      <td>NaN</td>\n",
       "      <td>NaN</td>\n",
       "      <td>0.0</td>\n",
       "      <td>NaN</td>\n",
       "      <td>0.0</td>\n",
       "      <td>NaN</td>\n",
       "    </tr>\n",
       "    <tr>\n",
       "      <th>23554</th>\n",
       "      <td>Санкт-Петербург</td>\n",
       "      <td>26.00</td>\n",
       "      <td>0</td>\n",
       "      <td>3350000.0</td>\n",
       "      <td>8</td>\n",
       "      <td>19.0</td>\n",
       "      <td>NaN</td>\n",
       "      <td>10.569807</td>\n",
       "      <td>0.0</td>\n",
       "      <td>2.7</td>\n",
       "      <td>...</td>\n",
       "      <td>False</td>\n",
       "      <td>2018-09-07T00:00:00</td>\n",
       "      <td>31.0</td>\n",
       "      <td>15</td>\n",
       "      <td>18090.0</td>\n",
       "      <td>17092.0</td>\n",
       "      <td>0.0</td>\n",
       "      <td>NaN</td>\n",
       "      <td>2.0</td>\n",
       "      <td>112.0</td>\n",
       "    </tr>\n",
       "    <tr>\n",
       "      <th>23592</th>\n",
       "      <td>Никольское</td>\n",
       "      <td>29.00</td>\n",
       "      <td>0</td>\n",
       "      <td>1450000.0</td>\n",
       "      <td>8</td>\n",
       "      <td>9.0</td>\n",
       "      <td>18.00</td>\n",
       "      <td>10.569807</td>\n",
       "      <td>2.0</td>\n",
       "      <td>2.7</td>\n",
       "      <td>...</td>\n",
       "      <td>True</td>\n",
       "      <td>2017-11-11T00:00:00</td>\n",
       "      <td>82.0</td>\n",
       "      <td>10</td>\n",
       "      <td>NaN</td>\n",
       "      <td>NaN</td>\n",
       "      <td>0.0</td>\n",
       "      <td>NaN</td>\n",
       "      <td>0.0</td>\n",
       "      <td>NaN</td>\n",
       "    </tr>\n",
       "    <tr>\n",
       "      <th>23637</th>\n",
       "      <td>посёлок Бугры</td>\n",
       "      <td>26.00</td>\n",
       "      <td>0</td>\n",
       "      <td>2350000.0</td>\n",
       "      <td>4</td>\n",
       "      <td>25.0</td>\n",
       "      <td>17.00</td>\n",
       "      <td>10.569807</td>\n",
       "      <td>2.0</td>\n",
       "      <td>2.7</td>\n",
       "      <td>...</td>\n",
       "      <td>False</td>\n",
       "      <td>2018-06-26T00:00:00</td>\n",
       "      <td>207.0</td>\n",
       "      <td>8</td>\n",
       "      <td>NaN</td>\n",
       "      <td>NaN</td>\n",
       "      <td>0.0</td>\n",
       "      <td>NaN</td>\n",
       "      <td>0.0</td>\n",
       "      <td>NaN</td>\n",
       "    </tr>\n",
       "  </tbody>\n",
       "</table>\n",
       "<p>197 rows × 22 columns</p>\n",
       "</div>"
      ],
      "text/plain": [
       "           locality_name  total_area  rooms  last_price  floor  floors_total  \\\n",
       "144       посёлок Мурино       27.00      0   2450000.0      2          24.0   \n",
       "349      деревня Кудрово       25.00      0   2320000.0      1          14.0   \n",
       "440      Санкт-Петербург       27.11      0   2480000.0      4          17.0   \n",
       "508    посёлок Парголово       34.40      0   3375000.0     19          26.0   \n",
       "608       посёлок Шушары       25.00      0   1850000.0      7          10.0   \n",
       "...                  ...         ...    ...         ...    ...           ...   \n",
       "23210    Санкт-Петербург       26.00      0   3200000.0     16          25.0   \n",
       "23442     посёлок Мурино       27.70      0   2500000.0      4          24.0   \n",
       "23554    Санкт-Петербург       26.00      0   3350000.0      8          19.0   \n",
       "23592         Никольское       29.00      0   1450000.0      8           9.0   \n",
       "23637      посёлок Бугры       26.00      0   2350000.0      4          25.0   \n",
       "\n",
       "       living_area  kitchen_area  balcony  ceiling_height  ...  open_plan  \\\n",
       "144          15.50     10.569807      2.0             2.7  ...      False   \n",
       "349          17.00     10.569807      0.0             2.7  ...       True   \n",
       "440          24.75     10.569807      2.0             2.7  ...      False   \n",
       "508          24.30     10.569807      1.0             2.7  ...       True   \n",
       "608            NaN     10.569807      0.0             2.7  ...      False   \n",
       "...            ...           ...      ...             ...  ...        ...   \n",
       "23210        18.00     10.569807      0.0             2.7  ...      False   \n",
       "23442        18.00     10.569807      2.0             2.7  ...       True   \n",
       "23554          NaN     10.569807      0.0             2.7  ...      False   \n",
       "23592        18.00     10.569807      2.0             2.7  ...       True   \n",
       "23637        17.00     10.569807      2.0             2.7  ...      False   \n",
       "\n",
       "       first_day_exposition  days_exposition total_images  airports_nearest  \\\n",
       "144     2017-03-30T00:00:00            181.0            1               NaN   \n",
       "349     2017-09-27T00:00:00             45.0            4               NaN   \n",
       "440     2018-03-12T00:00:00             64.0            8           38171.0   \n",
       "508     2017-03-28T00:00:00            430.0            0           53115.0   \n",
       "608     2019-02-20T00:00:00             29.0            2               NaN   \n",
       "...                     ...              ...          ...               ...   \n",
       "23210   2017-09-01T00:00:00             14.0            7           11405.0   \n",
       "23442   2017-09-28T00:00:00              4.0            0               NaN   \n",
       "23554   2018-09-07T00:00:00             31.0           15           18090.0   \n",
       "23592   2017-11-11T00:00:00             82.0           10               NaN   \n",
       "23637   2018-06-26T00:00:00            207.0            8               NaN   \n",
       "\n",
       "       cityCenters_nearest  parks_around3000  parks_nearest  ponds_around3000  \\\n",
       "144                    NaN               0.0            NaN               0.0   \n",
       "349                    NaN               0.0            NaN               0.0   \n",
       "440                15015.0               0.0            NaN               2.0   \n",
       "508                19292.0               0.0            NaN               1.0   \n",
       "608                    NaN               0.0            NaN               0.0   \n",
       "...                    ...               ...            ...               ...   \n",
       "23210              13222.0               0.0            NaN               1.0   \n",
       "23442                  NaN               0.0            NaN               0.0   \n",
       "23554              17092.0               0.0            NaN               2.0   \n",
       "23592                  NaN               0.0            NaN               0.0   \n",
       "23637                  NaN               0.0            NaN               0.0   \n",
       "\n",
       "       ponds_nearest  \n",
       "144              NaN  \n",
       "349              NaN  \n",
       "440            982.0  \n",
       "508            593.0  \n",
       "608              NaN  \n",
       "...              ...  \n",
       "23210          623.0  \n",
       "23442            NaN  \n",
       "23554          112.0  \n",
       "23592            NaN  \n",
       "23637            NaN  \n",
       "\n",
       "[197 rows x 22 columns]"
      ]
     },
     "execution_count": 204,
     "metadata": {},
     "output_type": "execute_result"
    }
   ],
   "source": [
    "df.query('rooms == 0')"
   ]
  },
  {
   "cell_type": "markdown",
   "metadata": {},
   "source": [
    "Имеем 197 квартир с 0 комнатами"
   ]
  },
  {
   "cell_type": "markdown",
   "metadata": {},
   "source": [
    "Удалим и их тоже. Хотя при анализе выяснилось, что 187 квартир из выбранных относятся к однокомнатным, но сообразить как правильно заменить количество комнат с 0 на 1 не порушив всю таблицу, я не сообразила, а время сдачи проекта поджимает =))"
   ]
  },
  {
   "cell_type": "code",
   "execution_count": 205,
   "metadata": {},
   "outputs": [],
   "source": [
    "df = df.loc[df['rooms']!=0]"
   ]
  },
  {
   "cell_type": "markdown",
   "metadata": {},
   "source": [
    "В итоге мы проделали следующую работу:\n",
    "\n",
    "    1. Убрали квартиры стоимостью более 100 млн рублей\n",
    "    \n",
    "    2. Убрали квартиры с количеством комнат 0\n",
    "    \n",
    "    3. Выравняли высоту полотков - убрали высоту свыше 5,5 метров и заменили высоту до 2 метров в квартирах."
   ]
  },
  {
   "cell_type": "markdown",
   "metadata": {},
   "source": [
    "### Изменение типов данных в столбцах"
   ]
  },
  {
   "cell_type": "code",
   "execution_count": 206,
   "metadata": {},
   "outputs": [
    {
     "name": "stdout",
     "output_type": "stream",
     "text": [
      "<class 'pandas.core.frame.DataFrame'>\n",
      "Int64Index: 23465 entries, 0 to 23698\n",
      "Data columns (total 22 columns):\n",
      " #   Column                Non-Null Count  Dtype  \n",
      "---  ------                --------------  -----  \n",
      " 0   locality_name         23416 non-null  object \n",
      " 1   total_area            23465 non-null  float64\n",
      " 2   rooms                 23465 non-null  int64  \n",
      " 3   last_price            23465 non-null  float64\n",
      " 4   floor                 23465 non-null  int64  \n",
      " 5   floors_total          23382 non-null  float64\n",
      " 6   living_area           21581 non-null  float64\n",
      " 7   kitchen_area          23465 non-null  float64\n",
      " 8   balcony               23465 non-null  float64\n",
      " 9   ceiling_height        23465 non-null  float64\n",
      " 10  is_apartment          23465 non-null  bool   \n",
      " 11  studio                23465 non-null  bool   \n",
      " 12  open_plan             23465 non-null  bool   \n",
      " 13  first_day_exposition  23465 non-null  object \n",
      " 14  days_exposition       20303 non-null  float64\n",
      " 15  total_images          23465 non-null  int64  \n",
      " 16  airports_nearest      18003 non-null  float64\n",
      " 17  cityCenters_nearest   18026 non-null  float64\n",
      " 18  parks_around3000      23465 non-null  float64\n",
      " 19  parks_nearest         8024 non-null   float64\n",
      " 20  ponds_around3000      23465 non-null  float64\n",
      " 21  ponds_nearest         9008 non-null   float64\n",
      "dtypes: bool(3), float64(14), int64(3), object(2)\n",
      "memory usage: 3.6+ MB\n"
     ]
    }
   ],
   "source": [
    "df.info()"
   ]
  },
  {
   "cell_type": "code",
   "execution_count": 207,
   "metadata": {},
   "outputs": [],
   "source": [
    "df['balcony'] = df['balcony'].astype('int')\n",
    "df['parks_around3000'] = df['parks_around3000'].astype('int')\n",
    "df['ponds_around3000'] = df['ponds_around3000'].astype('int')"
   ]
  },
  {
   "cell_type": "markdown",
   "metadata": {},
   "source": [
    "В столбцах balcony, parks_around3000, ponds_around3000 заменен тип данных, так как значения данных целочисленные и в столбце отсутствуют пропущенные значения.\n",
    "В столбцах days_exposition и floors_total оставлены пропущенные значения, поэтому замена типа данных не представляется возможным."
   ]
  },
  {
   "cell_type": "markdown",
   "metadata": {},
   "source": [
    "### Обработка значений дата/время"
   ]
  },
  {
   "cell_type": "markdown",
   "metadata": {},
   "source": [
    "Поработаем немного с датами"
   ]
  },
  {
   "cell_type": "code",
   "execution_count": 208,
   "metadata": {},
   "outputs": [
    {
     "data": {
      "text/html": [
       "<div>\n",
       "<style scoped>\n",
       "    .dataframe tbody tr th:only-of-type {\n",
       "        vertical-align: middle;\n",
       "    }\n",
       "\n",
       "    .dataframe tbody tr th {\n",
       "        vertical-align: top;\n",
       "    }\n",
       "\n",
       "    .dataframe thead th {\n",
       "        text-align: right;\n",
       "    }\n",
       "</style>\n",
       "<table border=\"1\" class=\"dataframe\">\n",
       "  <thead>\n",
       "    <tr style=\"text-align: right;\">\n",
       "      <th></th>\n",
       "      <th>locality_name</th>\n",
       "      <th>total_area</th>\n",
       "      <th>rooms</th>\n",
       "      <th>last_price</th>\n",
       "      <th>floor</th>\n",
       "      <th>floors_total</th>\n",
       "      <th>living_area</th>\n",
       "      <th>kitchen_area</th>\n",
       "      <th>balcony</th>\n",
       "      <th>ceiling_height</th>\n",
       "      <th>...</th>\n",
       "      <th>open_plan</th>\n",
       "      <th>first_day_exposition</th>\n",
       "      <th>days_exposition</th>\n",
       "      <th>total_images</th>\n",
       "      <th>airports_nearest</th>\n",
       "      <th>cityCenters_nearest</th>\n",
       "      <th>parks_around3000</th>\n",
       "      <th>parks_nearest</th>\n",
       "      <th>ponds_around3000</th>\n",
       "      <th>ponds_nearest</th>\n",
       "    </tr>\n",
       "  </thead>\n",
       "  <tbody>\n",
       "    <tr>\n",
       "      <th>0</th>\n",
       "      <td>Санкт-Петербург</td>\n",
       "      <td>108.0</td>\n",
       "      <td>3</td>\n",
       "      <td>13000000.0</td>\n",
       "      <td>8</td>\n",
       "      <td>16.0</td>\n",
       "      <td>51.0</td>\n",
       "      <td>25.000000</td>\n",
       "      <td>0</td>\n",
       "      <td>2.70</td>\n",
       "      <td>...</td>\n",
       "      <td>False</td>\n",
       "      <td>2019-03-07</td>\n",
       "      <td>NaN</td>\n",
       "      <td>20</td>\n",
       "      <td>18863.0</td>\n",
       "      <td>16028.0</td>\n",
       "      <td>1</td>\n",
       "      <td>482.0</td>\n",
       "      <td>2</td>\n",
       "      <td>755.0</td>\n",
       "    </tr>\n",
       "    <tr>\n",
       "      <th>1</th>\n",
       "      <td>посёлок Шушары</td>\n",
       "      <td>40.4</td>\n",
       "      <td>1</td>\n",
       "      <td>3350000.0</td>\n",
       "      <td>1</td>\n",
       "      <td>11.0</td>\n",
       "      <td>18.6</td>\n",
       "      <td>11.000000</td>\n",
       "      <td>2</td>\n",
       "      <td>2.70</td>\n",
       "      <td>...</td>\n",
       "      <td>False</td>\n",
       "      <td>2018-12-04</td>\n",
       "      <td>81.0</td>\n",
       "      <td>7</td>\n",
       "      <td>12817.0</td>\n",
       "      <td>18603.0</td>\n",
       "      <td>0</td>\n",
       "      <td>NaN</td>\n",
       "      <td>0</td>\n",
       "      <td>NaN</td>\n",
       "    </tr>\n",
       "    <tr>\n",
       "      <th>2</th>\n",
       "      <td>Санкт-Петербург</td>\n",
       "      <td>56.0</td>\n",
       "      <td>2</td>\n",
       "      <td>5196000.0</td>\n",
       "      <td>4</td>\n",
       "      <td>5.0</td>\n",
       "      <td>34.3</td>\n",
       "      <td>8.300000</td>\n",
       "      <td>0</td>\n",
       "      <td>2.70</td>\n",
       "      <td>...</td>\n",
       "      <td>False</td>\n",
       "      <td>2015-08-20</td>\n",
       "      <td>558.0</td>\n",
       "      <td>10</td>\n",
       "      <td>21741.0</td>\n",
       "      <td>13933.0</td>\n",
       "      <td>1</td>\n",
       "      <td>90.0</td>\n",
       "      <td>2</td>\n",
       "      <td>574.0</td>\n",
       "    </tr>\n",
       "    <tr>\n",
       "      <th>3</th>\n",
       "      <td>Санкт-Петербург</td>\n",
       "      <td>159.0</td>\n",
       "      <td>3</td>\n",
       "      <td>64900000.0</td>\n",
       "      <td>9</td>\n",
       "      <td>14.0</td>\n",
       "      <td>NaN</td>\n",
       "      <td>10.569807</td>\n",
       "      <td>0</td>\n",
       "      <td>2.70</td>\n",
       "      <td>...</td>\n",
       "      <td>False</td>\n",
       "      <td>2015-07-24</td>\n",
       "      <td>424.0</td>\n",
       "      <td>0</td>\n",
       "      <td>28098.0</td>\n",
       "      <td>6800.0</td>\n",
       "      <td>2</td>\n",
       "      <td>84.0</td>\n",
       "      <td>3</td>\n",
       "      <td>234.0</td>\n",
       "    </tr>\n",
       "    <tr>\n",
       "      <th>4</th>\n",
       "      <td>Санкт-Петербург</td>\n",
       "      <td>100.0</td>\n",
       "      <td>2</td>\n",
       "      <td>10000000.0</td>\n",
       "      <td>13</td>\n",
       "      <td>14.0</td>\n",
       "      <td>32.0</td>\n",
       "      <td>41.000000</td>\n",
       "      <td>0</td>\n",
       "      <td>3.03</td>\n",
       "      <td>...</td>\n",
       "      <td>False</td>\n",
       "      <td>2018-06-19</td>\n",
       "      <td>121.0</td>\n",
       "      <td>2</td>\n",
       "      <td>31856.0</td>\n",
       "      <td>8098.0</td>\n",
       "      <td>2</td>\n",
       "      <td>112.0</td>\n",
       "      <td>1</td>\n",
       "      <td>48.0</td>\n",
       "    </tr>\n",
       "  </tbody>\n",
       "</table>\n",
       "<p>5 rows × 22 columns</p>\n",
       "</div>"
      ],
      "text/plain": [
       "     locality_name  total_area  rooms  last_price  floor  floors_total  \\\n",
       "0  Санкт-Петербург       108.0      3  13000000.0      8          16.0   \n",
       "1   посёлок Шушары        40.4      1   3350000.0      1          11.0   \n",
       "2  Санкт-Петербург        56.0      2   5196000.0      4           5.0   \n",
       "3  Санкт-Петербург       159.0      3  64900000.0      9          14.0   \n",
       "4  Санкт-Петербург       100.0      2  10000000.0     13          14.0   \n",
       "\n",
       "   living_area  kitchen_area  balcony  ceiling_height  ...  open_plan  \\\n",
       "0         51.0     25.000000        0            2.70  ...      False   \n",
       "1         18.6     11.000000        2            2.70  ...      False   \n",
       "2         34.3      8.300000        0            2.70  ...      False   \n",
       "3          NaN     10.569807        0            2.70  ...      False   \n",
       "4         32.0     41.000000        0            3.03  ...      False   \n",
       "\n",
       "   first_day_exposition  days_exposition total_images  airports_nearest  \\\n",
       "0            2019-03-07              NaN           20           18863.0   \n",
       "1            2018-12-04             81.0            7           12817.0   \n",
       "2            2015-08-20            558.0           10           21741.0   \n",
       "3            2015-07-24            424.0            0           28098.0   \n",
       "4            2018-06-19            121.0            2           31856.0   \n",
       "\n",
       "   cityCenters_nearest  parks_around3000  parks_nearest  ponds_around3000  \\\n",
       "0              16028.0                 1          482.0                 2   \n",
       "1              18603.0                 0            NaN                 0   \n",
       "2              13933.0                 1           90.0                 2   \n",
       "3               6800.0                 2           84.0                 3   \n",
       "4               8098.0                 2          112.0                 1   \n",
       "\n",
       "   ponds_nearest  \n",
       "0          755.0  \n",
       "1            NaN  \n",
       "2          574.0  \n",
       "3          234.0  \n",
       "4           48.0  \n",
       "\n",
       "[5 rows x 22 columns]"
      ]
     },
     "execution_count": 208,
     "metadata": {},
     "output_type": "execute_result"
    }
   ],
   "source": [
    "df['first_day_exposition'] = pd.to_datetime(df['first_day_exposition'], format=\"%Y-%m-%dT%H:%M:%S\")\n",
    "df.head()"
   ]
  },
  {
   "cell_type": "markdown",
   "metadata": {},
   "source": [
    "## Расчёты и добавление результатов в таблицу"
   ]
  },
  {
   "cell_type": "markdown",
   "metadata": {},
   "source": [
    "Итак задача такова. Посчитайте и добавьте в таблицу:\n",
    "\n",
    "•\tцену квадратного метра;\n",
    "\n",
    "•\tдень недели, месяц и год публикации объявления;\n",
    "\n",
    "•\tэтаж квартиры; варианты — первый, последний, другой;\n",
    "\n",
    "•\tсоотношение жилой и общей площади, а также отношение площади кухни к общей.\n"
   ]
  },
  {
   "cell_type": "markdown",
   "metadata": {},
   "source": [
    "### Добавление цены квадратного метра"
   ]
  },
  {
   "cell_type": "code",
   "execution_count": 209,
   "metadata": {},
   "outputs": [
    {
     "data": {
      "text/html": [
       "<div>\n",
       "<style scoped>\n",
       "    .dataframe tbody tr th:only-of-type {\n",
       "        vertical-align: middle;\n",
       "    }\n",
       "\n",
       "    .dataframe tbody tr th {\n",
       "        vertical-align: top;\n",
       "    }\n",
       "\n",
       "    .dataframe thead th {\n",
       "        text-align: right;\n",
       "    }\n",
       "</style>\n",
       "<table border=\"1\" class=\"dataframe\">\n",
       "  <thead>\n",
       "    <tr style=\"text-align: right;\">\n",
       "      <th></th>\n",
       "      <th>locality_name</th>\n",
       "      <th>total_area</th>\n",
       "      <th>rooms</th>\n",
       "      <th>last_price</th>\n",
       "      <th>floor</th>\n",
       "      <th>floors_total</th>\n",
       "      <th>living_area</th>\n",
       "      <th>kitchen_area</th>\n",
       "      <th>balcony</th>\n",
       "      <th>ceiling_height</th>\n",
       "      <th>...</th>\n",
       "      <th>first_day_exposition</th>\n",
       "      <th>days_exposition</th>\n",
       "      <th>total_images</th>\n",
       "      <th>airports_nearest</th>\n",
       "      <th>cityCenters_nearest</th>\n",
       "      <th>parks_around3000</th>\n",
       "      <th>parks_nearest</th>\n",
       "      <th>ponds_around3000</th>\n",
       "      <th>ponds_nearest</th>\n",
       "      <th>price_meter</th>\n",
       "    </tr>\n",
       "  </thead>\n",
       "  <tbody>\n",
       "    <tr>\n",
       "      <th>0</th>\n",
       "      <td>Санкт-Петербург</td>\n",
       "      <td>108.0</td>\n",
       "      <td>3</td>\n",
       "      <td>13000000.0</td>\n",
       "      <td>8</td>\n",
       "      <td>16.0</td>\n",
       "      <td>51.0</td>\n",
       "      <td>25.000000</td>\n",
       "      <td>0</td>\n",
       "      <td>2.70</td>\n",
       "      <td>...</td>\n",
       "      <td>2019-03-07</td>\n",
       "      <td>NaN</td>\n",
       "      <td>20</td>\n",
       "      <td>18863.0</td>\n",
       "      <td>16028.0</td>\n",
       "      <td>1</td>\n",
       "      <td>482.0</td>\n",
       "      <td>2</td>\n",
       "      <td>755.0</td>\n",
       "      <td>120370.4</td>\n",
       "    </tr>\n",
       "    <tr>\n",
       "      <th>1</th>\n",
       "      <td>посёлок Шушары</td>\n",
       "      <td>40.4</td>\n",
       "      <td>1</td>\n",
       "      <td>3350000.0</td>\n",
       "      <td>1</td>\n",
       "      <td>11.0</td>\n",
       "      <td>18.6</td>\n",
       "      <td>11.000000</td>\n",
       "      <td>2</td>\n",
       "      <td>2.70</td>\n",
       "      <td>...</td>\n",
       "      <td>2018-12-04</td>\n",
       "      <td>81.0</td>\n",
       "      <td>7</td>\n",
       "      <td>12817.0</td>\n",
       "      <td>18603.0</td>\n",
       "      <td>0</td>\n",
       "      <td>NaN</td>\n",
       "      <td>0</td>\n",
       "      <td>NaN</td>\n",
       "      <td>82920.8</td>\n",
       "    </tr>\n",
       "    <tr>\n",
       "      <th>2</th>\n",
       "      <td>Санкт-Петербург</td>\n",
       "      <td>56.0</td>\n",
       "      <td>2</td>\n",
       "      <td>5196000.0</td>\n",
       "      <td>4</td>\n",
       "      <td>5.0</td>\n",
       "      <td>34.3</td>\n",
       "      <td>8.300000</td>\n",
       "      <td>0</td>\n",
       "      <td>2.70</td>\n",
       "      <td>...</td>\n",
       "      <td>2015-08-20</td>\n",
       "      <td>558.0</td>\n",
       "      <td>10</td>\n",
       "      <td>21741.0</td>\n",
       "      <td>13933.0</td>\n",
       "      <td>1</td>\n",
       "      <td>90.0</td>\n",
       "      <td>2</td>\n",
       "      <td>574.0</td>\n",
       "      <td>92785.7</td>\n",
       "    </tr>\n",
       "    <tr>\n",
       "      <th>3</th>\n",
       "      <td>Санкт-Петербург</td>\n",
       "      <td>159.0</td>\n",
       "      <td>3</td>\n",
       "      <td>64900000.0</td>\n",
       "      <td>9</td>\n",
       "      <td>14.0</td>\n",
       "      <td>NaN</td>\n",
       "      <td>10.569807</td>\n",
       "      <td>0</td>\n",
       "      <td>2.70</td>\n",
       "      <td>...</td>\n",
       "      <td>2015-07-24</td>\n",
       "      <td>424.0</td>\n",
       "      <td>0</td>\n",
       "      <td>28098.0</td>\n",
       "      <td>6800.0</td>\n",
       "      <td>2</td>\n",
       "      <td>84.0</td>\n",
       "      <td>3</td>\n",
       "      <td>234.0</td>\n",
       "      <td>408176.1</td>\n",
       "    </tr>\n",
       "    <tr>\n",
       "      <th>4</th>\n",
       "      <td>Санкт-Петербург</td>\n",
       "      <td>100.0</td>\n",
       "      <td>2</td>\n",
       "      <td>10000000.0</td>\n",
       "      <td>13</td>\n",
       "      <td>14.0</td>\n",
       "      <td>32.0</td>\n",
       "      <td>41.000000</td>\n",
       "      <td>0</td>\n",
       "      <td>3.03</td>\n",
       "      <td>...</td>\n",
       "      <td>2018-06-19</td>\n",
       "      <td>121.0</td>\n",
       "      <td>2</td>\n",
       "      <td>31856.0</td>\n",
       "      <td>8098.0</td>\n",
       "      <td>2</td>\n",
       "      <td>112.0</td>\n",
       "      <td>1</td>\n",
       "      <td>48.0</td>\n",
       "      <td>100000.0</td>\n",
       "    </tr>\n",
       "  </tbody>\n",
       "</table>\n",
       "<p>5 rows × 23 columns</p>\n",
       "</div>"
      ],
      "text/plain": [
       "     locality_name  total_area  rooms  last_price  floor  floors_total  \\\n",
       "0  Санкт-Петербург       108.0      3  13000000.0      8          16.0   \n",
       "1   посёлок Шушары        40.4      1   3350000.0      1          11.0   \n",
       "2  Санкт-Петербург        56.0      2   5196000.0      4           5.0   \n",
       "3  Санкт-Петербург       159.0      3  64900000.0      9          14.0   \n",
       "4  Санкт-Петербург       100.0      2  10000000.0     13          14.0   \n",
       "\n",
       "   living_area  kitchen_area  balcony  ceiling_height  ...  \\\n",
       "0         51.0     25.000000        0            2.70  ...   \n",
       "1         18.6     11.000000        2            2.70  ...   \n",
       "2         34.3      8.300000        0            2.70  ...   \n",
       "3          NaN     10.569807        0            2.70  ...   \n",
       "4         32.0     41.000000        0            3.03  ...   \n",
       "\n",
       "   first_day_exposition  days_exposition  total_images airports_nearest  \\\n",
       "0            2019-03-07              NaN            20          18863.0   \n",
       "1            2018-12-04             81.0             7          12817.0   \n",
       "2            2015-08-20            558.0            10          21741.0   \n",
       "3            2015-07-24            424.0             0          28098.0   \n",
       "4            2018-06-19            121.0             2          31856.0   \n",
       "\n",
       "   cityCenters_nearest  parks_around3000  parks_nearest  ponds_around3000  \\\n",
       "0              16028.0                 1          482.0                 2   \n",
       "1              18603.0                 0            NaN                 0   \n",
       "2              13933.0                 1           90.0                 2   \n",
       "3               6800.0                 2           84.0                 3   \n",
       "4               8098.0                 2          112.0                 1   \n",
       "\n",
       "   ponds_nearest  price_meter  \n",
       "0          755.0     120370.4  \n",
       "1            NaN      82920.8  \n",
       "2          574.0      92785.7  \n",
       "3          234.0     408176.1  \n",
       "4           48.0     100000.0  \n",
       "\n",
       "[5 rows x 23 columns]"
      ]
     },
     "execution_count": 209,
     "metadata": {},
     "output_type": "execute_result"
    }
   ],
   "source": [
    "df['price_meter'] = df['last_price'] / df['total_area']\n",
    "df['price_meter'] = df['price_meter'].round(decimals=1)\n",
    "df.head()"
   ]
  },
  {
   "cell_type": "code",
   "execution_count": 270,
   "metadata": {},
   "outputs": [
    {
     "data": {
      "text/plain": [
       "count     23241.000000\n",
       "mean      99245.225167\n",
       "std       42615.830543\n",
       "min       10507.200000\n",
       "25%       77097.500000\n",
       "50%       95155.700000\n",
       "75%      114247.300000\n",
       "max      848484.800000\n",
       "Name: price_meter, dtype: float64"
      ]
     },
     "execution_count": 270,
     "metadata": {},
     "output_type": "execute_result"
    }
   ],
   "source": [
    "df['price_meter'].describe()"
   ]
  },
  {
   "cell_type": "markdown",
   "metadata": {},
   "source": [
    "### Добавление дня недели, месяца и года публикации объявления"
   ]
  },
  {
   "cell_type": "code",
   "execution_count": 210,
   "metadata": {},
   "outputs": [
    {
     "data": {
      "text/html": [
       "<div>\n",
       "<style scoped>\n",
       "    .dataframe tbody tr th:only-of-type {\n",
       "        vertical-align: middle;\n",
       "    }\n",
       "\n",
       "    .dataframe tbody tr th {\n",
       "        vertical-align: top;\n",
       "    }\n",
       "\n",
       "    .dataframe thead th {\n",
       "        text-align: right;\n",
       "    }\n",
       "</style>\n",
       "<table border=\"1\" class=\"dataframe\">\n",
       "  <thead>\n",
       "    <tr style=\"text-align: right;\">\n",
       "      <th></th>\n",
       "      <th>locality_name</th>\n",
       "      <th>total_area</th>\n",
       "      <th>rooms</th>\n",
       "      <th>last_price</th>\n",
       "      <th>floor</th>\n",
       "      <th>floors_total</th>\n",
       "      <th>living_area</th>\n",
       "      <th>kitchen_area</th>\n",
       "      <th>balcony</th>\n",
       "      <th>ceiling_height</th>\n",
       "      <th>...</th>\n",
       "      <th>airports_nearest</th>\n",
       "      <th>cityCenters_nearest</th>\n",
       "      <th>parks_around3000</th>\n",
       "      <th>parks_nearest</th>\n",
       "      <th>ponds_around3000</th>\n",
       "      <th>ponds_nearest</th>\n",
       "      <th>price_meter</th>\n",
       "      <th>day_of_week_exposition</th>\n",
       "      <th>month_exposition</th>\n",
       "      <th>year_exposition</th>\n",
       "    </tr>\n",
       "  </thead>\n",
       "  <tbody>\n",
       "    <tr>\n",
       "      <th>0</th>\n",
       "      <td>Санкт-Петербург</td>\n",
       "      <td>108.0</td>\n",
       "      <td>3</td>\n",
       "      <td>13000000.0</td>\n",
       "      <td>8</td>\n",
       "      <td>16.0</td>\n",
       "      <td>51.0</td>\n",
       "      <td>25.000000</td>\n",
       "      <td>0</td>\n",
       "      <td>2.70</td>\n",
       "      <td>...</td>\n",
       "      <td>18863.0</td>\n",
       "      <td>16028.0</td>\n",
       "      <td>1</td>\n",
       "      <td>482.0</td>\n",
       "      <td>2</td>\n",
       "      <td>755.0</td>\n",
       "      <td>120370.4</td>\n",
       "      <td>Thursday</td>\n",
       "      <td>March</td>\n",
       "      <td>2019</td>\n",
       "    </tr>\n",
       "    <tr>\n",
       "      <th>1</th>\n",
       "      <td>посёлок Шушары</td>\n",
       "      <td>40.4</td>\n",
       "      <td>1</td>\n",
       "      <td>3350000.0</td>\n",
       "      <td>1</td>\n",
       "      <td>11.0</td>\n",
       "      <td>18.6</td>\n",
       "      <td>11.000000</td>\n",
       "      <td>2</td>\n",
       "      <td>2.70</td>\n",
       "      <td>...</td>\n",
       "      <td>12817.0</td>\n",
       "      <td>18603.0</td>\n",
       "      <td>0</td>\n",
       "      <td>NaN</td>\n",
       "      <td>0</td>\n",
       "      <td>NaN</td>\n",
       "      <td>82920.8</td>\n",
       "      <td>Tuesday</td>\n",
       "      <td>December</td>\n",
       "      <td>2018</td>\n",
       "    </tr>\n",
       "    <tr>\n",
       "      <th>2</th>\n",
       "      <td>Санкт-Петербург</td>\n",
       "      <td>56.0</td>\n",
       "      <td>2</td>\n",
       "      <td>5196000.0</td>\n",
       "      <td>4</td>\n",
       "      <td>5.0</td>\n",
       "      <td>34.3</td>\n",
       "      <td>8.300000</td>\n",
       "      <td>0</td>\n",
       "      <td>2.70</td>\n",
       "      <td>...</td>\n",
       "      <td>21741.0</td>\n",
       "      <td>13933.0</td>\n",
       "      <td>1</td>\n",
       "      <td>90.0</td>\n",
       "      <td>2</td>\n",
       "      <td>574.0</td>\n",
       "      <td>92785.7</td>\n",
       "      <td>Thursday</td>\n",
       "      <td>August</td>\n",
       "      <td>2015</td>\n",
       "    </tr>\n",
       "    <tr>\n",
       "      <th>3</th>\n",
       "      <td>Санкт-Петербург</td>\n",
       "      <td>159.0</td>\n",
       "      <td>3</td>\n",
       "      <td>64900000.0</td>\n",
       "      <td>9</td>\n",
       "      <td>14.0</td>\n",
       "      <td>NaN</td>\n",
       "      <td>10.569807</td>\n",
       "      <td>0</td>\n",
       "      <td>2.70</td>\n",
       "      <td>...</td>\n",
       "      <td>28098.0</td>\n",
       "      <td>6800.0</td>\n",
       "      <td>2</td>\n",
       "      <td>84.0</td>\n",
       "      <td>3</td>\n",
       "      <td>234.0</td>\n",
       "      <td>408176.1</td>\n",
       "      <td>Friday</td>\n",
       "      <td>July</td>\n",
       "      <td>2015</td>\n",
       "    </tr>\n",
       "    <tr>\n",
       "      <th>4</th>\n",
       "      <td>Санкт-Петербург</td>\n",
       "      <td>100.0</td>\n",
       "      <td>2</td>\n",
       "      <td>10000000.0</td>\n",
       "      <td>13</td>\n",
       "      <td>14.0</td>\n",
       "      <td>32.0</td>\n",
       "      <td>41.000000</td>\n",
       "      <td>0</td>\n",
       "      <td>3.03</td>\n",
       "      <td>...</td>\n",
       "      <td>31856.0</td>\n",
       "      <td>8098.0</td>\n",
       "      <td>2</td>\n",
       "      <td>112.0</td>\n",
       "      <td>1</td>\n",
       "      <td>48.0</td>\n",
       "      <td>100000.0</td>\n",
       "      <td>Tuesday</td>\n",
       "      <td>June</td>\n",
       "      <td>2018</td>\n",
       "    </tr>\n",
       "  </tbody>\n",
       "</table>\n",
       "<p>5 rows × 26 columns</p>\n",
       "</div>"
      ],
      "text/plain": [
       "     locality_name  total_area  rooms  last_price  floor  floors_total  \\\n",
       "0  Санкт-Петербург       108.0      3  13000000.0      8          16.0   \n",
       "1   посёлок Шушары        40.4      1   3350000.0      1          11.0   \n",
       "2  Санкт-Петербург        56.0      2   5196000.0      4           5.0   \n",
       "3  Санкт-Петербург       159.0      3  64900000.0      9          14.0   \n",
       "4  Санкт-Петербург       100.0      2  10000000.0     13          14.0   \n",
       "\n",
       "   living_area  kitchen_area  balcony  ceiling_height  ...  airports_nearest  \\\n",
       "0         51.0     25.000000        0            2.70  ...           18863.0   \n",
       "1         18.6     11.000000        2            2.70  ...           12817.0   \n",
       "2         34.3      8.300000        0            2.70  ...           21741.0   \n",
       "3          NaN     10.569807        0            2.70  ...           28098.0   \n",
       "4         32.0     41.000000        0            3.03  ...           31856.0   \n",
       "\n",
       "   cityCenters_nearest  parks_around3000 parks_nearest  ponds_around3000  \\\n",
       "0              16028.0                 1         482.0                 2   \n",
       "1              18603.0                 0           NaN                 0   \n",
       "2              13933.0                 1          90.0                 2   \n",
       "3               6800.0                 2          84.0                 3   \n",
       "4               8098.0                 2         112.0                 1   \n",
       "\n",
       "   ponds_nearest  price_meter  day_of_week_exposition  month_exposition  \\\n",
       "0          755.0     120370.4                Thursday             March   \n",
       "1            NaN      82920.8                 Tuesday          December   \n",
       "2          574.0      92785.7                Thursday            August   \n",
       "3          234.0     408176.1                  Friday              July   \n",
       "4           48.0     100000.0                 Tuesday              June   \n",
       "\n",
       "   year_exposition  \n",
       "0             2019  \n",
       "1             2018  \n",
       "2             2015  \n",
       "3             2015  \n",
       "4             2018  \n",
       "\n",
       "[5 rows x 26 columns]"
      ]
     },
     "execution_count": 210,
     "metadata": {},
     "output_type": "execute_result"
    }
   ],
   "source": [
    "df['day_of_week_exposition'] = df['first_day_exposition'].dt.day_name()\n",
    "df['month_exposition'] = df['first_day_exposition'].dt.month_name()\n",
    "df['year_exposition'] = df['first_day_exposition'].dt.year\n",
    "df.head()"
   ]
  },
  {
   "cell_type": "markdown",
   "metadata": {},
   "source": [
    "### Добавление этажа квартиры; варианты — первый, последний, другой"
   ]
  },
  {
   "cell_type": "code",
   "execution_count": 211,
   "metadata": {},
   "outputs": [],
   "source": [
    "def floor_status(row):\n",
    "    if row['floor'] == 1:\n",
    "        return 'первый'\n",
    "    if row['floor'] == row['floors_total']:\n",
    "        return 'последний'\n",
    "    return 'другой'"
   ]
  },
  {
   "cell_type": "code",
   "execution_count": 212,
   "metadata": {},
   "outputs": [],
   "source": [
    "df['floor_status'] = df.apply(floor_status, axis=1)"
   ]
  },
  {
   "cell_type": "code",
   "execution_count": 213,
   "metadata": {},
   "outputs": [
    {
     "data": {
      "text/html": [
       "<div>\n",
       "<style scoped>\n",
       "    .dataframe tbody tr th:only-of-type {\n",
       "        vertical-align: middle;\n",
       "    }\n",
       "\n",
       "    .dataframe tbody tr th {\n",
       "        vertical-align: top;\n",
       "    }\n",
       "\n",
       "    .dataframe thead th {\n",
       "        text-align: right;\n",
       "    }\n",
       "</style>\n",
       "<table border=\"1\" class=\"dataframe\">\n",
       "  <thead>\n",
       "    <tr style=\"text-align: right;\">\n",
       "      <th></th>\n",
       "      <th>locality_name</th>\n",
       "      <th>total_area</th>\n",
       "      <th>rooms</th>\n",
       "      <th>last_price</th>\n",
       "      <th>floor</th>\n",
       "      <th>floors_total</th>\n",
       "      <th>living_area</th>\n",
       "      <th>kitchen_area</th>\n",
       "      <th>balcony</th>\n",
       "      <th>ceiling_height</th>\n",
       "      <th>...</th>\n",
       "      <th>cityCenters_nearest</th>\n",
       "      <th>parks_around3000</th>\n",
       "      <th>parks_nearest</th>\n",
       "      <th>ponds_around3000</th>\n",
       "      <th>ponds_nearest</th>\n",
       "      <th>price_meter</th>\n",
       "      <th>day_of_week_exposition</th>\n",
       "      <th>month_exposition</th>\n",
       "      <th>year_exposition</th>\n",
       "      <th>floor_status</th>\n",
       "    </tr>\n",
       "  </thead>\n",
       "  <tbody>\n",
       "    <tr>\n",
       "      <th>18994</th>\n",
       "      <td>Санкт-Петербург</td>\n",
       "      <td>70.0</td>\n",
       "      <td>3</td>\n",
       "      <td>7000000.0</td>\n",
       "      <td>12</td>\n",
       "      <td>12.0</td>\n",
       "      <td>43.0</td>\n",
       "      <td>11.0</td>\n",
       "      <td>0</td>\n",
       "      <td>2.7</td>\n",
       "      <td>...</td>\n",
       "      <td>13174.0</td>\n",
       "      <td>1</td>\n",
       "      <td>177.0</td>\n",
       "      <td>2</td>\n",
       "      <td>369.0</td>\n",
       "      <td>100000.0</td>\n",
       "      <td>Friday</td>\n",
       "      <td>October</td>\n",
       "      <td>2018</td>\n",
       "      <td>последний</td>\n",
       "    </tr>\n",
       "  </tbody>\n",
       "</table>\n",
       "<p>1 rows × 27 columns</p>\n",
       "</div>"
      ],
      "text/plain": [
       "         locality_name  total_area  rooms  last_price  floor  floors_total  \\\n",
       "18994  Санкт-Петербург        70.0      3   7000000.0     12          12.0   \n",
       "\n",
       "       living_area  kitchen_area  balcony  ceiling_height  ...  \\\n",
       "18994         43.0          11.0        0             2.7  ...   \n",
       "\n",
       "       cityCenters_nearest  parks_around3000  parks_nearest ponds_around3000  \\\n",
       "18994              13174.0                 1          177.0                2   \n",
       "\n",
       "       ponds_nearest  price_meter  day_of_week_exposition  month_exposition  \\\n",
       "18994          369.0     100000.0                  Friday           October   \n",
       "\n",
       "       year_exposition  floor_status  \n",
       "18994             2018     последний  \n",
       "\n",
       "[1 rows x 27 columns]"
      ]
     },
     "execution_count": 213,
     "metadata": {},
     "output_type": "execute_result"
    }
   ],
   "source": [
    "df.sample()"
   ]
  },
  {
   "cell_type": "markdown",
   "metadata": {},
   "source": [
    "### Cоотношение жилой и общей площади, а также отношение площади кухни к общей"
   ]
  },
  {
   "cell_type": "code",
   "execution_count": 214,
   "metadata": {
    "scrolled": true
   },
   "outputs": [
    {
     "data": {
      "text/html": [
       "<div>\n",
       "<style scoped>\n",
       "    .dataframe tbody tr th:only-of-type {\n",
       "        vertical-align: middle;\n",
       "    }\n",
       "\n",
       "    .dataframe tbody tr th {\n",
       "        vertical-align: top;\n",
       "    }\n",
       "\n",
       "    .dataframe thead th {\n",
       "        text-align: right;\n",
       "    }\n",
       "</style>\n",
       "<table border=\"1\" class=\"dataframe\">\n",
       "  <thead>\n",
       "    <tr style=\"text-align: right;\">\n",
       "      <th></th>\n",
       "      <th>locality_name</th>\n",
       "      <th>total_area</th>\n",
       "      <th>rooms</th>\n",
       "      <th>last_price</th>\n",
       "      <th>floor</th>\n",
       "      <th>floors_total</th>\n",
       "      <th>living_area</th>\n",
       "      <th>kitchen_area</th>\n",
       "      <th>balcony</th>\n",
       "      <th>ceiling_height</th>\n",
       "      <th>...</th>\n",
       "      <th>parks_nearest</th>\n",
       "      <th>ponds_around3000</th>\n",
       "      <th>ponds_nearest</th>\n",
       "      <th>price_meter</th>\n",
       "      <th>day_of_week_exposition</th>\n",
       "      <th>month_exposition</th>\n",
       "      <th>year_exposition</th>\n",
       "      <th>floor_status</th>\n",
       "      <th>ratio_area</th>\n",
       "      <th>kitchen_ratio_area</th>\n",
       "    </tr>\n",
       "  </thead>\n",
       "  <tbody>\n",
       "    <tr>\n",
       "      <th>0</th>\n",
       "      <td>Санкт-Петербург</td>\n",
       "      <td>108.0</td>\n",
       "      <td>3</td>\n",
       "      <td>13000000.0</td>\n",
       "      <td>8</td>\n",
       "      <td>16.0</td>\n",
       "      <td>51.0</td>\n",
       "      <td>25.000000</td>\n",
       "      <td>0</td>\n",
       "      <td>2.70</td>\n",
       "      <td>...</td>\n",
       "      <td>482.0</td>\n",
       "      <td>2</td>\n",
       "      <td>755.0</td>\n",
       "      <td>120370.4</td>\n",
       "      <td>Thursday</td>\n",
       "      <td>March</td>\n",
       "      <td>2019</td>\n",
       "      <td>другой</td>\n",
       "      <td>0.5</td>\n",
       "      <td>0.2</td>\n",
       "    </tr>\n",
       "    <tr>\n",
       "      <th>1</th>\n",
       "      <td>посёлок Шушары</td>\n",
       "      <td>40.4</td>\n",
       "      <td>1</td>\n",
       "      <td>3350000.0</td>\n",
       "      <td>1</td>\n",
       "      <td>11.0</td>\n",
       "      <td>18.6</td>\n",
       "      <td>11.000000</td>\n",
       "      <td>2</td>\n",
       "      <td>2.70</td>\n",
       "      <td>...</td>\n",
       "      <td>NaN</td>\n",
       "      <td>0</td>\n",
       "      <td>NaN</td>\n",
       "      <td>82920.8</td>\n",
       "      <td>Tuesday</td>\n",
       "      <td>December</td>\n",
       "      <td>2018</td>\n",
       "      <td>первый</td>\n",
       "      <td>0.5</td>\n",
       "      <td>0.3</td>\n",
       "    </tr>\n",
       "    <tr>\n",
       "      <th>2</th>\n",
       "      <td>Санкт-Петербург</td>\n",
       "      <td>56.0</td>\n",
       "      <td>2</td>\n",
       "      <td>5196000.0</td>\n",
       "      <td>4</td>\n",
       "      <td>5.0</td>\n",
       "      <td>34.3</td>\n",
       "      <td>8.300000</td>\n",
       "      <td>0</td>\n",
       "      <td>2.70</td>\n",
       "      <td>...</td>\n",
       "      <td>90.0</td>\n",
       "      <td>2</td>\n",
       "      <td>574.0</td>\n",
       "      <td>92785.7</td>\n",
       "      <td>Thursday</td>\n",
       "      <td>August</td>\n",
       "      <td>2015</td>\n",
       "      <td>другой</td>\n",
       "      <td>0.6</td>\n",
       "      <td>0.1</td>\n",
       "    </tr>\n",
       "    <tr>\n",
       "      <th>3</th>\n",
       "      <td>Санкт-Петербург</td>\n",
       "      <td>159.0</td>\n",
       "      <td>3</td>\n",
       "      <td>64900000.0</td>\n",
       "      <td>9</td>\n",
       "      <td>14.0</td>\n",
       "      <td>NaN</td>\n",
       "      <td>10.569807</td>\n",
       "      <td>0</td>\n",
       "      <td>2.70</td>\n",
       "      <td>...</td>\n",
       "      <td>84.0</td>\n",
       "      <td>3</td>\n",
       "      <td>234.0</td>\n",
       "      <td>408176.1</td>\n",
       "      <td>Friday</td>\n",
       "      <td>July</td>\n",
       "      <td>2015</td>\n",
       "      <td>другой</td>\n",
       "      <td>NaN</td>\n",
       "      <td>0.1</td>\n",
       "    </tr>\n",
       "    <tr>\n",
       "      <th>4</th>\n",
       "      <td>Санкт-Петербург</td>\n",
       "      <td>100.0</td>\n",
       "      <td>2</td>\n",
       "      <td>10000000.0</td>\n",
       "      <td>13</td>\n",
       "      <td>14.0</td>\n",
       "      <td>32.0</td>\n",
       "      <td>41.000000</td>\n",
       "      <td>0</td>\n",
       "      <td>3.03</td>\n",
       "      <td>...</td>\n",
       "      <td>112.0</td>\n",
       "      <td>1</td>\n",
       "      <td>48.0</td>\n",
       "      <td>100000.0</td>\n",
       "      <td>Tuesday</td>\n",
       "      <td>June</td>\n",
       "      <td>2018</td>\n",
       "      <td>другой</td>\n",
       "      <td>0.3</td>\n",
       "      <td>0.4</td>\n",
       "    </tr>\n",
       "  </tbody>\n",
       "</table>\n",
       "<p>5 rows × 29 columns</p>\n",
       "</div>"
      ],
      "text/plain": [
       "     locality_name  total_area  rooms  last_price  floor  floors_total  \\\n",
       "0  Санкт-Петербург       108.0      3  13000000.0      8          16.0   \n",
       "1   посёлок Шушары        40.4      1   3350000.0      1          11.0   \n",
       "2  Санкт-Петербург        56.0      2   5196000.0      4           5.0   \n",
       "3  Санкт-Петербург       159.0      3  64900000.0      9          14.0   \n",
       "4  Санкт-Петербург       100.0      2  10000000.0     13          14.0   \n",
       "\n",
       "   living_area  kitchen_area  balcony  ceiling_height  ...  parks_nearest  \\\n",
       "0         51.0     25.000000        0            2.70  ...          482.0   \n",
       "1         18.6     11.000000        2            2.70  ...            NaN   \n",
       "2         34.3      8.300000        0            2.70  ...           90.0   \n",
       "3          NaN     10.569807        0            2.70  ...           84.0   \n",
       "4         32.0     41.000000        0            3.03  ...          112.0   \n",
       "\n",
       "   ponds_around3000  ponds_nearest price_meter  day_of_week_exposition  \\\n",
       "0                 2          755.0    120370.4                Thursday   \n",
       "1                 0            NaN     82920.8                 Tuesday   \n",
       "2                 2          574.0     92785.7                Thursday   \n",
       "3                 3          234.0    408176.1                  Friday   \n",
       "4                 1           48.0    100000.0                 Tuesday   \n",
       "\n",
       "   month_exposition  year_exposition  floor_status  ratio_area  \\\n",
       "0             March             2019        другой         0.5   \n",
       "1          December             2018        первый         0.5   \n",
       "2            August             2015        другой         0.6   \n",
       "3              July             2015        другой         NaN   \n",
       "4              June             2018        другой         0.3   \n",
       "\n",
       "   kitchen_ratio_area  \n",
       "0                 0.2  \n",
       "1                 0.3  \n",
       "2                 0.1  \n",
       "3                 0.1  \n",
       "4                 0.4  \n",
       "\n",
       "[5 rows x 29 columns]"
      ]
     },
     "execution_count": 214,
     "metadata": {},
     "output_type": "execute_result"
    }
   ],
   "source": [
    "df['ratio_area'] = df['living_area'] / df['total_area']\n",
    "df['ratio_area'] = df['ratio_area'].round(decimals=1)\n",
    "df['kitchen_ratio_area'] = df['kitchen_area'] / df['total_area']\n",
    "df['kitchen_ratio_area'] = df['kitchen_ratio_area'].round(decimals=1)                                                   \n",
    "df.head()"
   ]
  },
  {
   "cell_type": "code",
   "execution_count": 215,
   "metadata": {},
   "outputs": [
    {
     "data": {
      "text/plain": [
       "ratio_area            1884\n",
       "kitchen_ratio_area       0\n",
       "dtype: int64"
      ]
     },
     "execution_count": 215,
     "metadata": {},
     "output_type": "execute_result"
    }
   ],
   "source": [
    "df[['ratio_area', 'kitchen_ratio_area']].isna().sum()"
   ]
  },
  {
   "cell_type": "markdown",
   "metadata": {},
   "source": [
    "Добавили столбцы согласно заданию"
   ]
  },
  {
   "cell_type": "markdown",
   "metadata": {},
   "source": [
    "## Исследовательский анализ данных"
   ]
  },
  {
   "cell_type": "markdown",
   "metadata": {},
   "source": [
    "### Изучите следующие параметры: площадь, цена, число комнат, высота потолков. Постройте гистограммы для каждого параметра"
   ]
  },
  {
   "cell_type": "code",
   "execution_count": 216,
   "metadata": {},
   "outputs": [
    {
     "data": {
      "image/png": "[encoded data removed]",
      "text/plain": [
       "<Figure size 432x288 with 1 Axes>"
      ]
     },
     "metadata": {
      "needs_background": "light"
     },
     "output_type": "display_data"
    }
   ],
   "source": [
    "df['total_area'].hist(bins=20)\n",
    "plt.show()"
   ]
  },
  {
   "cell_type": "code",
   "execution_count": 217,
   "metadata": {},
   "outputs": [
    {
     "data": {
      "text/plain": [
       "count    23465.000000\n",
       "mean        60.185356\n",
       "std         33.409760\n",
       "min         12.000000\n",
       "25%         40.100000\n",
       "50%         52.000000\n",
       "75%         70.000000\n",
       "max        590.000000\n",
       "Name: total_area, dtype: float64"
      ]
     },
     "execution_count": 217,
     "metadata": {},
     "output_type": "execute_result"
    }
   ],
   "source": [
    "df['total_area'].describe()\n"
   ]
  },
  {
   "cell_type": "code",
   "execution_count": 218,
   "metadata": {},
   "outputs": [
    {
     "data": {
      "image/png": "[encoded data removed]",
      "text/plain": [
       "<Figure size 432x288 with 1 Axes>"
      ]
     },
     "metadata": {
      "needs_background": "light"
     },
     "output_type": "display_data"
    }
   ],
   "source": [
    "df.boxplot(column='total_area')\n",
    "plt.show()"
   ]
  },
  {
   "cell_type": "markdown",
   "metadata": {},
   "source": [
    "Согласно данным, средняя площадь квартиры 60 м2. Однако есть много выбросов от 100 до 590 м2. На обычной гистограмме данные свыше 300 м2 просто потерялись."
   ]
  },
  {
   "cell_type": "markdown",
   "metadata": {},
   "source": [
    "Поработаем со столбцом с ценами на квартиры. Уберем нули у миллионов, чтобы данные были более понятны"
   ]
  },
  {
   "cell_type": "code",
   "execution_count": 219,
   "metadata": {},
   "outputs": [
    {
     "data": {
      "text/plain": [
       "<AxesSubplot:>"
      ]
     },
     "execution_count": 219,
     "metadata": {},
     "output_type": "execute_result"
    },
    {
     "data": {
      "image/png": "[encoded data removed]",
      "text/plain": [
       "<Figure size 432x288 with 1 Axes>"
      ]
     },
     "metadata": {
      "needs_background": "light"
     },
     "output_type": "display_data"
    }
   ],
   "source": [
    "df['last_price,mln'] = df['last_price']/1000000\n",
    "df['last_price,mln'].hist(bins=50)"
   ]
  },
  {
   "cell_type": "code",
   "execution_count": 220,
   "metadata": {},
   "outputs": [
    {
     "data": {
      "text/plain": [
       "count    23465.000000\n",
       "mean         6.275970\n",
       "std          6.429209\n",
       "min          0.012190\n",
       "25%          3.450000\n",
       "50%          4.650000\n",
       "75%          6.800000\n",
       "max         99.000000\n",
       "Name: last_price,mln, dtype: float64"
      ]
     },
     "execution_count": 220,
     "metadata": {},
     "output_type": "execute_result"
    }
   ],
   "source": [
    "df['last_price,mln'] = df['last_price']/1000000\n",
    "df['last_price,mln'].describe()"
   ]
  },
  {
   "cell_type": "code",
   "execution_count": 221,
   "metadata": {},
   "outputs": [
    {
     "data": {
      "image/png": "[encoded data removed]",
      "text/plain": [
       "<Figure size 432x288 with 1 Axes>"
      ]
     },
     "metadata": {
      "needs_background": "light"
     },
     "output_type": "display_data"
    }
   ],
   "source": [
    "df.boxplot(column='last_price,mln')\n",
    "plt.show()"
   ]
  },
  {
   "cell_type": "markdown",
   "metadata": {},
   "source": [
    "Так как все квартиры свыше 100 млн рублей мы отбросили ранее, теперь мы имеем среднюю стоимость квартир в размере 6,3 млн рублей. Зато стала видна минимальная стоимость квартиры в размере 0,012 млн. рублей. Очень странная сумма"
   ]
  },
  {
   "cell_type": "code",
   "execution_count": 222,
   "metadata": {},
   "outputs": [
    {
     "data": {
      "text/plain": [
       "<AxesSubplot:>"
      ]
     },
     "execution_count": 222,
     "metadata": {},
     "output_type": "execute_result"
    },
    {
     "data": {
      "image/png": "[encoded data removed]",
      "text/plain": [
       "<Figure size 432x288 with 1 Axes>"
      ]
     },
     "metadata": {
      "needs_background": "light"
     },
     "output_type": "display_data"
    }
   ],
   "source": [
    "df['rooms'].hist(bins=20)"
   ]
  },
  {
   "cell_type": "code",
   "execution_count": 223,
   "metadata": {},
   "outputs": [
    {
     "data": {
      "text/plain": [
       "count    23465.000000\n",
       "mean         2.083060\n",
       "std          1.057121\n",
       "min          1.000000\n",
       "25%          1.000000\n",
       "50%          2.000000\n",
       "75%          3.000000\n",
       "max         19.000000\n",
       "Name: rooms, dtype: float64"
      ]
     },
     "execution_count": 223,
     "metadata": {},
     "output_type": "execute_result"
    }
   ],
   "source": [
    "df['rooms'].describe()"
   ]
  },
  {
   "cell_type": "code",
   "execution_count": 224,
   "metadata": {},
   "outputs": [
    {
     "data": {
      "image/png": "[encoded data removed]",
      "text/plain": [
       "<Figure size 432x288 with 1 Axes>"
      ]
     },
     "metadata": {
      "needs_background": "light"
     },
     "output_type": "display_data"
    }
   ],
   "source": [
    "df.boxplot(column='rooms')\n",
    "plt.show()"
   ]
  },
  {
   "cell_type": "markdown",
   "metadata": {},
   "source": [
    "Большинство квартир 1,2 комнатные, но встречаются выбросы до 19 комнат. Судя по ящику с усами, это единичные значения"
   ]
  },
  {
   "cell_type": "code",
   "execution_count": 225,
   "metadata": {},
   "outputs": [
    {
     "data": {
      "text/plain": [
       "<AxesSubplot:>"
      ]
     },
     "execution_count": 225,
     "metadata": {},
     "output_type": "execute_result"
    },
    {
     "data": {
      "image/png": "[encoded data removed]",
      "text/plain": [
       "<Figure size 432x288 with 1 Axes>"
      ]
     },
     "metadata": {
      "needs_background": "light"
     },
     "output_type": "display_data"
    }
   ],
   "source": [
    "df['ceiling_height'].hist(bins=20)"
   ]
  },
  {
   "cell_type": "code",
   "execution_count": 226,
   "metadata": {},
   "outputs": [
    {
     "data": {
      "text/plain": [
       "count    23465.000000\n",
       "mean         2.715417\n",
       "std          0.212578\n",
       "min          2.500000\n",
       "25%          2.600000\n",
       "50%          2.700000\n",
       "75%          2.700000\n",
       "max          5.500000\n",
       "Name: ceiling_height, dtype: float64"
      ]
     },
     "execution_count": 226,
     "metadata": {},
     "output_type": "execute_result"
    }
   ],
   "source": [
    "df['ceiling_height'].describe()"
   ]
  },
  {
   "cell_type": "code",
   "execution_count": 227,
   "metadata": {},
   "outputs": [
    {
     "data": {
      "image/png": "[encoded data removed]",
      "text/plain": [
       "<Figure size 432x288 with 1 Axes>"
      ]
     },
     "metadata": {
      "needs_background": "light"
     },
     "output_type": "display_data"
    }
   ],
   "source": [
    "df.boxplot(column='ceiling_height')\n",
    "plt.show()"
   ]
  },
  {
   "cell_type": "markdown",
   "metadata": {},
   "source": [
    "Высоту потолков свыше 5,5 метров и ниже 2 метров мы обработали еще в пункте 3.2. Поэтому средняя высота потолков осталась 2,7 метров"
   ]
  },
  {
   "cell_type": "markdown",
   "metadata": {},
   "source": [
    "### Изучите время продажи квартиры. "
   ]
  },
  {
   "cell_type": "markdown",
   "metadata": {},
   "source": [
    "Постройте гистограмму. Посчитайте среднее и медиану. Опишите, сколько обычно занимает продажа. Когда можно считать, что продажи прошли очень быстро, а когда необычно долго?"
   ]
  },
  {
   "cell_type": "code",
   "execution_count": 228,
   "metadata": {},
   "outputs": [
    {
     "data": {
      "text/plain": [
       "<AxesSubplot:>"
      ]
     },
     "execution_count": 228,
     "metadata": {},
     "output_type": "execute_result"
    },
    {
     "data": {
      "image/png": "[encoded data removed]",
      "text/plain": [
       "<Figure size 432x288 with 1 Axes>"
      ]
     },
     "metadata": {
      "needs_background": "light"
     },
     "output_type": "display_data"
    }
   ],
   "source": [
    "df['days_exposition'].hist(bins=20)"
   ]
  },
  {
   "cell_type": "code",
   "execution_count": 229,
   "metadata": {},
   "outputs": [
    {
     "data": {
      "text/plain": [
       "count    20303.000000\n",
       "mean       181.285623\n",
       "std        219.925644\n",
       "min          1.000000\n",
       "25%         45.000000\n",
       "50%         96.000000\n",
       "75%        232.000000\n",
       "max       1580.000000\n",
       "Name: days_exposition, dtype: float64"
      ]
     },
     "execution_count": 229,
     "metadata": {},
     "output_type": "execute_result"
    }
   ],
   "source": [
    "df['days_exposition'].describe()"
   ]
  },
  {
   "cell_type": "code",
   "execution_count": 230,
   "metadata": {},
   "outputs": [
    {
     "data": {
      "image/png": "[encoded data removed]",
      "text/plain": [
       "<Figure size 432x288 with 1 Axes>"
      ]
     },
     "metadata": {
      "needs_background": "light"
     },
     "output_type": "display_data"
    }
   ],
   "source": [
    "df.boxplot(column='days_exposition')\n",
    "plt.show()"
   ]
  },
  {
   "cell_type": "markdown",
   "metadata": {},
   "source": [
    "Среднее арифметическое значение времени продажи квартиры 181 день, медиана 96 дней. Можно считать, что продажи прошли быстро, если квартира продалась меньше чем за 45 дней - величина первого квартиля.В  среднем продажа занимает от 45 до 232 дней (от 1 до 3 квартиля). Те значения, которые свыше 232 дней - уже необычно долгие продажи."
   ]
  },
  {
   "cell_type": "markdown",
   "metadata": {},
   "source": [
    "###\tУберите редкие и выбивающиеся значения. Опишите, какие особенности обнаружили.\n"
   ]
  },
  {
   "cell_type": "markdown",
   "metadata": {},
   "source": [
    "Смотри пункт 3.2"
   ]
  },
  {
   "cell_type": "markdown",
   "metadata": {},
   "source": [
    "Уберем из базы дополнительно найденные значения стоимости квартир до 1 млн рублей"
   ]
  },
  {
   "cell_type": "code",
   "execution_count": 231,
   "metadata": {},
   "outputs": [
    {
     "data": {
      "text/plain": [
       "count    23241.000000\n",
       "mean         6.329063\n",
       "std          6.437203\n",
       "min          1.000000\n",
       "25%          3.500000\n",
       "50%          4.700000\n",
       "75%          6.800000\n",
       "max         99.000000\n",
       "Name: last_price,mln, dtype: float64"
      ]
     },
     "execution_count": 231,
     "metadata": {},
     "output_type": "execute_result"
    }
   ],
   "source": [
    "df = df.loc[df['last_price']>=1000000]\n",
    "df['last_price,mln'].describe()"
   ]
  },
  {
   "cell_type": "markdown",
   "metadata": {},
   "source": [
    "Убрали около 200 квартир стоимостью до 1 млн рублей"
   ]
  },
  {
   "cell_type": "markdown",
   "metadata": {},
   "source": [
    "### Какие факторы больше всего влияют на стоимость квартиры? "
   ]
  },
  {
   "cell_type": "markdown",
   "metadata": {},
   "source": [
    "Изучите, зависит ли цена от площади, числа комнат, удалённости от центра. Изучите зависимость цены от того, на каком этаже расположена квартира: первом, последнем или другом. Также изучите зависимость от даты размещения: дня недели, месяца и года."
   ]
  },
  {
   "cell_type": "code",
   "execution_count": 232,
   "metadata": {},
   "outputs": [
    {
     "data": {
      "text/plain": [
       "0.2370981337064764"
      ]
     },
     "execution_count": 232,
     "metadata": {},
     "output_type": "execute_result"
    }
   ],
   "source": [
    "df['price_meter'].corr(df['total_area'])"
   ]
  },
  {
   "cell_type": "code",
   "execution_count": 233,
   "metadata": {},
   "outputs": [
    {
     "data": {
      "text/plain": [
       "<AxesSubplot:xlabel='price_meter', ylabel='total_area'>"
      ]
     },
     "execution_count": 233,
     "metadata": {},
     "output_type": "execute_result"
    },
    {
     "data": {
      "image/png": "[encoded data removed]",
      "text/plain": [
       "<Figure size 432x288 with 1 Axes>"
      ]
     },
     "metadata": {
      "needs_background": "light"
     },
     "output_type": "display_data"
    }
   ],
   "source": [
    "df.plot(x='price_meter', y='total_area', kind='scatter', grid=True, alpha=0.3)"
   ]
  },
  {
   "cell_type": "markdown",
   "metadata": {},
   "source": [
    "Коэффициент корреляции 0,23. По графику наблюдается зависимость между площадью до 150 м2 и стоимостью 1м2 до 200 тыс. рублей"
   ]
  },
  {
   "cell_type": "code",
   "execution_count": 234,
   "metadata": {},
   "outputs": [
    {
     "data": {
      "text/plain": [
       "0.011763151921278688"
      ]
     },
     "execution_count": 234,
     "metadata": {},
     "output_type": "execute_result"
    }
   ],
   "source": [
    "df['price_meter'].corr(df['rooms'])"
   ]
  },
  {
   "cell_type": "code",
   "execution_count": 235,
   "metadata": {},
   "outputs": [
    {
     "data": {
      "text/plain": [
       "<AxesSubplot:xlabel='price_meter', ylabel='rooms'>"
      ]
     },
     "execution_count": 235,
     "metadata": {},
     "output_type": "execute_result"
    },
    {
     "data": {
      "image/png": "[encoded data removed]",
      "text/plain": [
       "<Figure size 432x288 with 1 Axes>"
      ]
     },
     "metadata": {
      "needs_background": "light"
     },
     "output_type": "display_data"
    }
   ],
   "source": [
    "df.plot(x='price_meter', y='rooms', kind='scatter', grid=True)"
   ]
  },
  {
   "cell_type": "markdown",
   "metadata": {},
   "source": [
    "Корреляции между стоимостью 1м2 жилья и количеством комнат практически нет."
   ]
  },
  {
   "cell_type": "code",
   "execution_count": 236,
   "metadata": {},
   "outputs": [
    {
     "data": {
      "text/plain": [
       "-0.3600593313123476"
      ]
     },
     "execution_count": 236,
     "metadata": {},
     "output_type": "execute_result"
    }
   ],
   "source": [
    "df['price_meter'].corr(df['cityCenters_nearest'])"
   ]
  },
  {
   "cell_type": "code",
   "execution_count": 237,
   "metadata": {},
   "outputs": [
    {
     "data": {
      "text/plain": [
       "<AxesSubplot:xlabel='price_meter', ylabel='cityCenters_nearest'>"
      ]
     },
     "execution_count": 237,
     "metadata": {},
     "output_type": "execute_result"
    },
    {
     "data": {
      "image/png": "[encoded data removed]",
      "text/plain": [
       "<Figure size 432x288 with 1 Axes>"
      ]
     },
     "metadata": {
      "needs_background": "light"
     },
     "output_type": "display_data"
    }
   ],
   "source": [
    "df.plot(x='price_meter', y='cityCenters_nearest', kind='scatter', grid=True, alpha=0.3)"
   ]
  },
  {
   "cell_type": "markdown",
   "metadata": {},
   "source": [
    "Пока что самая большая отрицательная зависимость обнаружилась между стоимостью 1м2 и удаленностью от центра"
   ]
  },
  {
   "cell_type": "markdown",
   "metadata": {},
   "source": [
    "Посмотрим на зависимость от даты размещения объявления"
   ]
  },
  {
   "cell_type": "code",
   "execution_count": 238,
   "metadata": {},
   "outputs": [
    {
     "data": {
      "text/plain": [
       "(0.0, 300000.0)"
      ]
     },
     "execution_count": 238,
     "metadata": {},
     "output_type": "execute_result"
    },
    {
     "data": {
      "image/png": "[encoded data removed]",
      "text/plain": [
       "<Figure size 720x720 with 1 Axes>"
      ]
     },
     "metadata": {
      "needs_background": "light"
     },
     "output_type": "display_data"
    }
   ],
   "source": [
    "df.boxplot('price_meter', by='day_of_week_exposition',figsize=(10,10)).set_ylim(0,300000)"
   ]
  },
  {
   "cell_type": "markdown",
   "metadata": {},
   "source": [
    "График на каждый день недели выглядит одинаково"
   ]
  },
  {
   "cell_type": "code",
   "execution_count": 239,
   "metadata": {},
   "outputs": [
    {
     "data": {
      "text/plain": [
       "(0.0, 300000.0)"
      ]
     },
     "execution_count": 239,
     "metadata": {},
     "output_type": "execute_result"
    },
    {
     "data": {
      "image/png": "[encoded data removed]",
      "text/plain": [
       "<Figure size 720x720 with 1 Axes>"
      ]
     },
     "metadata": {
      "needs_background": "light"
     },
     "output_type": "display_data"
    }
   ],
   "source": [
    "df.boxplot('price_meter', by='floor_status',figsize=(10,10)).set_ylim(0,300000)"
   ]
  },
  {
   "cell_type": "markdown",
   "metadata": {},
   "source": [
    "Квартиры на первом и последнем этажах дешевле, чем на средних"
   ]
  },
  {
   "cell_type": "code",
   "execution_count": 240,
   "metadata": {},
   "outputs": [
    {
     "data": {
      "text/plain": [
       "(0.0, 300000.0)"
      ]
     },
     "execution_count": 240,
     "metadata": {},
     "output_type": "execute_result"
    },
    {
     "data": {
      "image/png": "[encoded data removed]",
      "text/plain": [
       "<Figure size 720x720 with 1 Axes>"
      ]
     },
     "metadata": {
      "needs_background": "light"
     },
     "output_type": "display_data"
    }
   ],
   "source": [
    "df.boxplot('price_meter', by='month_exposition',figsize=(10,10)).set_ylim(0,300000)"
   ]
  },
  {
   "cell_type": "markdown",
   "metadata": {},
   "source": [
    "Аналогичная ситуация складывается и помесячно"
   ]
  },
  {
   "cell_type": "code",
   "execution_count": 241,
   "metadata": {},
   "outputs": [
    {
     "data": {
      "text/plain": [
       "(0.0, 300000.0)"
      ]
     },
     "execution_count": 241,
     "metadata": {},
     "output_type": "execute_result"
    },
    {
     "data": {
      "image/png": "[encoded data removed]",
      "text/plain": [
       "<Figure size 720x720 with 1 Axes>"
      ]
     },
     "metadata": {
      "needs_background": "light"
     },
     "output_type": "display_data"
    }
   ],
   "source": [
    "df.boxplot('price_meter', by='year_exposition',figsize=(10,10)).set_ylim(0,300000)"
   ]
  },
  {
   "cell_type": "markdown",
   "metadata": {},
   "source": [
    "В 2014 году медиана была чуть больше, чем в последующих годах, но все квартиры стоили примено одинаково - 80-140 тыс. руб/м2. С 2015 медиана стала меньше, но разброс в стоимости квартир стал огромный. На любой вкус и цвет. Однако квартиры стоимостью за 1 м2 менее 50000 рублей все же я считаю выбросами."
   ]
  },
  {
   "cell_type": "markdown",
   "metadata": {},
   "source": [
    "Итак, что мы имеем. Стоимость 1м2 жилья зависит от близости квартиры к центру города и от того находится ли квартира на крайних этажах"
   ]
  },
  {
   "cell_type": "markdown",
   "metadata": {},
   "source": [
    "### Выберите 10 населённых пунктов с наибольшим числом объявлений"
   ]
  },
  {
   "cell_type": "markdown",
   "metadata": {},
   "source": [
    "Посчитайте среднюю цену квадратного метра в этих населённых пунктах. Выделите населённые пункты с самой высокой и низкой стоимостью жилья. Эти данные можно найти по имени в столбце locality_name."
   ]
  },
  {
   "cell_type": "markdown",
   "metadata": {},
   "source": [
    "Выведем на экран 10 наиболее часто встречающихся населенных пунктов"
   ]
  },
  {
   "cell_type": "code",
   "execution_count": 242,
   "metadata": {},
   "outputs": [
    {
     "data": {
      "text/plain": [
       "Санкт-Петербург      15573\n",
       "посёлок Мурино         495\n",
       "посёлок Шушары         436\n",
       "Всеволожск             391\n",
       "Пушкин                 369\n",
       "Колпино                338\n",
       "посёлок Парголово      323\n",
       "Гатчина                306\n",
       "деревня Кудрово        283\n",
       "Выборг                 233\n",
       "Name: locality_name, dtype: int64"
      ]
     },
     "execution_count": 242,
     "metadata": {},
     "output_type": "execute_result"
    }
   ],
   "source": [
    "top_10 = df['locality_name'].value_counts().head(10)\n",
    "top_10"
   ]
  },
  {
   "cell_type": "markdown",
   "metadata": {},
   "source": [
    "Посчитаем среднюю стоимость 1м2 по населенным пунктам. "
   ]
  },
  {
   "cell_type": "code",
   "execution_count": 243,
   "metadata": {},
   "outputs": [],
   "source": [
    "top_10_pivot = df.pivot_table(index='locality_name', values='price_meter', aggfunc=['mean','count'])\n",
    "top_10_pivot.reset_index()\n",
    "top_10_pivot.columns = ['mean', 'count']"
   ]
  },
  {
   "cell_type": "code",
   "execution_count": 244,
   "metadata": {},
   "outputs": [
    {
     "data": {
      "text/html": [
       "<div>\n",
       "<style scoped>\n",
       "    .dataframe tbody tr th:only-of-type {\n",
       "        vertical-align: middle;\n",
       "    }\n",
       "\n",
       "    .dataframe tbody tr th {\n",
       "        vertical-align: top;\n",
       "    }\n",
       "\n",
       "    .dataframe thead th {\n",
       "        text-align: right;\n",
       "    }\n",
       "</style>\n",
       "<table border=\"1\" class=\"dataframe\">\n",
       "  <thead>\n",
       "    <tr style=\"text-align: right;\">\n",
       "      <th></th>\n",
       "      <th>mean</th>\n",
       "      <th>count</th>\n",
       "    </tr>\n",
       "    <tr>\n",
       "      <th>locality_name</th>\n",
       "      <th></th>\n",
       "      <th></th>\n",
       "    </tr>\n",
       "  </thead>\n",
       "  <tbody>\n",
       "    <tr>\n",
       "      <th>Санкт-Петербург</th>\n",
       "      <td>113534.982842</td>\n",
       "      <td>15573</td>\n",
       "    </tr>\n",
       "    <tr>\n",
       "      <th>посёлок Мурино</th>\n",
       "      <td>85031.776162</td>\n",
       "      <td>495</td>\n",
       "    </tr>\n",
       "    <tr>\n",
       "      <th>посёлок Шушары</th>\n",
       "      <td>78405.737844</td>\n",
       "      <td>436</td>\n",
       "    </tr>\n",
       "    <tr>\n",
       "      <th>Всеволожск</th>\n",
       "      <td>68683.729668</td>\n",
       "      <td>391</td>\n",
       "    </tr>\n",
       "    <tr>\n",
       "      <th>Пушкин</th>\n",
       "      <td>103125.818157</td>\n",
       "      <td>369</td>\n",
       "    </tr>\n",
       "    <tr>\n",
       "      <th>Колпино</th>\n",
       "      <td>75424.581953</td>\n",
       "      <td>338</td>\n",
       "    </tr>\n",
       "    <tr>\n",
       "      <th>посёлок Парголово</th>\n",
       "      <td>90289.780186</td>\n",
       "      <td>323</td>\n",
       "    </tr>\n",
       "    <tr>\n",
       "      <th>Гатчина</th>\n",
       "      <td>68935.195425</td>\n",
       "      <td>306</td>\n",
       "    </tr>\n",
       "    <tr>\n",
       "      <th>деревня Кудрово</th>\n",
       "      <td>92297.217668</td>\n",
       "      <td>283</td>\n",
       "    </tr>\n",
       "    <tr>\n",
       "      <th>Выборг</th>\n",
       "      <td>58685.666953</td>\n",
       "      <td>233</td>\n",
       "    </tr>\n",
       "  </tbody>\n",
       "</table>\n",
       "</div>"
      ],
      "text/plain": [
       "                            mean  count\n",
       "locality_name                          \n",
       "Санкт-Петербург    113534.982842  15573\n",
       "посёлок Мурино      85031.776162    495\n",
       "посёлок Шушары      78405.737844    436\n",
       "Всеволожск          68683.729668    391\n",
       "Пушкин             103125.818157    369\n",
       "Колпино             75424.581953    338\n",
       "посёлок Парголово   90289.780186    323\n",
       "Гатчина             68935.195425    306\n",
       "деревня Кудрово     92297.217668    283\n",
       "Выборг              58685.666953    233"
      ]
     },
     "execution_count": 244,
     "metadata": {},
     "output_type": "execute_result"
    }
   ],
   "source": [
    "top_10_pivot.sort_values('count', ascending=False).head(10)"
   ]
  },
  {
   "cell_type": "markdown",
   "metadata": {},
   "source": [
    "Среди данной выборки наибольшая стоимость 1м2 наблюдается в г. Санкт-Петербург - 113,5 тыс. рублей."
   ]
  },
  {
   "cell_type": "markdown",
   "metadata": {},
   "source": [
    "Выделим населенные пункты с наиболее высокими и низкими рыночными стоимостями 1 м2 общей площади жилья (среди всей базы)"
   ]
  },
  {
   "cell_type": "code",
   "execution_count": 245,
   "metadata": {},
   "outputs": [
    {
     "data": {
      "text/html": [
       "<div>\n",
       "<style scoped>\n",
       "    .dataframe tbody tr th:only-of-type {\n",
       "        vertical-align: middle;\n",
       "    }\n",
       "\n",
       "    .dataframe tbody tr th {\n",
       "        vertical-align: top;\n",
       "    }\n",
       "\n",
       "    .dataframe thead th {\n",
       "        text-align: right;\n",
       "    }\n",
       "</style>\n",
       "<table border=\"1\" class=\"dataframe\">\n",
       "  <thead>\n",
       "    <tr style=\"text-align: right;\">\n",
       "      <th></th>\n",
       "      <th>mean</th>\n",
       "      <th>count</th>\n",
       "    </tr>\n",
       "    <tr>\n",
       "      <th>locality_name</th>\n",
       "      <th></th>\n",
       "      <th></th>\n",
       "    </tr>\n",
       "  </thead>\n",
       "  <tbody>\n",
       "    <tr>\n",
       "      <th>посёлок Лисий Нос</th>\n",
       "      <td>121616.200000</td>\n",
       "      <td>2</td>\n",
       "    </tr>\n",
       "    <tr>\n",
       "      <th>Зеленогорск</th>\n",
       "      <td>115122.800000</td>\n",
       "      <td>24</td>\n",
       "    </tr>\n",
       "    <tr>\n",
       "      <th>Санкт-Петербург</th>\n",
       "      <td>113534.982842</td>\n",
       "      <td>15573</td>\n",
       "    </tr>\n",
       "    <tr>\n",
       "      <th>деревня Бор</th>\n",
       "      <td>105539.300000</td>\n",
       "      <td>1</td>\n",
       "    </tr>\n",
       "    <tr>\n",
       "      <th>посёлок Репино</th>\n",
       "      <td>104238.600000</td>\n",
       "      <td>4</td>\n",
       "    </tr>\n",
       "    <tr>\n",
       "      <th>Пушкин</th>\n",
       "      <td>103125.818157</td>\n",
       "      <td>369</td>\n",
       "    </tr>\n",
       "    <tr>\n",
       "      <th>Сестрорецк</th>\n",
       "      <td>101757.615847</td>\n",
       "      <td>183</td>\n",
       "    </tr>\n",
       "    <tr>\n",
       "      <th>Кудрово</th>\n",
       "      <td>99958.152381</td>\n",
       "      <td>168</td>\n",
       "    </tr>\n",
       "    <tr>\n",
       "      <th>деревня Мистолово</th>\n",
       "      <td>98549.972727</td>\n",
       "      <td>11</td>\n",
       "    </tr>\n",
       "    <tr>\n",
       "      <th>посёлок Левашово</th>\n",
       "      <td>96997.700000</td>\n",
       "      <td>1</td>\n",
       "    </tr>\n",
       "  </tbody>\n",
       "</table>\n",
       "</div>"
      ],
      "text/plain": [
       "                            mean  count\n",
       "locality_name                          \n",
       "посёлок Лисий Нос  121616.200000      2\n",
       "Зеленогорск        115122.800000     24\n",
       "Санкт-Петербург    113534.982842  15573\n",
       "деревня Бор        105539.300000      1\n",
       "посёлок Репино     104238.600000      4\n",
       "Пушкин             103125.818157    369\n",
       "Сестрорецк         101757.615847    183\n",
       "Кудрово             99958.152381    168\n",
       "деревня Мистолово   98549.972727     11\n",
       "посёлок Левашово    96997.700000      1"
      ]
     },
     "execution_count": 245,
     "metadata": {},
     "output_type": "execute_result"
    }
   ],
   "source": [
    "top_10_pivot.sort_values('mean', ascending=False).head(10)"
   ]
  },
  {
   "cell_type": "code",
   "execution_count": 246,
   "metadata": {},
   "outputs": [
    {
     "data": {
      "text/html": [
       "<div>\n",
       "<style scoped>\n",
       "    .dataframe tbody tr th:only-of-type {\n",
       "        vertical-align: middle;\n",
       "    }\n",
       "\n",
       "    .dataframe tbody tr th {\n",
       "        vertical-align: top;\n",
       "    }\n",
       "\n",
       "    .dataframe thead th {\n",
       "        text-align: right;\n",
       "    }\n",
       "</style>\n",
       "<table border=\"1\" class=\"dataframe\">\n",
       "  <thead>\n",
       "    <tr style=\"text-align: right;\">\n",
       "      <th></th>\n",
       "      <th>mean</th>\n",
       "      <th>count</th>\n",
       "    </tr>\n",
       "    <tr>\n",
       "      <th>locality_name</th>\n",
       "      <th></th>\n",
       "      <th></th>\n",
       "    </tr>\n",
       "  </thead>\n",
       "  <tbody>\n",
       "    <tr>\n",
       "      <th>поселок городского типа Никольский</th>\n",
       "      <td>19577.3</td>\n",
       "      <td>3</td>\n",
       "    </tr>\n",
       "    <tr>\n",
       "      <th>посёлок Сумино</th>\n",
       "      <td>19573.0</td>\n",
       "      <td>1</td>\n",
       "    </tr>\n",
       "    <tr>\n",
       "      <th>поселок Житково</th>\n",
       "      <td>15648.3</td>\n",
       "      <td>1</td>\n",
       "    </tr>\n",
       "  </tbody>\n",
       "</table>\n",
       "</div>"
      ],
      "text/plain": [
       "                                       mean  count\n",
       "locality_name                                     \n",
       "поселок городского типа Никольский  19577.3      3\n",
       "посёлок Сумино                      19573.0      1\n",
       "поселок Житково                     15648.3      1"
      ]
     },
     "execution_count": 246,
     "metadata": {},
     "output_type": "execute_result"
    }
   ],
   "source": [
    "top_10_pivot.sort_values('mean', ascending=False).tail(3)"
   ]
  },
  {
   "cell_type": "markdown",
   "metadata": {},
   "source": [
    "Итак какие выводы видим по пункту 5.5:\n",
    "\n",
    "1. Самое дорогое жилье оказалось в поселке Лисий Нос (121,6 тыс. рублей) - 2 квартиры переплюнули по стоимости жилье Санкт - Петербурга\n",
    "\n",
    "2. Самое дешевое жилье - в поселке Житково за 15,6 тыс. рублей\n",
    "\n",
    "3. Самое дорогое жилье из выборки топ-10 по количеству размещенных объявлений - в г. Санкт-Петербург - 113,5 тыс. рублей.\n",
    "\n",
    "3. Больше всего квартир на продажу, как и ожидалось, выставлено в Санкт-Петербурге\n",
    "\n",
    "\n"
   ]
  },
  {
   "cell_type": "markdown",
   "metadata": {},
   "source": [
    "### Изучите предложения квартир"
   ]
  },
  {
   "cell_type": "markdown",
   "metadata": {},
   "source": [
    "Для каждой квартиры есть информация о расстоянии до центра. Выделите квартиры в Санкт-Петербурге (locality_name). Ваша задача — выяснить, какая область входит в центр. Создайте столбец с расстоянием до центра в километрах: округлите до целых значений. После этого посчитайте среднюю цену для каждого километра. Постройте график: он должен показывать, как цена зависит от удалённости от центра. Определите границу, где график сильно меняется, — это и будет центральная зона."
   ]
  },
  {
   "cell_type": "code",
   "execution_count": 247,
   "metadata": {},
   "outputs": [
    {
     "data": {
      "text/html": [
       "<div>\n",
       "<style scoped>\n",
       "    .dataframe tbody tr th:only-of-type {\n",
       "        vertical-align: middle;\n",
       "    }\n",
       "\n",
       "    .dataframe tbody tr th {\n",
       "        vertical-align: top;\n",
       "    }\n",
       "\n",
       "    .dataframe thead th {\n",
       "        text-align: right;\n",
       "    }\n",
       "</style>\n",
       "<table border=\"1\" class=\"dataframe\">\n",
       "  <thead>\n",
       "    <tr style=\"text-align: right;\">\n",
       "      <th></th>\n",
       "      <th>locality_name</th>\n",
       "      <th>total_area</th>\n",
       "      <th>rooms</th>\n",
       "      <th>last_price</th>\n",
       "      <th>floor</th>\n",
       "      <th>floors_total</th>\n",
       "      <th>living_area</th>\n",
       "      <th>kitchen_area</th>\n",
       "      <th>balcony</th>\n",
       "      <th>ceiling_height</th>\n",
       "      <th>...</th>\n",
       "      <th>ponds_around3000</th>\n",
       "      <th>ponds_nearest</th>\n",
       "      <th>price_meter</th>\n",
       "      <th>day_of_week_exposition</th>\n",
       "      <th>month_exposition</th>\n",
       "      <th>year_exposition</th>\n",
       "      <th>floor_status</th>\n",
       "      <th>ratio_area</th>\n",
       "      <th>kitchen_ratio_area</th>\n",
       "      <th>last_price,mln</th>\n",
       "    </tr>\n",
       "  </thead>\n",
       "  <tbody>\n",
       "    <tr>\n",
       "      <th>0</th>\n",
       "      <td>Санкт-Петербург</td>\n",
       "      <td>108.00</td>\n",
       "      <td>3</td>\n",
       "      <td>13000000.0</td>\n",
       "      <td>8</td>\n",
       "      <td>16.0</td>\n",
       "      <td>51.0</td>\n",
       "      <td>25.000000</td>\n",
       "      <td>0</td>\n",
       "      <td>2.70</td>\n",
       "      <td>...</td>\n",
       "      <td>2</td>\n",
       "      <td>755.0</td>\n",
       "      <td>120370.4</td>\n",
       "      <td>Thursday</td>\n",
       "      <td>March</td>\n",
       "      <td>2019</td>\n",
       "      <td>другой</td>\n",
       "      <td>0.5</td>\n",
       "      <td>0.2</td>\n",
       "      <td>13.000</td>\n",
       "    </tr>\n",
       "    <tr>\n",
       "      <th>2</th>\n",
       "      <td>Санкт-Петербург</td>\n",
       "      <td>56.00</td>\n",
       "      <td>2</td>\n",
       "      <td>5196000.0</td>\n",
       "      <td>4</td>\n",
       "      <td>5.0</td>\n",
       "      <td>34.3</td>\n",
       "      <td>8.300000</td>\n",
       "      <td>0</td>\n",
       "      <td>2.70</td>\n",
       "      <td>...</td>\n",
       "      <td>2</td>\n",
       "      <td>574.0</td>\n",
       "      <td>92785.7</td>\n",
       "      <td>Thursday</td>\n",
       "      <td>August</td>\n",
       "      <td>2015</td>\n",
       "      <td>другой</td>\n",
       "      <td>0.6</td>\n",
       "      <td>0.1</td>\n",
       "      <td>5.196</td>\n",
       "    </tr>\n",
       "    <tr>\n",
       "      <th>3</th>\n",
       "      <td>Санкт-Петербург</td>\n",
       "      <td>159.00</td>\n",
       "      <td>3</td>\n",
       "      <td>64900000.0</td>\n",
       "      <td>9</td>\n",
       "      <td>14.0</td>\n",
       "      <td>NaN</td>\n",
       "      <td>10.569807</td>\n",
       "      <td>0</td>\n",
       "      <td>2.70</td>\n",
       "      <td>...</td>\n",
       "      <td>3</td>\n",
       "      <td>234.0</td>\n",
       "      <td>408176.1</td>\n",
       "      <td>Friday</td>\n",
       "      <td>July</td>\n",
       "      <td>2015</td>\n",
       "      <td>другой</td>\n",
       "      <td>NaN</td>\n",
       "      <td>0.1</td>\n",
       "      <td>64.900</td>\n",
       "    </tr>\n",
       "    <tr>\n",
       "      <th>4</th>\n",
       "      <td>Санкт-Петербург</td>\n",
       "      <td>100.00</td>\n",
       "      <td>2</td>\n",
       "      <td>10000000.0</td>\n",
       "      <td>13</td>\n",
       "      <td>14.0</td>\n",
       "      <td>32.0</td>\n",
       "      <td>41.000000</td>\n",
       "      <td>0</td>\n",
       "      <td>3.03</td>\n",
       "      <td>...</td>\n",
       "      <td>1</td>\n",
       "      <td>48.0</td>\n",
       "      <td>100000.0</td>\n",
       "      <td>Tuesday</td>\n",
       "      <td>June</td>\n",
       "      <td>2018</td>\n",
       "      <td>другой</td>\n",
       "      <td>0.3</td>\n",
       "      <td>0.4</td>\n",
       "      <td>10.000</td>\n",
       "    </tr>\n",
       "    <tr>\n",
       "      <th>7</th>\n",
       "      <td>Санкт-Петербург</td>\n",
       "      <td>71.60</td>\n",
       "      <td>2</td>\n",
       "      <td>7915000.0</td>\n",
       "      <td>22</td>\n",
       "      <td>24.0</td>\n",
       "      <td>NaN</td>\n",
       "      <td>18.900000</td>\n",
       "      <td>2</td>\n",
       "      <td>2.70</td>\n",
       "      <td>...</td>\n",
       "      <td>0</td>\n",
       "      <td>NaN</td>\n",
       "      <td>110544.7</td>\n",
       "      <td>Thursday</td>\n",
       "      <td>April</td>\n",
       "      <td>2019</td>\n",
       "      <td>другой</td>\n",
       "      <td>NaN</td>\n",
       "      <td>0.3</td>\n",
       "      <td>7.915</td>\n",
       "    </tr>\n",
       "    <tr>\n",
       "      <th>...</th>\n",
       "      <td>...</td>\n",
       "      <td>...</td>\n",
       "      <td>...</td>\n",
       "      <td>...</td>\n",
       "      <td>...</td>\n",
       "      <td>...</td>\n",
       "      <td>...</td>\n",
       "      <td>...</td>\n",
       "      <td>...</td>\n",
       "      <td>...</td>\n",
       "      <td>...</td>\n",
       "      <td>...</td>\n",
       "      <td>...</td>\n",
       "      <td>...</td>\n",
       "      <td>...</td>\n",
       "      <td>...</td>\n",
       "      <td>...</td>\n",
       "      <td>...</td>\n",
       "      <td>...</td>\n",
       "      <td>...</td>\n",
       "      <td>...</td>\n",
       "    </tr>\n",
       "    <tr>\n",
       "      <th>23689</th>\n",
       "      <td>Санкт-Петербург</td>\n",
       "      <td>35.30</td>\n",
       "      <td>1</td>\n",
       "      <td>3550000.0</td>\n",
       "      <td>4</td>\n",
       "      <td>15.0</td>\n",
       "      <td>16.3</td>\n",
       "      <td>9.100000</td>\n",
       "      <td>2</td>\n",
       "      <td>2.86</td>\n",
       "      <td>...</td>\n",
       "      <td>2</td>\n",
       "      <td>652.0</td>\n",
       "      <td>100566.6</td>\n",
       "      <td>Wednesday</td>\n",
       "      <td>February</td>\n",
       "      <td>2018</td>\n",
       "      <td>другой</td>\n",
       "      <td>0.5</td>\n",
       "      <td>0.3</td>\n",
       "      <td>3.550</td>\n",
       "    </tr>\n",
       "    <tr>\n",
       "      <th>23690</th>\n",
       "      <td>Санкт-Петербург</td>\n",
       "      <td>52.00</td>\n",
       "      <td>2</td>\n",
       "      <td>5500000.0</td>\n",
       "      <td>2</td>\n",
       "      <td>5.0</td>\n",
       "      <td>31.0</td>\n",
       "      <td>6.000000</td>\n",
       "      <td>0</td>\n",
       "      <td>2.70</td>\n",
       "      <td>...</td>\n",
       "      <td>0</td>\n",
       "      <td>NaN</td>\n",
       "      <td>105769.2</td>\n",
       "      <td>Thursday</td>\n",
       "      <td>July</td>\n",
       "      <td>2018</td>\n",
       "      <td>другой</td>\n",
       "      <td>0.6</td>\n",
       "      <td>0.1</td>\n",
       "      <td>5.500</td>\n",
       "    </tr>\n",
       "    <tr>\n",
       "      <th>23691</th>\n",
       "      <td>Санкт-Петербург</td>\n",
       "      <td>72.90</td>\n",
       "      <td>2</td>\n",
       "      <td>9470000.0</td>\n",
       "      <td>7</td>\n",
       "      <td>25.0</td>\n",
       "      <td>40.3</td>\n",
       "      <td>10.600000</td>\n",
       "      <td>1</td>\n",
       "      <td>2.75</td>\n",
       "      <td>...</td>\n",
       "      <td>1</td>\n",
       "      <td>806.0</td>\n",
       "      <td>129904.0</td>\n",
       "      <td>Thursday</td>\n",
       "      <td>October</td>\n",
       "      <td>2016</td>\n",
       "      <td>другой</td>\n",
       "      <td>0.6</td>\n",
       "      <td>0.1</td>\n",
       "      <td>9.470</td>\n",
       "    </tr>\n",
       "    <tr>\n",
       "      <th>23694</th>\n",
       "      <td>Санкт-Петербург</td>\n",
       "      <td>133.81</td>\n",
       "      <td>3</td>\n",
       "      <td>9700000.0</td>\n",
       "      <td>3</td>\n",
       "      <td>5.0</td>\n",
       "      <td>73.3</td>\n",
       "      <td>13.830000</td>\n",
       "      <td>0</td>\n",
       "      <td>3.70</td>\n",
       "      <td>...</td>\n",
       "      <td>3</td>\n",
       "      <td>381.0</td>\n",
       "      <td>72490.8</td>\n",
       "      <td>Tuesday</td>\n",
       "      <td>March</td>\n",
       "      <td>2017</td>\n",
       "      <td>другой</td>\n",
       "      <td>0.5</td>\n",
       "      <td>0.1</td>\n",
       "      <td>9.700</td>\n",
       "    </tr>\n",
       "    <tr>\n",
       "      <th>23697</th>\n",
       "      <td>Санкт-Петербург</td>\n",
       "      <td>76.75</td>\n",
       "      <td>2</td>\n",
       "      <td>11475000.0</td>\n",
       "      <td>12</td>\n",
       "      <td>17.0</td>\n",
       "      <td>NaN</td>\n",
       "      <td>23.300000</td>\n",
       "      <td>2</td>\n",
       "      <td>3.00</td>\n",
       "      <td>...</td>\n",
       "      <td>3</td>\n",
       "      <td>196.0</td>\n",
       "      <td>149511.4</td>\n",
       "      <td>Tuesday</td>\n",
       "      <td>March</td>\n",
       "      <td>2017</td>\n",
       "      <td>другой</td>\n",
       "      <td>NaN</td>\n",
       "      <td>0.3</td>\n",
       "      <td>11.475</td>\n",
       "    </tr>\n",
       "  </tbody>\n",
       "</table>\n",
       "<p>15573 rows × 30 columns</p>\n",
       "</div>"
      ],
      "text/plain": [
       "         locality_name  total_area  rooms  last_price  floor  floors_total  \\\n",
       "0      Санкт-Петербург      108.00      3  13000000.0      8          16.0   \n",
       "2      Санкт-Петербург       56.00      2   5196000.0      4           5.0   \n",
       "3      Санкт-Петербург      159.00      3  64900000.0      9          14.0   \n",
       "4      Санкт-Петербург      100.00      2  10000000.0     13          14.0   \n",
       "7      Санкт-Петербург       71.60      2   7915000.0     22          24.0   \n",
       "...                ...         ...    ...         ...    ...           ...   \n",
       "23689  Санкт-Петербург       35.30      1   3550000.0      4          15.0   \n",
       "23690  Санкт-Петербург       52.00      2   5500000.0      2           5.0   \n",
       "23691  Санкт-Петербург       72.90      2   9470000.0      7          25.0   \n",
       "23694  Санкт-Петербург      133.81      3   9700000.0      3           5.0   \n",
       "23697  Санкт-Петербург       76.75      2  11475000.0     12          17.0   \n",
       "\n",
       "       living_area  kitchen_area  balcony  ceiling_height  ...  \\\n",
       "0             51.0     25.000000        0            2.70  ...   \n",
       "2             34.3      8.300000        0            2.70  ...   \n",
       "3              NaN     10.569807        0            2.70  ...   \n",
       "4             32.0     41.000000        0            3.03  ...   \n",
       "7              NaN     18.900000        2            2.70  ...   \n",
       "...            ...           ...      ...             ...  ...   \n",
       "23689         16.3      9.100000        2            2.86  ...   \n",
       "23690         31.0      6.000000        0            2.70  ...   \n",
       "23691         40.3     10.600000        1            2.75  ...   \n",
       "23694         73.3     13.830000        0            3.70  ...   \n",
       "23697          NaN     23.300000        2            3.00  ...   \n",
       "\n",
       "       ponds_around3000  ponds_nearest  price_meter day_of_week_exposition  \\\n",
       "0                     2          755.0     120370.4               Thursday   \n",
       "2                     2          574.0      92785.7               Thursday   \n",
       "3                     3          234.0     408176.1                 Friday   \n",
       "4                     1           48.0     100000.0                Tuesday   \n",
       "7                     0            NaN     110544.7               Thursday   \n",
       "...                 ...            ...          ...                    ...   \n",
       "23689                 2          652.0     100566.6              Wednesday   \n",
       "23690                 0            NaN     105769.2               Thursday   \n",
       "23691                 1          806.0     129904.0               Thursday   \n",
       "23694                 3          381.0      72490.8                Tuesday   \n",
       "23697                 3          196.0     149511.4                Tuesday   \n",
       "\n",
       "       month_exposition  year_exposition  floor_status  ratio_area  \\\n",
       "0                 March             2019        другой         0.5   \n",
       "2                August             2015        другой         0.6   \n",
       "3                  July             2015        другой         NaN   \n",
       "4                  June             2018        другой         0.3   \n",
       "7                 April             2019        другой         NaN   \n",
       "...                 ...              ...           ...         ...   \n",
       "23689          February             2018        другой         0.5   \n",
       "23690              July             2018        другой         0.6   \n",
       "23691           October             2016        другой         0.6   \n",
       "23694             March             2017        другой         0.5   \n",
       "23697             March             2017        другой         NaN   \n",
       "\n",
       "       kitchen_ratio_area  last_price,mln  \n",
       "0                     0.2          13.000  \n",
       "2                     0.1           5.196  \n",
       "3                     0.1          64.900  \n",
       "4                     0.4          10.000  \n",
       "7                     0.3           7.915  \n",
       "...                   ...             ...  \n",
       "23689                 0.3           3.550  \n",
       "23690                 0.1           5.500  \n",
       "23691                 0.1           9.470  \n",
       "23694                 0.1           9.700  \n",
       "23697                 0.3          11.475  \n",
       "\n",
       "[15573 rows x 30 columns]"
      ]
     },
     "execution_count": 247,
     "metadata": {},
     "output_type": "execute_result"
    }
   ],
   "source": [
    "df_spb = df.query('locality_name == \"Санкт-Петербург\"')\n",
    "df_spb"
   ]
  },
  {
   "cell_type": "code",
   "execution_count": 248,
   "metadata": {},
   "outputs": [
    {
     "name": "stderr",
     "output_type": "stream",
     "text": [
      "/tmp/ipykernel_37/3182679488.py:1: SettingWithCopyWarning: \n",
      "A value is trying to be set on a copy of a slice from a DataFrame.\n",
      "Try using .loc[row_indexer,col_indexer] = value instead\n",
      "\n",
      "See the caveats in the documentation: https://pandas.pydata.org/pandas-docs/stable/user_guide/indexing.html#returning-a-view-versus-a-copy\n",
      "  df_spb['city_centers_km'] = df_spb['cityCenters_nearest']/1000\n",
      "/tmp/ipykernel_37/3182679488.py:2: SettingWithCopyWarning: \n",
      "A value is trying to be set on a copy of a slice from a DataFrame.\n",
      "Try using .loc[row_indexer,col_indexer] = value instead\n",
      "\n",
      "See the caveats in the documentation: https://pandas.pydata.org/pandas-docs/stable/user_guide/indexing.html#returning-a-view-versus-a-copy\n",
      "  df_spb['city_centers_km'] = df_spb['city_centers_km'].round(decimals=0)\n"
     ]
    },
    {
     "data": {
      "text/html": [
       "<div>\n",
       "<style scoped>\n",
       "    .dataframe tbody tr th:only-of-type {\n",
       "        vertical-align: middle;\n",
       "    }\n",
       "\n",
       "    .dataframe tbody tr th {\n",
       "        vertical-align: top;\n",
       "    }\n",
       "\n",
       "    .dataframe thead th {\n",
       "        text-align: right;\n",
       "    }\n",
       "</style>\n",
       "<table border=\"1\" class=\"dataframe\">\n",
       "  <thead>\n",
       "    <tr style=\"text-align: right;\">\n",
       "      <th></th>\n",
       "      <th>locality_name</th>\n",
       "      <th>total_area</th>\n",
       "      <th>rooms</th>\n",
       "      <th>last_price</th>\n",
       "      <th>floor</th>\n",
       "      <th>floors_total</th>\n",
       "      <th>living_area</th>\n",
       "      <th>kitchen_area</th>\n",
       "      <th>balcony</th>\n",
       "      <th>ceiling_height</th>\n",
       "      <th>...</th>\n",
       "      <th>ponds_nearest</th>\n",
       "      <th>price_meter</th>\n",
       "      <th>day_of_week_exposition</th>\n",
       "      <th>month_exposition</th>\n",
       "      <th>year_exposition</th>\n",
       "      <th>floor_status</th>\n",
       "      <th>ratio_area</th>\n",
       "      <th>kitchen_ratio_area</th>\n",
       "      <th>last_price,mln</th>\n",
       "      <th>city_centers_km</th>\n",
       "    </tr>\n",
       "  </thead>\n",
       "  <tbody>\n",
       "    <tr>\n",
       "      <th>21164</th>\n",
       "      <td>Санкт-Петербург</td>\n",
       "      <td>63.3</td>\n",
       "      <td>3</td>\n",
       "      <td>4990000.0</td>\n",
       "      <td>9</td>\n",
       "      <td>9.0</td>\n",
       "      <td>35.3</td>\n",
       "      <td>9.900000</td>\n",
       "      <td>0</td>\n",
       "      <td>2.70</td>\n",
       "      <td>...</td>\n",
       "      <td>389.0</td>\n",
       "      <td>78831.0</td>\n",
       "      <td>Thursday</td>\n",
       "      <td>February</td>\n",
       "      <td>2018</td>\n",
       "      <td>последний</td>\n",
       "      <td>0.6</td>\n",
       "      <td>0.2</td>\n",
       "      <td>4.99</td>\n",
       "      <td>10.0</td>\n",
       "    </tr>\n",
       "    <tr>\n",
       "      <th>23559</th>\n",
       "      <td>Санкт-Петербург</td>\n",
       "      <td>108.6</td>\n",
       "      <td>3</td>\n",
       "      <td>13800000.0</td>\n",
       "      <td>7</td>\n",
       "      <td>19.0</td>\n",
       "      <td>70.6</td>\n",
       "      <td>10.300000</td>\n",
       "      <td>2</td>\n",
       "      <td>2.70</td>\n",
       "      <td>...</td>\n",
       "      <td>503.0</td>\n",
       "      <td>127071.8</td>\n",
       "      <td>Monday</td>\n",
       "      <td>September</td>\n",
       "      <td>2016</td>\n",
       "      <td>другой</td>\n",
       "      <td>0.7</td>\n",
       "      <td>0.1</td>\n",
       "      <td>13.80</td>\n",
       "      <td>5.0</td>\n",
       "    </tr>\n",
       "    <tr>\n",
       "      <th>3989</th>\n",
       "      <td>Санкт-Петербург</td>\n",
       "      <td>58.7</td>\n",
       "      <td>2</td>\n",
       "      <td>8100000.0</td>\n",
       "      <td>13</td>\n",
       "      <td>16.0</td>\n",
       "      <td>NaN</td>\n",
       "      <td>10.569807</td>\n",
       "      <td>0</td>\n",
       "      <td>2.75</td>\n",
       "      <td>...</td>\n",
       "      <td>113.0</td>\n",
       "      <td>137989.8</td>\n",
       "      <td>Wednesday</td>\n",
       "      <td>August</td>\n",
       "      <td>2018</td>\n",
       "      <td>другой</td>\n",
       "      <td>NaN</td>\n",
       "      <td>0.2</td>\n",
       "      <td>8.10</td>\n",
       "      <td>6.0</td>\n",
       "    </tr>\n",
       "    <tr>\n",
       "      <th>7497</th>\n",
       "      <td>Санкт-Петербург</td>\n",
       "      <td>52.0</td>\n",
       "      <td>2</td>\n",
       "      <td>4780000.0</td>\n",
       "      <td>6</td>\n",
       "      <td>10.0</td>\n",
       "      <td>29.0</td>\n",
       "      <td>8.000000</td>\n",
       "      <td>0</td>\n",
       "      <td>2.56</td>\n",
       "      <td>...</td>\n",
       "      <td>NaN</td>\n",
       "      <td>91923.1</td>\n",
       "      <td>Monday</td>\n",
       "      <td>November</td>\n",
       "      <td>2018</td>\n",
       "      <td>другой</td>\n",
       "      <td>0.6</td>\n",
       "      <td>0.2</td>\n",
       "      <td>4.78</td>\n",
       "      <td>11.0</td>\n",
       "    </tr>\n",
       "    <tr>\n",
       "      <th>2000</th>\n",
       "      <td>Санкт-Петербург</td>\n",
       "      <td>34.0</td>\n",
       "      <td>1</td>\n",
       "      <td>3900000.0</td>\n",
       "      <td>2</td>\n",
       "      <td>9.0</td>\n",
       "      <td>18.0</td>\n",
       "      <td>9.000000</td>\n",
       "      <td>0</td>\n",
       "      <td>2.50</td>\n",
       "      <td>...</td>\n",
       "      <td>NaN</td>\n",
       "      <td>114705.9</td>\n",
       "      <td>Friday</td>\n",
       "      <td>March</td>\n",
       "      <td>2019</td>\n",
       "      <td>другой</td>\n",
       "      <td>0.5</td>\n",
       "      <td>0.3</td>\n",
       "      <td>3.90</td>\n",
       "      <td>12.0</td>\n",
       "    </tr>\n",
       "  </tbody>\n",
       "</table>\n",
       "<p>5 rows × 31 columns</p>\n",
       "</div>"
      ],
      "text/plain": [
       "         locality_name  total_area  rooms  last_price  floor  floors_total  \\\n",
       "21164  Санкт-Петербург        63.3      3   4990000.0      9           9.0   \n",
       "23559  Санкт-Петербург       108.6      3  13800000.0      7          19.0   \n",
       "3989   Санкт-Петербург        58.7      2   8100000.0     13          16.0   \n",
       "7497   Санкт-Петербург        52.0      2   4780000.0      6          10.0   \n",
       "2000   Санкт-Петербург        34.0      1   3900000.0      2           9.0   \n",
       "\n",
       "       living_area  kitchen_area  balcony  ceiling_height  ...  ponds_nearest  \\\n",
       "21164         35.3      9.900000        0            2.70  ...          389.0   \n",
       "23559         70.6     10.300000        2            2.70  ...          503.0   \n",
       "3989           NaN     10.569807        0            2.75  ...          113.0   \n",
       "7497          29.0      8.000000        0            2.56  ...            NaN   \n",
       "2000          18.0      9.000000        0            2.50  ...            NaN   \n",
       "\n",
       "       price_meter  day_of_week_exposition month_exposition  year_exposition  \\\n",
       "21164      78831.0                Thursday         February             2018   \n",
       "23559     127071.8                  Monday        September             2016   \n",
       "3989      137989.8               Wednesday           August             2018   \n",
       "7497       91923.1                  Monday         November             2018   \n",
       "2000      114705.9                  Friday            March             2019   \n",
       "\n",
       "       floor_status  ratio_area  kitchen_ratio_area  last_price,mln  \\\n",
       "21164     последний         0.6                 0.2            4.99   \n",
       "23559        другой         0.7                 0.1           13.80   \n",
       "3989         другой         NaN                 0.2            8.10   \n",
       "7497         другой         0.6                 0.2            4.78   \n",
       "2000         другой         0.5                 0.3            3.90   \n",
       "\n",
       "       city_centers_km  \n",
       "21164             10.0  \n",
       "23559              5.0  \n",
       "3989               6.0  \n",
       "7497              11.0  \n",
       "2000              12.0  \n",
       "\n",
       "[5 rows x 31 columns]"
      ]
     },
     "execution_count": 248,
     "metadata": {},
     "output_type": "execute_result"
    }
   ],
   "source": [
    "df_spb['city_centers_km'] = df_spb['cityCenters_nearest']/1000\n",
    "df_spb['city_centers_km'] = df_spb['city_centers_km'].round(decimals=0)\n",
    "df_spb.sample(5)"
   ]
  },
  {
   "cell_type": "code",
   "execution_count": 249,
   "metadata": {},
   "outputs": [
    {
     "data": {
      "text/html": [
       "<div>\n",
       "<style scoped>\n",
       "    .dataframe tbody tr th:only-of-type {\n",
       "        vertical-align: middle;\n",
       "    }\n",
       "\n",
       "    .dataframe tbody tr th {\n",
       "        vertical-align: top;\n",
       "    }\n",
       "\n",
       "    .dataframe thead th {\n",
       "        text-align: right;\n",
       "    }\n",
       "</style>\n",
       "<table border=\"1\" class=\"dataframe\">\n",
       "  <thead>\n",
       "    <tr style=\"text-align: right;\">\n",
       "      <th></th>\n",
       "      <th>price_meter</th>\n",
       "    </tr>\n",
       "    <tr>\n",
       "      <th>city_centers_km</th>\n",
       "      <th></th>\n",
       "    </tr>\n",
       "  </thead>\n",
       "  <tbody>\n",
       "    <tr>\n",
       "      <th>0.0</th>\n",
       "      <td>231767.957692</td>\n",
       "    </tr>\n",
       "    <tr>\n",
       "      <th>1.0</th>\n",
       "      <td>155255.080108</td>\n",
       "    </tr>\n",
       "    <tr>\n",
       "      <th>2.0</th>\n",
       "      <td>148359.156106</td>\n",
       "    </tr>\n",
       "    <tr>\n",
       "      <th>3.0</th>\n",
       "      <td>121343.971347</td>\n",
       "    </tr>\n",
       "    <tr>\n",
       "      <th>4.0</th>\n",
       "      <td>128431.329032</td>\n",
       "    </tr>\n",
       "    <tr>\n",
       "      <th>5.0</th>\n",
       "      <td>137475.710903</td>\n",
       "    </tr>\n",
       "    <tr>\n",
       "      <th>6.0</th>\n",
       "      <td>145925.267715</td>\n",
       "    </tr>\n",
       "    <tr>\n",
       "      <th>7.0</th>\n",
       "      <td>153207.591325</td>\n",
       "    </tr>\n",
       "    <tr>\n",
       "      <th>8.0</th>\n",
       "      <td>125084.952373</td>\n",
       "    </tr>\n",
       "    <tr>\n",
       "      <th>9.0</th>\n",
       "      <td>113280.599492</td>\n",
       "    </tr>\n",
       "    <tr>\n",
       "      <th>10.0</th>\n",
       "      <td>112732.851257</td>\n",
       "    </tr>\n",
       "    <tr>\n",
       "      <th>11.0</th>\n",
       "      <td>108630.835993</td>\n",
       "    </tr>\n",
       "    <tr>\n",
       "      <th>12.0</th>\n",
       "      <td>107379.026319</td>\n",
       "    </tr>\n",
       "    <tr>\n",
       "      <th>13.0</th>\n",
       "      <td>107907.842708</td>\n",
       "    </tr>\n",
       "    <tr>\n",
       "      <th>14.0</th>\n",
       "      <td>103987.145922</td>\n",
       "    </tr>\n",
       "    <tr>\n",
       "      <th>15.0</th>\n",
       "      <td>104200.692382</td>\n",
       "    </tr>\n",
       "    <tr>\n",
       "      <th>16.0</th>\n",
       "      <td>100458.996975</td>\n",
       "    </tr>\n",
       "    <tr>\n",
       "      <th>17.0</th>\n",
       "      <td>96368.117796</td>\n",
       "    </tr>\n",
       "    <tr>\n",
       "      <th>18.0</th>\n",
       "      <td>96271.350000</td>\n",
       "    </tr>\n",
       "    <tr>\n",
       "      <th>19.0</th>\n",
       "      <td>98703.656129</td>\n",
       "    </tr>\n",
       "    <tr>\n",
       "      <th>20.0</th>\n",
       "      <td>101414.910638</td>\n",
       "    </tr>\n",
       "    <tr>\n",
       "      <th>21.0</th>\n",
       "      <td>94540.815517</td>\n",
       "    </tr>\n",
       "    <tr>\n",
       "      <th>22.0</th>\n",
       "      <td>91330.424257</td>\n",
       "    </tr>\n",
       "    <tr>\n",
       "      <th>23.0</th>\n",
       "      <td>91915.244578</td>\n",
       "    </tr>\n",
       "    <tr>\n",
       "      <th>24.0</th>\n",
       "      <td>84962.452000</td>\n",
       "    </tr>\n",
       "    <tr>\n",
       "      <th>25.0</th>\n",
       "      <td>91531.373077</td>\n",
       "    </tr>\n",
       "    <tr>\n",
       "      <th>26.0</th>\n",
       "      <td>89285.875472</td>\n",
       "    </tr>\n",
       "    <tr>\n",
       "      <th>27.0</th>\n",
       "      <td>132115.700000</td>\n",
       "    </tr>\n",
       "    <tr>\n",
       "      <th>28.0</th>\n",
       "      <td>81161.928571</td>\n",
       "    </tr>\n",
       "    <tr>\n",
       "      <th>29.0</th>\n",
       "      <td>72953.366667</td>\n",
       "    </tr>\n",
       "  </tbody>\n",
       "</table>\n",
       "</div>"
      ],
      "text/plain": [
       "                   price_meter\n",
       "city_centers_km               \n",
       "0.0              231767.957692\n",
       "1.0              155255.080108\n",
       "2.0              148359.156106\n",
       "3.0              121343.971347\n",
       "4.0              128431.329032\n",
       "5.0              137475.710903\n",
       "6.0              145925.267715\n",
       "7.0              153207.591325\n",
       "8.0              125084.952373\n",
       "9.0              113280.599492\n",
       "10.0             112732.851257\n",
       "11.0             108630.835993\n",
       "12.0             107379.026319\n",
       "13.0             107907.842708\n",
       "14.0             103987.145922\n",
       "15.0             104200.692382\n",
       "16.0             100458.996975\n",
       "17.0              96368.117796\n",
       "18.0              96271.350000\n",
       "19.0              98703.656129\n",
       "20.0             101414.910638\n",
       "21.0              94540.815517\n",
       "22.0              91330.424257\n",
       "23.0              91915.244578\n",
       "24.0              84962.452000\n",
       "25.0              91531.373077\n",
       "26.0              89285.875472\n",
       "27.0             132115.700000\n",
       "28.0              81161.928571\n",
       "29.0              72953.366667"
      ]
     },
     "execution_count": 249,
     "metadata": {},
     "output_type": "execute_result"
    }
   ],
   "source": [
    "df_spb_pivot = df_spb.pivot_table(index='city_centers_km', values='price_meter', aggfunc='mean')\n",
    "df_spb_pivot\n"
   ]
  },
  {
   "cell_type": "code",
   "execution_count": 250,
   "metadata": {},
   "outputs": [
    {
     "data": {
      "text/plain": [
       "<AxesSubplot:xlabel='city_centers_km'>"
      ]
     },
     "execution_count": 250,
     "metadata": {},
     "output_type": "execute_result"
    },
    {
     "data": {
      "image/png": "[encoded data removed]",
      "text/plain": [
       "<Figure size 864x360 with 1 Axes>"
      ]
     },
     "metadata": {
      "needs_background": "light"
     },
     "output_type": "display_data"
    }
   ],
   "source": [
    "df_spb_pivot.plot(grid=True, figsize=(12,5))"
   ]
  },
  {
   "cell_type": "markdown",
   "metadata": {},
   "source": [
    "Проанализировав выборку, сделаем вывод, что к центру города Санкт-Петербурга относятся границы от 0 до 7 км (230-153 тыс. рублей за 1м2 соответственно). Стоимость жилья за пределами этого круга снижается сразу на 18%."
   ]
  },
  {
   "cell_type": "markdown",
   "metadata": {},
   "source": [
    "### Выделите сегмент квартир в центре. "
   ]
  },
  {
   "cell_type": "markdown",
   "metadata": {},
   "source": [
    "Проанализируйте эту территорию и изучите следующие параметры: площадь, цена, число комнат, высота потолков. Также выделите факторы, которые влияют на стоимость квартиры (число комнат, этаж, удалённость от центра, дата размещения объявления). Сделайте выводы. Отличаются ли они от общих выводов по всей базе?"
   ]
  },
  {
   "cell_type": "code",
   "execution_count": 251,
   "metadata": {},
   "outputs": [],
   "source": [
    "df_spb_center = df_spb_pivot.merge(df_spb, on='city_centers_km', how='outer')\n",
    "df_spb_center = df_spb_center[df_spb_center['city_centers_km']<=7.0]"
   ]
  },
  {
   "cell_type": "code",
   "execution_count": 252,
   "metadata": {},
   "outputs": [
    {
     "data": {
      "text/html": [
       "<div>\n",
       "<style scoped>\n",
       "    .dataframe tbody tr th:only-of-type {\n",
       "        vertical-align: middle;\n",
       "    }\n",
       "\n",
       "    .dataframe tbody tr th {\n",
       "        vertical-align: top;\n",
       "    }\n",
       "\n",
       "    .dataframe thead th {\n",
       "        text-align: right;\n",
       "    }\n",
       "</style>\n",
       "<table border=\"1\" class=\"dataframe\">\n",
       "  <thead>\n",
       "    <tr style=\"text-align: right;\">\n",
       "      <th></th>\n",
       "      <th>city_centers_km</th>\n",
       "      <th>price_meter_x</th>\n",
       "      <th>total_area</th>\n",
       "      <th>rooms</th>\n",
       "      <th>last_price</th>\n",
       "      <th>ceiling_height</th>\n",
       "    </tr>\n",
       "  </thead>\n",
       "  <tbody>\n",
       "    <tr>\n",
       "      <th>count</th>\n",
       "      <td>3473.000000</td>\n",
       "      <td>3473.000000</td>\n",
       "      <td>3473.000000</td>\n",
       "      <td>3473.000000</td>\n",
       "      <td>3.473000e+03</td>\n",
       "      <td>3473.000000</td>\n",
       "    </tr>\n",
       "    <tr>\n",
       "      <th>mean</th>\n",
       "      <td>4.502160</td>\n",
       "      <td>140035.532997</td>\n",
       "      <td>91.161895</td>\n",
       "      <td>2.826663</td>\n",
       "      <td>1.318697e+07</td>\n",
       "      <td>2.950415</td>\n",
       "    </tr>\n",
       "    <tr>\n",
       "      <th>std</th>\n",
       "      <td>1.682986</td>\n",
       "      <td>13096.772885</td>\n",
       "      <td>53.881552</td>\n",
       "      <td>1.423718</td>\n",
       "      <td>1.233893e+07</td>\n",
       "      <td>0.344461</td>\n",
       "    </tr>\n",
       "    <tr>\n",
       "      <th>min</th>\n",
       "      <td>0.000000</td>\n",
       "      <td>121343.971347</td>\n",
       "      <td>12.000000</td>\n",
       "      <td>1.000000</td>\n",
       "      <td>1.600000e+06</td>\n",
       "      <td>2.500000</td>\n",
       "    </tr>\n",
       "    <tr>\n",
       "      <th>25%</th>\n",
       "      <td>4.000000</td>\n",
       "      <td>128431.329032</td>\n",
       "      <td>57.000000</td>\n",
       "      <td>2.000000</td>\n",
       "      <td>6.690000e+06</td>\n",
       "      <td>2.700000</td>\n",
       "    </tr>\n",
       "    <tr>\n",
       "      <th>50%</th>\n",
       "      <td>5.000000</td>\n",
       "      <td>137475.710903</td>\n",
       "      <td>78.100000</td>\n",
       "      <td>3.000000</td>\n",
       "      <td>9.150000e+06</td>\n",
       "      <td>2.800000</td>\n",
       "    </tr>\n",
       "    <tr>\n",
       "      <th>75%</th>\n",
       "      <td>6.000000</td>\n",
       "      <td>148359.156106</td>\n",
       "      <td>109.000000</td>\n",
       "      <td>3.000000</td>\n",
       "      <td>1.400000e+07</td>\n",
       "      <td>3.130000</td>\n",
       "    </tr>\n",
       "    <tr>\n",
       "      <th>max</th>\n",
       "      <td>7.000000</td>\n",
       "      <td>231767.957692</td>\n",
       "      <td>590.000000</td>\n",
       "      <td>19.000000</td>\n",
       "      <td>9.900000e+07</td>\n",
       "      <td>5.500000</td>\n",
       "    </tr>\n",
       "  </tbody>\n",
       "</table>\n",
       "</div>"
      ],
      "text/plain": [
       "       city_centers_km  price_meter_x   total_area        rooms    last_price  \\\n",
       "count      3473.000000    3473.000000  3473.000000  3473.000000  3.473000e+03   \n",
       "mean          4.502160  140035.532997    91.161895     2.826663  1.318697e+07   \n",
       "std           1.682986   13096.772885    53.881552     1.423718  1.233893e+07   \n",
       "min           0.000000  121343.971347    12.000000     1.000000  1.600000e+06   \n",
       "25%           4.000000  128431.329032    57.000000     2.000000  6.690000e+06   \n",
       "50%           5.000000  137475.710903    78.100000     3.000000  9.150000e+06   \n",
       "75%           6.000000  148359.156106   109.000000     3.000000  1.400000e+07   \n",
       "max           7.000000  231767.957692   590.000000    19.000000  9.900000e+07   \n",
       "\n",
       "       ceiling_height  \n",
       "count     3473.000000  \n",
       "mean         2.950415  \n",
       "std          0.344461  \n",
       "min          2.500000  \n",
       "25%          2.700000  \n",
       "50%          2.800000  \n",
       "75%          3.130000  \n",
       "max          5.500000  "
      ]
     },
     "execution_count": 252,
     "metadata": {},
     "output_type": "execute_result"
    }
   ],
   "source": [
    "df_spb_center[['city_centers_km','price_meter_x','total_area','rooms','last_price','ceiling_height']].describe()"
   ]
  },
  {
   "cell_type": "markdown",
   "metadata": {},
   "source": [
    "Средние данные по центру Санкт-Петербурга:\n",
    "\n",
    "1. Средняя площадь квартир - 91 м2. \n",
    "\n",
    "2. Средняя стоимость  квартиры - 13,1 млн рублей. \n",
    "\n",
    "3. Средняя рыночная стоимость 1м2 жилья - 140,0 тыс. рублей.\n",
    "\n",
    "4. Среднее количество комнат - 3.\n",
    "\n",
    "5. Средняя высота потолков - почти 3 метра."
   ]
  },
  {
   "cell_type": "code",
   "execution_count": 269,
   "metadata": {},
   "outputs": [
    {
     "data": {
      "text/html": [
       "<div>\n",
       "<style scoped>\n",
       "    .dataframe tbody tr th:only-of-type {\n",
       "        vertical-align: middle;\n",
       "    }\n",
       "\n",
       "    .dataframe tbody tr th {\n",
       "        vertical-align: top;\n",
       "    }\n",
       "\n",
       "    .dataframe thead th {\n",
       "        text-align: right;\n",
       "    }\n",
       "</style>\n",
       "<table border=\"1\" class=\"dataframe\">\n",
       "  <thead>\n",
       "    <tr style=\"text-align: right;\">\n",
       "      <th></th>\n",
       "      <th>days_exposition</th>\n",
       "    </tr>\n",
       "  </thead>\n",
       "  <tbody>\n",
       "    <tr>\n",
       "      <th>count</th>\n",
       "      <td>2895.000000</td>\n",
       "    </tr>\n",
       "    <tr>\n",
       "      <th>mean</th>\n",
       "      <td>247.505354</td>\n",
       "    </tr>\n",
       "    <tr>\n",
       "      <th>std</th>\n",
       "      <td>273.692785</td>\n",
       "    </tr>\n",
       "    <tr>\n",
       "      <th>min</th>\n",
       "      <td>3.000000</td>\n",
       "    </tr>\n",
       "    <tr>\n",
       "      <th>25%</th>\n",
       "      <td>60.000000</td>\n",
       "    </tr>\n",
       "    <tr>\n",
       "      <th>50%</th>\n",
       "      <td>141.000000</td>\n",
       "    </tr>\n",
       "    <tr>\n",
       "      <th>75%</th>\n",
       "      <td>346.000000</td>\n",
       "    </tr>\n",
       "    <tr>\n",
       "      <th>max</th>\n",
       "      <td>1572.000000</td>\n",
       "    </tr>\n",
       "  </tbody>\n",
       "</table>\n",
       "</div>"
      ],
      "text/plain": [
       "       days_exposition\n",
       "count      2895.000000\n",
       "mean        247.505354\n",
       "std         273.692785\n",
       "min           3.000000\n",
       "25%          60.000000\n",
       "50%         141.000000\n",
       "75%         346.000000\n",
       "max        1572.000000"
      ]
     },
     "execution_count": 269,
     "metadata": {},
     "output_type": "execute_result"
    }
   ],
   "source": [
    "df_spb_center[['days_exposition']].describe()"
   ]
  },
  {
   "cell_type": "markdown",
   "metadata": {},
   "source": [
    "Вычислим корреляцию факторов, которые влияют на стоимость квартиры (число комнат, этаж, удалённость от центра, дата размещения объявления)"
   ]
  },
  {
   "cell_type": "markdown",
   "metadata": {},
   "source": [
    "Проверим зависимость цены от количества комнат\n"
   ]
  },
  {
   "cell_type": "code",
   "execution_count": 267,
   "metadata": {},
   "outputs": [
    {
     "data": {
      "text/plain": [
       "-0.03940275815933042"
      ]
     },
     "execution_count": 267,
     "metadata": {},
     "output_type": "execute_result"
    }
   ],
   "source": [
    "df_spb_center['price_meter_x'].corr(df_spb_center['rooms'])\n"
   ]
  },
  {
   "cell_type": "code",
   "execution_count": 268,
   "metadata": {},
   "outputs": [
    {
     "data": {
      "text/plain": [
       "<AxesSubplot:xlabel='price_meter_x', ylabel='rooms'>"
      ]
     },
     "execution_count": 268,
     "metadata": {},
     "output_type": "execute_result"
    },
    {
     "data": {
      "image/png": "[encoded data removed]",
      "text/plain": [
       "<Figure size 432x288 with 1 Axes>"
      ]
     },
     "metadata": {
      "needs_background": "light"
     },
     "output_type": "display_data"
    }
   ],
   "source": [
    "df_spb_center.plot(x='price_meter_x', y='rooms', kind='scatter', grid=True, alpha=0.3)"
   ]
  },
  {
   "cell_type": "code",
   "execution_count": 253,
   "metadata": {},
   "outputs": [
    {
     "data": {
      "text/plain": [
       "0.060581883190807366"
      ]
     },
     "execution_count": 253,
     "metadata": {},
     "output_type": "execute_result"
    }
   ],
   "source": [
    "df_spb_center['price_meter_x'].corr(df_spb_center['city_centers_km'])"
   ]
  },
  {
   "cell_type": "code",
   "execution_count": 266,
   "metadata": {},
   "outputs": [
    {
     "data": {
      "text/plain": [
       "<AxesSubplot:xlabel='price_meter_x', ylabel='city_centers_km'>"
      ]
     },
     "execution_count": 266,
     "metadata": {},
     "output_type": "execute_result"
    },
    {
     "data": {
      "image/png": "[encoded data removed]",
      "text/plain": [
       "<Figure size 432x288 with 1 Axes>"
      ]
     },
     "metadata": {
      "needs_background": "light"
     },
     "output_type": "display_data"
    }
   ],
   "source": [
    "df_spb_center.plot(x='price_meter_x', y='city_centers_km', kind='scatter', grid=True, alpha=0.3)"
   ]
  },
  {
   "cell_type": "markdown",
   "metadata": {},
   "source": [
    "С 3 по 7 км стоимость линейно растет, однако корреляция близка к нулю. Возможно влияние оказывает нахождение каких то социально значимых объектов вблизи данной местности"
   ]
  },
  {
   "cell_type": "markdown",
   "metadata": {},
   "source": [
    "Стоимость жилья в центре города от количества комнат совершенно не зависит"
   ]
  },
  {
   "cell_type": "markdown",
   "metadata": {},
   "source": [
    "Проверим зависимость цены от этажа"
   ]
  },
  {
   "cell_type": "code",
   "execution_count": 257,
   "metadata": {},
   "outputs": [
    {
     "data": {
      "text/plain": [
       "(0.0, 300000.0)"
      ]
     },
     "execution_count": 257,
     "metadata": {},
     "output_type": "execute_result"
    },
    {
     "data": {
      "image/png": "[encoded data removed]",
      "text/plain": [
       "<Figure size 720x720 with 1 Axes>"
      ]
     },
     "metadata": {
      "needs_background": "light"
     },
     "output_type": "display_data"
    }
   ],
   "source": [
    "df_spb_center.boxplot('price_meter_x', by='floor_status',figsize=(10,10)).set_ylim(0,300000)"
   ]
  },
  {
   "cell_type": "markdown",
   "metadata": {},
   "source": [
    "От этажа тоже ничего не зависит"
   ]
  },
  {
   "cell_type": "markdown",
   "metadata": {},
   "source": [
    "Проверим дату размещения объявлений"
   ]
  },
  {
   "cell_type": "code",
   "execution_count": 258,
   "metadata": {},
   "outputs": [
    {
     "data": {
      "text/plain": [
       "(0.0, 300000.0)"
      ]
     },
     "execution_count": 258,
     "metadata": {},
     "output_type": "execute_result"
    },
    {
     "data": {
      "image/png": "[encoded data removed]",
      "text/plain": [
       "<Figure size 720x720 with 1 Axes>"
      ]
     },
     "metadata": {
      "needs_background": "light"
     },
     "output_type": "display_data"
    }
   ],
   "source": [
    "df_spb_center.boxplot('price_meter_x', by='day_of_week_exposition',figsize=(10,10)).set_ylim(0,300000)"
   ]
  },
  {
   "cell_type": "code",
   "execution_count": 259,
   "metadata": {},
   "outputs": [
    {
     "data": {
      "text/plain": [
       "(0.0, 300000.0)"
      ]
     },
     "execution_count": 259,
     "metadata": {},
     "output_type": "execute_result"
    },
    {
     "data": {
      "image/png": "[encoded data removed]",
      "text/plain": [
       "<Figure size 720x720 with 1 Axes>"
      ]
     },
     "metadata": {
      "needs_background": "light"
     },
     "output_type": "display_data"
    }
   ],
   "source": [
    "df_spb_center.boxplot('price_meter_x', by='month_exposition',figsize=(10,10)).set_ylim(0,300000)"
   ]
  },
  {
   "cell_type": "code",
   "execution_count": 260,
   "metadata": {},
   "outputs": [
    {
     "data": {
      "text/plain": [
       "(0.0, 300000.0)"
      ]
     },
     "execution_count": 260,
     "metadata": {},
     "output_type": "execute_result"
    },
    {
     "data": {
      "image/png": "[encoded data removed]",
      "text/plain": [
       "<Figure size 720x720 with 1 Axes>"
      ]
     },
     "metadata": {
      "needs_background": "light"
     },
     "output_type": "display_data"
    }
   ],
   "source": [
    "df_spb_center.boxplot('price_meter_x', by='year_exposition',figsize=(10,10)).set_ylim(0,300000)"
   ]
  },
  {
   "cell_type": "markdown",
   "metadata": {},
   "source": [
    "По субботам и в декабре квартиры продают примерно на 10% дороже обычных"
   ]
  },
  {
   "cell_type": "markdown",
   "metadata": {},
   "source": [
    "Итог по п. 5.7:\n",
    "\n",
    "Квартиры в центре города больше, потолки выше, чем в других областях\n",
    "\n",
    "К концу года и к выходным квартиры выставляют на продажу дороже примерно на 10%."
   ]
  },
  {
   "cell_type": "markdown",
   "metadata": {},
   "source": [
    "## Общий вывод"
   ]
  },
  {
   "cell_type": "markdown",
   "metadata": {},
   "source": [
    "1. Квартиры в центре Санкт-Петербурга:\n",
    "\n",
    "- дороже, чем в других районах и пригороде. (140 тыс/м2 против 99 тыс/м2).\n",
    "\n",
    "- чаще продают 3-х комнатные квартиры более 90 м2 (против 60 м2 и 2-х комнатных квартир в других районах).\n",
    "\n",
    "- продаются в среднем на 2 месяца дольше остальных.\n",
    "\n",
    "2. В отдаленных от центра районах имеет значение этаж квартиры и расстояние до центра города. \n"
   ]
  },
  {
   "cell_type": "code",
   "execution_count": null,
   "metadata": {},
   "outputs": [],
   "source": []
  }
 ],
 "metadata": {
  "ExecuteTimeLog": [
   {
    "duration": 463,
    "start_time": "2022-04-20T12:29:35.011Z"
   },
   {
    "duration": 74,
    "start_time": "2022-04-20T12:29:42.012Z"
   },
   {
    "duration": 117,
    "start_time": "2022-04-20T12:43:35.420Z"
   },
   {
    "duration": 130,
    "start_time": "2022-04-20T12:43:48.693Z"
   },
   {
    "duration": 70,
    "start_time": "2022-04-20T12:43:53.759Z"
   },
   {
    "duration": 127,
    "start_time": "2022-04-20T12:44:22.570Z"
   },
   {
    "duration": 129,
    "start_time": "2022-04-20T12:44:30.545Z"
   },
   {
    "duration": 137,
    "start_time": "2022-04-20T12:45:21.962Z"
   },
   {
    "duration": 78,
    "start_time": "2022-04-22T07:24:41.254Z"
   },
   {
    "duration": 838,
    "start_time": "2022-04-22T07:24:46.619Z"
   },
   {
    "duration": 142,
    "start_time": "2022-04-22T07:24:47.460Z"
   },
   {
    "duration": 41,
    "start_time": "2022-04-22T07:33:54.195Z"
   },
   {
    "duration": 43,
    "start_time": "2022-04-22T07:34:38.067Z"
   },
   {
    "duration": 45,
    "start_time": "2022-04-22T07:36:01.671Z"
   },
   {
    "duration": 17,
    "start_time": "2022-04-22T07:36:21.378Z"
   },
   {
    "duration": 138,
    "start_time": "2022-04-22T07:39:13.818Z"
   },
   {
    "duration": 390,
    "start_time": "2022-04-22T07:39:17.825Z"
   },
   {
    "duration": 69,
    "start_time": "2022-04-22T07:43:42.326Z"
   },
   {
    "duration": 4,
    "start_time": "2022-04-22T07:47:21.200Z"
   },
   {
    "duration": 76,
    "start_time": "2022-04-22T07:49:46.963Z"
   },
   {
    "duration": 100,
    "start_time": "2022-04-22T07:50:56.516Z"
   },
   {
    "duration": 8,
    "start_time": "2022-04-22T07:51:02.982Z"
   },
   {
    "duration": 9,
    "start_time": "2022-04-22T08:53:21.923Z"
   },
   {
    "duration": 12,
    "start_time": "2022-04-22T08:53:37.851Z"
   },
   {
    "duration": 31,
    "start_time": "2022-04-22T08:55:04.296Z"
   },
   {
    "duration": 5,
    "start_time": "2022-04-22T09:02:32.009Z"
   },
   {
    "duration": 17,
    "start_time": "2022-04-22T09:30:07.668Z"
   },
   {
    "duration": 7,
    "start_time": "2022-04-22T09:30:17.590Z"
   },
   {
    "duration": 62,
    "start_time": "2022-04-22T09:39:56.505Z"
   },
   {
    "duration": 38,
    "start_time": "2022-04-22T09:40:12.399Z"
   },
   {
    "duration": 55,
    "start_time": "2022-04-22T09:42:31.504Z"
   },
   {
    "duration": 60,
    "start_time": "2022-04-22T09:43:43.088Z"
   },
   {
    "duration": 78,
    "start_time": "2022-04-22T09:43:50.318Z"
   },
   {
    "duration": 81,
    "start_time": "2022-04-22T09:44:10.687Z"
   },
   {
    "duration": 63,
    "start_time": "2022-04-22T09:46:28.642Z"
   },
   {
    "duration": 65,
    "start_time": "2022-04-22T09:47:23.265Z"
   },
   {
    "duration": 88,
    "start_time": "2022-04-22T09:47:41.353Z"
   },
   {
    "duration": 15,
    "start_time": "2022-04-22T09:48:37.503Z"
   },
   {
    "duration": 87,
    "start_time": "2022-04-22T09:48:46.643Z"
   },
   {
    "duration": 11,
    "start_time": "2022-04-22T09:59:38.640Z"
   },
   {
    "duration": 13,
    "start_time": "2022-04-22T10:00:00.999Z"
   },
   {
    "duration": 235,
    "start_time": "2022-04-22T10:32:10.961Z"
   },
   {
    "duration": 20,
    "start_time": "2022-04-22T10:33:08.047Z"
   },
   {
    "duration": 118,
    "start_time": "2022-04-22T10:44:18.314Z"
   },
   {
    "duration": 43,
    "start_time": "2022-04-22T10:55:24.878Z"
   },
   {
    "duration": 13,
    "start_time": "2022-04-22T10:57:23.704Z"
   },
   {
    "duration": 132,
    "start_time": "2022-04-22T10:57:46.463Z"
   },
   {
    "duration": 12,
    "start_time": "2022-04-22T11:08:16.895Z"
   },
   {
    "duration": 6,
    "start_time": "2022-04-22T11:13:35.874Z"
   },
   {
    "duration": 129,
    "start_time": "2022-04-22T11:14:15.639Z"
   },
   {
    "duration": 96,
    "start_time": "2022-04-22T11:14:21.020Z"
   },
   {
    "duration": 85,
    "start_time": "2022-04-22T11:15:03.442Z"
   },
   {
    "duration": 69,
    "start_time": "2022-04-22T11:15:26.541Z"
   },
   {
    "duration": 180,
    "start_time": "2022-04-22T11:19:23.378Z"
   },
   {
    "duration": 110,
    "start_time": "2022-04-22T11:20:02.914Z"
   },
   {
    "duration": 8,
    "start_time": "2022-04-22T11:20:27.914Z"
   },
   {
    "duration": 115,
    "start_time": "2022-04-22T11:20:32.910Z"
   },
   {
    "duration": 126,
    "start_time": "2022-04-22T11:21:13.411Z"
   },
   {
    "duration": 9,
    "start_time": "2022-04-22T11:24:55.435Z"
   },
   {
    "duration": 9,
    "start_time": "2022-04-22T11:25:44.650Z"
   },
   {
    "duration": 6,
    "start_time": "2022-04-22T11:26:28.226Z"
   },
   {
    "duration": 22,
    "start_time": "2022-04-22T11:26:50.105Z"
   },
   {
    "duration": 223,
    "start_time": "2022-04-22T11:27:54.229Z"
   },
   {
    "duration": 46,
    "start_time": "2022-04-22T11:27:54.455Z"
   },
   {
    "duration": 139,
    "start_time": "2022-04-22T11:27:54.505Z"
   },
   {
    "duration": 17,
    "start_time": "2022-04-22T11:27:54.647Z"
   },
   {
    "duration": 25,
    "start_time": "2022-04-22T11:27:54.667Z"
   },
   {
    "duration": 22,
    "start_time": "2022-04-22T11:27:54.695Z"
   },
   {
    "duration": 33,
    "start_time": "2022-04-22T11:27:54.720Z"
   },
   {
    "duration": 6,
    "start_time": "2022-04-22T11:27:54.756Z"
   },
   {
    "duration": 108,
    "start_time": "2022-04-22T11:27:54.763Z"
   },
   {
    "duration": 102,
    "start_time": "2022-04-22T11:27:54.873Z"
   },
   {
    "duration": 114,
    "start_time": "2022-04-22T11:27:54.985Z"
   },
   {
    "duration": 110,
    "start_time": "2022-04-22T11:27:55.105Z"
   },
   {
    "duration": 21,
    "start_time": "2022-04-22T11:27:55.220Z"
   },
   {
    "duration": 99,
    "start_time": "2022-04-22T11:28:57.057Z"
   },
   {
    "duration": 216,
    "start_time": "2022-04-22T11:29:04.841Z"
   },
   {
    "duration": 52,
    "start_time": "2022-04-22T11:29:05.060Z"
   },
   {
    "duration": 128,
    "start_time": "2022-04-22T11:29:05.115Z"
   },
   {
    "duration": 14,
    "start_time": "2022-04-22T11:29:05.246Z"
   },
   {
    "duration": 5,
    "start_time": "2022-04-22T11:29:05.264Z"
   },
   {
    "duration": 72,
    "start_time": "2022-04-22T11:29:05.271Z"
   },
   {
    "duration": 12,
    "start_time": "2022-04-22T11:29:05.346Z"
   },
   {
    "duration": 8,
    "start_time": "2022-04-22T11:29:05.361Z"
   },
   {
    "duration": 102,
    "start_time": "2022-04-22T11:29:05.372Z"
   },
   {
    "duration": 111,
    "start_time": "2022-04-22T11:29:05.476Z"
   },
   {
    "duration": 78,
    "start_time": "2022-04-22T11:29:05.593Z"
   },
   {
    "duration": 100,
    "start_time": "2022-04-22T11:29:05.673Z"
   },
   {
    "duration": 25,
    "start_time": "2022-04-22T11:29:05.791Z"
   },
   {
    "duration": 7,
    "start_time": "2022-04-22T11:30:49.751Z"
   },
   {
    "duration": 11,
    "start_time": "2022-04-22T11:34:14.008Z"
   },
   {
    "duration": 90,
    "start_time": "2022-04-22T11:35:26.244Z"
   },
   {
    "duration": 133,
    "start_time": "2022-04-22T11:37:37.441Z"
   },
   {
    "duration": 80,
    "start_time": "2022-04-23T09:23:21.368Z"
   },
   {
    "duration": 659,
    "start_time": "2022-04-23T09:23:26.872Z"
   },
   {
    "duration": 29,
    "start_time": "2022-04-23T09:23:27.534Z"
   },
   {
    "duration": 108,
    "start_time": "2022-04-23T09:23:27.565Z"
   },
   {
    "duration": 13,
    "start_time": "2022-04-23T09:23:27.676Z"
   },
   {
    "duration": 12,
    "start_time": "2022-04-23T09:23:27.692Z"
   },
   {
    "duration": 10,
    "start_time": "2022-04-23T09:23:27.706Z"
   },
   {
    "duration": 11,
    "start_time": "2022-04-23T09:23:27.753Z"
   },
   {
    "duration": 9,
    "start_time": "2022-04-23T09:23:27.766Z"
   },
   {
    "duration": 141,
    "start_time": "2022-04-23T09:23:27.777Z"
   },
   {
    "duration": 115,
    "start_time": "2022-04-23T09:23:27.922Z"
   },
   {
    "duration": 91,
    "start_time": "2022-04-23T09:23:28.040Z"
   },
   {
    "duration": 122,
    "start_time": "2022-04-23T09:23:28.133Z"
   },
   {
    "duration": 7,
    "start_time": "2022-04-23T09:23:28.257Z"
   },
   {
    "duration": 14,
    "start_time": "2022-04-23T09:23:28.267Z"
   },
   {
    "duration": 119,
    "start_time": "2022-04-23T09:23:28.283Z"
   },
   {
    "duration": 73,
    "start_time": "2022-04-23T09:28:50.941Z"
   },
   {
    "duration": 106,
    "start_time": "2022-04-23T09:37:26.110Z"
   },
   {
    "duration": 26,
    "start_time": "2022-04-23T09:37:48.994Z"
   },
   {
    "duration": 8,
    "start_time": "2022-04-23T10:44:01.507Z"
   },
   {
    "duration": 20,
    "start_time": "2022-04-23T10:44:13.201Z"
   },
   {
    "duration": 7,
    "start_time": "2022-04-23T10:44:58.009Z"
   },
   {
    "duration": 103,
    "start_time": "2022-04-23T10:49:33.138Z"
   },
   {
    "duration": 63,
    "start_time": "2022-04-23T10:51:54.446Z"
   },
   {
    "duration": 6,
    "start_time": "2022-04-23T10:56:38.551Z"
   },
   {
    "duration": 63,
    "start_time": "2022-04-23T10:56:42.857Z"
   },
   {
    "duration": 87,
    "start_time": "2022-04-23T11:01:13.501Z"
   },
   {
    "duration": 82,
    "start_time": "2022-04-23T11:02:37.944Z"
   },
   {
    "duration": 46,
    "start_time": "2022-04-24T08:40:14.841Z"
   },
   {
    "duration": 692,
    "start_time": "2022-04-24T08:40:19.859Z"
   },
   {
    "duration": 14,
    "start_time": "2022-04-24T08:40:20.553Z"
   },
   {
    "duration": 68,
    "start_time": "2022-04-24T08:40:20.569Z"
   },
   {
    "duration": 8,
    "start_time": "2022-04-24T08:40:20.639Z"
   },
   {
    "duration": 3,
    "start_time": "2022-04-24T08:40:20.648Z"
   },
   {
    "duration": 7,
    "start_time": "2022-04-24T08:40:20.652Z"
   },
   {
    "duration": 7,
    "start_time": "2022-04-24T08:40:20.660Z"
   },
   {
    "duration": 6,
    "start_time": "2022-04-24T08:40:20.668Z"
   },
   {
    "duration": 67,
    "start_time": "2022-04-24T08:40:20.675Z"
   },
   {
    "duration": 42,
    "start_time": "2022-04-24T08:40:20.744Z"
   },
   {
    "duration": 44,
    "start_time": "2022-04-24T08:40:20.787Z"
   },
   {
    "duration": 46,
    "start_time": "2022-04-24T08:40:20.833Z"
   },
   {
    "duration": 4,
    "start_time": "2022-04-24T08:40:20.880Z"
   },
   {
    "duration": 11,
    "start_time": "2022-04-24T08:40:20.900Z"
   },
   {
    "duration": 40,
    "start_time": "2022-04-24T08:40:20.912Z"
   },
   {
    "duration": 19,
    "start_time": "2022-04-24T08:40:20.954Z"
   },
   {
    "duration": 27,
    "start_time": "2022-04-24T08:40:20.975Z"
   },
   {
    "duration": 50,
    "start_time": "2022-04-24T08:40:21.004Z"
   },
   {
    "duration": 4,
    "start_time": "2022-04-24T08:40:21.056Z"
   },
   {
    "duration": 4,
    "start_time": "2022-04-24T08:40:24.783Z"
   },
   {
    "duration": 43,
    "start_time": "2022-04-24T08:40:40.081Z"
   },
   {
    "duration": 3,
    "start_time": "2022-04-24T08:41:10.431Z"
   },
   {
    "duration": 14,
    "start_time": "2022-04-24T08:41:12.609Z"
   },
   {
    "duration": 34,
    "start_time": "2022-04-24T08:43:31.737Z"
   },
   {
    "duration": 13,
    "start_time": "2022-04-24T08:43:39.429Z"
   },
   {
    "duration": 13,
    "start_time": "2022-04-24T08:44:12.739Z"
   },
   {
    "duration": 12,
    "start_time": "2022-04-24T08:44:53.239Z"
   },
   {
    "duration": 13,
    "start_time": "2022-04-24T08:45:22.433Z"
   },
   {
    "duration": 12,
    "start_time": "2022-04-24T08:45:29.024Z"
   },
   {
    "duration": 125,
    "start_time": "2022-04-24T08:45:31.682Z"
   },
   {
    "duration": 12,
    "start_time": "2022-04-24T08:45:31.809Z"
   },
   {
    "duration": 78,
    "start_time": "2022-04-24T08:45:31.823Z"
   },
   {
    "duration": 10,
    "start_time": "2022-04-24T08:45:31.903Z"
   },
   {
    "duration": 28,
    "start_time": "2022-04-24T08:45:31.914Z"
   },
   {
    "duration": 8,
    "start_time": "2022-04-24T08:45:31.944Z"
   },
   {
    "duration": 11,
    "start_time": "2022-04-24T08:45:31.953Z"
   },
   {
    "duration": 7,
    "start_time": "2022-04-24T08:45:31.965Z"
   },
   {
    "duration": 45,
    "start_time": "2022-04-24T08:45:31.973Z"
   },
   {
    "duration": 39,
    "start_time": "2022-04-24T08:45:32.021Z"
   },
   {
    "duration": 45,
    "start_time": "2022-04-24T08:45:32.061Z"
   },
   {
    "duration": 43,
    "start_time": "2022-04-24T08:45:32.108Z"
   },
   {
    "duration": 4,
    "start_time": "2022-04-24T08:45:32.153Z"
   },
   {
    "duration": 11,
    "start_time": "2022-04-24T08:45:32.159Z"
   },
   {
    "duration": 60,
    "start_time": "2022-04-24T08:45:32.172Z"
   },
   {
    "duration": 17,
    "start_time": "2022-04-24T08:45:32.233Z"
   },
   {
    "duration": 4,
    "start_time": "2022-04-24T08:45:32.251Z"
   },
   {
    "duration": 82,
    "start_time": "2022-04-24T08:45:32.256Z"
   },
   {
    "duration": 8,
    "start_time": "2022-04-24T08:45:32.340Z"
   },
   {
    "duration": 34,
    "start_time": "2022-04-24T08:45:32.350Z"
   },
   {
    "duration": 52,
    "start_time": "2022-04-24T08:45:32.386Z"
   },
   {
    "duration": 34,
    "start_time": "2022-04-24T08:46:13.858Z"
   },
   {
    "duration": 29,
    "start_time": "2022-04-24T09:17:34.884Z"
   },
   {
    "duration": 27,
    "start_time": "2022-04-24T09:18:19.487Z"
   },
   {
    "duration": 31,
    "start_time": "2022-04-24T09:30:00.876Z"
   },
   {
    "duration": 33,
    "start_time": "2022-04-24T11:20:00.518Z"
   },
   {
    "duration": 26,
    "start_time": "2022-04-24T11:20:58.212Z"
   },
   {
    "duration": 26,
    "start_time": "2022-04-24T11:24:38.156Z"
   },
   {
    "duration": 31,
    "start_time": "2022-04-24T11:25:12.370Z"
   },
   {
    "duration": 27,
    "start_time": "2022-04-24T11:25:28.271Z"
   },
   {
    "duration": 31,
    "start_time": "2022-04-24T11:25:43.856Z"
   },
   {
    "duration": 24,
    "start_time": "2022-04-24T11:26:09.594Z"
   },
   {
    "duration": 9,
    "start_time": "2022-04-24T11:26:37.721Z"
   },
   {
    "duration": 14,
    "start_time": "2022-04-24T11:26:42.017Z"
   },
   {
    "duration": 121,
    "start_time": "2022-04-24T11:26:49.409Z"
   },
   {
    "duration": 12,
    "start_time": "2022-04-24T11:26:49.532Z"
   },
   {
    "duration": 73,
    "start_time": "2022-04-24T11:26:49.545Z"
   },
   {
    "duration": 8,
    "start_time": "2022-04-24T11:26:49.620Z"
   },
   {
    "duration": 3,
    "start_time": "2022-04-24T11:26:49.629Z"
   },
   {
    "duration": 7,
    "start_time": "2022-04-24T11:26:49.634Z"
   },
   {
    "duration": 6,
    "start_time": "2022-04-24T11:26:49.642Z"
   },
   {
    "duration": 5,
    "start_time": "2022-04-24T11:26:49.650Z"
   },
   {
    "duration": 63,
    "start_time": "2022-04-24T11:26:49.656Z"
   },
   {
    "duration": 37,
    "start_time": "2022-04-24T11:26:49.721Z"
   },
   {
    "duration": 42,
    "start_time": "2022-04-24T11:26:49.759Z"
   },
   {
    "duration": 42,
    "start_time": "2022-04-24T11:26:49.802Z"
   },
   {
    "duration": 3,
    "start_time": "2022-04-24T11:26:49.846Z"
   },
   {
    "duration": 10,
    "start_time": "2022-04-24T11:26:49.850Z"
   },
   {
    "duration": 54,
    "start_time": "2022-04-24T11:26:49.861Z"
   },
   {
    "duration": 14,
    "start_time": "2022-04-24T11:26:49.916Z"
   },
   {
    "duration": 3,
    "start_time": "2022-04-24T11:26:49.932Z"
   },
   {
    "duration": 63,
    "start_time": "2022-04-24T11:26:49.937Z"
   },
   {
    "duration": 6,
    "start_time": "2022-04-24T11:26:50.002Z"
   },
   {
    "duration": 61,
    "start_time": "2022-04-24T11:26:50.009Z"
   },
   {
    "duration": 43,
    "start_time": "2022-04-24T11:26:50.072Z"
   },
   {
    "duration": 9,
    "start_time": "2022-04-24T11:26:50.116Z"
   },
   {
    "duration": 20,
    "start_time": "2022-04-24T11:26:50.126Z"
   },
   {
    "duration": 15,
    "start_time": "2022-04-24T11:27:05.757Z"
   },
   {
    "duration": 11,
    "start_time": "2022-04-24T11:28:10.740Z"
   },
   {
    "duration": 11,
    "start_time": "2022-04-24T11:28:13.142Z"
   },
   {
    "duration": 11,
    "start_time": "2022-04-24T11:28:17.827Z"
   },
   {
    "duration": 13,
    "start_time": "2022-04-24T11:28:20.532Z"
   },
   {
    "duration": 11,
    "start_time": "2022-04-24T11:28:21.796Z"
   },
   {
    "duration": 8,
    "start_time": "2022-04-24T11:28:25.290Z"
   },
   {
    "duration": 12,
    "start_time": "2022-04-24T11:28:26.747Z"
   },
   {
    "duration": 6,
    "start_time": "2022-04-24T11:28:34.931Z"
   },
   {
    "duration": 11,
    "start_time": "2022-04-24T11:28:39.372Z"
   },
   {
    "duration": 7,
    "start_time": "2022-04-24T11:28:52.939Z"
   },
   {
    "duration": 8,
    "start_time": "2022-04-24T11:28:58.690Z"
   },
   {
    "duration": 17,
    "start_time": "2022-04-24T11:29:01.019Z"
   },
   {
    "duration": 13,
    "start_time": "2022-04-24T11:29:09.005Z"
   },
   {
    "duration": 105,
    "start_time": "2022-04-24T11:29:11.715Z"
   },
   {
    "duration": 11,
    "start_time": "2022-04-24T11:29:11.823Z"
   },
   {
    "duration": 67,
    "start_time": "2022-04-24T11:29:11.836Z"
   },
   {
    "duration": 7,
    "start_time": "2022-04-24T11:29:11.905Z"
   },
   {
    "duration": 3,
    "start_time": "2022-04-24T11:29:11.914Z"
   },
   {
    "duration": 7,
    "start_time": "2022-04-24T11:29:11.918Z"
   },
   {
    "duration": 8,
    "start_time": "2022-04-24T11:29:11.926Z"
   },
   {
    "duration": 8,
    "start_time": "2022-04-24T11:29:11.935Z"
   },
   {
    "duration": 61,
    "start_time": "2022-04-24T11:29:11.944Z"
   },
   {
    "duration": 39,
    "start_time": "2022-04-24T11:29:12.008Z"
   },
   {
    "duration": 32,
    "start_time": "2022-04-24T11:29:12.049Z"
   },
   {
    "duration": 44,
    "start_time": "2022-04-24T11:29:12.101Z"
   },
   {
    "duration": 5,
    "start_time": "2022-04-24T11:29:12.147Z"
   },
   {
    "duration": 11,
    "start_time": "2022-04-24T11:29:12.153Z"
   },
   {
    "duration": 59,
    "start_time": "2022-04-24T11:29:12.166Z"
   },
   {
    "duration": 15,
    "start_time": "2022-04-24T11:29:12.227Z"
   },
   {
    "duration": 4,
    "start_time": "2022-04-24T11:29:12.244Z"
   },
   {
    "duration": 66,
    "start_time": "2022-04-24T11:29:12.249Z"
   },
   {
    "duration": 6,
    "start_time": "2022-04-24T11:29:12.317Z"
   },
   {
    "duration": 32,
    "start_time": "2022-04-24T11:29:12.325Z"
   },
   {
    "duration": 50,
    "start_time": "2022-04-24T11:29:12.359Z"
   },
   {
    "duration": 26,
    "start_time": "2022-04-24T11:29:12.411Z"
   },
   {
    "duration": 13,
    "start_time": "2022-04-24T11:29:12.439Z"
   },
   {
    "duration": 30,
    "start_time": "2022-04-24T11:29:19.416Z"
   },
   {
    "duration": 28,
    "start_time": "2022-04-24T11:29:29.492Z"
   },
   {
    "duration": 11,
    "start_time": "2022-04-24T11:29:36.289Z"
   },
   {
    "duration": 31,
    "start_time": "2022-04-24T11:30:00.033Z"
   },
   {
    "duration": 9,
    "start_time": "2022-04-24T11:30:19.090Z"
   },
   {
    "duration": 14,
    "start_time": "2022-04-24T11:30:23.323Z"
   },
   {
    "duration": 16,
    "start_time": "2022-04-24T11:30:40.167Z"
   },
   {
    "duration": 14,
    "start_time": "2022-04-24T11:30:43.191Z"
   },
   {
    "duration": 105,
    "start_time": "2022-04-24T11:30:45.614Z"
   },
   {
    "duration": 12,
    "start_time": "2022-04-24T11:30:45.721Z"
   },
   {
    "duration": 72,
    "start_time": "2022-04-24T11:30:45.734Z"
   },
   {
    "duration": 8,
    "start_time": "2022-04-24T11:30:45.808Z"
   },
   {
    "duration": 5,
    "start_time": "2022-04-24T11:30:45.817Z"
   },
   {
    "duration": 12,
    "start_time": "2022-04-24T11:30:45.823Z"
   },
   {
    "duration": 8,
    "start_time": "2022-04-24T11:30:45.837Z"
   },
   {
    "duration": 9,
    "start_time": "2022-04-24T11:30:45.846Z"
   },
   {
    "duration": 58,
    "start_time": "2022-04-24T11:30:45.856Z"
   },
   {
    "duration": 39,
    "start_time": "2022-04-24T11:30:45.916Z"
   },
   {
    "duration": 49,
    "start_time": "2022-04-24T11:30:45.957Z"
   },
   {
    "duration": 43,
    "start_time": "2022-04-24T11:30:46.007Z"
   },
   {
    "duration": 5,
    "start_time": "2022-04-24T11:30:46.051Z"
   },
   {
    "duration": 12,
    "start_time": "2022-04-24T11:30:46.057Z"
   },
   {
    "duration": 66,
    "start_time": "2022-04-24T11:30:46.070Z"
   },
   {
    "duration": 15,
    "start_time": "2022-04-24T11:30:46.137Z"
   },
   {
    "duration": 3,
    "start_time": "2022-04-24T11:30:46.154Z"
   },
   {
    "duration": 71,
    "start_time": "2022-04-24T11:30:46.159Z"
   },
   {
    "duration": 4,
    "start_time": "2022-04-24T11:30:46.232Z"
   },
   {
    "duration": 31,
    "start_time": "2022-04-24T11:30:46.238Z"
   },
   {
    "duration": 57,
    "start_time": "2022-04-24T11:30:46.271Z"
   },
   {
    "duration": 40,
    "start_time": "2022-04-24T11:30:46.330Z"
   },
   {
    "duration": 66,
    "start_time": "2022-04-24T11:30:46.372Z"
   },
   {
    "duration": 30,
    "start_time": "2022-04-24T11:32:41.967Z"
   },
   {
    "duration": 32,
    "start_time": "2022-04-24T11:36:20.162Z"
   },
   {
    "duration": 33,
    "start_time": "2022-04-24T11:36:26.887Z"
   },
   {
    "duration": 30,
    "start_time": "2022-04-24T11:36:29.256Z"
   },
   {
    "duration": 6,
    "start_time": "2022-04-24T11:38:55.381Z"
   },
   {
    "duration": 15,
    "start_time": "2022-04-24T11:39:13.630Z"
   },
   {
    "duration": 14,
    "start_time": "2022-04-24T11:39:16.771Z"
   },
   {
    "duration": 4,
    "start_time": "2022-04-24T11:43:36.611Z"
   },
   {
    "duration": 6,
    "start_time": "2022-04-24T12:03:56.305Z"
   },
   {
    "duration": 17,
    "start_time": "2022-04-24T12:04:09.112Z"
   },
   {
    "duration": 10,
    "start_time": "2022-04-24T12:09:44.847Z"
   },
   {
    "duration": 7,
    "start_time": "2022-04-24T12:10:33.046Z"
   },
   {
    "duration": 10,
    "start_time": "2022-04-24T12:11:33.309Z"
   },
   {
    "duration": 113,
    "start_time": "2022-04-24T12:11:40.878Z"
   },
   {
    "duration": 14,
    "start_time": "2022-04-24T12:11:40.993Z"
   },
   {
    "duration": 58,
    "start_time": "2022-04-24T12:11:41.009Z"
   },
   {
    "duration": 8,
    "start_time": "2022-04-24T12:11:41.068Z"
   },
   {
    "duration": 24,
    "start_time": "2022-04-24T12:11:41.078Z"
   },
   {
    "duration": 23,
    "start_time": "2022-04-24T12:11:41.104Z"
   },
   {
    "duration": 4,
    "start_time": "2022-04-24T12:11:41.128Z"
   },
   {
    "duration": 6,
    "start_time": "2022-04-24T12:11:41.133Z"
   },
   {
    "duration": 7,
    "start_time": "2022-04-24T12:11:41.140Z"
   },
   {
    "duration": 4,
    "start_time": "2022-04-24T12:11:41.148Z"
   },
   {
    "duration": 72,
    "start_time": "2022-04-24T12:11:41.153Z"
   },
   {
    "duration": 42,
    "start_time": "2022-04-24T12:11:41.227Z"
   },
   {
    "duration": 49,
    "start_time": "2022-04-24T12:11:41.270Z"
   },
   {
    "duration": 42,
    "start_time": "2022-04-24T12:11:41.322Z"
   },
   {
    "duration": 4,
    "start_time": "2022-04-24T12:11:41.365Z"
   },
   {
    "duration": 10,
    "start_time": "2022-04-24T12:11:41.371Z"
   },
   {
    "duration": 51,
    "start_time": "2022-04-24T12:11:41.382Z"
   },
   {
    "duration": 13,
    "start_time": "2022-04-24T12:11:41.434Z"
   },
   {
    "duration": 4,
    "start_time": "2022-04-24T12:11:41.448Z"
   },
   {
    "duration": 65,
    "start_time": "2022-04-24T12:11:41.453Z"
   },
   {
    "duration": 4,
    "start_time": "2022-04-24T12:11:41.520Z"
   },
   {
    "duration": 30,
    "start_time": "2022-04-24T12:11:41.526Z"
   },
   {
    "duration": 6,
    "start_time": "2022-04-24T12:11:41.557Z"
   },
   {
    "duration": 15,
    "start_time": "2022-04-24T12:34:29.709Z"
   },
   {
    "duration": 12,
    "start_time": "2022-04-24T12:35:53.780Z"
   },
   {
    "duration": 12,
    "start_time": "2022-04-24T12:37:08.575Z"
   },
   {
    "duration": 14,
    "start_time": "2022-04-24T13:09:41.823Z"
   },
   {
    "duration": 5,
    "start_time": "2022-04-24T13:10:09.826Z"
   },
   {
    "duration": 5,
    "start_time": "2022-04-24T13:10:13.927Z"
   },
   {
    "duration": 178,
    "start_time": "2022-04-24T13:13:47.108Z"
   },
   {
    "duration": 11,
    "start_time": "2022-04-24T13:21:29.927Z"
   },
   {
    "duration": 15,
    "start_time": "2022-04-24T13:21:33.962Z"
   },
   {
    "duration": 14,
    "start_time": "2022-04-24T13:21:51.109Z"
   },
   {
    "duration": 15,
    "start_time": "2022-04-24T13:21:53.738Z"
   },
   {
    "duration": 28,
    "start_time": "2022-04-24T13:22:21.778Z"
   },
   {
    "duration": 6,
    "start_time": "2022-04-24T13:23:13.618Z"
   },
   {
    "duration": 123,
    "start_time": "2022-04-24T13:23:16.384Z"
   },
   {
    "duration": 14,
    "start_time": "2022-04-24T13:23:16.508Z"
   },
   {
    "duration": 59,
    "start_time": "2022-04-24T13:23:16.523Z"
   },
   {
    "duration": 8,
    "start_time": "2022-04-24T13:23:16.601Z"
   },
   {
    "duration": 11,
    "start_time": "2022-04-24T13:23:16.611Z"
   },
   {
    "duration": 25,
    "start_time": "2022-04-24T13:23:16.624Z"
   },
   {
    "duration": 4,
    "start_time": "2022-04-24T13:23:16.650Z"
   },
   {
    "duration": 8,
    "start_time": "2022-04-24T13:23:16.656Z"
   },
   {
    "duration": 10,
    "start_time": "2022-04-24T13:23:16.666Z"
   },
   {
    "duration": 22,
    "start_time": "2022-04-24T13:23:16.679Z"
   },
   {
    "duration": 45,
    "start_time": "2022-04-24T13:23:16.702Z"
   },
   {
    "duration": 53,
    "start_time": "2022-04-24T13:23:16.748Z"
   },
   {
    "duration": 33,
    "start_time": "2022-04-24T13:23:16.803Z"
   },
   {
    "duration": 42,
    "start_time": "2022-04-24T13:23:16.838Z"
   },
   {
    "duration": 5,
    "start_time": "2022-04-24T13:23:16.900Z"
   },
   {
    "duration": 10,
    "start_time": "2022-04-24T13:23:16.906Z"
   },
   {
    "duration": 33,
    "start_time": "2022-04-24T13:23:16.918Z"
   },
   {
    "duration": 13,
    "start_time": "2022-04-24T13:23:16.952Z"
   },
   {
    "duration": 35,
    "start_time": "2022-04-24T13:23:16.967Z"
   },
   {
    "duration": 45,
    "start_time": "2022-04-24T13:23:17.004Z"
   },
   {
    "duration": 6,
    "start_time": "2022-04-24T13:23:17.051Z"
   },
   {
    "duration": 54,
    "start_time": "2022-04-24T13:23:17.058Z"
   },
   {
    "duration": 7,
    "start_time": "2022-04-24T13:23:17.114Z"
   },
   {
    "duration": 13,
    "start_time": "2022-04-24T13:23:17.122Z"
   },
   {
    "duration": 5,
    "start_time": "2022-04-24T13:23:17.137Z"
   },
   {
    "duration": 26,
    "start_time": "2022-04-24T13:23:17.143Z"
   },
   {
    "duration": 3308,
    "start_time": "2022-04-24T13:30:02.448Z"
   },
   {
    "duration": 3290,
    "start_time": "2022-04-24T13:30:28.441Z"
   },
   {
    "duration": 23,
    "start_time": "2022-04-24T13:30:40.263Z"
   },
   {
    "duration": 25,
    "start_time": "2022-04-24T13:33:56.835Z"
   },
   {
    "duration": 31,
    "start_time": "2022-04-24T13:34:05.613Z"
   },
   {
    "duration": 25,
    "start_time": "2022-04-24T13:34:23.211Z"
   },
   {
    "duration": 23,
    "start_time": "2022-04-24T13:34:35.296Z"
   },
   {
    "duration": 19,
    "start_time": "2022-04-24T13:35:50.341Z"
   },
   {
    "duration": 423,
    "start_time": "2022-04-24T13:35:59.533Z"
   },
   {
    "duration": 24,
    "start_time": "2022-04-24T13:36:21.340Z"
   },
   {
    "duration": 32,
    "start_time": "2022-04-24T13:36:38.573Z"
   },
   {
    "duration": 120,
    "start_time": "2022-04-24T13:36:58.119Z"
   },
   {
    "duration": 17,
    "start_time": "2022-04-24T13:36:58.241Z"
   },
   {
    "duration": 104,
    "start_time": "2022-04-24T13:36:58.260Z"
   },
   {
    "duration": 12,
    "start_time": "2022-04-24T13:36:58.366Z"
   },
   {
    "duration": 20,
    "start_time": "2022-04-24T13:36:58.380Z"
   },
   {
    "duration": 28,
    "start_time": "2022-04-24T13:36:58.402Z"
   },
   {
    "duration": 3,
    "start_time": "2022-04-24T13:36:58.432Z"
   },
   {
    "duration": 7,
    "start_time": "2022-04-24T13:36:58.437Z"
   },
   {
    "duration": 7,
    "start_time": "2022-04-24T13:36:58.446Z"
   },
   {
    "duration": 4,
    "start_time": "2022-04-24T13:36:58.456Z"
   },
   {
    "duration": 87,
    "start_time": "2022-04-24T13:36:58.462Z"
   },
   {
    "duration": 51,
    "start_time": "2022-04-24T13:36:58.550Z"
   },
   {
    "duration": 33,
    "start_time": "2022-04-24T13:36:58.603Z"
   },
   {
    "duration": 42,
    "start_time": "2022-04-24T13:36:58.638Z"
   },
   {
    "duration": 4,
    "start_time": "2022-04-24T13:36:58.701Z"
   },
   {
    "duration": 12,
    "start_time": "2022-04-24T13:36:58.707Z"
   },
   {
    "duration": 36,
    "start_time": "2022-04-24T13:36:58.721Z"
   },
   {
    "duration": 42,
    "start_time": "2022-04-24T13:36:58.759Z"
   },
   {
    "duration": 4,
    "start_time": "2022-04-24T13:36:58.803Z"
   },
   {
    "duration": 51,
    "start_time": "2022-04-24T13:36:58.809Z"
   },
   {
    "duration": 6,
    "start_time": "2022-04-24T13:36:58.862Z"
   },
   {
    "duration": 49,
    "start_time": "2022-04-24T13:36:58.869Z"
   },
   {
    "duration": 6,
    "start_time": "2022-04-24T13:36:58.920Z"
   },
   {
    "duration": 12,
    "start_time": "2022-04-24T13:36:58.928Z"
   },
   {
    "duration": 6,
    "start_time": "2022-04-24T13:36:58.941Z"
   },
   {
    "duration": 26,
    "start_time": "2022-04-24T13:36:58.948Z"
   },
   {
    "duration": 23,
    "start_time": "2022-04-24T13:36:59.000Z"
   },
   {
    "duration": 22,
    "start_time": "2022-04-24T13:36:59.026Z"
   },
   {
    "duration": 26,
    "start_time": "2022-04-24T13:37:03.248Z"
   },
   {
    "duration": 22,
    "start_time": "2022-04-24T13:39:43.792Z"
   },
   {
    "duration": 38,
    "start_time": "2022-04-24T13:40:38.101Z"
   },
   {
    "duration": 3,
    "start_time": "2022-04-24T13:46:21.715Z"
   },
   {
    "duration": 22,
    "start_time": "2022-04-24T13:46:41.459Z"
   },
   {
    "duration": 290,
    "start_time": "2022-04-24T13:50:07.255Z"
   },
   {
    "duration": 24,
    "start_time": "2022-04-24T13:50:08.439Z"
   },
   {
    "duration": 22,
    "start_time": "2022-04-24T13:54:14.959Z"
   },
   {
    "duration": 3559,
    "start_time": "2022-04-24T13:55:10.072Z"
   },
   {
    "duration": 23,
    "start_time": "2022-04-24T13:55:22.644Z"
   },
   {
    "duration": 3061,
    "start_time": "2022-04-24T13:58:00.452Z"
   },
   {
    "duration": 207,
    "start_time": "2022-04-24T13:58:26.730Z"
   },
   {
    "duration": 8,
    "start_time": "2022-04-24T13:58:31.624Z"
   },
   {
    "duration": 7,
    "start_time": "2022-04-24T13:58:55.698Z"
   },
   {
    "duration": 524,
    "start_time": "2022-04-24T23:04:40.935Z"
   },
   {
    "duration": 14,
    "start_time": "2022-04-24T23:04:41.461Z"
   },
   {
    "duration": 61,
    "start_time": "2022-04-24T23:04:41.477Z"
   },
   {
    "duration": 9,
    "start_time": "2022-04-24T23:04:41.554Z"
   },
   {
    "duration": 9,
    "start_time": "2022-04-24T23:04:41.565Z"
   },
   {
    "duration": 25,
    "start_time": "2022-04-24T23:04:41.576Z"
   },
   {
    "duration": 6,
    "start_time": "2022-04-24T23:04:41.602Z"
   },
   {
    "duration": 11,
    "start_time": "2022-04-24T23:04:41.610Z"
   },
   {
    "duration": 8,
    "start_time": "2022-04-24T23:04:41.623Z"
   },
   {
    "duration": 20,
    "start_time": "2022-04-24T23:04:41.634Z"
   },
   {
    "duration": 46,
    "start_time": "2022-04-24T23:04:41.656Z"
   },
   {
    "duration": 100,
    "start_time": "2022-04-24T23:04:41.704Z"
   },
   {
    "duration": 63,
    "start_time": "2022-04-24T23:04:41.806Z"
   },
   {
    "duration": 86,
    "start_time": "2022-04-24T23:04:41.871Z"
   },
   {
    "duration": 6,
    "start_time": "2022-04-24T23:04:41.959Z"
   },
   {
    "duration": 14,
    "start_time": "2022-04-24T23:04:41.967Z"
   },
   {
    "duration": 79,
    "start_time": "2022-04-24T23:04:41.983Z"
   },
   {
    "duration": 21,
    "start_time": "2022-04-24T23:04:42.065Z"
   },
   {
    "duration": 4,
    "start_time": "2022-04-24T23:04:42.088Z"
   },
   {
    "duration": 97,
    "start_time": "2022-04-24T23:04:42.094Z"
   },
   {
    "duration": 10,
    "start_time": "2022-04-24T23:04:42.193Z"
   },
   {
    "duration": 61,
    "start_time": "2022-04-24T23:04:42.205Z"
   },
   {
    "duration": 9,
    "start_time": "2022-04-24T23:04:42.268Z"
   },
   {
    "duration": 18,
    "start_time": "2022-04-24T23:04:42.279Z"
   },
   {
    "duration": 8,
    "start_time": "2022-04-24T23:04:42.299Z"
   },
   {
    "duration": 67,
    "start_time": "2022-04-24T23:04:42.309Z"
   },
   {
    "duration": 40,
    "start_time": "2022-04-24T23:04:42.378Z"
   },
   {
    "duration": 77,
    "start_time": "2022-04-24T23:04:42.422Z"
   },
   {
    "duration": 4,
    "start_time": "2022-04-24T23:04:42.501Z"
   },
   {
    "duration": 554,
    "start_time": "2022-04-24T23:04:42.507Z"
   },
   {
    "duration": 35,
    "start_time": "2022-04-24T23:04:43.063Z"
   },
   {
    "duration": 56,
    "start_time": "2022-04-24T23:04:43.100Z"
   },
   {
    "duration": 12,
    "start_time": "2022-04-24T23:04:43.158Z"
   },
   {
    "duration": 826,
    "start_time": "2022-04-24T23:04:43.172Z"
   },
   {
    "duration": 477,
    "start_time": "2022-04-24T23:05:00.794Z"
   },
   {
    "duration": 225,
    "start_time": "2022-04-24T23:05:28.674Z"
   },
   {
    "duration": 219,
    "start_time": "2022-04-24T23:05:39.504Z"
   },
   {
    "duration": 211,
    "start_time": "2022-04-24T23:06:10.351Z"
   },
   {
    "duration": 208,
    "start_time": "2022-04-24T23:06:20.699Z"
   },
   {
    "duration": 266,
    "start_time": "2022-04-24T23:06:56.392Z"
   },
   {
    "duration": 158,
    "start_time": "2022-04-24T23:08:45.869Z"
   },
   {
    "duration": 156,
    "start_time": "2022-04-24T23:09:11.389Z"
   },
   {
    "duration": 402,
    "start_time": "2022-04-24T23:13:15.018Z"
   },
   {
    "duration": 354,
    "start_time": "2022-04-24T23:17:47.932Z"
   },
   {
    "duration": 109,
    "start_time": "2022-04-24T23:18:10.708Z"
   },
   {
    "duration": 279,
    "start_time": "2022-04-24T23:18:15.475Z"
   },
   {
    "duration": 136,
    "start_time": "2022-04-24T23:18:34.386Z"
   },
   {
    "duration": 217,
    "start_time": "2022-04-24T23:19:12.233Z"
   },
   {
    "duration": 122,
    "start_time": "2022-04-24T23:19:18.098Z"
   },
   {
    "duration": 249,
    "start_time": "2022-04-24T23:19:22.924Z"
   },
   {
    "duration": 140,
    "start_time": "2022-04-24T23:19:30.946Z"
   },
   {
    "duration": 114,
    "start_time": "2022-04-24T23:19:43.730Z"
   },
   {
    "duration": 90,
    "start_time": "2022-04-24T23:19:47.881Z"
   },
   {
    "duration": 116,
    "start_time": "2022-04-24T23:19:51.792Z"
   },
   {
    "duration": 90,
    "start_time": "2022-04-24T23:21:03.663Z"
   },
   {
    "duration": 110,
    "start_time": "2022-04-24T23:21:22.645Z"
   },
   {
    "duration": 14,
    "start_time": "2022-04-24T23:21:22.757Z"
   },
   {
    "duration": 95,
    "start_time": "2022-04-24T23:21:22.772Z"
   },
   {
    "duration": 8,
    "start_time": "2022-04-24T23:21:22.869Z"
   },
   {
    "duration": 5,
    "start_time": "2022-04-24T23:21:22.879Z"
   },
   {
    "duration": 21,
    "start_time": "2022-04-24T23:21:22.886Z"
   },
   {
    "duration": 5,
    "start_time": "2022-04-24T23:21:22.909Z"
   },
   {
    "duration": 6,
    "start_time": "2022-04-24T23:21:22.915Z"
   },
   {
    "duration": 34,
    "start_time": "2022-04-24T23:21:22.923Z"
   },
   {
    "duration": 4,
    "start_time": "2022-04-24T23:21:22.960Z"
   },
   {
    "duration": 79,
    "start_time": "2022-04-24T23:21:22.966Z"
   },
   {
    "duration": 44,
    "start_time": "2022-04-24T23:21:23.047Z"
   },
   {
    "duration": 33,
    "start_time": "2022-04-24T23:21:23.092Z"
   },
   {
    "duration": 56,
    "start_time": "2022-04-24T23:21:23.126Z"
   },
   {
    "duration": 5,
    "start_time": "2022-04-24T23:21:23.183Z"
   },
   {
    "duration": 22,
    "start_time": "2022-04-24T23:21:23.189Z"
   },
   {
    "duration": 45,
    "start_time": "2022-04-24T23:21:23.213Z"
   },
   {
    "duration": 14,
    "start_time": "2022-04-24T23:21:23.260Z"
   },
   {
    "duration": 8,
    "start_time": "2022-04-24T23:21:23.276Z"
   },
   {
    "duration": 65,
    "start_time": "2022-04-24T23:21:23.285Z"
   },
   {
    "duration": 7,
    "start_time": "2022-04-24T23:21:23.352Z"
   },
   {
    "duration": 56,
    "start_time": "2022-04-24T23:21:23.361Z"
   },
   {
    "duration": 9,
    "start_time": "2022-04-24T23:21:23.419Z"
   },
   {
    "duration": 26,
    "start_time": "2022-04-24T23:21:23.430Z"
   },
   {
    "duration": 6,
    "start_time": "2022-04-24T23:21:23.458Z"
   },
   {
    "duration": 36,
    "start_time": "2022-04-24T23:21:23.466Z"
   },
   {
    "duration": 25,
    "start_time": "2022-04-24T23:21:23.504Z"
   },
   {
    "duration": 56,
    "start_time": "2022-04-24T23:21:23.534Z"
   },
   {
    "duration": 4,
    "start_time": "2022-04-24T23:21:23.592Z"
   },
   {
    "duration": 313,
    "start_time": "2022-04-24T23:21:23.598Z"
   },
   {
    "duration": 22,
    "start_time": "2022-04-24T23:21:23.913Z"
   },
   {
    "duration": 36,
    "start_time": "2022-04-24T23:21:23.936Z"
   },
   {
    "duration": 9,
    "start_time": "2022-04-24T23:21:23.974Z"
   },
   {
    "duration": 221,
    "start_time": "2022-04-24T23:21:23.984Z"
   },
   {
    "duration": 140,
    "start_time": "2022-04-24T23:21:24.207Z"
   },
   {
    "duration": 0,
    "start_time": "2022-04-24T23:21:24.349Z"
   },
   {
    "duration": 0,
    "start_time": "2022-04-24T23:21:24.351Z"
   },
   {
    "duration": 0,
    "start_time": "2022-04-24T23:21:24.352Z"
   },
   {
    "duration": 173,
    "start_time": "2022-04-24T23:21:29.998Z"
   },
   {
    "duration": 12,
    "start_time": "2022-04-24T23:25:46.223Z"
   },
   {
    "duration": 366,
    "start_time": "2022-04-24T23:28:21.538Z"
   },
   {
    "duration": 9,
    "start_time": "2022-04-24T23:28:44.709Z"
   },
   {
    "duration": 93,
    "start_time": "2022-04-24T23:29:19.653Z"
   },
   {
    "duration": 129,
    "start_time": "2022-04-24T23:44:19.050Z"
   },
   {
    "duration": 161,
    "start_time": "2022-04-24T23:44:27.977Z"
   },
   {
    "duration": 160,
    "start_time": "2022-04-25T00:10:26.328Z"
   },
   {
    "duration": 132,
    "start_time": "2022-04-25T00:10:36.486Z"
   },
   {
    "duration": 155,
    "start_time": "2022-04-25T00:18:50.233Z"
   },
   {
    "duration": 2587,
    "start_time": "2022-04-25T00:18:57.953Z"
   },
   {
    "duration": 237,
    "start_time": "2022-04-25T00:21:12.014Z"
   },
   {
    "duration": 72,
    "start_time": "2022-04-25T06:08:10.469Z"
   },
   {
    "duration": 1613,
    "start_time": "2022-04-25T06:08:17.347Z"
   },
   {
    "duration": 23,
    "start_time": "2022-04-25T06:08:18.962Z"
   },
   {
    "duration": 120,
    "start_time": "2022-04-25T06:08:18.987Z"
   },
   {
    "duration": 13,
    "start_time": "2022-04-25T06:08:19.109Z"
   },
   {
    "duration": 33,
    "start_time": "2022-04-25T06:08:19.124Z"
   },
   {
    "duration": 43,
    "start_time": "2022-04-25T06:08:19.159Z"
   },
   {
    "duration": 5,
    "start_time": "2022-04-25T06:08:19.204Z"
   },
   {
    "duration": 11,
    "start_time": "2022-04-25T06:08:19.211Z"
   },
   {
    "duration": 34,
    "start_time": "2022-04-25T06:08:19.224Z"
   },
   {
    "duration": 6,
    "start_time": "2022-04-25T06:08:19.262Z"
   },
   {
    "duration": 112,
    "start_time": "2022-04-25T06:08:19.271Z"
   },
   {
    "duration": 140,
    "start_time": "2022-04-25T06:08:19.385Z"
   },
   {
    "duration": 112,
    "start_time": "2022-04-25T06:08:19.528Z"
   },
   {
    "duration": 78,
    "start_time": "2022-04-25T06:08:19.651Z"
   },
   {
    "duration": 24,
    "start_time": "2022-04-25T06:08:19.732Z"
   },
   {
    "duration": 16,
    "start_time": "2022-04-25T06:08:19.758Z"
   },
   {
    "duration": 110,
    "start_time": "2022-04-25T06:08:19.777Z"
   },
   {
    "duration": 24,
    "start_time": "2022-04-25T06:08:19.890Z"
   },
   {
    "duration": 6,
    "start_time": "2022-04-25T06:08:19.917Z"
   },
   {
    "duration": 104,
    "start_time": "2022-04-25T06:08:19.952Z"
   },
   {
    "duration": 12,
    "start_time": "2022-04-25T06:08:20.058Z"
   },
   {
    "duration": 59,
    "start_time": "2022-04-25T06:08:20.073Z"
   },
   {
    "duration": 25,
    "start_time": "2022-04-25T06:08:20.134Z"
   },
   {
    "duration": 29,
    "start_time": "2022-04-25T06:08:20.162Z"
   },
   {
    "duration": 9,
    "start_time": "2022-04-25T06:08:20.193Z"
   },
   {
    "duration": 81,
    "start_time": "2022-04-25T06:08:20.205Z"
   },
   {
    "duration": 43,
    "start_time": "2022-04-25T06:08:20.289Z"
   },
   {
    "duration": 73,
    "start_time": "2022-04-25T06:08:20.353Z"
   },
   {
    "duration": 23,
    "start_time": "2022-04-25T06:08:20.429Z"
   },
   {
    "duration": 575,
    "start_time": "2022-04-25T06:08:20.454Z"
   },
   {
    "duration": 46,
    "start_time": "2022-04-25T06:08:21.031Z"
   },
   {
    "duration": 42,
    "start_time": "2022-04-25T06:08:21.079Z"
   },
   {
    "duration": 37,
    "start_time": "2022-04-25T06:08:21.124Z"
   },
   {
    "duration": 263,
    "start_time": "2022-04-25T06:08:21.163Z"
   },
   {
    "duration": 12,
    "start_time": "2022-04-25T06:08:21.428Z"
   },
   {
    "duration": 252,
    "start_time": "2022-04-25T06:08:21.455Z"
   },
   {
    "duration": 312,
    "start_time": "2022-04-25T06:08:21.709Z"
   },
   {
    "duration": 15,
    "start_time": "2022-04-25T06:08:22.023Z"
   },
   {
    "duration": 188,
    "start_time": "2022-04-25T06:08:22.055Z"
   },
   {
    "duration": 267,
    "start_time": "2022-04-25T06:08:22.245Z"
   },
   {
    "duration": 285,
    "start_time": "2022-04-25T06:08:57.694Z"
   },
   {
    "duration": 180,
    "start_time": "2022-04-25T06:10:47.420Z"
   },
   {
    "duration": 12,
    "start_time": "2022-04-25T06:19:31.703Z"
   },
   {
    "duration": 179,
    "start_time": "2022-04-25T06:20:03.297Z"
   },
   {
    "duration": 307,
    "start_time": "2022-04-25T06:22:36.800Z"
   },
   {
    "duration": 14,
    "start_time": "2022-04-25T06:23:02.669Z"
   },
   {
    "duration": 276,
    "start_time": "2022-04-25T06:23:33.484Z"
   },
   {
    "duration": 245,
    "start_time": "2022-04-25T06:30:30.702Z"
   },
   {
    "duration": 12,
    "start_time": "2022-04-25T06:31:03.479Z"
   },
   {
    "duration": 207,
    "start_time": "2022-04-25T06:33:31.725Z"
   },
   {
    "duration": 99,
    "start_time": "2022-04-25T06:48:25.448Z"
   },
   {
    "duration": 12,
    "start_time": "2022-04-25T06:49:45.023Z"
   },
   {
    "duration": 20,
    "start_time": "2022-04-25T06:50:11.319Z"
   },
   {
    "duration": 113,
    "start_time": "2022-04-25T06:51:03.901Z"
   },
   {
    "duration": 1443,
    "start_time": "2022-04-25T11:41:48.048Z"
   },
   {
    "duration": 33,
    "start_time": "2022-04-25T11:41:49.495Z"
   },
   {
    "duration": 121,
    "start_time": "2022-04-25T11:41:49.531Z"
   },
   {
    "duration": 13,
    "start_time": "2022-04-25T11:41:49.656Z"
   },
   {
    "duration": 9,
    "start_time": "2022-04-25T11:41:49.671Z"
   },
   {
    "duration": 68,
    "start_time": "2022-04-25T11:41:49.682Z"
   },
   {
    "duration": 4,
    "start_time": "2022-04-25T11:41:49.753Z"
   },
   {
    "duration": 9,
    "start_time": "2022-04-25T11:41:49.760Z"
   },
   {
    "duration": 10,
    "start_time": "2022-04-25T11:41:49.771Z"
   },
   {
    "duration": 5,
    "start_time": "2022-04-25T11:41:49.785Z"
   },
   {
    "duration": 79,
    "start_time": "2022-04-25T11:41:49.824Z"
   },
   {
    "duration": 93,
    "start_time": "2022-04-25T11:41:49.905Z"
   },
   {
    "duration": 76,
    "start_time": "2022-04-25T11:41:50.000Z"
   },
   {
    "duration": 92,
    "start_time": "2022-04-25T11:41:50.078Z"
   },
   {
    "duration": 7,
    "start_time": "2022-04-25T11:41:50.172Z"
   },
   {
    "duration": 18,
    "start_time": "2022-04-25T11:41:50.181Z"
   },
   {
    "duration": 83,
    "start_time": "2022-04-25T11:41:50.201Z"
   },
   {
    "duration": 40,
    "start_time": "2022-04-25T11:41:50.286Z"
   },
   {
    "duration": 6,
    "start_time": "2022-04-25T11:41:50.328Z"
   },
   {
    "duration": 105,
    "start_time": "2022-04-25T11:41:50.336Z"
   },
   {
    "duration": 10,
    "start_time": "2022-04-25T11:41:50.444Z"
   },
   {
    "duration": 74,
    "start_time": "2022-04-25T11:41:50.457Z"
   },
   {
    "duration": 11,
    "start_time": "2022-04-25T11:41:50.533Z"
   },
   {
    "duration": 27,
    "start_time": "2022-04-25T11:41:50.547Z"
   },
   {
    "duration": 10,
    "start_time": "2022-04-25T11:41:50.576Z"
   },
   {
    "duration": 77,
    "start_time": "2022-04-25T11:41:50.588Z"
   },
   {
    "duration": 41,
    "start_time": "2022-04-25T11:41:50.667Z"
   },
   {
    "duration": 71,
    "start_time": "2022-04-25T11:41:50.727Z"
   },
   {
    "duration": 24,
    "start_time": "2022-04-25T11:41:50.801Z"
   },
   {
    "duration": 537,
    "start_time": "2022-04-25T11:41:50.828Z"
   },
   {
    "duration": 36,
    "start_time": "2022-04-25T11:41:51.367Z"
   },
   {
    "duration": 56,
    "start_time": "2022-04-25T11:41:51.424Z"
   },
   {
    "duration": 14,
    "start_time": "2022-04-25T11:41:51.482Z"
   },
   {
    "duration": 352,
    "start_time": "2022-04-25T11:41:51.498Z"
   },
   {
    "duration": 13,
    "start_time": "2022-04-25T11:41:51.852Z"
   },
   {
    "duration": 327,
    "start_time": "2022-04-25T11:41:51.868Z"
   },
   {
    "duration": 292,
    "start_time": "2022-04-25T11:41:52.198Z"
   },
   {
    "duration": 12,
    "start_time": "2022-04-25T11:41:52.492Z"
   },
   {
    "duration": 259,
    "start_time": "2022-04-25T11:41:52.506Z"
   },
   {
    "duration": 345,
    "start_time": "2022-04-25T11:41:52.768Z"
   },
   {
    "duration": 18,
    "start_time": "2022-04-25T11:41:53.115Z"
   },
   {
    "duration": 265,
    "start_time": "2022-04-25T11:41:53.136Z"
   },
   {
    "duration": 334,
    "start_time": "2022-04-25T11:41:53.404Z"
   },
   {
    "duration": 14,
    "start_time": "2022-04-25T11:41:53.740Z"
   },
   {
    "duration": 274,
    "start_time": "2022-04-25T11:41:53.757Z"
   },
   {
    "duration": 328,
    "start_time": "2022-04-25T11:41:54.034Z"
   },
   {
    "duration": 14,
    "start_time": "2022-04-25T11:41:54.365Z"
   },
   {
    "duration": 218,
    "start_time": "2022-04-25T11:41:54.382Z"
   },
   {
    "duration": 34,
    "start_time": "2022-04-25T11:41:54.603Z"
   },
   {
    "duration": 79,
    "start_time": "2022-04-25T11:44:10.385Z"
   },
   {
    "duration": 71,
    "start_time": "2022-04-25T11:46:35.874Z"
   },
   {
    "duration": 141,
    "start_time": "2022-04-25T12:31:02.342Z"
   },
   {
    "duration": 117,
    "start_time": "2022-04-25T12:31:16.564Z"
   },
   {
    "duration": 135,
    "start_time": "2022-04-25T12:31:26.093Z"
   },
   {
    "duration": 130,
    "start_time": "2022-04-25T12:31:32.271Z"
   },
   {
    "duration": 174,
    "start_time": "2022-04-25T12:33:02.665Z"
   },
   {
    "duration": 12,
    "start_time": "2022-04-25T12:33:13.173Z"
   },
   {
    "duration": 11,
    "start_time": "2022-04-25T12:34:06.050Z"
   },
   {
    "duration": 12,
    "start_time": "2022-04-25T12:34:27.658Z"
   },
   {
    "duration": 77,
    "start_time": "2022-04-25T12:38:39.867Z"
   },
   {
    "duration": 105,
    "start_time": "2022-04-25T12:46:23.492Z"
   },
   {
    "duration": 1862,
    "start_time": "2022-04-25T12:46:28.091Z"
   },
   {
    "duration": 1654,
    "start_time": "2022-04-25T12:46:37.502Z"
   },
   {
    "duration": 0,
    "start_time": "2022-04-25T12:47:46.550Z"
   },
   {
    "duration": 1835,
    "start_time": "2022-04-25T12:48:00.816Z"
   },
   {
    "duration": 7,
    "start_time": "2022-04-25T12:48:47.410Z"
   },
   {
    "duration": 7,
    "start_time": "2022-04-25T12:49:07.401Z"
   },
   {
    "duration": 8,
    "start_time": "2022-04-25T12:49:21.777Z"
   },
   {
    "duration": 137,
    "start_time": "2022-04-26T04:59:28.588Z"
   },
   {
    "duration": 1379,
    "start_time": "2022-04-26T04:59:34.085Z"
   },
   {
    "duration": 26,
    "start_time": "2022-04-26T04:59:35.467Z"
   },
   {
    "duration": 118,
    "start_time": "2022-04-26T04:59:35.495Z"
   },
   {
    "duration": 17,
    "start_time": "2022-04-26T04:59:35.616Z"
   },
   {
    "duration": 10,
    "start_time": "2022-04-26T04:59:35.636Z"
   },
   {
    "duration": 41,
    "start_time": "2022-04-26T04:59:35.649Z"
   },
   {
    "duration": 35,
    "start_time": "2022-04-26T04:59:35.692Z"
   },
   {
    "duration": 17,
    "start_time": "2022-04-26T04:59:35.729Z"
   },
   {
    "duration": 37,
    "start_time": "2022-04-26T04:59:35.748Z"
   },
   {
    "duration": 11,
    "start_time": "2022-04-26T04:59:35.789Z"
   },
   {
    "duration": 91,
    "start_time": "2022-04-26T04:59:35.803Z"
   },
   {
    "duration": 95,
    "start_time": "2022-04-26T04:59:35.896Z"
   },
   {
    "duration": 76,
    "start_time": "2022-04-26T04:59:35.993Z"
   },
   {
    "duration": 101,
    "start_time": "2022-04-26T04:59:36.072Z"
   },
   {
    "duration": 6,
    "start_time": "2022-04-26T04:59:36.176Z"
   },
   {
    "duration": 35,
    "start_time": "2022-04-26T04:59:36.184Z"
   },
   {
    "duration": 65,
    "start_time": "2022-04-26T04:59:36.224Z"
   },
   {
    "duration": 40,
    "start_time": "2022-04-26T04:59:36.292Z"
   },
   {
    "duration": 7,
    "start_time": "2022-04-26T04:59:36.335Z"
   },
   {
    "duration": 113,
    "start_time": "2022-04-26T04:59:36.344Z"
   },
   {
    "duration": 11,
    "start_time": "2022-04-26T04:59:36.459Z"
   },
   {
    "duration": 78,
    "start_time": "2022-04-26T04:59:36.473Z"
   },
   {
    "duration": 11,
    "start_time": "2022-04-26T04:59:36.554Z"
   },
   {
    "duration": 27,
    "start_time": "2022-04-26T04:59:36.567Z"
   },
   {
    "duration": 32,
    "start_time": "2022-04-26T04:59:36.597Z"
   },
   {
    "duration": 49,
    "start_time": "2022-04-26T04:59:36.632Z"
   },
   {
    "duration": 71,
    "start_time": "2022-04-26T04:59:36.684Z"
   },
   {
    "duration": 82,
    "start_time": "2022-04-26T04:59:36.760Z"
   },
   {
    "duration": 4,
    "start_time": "2022-04-26T04:59:36.844Z"
   },
   {
    "duration": 612,
    "start_time": "2022-04-26T04:59:36.851Z"
   },
   {
    "duration": 58,
    "start_time": "2022-04-26T04:59:37.466Z"
   },
   {
    "duration": 78,
    "start_time": "2022-04-26T04:59:37.529Z"
   },
   {
    "duration": 32,
    "start_time": "2022-04-26T04:59:37.610Z"
   },
   {
    "duration": 420,
    "start_time": "2022-04-26T04:59:37.646Z"
   },
   {
    "duration": 12,
    "start_time": "2022-04-26T04:59:38.069Z"
   },
   {
    "duration": 274,
    "start_time": "2022-04-26T04:59:38.083Z"
   },
   {
    "duration": 326,
    "start_time": "2022-04-26T04:59:38.359Z"
   },
   {
    "duration": 12,
    "start_time": "2022-04-26T04:59:38.687Z"
   },
   {
    "duration": 212,
    "start_time": "2022-04-26T04:59:38.701Z"
   },
   {
    "duration": 285,
    "start_time": "2022-04-26T04:59:38.915Z"
   },
   {
    "duration": 29,
    "start_time": "2022-04-26T04:59:39.203Z"
   },
   {
    "duration": 201,
    "start_time": "2022-04-26T04:59:39.235Z"
   },
   {
    "duration": 270,
    "start_time": "2022-04-26T04:59:39.439Z"
   },
   {
    "duration": 26,
    "start_time": "2022-04-26T04:59:39.711Z"
   },
   {
    "duration": 319,
    "start_time": "2022-04-26T04:59:39.740Z"
   },
   {
    "duration": 259,
    "start_time": "2022-04-26T04:59:40.061Z"
   },
   {
    "duration": 13,
    "start_time": "2022-04-26T04:59:40.324Z"
   },
   {
    "duration": 216,
    "start_time": "2022-04-26T04:59:40.339Z"
   },
   {
    "duration": 20,
    "start_time": "2022-04-26T04:59:40.557Z"
   },
   {
    "duration": 8,
    "start_time": "2022-04-26T04:59:40.579Z"
   },
   {
    "duration": 37,
    "start_time": "2022-04-26T04:59:40.589Z"
   },
   {
    "duration": 7,
    "start_time": "2022-04-26T04:59:40.629Z"
   },
   {
    "duration": 8,
    "start_time": "2022-04-26T05:00:12.824Z"
   },
   {
    "duration": 7,
    "start_time": "2022-04-26T05:00:33.976Z"
   },
   {
    "duration": 7,
    "start_time": "2022-04-26T05:00:39.288Z"
   },
   {
    "duration": 284,
    "start_time": "2022-04-26T05:04:02.277Z"
   },
   {
    "duration": 272,
    "start_time": "2022-04-26T05:05:10.292Z"
   },
   {
    "duration": 377,
    "start_time": "2022-04-26T05:05:51.301Z"
   },
   {
    "duration": 281,
    "start_time": "2022-04-26T05:11:22.662Z"
   },
   {
    "duration": 283,
    "start_time": "2022-04-26T05:11:44.788Z"
   },
   {
    "duration": 405,
    "start_time": "2022-04-26T05:15:47.903Z"
   },
   {
    "duration": 482,
    "start_time": "2022-04-26T05:16:34.435Z"
   },
   {
    "duration": 382,
    "start_time": "2022-04-26T05:16:54.401Z"
   },
   {
    "duration": 378,
    "start_time": "2022-04-26T05:17:22.272Z"
   },
   {
    "duration": 389,
    "start_time": "2022-04-26T06:40:16.540Z"
   },
   {
    "duration": 565,
    "start_time": "2022-04-26T06:40:58.485Z"
   },
   {
    "duration": 414,
    "start_time": "2022-04-26T06:41:40.700Z"
   },
   {
    "duration": 703,
    "start_time": "2022-04-26T06:48:43.674Z"
   },
   {
    "duration": 424,
    "start_time": "2022-04-26T06:48:51.881Z"
   },
   {
    "duration": 359,
    "start_time": "2022-04-26T06:49:41.626Z"
   },
   {
    "duration": 12,
    "start_time": "2022-04-26T06:54:43.683Z"
   },
   {
    "duration": 17,
    "start_time": "2022-04-26T06:54:57.842Z"
   },
   {
    "duration": 74,
    "start_time": "2022-04-26T11:02:04.905Z"
   },
   {
    "duration": 1920,
    "start_time": "2022-04-26T11:04:12.158Z"
   },
   {
    "duration": 22,
    "start_time": "2022-04-26T11:04:14.080Z"
   },
   {
    "duration": 113,
    "start_time": "2022-04-26T11:04:14.104Z"
   },
   {
    "duration": 14,
    "start_time": "2022-04-26T11:04:14.225Z"
   },
   {
    "duration": 17,
    "start_time": "2022-04-26T11:04:14.241Z"
   },
   {
    "duration": 59,
    "start_time": "2022-04-26T11:04:14.260Z"
   },
   {
    "duration": 7,
    "start_time": "2022-04-26T11:04:14.321Z"
   },
   {
    "duration": 26,
    "start_time": "2022-04-26T11:04:14.330Z"
   },
   {
    "duration": 27,
    "start_time": "2022-04-26T11:04:14.358Z"
   },
   {
    "duration": 16,
    "start_time": "2022-04-26T11:04:14.391Z"
   },
   {
    "duration": 141,
    "start_time": "2022-04-26T11:04:14.409Z"
   },
   {
    "duration": 111,
    "start_time": "2022-04-26T11:04:14.553Z"
   },
   {
    "duration": 67,
    "start_time": "2022-04-26T11:04:14.667Z"
   },
   {
    "duration": 88,
    "start_time": "2022-04-26T11:04:14.736Z"
   },
   {
    "duration": 8,
    "start_time": "2022-04-26T11:04:14.827Z"
   },
   {
    "duration": 44,
    "start_time": "2022-04-26T11:04:14.837Z"
   },
   {
    "duration": 72,
    "start_time": "2022-04-26T11:04:14.884Z"
   },
   {
    "duration": 23,
    "start_time": "2022-04-26T11:04:14.960Z"
   },
   {
    "duration": 6,
    "start_time": "2022-04-26T11:04:14.986Z"
   },
   {
    "duration": 122,
    "start_time": "2022-04-26T11:04:15.023Z"
   },
   {
    "duration": 10,
    "start_time": "2022-04-26T11:04:15.148Z"
   },
   {
    "duration": 81,
    "start_time": "2022-04-26T11:04:15.161Z"
   },
   {
    "duration": 11,
    "start_time": "2022-04-26T11:04:15.244Z"
   },
   {
    "duration": 52,
    "start_time": "2022-04-26T11:04:15.258Z"
   },
   {
    "duration": 28,
    "start_time": "2022-04-26T11:04:15.313Z"
   },
   {
    "duration": 83,
    "start_time": "2022-04-26T11:04:15.344Z"
   },
   {
    "duration": 44,
    "start_time": "2022-04-26T11:04:15.430Z"
   },
   {
    "duration": 84,
    "start_time": "2022-04-26T11:04:15.479Z"
   },
   {
    "duration": 4,
    "start_time": "2022-04-26T11:04:15.566Z"
   },
   {
    "duration": 612,
    "start_time": "2022-04-26T11:04:15.573Z"
   },
   {
    "duration": 52,
    "start_time": "2022-04-26T11:04:16.187Z"
   },
   {
    "duration": 43,
    "start_time": "2022-04-26T11:04:16.241Z"
   },
   {
    "duration": 38,
    "start_time": "2022-04-26T11:04:16.286Z"
   },
   {
    "duration": 245,
    "start_time": "2022-04-26T11:04:16.326Z"
   },
   {
    "duration": 11,
    "start_time": "2022-04-26T11:04:16.574Z"
   },
   {
    "duration": 243,
    "start_time": "2022-04-26T11:04:16.587Z"
   },
   {
    "duration": 295,
    "start_time": "2022-04-26T11:04:16.832Z"
   },
   {
    "duration": 14,
    "start_time": "2022-04-26T11:04:17.129Z"
   },
   {
    "duration": 215,
    "start_time": "2022-04-26T11:04:17.145Z"
   },
   {
    "duration": 268,
    "start_time": "2022-04-26T11:04:17.362Z"
   },
   {
    "duration": 12,
    "start_time": "2022-04-26T11:04:17.632Z"
   },
   {
    "duration": 484,
    "start_time": "2022-04-26T11:04:17.646Z"
   },
   {
    "duration": 257,
    "start_time": "2022-04-26T11:04:18.132Z"
   },
   {
    "duration": 13,
    "start_time": "2022-04-26T11:04:18.391Z"
   },
   {
    "duration": 205,
    "start_time": "2022-04-26T11:04:18.406Z"
   },
   {
    "duration": 303,
    "start_time": "2022-04-26T11:04:18.613Z"
   },
   {
    "duration": 18,
    "start_time": "2022-04-26T11:04:18.918Z"
   },
   {
    "duration": 195,
    "start_time": "2022-04-26T11:04:18.939Z"
   },
   {
    "duration": 19,
    "start_time": "2022-04-26T11:04:19.136Z"
   },
   {
    "duration": 9,
    "start_time": "2022-04-26T11:04:19.158Z"
   },
   {
    "duration": 419,
    "start_time": "2022-04-26T11:04:19.170Z"
   },
   {
    "duration": 8,
    "start_time": "2022-04-26T11:04:19.591Z"
   },
   {
    "duration": 293,
    "start_time": "2022-04-26T11:04:19.601Z"
   },
   {
    "duration": 9,
    "start_time": "2022-04-26T11:04:19.897Z"
   },
   {
    "duration": 496,
    "start_time": "2022-04-26T11:04:19.909Z"
   },
   {
    "duration": 593,
    "start_time": "2022-04-26T11:04:20.408Z"
   },
   {
    "duration": 549,
    "start_time": "2022-04-26T11:04:21.004Z"
   },
   {
    "duration": 665,
    "start_time": "2022-04-26T11:04:21.556Z"
   },
   {
    "duration": 492,
    "start_time": "2022-04-26T11:04:22.225Z"
   },
   {
    "duration": 12,
    "start_time": "2022-04-26T11:04:22.719Z"
   },
   {
    "duration": 18,
    "start_time": "2022-04-26T11:04:22.734Z"
   },
   {
    "duration": 23,
    "start_time": "2022-04-26T11:04:36.159Z"
   },
   {
    "duration": 1754,
    "start_time": "2022-04-26T11:05:15.918Z"
   },
   {
    "duration": 23,
    "start_time": "2022-04-26T11:05:53.338Z"
   },
   {
    "duration": 21,
    "start_time": "2022-04-26T11:06:32.141Z"
   },
   {
    "duration": 22,
    "start_time": "2022-04-26T11:06:40.762Z"
   },
   {
    "duration": 27,
    "start_time": "2022-04-26T11:08:14.713Z"
   },
   {
    "duration": 118,
    "start_time": "2022-04-26T11:14:34.035Z"
   },
   {
    "duration": 120,
    "start_time": "2022-04-26T11:14:59.638Z"
   },
   {
    "duration": 113,
    "start_time": "2022-04-26T11:15:20.115Z"
   },
   {
    "duration": 231,
    "start_time": "2022-04-26T11:17:01.616Z"
   },
   {
    "duration": 136,
    "start_time": "2022-04-26T11:17:52.975Z"
   },
   {
    "duration": 171,
    "start_time": "2022-04-26T11:18:42.988Z"
   },
   {
    "duration": 148,
    "start_time": "2022-04-26T11:19:14.867Z"
   },
   {
    "duration": 120,
    "start_time": "2022-04-26T11:19:21.663Z"
   },
   {
    "duration": 106,
    "start_time": "2022-04-26T11:26:12.762Z"
   },
   {
    "duration": 22,
    "start_time": "2022-04-26T11:30:19.584Z"
   },
   {
    "duration": 29,
    "start_time": "2022-04-26T11:30:46.085Z"
   },
   {
    "duration": 13,
    "start_time": "2022-04-26T11:32:44.723Z"
   },
   {
    "duration": 23,
    "start_time": "2022-04-26T11:35:50.258Z"
   },
   {
    "duration": 47,
    "start_time": "2022-04-26T11:42:07.423Z"
   },
   {
    "duration": 34,
    "start_time": "2022-04-26T11:45:16.662Z"
   },
   {
    "duration": 40,
    "start_time": "2022-04-26T11:45:29.305Z"
   },
   {
    "duration": 51,
    "start_time": "2022-04-26T11:49:28.276Z"
   },
   {
    "duration": 109,
    "start_time": "2022-04-26T11:51:38.790Z"
   },
   {
    "duration": 37,
    "start_time": "2022-04-26T11:51:57.741Z"
   },
   {
    "duration": 42,
    "start_time": "2022-04-26T11:52:09.761Z"
   },
   {
    "duration": 36,
    "start_time": "2022-04-26T11:52:27.308Z"
   },
   {
    "duration": 42,
    "start_time": "2022-04-26T11:55:44.712Z"
   },
   {
    "duration": 43,
    "start_time": "2022-04-26T11:55:52.090Z"
   },
   {
    "duration": 35,
    "start_time": "2022-04-26T11:56:08.344Z"
   },
   {
    "duration": 36,
    "start_time": "2022-04-26T11:59:33.876Z"
   },
   {
    "duration": 41,
    "start_time": "2022-04-26T11:59:47.219Z"
   },
   {
    "duration": 44,
    "start_time": "2022-04-26T12:03:06.803Z"
   },
   {
    "duration": 29,
    "start_time": "2022-04-26T12:03:14.497Z"
   },
   {
    "duration": 28,
    "start_time": "2022-04-26T12:03:18.139Z"
   },
   {
    "duration": 37,
    "start_time": "2022-04-26T12:03:23.272Z"
   },
   {
    "duration": 53,
    "start_time": "2022-04-26T12:08:11.353Z"
   },
   {
    "duration": 53,
    "start_time": "2022-04-26T12:08:34.190Z"
   },
   {
    "duration": 98,
    "start_time": "2022-04-26T12:09:07.329Z"
   },
   {
    "duration": 40,
    "start_time": "2022-04-26T12:09:22.662Z"
   },
   {
    "duration": 47,
    "start_time": "2022-04-26T12:11:08.332Z"
   },
   {
    "duration": 62,
    "start_time": "2022-04-26T12:11:15.408Z"
   },
   {
    "duration": 43,
    "start_time": "2022-04-26T12:12:08.918Z"
   },
   {
    "duration": 42,
    "start_time": "2022-04-26T12:12:51.141Z"
   },
   {
    "duration": 39,
    "start_time": "2022-04-26T12:13:02.555Z"
   },
   {
    "duration": 59,
    "start_time": "2022-04-26T12:18:21.102Z"
   },
   {
    "duration": 25,
    "start_time": "2022-04-26T12:18:37.252Z"
   },
   {
    "duration": 43,
    "start_time": "2022-04-26T12:18:41.089Z"
   },
   {
    "duration": 20,
    "start_time": "2022-04-26T12:18:45.605Z"
   },
   {
    "duration": 58,
    "start_time": "2022-04-26T12:23:00.396Z"
   },
   {
    "duration": 86,
    "start_time": "2022-04-26T12:23:32.405Z"
   },
   {
    "duration": 79,
    "start_time": "2022-04-26T12:26:31.414Z"
   },
   {
    "duration": 21,
    "start_time": "2022-04-26T12:31:46.094Z"
   },
   {
    "duration": 20,
    "start_time": "2022-04-26T12:32:00.521Z"
   },
   {
    "duration": 20,
    "start_time": "2022-04-26T12:32:10.252Z"
   },
   {
    "duration": 27,
    "start_time": "2022-04-26T12:33:11.882Z"
   },
   {
    "duration": 30,
    "start_time": "2022-04-26T12:33:30.805Z"
   },
   {
    "duration": 23,
    "start_time": "2022-04-26T12:33:59.451Z"
   },
   {
    "duration": 42,
    "start_time": "2022-04-26T12:36:22.536Z"
   },
   {
    "duration": 65,
    "start_time": "2022-04-26T12:38:05.214Z"
   },
   {
    "duration": 37,
    "start_time": "2022-04-26T12:38:10.382Z"
   },
   {
    "duration": 15,
    "start_time": "2022-04-26T12:38:23.870Z"
   },
   {
    "duration": 23,
    "start_time": "2022-04-26T12:38:46.015Z"
   },
   {
    "duration": 32,
    "start_time": "2022-04-26T12:55:13.500Z"
   },
   {
    "duration": 13,
    "start_time": "2022-04-26T12:58:13.652Z"
   },
   {
    "duration": 21,
    "start_time": "2022-04-26T12:58:33.815Z"
   },
   {
    "duration": 20,
    "start_time": "2022-04-26T13:00:54.924Z"
   },
   {
    "duration": 43,
    "start_time": "2022-04-26T13:03:08.520Z"
   },
   {
    "duration": 23,
    "start_time": "2022-04-26T13:03:27.691Z"
   },
   {
    "duration": 10847,
    "start_time": "2022-04-26T13:04:01.554Z"
   },
   {
    "duration": 12,
    "start_time": "2022-04-26T13:05:45.599Z"
   },
   {
    "duration": 51,
    "start_time": "2022-04-26T13:06:03.757Z"
   },
   {
    "duration": 42,
    "start_time": "2022-04-26T13:15:24.552Z"
   },
   {
    "duration": 118,
    "start_time": "2022-04-26T13:16:51.993Z"
   },
   {
    "duration": 59,
    "start_time": "2022-04-26T13:17:33.558Z"
   },
   {
    "duration": 17,
    "start_time": "2022-04-26T13:19:43.574Z"
   },
   {
    "duration": 22,
    "start_time": "2022-04-26T13:20:07.492Z"
   },
   {
    "duration": 818,
    "start_time": "2022-04-26T13:20:45.298Z"
   },
   {
    "duration": 74,
    "start_time": "2022-04-27T04:40:25.539Z"
   },
   {
    "duration": 1345,
    "start_time": "2022-04-27T04:40:30.169Z"
   },
   {
    "duration": 22,
    "start_time": "2022-04-27T04:40:31.517Z"
   },
   {
    "duration": 119,
    "start_time": "2022-04-27T04:40:31.541Z"
   },
   {
    "duration": 22,
    "start_time": "2022-04-27T04:40:31.662Z"
   },
   {
    "duration": 8,
    "start_time": "2022-04-27T04:40:31.686Z"
   },
   {
    "duration": 48,
    "start_time": "2022-04-27T04:40:31.697Z"
   },
   {
    "duration": 6,
    "start_time": "2022-04-27T04:40:31.748Z"
   },
   {
    "duration": 8,
    "start_time": "2022-04-27T04:40:31.782Z"
   },
   {
    "duration": 12,
    "start_time": "2022-04-27T04:40:31.793Z"
   },
   {
    "duration": 6,
    "start_time": "2022-04-27T04:40:31.810Z"
   },
   {
    "duration": 115,
    "start_time": "2022-04-27T04:40:31.818Z"
   },
   {
    "duration": 95,
    "start_time": "2022-04-27T04:40:31.935Z"
   },
   {
    "duration": 70,
    "start_time": "2022-04-27T04:40:32.033Z"
   },
   {
    "duration": 93,
    "start_time": "2022-04-27T04:40:32.105Z"
   },
   {
    "duration": 7,
    "start_time": "2022-04-27T04:40:32.200Z"
   },
   {
    "duration": 15,
    "start_time": "2022-04-27T04:40:32.209Z"
   },
   {
    "duration": 86,
    "start_time": "2022-04-27T04:40:32.226Z"
   },
   {
    "duration": 21,
    "start_time": "2022-04-27T04:40:32.314Z"
   },
   {
    "duration": 5,
    "start_time": "2022-04-27T04:40:32.337Z"
   },
   {
    "duration": 106,
    "start_time": "2022-04-27T04:40:32.344Z"
   },
   {
    "duration": 10,
    "start_time": "2022-04-27T04:40:32.452Z"
   },
   {
    "duration": 73,
    "start_time": "2022-04-27T04:40:32.464Z"
   },
   {
    "duration": 11,
    "start_time": "2022-04-27T04:40:32.539Z"
   },
   {
    "duration": 43,
    "start_time": "2022-04-27T04:40:32.552Z"
   },
   {
    "duration": 9,
    "start_time": "2022-04-27T04:40:32.597Z"
   },
   {
    "duration": 47,
    "start_time": "2022-04-27T04:40:32.609Z"
   },
   {
    "duration": 64,
    "start_time": "2022-04-27T04:40:32.658Z"
   },
   {
    "duration": 90,
    "start_time": "2022-04-27T04:40:32.729Z"
   },
   {
    "duration": 4,
    "start_time": "2022-04-27T04:40:32.822Z"
   },
   {
    "duration": 566,
    "start_time": "2022-04-27T04:40:32.829Z"
   },
   {
    "duration": 40,
    "start_time": "2022-04-27T04:40:33.397Z"
   },
   {
    "duration": 74,
    "start_time": "2022-04-27T04:40:33.440Z"
   },
   {
    "duration": 13,
    "start_time": "2022-04-27T04:40:33.517Z"
   },
   {
    "duration": 373,
    "start_time": "2022-04-27T04:40:33.533Z"
   },
   {
    "duration": 14,
    "start_time": "2022-04-27T04:40:33.908Z"
   },
   {
    "duration": 256,
    "start_time": "2022-04-27T04:40:33.925Z"
   },
   {
    "duration": 299,
    "start_time": "2022-04-27T04:40:34.184Z"
   },
   {
    "duration": 13,
    "start_time": "2022-04-27T04:40:34.485Z"
   },
   {
    "duration": 199,
    "start_time": "2022-04-27T04:40:34.501Z"
   },
   {
    "duration": 271,
    "start_time": "2022-04-27T04:40:34.703Z"
   },
   {
    "duration": 14,
    "start_time": "2022-04-27T04:40:34.976Z"
   },
   {
    "duration": 194,
    "start_time": "2022-04-27T04:40:34.992Z"
   },
   {
    "duration": 248,
    "start_time": "2022-04-27T04:40:35.188Z"
   },
   {
    "duration": 11,
    "start_time": "2022-04-27T04:40:35.439Z"
   },
   {
    "duration": 204,
    "start_time": "2022-04-27T04:40:35.453Z"
   },
   {
    "duration": 249,
    "start_time": "2022-04-27T04:40:35.659Z"
   },
   {
    "duration": 12,
    "start_time": "2022-04-27T04:40:35.911Z"
   },
   {
    "duration": 212,
    "start_time": "2022-04-27T04:40:35.925Z"
   },
   {
    "duration": 19,
    "start_time": "2022-04-27T04:40:36.140Z"
   },
   {
    "duration": 22,
    "start_time": "2022-04-27T04:40:36.161Z"
   },
   {
    "duration": 290,
    "start_time": "2022-04-27T04:40:36.185Z"
   },
   {
    "duration": 8,
    "start_time": "2022-04-27T04:40:36.481Z"
   },
   {
    "duration": 298,
    "start_time": "2022-04-27T04:40:36.491Z"
   },
   {
    "duration": 7,
    "start_time": "2022-04-27T04:40:36.791Z"
   },
   {
    "duration": 364,
    "start_time": "2022-04-27T04:40:36.800Z"
   },
   {
    "duration": 414,
    "start_time": "2022-04-27T04:40:37.167Z"
   },
   {
    "duration": 340,
    "start_time": "2022-04-27T04:40:37.584Z"
   },
   {
    "duration": 504,
    "start_time": "2022-04-27T04:40:37.927Z"
   },
   {
    "duration": 382,
    "start_time": "2022-04-27T04:40:38.433Z"
   },
   {
    "duration": 11,
    "start_time": "2022-04-27T04:40:38.817Z"
   },
   {
    "duration": 26,
    "start_time": "2022-04-27T04:40:38.830Z"
   },
   {
    "duration": 32,
    "start_time": "2022-04-27T04:40:38.858Z"
   },
   {
    "duration": 14,
    "start_time": "2022-04-27T04:40:38.892Z"
   },
   {
    "duration": 22,
    "start_time": "2022-04-27T04:40:38.908Z"
   },
   {
    "duration": 98,
    "start_time": "2022-04-27T04:40:38.932Z"
   },
   {
    "duration": 60,
    "start_time": "2022-04-27T04:40:39.032Z"
   },
   {
    "duration": 612,
    "start_time": "2022-04-27T04:40:39.095Z"
   },
   {
    "duration": 91,
    "start_time": "2022-04-27T04:42:25.503Z"
   },
   {
    "duration": 569,
    "start_time": "2022-04-27T04:45:42.219Z"
   },
   {
    "duration": 31,
    "start_time": "2022-04-27T05:40:02.465Z"
   },
   {
    "duration": 416,
    "start_time": "2022-04-27T05:41:58.473Z"
   },
   {
    "duration": 29,
    "start_time": "2022-04-27T05:53:13.720Z"
   },
   {
    "duration": 114,
    "start_time": "2022-04-27T05:56:56.779Z"
   },
   {
    "duration": 156,
    "start_time": "2022-04-27T05:59:05.330Z"
   },
   {
    "duration": 112,
    "start_time": "2022-04-27T05:59:25.537Z"
   },
   {
    "duration": 101,
    "start_time": "2022-04-27T06:01:48.270Z"
   },
   {
    "duration": 118,
    "start_time": "2022-04-27T06:02:24.057Z"
   },
   {
    "duration": 50,
    "start_time": "2022-04-27T06:02:43.591Z"
   },
   {
    "duration": 47,
    "start_time": "2022-04-27T06:02:46.565Z"
   },
   {
    "duration": 106,
    "start_time": "2022-04-27T06:02:48.664Z"
   },
   {
    "duration": 1852,
    "start_time": "2022-04-27T06:21:49.685Z"
   },
   {
    "duration": 10,
    "start_time": "2022-04-27T06:22:08.312Z"
   },
   {
    "duration": 103,
    "start_time": "2022-04-27T06:25:27.795Z"
   },
   {
    "duration": 7,
    "start_time": "2022-04-27T06:26:51.736Z"
   },
   {
    "duration": 935,
    "start_time": "2022-04-28T11:49:54.661Z"
   },
   {
    "duration": 17,
    "start_time": "2022-04-28T11:49:55.598Z"
   },
   {
    "duration": 74,
    "start_time": "2022-04-28T11:49:55.616Z"
   },
   {
    "duration": 23,
    "start_time": "2022-04-28T11:49:55.692Z"
   },
   {
    "duration": 6,
    "start_time": "2022-04-28T11:49:55.717Z"
   },
   {
    "duration": 27,
    "start_time": "2022-04-28T11:49:55.725Z"
   },
   {
    "duration": 5,
    "start_time": "2022-04-28T11:49:55.754Z"
   },
   {
    "duration": 8,
    "start_time": "2022-04-28T11:49:55.760Z"
   },
   {
    "duration": 40,
    "start_time": "2022-04-28T11:49:55.770Z"
   },
   {
    "duration": 11,
    "start_time": "2022-04-28T11:49:55.814Z"
   },
   {
    "duration": 55,
    "start_time": "2022-04-28T11:49:55.827Z"
   },
   {
    "duration": 73,
    "start_time": "2022-04-28T11:49:55.884Z"
   },
   {
    "duration": 61,
    "start_time": "2022-04-28T11:49:55.960Z"
   },
   {
    "duration": 60,
    "start_time": "2022-04-28T11:49:56.024Z"
   },
   {
    "duration": 24,
    "start_time": "2022-04-28T11:49:56.087Z"
   },
   {
    "duration": 12,
    "start_time": "2022-04-28T11:49:56.113Z"
   },
   {
    "duration": 44,
    "start_time": "2022-04-28T11:49:56.127Z"
   },
   {
    "duration": 47,
    "start_time": "2022-04-28T11:49:56.173Z"
   },
   {
    "duration": 6,
    "start_time": "2022-04-28T11:49:56.222Z"
   },
   {
    "duration": 54,
    "start_time": "2022-04-28T11:49:56.230Z"
   },
   {
    "duration": 25,
    "start_time": "2022-04-28T11:49:56.285Z"
   },
   {
    "duration": 38,
    "start_time": "2022-04-28T11:49:56.312Z"
   },
   {
    "duration": 8,
    "start_time": "2022-04-28T11:49:56.351Z"
   },
   {
    "duration": 15,
    "start_time": "2022-04-28T11:49:56.360Z"
   },
   {
    "duration": 38,
    "start_time": "2022-04-28T11:49:56.376Z"
   },
   {
    "duration": 32,
    "start_time": "2022-04-28T11:49:56.416Z"
   },
   {
    "duration": 28,
    "start_time": "2022-04-28T11:49:56.449Z"
   },
   {
    "duration": 66,
    "start_time": "2022-04-28T11:49:56.481Z"
   },
   {
    "duration": 3,
    "start_time": "2022-04-28T11:49:56.549Z"
   },
   {
    "duration": 362,
    "start_time": "2022-04-28T11:49:56.554Z"
   },
   {
    "duration": 25,
    "start_time": "2022-04-28T11:49:56.918Z"
   },
   {
    "duration": 28,
    "start_time": "2022-04-28T11:49:56.944Z"
   },
   {
    "duration": 33,
    "start_time": "2022-04-28T11:49:56.974Z"
   },
   {
    "duration": 154,
    "start_time": "2022-04-28T11:49:57.009Z"
   },
   {
    "duration": 9,
    "start_time": "2022-04-28T11:49:57.165Z"
   },
   {
    "duration": 185,
    "start_time": "2022-04-28T11:49:57.176Z"
   },
   {
    "duration": 188,
    "start_time": "2022-04-28T11:49:57.363Z"
   },
   {
    "duration": 9,
    "start_time": "2022-04-28T11:49:57.553Z"
   },
   {
    "duration": 131,
    "start_time": "2022-04-28T11:49:57.563Z"
   },
   {
    "duration": 181,
    "start_time": "2022-04-28T11:49:57.695Z"
   },
   {
    "duration": 9,
    "start_time": "2022-04-28T11:49:57.878Z"
   },
   {
    "duration": 128,
    "start_time": "2022-04-28T11:49:57.888Z"
   },
   {
    "duration": 169,
    "start_time": "2022-04-28T11:49:58.018Z"
   },
   {
    "duration": 10,
    "start_time": "2022-04-28T11:49:58.188Z"
   },
   {
    "duration": 119,
    "start_time": "2022-04-28T11:49:58.207Z"
   },
   {
    "duration": 167,
    "start_time": "2022-04-28T11:49:58.328Z"
   },
   {
    "duration": 14,
    "start_time": "2022-04-28T11:49:58.497Z"
   },
   {
    "duration": 141,
    "start_time": "2022-04-28T11:49:58.512Z"
   },
   {
    "duration": 15,
    "start_time": "2022-04-28T11:49:58.655Z"
   },
   {
    "duration": 6,
    "start_time": "2022-04-28T11:49:58.671Z"
   },
   {
    "duration": 228,
    "start_time": "2022-04-28T11:49:58.679Z"
   },
   {
    "duration": 5,
    "start_time": "2022-04-28T11:49:58.909Z"
   },
   {
    "duration": 207,
    "start_time": "2022-04-28T11:49:58.916Z"
   },
   {
    "duration": 5,
    "start_time": "2022-04-28T11:49:59.125Z"
   },
   {
    "duration": 269,
    "start_time": "2022-04-28T11:49:59.132Z"
   },
   {
    "duration": 274,
    "start_time": "2022-04-28T11:49:59.403Z"
   },
   {
    "duration": 217,
    "start_time": "2022-04-28T11:49:59.679Z"
   },
   {
    "duration": 321,
    "start_time": "2022-04-28T11:49:59.897Z"
   },
   {
    "duration": 254,
    "start_time": "2022-04-28T11:50:00.220Z"
   },
   {
    "duration": 9,
    "start_time": "2022-04-28T11:50:00.476Z"
   },
   {
    "duration": 42,
    "start_time": "2022-04-28T11:50:00.486Z"
   },
   {
    "duration": 32,
    "start_time": "2022-04-28T11:50:00.530Z"
   },
   {
    "duration": 51,
    "start_time": "2022-04-28T11:50:00.564Z"
   },
   {
    "duration": 40,
    "start_time": "2022-04-28T11:50:00.617Z"
   },
   {
    "duration": 58,
    "start_time": "2022-04-28T11:50:00.659Z"
   },
   {
    "duration": 29,
    "start_time": "2022-04-28T11:50:00.719Z"
   },
   {
    "duration": 31,
    "start_time": "2022-04-28T11:50:00.750Z"
   },
   {
    "duration": 189,
    "start_time": "2022-04-28T11:50:00.783Z"
   },
   {
    "duration": 45,
    "start_time": "2022-04-28T11:50:00.974Z"
   },
   {
    "duration": 75,
    "start_time": "2022-04-28T11:50:01.021Z"
   },
   {
    "duration": 4,
    "start_time": "2022-04-28T11:50:01.107Z"
   },
   {
    "duration": 79,
    "start_time": "2022-04-28T11:55:40.550Z"
   },
   {
    "duration": 5,
    "start_time": "2022-04-28T11:59:05.783Z"
   },
   {
    "duration": 1115,
    "start_time": "2022-04-28T12:11:57.010Z"
   },
   {
    "duration": 6,
    "start_time": "2022-04-28T12:12:13.439Z"
   },
   {
    "duration": 159,
    "start_time": "2022-04-28T12:17:45.395Z"
   },
   {
    "duration": 160,
    "start_time": "2022-04-28T12:18:35.272Z"
   },
   {
    "duration": 9,
    "start_time": "2022-04-28T12:31:16.107Z"
   },
   {
    "duration": 1142,
    "start_time": "2022-04-28T12:31:36.679Z"
   },
   {
    "duration": 8,
    "start_time": "2022-04-28T12:33:21.918Z"
   },
   {
    "duration": 75,
    "start_time": "2022-04-28T12:37:49.611Z"
   },
   {
    "duration": 40,
    "start_time": "2022-04-28T12:37:57.861Z"
   },
   {
    "duration": 6,
    "start_time": "2022-04-28T12:41:06.260Z"
   },
   {
    "duration": 172,
    "start_time": "2022-04-28T12:41:12.812Z"
   },
   {
    "duration": 211,
    "start_time": "2022-04-28T12:41:50.389Z"
   },
   {
    "duration": 176,
    "start_time": "2022-04-28T12:42:32.763Z"
   },
   {
    "duration": 65,
    "start_time": "2022-04-28T12:43:25.702Z"
   },
   {
    "duration": 79,
    "start_time": "2022-04-28T12:44:35.011Z"
   },
   {
    "duration": 9,
    "start_time": "2022-04-28T12:45:41.714Z"
   },
   {
    "duration": 6,
    "start_time": "2022-04-28T12:46:23.627Z"
   },
   {
    "duration": 229,
    "start_time": "2022-04-28T12:48:09.689Z"
   },
   {
    "duration": 372,
    "start_time": "2022-04-28T12:49:48.628Z"
   },
   {
    "duration": 211,
    "start_time": "2022-04-28T12:49:52.927Z"
   },
   {
    "duration": 6,
    "start_time": "2022-04-28T12:52:45.125Z"
   },
   {
    "duration": 8,
    "start_time": "2022-04-28T12:54:38.461Z"
   },
   {
    "duration": 5,
    "start_time": "2022-04-28T12:54:47.739Z"
   },
   {
    "duration": 163,
    "start_time": "2022-04-28T12:55:12.943Z"
   },
   {
    "duration": 125,
    "start_time": "2022-04-28T12:59:44.828Z"
   },
   {
    "duration": 15,
    "start_time": "2022-04-28T12:59:45.123Z"
   },
   {
    "duration": 85,
    "start_time": "2022-04-28T12:59:45.334Z"
   },
   {
    "duration": 10,
    "start_time": "2022-04-28T12:59:45.672Z"
   },
   {
    "duration": 6,
    "start_time": "2022-04-28T12:59:45.984Z"
   },
   {
    "duration": 27,
    "start_time": "2022-04-28T12:59:46.222Z"
   },
   {
    "duration": 5,
    "start_time": "2022-04-28T12:59:46.250Z"
   },
   {
    "duration": 7,
    "start_time": "2022-04-28T12:59:46.256Z"
   },
   {
    "duration": 6,
    "start_time": "2022-04-28T12:59:46.265Z"
   },
   {
    "duration": 4,
    "start_time": "2022-04-28T12:59:46.273Z"
   },
   {
    "duration": 53,
    "start_time": "2022-04-28T12:59:46.306Z"
   },
   {
    "duration": 66,
    "start_time": "2022-04-28T12:59:46.361Z"
   },
   {
    "duration": 38,
    "start_time": "2022-04-28T12:59:46.429Z"
   },
   {
    "duration": 66,
    "start_time": "2022-04-28T12:59:46.468Z"
   },
   {
    "duration": 4,
    "start_time": "2022-04-28T12:59:46.536Z"
   },
   {
    "duration": 11,
    "start_time": "2022-04-28T12:59:46.542Z"
   },
   {
    "duration": 62,
    "start_time": "2022-04-28T12:59:46.554Z"
   },
   {
    "duration": 17,
    "start_time": "2022-04-28T12:59:46.617Z"
   },
   {
    "duration": 5,
    "start_time": "2022-04-28T12:59:46.635Z"
   },
   {
    "duration": 81,
    "start_time": "2022-04-28T12:59:46.641Z"
   },
   {
    "duration": 5,
    "start_time": "2022-04-28T12:59:46.724Z"
   },
   {
    "duration": 39,
    "start_time": "2022-04-28T12:59:46.731Z"
   },
   {
    "duration": 35,
    "start_time": "2022-04-28T12:59:46.772Z"
   },
   {
    "duration": 15,
    "start_time": "2022-04-28T12:59:46.809Z"
   },
   {
    "duration": 7,
    "start_time": "2022-04-28T12:59:46.826Z"
   },
   {
    "duration": 32,
    "start_time": "2022-04-28T12:59:46.835Z"
   },
   {
    "duration": 61,
    "start_time": "2022-04-28T12:59:46.869Z"
   },
   {
    "duration": 46,
    "start_time": "2022-04-28T12:59:46.932Z"
   },
   {
    "duration": 3,
    "start_time": "2022-04-28T12:59:46.981Z"
   },
   {
    "duration": 988,
    "start_time": "2022-04-28T12:59:46.986Z"
   },
   {
    "duration": 33,
    "start_time": "2022-04-28T12:59:47.976Z"
   },
   {
    "duration": 31,
    "start_time": "2022-04-28T12:59:48.011Z"
   },
   {
    "duration": 9,
    "start_time": "2022-04-28T12:59:48.043Z"
   },
   {
    "duration": 178,
    "start_time": "2022-04-28T12:59:48.053Z"
   },
   {
    "duration": 11,
    "start_time": "2022-04-28T12:59:48.232Z"
   },
   {
    "duration": 153,
    "start_time": "2022-04-28T12:59:48.245Z"
   },
   {
    "duration": 224,
    "start_time": "2022-04-28T12:59:48.401Z"
   },
   {
    "duration": 12,
    "start_time": "2022-04-28T12:59:48.626Z"
   },
   {
    "duration": 138,
    "start_time": "2022-04-28T12:59:48.640Z"
   },
   {
    "duration": 180,
    "start_time": "2022-04-28T12:59:48.780Z"
   },
   {
    "duration": 10,
    "start_time": "2022-04-28T12:59:48.962Z"
   },
   {
    "duration": 140,
    "start_time": "2022-04-28T12:59:48.974Z"
   },
   {
    "duration": 170,
    "start_time": "2022-04-28T12:59:49.115Z"
   },
   {
    "duration": 24,
    "start_time": "2022-04-28T12:59:49.287Z"
   },
   {
    "duration": 137,
    "start_time": "2022-04-28T12:59:49.312Z"
   },
   {
    "duration": 182,
    "start_time": "2022-04-28T12:59:49.450Z"
   },
   {
    "duration": 11,
    "start_time": "2022-04-28T12:59:49.634Z"
   },
   {
    "duration": 153,
    "start_time": "2022-04-28T12:59:49.646Z"
   },
   {
    "duration": 18,
    "start_time": "2022-04-28T12:59:49.801Z"
   },
   {
    "duration": 6,
    "start_time": "2022-04-28T12:59:49.821Z"
   },
   {
    "duration": 230,
    "start_time": "2022-04-28T12:59:49.828Z"
   },
   {
    "duration": 7,
    "start_time": "2022-04-28T12:59:50.060Z"
   },
   {
    "duration": 216,
    "start_time": "2022-04-28T12:59:50.069Z"
   },
   {
    "duration": 6,
    "start_time": "2022-04-28T12:59:50.287Z"
   },
   {
    "duration": 207,
    "start_time": "2022-04-28T12:59:50.308Z"
   },
   {
    "duration": 271,
    "start_time": "2022-04-28T12:59:50.517Z"
   },
   {
    "duration": 225,
    "start_time": "2022-04-28T12:59:50.790Z"
   },
   {
    "duration": 335,
    "start_time": "2022-04-28T12:59:51.017Z"
   },
   {
    "duration": 281,
    "start_time": "2022-04-28T12:59:51.353Z"
   },
   {
    "duration": 9,
    "start_time": "2022-04-28T12:59:51.635Z"
   },
   {
    "duration": 21,
    "start_time": "2022-04-28T12:59:51.646Z"
   },
   {
    "duration": 9,
    "start_time": "2022-04-28T12:59:51.669Z"
   },
   {
    "duration": 34,
    "start_time": "2022-04-28T12:59:51.680Z"
   },
   {
    "duration": 9,
    "start_time": "2022-04-28T12:59:51.716Z"
   },
   {
    "duration": 53,
    "start_time": "2022-04-28T12:59:51.727Z"
   },
   {
    "duration": 67,
    "start_time": "2022-04-28T12:59:51.782Z"
   },
   {
    "duration": 17,
    "start_time": "2022-04-28T12:59:51.851Z"
   },
   {
    "duration": 208,
    "start_time": "2022-04-28T12:59:51.869Z"
   },
   {
    "duration": 43,
    "start_time": "2022-04-28T12:59:52.079Z"
   },
   {
    "duration": 30,
    "start_time": "2022-04-28T12:59:52.124Z"
   },
   {
    "duration": 6,
    "start_time": "2022-04-28T12:59:52.156Z"
   },
   {
    "duration": 67562,
    "start_time": "2022-04-28T12:59:52.164Z"
   },
   {
    "duration": 5,
    "start_time": "2022-04-28T13:00:59.728Z"
   },
   {
    "duration": 164,
    "start_time": "2022-04-28T13:00:59.735Z"
   },
   {
    "duration": 187,
    "start_time": "2022-04-28T13:00:59.900Z"
   },
   {
    "duration": 247,
    "start_time": "2022-04-28T13:01:00.089Z"
   },
   {
    "duration": 289,
    "start_time": "2022-04-28T13:01:00.338Z"
   },
   {
    "duration": 223,
    "start_time": "2022-04-28T13:01:00.628Z"
   },
   {
    "duration": 66167,
    "start_time": "2022-04-28T13:03:32.685Z"
   },
   {
    "duration": 195,
    "start_time": "2022-04-28T13:07:20.263Z"
   },
   {
    "duration": 91,
    "start_time": "2022-04-28T13:07:40.514Z"
   },
   {
    "duration": 1681,
    "start_time": "2022-04-28T13:08:33.828Z"
   },
   {
    "duration": 184,
    "start_time": "2022-04-28T13:08:45.093Z"
   },
   {
    "duration": 6,
    "start_time": "2022-04-28T13:12:40.720Z"
   },
   {
    "duration": 149,
    "start_time": "2022-04-28T13:12:53.816Z"
   },
   {
    "duration": 13,
    "start_time": "2022-04-28T13:20:17.986Z"
   },
   {
    "duration": 10,
    "start_time": "2022-04-28T13:21:36.709Z"
   }
  ],
  "kernelspec": {
   "display_name": "Python 3 (ipykernel)",
   "language": "python",
   "name": "python3"
  },
  "language_info": {
   "codemirror_mode": {
    "name": "ipython",
    "version": 3
   },
   "file_extension": ".py",
   "mimetype": "text/x-python",
   "name": "python",
   "nbconvert_exporter": "python",
   "pygments_lexer": "ipython3",
   "version": "3.9.12"
  },
  "toc": {
   "base_numbering": 1,
   "nav_menu": {},
   "number_sections": true,
   "sideBar": true,
   "skip_h1_title": true,
   "title_cell": "Содержание",
   "title_sidebar": "Contents",
   "toc_cell": true,
   "toc_position": {
    "height": "calc(100% - 180px)",
    "left": "10px",
    "top": "150px",
    "width": "236.4px"
   },
   "toc_section_display": true,
   "toc_window_display": true
  }
 },
 "nbformat": 4,
 "nbformat_minor": 4
}
