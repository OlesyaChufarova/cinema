{
 "cells": [
  {
   "cell_type": "markdown",
   "metadata": {
    "id": "sIfNaMOxgFyK"
   },
   "source": [
    "## Исследование данных о российском кинопрокате\n",
    "\n"
   ]
  },
  {
   "cell_type": "markdown",
   "metadata": {},
   "source": [
    "\n",
    "Нам необходимо изучить рынок российского кинопроката и выявить текущие тренды. \n",
    "Уделим внимание фильмам, которые получили государственную поддержку. \n",
    "Попробуем ответить на вопрос, насколько такие фильмы интересны зрителю.\n"
   ]
  },
  {
   "cell_type": "markdown",
   "metadata": {
    "id": "3bSlkCsbgFyL"
   },
   "source": [
    "### Шаг 1. Откройте файлы с данными и объедините их в один датафрейм. \n",
    "\n",
    "Объедините данные таким образом, чтобы все объекты из датасета `mkrf_movies` обязательно вошли в получившийся датафрейм. \n",
    "\n",
    "<div id=\"accordion\">\n",
    "    <div class=\"card\">\n",
    "        <div class=\"card-header\" id=\"headingThree\">\n",
    "            <button class=\"btn btn-link collapsed\" data-toggle=\"collapse\" data-target=\"#collapseHint_0\" aria-expanded=\"false\" aria-controls=\"collapseHint_0\">Подсказка</button>\n",
    "        </div>\n",
    "        <div id=\"collapseHint_0\" class=\"collapse\" aria-labelledby=\"headingThree\" data-parent=\"#accordion\">\n",
    "            <div class=\"card-body\">\n",
    "Обратите внимание на тип данных столбца, по которому будете соединять датафреймы. Тип данных этих столбцов должен быть одинаковым в обоих датафреймах.\n",
    "            </div>\n",
    "        </div>\n",
    "    </div>\n",
    "</div>"
   ]
  },
  {
   "cell_type": "code",
   "execution_count": 1,
   "metadata": {
    "id": "dw87FlzMgFyM"
   },
   "outputs": [
    {
     "name": "stdout",
     "output_type": "stream",
     "text": [
      "<class 'pandas.core.frame.DataFrame'>\n",
      "RangeIndex: 7486 entries, 0 to 7485\n",
      "Data columns (total 15 columns):\n",
      " #   Column                 Non-Null Count  Dtype  \n",
      "---  ------                 --------------  -----  \n",
      " 0   title                  7486 non-null   object \n",
      " 1   puNumber               7486 non-null   object \n",
      " 2   show_start_date        7486 non-null   object \n",
      " 3   type                   7486 non-null   object \n",
      " 4   film_studio            7468 non-null   object \n",
      " 5   production_country     7484 non-null   object \n",
      " 6   director               7477 non-null   object \n",
      " 7   producer               6918 non-null   object \n",
      " 8   age_restriction        7486 non-null   object \n",
      " 9   refundable_support     332 non-null    float64\n",
      " 10  nonrefundable_support  332 non-null    float64\n",
      " 11  budget                 332 non-null    float64\n",
      " 12  financing_source       332 non-null    object \n",
      " 13  ratings                6519 non-null   object \n",
      " 14  genres                 6510 non-null   object \n",
      "dtypes: float64(3), object(12)\n",
      "memory usage: 877.4+ KB\n"
     ]
    },
    {
     "data": {
      "text/html": [
       "<div>\n",
       "<style scoped>\n",
       "    .dataframe tbody tr th:only-of-type {\n",
       "        vertical-align: middle;\n",
       "    }\n",
       "\n",
       "    .dataframe tbody tr th {\n",
       "        vertical-align: top;\n",
       "    }\n",
       "\n",
       "    .dataframe thead th {\n",
       "        text-align: right;\n",
       "    }\n",
       "</style>\n",
       "<table border=\"1\" class=\"dataframe\">\n",
       "  <thead>\n",
       "    <tr style=\"text-align: right;\">\n",
       "      <th></th>\n",
       "      <th>title</th>\n",
       "      <th>puNumber</th>\n",
       "      <th>show_start_date</th>\n",
       "      <th>type</th>\n",
       "      <th>film_studio</th>\n",
       "      <th>production_country</th>\n",
       "      <th>director</th>\n",
       "      <th>producer</th>\n",
       "      <th>age_restriction</th>\n",
       "      <th>refundable_support</th>\n",
       "      <th>nonrefundable_support</th>\n",
       "      <th>budget</th>\n",
       "      <th>financing_source</th>\n",
       "      <th>ratings</th>\n",
       "      <th>genres</th>\n",
       "    </tr>\n",
       "  </thead>\n",
       "  <tbody>\n",
       "    <tr>\n",
       "      <th>0</th>\n",
       "      <td>Открытый простор</td>\n",
       "      <td>221048915</td>\n",
       "      <td>2015-11-27T12:00:00.000Z</td>\n",
       "      <td>Художественный</td>\n",
       "      <td>Тачстоун Пикчерз, Кобальт Пикчерз, Бикон Пикче...</td>\n",
       "      <td>США</td>\n",
       "      <td>Кевин Костнер</td>\n",
       "      <td>Дэвид Валдес, Кевин Костнер, Джейк Эбертс</td>\n",
       "      <td>«18+» - запрещено для детей</td>\n",
       "      <td>NaN</td>\n",
       "      <td>NaN</td>\n",
       "      <td>NaN</td>\n",
       "      <td>NaN</td>\n",
       "      <td>7.2</td>\n",
       "      <td>боевик,драма,мелодрама</td>\n",
       "    </tr>\n",
       "    <tr>\n",
       "      <th>1</th>\n",
       "      <td>Особо важное задание</td>\n",
       "      <td>111013716</td>\n",
       "      <td>2016-09-13T12:00:00.000Z</td>\n",
       "      <td>Художественный</td>\n",
       "      <td>Киностудия \"Мосфильм\"</td>\n",
       "      <td>СССР</td>\n",
       "      <td>Е.Матвеев</td>\n",
       "      <td>NaN</td>\n",
       "      <td>«6+» - для детей старше 6 лет</td>\n",
       "      <td>NaN</td>\n",
       "      <td>NaN</td>\n",
       "      <td>NaN</td>\n",
       "      <td>NaN</td>\n",
       "      <td>6.6</td>\n",
       "      <td>драма,военный</td>\n",
       "    </tr>\n",
       "    <tr>\n",
       "      <th>2</th>\n",
       "      <td>Особо опасен</td>\n",
       "      <td>221038416</td>\n",
       "      <td>2016-10-10T12:00:00.000Z</td>\n",
       "      <td>Художественный</td>\n",
       "      <td>Юниверсал Пикчерз, Кикстарт Продакшнз, Марк Пл...</td>\n",
       "      <td>США</td>\n",
       "      <td>Тимур Бекмамбетов</td>\n",
       "      <td>Джим Лемли, Джейсон Нетер, Марк Е.Платт, Яйн Смит</td>\n",
       "      <td>«18+» - запрещено для детей</td>\n",
       "      <td>NaN</td>\n",
       "      <td>NaN</td>\n",
       "      <td>NaN</td>\n",
       "      <td>NaN</td>\n",
       "      <td>6.8</td>\n",
       "      <td>фантастика,боевик,триллер</td>\n",
       "    </tr>\n",
       "    <tr>\n",
       "      <th>3</th>\n",
       "      <td>Особо опасен</td>\n",
       "      <td>221026916</td>\n",
       "      <td>2016-06-10T12:00:00.000Z</td>\n",
       "      <td>Художественный</td>\n",
       "      <td>Юниверсал Пикчерз, Кикстарт Продакшнз, Марк Пл...</td>\n",
       "      <td>США</td>\n",
       "      <td>Тимур Бекмамбетов</td>\n",
       "      <td>Джим Лемли, Джейсон Нетер, Марк Е.Платт, Яйн Смит</td>\n",
       "      <td>«18+» - запрещено для детей</td>\n",
       "      <td>NaN</td>\n",
       "      <td>NaN</td>\n",
       "      <td>NaN</td>\n",
       "      <td>NaN</td>\n",
       "      <td>6.8</td>\n",
       "      <td>фантастика,боевик,триллер</td>\n",
       "    </tr>\n",
       "    <tr>\n",
       "      <th>4</th>\n",
       "      <td>Особо опасен</td>\n",
       "      <td>221030815</td>\n",
       "      <td>2015-07-29T12:00:00.000Z</td>\n",
       "      <td>Художественный</td>\n",
       "      <td>Юниверсал Пикчерз, Кикстарт Продакшнз, Марк Пл...</td>\n",
       "      <td>США</td>\n",
       "      <td>Тимур Бекмамбетов</td>\n",
       "      <td>Джим Лемли, Джейсон Нетер, Марк Е.Платт, Яйн Смит</td>\n",
       "      <td>«18+» - запрещено для детей</td>\n",
       "      <td>NaN</td>\n",
       "      <td>NaN</td>\n",
       "      <td>NaN</td>\n",
       "      <td>NaN</td>\n",
       "      <td>6.8</td>\n",
       "      <td>фантастика,боевик,триллер</td>\n",
       "    </tr>\n",
       "    <tr>\n",
       "      <th>...</th>\n",
       "      <td>...</td>\n",
       "      <td>...</td>\n",
       "      <td>...</td>\n",
       "      <td>...</td>\n",
       "      <td>...</td>\n",
       "      <td>...</td>\n",
       "      <td>...</td>\n",
       "      <td>...</td>\n",
       "      <td>...</td>\n",
       "      <td>...</td>\n",
       "      <td>...</td>\n",
       "      <td>...</td>\n",
       "      <td>...</td>\n",
       "      <td>...</td>\n",
       "      <td>...</td>\n",
       "    </tr>\n",
       "    <tr>\n",
       "      <th>7481</th>\n",
       "      <td>Сад художника: Американский импрессионизм</td>\n",
       "      <td>126008019</td>\n",
       "      <td>2019-12-23T12:00:00.000Z</td>\n",
       "      <td>Прочие</td>\n",
       "      <td>Севен Артс Продакшнз</td>\n",
       "      <td>Великобритания</td>\n",
       "      <td>Фил Грабски</td>\n",
       "      <td>Фил Грабски</td>\n",
       "      <td>«12+» - для детей старше 12 лет</td>\n",
       "      <td>NaN</td>\n",
       "      <td>NaN</td>\n",
       "      <td>NaN</td>\n",
       "      <td>NaN</td>\n",
       "      <td>NaN</td>\n",
       "      <td>NaN</td>\n",
       "    </tr>\n",
       "    <tr>\n",
       "      <th>7482</th>\n",
       "      <td>Звериная ярость</td>\n",
       "      <td>121037819</td>\n",
       "      <td>2019-12-24T12:00:00.000Z</td>\n",
       "      <td>Художественный</td>\n",
       "      <td>Дэниел Гродник Продакшнз, Вандерфилм Медиа Кор...</td>\n",
       "      <td>США</td>\n",
       "      <td>Ник Пауэлл</td>\n",
       "      <td>Джефф Боулер, Дэниэл Гродник, Луильо Руис, Брэ...</td>\n",
       "      <td>«16+» - для детей старше 16 лет</td>\n",
       "      <td>NaN</td>\n",
       "      <td>NaN</td>\n",
       "      <td>NaN</td>\n",
       "      <td>NaN</td>\n",
       "      <td>5.4</td>\n",
       "      <td>боевик,триллер</td>\n",
       "    </tr>\n",
       "    <tr>\n",
       "      <th>7483</th>\n",
       "      <td>Щенячий патруль: Скорей спешим на помощь!</td>\n",
       "      <td>124010819</td>\n",
       "      <td>2019-12-28T12:00:00.000Z</td>\n",
       "      <td>Художественный</td>\n",
       "      <td>Никелодеон Анимейшн Студиос, Спин Мастер</td>\n",
       "      <td>США - Канада</td>\n",
       "      <td>Чарльз Е.Бастьен</td>\n",
       "      <td>Дженнифер Додж</td>\n",
       "      <td>«0+» - для любой зрительской аудитории</td>\n",
       "      <td>NaN</td>\n",
       "      <td>NaN</td>\n",
       "      <td>NaN</td>\n",
       "      <td>NaN</td>\n",
       "      <td>NaN</td>\n",
       "      <td>NaN</td>\n",
       "    </tr>\n",
       "    <tr>\n",
       "      <th>7484</th>\n",
       "      <td>Машины песенки. Серия \"Испанские мотивы\"</td>\n",
       "      <td>124010619</td>\n",
       "      <td>2019-12-30T12:00:00.000Z</td>\n",
       "      <td>Анимационный</td>\n",
       "      <td>Анимаккорд Лтд., ООО Студия \"АНИМАККОРД\"</td>\n",
       "      <td>Республика Кипр, Россия</td>\n",
       "      <td>А.Беляев</td>\n",
       "      <td>Д.Ловейко</td>\n",
       "      <td>«0+» - для любой зрительской аудитории</td>\n",
       "      <td>NaN</td>\n",
       "      <td>NaN</td>\n",
       "      <td>NaN</td>\n",
       "      <td>NaN</td>\n",
       "      <td>NaN</td>\n",
       "      <td>NaN</td>\n",
       "    </tr>\n",
       "    <tr>\n",
       "      <th>7485</th>\n",
       "      <td>Машины песенки. Серия \"Когда цветут кактусы\"</td>\n",
       "      <td>124010719</td>\n",
       "      <td>2019-12-30T12:00:00.000Z</td>\n",
       "      <td>Анимационный</td>\n",
       "      <td>Анимаккорд Лтд., ООО Студия \"АНИМАККОРД\"</td>\n",
       "      <td>Республика Кипр, Россия</td>\n",
       "      <td>И.Трусов</td>\n",
       "      <td>Д.Ловейко</td>\n",
       "      <td>«0+» - для любой зрительской аудитории</td>\n",
       "      <td>NaN</td>\n",
       "      <td>NaN</td>\n",
       "      <td>NaN</td>\n",
       "      <td>NaN</td>\n",
       "      <td>6.3</td>\n",
       "      <td>комедия,вестерн</td>\n",
       "    </tr>\n",
       "  </tbody>\n",
       "</table>\n",
       "<p>7486 rows × 15 columns</p>\n",
       "</div>"
      ],
      "text/plain": [
       "                                             title   puNumber  \\\n",
       "0                                 Открытый простор  221048915   \n",
       "1                             Особо важное задание  111013716   \n",
       "2                                     Особо опасен  221038416   \n",
       "3                                     Особо опасен  221026916   \n",
       "4                                     Особо опасен  221030815   \n",
       "...                                            ...        ...   \n",
       "7481     Сад художника: Американский импрессионизм  126008019   \n",
       "7482                               Звериная ярость  121037819   \n",
       "7483     Щенячий патруль: Скорей спешим на помощь!  124010819   \n",
       "7484      Машины песенки. Серия \"Испанские мотивы\"  124010619   \n",
       "7485  Машины песенки. Серия \"Когда цветут кактусы\"  124010719   \n",
       "\n",
       "               show_start_date             type  \\\n",
       "0     2015-11-27T12:00:00.000Z   Художественный   \n",
       "1     2016-09-13T12:00:00.000Z   Художественный   \n",
       "2     2016-10-10T12:00:00.000Z   Художественный   \n",
       "3     2016-06-10T12:00:00.000Z   Художественный   \n",
       "4     2015-07-29T12:00:00.000Z   Художественный   \n",
       "...                        ...              ...   \n",
       "7481  2019-12-23T12:00:00.000Z           Прочие   \n",
       "7482  2019-12-24T12:00:00.000Z   Художественный   \n",
       "7483  2019-12-28T12:00:00.000Z   Художественный   \n",
       "7484  2019-12-30T12:00:00.000Z     Анимационный   \n",
       "7485  2019-12-30T12:00:00.000Z     Анимационный   \n",
       "\n",
       "                                            film_studio  \\\n",
       "0     Тачстоун Пикчерз, Кобальт Пикчерз, Бикон Пикче...   \n",
       "1                                 Киностудия \"Мосфильм\"   \n",
       "2     Юниверсал Пикчерз, Кикстарт Продакшнз, Марк Пл...   \n",
       "3     Юниверсал Пикчерз, Кикстарт Продакшнз, Марк Пл...   \n",
       "4     Юниверсал Пикчерз, Кикстарт Продакшнз, Марк Пл...   \n",
       "...                                                 ...   \n",
       "7481                               Севен Артс Продакшнз   \n",
       "7482  Дэниел Гродник Продакшнз, Вандерфилм Медиа Кор...   \n",
       "7483           Никелодеон Анимейшн Студиос, Спин Мастер   \n",
       "7484           Анимаккорд Лтд., ООО Студия \"АНИМАККОРД\"   \n",
       "7485           Анимаккорд Лтд., ООО Студия \"АНИМАККОРД\"   \n",
       "\n",
       "           production_country           director  \\\n",
       "0                         США      Кевин Костнер   \n",
       "1                        СССР          Е.Матвеев   \n",
       "2                         США  Тимур Бекмамбетов   \n",
       "3                         США  Тимур Бекмамбетов   \n",
       "4                         США  Тимур Бекмамбетов   \n",
       "...                       ...                ...   \n",
       "7481           Великобритания        Фил Грабски   \n",
       "7482                      США         Ник Пауэлл   \n",
       "7483             США - Канада   Чарльз Е.Бастьен   \n",
       "7484  Республика Кипр, Россия           А.Беляев   \n",
       "7485  Республика Кипр, Россия           И.Трусов   \n",
       "\n",
       "                                               producer  \\\n",
       "0             Дэвид Валдес, Кевин Костнер, Джейк Эбертс   \n",
       "1                                                   NaN   \n",
       "2     Джим Лемли, Джейсон Нетер, Марк Е.Платт, Яйн Смит   \n",
       "3     Джим Лемли, Джейсон Нетер, Марк Е.Платт, Яйн Смит   \n",
       "4     Джим Лемли, Джейсон Нетер, Марк Е.Платт, Яйн Смит   \n",
       "...                                                 ...   \n",
       "7481                                        Фил Грабски   \n",
       "7482  Джефф Боулер, Дэниэл Гродник, Луильо Руис, Брэ...   \n",
       "7483                                     Дженнифер Додж   \n",
       "7484                                          Д.Ловейко   \n",
       "7485                                          Д.Ловейко   \n",
       "\n",
       "                             age_restriction  refundable_support  \\\n",
       "0                «18+» - запрещено для детей                 NaN   \n",
       "1              «6+» - для детей старше 6 лет                 NaN   \n",
       "2                «18+» - запрещено для детей                 NaN   \n",
       "3                «18+» - запрещено для детей                 NaN   \n",
       "4                «18+» - запрещено для детей                 NaN   \n",
       "...                                      ...                 ...   \n",
       "7481         «12+» - для детей старше 12 лет                 NaN   \n",
       "7482         «16+» - для детей старше 16 лет                 NaN   \n",
       "7483  «0+» - для любой зрительской аудитории                 NaN   \n",
       "7484  «0+» - для любой зрительской аудитории                 NaN   \n",
       "7485  «0+» - для любой зрительской аудитории                 NaN   \n",
       "\n",
       "      nonrefundable_support  budget financing_source ratings  \\\n",
       "0                       NaN     NaN              NaN     7.2   \n",
       "1                       NaN     NaN              NaN     6.6   \n",
       "2                       NaN     NaN              NaN     6.8   \n",
       "3                       NaN     NaN              NaN     6.8   \n",
       "4                       NaN     NaN              NaN     6.8   \n",
       "...                     ...     ...              ...     ...   \n",
       "7481                    NaN     NaN              NaN     NaN   \n",
       "7482                    NaN     NaN              NaN     5.4   \n",
       "7483                    NaN     NaN              NaN     NaN   \n",
       "7484                    NaN     NaN              NaN     NaN   \n",
       "7485                    NaN     NaN              NaN     6.3   \n",
       "\n",
       "                         genres  \n",
       "0        боевик,драма,мелодрама  \n",
       "1                 драма,военный  \n",
       "2     фантастика,боевик,триллер  \n",
       "3     фантастика,боевик,триллер  \n",
       "4     фантастика,боевик,триллер  \n",
       "...                         ...  \n",
       "7481                        NaN  \n",
       "7482             боевик,триллер  \n",
       "7483                        NaN  \n",
       "7484                        NaN  \n",
       "7485            комедия,вестерн  \n",
       "\n",
       "[7486 rows x 15 columns]"
      ]
     },
     "execution_count": 1,
     "metadata": {},
     "output_type": "execute_result"
    }
   ],
   "source": [
    "import pandas as pd\n",
    "import numpy as np\n",
    "import matplotlib.pyplot as plt\n",
    "df = pd.read_csv('/datasets/mkrf_movies.csv')\n",
    "df.info()\n",
    "df"
   ]
  },
  {
   "cell_type": "code",
   "execution_count": 2,
   "metadata": {},
   "outputs": [
    {
     "name": "stdout",
     "output_type": "stream",
     "text": [
      "<class 'pandas.core.frame.DataFrame'>\n",
      "RangeIndex: 3158 entries, 0 to 3157\n",
      "Data columns (total 2 columns):\n",
      " #   Column      Non-Null Count  Dtype  \n",
      "---  ------      --------------  -----  \n",
      " 0   puNumber    3158 non-null   int64  \n",
      " 1   box_office  3158 non-null   float64\n",
      "dtypes: float64(1), int64(1)\n",
      "memory usage: 49.5 KB\n"
     ]
    },
    {
     "data": {
      "text/html": [
       "<div>\n",
       "<style scoped>\n",
       "    .dataframe tbody tr th:only-of-type {\n",
       "        vertical-align: middle;\n",
       "    }\n",
       "\n",
       "    .dataframe tbody tr th {\n",
       "        vertical-align: top;\n",
       "    }\n",
       "\n",
       "    .dataframe thead th {\n",
       "        text-align: right;\n",
       "    }\n",
       "</style>\n",
       "<table border=\"1\" class=\"dataframe\">\n",
       "  <thead>\n",
       "    <tr style=\"text-align: right;\">\n",
       "      <th></th>\n",
       "      <th>puNumber</th>\n",
       "      <th>box_office</th>\n",
       "    </tr>\n",
       "  </thead>\n",
       "  <tbody>\n",
       "    <tr>\n",
       "      <th>0</th>\n",
       "      <td>111000113</td>\n",
       "      <td>2.450000e+03</td>\n",
       "    </tr>\n",
       "    <tr>\n",
       "      <th>1</th>\n",
       "      <td>111000115</td>\n",
       "      <td>6.104000e+04</td>\n",
       "    </tr>\n",
       "    <tr>\n",
       "      <th>2</th>\n",
       "      <td>111000116</td>\n",
       "      <td>1.530300e+08</td>\n",
       "    </tr>\n",
       "    <tr>\n",
       "      <th>3</th>\n",
       "      <td>111000117</td>\n",
       "      <td>1.226096e+07</td>\n",
       "    </tr>\n",
       "    <tr>\n",
       "      <th>4</th>\n",
       "      <td>111000118</td>\n",
       "      <td>1.636841e+08</td>\n",
       "    </tr>\n",
       "    <tr>\n",
       "      <th>...</th>\n",
       "      <td>...</td>\n",
       "      <td>...</td>\n",
       "    </tr>\n",
       "    <tr>\n",
       "      <th>3153</th>\n",
       "      <td>224014814</td>\n",
       "      <td>1.530000e+03</td>\n",
       "    </tr>\n",
       "    <tr>\n",
       "      <th>3154</th>\n",
       "      <td>224021411</td>\n",
       "      <td>9.270000e+03</td>\n",
       "    </tr>\n",
       "    <tr>\n",
       "      <th>3155</th>\n",
       "      <td>224022410</td>\n",
       "      <td>4.000000e+02</td>\n",
       "    </tr>\n",
       "    <tr>\n",
       "      <th>3156</th>\n",
       "      <td>224023210</td>\n",
       "      <td>3.600000e+02</td>\n",
       "    </tr>\n",
       "    <tr>\n",
       "      <th>3157</th>\n",
       "      <td>224026410</td>\n",
       "      <td>4.000000e+02</td>\n",
       "    </tr>\n",
       "  </tbody>\n",
       "</table>\n",
       "<p>3158 rows × 2 columns</p>\n",
       "</div>"
      ],
      "text/plain": [
       "       puNumber    box_office\n",
       "0     111000113  2.450000e+03\n",
       "1     111000115  6.104000e+04\n",
       "2     111000116  1.530300e+08\n",
       "3     111000117  1.226096e+07\n",
       "4     111000118  1.636841e+08\n",
       "...         ...           ...\n",
       "3153  224014814  1.530000e+03\n",
       "3154  224021411  9.270000e+03\n",
       "3155  224022410  4.000000e+02\n",
       "3156  224023210  3.600000e+02\n",
       "3157  224026410  4.000000e+02\n",
       "\n",
       "[3158 rows x 2 columns]"
      ]
     },
     "execution_count": 2,
     "metadata": {},
     "output_type": "execute_result"
    }
   ],
   "source": [
    "df2 = pd.read_csv('/datasets/mkrf_shows.csv')\n",
    "df2.info()\n",
    "df2"
   ]
  },
  {
   "cell_type": "markdown",
   "metadata": {},
   "source": [
    "В обоих датафреймах есть столбец 'puNumber'. Нам необходимо объединить две таблицы, но тип данных у данного столбца разный. Приведем тип данных столбца 'puNumber' в числовой"
   ]
  },
  {
   "cell_type": "markdown",
   "metadata": {},
   "source": [
    "При попытке перевода выдает ошибку - наличие ячейки со значением 'нет'. Переведем ее в 0."
   ]
  },
  {
   "cell_type": "code",
   "execution_count": 3,
   "metadata": {},
   "outputs": [],
   "source": [
    "df.loc[df['puNumber'] == 'нет', 'puNumber'] = 0"
   ]
  },
  {
   "cell_type": "code",
   "execution_count": 4,
   "metadata": {},
   "outputs": [
    {
     "name": "stdout",
     "output_type": "stream",
     "text": [
      "<class 'pandas.core.frame.DataFrame'>\n",
      "RangeIndex: 7486 entries, 0 to 7485\n",
      "Data columns (total 15 columns):\n",
      " #   Column                 Non-Null Count  Dtype  \n",
      "---  ------                 --------------  -----  \n",
      " 0   title                  7486 non-null   object \n",
      " 1   puNumber               7486 non-null   int64  \n",
      " 2   show_start_date        7486 non-null   object \n",
      " 3   type                   7486 non-null   object \n",
      " 4   film_studio            7468 non-null   object \n",
      " 5   production_country     7484 non-null   object \n",
      " 6   director               7477 non-null   object \n",
      " 7   producer               6918 non-null   object \n",
      " 8   age_restriction        7486 non-null   object \n",
      " 9   refundable_support     332 non-null    float64\n",
      " 10  nonrefundable_support  332 non-null    float64\n",
      " 11  budget                 332 non-null    float64\n",
      " 12  financing_source       332 non-null    object \n",
      " 13  ratings                6519 non-null   object \n",
      " 14  genres                 6510 non-null   object \n",
      "dtypes: float64(3), int64(1), object(11)\n",
      "memory usage: 877.4+ KB\n"
     ]
    }
   ],
   "source": [
    "df['puNumber'] = df['puNumber'].astype('int')\n",
    "df.info()"
   ]
  },
  {
   "cell_type": "code",
   "execution_count": 5,
   "metadata": {},
   "outputs": [
    {
     "name": "stdout",
     "output_type": "stream",
     "text": [
      "<class 'pandas.core.frame.DataFrame'>\n",
      "Int64Index: 7486 entries, 0 to 7485\n",
      "Data columns (total 16 columns):\n",
      " #   Column                 Non-Null Count  Dtype  \n",
      "---  ------                 --------------  -----  \n",
      " 0   title                  7486 non-null   object \n",
      " 1   puNumber               7486 non-null   int64  \n",
      " 2   show_start_date        7486 non-null   object \n",
      " 3   type                   7486 non-null   object \n",
      " 4   film_studio            7468 non-null   object \n",
      " 5   production_country     7484 non-null   object \n",
      " 6   director               7477 non-null   object \n",
      " 7   producer               6918 non-null   object \n",
      " 8   age_restriction        7486 non-null   object \n",
      " 9   refundable_support     332 non-null    float64\n",
      " 10  nonrefundable_support  332 non-null    float64\n",
      " 11  budget                 332 non-null    float64\n",
      " 12  financing_source       332 non-null    object \n",
      " 13  ratings                6519 non-null   object \n",
      " 14  genres                 6510 non-null   object \n",
      " 15  box_office             3158 non-null   float64\n",
      "dtypes: float64(4), int64(1), object(11)\n",
      "memory usage: 994.2+ KB\n"
     ]
    }
   ],
   "source": [
    "data = df.merge(df2, on='puNumber', how='left')\n",
    "data.info()"
   ]
  },
  {
   "cell_type": "markdown",
   "metadata": {},
   "source": [
    "Все получилось, данные не потерялись"
   ]
  },
  {
   "cell_type": "markdown",
   "metadata": {
    "id": "KLDGpPG0gFyM"
   },
   "source": [
    "### Шаг 2. Предобработка данных"
   ]
  },
  {
   "cell_type": "markdown",
   "metadata": {
    "id": "ssWwKXsxgFyO"
   },
   "source": [
    "#### Шаг 2.1. Проверьте типы данных\n",
    "\n",
    "- Проверьте типы данных в датафрейме и преобразуйте их там, где это необходимо."
   ]
  },
  {
   "cell_type": "markdown",
   "metadata": {
    "id": "kVGSplJOgFyO"
   },
   "source": [
    "Типы данных проверены выше. Что мы имеем.\n",
    "\n",
    "Дата премьеры фильма show_start_date - переведем в значение дата/время\n",
    "\n",
    "Рейтинг фильма на кинопоиске - ratings - переведем в тип 'float'"
   ]
  },
  {
   "cell_type": "code",
   "execution_count": 6,
   "metadata": {},
   "outputs": [
    {
     "data": {
      "text/html": [
       "<div>\n",
       "<style scoped>\n",
       "    .dataframe tbody tr th:only-of-type {\n",
       "        vertical-align: middle;\n",
       "    }\n",
       "\n",
       "    .dataframe tbody tr th {\n",
       "        vertical-align: top;\n",
       "    }\n",
       "\n",
       "    .dataframe thead th {\n",
       "        text-align: right;\n",
       "    }\n",
       "</style>\n",
       "<table border=\"1\" class=\"dataframe\">\n",
       "  <thead>\n",
       "    <tr style=\"text-align: right;\">\n",
       "      <th></th>\n",
       "      <th>title</th>\n",
       "      <th>puNumber</th>\n",
       "      <th>show_start_date</th>\n",
       "      <th>type</th>\n",
       "      <th>film_studio</th>\n",
       "      <th>production_country</th>\n",
       "      <th>director</th>\n",
       "      <th>producer</th>\n",
       "      <th>age_restriction</th>\n",
       "      <th>refundable_support</th>\n",
       "      <th>nonrefundable_support</th>\n",
       "      <th>budget</th>\n",
       "      <th>financing_source</th>\n",
       "      <th>ratings</th>\n",
       "      <th>genres</th>\n",
       "      <th>box_office</th>\n",
       "    </tr>\n",
       "  </thead>\n",
       "  <tbody>\n",
       "    <tr>\n",
       "      <th>0</th>\n",
       "      <td>Открытый простор</td>\n",
       "      <td>221048915</td>\n",
       "      <td>2015-11-27 12:00:00</td>\n",
       "      <td>Художественный</td>\n",
       "      <td>Тачстоун Пикчерз, Кобальт Пикчерз, Бикон Пикче...</td>\n",
       "      <td>США</td>\n",
       "      <td>Кевин Костнер</td>\n",
       "      <td>Дэвид Валдес, Кевин Костнер, Джейк Эбертс</td>\n",
       "      <td>«18+» - запрещено для детей</td>\n",
       "      <td>NaN</td>\n",
       "      <td>NaN</td>\n",
       "      <td>NaN</td>\n",
       "      <td>NaN</td>\n",
       "      <td>7.2</td>\n",
       "      <td>боевик,драма,мелодрама</td>\n",
       "      <td>NaN</td>\n",
       "    </tr>\n",
       "    <tr>\n",
       "      <th>1</th>\n",
       "      <td>Особо важное задание</td>\n",
       "      <td>111013716</td>\n",
       "      <td>2016-09-13 12:00:00</td>\n",
       "      <td>Художественный</td>\n",
       "      <td>Киностудия \"Мосфильм\"</td>\n",
       "      <td>СССР</td>\n",
       "      <td>Е.Матвеев</td>\n",
       "      <td>NaN</td>\n",
       "      <td>«6+» - для детей старше 6 лет</td>\n",
       "      <td>NaN</td>\n",
       "      <td>NaN</td>\n",
       "      <td>NaN</td>\n",
       "      <td>NaN</td>\n",
       "      <td>6.6</td>\n",
       "      <td>драма,военный</td>\n",
       "      <td>NaN</td>\n",
       "    </tr>\n",
       "    <tr>\n",
       "      <th>2</th>\n",
       "      <td>Особо опасен</td>\n",
       "      <td>221038416</td>\n",
       "      <td>2016-10-10 12:00:00</td>\n",
       "      <td>Художественный</td>\n",
       "      <td>Юниверсал Пикчерз, Кикстарт Продакшнз, Марк Пл...</td>\n",
       "      <td>США</td>\n",
       "      <td>Тимур Бекмамбетов</td>\n",
       "      <td>Джим Лемли, Джейсон Нетер, Марк Е.Платт, Яйн Смит</td>\n",
       "      <td>«18+» - запрещено для детей</td>\n",
       "      <td>NaN</td>\n",
       "      <td>NaN</td>\n",
       "      <td>NaN</td>\n",
       "      <td>NaN</td>\n",
       "      <td>6.8</td>\n",
       "      <td>фантастика,боевик,триллер</td>\n",
       "      <td>NaN</td>\n",
       "    </tr>\n",
       "    <tr>\n",
       "      <th>3</th>\n",
       "      <td>Особо опасен</td>\n",
       "      <td>221026916</td>\n",
       "      <td>2016-06-10 12:00:00</td>\n",
       "      <td>Художественный</td>\n",
       "      <td>Юниверсал Пикчерз, Кикстарт Продакшнз, Марк Пл...</td>\n",
       "      <td>США</td>\n",
       "      <td>Тимур Бекмамбетов</td>\n",
       "      <td>Джим Лемли, Джейсон Нетер, Марк Е.Платт, Яйн Смит</td>\n",
       "      <td>«18+» - запрещено для детей</td>\n",
       "      <td>NaN</td>\n",
       "      <td>NaN</td>\n",
       "      <td>NaN</td>\n",
       "      <td>NaN</td>\n",
       "      <td>6.8</td>\n",
       "      <td>фантастика,боевик,триллер</td>\n",
       "      <td>NaN</td>\n",
       "    </tr>\n",
       "    <tr>\n",
       "      <th>4</th>\n",
       "      <td>Особо опасен</td>\n",
       "      <td>221030815</td>\n",
       "      <td>2015-07-29 12:00:00</td>\n",
       "      <td>Художественный</td>\n",
       "      <td>Юниверсал Пикчерз, Кикстарт Продакшнз, Марк Пл...</td>\n",
       "      <td>США</td>\n",
       "      <td>Тимур Бекмамбетов</td>\n",
       "      <td>Джим Лемли, Джейсон Нетер, Марк Е.Платт, Яйн Смит</td>\n",
       "      <td>«18+» - запрещено для детей</td>\n",
       "      <td>NaN</td>\n",
       "      <td>NaN</td>\n",
       "      <td>NaN</td>\n",
       "      <td>NaN</td>\n",
       "      <td>6.8</td>\n",
       "      <td>фантастика,боевик,триллер</td>\n",
       "      <td>NaN</td>\n",
       "    </tr>\n",
       "  </tbody>\n",
       "</table>\n",
       "</div>"
      ],
      "text/plain": [
       "                  title   puNumber     show_start_date            type  \\\n",
       "0      Открытый простор  221048915 2015-11-27 12:00:00  Художественный   \n",
       "1  Особо важное задание  111013716 2016-09-13 12:00:00  Художественный   \n",
       "2          Особо опасен  221038416 2016-10-10 12:00:00  Художественный   \n",
       "3          Особо опасен  221026916 2016-06-10 12:00:00  Художественный   \n",
       "4          Особо опасен  221030815 2015-07-29 12:00:00  Художественный   \n",
       "\n",
       "                                         film_studio production_country  \\\n",
       "0  Тачстоун Пикчерз, Кобальт Пикчерз, Бикон Пикче...                США   \n",
       "1                              Киностудия \"Мосфильм\"               СССР   \n",
       "2  Юниверсал Пикчерз, Кикстарт Продакшнз, Марк Пл...                США   \n",
       "3  Юниверсал Пикчерз, Кикстарт Продакшнз, Марк Пл...                США   \n",
       "4  Юниверсал Пикчерз, Кикстарт Продакшнз, Марк Пл...                США   \n",
       "\n",
       "            director                                           producer  \\\n",
       "0      Кевин Костнер          Дэвид Валдес, Кевин Костнер, Джейк Эбертс   \n",
       "1          Е.Матвеев                                                NaN   \n",
       "2  Тимур Бекмамбетов  Джим Лемли, Джейсон Нетер, Марк Е.Платт, Яйн Смит   \n",
       "3  Тимур Бекмамбетов  Джим Лемли, Джейсон Нетер, Марк Е.Платт, Яйн Смит   \n",
       "4  Тимур Бекмамбетов  Джим Лемли, Джейсон Нетер, Марк Е.Платт, Яйн Смит   \n",
       "\n",
       "                 age_restriction  refundable_support  nonrefundable_support  \\\n",
       "0    «18+» - запрещено для детей                 NaN                    NaN   \n",
       "1  «6+» - для детей старше 6 лет                 NaN                    NaN   \n",
       "2    «18+» - запрещено для детей                 NaN                    NaN   \n",
       "3    «18+» - запрещено для детей                 NaN                    NaN   \n",
       "4    «18+» - запрещено для детей                 NaN                    NaN   \n",
       "\n",
       "   budget financing_source ratings                     genres  box_office  \n",
       "0     NaN              NaN     7.2     боевик,драма,мелодрама         NaN  \n",
       "1     NaN              NaN     6.6              драма,военный         NaN  \n",
       "2     NaN              NaN     6.8  фантастика,боевик,триллер         NaN  \n",
       "3     NaN              NaN     6.8  фантастика,боевик,триллер         NaN  \n",
       "4     NaN              NaN     6.8  фантастика,боевик,триллер         NaN  "
      ]
     },
     "execution_count": 6,
     "metadata": {},
     "output_type": "execute_result"
    }
   ],
   "source": [
    "data['show_start_date']=pd.to_datetime(data['show_start_date'], format='%Y-%m-%dT%H:%M:%S.%fZ')\n",
    "data.head()"
   ]
  },
  {
   "cell_type": "markdown",
   "metadata": {},
   "source": [
    "При переводе столбца рейтинг фильма в числовой формат, выяснилось, что некоторые значения указаны в процентах. Разберемся с ними"
   ]
  },
  {
   "cell_type": "code",
   "execution_count": 7,
   "metadata": {},
   "outputs": [
    {
     "data": {
      "text/plain": [
       "29"
      ]
     },
     "execution_count": 7,
     "metadata": {},
     "output_type": "execute_result"
    }
   ],
   "source": [
    "data['ratings'].loc[data['ratings'].str.find('%') != -1].count()\n"
   ]
  },
  {
   "cell_type": "markdown",
   "metadata": {},
   "source": [
    "Из 6500 строк рейтинга, имеем 29 строк с процентами. Исключим данные значения"
   ]
  },
  {
   "cell_type": "code",
   "execution_count": 8,
   "metadata": {},
   "outputs": [
    {
     "data": {
      "text/html": [
       "<div>\n",
       "<style scoped>\n",
       "    .dataframe tbody tr th:only-of-type {\n",
       "        vertical-align: middle;\n",
       "    }\n",
       "\n",
       "    .dataframe tbody tr th {\n",
       "        vertical-align: top;\n",
       "    }\n",
       "\n",
       "    .dataframe thead th {\n",
       "        text-align: right;\n",
       "    }\n",
       "</style>\n",
       "<table border=\"1\" class=\"dataframe\">\n",
       "  <thead>\n",
       "    <tr style=\"text-align: right;\">\n",
       "      <th></th>\n",
       "      <th>title</th>\n",
       "      <th>puNumber</th>\n",
       "      <th>show_start_date</th>\n",
       "      <th>type</th>\n",
       "      <th>film_studio</th>\n",
       "      <th>production_country</th>\n",
       "      <th>director</th>\n",
       "      <th>producer</th>\n",
       "      <th>age_restriction</th>\n",
       "      <th>refundable_support</th>\n",
       "      <th>nonrefundable_support</th>\n",
       "      <th>budget</th>\n",
       "      <th>financing_source</th>\n",
       "      <th>ratings</th>\n",
       "      <th>genres</th>\n",
       "      <th>box_office</th>\n",
       "    </tr>\n",
       "  </thead>\n",
       "  <tbody>\n",
       "    <tr>\n",
       "      <th>3515</th>\n",
       "      <td>Взломать блогеров</td>\n",
       "      <td>111016616</td>\n",
       "      <td>2016-10-28 12:00:00</td>\n",
       "      <td>Художественный</td>\n",
       "      <td>ООО \"ТаББаК\"</td>\n",
       "      <td>Россия</td>\n",
       "      <td>М.Свешников</td>\n",
       "      <td>Т.Бекмамбетов</td>\n",
       "      <td>«6+» - для детей старше 6 лет</td>\n",
       "      <td>0.0</td>\n",
       "      <td>25000000.0</td>\n",
       "      <td>36016269.0</td>\n",
       "      <td>Фонд кино</td>\n",
       "      <td>1.0</td>\n",
       "      <td>комедия,мультфильм,фантастика</td>\n",
       "      <td>7323648.0</td>\n",
       "    </tr>\n",
       "    <tr>\n",
       "      <th>4678</th>\n",
       "      <td>Мантикора.</td>\n",
       "      <td>111011510</td>\n",
       "      <td>2010-12-17 12:00:00</td>\n",
       "      <td>Художественный</td>\n",
       "      <td>ООО \"Студия спецэффектов \"Ацидум\"</td>\n",
       "      <td>Россия</td>\n",
       "      <td>Вл.Китт</td>\n",
       "      <td>В.Музыченков</td>\n",
       "      <td>«16+» - для детей старше 16 лет</td>\n",
       "      <td>NaN</td>\n",
       "      <td>NaN</td>\n",
       "      <td>NaN</td>\n",
       "      <td>NaN</td>\n",
       "      <td>1.1</td>\n",
       "      <td>триллер</td>\n",
       "      <td>NaN</td>\n",
       "    </tr>\n",
       "    <tr>\n",
       "      <th>1535</th>\n",
       "      <td>Кавказ.</td>\n",
       "      <td>111009413</td>\n",
       "      <td>2013-11-26 12:00:00</td>\n",
       "      <td>Художественный</td>\n",
       "      <td>Юнайтед Мультимедиа Проджектс, Метрополь</td>\n",
       "      <td>Азербайджан-Россия</td>\n",
       "      <td>Фарид Гумбатов</td>\n",
       "      <td>Рауф Атамалибеков, Фарид Гумбатов</td>\n",
       "      <td>«16+» - для детей старше 16 лет</td>\n",
       "      <td>NaN</td>\n",
       "      <td>NaN</td>\n",
       "      <td>NaN</td>\n",
       "      <td>NaN</td>\n",
       "      <td>1.1</td>\n",
       "      <td>комедия</td>\n",
       "      <td>NaN</td>\n",
       "    </tr>\n",
       "    <tr>\n",
       "      <th>4794</th>\n",
       "      <td>Приключения в тридесятом царстве.</td>\n",
       "      <td>111006610</td>\n",
       "      <td>2010-06-18 12:00:00</td>\n",
       "      <td>Художественный</td>\n",
       "      <td>ООО Киностудия \"ЮНОСТЬ\"</td>\n",
       "      <td>Россия</td>\n",
       "      <td>В.Ивановская</td>\n",
       "      <td>В.Бердочкин</td>\n",
       "      <td>«0+» - для любой зрительской аудитории</td>\n",
       "      <td>NaN</td>\n",
       "      <td>NaN</td>\n",
       "      <td>NaN</td>\n",
       "      <td>NaN</td>\n",
       "      <td>1.2</td>\n",
       "      <td>детский,фэнтези,приключения</td>\n",
       "      <td>24978.0</td>\n",
       "    </tr>\n",
       "    <tr>\n",
       "      <th>4014</th>\n",
       "      <td>Кукарача 3D</td>\n",
       "      <td>114000111</td>\n",
       "      <td>2011-03-10 12:00:00</td>\n",
       "      <td>Анимационный</td>\n",
       "      <td>ЗАО \"Продюсерский центр \"Парадиз\"</td>\n",
       "      <td>Россия</td>\n",
       "      <td>А.Адилханян</td>\n",
       "      <td>Г.Нерсисян</td>\n",
       "      <td>«0+» - для любой зрительской аудитории</td>\n",
       "      <td>NaN</td>\n",
       "      <td>NaN</td>\n",
       "      <td>NaN</td>\n",
       "      <td>NaN</td>\n",
       "      <td>1.3</td>\n",
       "      <td>мультфильм,комедия</td>\n",
       "      <td>NaN</td>\n",
       "    </tr>\n",
       "    <tr>\n",
       "      <th>...</th>\n",
       "      <td>...</td>\n",
       "      <td>...</td>\n",
       "      <td>...</td>\n",
       "      <td>...</td>\n",
       "      <td>...</td>\n",
       "      <td>...</td>\n",
       "      <td>...</td>\n",
       "      <td>...</td>\n",
       "      <td>...</td>\n",
       "      <td>...</td>\n",
       "      <td>...</td>\n",
       "      <td>...</td>\n",
       "      <td>...</td>\n",
       "      <td>...</td>\n",
       "      <td>...</td>\n",
       "      <td>...</td>\n",
       "    </tr>\n",
       "    <tr>\n",
       "      <th>7479</th>\n",
       "      <td>Эколав</td>\n",
       "      <td>111023219</td>\n",
       "      <td>2019-12-26 12:00:00</td>\n",
       "      <td>Художественный</td>\n",
       "      <td>ВГИК</td>\n",
       "      <td>Россия</td>\n",
       "      <td>Д.Григорьев</td>\n",
       "      <td>ВГИК</td>\n",
       "      <td>«18+» - запрещено для детей</td>\n",
       "      <td>NaN</td>\n",
       "      <td>NaN</td>\n",
       "      <td>NaN</td>\n",
       "      <td>NaN</td>\n",
       "      <td>NaN</td>\n",
       "      <td>NaN</td>\n",
       "      <td>NaN</td>\n",
       "    </tr>\n",
       "    <tr>\n",
       "      <th>7480</th>\n",
       "      <td>Акрам Хан: Родом из Карри Хауса</td>\n",
       "      <td>126007919</td>\n",
       "      <td>2019-12-23 12:00:00</td>\n",
       "      <td>Прочие</td>\n",
       "      <td>Свон Филмз</td>\n",
       "      <td>Великобритания</td>\n",
       "      <td>Ник Пойнц</td>\n",
       "      <td>Поппи Бегум, Ник Пойнц</td>\n",
       "      <td>«12+» - для детей старше 12 лет</td>\n",
       "      <td>NaN</td>\n",
       "      <td>NaN</td>\n",
       "      <td>NaN</td>\n",
       "      <td>NaN</td>\n",
       "      <td>NaN</td>\n",
       "      <td>NaN</td>\n",
       "      <td>219569.0</td>\n",
       "    </tr>\n",
       "    <tr>\n",
       "      <th>7481</th>\n",
       "      <td>Сад художника: Американский импрессионизм</td>\n",
       "      <td>126008019</td>\n",
       "      <td>2019-12-23 12:00:00</td>\n",
       "      <td>Прочие</td>\n",
       "      <td>Севен Артс Продакшнз</td>\n",
       "      <td>Великобритания</td>\n",
       "      <td>Фил Грабски</td>\n",
       "      <td>Фил Грабски</td>\n",
       "      <td>«12+» - для детей старше 12 лет</td>\n",
       "      <td>NaN</td>\n",
       "      <td>NaN</td>\n",
       "      <td>NaN</td>\n",
       "      <td>NaN</td>\n",
       "      <td>NaN</td>\n",
       "      <td>NaN</td>\n",
       "      <td>NaN</td>\n",
       "    </tr>\n",
       "    <tr>\n",
       "      <th>7483</th>\n",
       "      <td>Щенячий патруль: Скорей спешим на помощь!</td>\n",
       "      <td>124010819</td>\n",
       "      <td>2019-12-28 12:00:00</td>\n",
       "      <td>Художественный</td>\n",
       "      <td>Никелодеон Анимейшн Студиос, Спин Мастер</td>\n",
       "      <td>США - Канада</td>\n",
       "      <td>Чарльз Е.Бастьен</td>\n",
       "      <td>Дженнифер Додж</td>\n",
       "      <td>«0+» - для любой зрительской аудитории</td>\n",
       "      <td>NaN</td>\n",
       "      <td>NaN</td>\n",
       "      <td>NaN</td>\n",
       "      <td>NaN</td>\n",
       "      <td>NaN</td>\n",
       "      <td>NaN</td>\n",
       "      <td>NaN</td>\n",
       "    </tr>\n",
       "    <tr>\n",
       "      <th>7484</th>\n",
       "      <td>Машины песенки. Серия \"Испанские мотивы\"</td>\n",
       "      <td>124010619</td>\n",
       "      <td>2019-12-30 12:00:00</td>\n",
       "      <td>Анимационный</td>\n",
       "      <td>Анимаккорд Лтд., ООО Студия \"АНИМАККОРД\"</td>\n",
       "      <td>Республика Кипр, Россия</td>\n",
       "      <td>А.Беляев</td>\n",
       "      <td>Д.Ловейко</td>\n",
       "      <td>«0+» - для любой зрительской аудитории</td>\n",
       "      <td>NaN</td>\n",
       "      <td>NaN</td>\n",
       "      <td>NaN</td>\n",
       "      <td>NaN</td>\n",
       "      <td>NaN</td>\n",
       "      <td>NaN</td>\n",
       "      <td>NaN</td>\n",
       "    </tr>\n",
       "  </tbody>\n",
       "</table>\n",
       "<p>7486 rows × 16 columns</p>\n",
       "</div>"
      ],
      "text/plain": [
       "                                          title   puNumber  \\\n",
       "3515                          Взломать блогеров  111016616   \n",
       "4678                                 Мантикора.  111011510   \n",
       "1535                                    Кавказ.  111009413   \n",
       "4794          Приключения в тридесятом царстве.  111006610   \n",
       "4014                                Кукарача 3D  114000111   \n",
       "...                                         ...        ...   \n",
       "7479                                     Эколав  111023219   \n",
       "7480            Акрам Хан: Родом из Карри Хауса  126007919   \n",
       "7481  Сад художника: Американский импрессионизм  126008019   \n",
       "7483  Щенячий патруль: Скорей спешим на помощь!  124010819   \n",
       "7484   Машины песенки. Серия \"Испанские мотивы\"  124010619   \n",
       "\n",
       "         show_start_date             type  \\\n",
       "3515 2016-10-28 12:00:00   Художественный   \n",
       "4678 2010-12-17 12:00:00   Художественный   \n",
       "1535 2013-11-26 12:00:00   Художественный   \n",
       "4794 2010-06-18 12:00:00   Художественный   \n",
       "4014 2011-03-10 12:00:00     Анимационный   \n",
       "...                  ...              ...   \n",
       "7479 2019-12-26 12:00:00   Художественный   \n",
       "7480 2019-12-23 12:00:00           Прочие   \n",
       "7481 2019-12-23 12:00:00           Прочие   \n",
       "7483 2019-12-28 12:00:00   Художественный   \n",
       "7484 2019-12-30 12:00:00     Анимационный   \n",
       "\n",
       "                                   film_studio       production_country  \\\n",
       "3515                              ООО \"ТаББаК\"                   Россия   \n",
       "4678         ООО \"Студия спецэффектов \"Ацидум\"                   Россия   \n",
       "1535  Юнайтед Мультимедиа Проджектс, Метрополь       Азербайджан-Россия   \n",
       "4794                   ООО Киностудия \"ЮНОСТЬ\"                   Россия   \n",
       "4014         ЗАО \"Продюсерский центр \"Парадиз\"                   Россия   \n",
       "...                                        ...                      ...   \n",
       "7479                                      ВГИК                   Россия   \n",
       "7480                                Свон Филмз           Великобритания   \n",
       "7481                      Севен Артс Продакшнз           Великобритания   \n",
       "7483  Никелодеон Анимейшн Студиос, Спин Мастер             США - Канада   \n",
       "7484  Анимаккорд Лтд., ООО Студия \"АНИМАККОРД\"  Республика Кипр, Россия   \n",
       "\n",
       "              director                           producer  \\\n",
       "3515       М.Свешников                      Т.Бекмамбетов   \n",
       "4678           Вл.Китт                       В.Музыченков   \n",
       "1535    Фарид Гумбатов  Рауф Атамалибеков, Фарид Гумбатов   \n",
       "4794      В.Ивановская                        В.Бердочкин   \n",
       "4014       А.Адилханян                         Г.Нерсисян   \n",
       "...                ...                                ...   \n",
       "7479       Д.Григорьев                               ВГИК   \n",
       "7480         Ник Пойнц             Поппи Бегум, Ник Пойнц   \n",
       "7481       Фил Грабски                        Фил Грабски   \n",
       "7483  Чарльз Е.Бастьен                     Дженнифер Додж   \n",
       "7484          А.Беляев                          Д.Ловейко   \n",
       "\n",
       "                             age_restriction  refundable_support  \\\n",
       "3515           «6+» - для детей старше 6 лет                 0.0   \n",
       "4678         «16+» - для детей старше 16 лет                 NaN   \n",
       "1535         «16+» - для детей старше 16 лет                 NaN   \n",
       "4794  «0+» - для любой зрительской аудитории                 NaN   \n",
       "4014  «0+» - для любой зрительской аудитории                 NaN   \n",
       "...                                      ...                 ...   \n",
       "7479             «18+» - запрещено для детей                 NaN   \n",
       "7480         «12+» - для детей старше 12 лет                 NaN   \n",
       "7481         «12+» - для детей старше 12 лет                 NaN   \n",
       "7483  «0+» - для любой зрительской аудитории                 NaN   \n",
       "7484  «0+» - для любой зрительской аудитории                 NaN   \n",
       "\n",
       "      nonrefundable_support      budget financing_source  ratings  \\\n",
       "3515             25000000.0  36016269.0        Фонд кино      1.0   \n",
       "4678                    NaN         NaN              NaN      1.1   \n",
       "1535                    NaN         NaN              NaN      1.1   \n",
       "4794                    NaN         NaN              NaN      1.2   \n",
       "4014                    NaN         NaN              NaN      1.3   \n",
       "...                     ...         ...              ...      ...   \n",
       "7479                    NaN         NaN              NaN      NaN   \n",
       "7480                    NaN         NaN              NaN      NaN   \n",
       "7481                    NaN         NaN              NaN      NaN   \n",
       "7483                    NaN         NaN              NaN      NaN   \n",
       "7484                    NaN         NaN              NaN      NaN   \n",
       "\n",
       "                             genres  box_office  \n",
       "3515  комедия,мультфильм,фантастика   7323648.0  \n",
       "4678                        триллер         NaN  \n",
       "1535                        комедия         NaN  \n",
       "4794    детский,фэнтези,приключения     24978.0  \n",
       "4014             мультфильм,комедия         NaN  \n",
       "...                             ...         ...  \n",
       "7479                            NaN         NaN  \n",
       "7480                            NaN    219569.0  \n",
       "7481                            NaN         NaN  \n",
       "7483                            NaN         NaN  \n",
       "7484                            NaN         NaN  \n",
       "\n",
       "[7486 rows x 16 columns]"
      ]
     },
     "execution_count": 8,
     "metadata": {},
     "output_type": "execute_result"
    }
   ],
   "source": [
    "data['ratings'] = pd.to_numeric(data['ratings'], errors='coerce')\n",
    "data.sort_values(by = 'ratings')"
   ]
  },
  {
   "cell_type": "code",
   "execution_count": 9,
   "metadata": {},
   "outputs": [
    {
     "name": "stdout",
     "output_type": "stream",
     "text": [
      "<class 'pandas.core.frame.DataFrame'>\n",
      "Int64Index: 7486 entries, 0 to 7485\n",
      "Data columns (total 16 columns):\n",
      " #   Column                 Non-Null Count  Dtype         \n",
      "---  ------                 --------------  -----         \n",
      " 0   title                  7486 non-null   object        \n",
      " 1   puNumber               7486 non-null   int64         \n",
      " 2   show_start_date        7486 non-null   datetime64[ns]\n",
      " 3   type                   7486 non-null   object        \n",
      " 4   film_studio            7468 non-null   object        \n",
      " 5   production_country     7484 non-null   object        \n",
      " 6   director               7477 non-null   object        \n",
      " 7   producer               6918 non-null   object        \n",
      " 8   age_restriction        7486 non-null   object        \n",
      " 9   refundable_support     332 non-null    float64       \n",
      " 10  nonrefundable_support  332 non-null    float64       \n",
      " 11  budget                 332 non-null    float64       \n",
      " 12  financing_source       332 non-null    object        \n",
      " 13  ratings                6490 non-null   float64       \n",
      " 14  genres                 6510 non-null   object        \n",
      " 15  box_office             3158 non-null   float64       \n",
      "dtypes: datetime64[ns](1), float64(5), int64(1), object(9)\n",
      "memory usage: 994.2+ KB\n"
     ]
    }
   ],
   "source": [
    "data.info()"
   ]
  },
  {
   "cell_type": "markdown",
   "metadata": {},
   "source": [
    "Тип столбцов изменен:\n",
    "    \n",
    "    show_start_date - тип заменен на формат дата/время\n",
    "    \n",
    "    ratings  - рейтинг в вещественном формате чисел"
   ]
  },
  {
   "cell_type": "markdown",
   "metadata": {
    "id": "i0MOLbF-gFyP"
   },
   "source": [
    "#### Шаг 2.2. Изучите пропуски в датафрейме\n",
    "\n",
    "- Объясните, почему заполнили пропуски определённым образом или почему не стали этого делать."
   ]
  },
  {
   "cell_type": "code",
   "execution_count": 10,
   "metadata": {
    "id": "8MJD_lkngFyP"
   },
   "outputs": [
    {
     "data": {
      "text/plain": [
       "title                       0\n",
       "puNumber                    0\n",
       "show_start_date             0\n",
       "type                        0\n",
       "film_studio                18\n",
       "production_country          2\n",
       "director                    9\n",
       "producer                  568\n",
       "age_restriction             0\n",
       "refundable_support       7154\n",
       "nonrefundable_support    7154\n",
       "budget                   7154\n",
       "financing_source         7154\n",
       "ratings                   996\n",
       "genres                    976\n",
       "box_office               4328\n",
       "dtype: int64"
      ]
     },
     "execution_count": 10,
     "metadata": {},
     "output_type": "execute_result"
    }
   ],
   "source": [
    "data.isna().sum()"
   ]
  },
  {
   "cell_type": "code",
   "execution_count": 11,
   "metadata": {},
   "outputs": [
    {
     "data": {
      "text/html": [
       "<div>\n",
       "<style scoped>\n",
       "    .dataframe tbody tr th:only-of-type {\n",
       "        vertical-align: middle;\n",
       "    }\n",
       "\n",
       "    .dataframe tbody tr th {\n",
       "        vertical-align: top;\n",
       "    }\n",
       "\n",
       "    .dataframe thead th {\n",
       "        text-align: right;\n",
       "    }\n",
       "</style>\n",
       "<table border=\"1\" class=\"dataframe\">\n",
       "  <thead>\n",
       "    <tr style=\"text-align: right;\">\n",
       "      <th></th>\n",
       "      <th>puNumber</th>\n",
       "      <th>refundable_support</th>\n",
       "      <th>nonrefundable_support</th>\n",
       "      <th>budget</th>\n",
       "      <th>ratings</th>\n",
       "      <th>box_office</th>\n",
       "    </tr>\n",
       "  </thead>\n",
       "  <tbody>\n",
       "    <tr>\n",
       "      <th>count</th>\n",
       "      <td>7.486000e+03</td>\n",
       "      <td>3.320000e+02</td>\n",
       "      <td>3.320000e+02</td>\n",
       "      <td>3.320000e+02</td>\n",
       "      <td>6490.000000</td>\n",
       "      <td>3.158000e+03</td>\n",
       "    </tr>\n",
       "    <tr>\n",
       "      <th>mean</th>\n",
       "      <td>1.351785e+08</td>\n",
       "      <td>1.186446e+07</td>\n",
       "      <td>4.898099e+07</td>\n",
       "      <td>1.272297e+08</td>\n",
       "      <td>6.479245</td>\n",
       "      <td>7.647870e+07</td>\n",
       "    </tr>\n",
       "    <tr>\n",
       "      <th>std</th>\n",
       "      <td>3.838218e+07</td>\n",
       "      <td>2.491656e+07</td>\n",
       "      <td>5.998012e+07</td>\n",
       "      <td>1.885883e+08</td>\n",
       "      <td>1.101665</td>\n",
       "      <td>2.403531e+08</td>\n",
       "    </tr>\n",
       "    <tr>\n",
       "      <th>min</th>\n",
       "      <td>0.000000e+00</td>\n",
       "      <td>0.000000e+00</td>\n",
       "      <td>0.000000e+00</td>\n",
       "      <td>0.000000e+00</td>\n",
       "      <td>1.000000</td>\n",
       "      <td>0.000000e+00</td>\n",
       "    </tr>\n",
       "    <tr>\n",
       "      <th>25%</th>\n",
       "      <td>1.120250e+08</td>\n",
       "      <td>0.000000e+00</td>\n",
       "      <td>2.500000e+07</td>\n",
       "      <td>4.200000e+07</td>\n",
       "      <td>5.900000</td>\n",
       "      <td>8.623900e+04</td>\n",
       "    </tr>\n",
       "    <tr>\n",
       "      <th>50%</th>\n",
       "      <td>1.210155e+08</td>\n",
       "      <td>0.000000e+00</td>\n",
       "      <td>3.000000e+07</td>\n",
       "      <td>6.864992e+07</td>\n",
       "      <td>6.600000</td>\n",
       "      <td>2.327988e+06</td>\n",
       "    </tr>\n",
       "    <tr>\n",
       "      <th>75%</th>\n",
       "      <td>1.240033e+08</td>\n",
       "      <td>1.500000e+07</td>\n",
       "      <td>4.037500e+07</td>\n",
       "      <td>1.419853e+08</td>\n",
       "      <td>7.200000</td>\n",
       "      <td>2.397967e+07</td>\n",
       "    </tr>\n",
       "    <tr>\n",
       "      <th>max</th>\n",
       "      <td>2.310011e+08</td>\n",
       "      <td>1.800000e+08</td>\n",
       "      <td>4.000000e+08</td>\n",
       "      <td>2.305074e+09</td>\n",
       "      <td>9.200000</td>\n",
       "      <td>3.073569e+09</td>\n",
       "    </tr>\n",
       "  </tbody>\n",
       "</table>\n",
       "</div>"
      ],
      "text/plain": [
       "           puNumber  refundable_support  nonrefundable_support        budget  \\\n",
       "count  7.486000e+03        3.320000e+02           3.320000e+02  3.320000e+02   \n",
       "mean   1.351785e+08        1.186446e+07           4.898099e+07  1.272297e+08   \n",
       "std    3.838218e+07        2.491656e+07           5.998012e+07  1.885883e+08   \n",
       "min    0.000000e+00        0.000000e+00           0.000000e+00  0.000000e+00   \n",
       "25%    1.120250e+08        0.000000e+00           2.500000e+07  4.200000e+07   \n",
       "50%    1.210155e+08        0.000000e+00           3.000000e+07  6.864992e+07   \n",
       "75%    1.240033e+08        1.500000e+07           4.037500e+07  1.419853e+08   \n",
       "max    2.310011e+08        1.800000e+08           4.000000e+08  2.305074e+09   \n",
       "\n",
       "           ratings    box_office  \n",
       "count  6490.000000  3.158000e+03  \n",
       "mean      6.479245  7.647870e+07  \n",
       "std       1.101665  2.403531e+08  \n",
       "min       1.000000  0.000000e+00  \n",
       "25%       5.900000  8.623900e+04  \n",
       "50%       6.600000  2.327988e+06  \n",
       "75%       7.200000  2.397967e+07  \n",
       "max       9.200000  3.073569e+09  "
      ]
     },
     "execution_count": 11,
     "metadata": {},
     "output_type": "execute_result"
    }
   ],
   "source": [
    "data.describe()"
   ]
  },
  {
   "cell_type": "markdown",
   "metadata": {},
   "source": [
    "Что мы видим из этой выборки пропусков:\n",
    "    \n",
    "   1. Из общей выборки всего 332 фильма сняты с помощью государственного финансирования. Остальные 7154 - нет. Так как тип столбца - формат float, логично предположить, что все пропуски выражены Nan, которые могут участвовать в математических операциях. То есть столбцы **refundable_support**, **nonrefundable_support**, **budget**, **financing_source** замена пропусков в категориальных значениях не требуется, так как они неслучайные.\n",
    "   \n",
    "   2. Строки в столбцах **production_country**, **director**, **film_studio** с 2, 9 и 17 пропусками удалим, как незначительные пропуски.\n",
    "   \n",
    "   3. Пропущенные значения в столбце рейтинг можно заменить средним арифметическим, так как разброс данных небольшой.\n",
    "   \n",
    "   4. Столбец жанр - пропущенные значения так просто ничем не заменишь, тип категориальный, значений много. Оставим их как есть. Попробуем заменить хотя бы мультфильмы, их несложно думаю будет отыскать. По студии производителю - Никелодеон, Анимаккорд и возраст 0+.\n",
    "   \n",
    "   "
   ]
  },
  {
   "cell_type": "markdown",
   "metadata": {},
   "source": [
    "Удалим пропуски в столбцах production_country, director, film_studio и проверим что из этого вышло"
   ]
  },
  {
   "cell_type": "code",
   "execution_count": 12,
   "metadata": {},
   "outputs": [
    {
     "data": {
      "text/plain": [
       "title                       0\n",
       "puNumber                    0\n",
       "show_start_date             0\n",
       "type                        0\n",
       "film_studio                 0\n",
       "production_country          0\n",
       "director                    0\n",
       "producer                  564\n",
       "age_restriction             0\n",
       "refundable_support       7127\n",
       "nonrefundable_support    7127\n",
       "budget                   7127\n",
       "financing_source         7127\n",
       "ratings                   977\n",
       "genres                    957\n",
       "box_office               4304\n",
       "dtype: int64"
      ]
     },
     "execution_count": 12,
     "metadata": {},
     "output_type": "execute_result"
    }
   ],
   "source": [
    "data = data.dropna(subset =['production_country', 'director', 'film_studio']).reset_index(drop=True)\n",
    "data.isna().sum()"
   ]
  },
  {
   "cell_type": "markdown",
   "metadata": {},
   "source": [
    "Также уберем значение Nan в категориальной переменной столбца producer"
   ]
  },
  {
   "cell_type": "code",
   "execution_count": 13,
   "metadata": {},
   "outputs": [
    {
     "data": {
      "text/plain": [
       "title                       0\n",
       "puNumber                    0\n",
       "show_start_date             0\n",
       "type                        0\n",
       "film_studio                 0\n",
       "production_country          0\n",
       "director                    0\n",
       "producer                    0\n",
       "age_restriction             0\n",
       "refundable_support       7127\n",
       "nonrefundable_support    7127\n",
       "budget                   7127\n",
       "financing_source         7127\n",
       "ratings                   977\n",
       "genres                    957\n",
       "box_office               4304\n",
       "dtype: int64"
      ]
     },
     "execution_count": 13,
     "metadata": {},
     "output_type": "execute_result"
    }
   ],
   "source": [
    "data['producer'] = data['producer'].fillna(value='')\n",
    "data.isna().sum()"
   ]
  },
  {
   "cell_type": "markdown",
   "metadata": {
    "id": "4c6k1t9ygFyQ"
   },
   "source": [
    "#### Шаг 2.3. Изучите дубликаты в датафрейме\n",
    "- Проверьте, есть ли в данных дубликаты. Опишите причины, которые могли повлиять на появление дублей."
   ]
  },
  {
   "cell_type": "code",
   "execution_count": 14,
   "metadata": {},
   "outputs": [
    {
     "data": {
      "text/plain": [
       "0"
      ]
     },
     "execution_count": 14,
     "metadata": {},
     "output_type": "execute_result"
    }
   ],
   "source": [
    "data.duplicated().sum()"
   ]
  },
  {
   "cell_type": "markdown",
   "metadata": {},
   "source": [
    "Полных дубликатов не выявлено"
   ]
  },
  {
   "cell_type": "code",
   "execution_count": 15,
   "metadata": {
    "id": "aKck8RIdgFyQ"
   },
   "outputs": [
    {
     "data": {
      "text/plain": [
       "Int64Index([   3,    4,   41,  110,  113,  122,  132,  205,  268,  379,\n",
       "            ...\n",
       "            7254, 7262, 7274, 7286, 7295, 7342, 7389, 7411, 7423, 7447],\n",
       "           dtype='int64', length=713)"
      ]
     },
     "execution_count": 15,
     "metadata": {},
     "output_type": "execute_result"
    }
   ],
   "source": [
    "idx = data.loc[data.duplicated(subset=['title'])].index\n",
    "idx"
   ]
  },
  {
   "cell_type": "code",
   "execution_count": 16,
   "metadata": {},
   "outputs": [
    {
     "name": "stdout",
     "output_type": "stream",
     "text": [
      "<class 'pandas.core.frame.DataFrame'>\n",
      "RangeIndex: 7459 entries, 0 to 7458\n",
      "Data columns (total 16 columns):\n",
      " #   Column                 Non-Null Count  Dtype         \n",
      "---  ------                 --------------  -----         \n",
      " 0   title                  7459 non-null   object        \n",
      " 1   puNumber               7459 non-null   int64         \n",
      " 2   show_start_date        7459 non-null   datetime64[ns]\n",
      " 3   type                   7459 non-null   object        \n",
      " 4   film_studio            7459 non-null   object        \n",
      " 5   production_country     7459 non-null   object        \n",
      " 6   director               7459 non-null   object        \n",
      " 7   producer               7459 non-null   object        \n",
      " 8   age_restriction        7459 non-null   object        \n",
      " 9   refundable_support     332 non-null    float64       \n",
      " 10  nonrefundable_support  332 non-null    float64       \n",
      " 11  budget                 332 non-null    float64       \n",
      " 12  financing_source       332 non-null    object        \n",
      " 13  ratings                6482 non-null   float64       \n",
      " 14  genres                 6502 non-null   object        \n",
      " 15  box_office             3155 non-null   float64       \n",
      "dtypes: datetime64[ns](1), float64(5), int64(1), object(9)\n",
      "memory usage: 932.5+ KB\n"
     ]
    }
   ],
   "source": [
    "data.info()"
   ]
  },
  {
   "cell_type": "markdown",
   "metadata": {},
   "source": [
    "Выявлено 713 дубликатов - 10% выборки. \n",
    "Причина по которой могли образоваться дублирующие строки:\n",
    "\n",
    "1. Объединение двух датафреймов. \n",
    "\n",
    "2. Наличие нескольких прокатных удостоверений на 1 фильм.\n",
    "\n",
    "Мы заранее не можем знать какие конкретно данные содержит каждый из датафреймов, поэтому подчистим повторяющиеся значения фильмов"
   ]
  },
  {
   "cell_type": "code",
   "execution_count": 17,
   "metadata": {},
   "outputs": [
    {
     "data": {
      "text/html": [
       "<div>\n",
       "<style scoped>\n",
       "    .dataframe tbody tr th:only-of-type {\n",
       "        vertical-align: middle;\n",
       "    }\n",
       "\n",
       "    .dataframe tbody tr th {\n",
       "        vertical-align: top;\n",
       "    }\n",
       "\n",
       "    .dataframe thead th {\n",
       "        text-align: right;\n",
       "    }\n",
       "</style>\n",
       "<table border=\"1\" class=\"dataframe\">\n",
       "  <thead>\n",
       "    <tr style=\"text-align: right;\">\n",
       "      <th></th>\n",
       "      <th>title</th>\n",
       "      <th>puNumber</th>\n",
       "      <th>show_start_date</th>\n",
       "      <th>type</th>\n",
       "      <th>film_studio</th>\n",
       "      <th>production_country</th>\n",
       "      <th>director</th>\n",
       "      <th>producer</th>\n",
       "      <th>age_restriction</th>\n",
       "      <th>refundable_support</th>\n",
       "      <th>nonrefundable_support</th>\n",
       "      <th>budget</th>\n",
       "      <th>financing_source</th>\n",
       "      <th>ratings</th>\n",
       "      <th>genres</th>\n",
       "      <th>box_office</th>\n",
       "    </tr>\n",
       "  </thead>\n",
       "  <tbody>\n",
       "    <tr>\n",
       "      <th>0</th>\n",
       "      <td>Открытый простор</td>\n",
       "      <td>221048915</td>\n",
       "      <td>2015-11-27 12:00:00</td>\n",
       "      <td>Художественный</td>\n",
       "      <td>Тачстоун Пикчерз, Кобальт Пикчерз, Бикон Пикче...</td>\n",
       "      <td>США</td>\n",
       "      <td>Кевин Костнер</td>\n",
       "      <td>Дэвид Валдес, Кевин Костнер, Джейк Эбертс</td>\n",
       "      <td>«18+» - запрещено для детей</td>\n",
       "      <td>NaN</td>\n",
       "      <td>NaN</td>\n",
       "      <td>NaN</td>\n",
       "      <td>NaN</td>\n",
       "      <td>7.2</td>\n",
       "      <td>боевик,драма,мелодрама</td>\n",
       "      <td>NaN</td>\n",
       "    </tr>\n",
       "    <tr>\n",
       "      <th>1</th>\n",
       "      <td>Особо важное задание</td>\n",
       "      <td>111013716</td>\n",
       "      <td>2016-09-13 12:00:00</td>\n",
       "      <td>Художественный</td>\n",
       "      <td>Киностудия \"Мосфильм\"</td>\n",
       "      <td>СССР</td>\n",
       "      <td>Е.Матвеев</td>\n",
       "      <td></td>\n",
       "      <td>«6+» - для детей старше 6 лет</td>\n",
       "      <td>NaN</td>\n",
       "      <td>NaN</td>\n",
       "      <td>NaN</td>\n",
       "      <td>NaN</td>\n",
       "      <td>6.6</td>\n",
       "      <td>драма,военный</td>\n",
       "      <td>NaN</td>\n",
       "    </tr>\n",
       "    <tr>\n",
       "      <th>2</th>\n",
       "      <td>Особо опасен</td>\n",
       "      <td>221038416</td>\n",
       "      <td>2016-10-10 12:00:00</td>\n",
       "      <td>Художественный</td>\n",
       "      <td>Юниверсал Пикчерз, Кикстарт Продакшнз, Марк Пл...</td>\n",
       "      <td>США</td>\n",
       "      <td>Тимур Бекмамбетов</td>\n",
       "      <td>Джим Лемли, Джейсон Нетер, Марк Е.Платт, Яйн Смит</td>\n",
       "      <td>«18+» - запрещено для детей</td>\n",
       "      <td>NaN</td>\n",
       "      <td>NaN</td>\n",
       "      <td>NaN</td>\n",
       "      <td>NaN</td>\n",
       "      <td>6.8</td>\n",
       "      <td>фантастика,боевик,триллер</td>\n",
       "      <td>NaN</td>\n",
       "    </tr>\n",
       "    <tr>\n",
       "      <th>3</th>\n",
       "      <td>Остановился поезд</td>\n",
       "      <td>111013816</td>\n",
       "      <td>2016-09-13 12:00:00</td>\n",
       "      <td>Художественный</td>\n",
       "      <td>Киностудия \"Мосфильм\"</td>\n",
       "      <td>СССР</td>\n",
       "      <td>В.Абдрашитов</td>\n",
       "      <td></td>\n",
       "      <td>«6+» - для детей старше 6 лет</td>\n",
       "      <td>NaN</td>\n",
       "      <td>NaN</td>\n",
       "      <td>NaN</td>\n",
       "      <td>NaN</td>\n",
       "      <td>7.7</td>\n",
       "      <td>драма</td>\n",
       "      <td>NaN</td>\n",
       "    </tr>\n",
       "    <tr>\n",
       "      <th>4</th>\n",
       "      <td>Любовь и голуби</td>\n",
       "      <td>111007013</td>\n",
       "      <td>2013-10-18 12:00:00</td>\n",
       "      <td>Художественный</td>\n",
       "      <td>Киностудия \"Мосфильм\"</td>\n",
       "      <td>СССР</td>\n",
       "      <td>В.Меньшов</td>\n",
       "      <td></td>\n",
       "      <td>«12+» - для детей старше 12 лет</td>\n",
       "      <td>NaN</td>\n",
       "      <td>NaN</td>\n",
       "      <td>NaN</td>\n",
       "      <td>NaN</td>\n",
       "      <td>8.3</td>\n",
       "      <td>мелодрама,комедия</td>\n",
       "      <td>2700.0</td>\n",
       "    </tr>\n",
       "    <tr>\n",
       "      <th>...</th>\n",
       "      <td>...</td>\n",
       "      <td>...</td>\n",
       "      <td>...</td>\n",
       "      <td>...</td>\n",
       "      <td>...</td>\n",
       "      <td>...</td>\n",
       "      <td>...</td>\n",
       "      <td>...</td>\n",
       "      <td>...</td>\n",
       "      <td>...</td>\n",
       "      <td>...</td>\n",
       "      <td>...</td>\n",
       "      <td>...</td>\n",
       "      <td>...</td>\n",
       "      <td>...</td>\n",
       "      <td>...</td>\n",
       "    </tr>\n",
       "    <tr>\n",
       "      <th>6741</th>\n",
       "      <td>Сад художника: Американский импрессионизм</td>\n",
       "      <td>126008019</td>\n",
       "      <td>2019-12-23 12:00:00</td>\n",
       "      <td>Прочие</td>\n",
       "      <td>Севен Артс Продакшнз</td>\n",
       "      <td>Великобритания</td>\n",
       "      <td>Фил Грабски</td>\n",
       "      <td>Фил Грабски</td>\n",
       "      <td>«12+» - для детей старше 12 лет</td>\n",
       "      <td>NaN</td>\n",
       "      <td>NaN</td>\n",
       "      <td>NaN</td>\n",
       "      <td>NaN</td>\n",
       "      <td>NaN</td>\n",
       "      <td>NaN</td>\n",
       "      <td>NaN</td>\n",
       "    </tr>\n",
       "    <tr>\n",
       "      <th>6742</th>\n",
       "      <td>Звериная ярость</td>\n",
       "      <td>121037819</td>\n",
       "      <td>2019-12-24 12:00:00</td>\n",
       "      <td>Художественный</td>\n",
       "      <td>Дэниел Гродник Продакшнз, Вандерфилм Медиа Кор...</td>\n",
       "      <td>США</td>\n",
       "      <td>Ник Пауэлл</td>\n",
       "      <td>Джефф Боулер, Дэниэл Гродник, Луильо Руис, Брэ...</td>\n",
       "      <td>«16+» - для детей старше 16 лет</td>\n",
       "      <td>NaN</td>\n",
       "      <td>NaN</td>\n",
       "      <td>NaN</td>\n",
       "      <td>NaN</td>\n",
       "      <td>5.4</td>\n",
       "      <td>боевик,триллер</td>\n",
       "      <td>NaN</td>\n",
       "    </tr>\n",
       "    <tr>\n",
       "      <th>6743</th>\n",
       "      <td>Щенячий патруль: Скорей спешим на помощь!</td>\n",
       "      <td>124010819</td>\n",
       "      <td>2019-12-28 12:00:00</td>\n",
       "      <td>Художественный</td>\n",
       "      <td>Никелодеон Анимейшн Студиос, Спин Мастер</td>\n",
       "      <td>США - Канада</td>\n",
       "      <td>Чарльз Е.Бастьен</td>\n",
       "      <td>Дженнифер Додж</td>\n",
       "      <td>«0+» - для любой зрительской аудитории</td>\n",
       "      <td>NaN</td>\n",
       "      <td>NaN</td>\n",
       "      <td>NaN</td>\n",
       "      <td>NaN</td>\n",
       "      <td>NaN</td>\n",
       "      <td>NaN</td>\n",
       "      <td>NaN</td>\n",
       "    </tr>\n",
       "    <tr>\n",
       "      <th>6744</th>\n",
       "      <td>Машины песенки. Серия \"Испанские мотивы\"</td>\n",
       "      <td>124010619</td>\n",
       "      <td>2019-12-30 12:00:00</td>\n",
       "      <td>Анимационный</td>\n",
       "      <td>Анимаккорд Лтд., ООО Студия \"АНИМАККОРД\"</td>\n",
       "      <td>Республика Кипр, Россия</td>\n",
       "      <td>А.Беляев</td>\n",
       "      <td>Д.Ловейко</td>\n",
       "      <td>«0+» - для любой зрительской аудитории</td>\n",
       "      <td>NaN</td>\n",
       "      <td>NaN</td>\n",
       "      <td>NaN</td>\n",
       "      <td>NaN</td>\n",
       "      <td>NaN</td>\n",
       "      <td>NaN</td>\n",
       "      <td>NaN</td>\n",
       "    </tr>\n",
       "    <tr>\n",
       "      <th>6745</th>\n",
       "      <td>Машины песенки. Серия \"Когда цветут кактусы\"</td>\n",
       "      <td>124010719</td>\n",
       "      <td>2019-12-30 12:00:00</td>\n",
       "      <td>Анимационный</td>\n",
       "      <td>Анимаккорд Лтд., ООО Студия \"АНИМАККОРД\"</td>\n",
       "      <td>Республика Кипр, Россия</td>\n",
       "      <td>И.Трусов</td>\n",
       "      <td>Д.Ловейко</td>\n",
       "      <td>«0+» - для любой зрительской аудитории</td>\n",
       "      <td>NaN</td>\n",
       "      <td>NaN</td>\n",
       "      <td>NaN</td>\n",
       "      <td>NaN</td>\n",
       "      <td>6.3</td>\n",
       "      <td>комедия,вестерн</td>\n",
       "      <td>NaN</td>\n",
       "    </tr>\n",
       "  </tbody>\n",
       "</table>\n",
       "<p>6746 rows × 16 columns</p>\n",
       "</div>"
      ],
      "text/plain": [
       "                                             title   puNumber  \\\n",
       "0                                 Открытый простор  221048915   \n",
       "1                             Особо важное задание  111013716   \n",
       "2                                     Особо опасен  221038416   \n",
       "3                                Остановился поезд  111013816   \n",
       "4                                  Любовь и голуби  111007013   \n",
       "...                                            ...        ...   \n",
       "6741     Сад художника: Американский импрессионизм  126008019   \n",
       "6742                               Звериная ярость  121037819   \n",
       "6743     Щенячий патруль: Скорей спешим на помощь!  124010819   \n",
       "6744      Машины песенки. Серия \"Испанские мотивы\"  124010619   \n",
       "6745  Машины песенки. Серия \"Когда цветут кактусы\"  124010719   \n",
       "\n",
       "         show_start_date             type  \\\n",
       "0    2015-11-27 12:00:00   Художественный   \n",
       "1    2016-09-13 12:00:00   Художественный   \n",
       "2    2016-10-10 12:00:00   Художественный   \n",
       "3    2016-09-13 12:00:00   Художественный   \n",
       "4    2013-10-18 12:00:00   Художественный   \n",
       "...                  ...              ...   \n",
       "6741 2019-12-23 12:00:00           Прочие   \n",
       "6742 2019-12-24 12:00:00   Художественный   \n",
       "6743 2019-12-28 12:00:00   Художественный   \n",
       "6744 2019-12-30 12:00:00     Анимационный   \n",
       "6745 2019-12-30 12:00:00     Анимационный   \n",
       "\n",
       "                                            film_studio  \\\n",
       "0     Тачстоун Пикчерз, Кобальт Пикчерз, Бикон Пикче...   \n",
       "1                                 Киностудия \"Мосфильм\"   \n",
       "2     Юниверсал Пикчерз, Кикстарт Продакшнз, Марк Пл...   \n",
       "3                                 Киностудия \"Мосфильм\"   \n",
       "4                                 Киностудия \"Мосфильм\"   \n",
       "...                                                 ...   \n",
       "6741                               Севен Артс Продакшнз   \n",
       "6742  Дэниел Гродник Продакшнз, Вандерфилм Медиа Кор...   \n",
       "6743           Никелодеон Анимейшн Студиос, Спин Мастер   \n",
       "6744           Анимаккорд Лтд., ООО Студия \"АНИМАККОРД\"   \n",
       "6745           Анимаккорд Лтд., ООО Студия \"АНИМАККОРД\"   \n",
       "\n",
       "           production_country           director  \\\n",
       "0                         США      Кевин Костнер   \n",
       "1                        СССР          Е.Матвеев   \n",
       "2                         США  Тимур Бекмамбетов   \n",
       "3                        СССР       В.Абдрашитов   \n",
       "4                        СССР          В.Меньшов   \n",
       "...                       ...                ...   \n",
       "6741           Великобритания        Фил Грабски   \n",
       "6742                      США         Ник Пауэлл   \n",
       "6743             США - Канада   Чарльз Е.Бастьен   \n",
       "6744  Республика Кипр, Россия           А.Беляев   \n",
       "6745  Республика Кипр, Россия           И.Трусов   \n",
       "\n",
       "                                               producer  \\\n",
       "0             Дэвид Валдес, Кевин Костнер, Джейк Эбертс   \n",
       "1                                                         \n",
       "2     Джим Лемли, Джейсон Нетер, Марк Е.Платт, Яйн Смит   \n",
       "3                                                         \n",
       "4                                                         \n",
       "...                                                 ...   \n",
       "6741                                        Фил Грабски   \n",
       "6742  Джефф Боулер, Дэниэл Гродник, Луильо Руис, Брэ...   \n",
       "6743                                     Дженнифер Додж   \n",
       "6744                                          Д.Ловейко   \n",
       "6745                                          Д.Ловейко   \n",
       "\n",
       "                             age_restriction  refundable_support  \\\n",
       "0                «18+» - запрещено для детей                 NaN   \n",
       "1              «6+» - для детей старше 6 лет                 NaN   \n",
       "2                «18+» - запрещено для детей                 NaN   \n",
       "3              «6+» - для детей старше 6 лет                 NaN   \n",
       "4            «12+» - для детей старше 12 лет                 NaN   \n",
       "...                                      ...                 ...   \n",
       "6741         «12+» - для детей старше 12 лет                 NaN   \n",
       "6742         «16+» - для детей старше 16 лет                 NaN   \n",
       "6743  «0+» - для любой зрительской аудитории                 NaN   \n",
       "6744  «0+» - для любой зрительской аудитории                 NaN   \n",
       "6745  «0+» - для любой зрительской аудитории                 NaN   \n",
       "\n",
       "      nonrefundable_support  budget financing_source  ratings  \\\n",
       "0                       NaN     NaN              NaN      7.2   \n",
       "1                       NaN     NaN              NaN      6.6   \n",
       "2                       NaN     NaN              NaN      6.8   \n",
       "3                       NaN     NaN              NaN      7.7   \n",
       "4                       NaN     NaN              NaN      8.3   \n",
       "...                     ...     ...              ...      ...   \n",
       "6741                    NaN     NaN              NaN      NaN   \n",
       "6742                    NaN     NaN              NaN      5.4   \n",
       "6743                    NaN     NaN              NaN      NaN   \n",
       "6744                    NaN     NaN              NaN      NaN   \n",
       "6745                    NaN     NaN              NaN      6.3   \n",
       "\n",
       "                         genres  box_office  \n",
       "0        боевик,драма,мелодрама         NaN  \n",
       "1                 драма,военный         NaN  \n",
       "2     фантастика,боевик,триллер         NaN  \n",
       "3                         драма         NaN  \n",
       "4             мелодрама,комедия      2700.0  \n",
       "...                         ...         ...  \n",
       "6741                        NaN         NaN  \n",
       "6742             боевик,триллер         NaN  \n",
       "6743                        NaN         NaN  \n",
       "6744                        NaN         NaN  \n",
       "6745            комедия,вестерн         NaN  \n",
       "\n",
       "[6746 rows x 16 columns]"
      ]
     },
     "execution_count": 17,
     "metadata": {},
     "output_type": "execute_result"
    }
   ],
   "source": [
    "data.drop(idx).reset_index(drop=True)"
   ]
  },
  {
   "cell_type": "code",
   "execution_count": 18,
   "metadata": {},
   "outputs": [
    {
     "data": {
      "text/html": [
       "<div>\n",
       "<style scoped>\n",
       "    .dataframe tbody tr th:only-of-type {\n",
       "        vertical-align: middle;\n",
       "    }\n",
       "\n",
       "    .dataframe tbody tr th {\n",
       "        vertical-align: top;\n",
       "    }\n",
       "\n",
       "    .dataframe thead th {\n",
       "        text-align: right;\n",
       "    }\n",
       "</style>\n",
       "<table border=\"1\" class=\"dataframe\">\n",
       "  <thead>\n",
       "    <tr style=\"text-align: right;\">\n",
       "      <th></th>\n",
       "      <th>title</th>\n",
       "      <th>puNumber</th>\n",
       "      <th>show_start_date</th>\n",
       "      <th>type</th>\n",
       "      <th>film_studio</th>\n",
       "      <th>production_country</th>\n",
       "      <th>director</th>\n",
       "      <th>producer</th>\n",
       "      <th>age_restriction</th>\n",
       "      <th>refundable_support</th>\n",
       "      <th>nonrefundable_support</th>\n",
       "      <th>budget</th>\n",
       "      <th>financing_source</th>\n",
       "      <th>ratings</th>\n",
       "      <th>genres</th>\n",
       "      <th>box_office</th>\n",
       "    </tr>\n",
       "  </thead>\n",
       "  <tbody>\n",
       "    <tr>\n",
       "      <th>7429</th>\n",
       "      <td>Холоп</td>\n",
       "      <td>111021719</td>\n",
       "      <td>2019-12-19 12:00:00</td>\n",
       "      <td>Художественный</td>\n",
       "      <td>ООО \"МЕМ-МЕДИА\" по заказу АО \"ВБД Груп\"</td>\n",
       "      <td>Россия</td>\n",
       "      <td>К.Шипенко</td>\n",
       "      <td>Э.Илоян, Д.Жалинский, В.Дусмухаметов, Т.Бадзие...</td>\n",
       "      <td>«12+» - для детей старше 12 лет</td>\n",
       "      <td>25000000.0</td>\n",
       "      <td>35000000.0</td>\n",
       "      <td>160000000.0</td>\n",
       "      <td>Фонд кино</td>\n",
       "      <td>6.8</td>\n",
       "      <td>комедия</td>\n",
       "      <td>3.073569e+09</td>\n",
       "    </tr>\n",
       "    <tr>\n",
       "      <th>5642</th>\n",
       "      <td>Движение вверх</td>\n",
       "      <td>111011817</td>\n",
       "      <td>2017-12-21 12:00:00</td>\n",
       "      <td>Художественный</td>\n",
       "      <td>ООО \"Студия \"ТРИТЭ\" Никиты Михалкова\"</td>\n",
       "      <td>Россия</td>\n",
       "      <td>А.Мегердичев</td>\n",
       "      <td>Л.Верещагин, А.Златопольский, Н.Михалков, ООО ...</td>\n",
       "      <td>«6+» - для детей старше 6 лет</td>\n",
       "      <td>0.0</td>\n",
       "      <td>400000000.0</td>\n",
       "      <td>590192191.0</td>\n",
       "      <td>Фонд кино</td>\n",
       "      <td>7.5</td>\n",
       "      <td>спорт,драма</td>\n",
       "      <td>2.779686e+09</td>\n",
       "    </tr>\n",
       "    <tr>\n",
       "      <th>6793</th>\n",
       "      <td>Мстители: Финал</td>\n",
       "      <td>121005519</td>\n",
       "      <td>2019-04-29 12:00:00</td>\n",
       "      <td>Художественный</td>\n",
       "      <td>Марвел Студиос</td>\n",
       "      <td>США</td>\n",
       "      <td>Джо Руссо, Энтони Руссо</td>\n",
       "      <td>Кевин Фейги</td>\n",
       "      <td>«16+» - для детей старше 16 лет</td>\n",
       "      <td>NaN</td>\n",
       "      <td>NaN</td>\n",
       "      <td>NaN</td>\n",
       "      <td>NaN</td>\n",
       "      <td>7.6</td>\n",
       "      <td>фантастика,боевик,драма</td>\n",
       "      <td>2.576614e+09</td>\n",
       "    </tr>\n",
       "    <tr>\n",
       "      <th>6526</th>\n",
       "      <td>Т-34</td>\n",
       "      <td>111024918</td>\n",
       "      <td>2018-12-21 12:00:00</td>\n",
       "      <td>Художественный</td>\n",
       "      <td>ООО \"Кинокомпания МАРС-фильм\" по заказу ООО \"М...</td>\n",
       "      <td>Россия</td>\n",
       "      <td>А.Сидоров</td>\n",
       "      <td>А.Златопольский, Р.Дишдишян, Л.Блаватник, Н.Яр...</td>\n",
       "      <td>«12+» - для детей старше 12 лет</td>\n",
       "      <td>60000000.0</td>\n",
       "      <td>120000000.0</td>\n",
       "      <td>563784717.0</td>\n",
       "      <td>Фонд кино</td>\n",
       "      <td>6.5</td>\n",
       "      <td>драма,военный,боевик</td>\n",
       "      <td>2.271754e+09</td>\n",
       "    </tr>\n",
       "    <tr>\n",
       "      <th>3484</th>\n",
       "      <td>Пираты Карибского моря: Мертвецы не рассказыва...</td>\n",
       "      <td>121009217</td>\n",
       "      <td>2017-05-17 12:00:00</td>\n",
       "      <td>Художественный</td>\n",
       "      <td>Джерри Брукхаймер Филмз, Уолт Дисней Пикчерз, ...</td>\n",
       "      <td>США</td>\n",
       "      <td>Йоаким Реннинг, Эспен Сандберг</td>\n",
       "      <td>Джерри Брукхаймер</td>\n",
       "      <td>«16+» - для детей старше 16 лет</td>\n",
       "      <td>NaN</td>\n",
       "      <td>NaN</td>\n",
       "      <td>NaN</td>\n",
       "      <td>NaN</td>\n",
       "      <td>6.6</td>\n",
       "      <td>фэнтези,боевик,комедия</td>\n",
       "      <td>2.118396e+09</td>\n",
       "    </tr>\n",
       "    <tr>\n",
       "      <th>...</th>\n",
       "      <td>...</td>\n",
       "      <td>...</td>\n",
       "      <td>...</td>\n",
       "      <td>...</td>\n",
       "      <td>...</td>\n",
       "      <td>...</td>\n",
       "      <td>...</td>\n",
       "      <td>...</td>\n",
       "      <td>...</td>\n",
       "      <td>...</td>\n",
       "      <td>...</td>\n",
       "      <td>...</td>\n",
       "      <td>...</td>\n",
       "      <td>...</td>\n",
       "      <td>...</td>\n",
       "      <td>...</td>\n",
       "    </tr>\n",
       "    <tr>\n",
       "      <th>7454</th>\n",
       "      <td>Сад художника: Американский импрессионизм</td>\n",
       "      <td>126008019</td>\n",
       "      <td>2019-12-23 12:00:00</td>\n",
       "      <td>Прочие</td>\n",
       "      <td>Севен Артс Продакшнз</td>\n",
       "      <td>Великобритания</td>\n",
       "      <td>Фил Грабски</td>\n",
       "      <td>Фил Грабски</td>\n",
       "      <td>«12+» - для детей старше 12 лет</td>\n",
       "      <td>NaN</td>\n",
       "      <td>NaN</td>\n",
       "      <td>NaN</td>\n",
       "      <td>NaN</td>\n",
       "      <td>NaN</td>\n",
       "      <td>NaN</td>\n",
       "      <td>NaN</td>\n",
       "    </tr>\n",
       "    <tr>\n",
       "      <th>7455</th>\n",
       "      <td>Звериная ярость</td>\n",
       "      <td>121037819</td>\n",
       "      <td>2019-12-24 12:00:00</td>\n",
       "      <td>Художественный</td>\n",
       "      <td>Дэниел Гродник Продакшнз, Вандерфилм Медиа Кор...</td>\n",
       "      <td>США</td>\n",
       "      <td>Ник Пауэлл</td>\n",
       "      <td>Джефф Боулер, Дэниэл Гродник, Луильо Руис, Брэ...</td>\n",
       "      <td>«16+» - для детей старше 16 лет</td>\n",
       "      <td>NaN</td>\n",
       "      <td>NaN</td>\n",
       "      <td>NaN</td>\n",
       "      <td>NaN</td>\n",
       "      <td>5.4</td>\n",
       "      <td>боевик,триллер</td>\n",
       "      <td>NaN</td>\n",
       "    </tr>\n",
       "    <tr>\n",
       "      <th>7456</th>\n",
       "      <td>Щенячий патруль: Скорей спешим на помощь!</td>\n",
       "      <td>124010819</td>\n",
       "      <td>2019-12-28 12:00:00</td>\n",
       "      <td>Художественный</td>\n",
       "      <td>Никелодеон Анимейшн Студиос, Спин Мастер</td>\n",
       "      <td>США - Канада</td>\n",
       "      <td>Чарльз Е.Бастьен</td>\n",
       "      <td>Дженнифер Додж</td>\n",
       "      <td>«0+» - для любой зрительской аудитории</td>\n",
       "      <td>NaN</td>\n",
       "      <td>NaN</td>\n",
       "      <td>NaN</td>\n",
       "      <td>NaN</td>\n",
       "      <td>NaN</td>\n",
       "      <td>NaN</td>\n",
       "      <td>NaN</td>\n",
       "    </tr>\n",
       "    <tr>\n",
       "      <th>7457</th>\n",
       "      <td>Машины песенки. Серия \"Испанские мотивы\"</td>\n",
       "      <td>124010619</td>\n",
       "      <td>2019-12-30 12:00:00</td>\n",
       "      <td>Анимационный</td>\n",
       "      <td>Анимаккорд Лтд., ООО Студия \"АНИМАККОРД\"</td>\n",
       "      <td>Республика Кипр, Россия</td>\n",
       "      <td>А.Беляев</td>\n",
       "      <td>Д.Ловейко</td>\n",
       "      <td>«0+» - для любой зрительской аудитории</td>\n",
       "      <td>NaN</td>\n",
       "      <td>NaN</td>\n",
       "      <td>NaN</td>\n",
       "      <td>NaN</td>\n",
       "      <td>NaN</td>\n",
       "      <td>NaN</td>\n",
       "      <td>NaN</td>\n",
       "    </tr>\n",
       "    <tr>\n",
       "      <th>7458</th>\n",
       "      <td>Машины песенки. Серия \"Когда цветут кактусы\"</td>\n",
       "      <td>124010719</td>\n",
       "      <td>2019-12-30 12:00:00</td>\n",
       "      <td>Анимационный</td>\n",
       "      <td>Анимаккорд Лтд., ООО Студия \"АНИМАККОРД\"</td>\n",
       "      <td>Республика Кипр, Россия</td>\n",
       "      <td>И.Трусов</td>\n",
       "      <td>Д.Ловейко</td>\n",
       "      <td>«0+» - для любой зрительской аудитории</td>\n",
       "      <td>NaN</td>\n",
       "      <td>NaN</td>\n",
       "      <td>NaN</td>\n",
       "      <td>NaN</td>\n",
       "      <td>6.3</td>\n",
       "      <td>комедия,вестерн</td>\n",
       "      <td>NaN</td>\n",
       "    </tr>\n",
       "  </tbody>\n",
       "</table>\n",
       "<p>6746 rows × 16 columns</p>\n",
       "</div>"
      ],
      "text/plain": [
       "                                                  title   puNumber  \\\n",
       "7429                                              Холоп  111021719   \n",
       "5642                                     Движение вверх  111011817   \n",
       "6793                                    Мстители: Финал  121005519   \n",
       "6526                                               Т-34  111024918   \n",
       "3484  Пираты Карибского моря: Мертвецы не рассказыва...  121009217   \n",
       "...                                                 ...        ...   \n",
       "7454          Сад художника: Американский импрессионизм  126008019   \n",
       "7455                                    Звериная ярость  121037819   \n",
       "7456          Щенячий патруль: Скорей спешим на помощь!  124010819   \n",
       "7457           Машины песенки. Серия \"Испанские мотивы\"  124010619   \n",
       "7458       Машины песенки. Серия \"Когда цветут кактусы\"  124010719   \n",
       "\n",
       "         show_start_date             type  \\\n",
       "7429 2019-12-19 12:00:00   Художественный   \n",
       "5642 2017-12-21 12:00:00   Художественный   \n",
       "6793 2019-04-29 12:00:00   Художественный   \n",
       "6526 2018-12-21 12:00:00   Художественный   \n",
       "3484 2017-05-17 12:00:00   Художественный   \n",
       "...                  ...              ...   \n",
       "7454 2019-12-23 12:00:00           Прочие   \n",
       "7455 2019-12-24 12:00:00   Художественный   \n",
       "7456 2019-12-28 12:00:00   Художественный   \n",
       "7457 2019-12-30 12:00:00     Анимационный   \n",
       "7458 2019-12-30 12:00:00     Анимационный   \n",
       "\n",
       "                                            film_studio  \\\n",
       "7429            ООО \"МЕМ-МЕДИА\" по заказу АО \"ВБД Груп\"   \n",
       "5642              ООО \"Студия \"ТРИТЭ\" Никиты Михалкова\"   \n",
       "6793                                     Марвел Студиос   \n",
       "6526  ООО \"Кинокомпания МАРС-фильм\" по заказу ООО \"М...   \n",
       "3484  Джерри Брукхаймер Филмз, Уолт Дисней Пикчерз, ...   \n",
       "...                                                 ...   \n",
       "7454                               Севен Артс Продакшнз   \n",
       "7455  Дэниел Гродник Продакшнз, Вандерфилм Медиа Кор...   \n",
       "7456           Никелодеон Анимейшн Студиос, Спин Мастер   \n",
       "7457           Анимаккорд Лтд., ООО Студия \"АНИМАККОРД\"   \n",
       "7458           Анимаккорд Лтд., ООО Студия \"АНИМАККОРД\"   \n",
       "\n",
       "           production_country                        director  \\\n",
       "7429                   Россия                       К.Шипенко   \n",
       "5642                   Россия                    А.Мегердичев   \n",
       "6793                      США         Джо Руссо, Энтони Руссо   \n",
       "6526                   Россия                       А.Сидоров   \n",
       "3484                      США  Йоаким Реннинг, Эспен Сандберг   \n",
       "...                       ...                             ...   \n",
       "7454           Великобритания                     Фил Грабски   \n",
       "7455                      США                      Ник Пауэлл   \n",
       "7456             США - Канада                Чарльз Е.Бастьен   \n",
       "7457  Республика Кипр, Россия                        А.Беляев   \n",
       "7458  Республика Кипр, Россия                        И.Трусов   \n",
       "\n",
       "                                               producer  \\\n",
       "7429  Э.Илоян, Д.Жалинский, В.Дусмухаметов, Т.Бадзие...   \n",
       "5642  Л.Верещагин, А.Златопольский, Н.Михалков, ООО ...   \n",
       "6793                                        Кевин Фейги   \n",
       "6526  А.Златопольский, Р.Дишдишян, Л.Блаватник, Н.Яр...   \n",
       "3484                                  Джерри Брукхаймер   \n",
       "...                                                 ...   \n",
       "7454                                        Фил Грабски   \n",
       "7455  Джефф Боулер, Дэниэл Гродник, Луильо Руис, Брэ...   \n",
       "7456                                     Дженнифер Додж   \n",
       "7457                                          Д.Ловейко   \n",
       "7458                                          Д.Ловейко   \n",
       "\n",
       "                             age_restriction  refundable_support  \\\n",
       "7429         «12+» - для детей старше 12 лет          25000000.0   \n",
       "5642           «6+» - для детей старше 6 лет                 0.0   \n",
       "6793         «16+» - для детей старше 16 лет                 NaN   \n",
       "6526         «12+» - для детей старше 12 лет          60000000.0   \n",
       "3484         «16+» - для детей старше 16 лет                 NaN   \n",
       "...                                      ...                 ...   \n",
       "7454         «12+» - для детей старше 12 лет                 NaN   \n",
       "7455         «16+» - для детей старше 16 лет                 NaN   \n",
       "7456  «0+» - для любой зрительской аудитории                 NaN   \n",
       "7457  «0+» - для любой зрительской аудитории                 NaN   \n",
       "7458  «0+» - для любой зрительской аудитории                 NaN   \n",
       "\n",
       "      nonrefundable_support       budget financing_source  ratings  \\\n",
       "7429             35000000.0  160000000.0        Фонд кино      6.8   \n",
       "5642            400000000.0  590192191.0        Фонд кино      7.5   \n",
       "6793                    NaN          NaN              NaN      7.6   \n",
       "6526            120000000.0  563784717.0        Фонд кино      6.5   \n",
       "3484                    NaN          NaN              NaN      6.6   \n",
       "...                     ...          ...              ...      ...   \n",
       "7454                    NaN          NaN              NaN      NaN   \n",
       "7455                    NaN          NaN              NaN      5.4   \n",
       "7456                    NaN          NaN              NaN      NaN   \n",
       "7457                    NaN          NaN              NaN      NaN   \n",
       "7458                    NaN          NaN              NaN      6.3   \n",
       "\n",
       "                       genres    box_office  \n",
       "7429                  комедия  3.073569e+09  \n",
       "5642              спорт,драма  2.779686e+09  \n",
       "6793  фантастика,боевик,драма  2.576614e+09  \n",
       "6526     драма,военный,боевик  2.271754e+09  \n",
       "3484   фэнтези,боевик,комедия  2.118396e+09  \n",
       "...                       ...           ...  \n",
       "7454                      NaN           NaN  \n",
       "7455           боевик,триллер           NaN  \n",
       "7456                      NaN           NaN  \n",
       "7457                      NaN           NaN  \n",
       "7458          комедия,вестерн           NaN  \n",
       "\n",
       "[6746 rows x 16 columns]"
      ]
     },
     "execution_count": 18,
     "metadata": {},
     "output_type": "execute_result"
    }
   ],
   "source": [
    "data = data.sort_values(\n",
    "    by = 'box_office',\n",
    "    ascending = False\n",
    "    ).drop_duplicates(\n",
    "    subset=['title'])\n",
    "data"
   ]
  },
  {
   "cell_type": "markdown",
   "metadata": {},
   "source": [
    "Проверим еще один столбец на уникальность"
   ]
  },
  {
   "cell_type": "code",
   "execution_count": 19,
   "metadata": {},
   "outputs": [
    {
     "data": {
      "text/plain": [
       "0"
      ]
     },
     "execution_count": 19,
     "metadata": {},
     "output_type": "execute_result"
    }
   ],
   "source": [
    "data['puNumber'].duplicated().sum()"
   ]
  },
  {
   "cell_type": "markdown",
   "metadata": {},
   "source": [
    "Удалим 2 найденных дубликата"
   ]
  },
  {
   "cell_type": "code",
   "execution_count": 20,
   "metadata": {},
   "outputs": [
    {
     "data": {
      "text/html": [
       "<div>\n",
       "<style scoped>\n",
       "    .dataframe tbody tr th:only-of-type {\n",
       "        vertical-align: middle;\n",
       "    }\n",
       "\n",
       "    .dataframe tbody tr th {\n",
       "        vertical-align: top;\n",
       "    }\n",
       "\n",
       "    .dataframe thead th {\n",
       "        text-align: right;\n",
       "    }\n",
       "</style>\n",
       "<table border=\"1\" class=\"dataframe\">\n",
       "  <thead>\n",
       "    <tr style=\"text-align: right;\">\n",
       "      <th></th>\n",
       "      <th>title</th>\n",
       "      <th>puNumber</th>\n",
       "      <th>show_start_date</th>\n",
       "      <th>type</th>\n",
       "      <th>film_studio</th>\n",
       "      <th>production_country</th>\n",
       "      <th>director</th>\n",
       "      <th>producer</th>\n",
       "      <th>age_restriction</th>\n",
       "      <th>refundable_support</th>\n",
       "      <th>nonrefundable_support</th>\n",
       "      <th>budget</th>\n",
       "      <th>financing_source</th>\n",
       "      <th>ratings</th>\n",
       "      <th>genres</th>\n",
       "      <th>box_office</th>\n",
       "    </tr>\n",
       "  </thead>\n",
       "  <tbody>\n",
       "    <tr>\n",
       "      <th>7429</th>\n",
       "      <td>Холоп</td>\n",
       "      <td>111021719</td>\n",
       "      <td>2019-12-19 12:00:00</td>\n",
       "      <td>Художественный</td>\n",
       "      <td>ООО \"МЕМ-МЕДИА\" по заказу АО \"ВБД Груп\"</td>\n",
       "      <td>Россия</td>\n",
       "      <td>К.Шипенко</td>\n",
       "      <td>Э.Илоян, Д.Жалинский, В.Дусмухаметов, Т.Бадзие...</td>\n",
       "      <td>«12+» - для детей старше 12 лет</td>\n",
       "      <td>25000000.0</td>\n",
       "      <td>35000000.0</td>\n",
       "      <td>160000000.0</td>\n",
       "      <td>Фонд кино</td>\n",
       "      <td>6.8</td>\n",
       "      <td>комедия</td>\n",
       "      <td>3.073569e+09</td>\n",
       "    </tr>\n",
       "    <tr>\n",
       "      <th>5642</th>\n",
       "      <td>Движение вверх</td>\n",
       "      <td>111011817</td>\n",
       "      <td>2017-12-21 12:00:00</td>\n",
       "      <td>Художественный</td>\n",
       "      <td>ООО \"Студия \"ТРИТЭ\" Никиты Михалкова\"</td>\n",
       "      <td>Россия</td>\n",
       "      <td>А.Мегердичев</td>\n",
       "      <td>Л.Верещагин, А.Златопольский, Н.Михалков, ООО ...</td>\n",
       "      <td>«6+» - для детей старше 6 лет</td>\n",
       "      <td>0.0</td>\n",
       "      <td>400000000.0</td>\n",
       "      <td>590192191.0</td>\n",
       "      <td>Фонд кино</td>\n",
       "      <td>7.5</td>\n",
       "      <td>спорт,драма</td>\n",
       "      <td>2.779686e+09</td>\n",
       "    </tr>\n",
       "    <tr>\n",
       "      <th>6793</th>\n",
       "      <td>Мстители: Финал</td>\n",
       "      <td>121005519</td>\n",
       "      <td>2019-04-29 12:00:00</td>\n",
       "      <td>Художественный</td>\n",
       "      <td>Марвел Студиос</td>\n",
       "      <td>США</td>\n",
       "      <td>Джо Руссо, Энтони Руссо</td>\n",
       "      <td>Кевин Фейги</td>\n",
       "      <td>«16+» - для детей старше 16 лет</td>\n",
       "      <td>NaN</td>\n",
       "      <td>NaN</td>\n",
       "      <td>NaN</td>\n",
       "      <td>NaN</td>\n",
       "      <td>7.6</td>\n",
       "      <td>фантастика,боевик,драма</td>\n",
       "      <td>2.576614e+09</td>\n",
       "    </tr>\n",
       "    <tr>\n",
       "      <th>6526</th>\n",
       "      <td>Т-34</td>\n",
       "      <td>111024918</td>\n",
       "      <td>2018-12-21 12:00:00</td>\n",
       "      <td>Художественный</td>\n",
       "      <td>ООО \"Кинокомпания МАРС-фильм\" по заказу ООО \"М...</td>\n",
       "      <td>Россия</td>\n",
       "      <td>А.Сидоров</td>\n",
       "      <td>А.Златопольский, Р.Дишдишян, Л.Блаватник, Н.Яр...</td>\n",
       "      <td>«12+» - для детей старше 12 лет</td>\n",
       "      <td>60000000.0</td>\n",
       "      <td>120000000.0</td>\n",
       "      <td>563784717.0</td>\n",
       "      <td>Фонд кино</td>\n",
       "      <td>6.5</td>\n",
       "      <td>драма,военный,боевик</td>\n",
       "      <td>2.271754e+09</td>\n",
       "    </tr>\n",
       "    <tr>\n",
       "      <th>3484</th>\n",
       "      <td>Пираты Карибского моря: Мертвецы не рассказыва...</td>\n",
       "      <td>121009217</td>\n",
       "      <td>2017-05-17 12:00:00</td>\n",
       "      <td>Художественный</td>\n",
       "      <td>Джерри Брукхаймер Филмз, Уолт Дисней Пикчерз, ...</td>\n",
       "      <td>США</td>\n",
       "      <td>Йоаким Реннинг, Эспен Сандберг</td>\n",
       "      <td>Джерри Брукхаймер</td>\n",
       "      <td>«16+» - для детей старше 16 лет</td>\n",
       "      <td>NaN</td>\n",
       "      <td>NaN</td>\n",
       "      <td>NaN</td>\n",
       "      <td>NaN</td>\n",
       "      <td>6.6</td>\n",
       "      <td>фэнтези,боевик,комедия</td>\n",
       "      <td>2.118396e+09</td>\n",
       "    </tr>\n",
       "    <tr>\n",
       "      <th>...</th>\n",
       "      <td>...</td>\n",
       "      <td>...</td>\n",
       "      <td>...</td>\n",
       "      <td>...</td>\n",
       "      <td>...</td>\n",
       "      <td>...</td>\n",
       "      <td>...</td>\n",
       "      <td>...</td>\n",
       "      <td>...</td>\n",
       "      <td>...</td>\n",
       "      <td>...</td>\n",
       "      <td>...</td>\n",
       "      <td>...</td>\n",
       "      <td>...</td>\n",
       "      <td>...</td>\n",
       "      <td>...</td>\n",
       "    </tr>\n",
       "    <tr>\n",
       "      <th>7454</th>\n",
       "      <td>Сад художника: Американский импрессионизм</td>\n",
       "      <td>126008019</td>\n",
       "      <td>2019-12-23 12:00:00</td>\n",
       "      <td>Прочие</td>\n",
       "      <td>Севен Артс Продакшнз</td>\n",
       "      <td>Великобритания</td>\n",
       "      <td>Фил Грабски</td>\n",
       "      <td>Фил Грабски</td>\n",
       "      <td>«12+» - для детей старше 12 лет</td>\n",
       "      <td>NaN</td>\n",
       "      <td>NaN</td>\n",
       "      <td>NaN</td>\n",
       "      <td>NaN</td>\n",
       "      <td>NaN</td>\n",
       "      <td>NaN</td>\n",
       "      <td>NaN</td>\n",
       "    </tr>\n",
       "    <tr>\n",
       "      <th>7455</th>\n",
       "      <td>Звериная ярость</td>\n",
       "      <td>121037819</td>\n",
       "      <td>2019-12-24 12:00:00</td>\n",
       "      <td>Художественный</td>\n",
       "      <td>Дэниел Гродник Продакшнз, Вандерфилм Медиа Кор...</td>\n",
       "      <td>США</td>\n",
       "      <td>Ник Пауэлл</td>\n",
       "      <td>Джефф Боулер, Дэниэл Гродник, Луильо Руис, Брэ...</td>\n",
       "      <td>«16+» - для детей старше 16 лет</td>\n",
       "      <td>NaN</td>\n",
       "      <td>NaN</td>\n",
       "      <td>NaN</td>\n",
       "      <td>NaN</td>\n",
       "      <td>5.4</td>\n",
       "      <td>боевик,триллер</td>\n",
       "      <td>NaN</td>\n",
       "    </tr>\n",
       "    <tr>\n",
       "      <th>7456</th>\n",
       "      <td>Щенячий патруль: Скорей спешим на помощь!</td>\n",
       "      <td>124010819</td>\n",
       "      <td>2019-12-28 12:00:00</td>\n",
       "      <td>Художественный</td>\n",
       "      <td>Никелодеон Анимейшн Студиос, Спин Мастер</td>\n",
       "      <td>США - Канада</td>\n",
       "      <td>Чарльз Е.Бастьен</td>\n",
       "      <td>Дженнифер Додж</td>\n",
       "      <td>«0+» - для любой зрительской аудитории</td>\n",
       "      <td>NaN</td>\n",
       "      <td>NaN</td>\n",
       "      <td>NaN</td>\n",
       "      <td>NaN</td>\n",
       "      <td>NaN</td>\n",
       "      <td>NaN</td>\n",
       "      <td>NaN</td>\n",
       "    </tr>\n",
       "    <tr>\n",
       "      <th>7457</th>\n",
       "      <td>Машины песенки. Серия \"Испанские мотивы\"</td>\n",
       "      <td>124010619</td>\n",
       "      <td>2019-12-30 12:00:00</td>\n",
       "      <td>Анимационный</td>\n",
       "      <td>Анимаккорд Лтд., ООО Студия \"АНИМАККОРД\"</td>\n",
       "      <td>Республика Кипр, Россия</td>\n",
       "      <td>А.Беляев</td>\n",
       "      <td>Д.Ловейко</td>\n",
       "      <td>«0+» - для любой зрительской аудитории</td>\n",
       "      <td>NaN</td>\n",
       "      <td>NaN</td>\n",
       "      <td>NaN</td>\n",
       "      <td>NaN</td>\n",
       "      <td>NaN</td>\n",
       "      <td>NaN</td>\n",
       "      <td>NaN</td>\n",
       "    </tr>\n",
       "    <tr>\n",
       "      <th>7458</th>\n",
       "      <td>Машины песенки. Серия \"Когда цветут кактусы\"</td>\n",
       "      <td>124010719</td>\n",
       "      <td>2019-12-30 12:00:00</td>\n",
       "      <td>Анимационный</td>\n",
       "      <td>Анимаккорд Лтд., ООО Студия \"АНИМАККОРД\"</td>\n",
       "      <td>Республика Кипр, Россия</td>\n",
       "      <td>И.Трусов</td>\n",
       "      <td>Д.Ловейко</td>\n",
       "      <td>«0+» - для любой зрительской аудитории</td>\n",
       "      <td>NaN</td>\n",
       "      <td>NaN</td>\n",
       "      <td>NaN</td>\n",
       "      <td>NaN</td>\n",
       "      <td>6.3</td>\n",
       "      <td>комедия,вестерн</td>\n",
       "      <td>NaN</td>\n",
       "    </tr>\n",
       "  </tbody>\n",
       "</table>\n",
       "<p>6746 rows × 16 columns</p>\n",
       "</div>"
      ],
      "text/plain": [
       "                                                  title   puNumber  \\\n",
       "7429                                              Холоп  111021719   \n",
       "5642                                     Движение вверх  111011817   \n",
       "6793                                    Мстители: Финал  121005519   \n",
       "6526                                               Т-34  111024918   \n",
       "3484  Пираты Карибского моря: Мертвецы не рассказыва...  121009217   \n",
       "...                                                 ...        ...   \n",
       "7454          Сад художника: Американский импрессионизм  126008019   \n",
       "7455                                    Звериная ярость  121037819   \n",
       "7456          Щенячий патруль: Скорей спешим на помощь!  124010819   \n",
       "7457           Машины песенки. Серия \"Испанские мотивы\"  124010619   \n",
       "7458       Машины песенки. Серия \"Когда цветут кактусы\"  124010719   \n",
       "\n",
       "         show_start_date             type  \\\n",
       "7429 2019-12-19 12:00:00   Художественный   \n",
       "5642 2017-12-21 12:00:00   Художественный   \n",
       "6793 2019-04-29 12:00:00   Художественный   \n",
       "6526 2018-12-21 12:00:00   Художественный   \n",
       "3484 2017-05-17 12:00:00   Художественный   \n",
       "...                  ...              ...   \n",
       "7454 2019-12-23 12:00:00           Прочие   \n",
       "7455 2019-12-24 12:00:00   Художественный   \n",
       "7456 2019-12-28 12:00:00   Художественный   \n",
       "7457 2019-12-30 12:00:00     Анимационный   \n",
       "7458 2019-12-30 12:00:00     Анимационный   \n",
       "\n",
       "                                            film_studio  \\\n",
       "7429            ООО \"МЕМ-МЕДИА\" по заказу АО \"ВБД Груп\"   \n",
       "5642              ООО \"Студия \"ТРИТЭ\" Никиты Михалкова\"   \n",
       "6793                                     Марвел Студиос   \n",
       "6526  ООО \"Кинокомпания МАРС-фильм\" по заказу ООО \"М...   \n",
       "3484  Джерри Брукхаймер Филмз, Уолт Дисней Пикчерз, ...   \n",
       "...                                                 ...   \n",
       "7454                               Севен Артс Продакшнз   \n",
       "7455  Дэниел Гродник Продакшнз, Вандерфилм Медиа Кор...   \n",
       "7456           Никелодеон Анимейшн Студиос, Спин Мастер   \n",
       "7457           Анимаккорд Лтд., ООО Студия \"АНИМАККОРД\"   \n",
       "7458           Анимаккорд Лтд., ООО Студия \"АНИМАККОРД\"   \n",
       "\n",
       "           production_country                        director  \\\n",
       "7429                   Россия                       К.Шипенко   \n",
       "5642                   Россия                    А.Мегердичев   \n",
       "6793                      США         Джо Руссо, Энтони Руссо   \n",
       "6526                   Россия                       А.Сидоров   \n",
       "3484                      США  Йоаким Реннинг, Эспен Сандберг   \n",
       "...                       ...                             ...   \n",
       "7454           Великобритания                     Фил Грабски   \n",
       "7455                      США                      Ник Пауэлл   \n",
       "7456             США - Канада                Чарльз Е.Бастьен   \n",
       "7457  Республика Кипр, Россия                        А.Беляев   \n",
       "7458  Республика Кипр, Россия                        И.Трусов   \n",
       "\n",
       "                                               producer  \\\n",
       "7429  Э.Илоян, Д.Жалинский, В.Дусмухаметов, Т.Бадзие...   \n",
       "5642  Л.Верещагин, А.Златопольский, Н.Михалков, ООО ...   \n",
       "6793                                        Кевин Фейги   \n",
       "6526  А.Златопольский, Р.Дишдишян, Л.Блаватник, Н.Яр...   \n",
       "3484                                  Джерри Брукхаймер   \n",
       "...                                                 ...   \n",
       "7454                                        Фил Грабски   \n",
       "7455  Джефф Боулер, Дэниэл Гродник, Луильо Руис, Брэ...   \n",
       "7456                                     Дженнифер Додж   \n",
       "7457                                          Д.Ловейко   \n",
       "7458                                          Д.Ловейко   \n",
       "\n",
       "                             age_restriction  refundable_support  \\\n",
       "7429         «12+» - для детей старше 12 лет          25000000.0   \n",
       "5642           «6+» - для детей старше 6 лет                 0.0   \n",
       "6793         «16+» - для детей старше 16 лет                 NaN   \n",
       "6526         «12+» - для детей старше 12 лет          60000000.0   \n",
       "3484         «16+» - для детей старше 16 лет                 NaN   \n",
       "...                                      ...                 ...   \n",
       "7454         «12+» - для детей старше 12 лет                 NaN   \n",
       "7455         «16+» - для детей старше 16 лет                 NaN   \n",
       "7456  «0+» - для любой зрительской аудитории                 NaN   \n",
       "7457  «0+» - для любой зрительской аудитории                 NaN   \n",
       "7458  «0+» - для любой зрительской аудитории                 NaN   \n",
       "\n",
       "      nonrefundable_support       budget financing_source  ratings  \\\n",
       "7429             35000000.0  160000000.0        Фонд кино      6.8   \n",
       "5642            400000000.0  590192191.0        Фонд кино      7.5   \n",
       "6793                    NaN          NaN              NaN      7.6   \n",
       "6526            120000000.0  563784717.0        Фонд кино      6.5   \n",
       "3484                    NaN          NaN              NaN      6.6   \n",
       "...                     ...          ...              ...      ...   \n",
       "7454                    NaN          NaN              NaN      NaN   \n",
       "7455                    NaN          NaN              NaN      5.4   \n",
       "7456                    NaN          NaN              NaN      NaN   \n",
       "7457                    NaN          NaN              NaN      NaN   \n",
       "7458                    NaN          NaN              NaN      6.3   \n",
       "\n",
       "                       genres    box_office  \n",
       "7429                  комедия  3.073569e+09  \n",
       "5642              спорт,драма  2.779686e+09  \n",
       "6793  фантастика,боевик,драма  2.576614e+09  \n",
       "6526     драма,военный,боевик  2.271754e+09  \n",
       "3484   фэнтези,боевик,комедия  2.118396e+09  \n",
       "...                       ...           ...  \n",
       "7454                      NaN           NaN  \n",
       "7455           боевик,триллер           NaN  \n",
       "7456                      NaN           NaN  \n",
       "7457                      NaN           NaN  \n",
       "7458          комедия,вестерн           NaN  \n",
       "\n",
       "[6746 rows x 16 columns]"
      ]
     },
     "execution_count": 20,
     "metadata": {},
     "output_type": "execute_result"
    }
   ],
   "source": [
    "data = data.drop_duplicates(subset=['puNumber'])\n",
    "data"
   ]
  },
  {
   "cell_type": "markdown",
   "metadata": {
    "id": "52fOPrEBgFyQ"
   },
   "source": [
    "#### Шаг 2.4. Изучите категориальные значения\n",
    "\n",
    "- Посмотрите, какая общая проблема встречается почти во всех категориальных столбцах;\n",
    "- Исправьте проблемные значения в поле `type`.\n",
    "\n",
    "<div id=\"accordion\">\n",
    "    <div class=\"card\">\n",
    "        <div class=\"card-header\" id=\"headingThree\">\n",
    "            <button class=\"btn btn-link collapsed\" data-toggle=\"collapse\" data-target=\"#collapseHint_1\" aria-expanded=\"false\" aria-controls=\"collapseHint_1\">Подсказка</button>\n",
    "        </div>\n",
    "        <div id=\"collapseHint_1\" class=\"collapse\" aria-labelledby=\"headingThree\" data-parent=\"#accordion\">\n",
    "            <div class=\"card-body\">\n",
    "В поле <code>type</code> есть несколько значений, у которых появился пробел в начале строки. Самый простой способ их «починить» -- использовать метод <a href=\"https://pandas.pydata.org/docs/reference/api/pandas.Series.str.strip.html#pandas.Series.str.strip\">.str.strip</a>. Этот метод удаляет все пробелы, которые встречаются в начале и в конце строки. Применяют его таким образом:<br>\n",
    "<code>df['type'].str.strip()</code>\n",
    "            </div>\n",
    "        </div>\n",
    "    </div>\n",
    "</div>"
   ]
  },
  {
   "cell_type": "markdown",
   "metadata": {},
   "source": [
    "\n",
    "    Насколько я вижу, в столбцах по разному написаны Фамилия/Имя режиссёров (столбец **director**) и продюсеров (столбец **producer**), с сокращениями и без. В названиях фильмов (столбец **title**) также появляются непредсказуемые знаки препинания. Обобщим - разные методы написания/сокращения названий."
   ]
  },
  {
   "cell_type": "markdown",
   "metadata": {},
   "source": [
    "Поработаем со столбцом Жанр. Заменим пропуски на значение **не указан**"
   ]
  },
  {
   "cell_type": "code",
   "execution_count": 21,
   "metadata": {},
   "outputs": [
    {
     "data": {
      "text/plain": [
       "не указан                       949\n",
       "драма                           448\n",
       "комедия                         328\n",
       "мелодрама,комедия               181\n",
       "драма,мелодрама                 170\n",
       "                               ... \n",
       "военный,детектив                  1\n",
       "комедия,фэнтези,ужасы             1\n",
       "мелодрама,триллер,история         1\n",
       "фантастика,боевик,семейный        1\n",
       "короткометражка,боевик,драма      1\n",
       "Name: genres, Length: 742, dtype: int64"
      ]
     },
     "execution_count": 21,
     "metadata": {},
     "output_type": "execute_result"
    }
   ],
   "source": [
    "data['genres'] = data['genres'].fillna(value = 'не указан')\n",
    "data['genres'].value_counts()"
   ]
  },
  {
   "cell_type": "markdown",
   "metadata": {},
   "source": [
    "\n"
   ]
  },
  {
   "cell_type": "markdown",
   "metadata": {
    "id": "PnXKIVdFgFyR"
   },
   "source": [
    "Исправим проблемные значения в поле type"
   ]
  },
  {
   "cell_type": "code",
   "execution_count": 22,
   "metadata": {},
   "outputs": [
    {
     "data": {
      "text/plain": [
       "7429    Художественный\n",
       "5642    Художественный\n",
       "6793    Художественный\n",
       "6526    Художественный\n",
       "3484    Художественный\n",
       "             ...      \n",
       "7454            Прочие\n",
       "7455    Художественный\n",
       "7456    Художественный\n",
       "7457      Анимационный\n",
       "7458      Анимационный\n",
       "Name: type, Length: 6746, dtype: object"
      ]
     },
     "execution_count": 22,
     "metadata": {},
     "output_type": "execute_result"
    }
   ],
   "source": [
    "data['type'] = data['type'].str.strip()\n",
    "data['type']"
   ]
  },
  {
   "cell_type": "markdown",
   "metadata": {
    "id": "XFSN5lrEgFyR"
   },
   "source": [
    "#### Шаг 2.5. Проверьте количественные значения\n",
    "\n",
    "- Проверьте, обнаружились ли в таких столбцах подозрительные данные. Как с такими данными лучше поступить?\n",
    "\n",
    "<div id=\"accordion\">\n",
    "    <div class=\"card\">\n",
    "        <div class=\"card-header\" id=\"headingThree\">\n",
    "            <button class=\"btn btn-link collapsed\" data-toggle=\"collapse\" data-target=\"#collapseHint_budget\" aria-expanded=\"false\" aria-controls=\"collapseHint_budget\">Подсказка</button>\n",
    "        </div>\n",
    "        <div id=\"collapseHint_budget\" class=\"collapse\" aria-labelledby=\"headingThree\" data-parent=\"#accordion\">\n",
    "            <div class=\"card-body\">\n",
    "Обратите внимание на описание столбца <code>budget</code>. Как этот столбец соотносится с двумя другими: <code>refundable_support</code> и <code>nonrefundable_support</code>?\n",
    "            </div>\n",
    "        </div>\n",
    "    </div>\n",
    "</div>"
   ]
  },
  {
   "cell_type": "markdown",
   "metadata": {},
   "source": [
    "Для начала заменим пропуски в столбцах с бюджетом на нули"
   ]
  },
  {
   "cell_type": "code",
   "execution_count": 23,
   "metadata": {},
   "outputs": [
    {
     "data": {
      "text/html": [
       "<div>\n",
       "<style scoped>\n",
       "    .dataframe tbody tr th:only-of-type {\n",
       "        vertical-align: middle;\n",
       "    }\n",
       "\n",
       "    .dataframe tbody tr th {\n",
       "        vertical-align: top;\n",
       "    }\n",
       "\n",
       "    .dataframe thead th {\n",
       "        text-align: right;\n",
       "    }\n",
       "</style>\n",
       "<table border=\"1\" class=\"dataframe\">\n",
       "  <thead>\n",
       "    <tr style=\"text-align: right;\">\n",
       "      <th></th>\n",
       "      <th>title</th>\n",
       "      <th>puNumber</th>\n",
       "      <th>show_start_date</th>\n",
       "      <th>type</th>\n",
       "      <th>film_studio</th>\n",
       "      <th>production_country</th>\n",
       "      <th>director</th>\n",
       "      <th>producer</th>\n",
       "      <th>age_restriction</th>\n",
       "      <th>refundable_support</th>\n",
       "      <th>nonrefundable_support</th>\n",
       "      <th>budget</th>\n",
       "      <th>financing_source</th>\n",
       "      <th>ratings</th>\n",
       "      <th>genres</th>\n",
       "      <th>box_office</th>\n",
       "    </tr>\n",
       "  </thead>\n",
       "  <tbody>\n",
       "    <tr>\n",
       "      <th>320</th>\n",
       "      <td>Халк</td>\n",
       "      <td>221038716</td>\n",
       "      <td>2016-10-10 12:00:00</td>\n",
       "      <td>Художественный</td>\n",
       "      <td>Юниверсал Пикчерз</td>\n",
       "      <td>США</td>\n",
       "      <td>Энг Ли</td>\n",
       "      <td>Ларри Франко, Гейл Энн Хард</td>\n",
       "      <td>«16+» - для детей старше 16 лет</td>\n",
       "      <td>NaN</td>\n",
       "      <td>NaN</td>\n",
       "      <td>0.000000e+00</td>\n",
       "      <td>NaN</td>\n",
       "      <td>6.2</td>\n",
       "      <td>фантастика,боевик</td>\n",
       "      <td>NaN</td>\n",
       "    </tr>\n",
       "    <tr>\n",
       "      <th>2192</th>\n",
       "      <td>Библиотекарь.</td>\n",
       "      <td>111000215</td>\n",
       "      <td>2015-01-14 12:00:00</td>\n",
       "      <td>Художественный</td>\n",
       "      <td>ООО \"Россфильм\"</td>\n",
       "      <td>Россия</td>\n",
       "      <td>Т.Воронецкая</td>\n",
       "      <td>Е.Белова</td>\n",
       "      <td>«16+» - для детей старше 16 лет</td>\n",
       "      <td>NaN</td>\n",
       "      <td>NaN</td>\n",
       "      <td>0.000000e+00</td>\n",
       "      <td>NaN</td>\n",
       "      <td>6.7</td>\n",
       "      <td>фэнтези,боевик,триллер</td>\n",
       "      <td>NaN</td>\n",
       "    </tr>\n",
       "    <tr>\n",
       "      <th>2185</th>\n",
       "      <td>ДРАКУЛА</td>\n",
       "      <td>121018114</td>\n",
       "      <td>2014-08-07 12:00:00</td>\n",
       "      <td>Художественный</td>\n",
       "      <td>Юниверсал Пикчерз, Леджендари Пикчерз, Майкл Д...</td>\n",
       "      <td>США</td>\n",
       "      <td>Гари Шор</td>\n",
       "      <td>Джон Дж.Джашни, Джозеф М.Карачиоло младший, Ма...</td>\n",
       "      <td>«12+» - для детей старше 12 лет</td>\n",
       "      <td>NaN</td>\n",
       "      <td>NaN</td>\n",
       "      <td>0.000000e+00</td>\n",
       "      <td>NaN</td>\n",
       "      <td>7.8</td>\n",
       "      <td>ужасы,фэнтези,мелодрама</td>\n",
       "      <td>NaN</td>\n",
       "    </tr>\n",
       "    <tr>\n",
       "      <th>2184</th>\n",
       "      <td>Одна миллиардная доля</td>\n",
       "      <td>121018014</td>\n",
       "      <td>2014-08-07 12:00:00</td>\n",
       "      <td>Художественный</td>\n",
       "      <td>Бенаройа Пикчерз, Мискеланиос Интертейнмент, П...</td>\n",
       "      <td>США</td>\n",
       "      <td>Брайан Хориути</td>\n",
       "      <td>Майкл Бенаройа, Дэвид Диксон, Кевин Скотт Фрайкс</td>\n",
       "      <td>«16+» - для детей старше 16 лет</td>\n",
       "      <td>NaN</td>\n",
       "      <td>NaN</td>\n",
       "      <td>0.000000e+00</td>\n",
       "      <td>NaN</td>\n",
       "      <td>4.8</td>\n",
       "      <td>фантастика,драма,мелодрама</td>\n",
       "      <td>NaN</td>\n",
       "    </tr>\n",
       "    <tr>\n",
       "      <th>2182</th>\n",
       "      <td>Доктор Кто: Глубокий вдох</td>\n",
       "      <td>121017814</td>\n",
       "      <td>2014-08-07 12:00:00</td>\n",
       "      <td>Художественный</td>\n",
       "      <td>Би-Би-Си, Эс Бэ Эс</td>\n",
       "      <td>Великобритания</td>\n",
       "      <td>Бен Уитли</td>\n",
       "      <td>Брайан Минчин, Стивен Моффат</td>\n",
       "      <td>«12+» - для детей старше 12 лет</td>\n",
       "      <td>NaN</td>\n",
       "      <td>NaN</td>\n",
       "      <td>0.000000e+00</td>\n",
       "      <td>NaN</td>\n",
       "      <td>7.8</td>\n",
       "      <td>фантастика,приключения,драма</td>\n",
       "      <td>NaN</td>\n",
       "    </tr>\n",
       "    <tr>\n",
       "      <th>...</th>\n",
       "      <td>...</td>\n",
       "      <td>...</td>\n",
       "      <td>...</td>\n",
       "      <td>...</td>\n",
       "      <td>...</td>\n",
       "      <td>...</td>\n",
       "      <td>...</td>\n",
       "      <td>...</td>\n",
       "      <td>...</td>\n",
       "      <td>...</td>\n",
       "      <td>...</td>\n",
       "      <td>...</td>\n",
       "      <td>...</td>\n",
       "      <td>...</td>\n",
       "      <td>...</td>\n",
       "      <td>...</td>\n",
       "    </tr>\n",
       "    <tr>\n",
       "      <th>3347</th>\n",
       "      <td>Дуэлянт</td>\n",
       "      <td>111015416</td>\n",
       "      <td>2016-09-14 12:00:00</td>\n",
       "      <td>Художественный</td>\n",
       "      <td>ООО \"Нон-Стоп Продакшн\"</td>\n",
       "      <td>Россия</td>\n",
       "      <td>А.Мизгирев</td>\n",
       "      <td>А.Роднянский, С.Мелькумов</td>\n",
       "      <td>«16+» - для детей старше 16 лет</td>\n",
       "      <td>150000000.0</td>\n",
       "      <td>300000000.0</td>\n",
       "      <td>6.842005e+08</td>\n",
       "      <td>Фонд кино</td>\n",
       "      <td>6.6</td>\n",
       "      <td>драма</td>\n",
       "      <td>3.642851e+08</td>\n",
       "    </tr>\n",
       "    <tr>\n",
       "      <th>7144</th>\n",
       "      <td>Грех</td>\n",
       "      <td>111014419</td>\n",
       "      <td>2019-08-31 12:00:00</td>\n",
       "      <td>Художественный</td>\n",
       "      <td>НО Фонд Андрея Кончаловского по поддержке кино...</td>\n",
       "      <td>Россия, Италия</td>\n",
       "      <td>А.Михалков (псевдоним А.Кончаловский)</td>\n",
       "      <td>НО Фонд Андрея Кончаловского по поддержке кино...</td>\n",
       "      <td>«16+» - для детей старше 16 лет</td>\n",
       "      <td>0.0</td>\n",
       "      <td>60000000.0</td>\n",
       "      <td>7.799420e+08</td>\n",
       "      <td>Министерство культуры</td>\n",
       "      <td>6.9</td>\n",
       "      <td>драма,биография,история</td>\n",
       "      <td>5.424320e+07</td>\n",
       "    </tr>\n",
       "    <tr>\n",
       "      <th>7437</th>\n",
       "      <td>Союз спасения</td>\n",
       "      <td>111022019</td>\n",
       "      <td>2019-12-26 12:00:00</td>\n",
       "      <td>Художественный</td>\n",
       "      <td>ЗАО \"Дирекция кино\"</td>\n",
       "      <td>Россия</td>\n",
       "      <td>А.Кравчук</td>\n",
       "      <td>А.Максимов, К.Эрнст</td>\n",
       "      <td>«12+» - для детей старше 12 лет</td>\n",
       "      <td>100000000.0</td>\n",
       "      <td>400000000.0</td>\n",
       "      <td>9.800000e+08</td>\n",
       "      <td>Фонд кино</td>\n",
       "      <td>6.0</td>\n",
       "      <td>история,биография,драма</td>\n",
       "      <td>7.177032e+08</td>\n",
       "    </tr>\n",
       "    <tr>\n",
       "      <th>5426</th>\n",
       "      <td>Матильда</td>\n",
       "      <td>111005717</td>\n",
       "      <td>2017-08-17 12:00:00</td>\n",
       "      <td>Художественный</td>\n",
       "      <td>ООО \"ТПО \"РОК\", ООО \"Матильда\"</td>\n",
       "      <td>Россия</td>\n",
       "      <td>А.Учитель</td>\n",
       "      <td>А.Учитель, А.Достман, В.Винокур</td>\n",
       "      <td>«16+» - для детей старше 16 лет</td>\n",
       "      <td>110000000.0</td>\n",
       "      <td>190000000.0</td>\n",
       "      <td>1.032906e+09</td>\n",
       "      <td>Фонд кино</td>\n",
       "      <td>7.7</td>\n",
       "      <td>фэнтези,комедия,семейный</td>\n",
       "      <td>5.117755e+08</td>\n",
       "    </tr>\n",
       "    <tr>\n",
       "      <th>7087</th>\n",
       "      <td>Тайна Печати Дракона</td>\n",
       "      <td>111012819</td>\n",
       "      <td>2019-09-12 12:00:00</td>\n",
       "      <td>Художественный</td>\n",
       "      <td>ООО \"Кинокомпания \"СТВ\"; ООО \"РФГ Корп\"; ООО \"...</td>\n",
       "      <td>Россия-Китай</td>\n",
       "      <td>О.Степченко</td>\n",
       "      <td>С.Сельянов, А.Петрухин</td>\n",
       "      <td>«6+» - для детей старше 6 лет</td>\n",
       "      <td>180000000.0</td>\n",
       "      <td>90000000.0</td>\n",
       "      <td>2.305074e+09</td>\n",
       "      <td>Фонд кино</td>\n",
       "      <td>5.8</td>\n",
       "      <td>приключения,фэнтези</td>\n",
       "      <td>3.335971e+08</td>\n",
       "    </tr>\n",
       "  </tbody>\n",
       "</table>\n",
       "<p>6746 rows × 16 columns</p>\n",
       "</div>"
      ],
      "text/plain": [
       "                          title   puNumber     show_start_date  \\\n",
       "320                        Халк  221038716 2016-10-10 12:00:00   \n",
       "2192              Библиотекарь.  111000215 2015-01-14 12:00:00   \n",
       "2185                    ДРАКУЛА  121018114 2014-08-07 12:00:00   \n",
       "2184      Одна миллиардная доля  121018014 2014-08-07 12:00:00   \n",
       "2182  Доктор Кто: Глубокий вдох  121017814 2014-08-07 12:00:00   \n",
       "...                         ...        ...                 ...   \n",
       "3347                    Дуэлянт  111015416 2016-09-14 12:00:00   \n",
       "7144                       Грех  111014419 2019-08-31 12:00:00   \n",
       "7437              Союз спасения  111022019 2019-12-26 12:00:00   \n",
       "5426                   Матильда  111005717 2017-08-17 12:00:00   \n",
       "7087       Тайна Печати Дракона  111012819 2019-09-12 12:00:00   \n",
       "\n",
       "                type                                        film_studio  \\\n",
       "320   Художественный                                  Юниверсал Пикчерз   \n",
       "2192  Художественный                                    ООО \"Россфильм\"   \n",
       "2185  Художественный  Юниверсал Пикчерз, Леджендари Пикчерз, Майкл Д...   \n",
       "2184  Художественный  Бенаройа Пикчерз, Мискеланиос Интертейнмент, П...   \n",
       "2182  Художественный                                 Би-Би-Си, Эс Бэ Эс   \n",
       "...              ...                                                ...   \n",
       "3347  Художественный                            ООО \"Нон-Стоп Продакшн\"   \n",
       "7144  Художественный  НО Фонд Андрея Кончаловского по поддержке кино...   \n",
       "7437  Художественный                                ЗАО \"Дирекция кино\"   \n",
       "5426  Художественный                     ООО \"ТПО \"РОК\", ООО \"Матильда\"   \n",
       "7087  Художественный  ООО \"Кинокомпания \"СТВ\"; ООО \"РФГ Корп\"; ООО \"...   \n",
       "\n",
       "     production_country                               director  \\\n",
       "320                 США                                 Энг Ли   \n",
       "2192             Россия                           Т.Воронецкая   \n",
       "2185                США                               Гари Шор   \n",
       "2184                США                         Брайан Хориути   \n",
       "2182     Великобритания                           Бен Уитли      \n",
       "...                 ...                                    ...   \n",
       "3347             Россия                             А.Мизгирев   \n",
       "7144     Россия, Италия  А.Михалков (псевдоним А.Кончаловский)   \n",
       "7437             Россия                              А.Кравчук   \n",
       "5426             Россия                              А.Учитель   \n",
       "7087       Россия-Китай                            О.Степченко   \n",
       "\n",
       "                                               producer  \\\n",
       "320                         Ларри Франко, Гейл Энн Хард   \n",
       "2192                                           Е.Белова   \n",
       "2185  Джон Дж.Джашни, Джозеф М.Карачиоло младший, Ма...   \n",
       "2184   Майкл Бенаройа, Дэвид Диксон, Кевин Скотт Фрайкс   \n",
       "2182                       Брайан Минчин, Стивен Моффат   \n",
       "...                                                 ...   \n",
       "3347                          А.Роднянский, С.Мелькумов   \n",
       "7144  НО Фонд Андрея Кончаловского по поддержке кино...   \n",
       "7437                                А.Максимов, К.Эрнст   \n",
       "5426                    А.Учитель, А.Достман, В.Винокур   \n",
       "7087                             С.Сельянов, А.Петрухин   \n",
       "\n",
       "                      age_restriction  refundable_support  \\\n",
       "320   «16+» - для детей старше 16 лет                 NaN   \n",
       "2192  «16+» - для детей старше 16 лет                 NaN   \n",
       "2185  «12+» - для детей старше 12 лет                 NaN   \n",
       "2184  «16+» - для детей старше 16 лет                 NaN   \n",
       "2182  «12+» - для детей старше 12 лет                 NaN   \n",
       "...                               ...                 ...   \n",
       "3347  «16+» - для детей старше 16 лет         150000000.0   \n",
       "7144  «16+» - для детей старше 16 лет                 0.0   \n",
       "7437  «12+» - для детей старше 12 лет         100000000.0   \n",
       "5426  «16+» - для детей старше 16 лет         110000000.0   \n",
       "7087    «6+» - для детей старше 6 лет         180000000.0   \n",
       "\n",
       "      nonrefundable_support        budget       financing_source  ratings  \\\n",
       "320                     NaN  0.000000e+00                    NaN      6.2   \n",
       "2192                    NaN  0.000000e+00                    NaN      6.7   \n",
       "2185                    NaN  0.000000e+00                    NaN      7.8   \n",
       "2184                    NaN  0.000000e+00                    NaN      4.8   \n",
       "2182                    NaN  0.000000e+00                    NaN      7.8   \n",
       "...                     ...           ...                    ...      ...   \n",
       "3347            300000000.0  6.842005e+08              Фонд кино      6.6   \n",
       "7144             60000000.0  7.799420e+08  Министерство культуры      6.9   \n",
       "7437            400000000.0  9.800000e+08              Фонд кино      6.0   \n",
       "5426            190000000.0  1.032906e+09              Фонд кино      7.7   \n",
       "7087             90000000.0  2.305074e+09              Фонд кино      5.8   \n",
       "\n",
       "                            genres    box_office  \n",
       "320              фантастика,боевик           NaN  \n",
       "2192        фэнтези,боевик,триллер           NaN  \n",
       "2185       ужасы,фэнтези,мелодрама           NaN  \n",
       "2184    фантастика,драма,мелодрама           NaN  \n",
       "2182  фантастика,приключения,драма           NaN  \n",
       "...                            ...           ...  \n",
       "3347                         драма  3.642851e+08  \n",
       "7144       драма,биография,история  5.424320e+07  \n",
       "7437       история,биография,драма  7.177032e+08  \n",
       "5426      фэнтези,комедия,семейный  5.117755e+08  \n",
       "7087           приключения,фэнтези  3.335971e+08  \n",
       "\n",
       "[6746 rows x 16 columns]"
      ]
     },
     "execution_count": 23,
     "metadata": {},
     "output_type": "execute_result"
    }
   ],
   "source": [
    "data['budget'] = data[['budget','refundable_support','nonrefundable_support']].fillna(0)\n",
    "data.sort_values(by='budget')"
   ]
  },
  {
   "cell_type": "markdown",
   "metadata": {},
   "source": [
    "Очень сложно работать с такими нечитаемыми данными. Числовые значения в столбцах **refundable_support**,\t**nonrefundable_support**, **budget**, **box_office** переведем в тысячи рублей"
   ]
  },
  {
   "cell_type": "code",
   "execution_count": 24,
   "metadata": {},
   "outputs": [
    {
     "data": {
      "text/html": [
       "<div>\n",
       "<style scoped>\n",
       "    .dataframe tbody tr th:only-of-type {\n",
       "        vertical-align: middle;\n",
       "    }\n",
       "\n",
       "    .dataframe tbody tr th {\n",
       "        vertical-align: top;\n",
       "    }\n",
       "\n",
       "    .dataframe thead th {\n",
       "        text-align: right;\n",
       "    }\n",
       "</style>\n",
       "<table border=\"1\" class=\"dataframe\">\n",
       "  <thead>\n",
       "    <tr style=\"text-align: right;\">\n",
       "      <th></th>\n",
       "      <th>title</th>\n",
       "      <th>puNumber</th>\n",
       "      <th>show_start_date</th>\n",
       "      <th>type</th>\n",
       "      <th>film_studio</th>\n",
       "      <th>production_country</th>\n",
       "      <th>director</th>\n",
       "      <th>producer</th>\n",
       "      <th>age_restriction</th>\n",
       "      <th>refundable_support</th>\n",
       "      <th>nonrefundable_support</th>\n",
       "      <th>budget</th>\n",
       "      <th>financing_source</th>\n",
       "      <th>ratings</th>\n",
       "      <th>genres</th>\n",
       "      <th>box_office</th>\n",
       "    </tr>\n",
       "  </thead>\n",
       "  <tbody>\n",
       "    <tr>\n",
       "      <th>7087</th>\n",
       "      <td>Тайна Печати Дракона</td>\n",
       "      <td>111012819</td>\n",
       "      <td>2019-09-12 12:00:00</td>\n",
       "      <td>Художественный</td>\n",
       "      <td>ООО \"Кинокомпания \"СТВ\"; ООО \"РФГ Корп\"; ООО \"...</td>\n",
       "      <td>Россия-Китай</td>\n",
       "      <td>О.Степченко</td>\n",
       "      <td>С.Сельянов, А.Петрухин</td>\n",
       "      <td>«6+» - для детей старше 6 лет</td>\n",
       "      <td>180000.0</td>\n",
       "      <td>90000.0</td>\n",
       "      <td>2305074.303</td>\n",
       "      <td>Фонд кино</td>\n",
       "      <td>5.8</td>\n",
       "      <td>приключения,фэнтези</td>\n",
       "      <td>333597.05959</td>\n",
       "    </tr>\n",
       "    <tr>\n",
       "      <th>5426</th>\n",
       "      <td>Матильда</td>\n",
       "      <td>111005717</td>\n",
       "      <td>2017-08-17 12:00:00</td>\n",
       "      <td>Художественный</td>\n",
       "      <td>ООО \"ТПО \"РОК\", ООО \"Матильда\"</td>\n",
       "      <td>Россия</td>\n",
       "      <td>А.Учитель</td>\n",
       "      <td>А.Учитель, А.Достман, В.Винокур</td>\n",
       "      <td>«16+» - для детей старше 16 лет</td>\n",
       "      <td>110000.0</td>\n",
       "      <td>190000.0</td>\n",
       "      <td>1032905.957</td>\n",
       "      <td>Фонд кино</td>\n",
       "      <td>7.7</td>\n",
       "      <td>фэнтези,комедия,семейный</td>\n",
       "      <td>511775.54800</td>\n",
       "    </tr>\n",
       "    <tr>\n",
       "      <th>7437</th>\n",
       "      <td>Союз спасения</td>\n",
       "      <td>111022019</td>\n",
       "      <td>2019-12-26 12:00:00</td>\n",
       "      <td>Художественный</td>\n",
       "      <td>ЗАО \"Дирекция кино\"</td>\n",
       "      <td>Россия</td>\n",
       "      <td>А.Кравчук</td>\n",
       "      <td>А.Максимов, К.Эрнст</td>\n",
       "      <td>«12+» - для детей старше 12 лет</td>\n",
       "      <td>100000.0</td>\n",
       "      <td>400000.0</td>\n",
       "      <td>980000.000</td>\n",
       "      <td>Фонд кино</td>\n",
       "      <td>6.0</td>\n",
       "      <td>история,биография,драма</td>\n",
       "      <td>717703.18553</td>\n",
       "    </tr>\n",
       "    <tr>\n",
       "      <th>7144</th>\n",
       "      <td>Грех</td>\n",
       "      <td>111014419</td>\n",
       "      <td>2019-08-31 12:00:00</td>\n",
       "      <td>Художественный</td>\n",
       "      <td>НО Фонд Андрея Кончаловского по поддержке кино...</td>\n",
       "      <td>Россия, Италия</td>\n",
       "      <td>А.Михалков (псевдоним А.Кончаловский)</td>\n",
       "      <td>НО Фонд Андрея Кончаловского по поддержке кино...</td>\n",
       "      <td>«16+» - для детей старше 16 лет</td>\n",
       "      <td>0.0</td>\n",
       "      <td>60000.0</td>\n",
       "      <td>779941.965</td>\n",
       "      <td>Министерство культуры</td>\n",
       "      <td>6.9</td>\n",
       "      <td>драма,биография,история</td>\n",
       "      <td>54243.20271</td>\n",
       "    </tr>\n",
       "    <tr>\n",
       "      <th>3347</th>\n",
       "      <td>Дуэлянт</td>\n",
       "      <td>111015416</td>\n",
       "      <td>2016-09-14 12:00:00</td>\n",
       "      <td>Художественный</td>\n",
       "      <td>ООО \"Нон-Стоп Продакшн\"</td>\n",
       "      <td>Россия</td>\n",
       "      <td>А.Мизгирев</td>\n",
       "      <td>А.Роднянский, С.Мелькумов</td>\n",
       "      <td>«16+» - для детей старше 16 лет</td>\n",
       "      <td>150000.0</td>\n",
       "      <td>300000.0</td>\n",
       "      <td>684200.536</td>\n",
       "      <td>Фонд кино</td>\n",
       "      <td>6.6</td>\n",
       "      <td>драма</td>\n",
       "      <td>364285.13960</td>\n",
       "    </tr>\n",
       "    <tr>\n",
       "      <th>...</th>\n",
       "      <td>...</td>\n",
       "      <td>...</td>\n",
       "      <td>...</td>\n",
       "      <td>...</td>\n",
       "      <td>...</td>\n",
       "      <td>...</td>\n",
       "      <td>...</td>\n",
       "      <td>...</td>\n",
       "      <td>...</td>\n",
       "      <td>...</td>\n",
       "      <td>...</td>\n",
       "      <td>...</td>\n",
       "      <td>...</td>\n",
       "      <td>...</td>\n",
       "      <td>...</td>\n",
       "      <td>...</td>\n",
       "    </tr>\n",
       "    <tr>\n",
       "      <th>2943</th>\n",
       "      <td>Пришествие</td>\n",
       "      <td>126002116</td>\n",
       "      <td>2016-04-05 12:00:00</td>\n",
       "      <td>Прочие</td>\n",
       "      <td>Инди Филм, Магик Хоур Филмз, Мука Фильми Оу, Н...</td>\n",
       "      <td>Дания - Австрия - Ирландия - Финляндия - Норве...</td>\n",
       "      <td>Майкл Мэдсен</td>\n",
       "      <td>Лиз Ленсе-Моллер</td>\n",
       "      <td>«16+» - для детей старше 16 лет</td>\n",
       "      <td>NaN</td>\n",
       "      <td>NaN</td>\n",
       "      <td>0.000</td>\n",
       "      <td>NaN</td>\n",
       "      <td>5.7</td>\n",
       "      <td>ужасы</td>\n",
       "      <td>47.80000</td>\n",
       "    </tr>\n",
       "    <tr>\n",
       "      <th>1608</th>\n",
       "      <td>Иллюзия обмана</td>\n",
       "      <td>121014013</td>\n",
       "      <td>2013-05-27 12:00:00</td>\n",
       "      <td>Художественный</td>\n",
       "      <td>Саммит Интертейнмент, К/О Пепе Продакшн, Си Ми...</td>\n",
       "      <td>Франция-США</td>\n",
       "      <td>Луи Летерье</td>\n",
       "      <td>Бобби Коэн, Алекс Куртцман, Роберто Орси</td>\n",
       "      <td>«12+» - для детей старше 12 лет</td>\n",
       "      <td>NaN</td>\n",
       "      <td>NaN</td>\n",
       "      <td>0.000</td>\n",
       "      <td>NaN</td>\n",
       "      <td>7.7</td>\n",
       "      <td>триллер,криминал,детектив</td>\n",
       "      <td>48.30000</td>\n",
       "    </tr>\n",
       "    <tr>\n",
       "      <th>5135</th>\n",
       "      <td>Возвращение в \"А\"</td>\n",
       "      <td>111003011</td>\n",
       "      <td>2011-04-14 12:00:00</td>\n",
       "      <td>Художественный</td>\n",
       "      <td>АО \"Казахфильм\" им.Ш.Айманова, ТОО РПО НПЦ \"Ба...</td>\n",
       "      <td>Россия-Казахстан</td>\n",
       "      <td>Е.Михалков-Кончаловский</td>\n",
       "      <td>ООО \"ПС ТиВиСи\" Киностудия\"</td>\n",
       "      <td>«16+» - для детей старше 16 лет</td>\n",
       "      <td>NaN</td>\n",
       "      <td>NaN</td>\n",
       "      <td>0.000</td>\n",
       "      <td>NaN</td>\n",
       "      <td>6.5</td>\n",
       "      <td>драма,военный</td>\n",
       "      <td>50.20000</td>\n",
       "    </tr>\n",
       "    <tr>\n",
       "      <th>2516</th>\n",
       "      <td>Ромео и Джульетта. Бродвей</td>\n",
       "      <td>126001315</td>\n",
       "      <td>2015-04-27 12:00:00</td>\n",
       "      <td>Прочие</td>\n",
       "      <td>МортуСкрин</td>\n",
       "      <td>США</td>\n",
       "      <td>Давид Лево</td>\n",
       "      <td>Бонни Камли, Стэфарт Лэйн, Алан Ньюман</td>\n",
       "      <td>«12+» - для детей старше 12 лет</td>\n",
       "      <td>NaN</td>\n",
       "      <td>NaN</td>\n",
       "      <td>0.000</td>\n",
       "      <td>NaN</td>\n",
       "      <td>5.6</td>\n",
       "      <td>мелодрама</td>\n",
       "      <td>50.67240</td>\n",
       "    </tr>\n",
       "    <tr>\n",
       "      <th>7458</th>\n",
       "      <td>Машины песенки. Серия \"Когда цветут кактусы\"</td>\n",
       "      <td>124010719</td>\n",
       "      <td>2019-12-30 12:00:00</td>\n",
       "      <td>Анимационный</td>\n",
       "      <td>Анимаккорд Лтд., ООО Студия \"АНИМАККОРД\"</td>\n",
       "      <td>Республика Кипр, Россия</td>\n",
       "      <td>И.Трусов</td>\n",
       "      <td>Д.Ловейко</td>\n",
       "      <td>«0+» - для любой зрительской аудитории</td>\n",
       "      <td>NaN</td>\n",
       "      <td>NaN</td>\n",
       "      <td>0.000</td>\n",
       "      <td>NaN</td>\n",
       "      <td>6.3</td>\n",
       "      <td>комедия,вестерн</td>\n",
       "      <td>NaN</td>\n",
       "    </tr>\n",
       "  </tbody>\n",
       "</table>\n",
       "<p>6746 rows × 16 columns</p>\n",
       "</div>"
      ],
      "text/plain": [
       "                                             title   puNumber  \\\n",
       "7087                          Тайна Печати Дракона  111012819   \n",
       "5426                                      Матильда  111005717   \n",
       "7437                                 Союз спасения  111022019   \n",
       "7144                                          Грех  111014419   \n",
       "3347                                       Дуэлянт  111015416   \n",
       "...                                            ...        ...   \n",
       "2943                                    Пришествие  126002116   \n",
       "1608                                Иллюзия обмана  121014013   \n",
       "5135                             Возвращение в \"А\"  111003011   \n",
       "2516                    Ромео и Джульетта. Бродвей  126001315   \n",
       "7458  Машины песенки. Серия \"Когда цветут кактусы\"  124010719   \n",
       "\n",
       "         show_start_date            type  \\\n",
       "7087 2019-09-12 12:00:00  Художественный   \n",
       "5426 2017-08-17 12:00:00  Художественный   \n",
       "7437 2019-12-26 12:00:00  Художественный   \n",
       "7144 2019-08-31 12:00:00  Художественный   \n",
       "3347 2016-09-14 12:00:00  Художественный   \n",
       "...                  ...             ...   \n",
       "2943 2016-04-05 12:00:00          Прочие   \n",
       "1608 2013-05-27 12:00:00  Художественный   \n",
       "5135 2011-04-14 12:00:00  Художественный   \n",
       "2516 2015-04-27 12:00:00          Прочие   \n",
       "7458 2019-12-30 12:00:00    Анимационный   \n",
       "\n",
       "                                            film_studio  \\\n",
       "7087  ООО \"Кинокомпания \"СТВ\"; ООО \"РФГ Корп\"; ООО \"...   \n",
       "5426                     ООО \"ТПО \"РОК\", ООО \"Матильда\"   \n",
       "7437                                ЗАО \"Дирекция кино\"   \n",
       "7144  НО Фонд Андрея Кончаловского по поддержке кино...   \n",
       "3347                            ООО \"Нон-Стоп Продакшн\"   \n",
       "...                                                 ...   \n",
       "2943  Инди Филм, Магик Хоур Филмз, Мука Фильми Оу, Н...   \n",
       "1608  Саммит Интертейнмент, К/О Пепе Продакшн, Си Ми...   \n",
       "5135  АО \"Казахфильм\" им.Ш.Айманова, ТОО РПО НПЦ \"Ба...   \n",
       "2516                                         МортуСкрин   \n",
       "7458           Анимаккорд Лтд., ООО Студия \"АНИМАККОРД\"   \n",
       "\n",
       "                                     production_country  \\\n",
       "7087                                       Россия-Китай   \n",
       "5426                                             Россия   \n",
       "7437                                             Россия   \n",
       "7144                                     Россия, Италия   \n",
       "3347                                             Россия   \n",
       "...                                                 ...   \n",
       "2943  Дания - Австрия - Ирландия - Финляндия - Норве...   \n",
       "1608                                        Франция-США   \n",
       "5135                                   Россия-Казахстан   \n",
       "2516                                                США   \n",
       "7458                            Республика Кипр, Россия   \n",
       "\n",
       "                                   director  \\\n",
       "7087                            О.Степченко   \n",
       "5426                              А.Учитель   \n",
       "7437                              А.Кравчук   \n",
       "7144  А.Михалков (псевдоним А.Кончаловский)   \n",
       "3347                             А.Мизгирев   \n",
       "...                                     ...   \n",
       "2943                           Майкл Мэдсен   \n",
       "1608                            Луи Летерье   \n",
       "5135                Е.Михалков-Кончаловский   \n",
       "2516                             Давид Лево   \n",
       "7458                               И.Трусов   \n",
       "\n",
       "                                               producer  \\\n",
       "7087                             С.Сельянов, А.Петрухин   \n",
       "5426                    А.Учитель, А.Достман, В.Винокур   \n",
       "7437                                А.Максимов, К.Эрнст   \n",
       "7144  НО Фонд Андрея Кончаловского по поддержке кино...   \n",
       "3347                          А.Роднянский, С.Мелькумов   \n",
       "...                                                 ...   \n",
       "2943                                   Лиз Ленсе-Моллер   \n",
       "1608           Бобби Коэн, Алекс Куртцман, Роберто Орси   \n",
       "5135                        ООО \"ПС ТиВиСи\" Киностудия\"   \n",
       "2516             Бонни Камли, Стэфарт Лэйн, Алан Ньюман   \n",
       "7458                                          Д.Ловейко   \n",
       "\n",
       "                             age_restriction  refundable_support  \\\n",
       "7087           «6+» - для детей старше 6 лет            180000.0   \n",
       "5426         «16+» - для детей старше 16 лет            110000.0   \n",
       "7437         «12+» - для детей старше 12 лет            100000.0   \n",
       "7144         «16+» - для детей старше 16 лет                 0.0   \n",
       "3347         «16+» - для детей старше 16 лет            150000.0   \n",
       "...                                      ...                 ...   \n",
       "2943         «16+» - для детей старше 16 лет                 NaN   \n",
       "1608         «12+» - для детей старше 12 лет                 NaN   \n",
       "5135         «16+» - для детей старше 16 лет                 NaN   \n",
       "2516         «12+» - для детей старше 12 лет                 NaN   \n",
       "7458  «0+» - для любой зрительской аудитории                 NaN   \n",
       "\n",
       "      nonrefundable_support       budget       financing_source  ratings  \\\n",
       "7087                90000.0  2305074.303              Фонд кино      5.8   \n",
       "5426               190000.0  1032905.957              Фонд кино      7.7   \n",
       "7437               400000.0   980000.000              Фонд кино      6.0   \n",
       "7144                60000.0   779941.965  Министерство культуры      6.9   \n",
       "3347               300000.0   684200.536              Фонд кино      6.6   \n",
       "...                     ...          ...                    ...      ...   \n",
       "2943                    NaN        0.000                    NaN      5.7   \n",
       "1608                    NaN        0.000                    NaN      7.7   \n",
       "5135                    NaN        0.000                    NaN      6.5   \n",
       "2516                    NaN        0.000                    NaN      5.6   \n",
       "7458                    NaN        0.000                    NaN      6.3   \n",
       "\n",
       "                         genres    box_office  \n",
       "7087        приключения,фэнтези  333597.05959  \n",
       "5426   фэнтези,комедия,семейный  511775.54800  \n",
       "7437    история,биография,драма  717703.18553  \n",
       "7144    драма,биография,история   54243.20271  \n",
       "3347                      драма  364285.13960  \n",
       "...                         ...           ...  \n",
       "2943                      ужасы      47.80000  \n",
       "1608  триллер,криминал,детектив      48.30000  \n",
       "5135              драма,военный      50.20000  \n",
       "2516                  мелодрама      50.67240  \n",
       "7458            комедия,вестерн           NaN  \n",
       "\n",
       "[6746 rows x 16 columns]"
      ]
     },
     "execution_count": 24,
     "metadata": {},
     "output_type": "execute_result"
    }
   ],
   "source": [
    "data['refundable_support'] = data['refundable_support']/1000\n",
    "data['nonrefundable_support'] = data['nonrefundable_support']/1000\n",
    "data['budget'] = data['budget']/1000\n",
    "data['box_office'] = data['box_office']/1000\n",
    "data.sort_values(by='budget', ascending = False)"
   ]
  },
  {
   "cell_type": "markdown",
   "metadata": {},
   "source": [
    "Столбец budget включает в себя полный объем государственной поддержки. Данные в этом столбце указаны только для тех фильмов, которые получили государственную поддержку."
   ]
  },
  {
   "cell_type": "markdown",
   "metadata": {},
   "source": [
    "Выведем отдельно строки, в которых бюджет меньше, чем государственная поддержка "
   ]
  },
  {
   "cell_type": "code",
   "execution_count": 25,
   "metadata": {},
   "outputs": [
    {
     "data": {
      "text/html": [
       "<div>\n",
       "<style scoped>\n",
       "    .dataframe tbody tr th:only-of-type {\n",
       "        vertical-align: middle;\n",
       "    }\n",
       "\n",
       "    .dataframe tbody tr th {\n",
       "        vertical-align: top;\n",
       "    }\n",
       "\n",
       "    .dataframe thead th {\n",
       "        text-align: right;\n",
       "    }\n",
       "</style>\n",
       "<table border=\"1\" class=\"dataframe\">\n",
       "  <thead>\n",
       "    <tr style=\"text-align: right;\">\n",
       "      <th></th>\n",
       "      <th>budget</th>\n",
       "      <th>refundable_support</th>\n",
       "      <th>nonrefundable_support</th>\n",
       "      <th>box_office</th>\n",
       "    </tr>\n",
       "  </thead>\n",
       "  <tbody>\n",
       "    <tr>\n",
       "      <th>3561</th>\n",
       "      <td>0.0</td>\n",
       "      <td>0.0</td>\n",
       "      <td>250000.000</td>\n",
       "      <td>1.038321e+06</td>\n",
       "    </tr>\n",
       "    <tr>\n",
       "      <th>2055</th>\n",
       "      <td>0.0</td>\n",
       "      <td>0.0</td>\n",
       "      <td>75000.000</td>\n",
       "      <td>4.461635e+05</td>\n",
       "    </tr>\n",
       "    <tr>\n",
       "      <th>5662</th>\n",
       "      <td>0.0</td>\n",
       "      <td>20000.0</td>\n",
       "      <td>40000.000</td>\n",
       "      <td>2.251964e+05</td>\n",
       "    </tr>\n",
       "    <tr>\n",
       "      <th>2469</th>\n",
       "      <td>0.0</td>\n",
       "      <td>10000.0</td>\n",
       "      <td>70000.000</td>\n",
       "      <td>1.965724e+05</td>\n",
       "    </tr>\n",
       "    <tr>\n",
       "      <th>2612</th>\n",
       "      <td>0.0</td>\n",
       "      <td>60000.0</td>\n",
       "      <td>100000.000</td>\n",
       "      <td>1.844876e+05</td>\n",
       "    </tr>\n",
       "    <tr>\n",
       "      <th>6796</th>\n",
       "      <td>0.0</td>\n",
       "      <td>60000.0</td>\n",
       "      <td>120000.000</td>\n",
       "      <td>1.476068e+05</td>\n",
       "    </tr>\n",
       "    <tr>\n",
       "      <th>5795</th>\n",
       "      <td>0.0</td>\n",
       "      <td>10000.0</td>\n",
       "      <td>60000.000</td>\n",
       "      <td>1.065143e+05</td>\n",
       "    </tr>\n",
       "    <tr>\n",
       "      <th>5997</th>\n",
       "      <td>0.0</td>\n",
       "      <td>40000.0</td>\n",
       "      <td>40000.000</td>\n",
       "      <td>8.336633e+04</td>\n",
       "    </tr>\n",
       "    <tr>\n",
       "      <th>2785</th>\n",
       "      <td>0.0</td>\n",
       "      <td>0.0</td>\n",
       "      <td>35000.000</td>\n",
       "      <td>7.293778e+04</td>\n",
       "    </tr>\n",
       "    <tr>\n",
       "      <th>3044</th>\n",
       "      <td>0.0</td>\n",
       "      <td>19000.0</td>\n",
       "      <td>51000.000</td>\n",
       "      <td>7.029905e+04</td>\n",
       "    </tr>\n",
       "    <tr>\n",
       "      <th>2529</th>\n",
       "      <td>0.0</td>\n",
       "      <td>20000.0</td>\n",
       "      <td>0.000</td>\n",
       "      <td>6.741897e+04</td>\n",
       "    </tr>\n",
       "    <tr>\n",
       "      <th>3671</th>\n",
       "      <td>0.0</td>\n",
       "      <td>20000.0</td>\n",
       "      <td>20000.000</td>\n",
       "      <td>5.510801e+04</td>\n",
       "    </tr>\n",
       "    <tr>\n",
       "      <th>3735</th>\n",
       "      <td>0.0</td>\n",
       "      <td>25000.0</td>\n",
       "      <td>20000.000</td>\n",
       "      <td>5.045195e+04</td>\n",
       "    </tr>\n",
       "    <tr>\n",
       "      <th>2871</th>\n",
       "      <td>0.0</td>\n",
       "      <td>0.0</td>\n",
       "      <td>6000.000</td>\n",
       "      <td>1.536293e+04</td>\n",
       "    </tr>\n",
       "    <tr>\n",
       "      <th>2050</th>\n",
       "      <td>0.0</td>\n",
       "      <td>0.0</td>\n",
       "      <td>23000.000</td>\n",
       "      <td>1.023402e+04</td>\n",
       "    </tr>\n",
       "    <tr>\n",
       "      <th>2681</th>\n",
       "      <td>0.0</td>\n",
       "      <td>0.0</td>\n",
       "      <td>59000.000</td>\n",
       "      <td>1.957739e+03</td>\n",
       "    </tr>\n",
       "    <tr>\n",
       "      <th>6310</th>\n",
       "      <td>0.0</td>\n",
       "      <td>0.0</td>\n",
       "      <td>138969.465</td>\n",
       "      <td>1.334699e+03</td>\n",
       "    </tr>\n",
       "  </tbody>\n",
       "</table>\n",
       "</div>"
      ],
      "text/plain": [
       "      budget  refundable_support  nonrefundable_support    box_office\n",
       "3561     0.0                 0.0             250000.000  1.038321e+06\n",
       "2055     0.0                 0.0              75000.000  4.461635e+05\n",
       "5662     0.0             20000.0              40000.000  2.251964e+05\n",
       "2469     0.0             10000.0              70000.000  1.965724e+05\n",
       "2612     0.0             60000.0             100000.000  1.844876e+05\n",
       "6796     0.0             60000.0             120000.000  1.476068e+05\n",
       "5795     0.0             10000.0              60000.000  1.065143e+05\n",
       "5997     0.0             40000.0              40000.000  8.336633e+04\n",
       "2785     0.0                 0.0              35000.000  7.293778e+04\n",
       "3044     0.0             19000.0              51000.000  7.029905e+04\n",
       "2529     0.0             20000.0                  0.000  6.741897e+04\n",
       "3671     0.0             20000.0              20000.000  5.510801e+04\n",
       "3735     0.0             25000.0              20000.000  5.045195e+04\n",
       "2871     0.0                 0.0               6000.000  1.536293e+04\n",
       "2050     0.0                 0.0              23000.000  1.023402e+04\n",
       "2681     0.0                 0.0              59000.000  1.957739e+03\n",
       "6310     0.0                 0.0             138969.465  1.334699e+03"
      ]
     },
     "execution_count": 25,
     "metadata": {},
     "output_type": "execute_result"
    }
   ],
   "source": [
    "anomal_budget = data.query('refundable_support + nonrefundable_support > budget').copy()\n",
    "anomal_budget.loc[:,['budget', 'refundable_support', 'nonrefundable_support', 'box_office']]\n"
   ]
  },
  {
   "cell_type": "markdown",
   "metadata": {},
   "source": [
    "Бюджет фильма в данных критериях нулевой. Но он как минимум равен сумме поддержки. Заменим эти нулевые начения на сумму поддержки"
   ]
  },
  {
   "cell_type": "code",
   "execution_count": 26,
   "metadata": {},
   "outputs": [
    {
     "data": {
      "text/plain": [
       "0.0    17\n",
       "Name: budget, dtype: int64"
      ]
     },
     "execution_count": 26,
     "metadata": {},
     "output_type": "execute_result"
    }
   ],
   "source": [
    "anomal_budget['budget'].value_counts()"
   ]
  },
  {
   "cell_type": "markdown",
   "metadata": {},
   "source": [
    "Всего 17 строк под замену. Заменим значение в данных строчках на сумму поддержки"
   ]
  },
  {
   "cell_type": "code",
   "execution_count": 27,
   "metadata": {},
   "outputs": [],
   "source": [
    "anomal_budget['budget'] = anomal_budget['refundable_support'] + anomal_budget['nonrefundable_support']"
   ]
  },
  {
   "cell_type": "code",
   "execution_count": 28,
   "metadata": {},
   "outputs": [
    {
     "data": {
      "text/html": [
       "<div>\n",
       "<style scoped>\n",
       "    .dataframe tbody tr th:only-of-type {\n",
       "        vertical-align: middle;\n",
       "    }\n",
       "\n",
       "    .dataframe tbody tr th {\n",
       "        vertical-align: top;\n",
       "    }\n",
       "\n",
       "    .dataframe thead th {\n",
       "        text-align: right;\n",
       "    }\n",
       "</style>\n",
       "<table border=\"1\" class=\"dataframe\">\n",
       "  <thead>\n",
       "    <tr style=\"text-align: right;\">\n",
       "      <th></th>\n",
       "      <th>budget</th>\n",
       "      <th>refundable_support</th>\n",
       "      <th>nonrefundable_support</th>\n",
       "      <th>box_office</th>\n",
       "    </tr>\n",
       "  </thead>\n",
       "  <tbody>\n",
       "    <tr>\n",
       "      <th>3561</th>\n",
       "      <td>250000.000</td>\n",
       "      <td>0.0</td>\n",
       "      <td>250000.000</td>\n",
       "      <td>1.038321e+06</td>\n",
       "    </tr>\n",
       "    <tr>\n",
       "      <th>2055</th>\n",
       "      <td>75000.000</td>\n",
       "      <td>0.0</td>\n",
       "      <td>75000.000</td>\n",
       "      <td>4.461635e+05</td>\n",
       "    </tr>\n",
       "    <tr>\n",
       "      <th>5662</th>\n",
       "      <td>60000.000</td>\n",
       "      <td>20000.0</td>\n",
       "      <td>40000.000</td>\n",
       "      <td>2.251964e+05</td>\n",
       "    </tr>\n",
       "    <tr>\n",
       "      <th>2469</th>\n",
       "      <td>80000.000</td>\n",
       "      <td>10000.0</td>\n",
       "      <td>70000.000</td>\n",
       "      <td>1.965724e+05</td>\n",
       "    </tr>\n",
       "    <tr>\n",
       "      <th>2612</th>\n",
       "      <td>160000.000</td>\n",
       "      <td>60000.0</td>\n",
       "      <td>100000.000</td>\n",
       "      <td>1.844876e+05</td>\n",
       "    </tr>\n",
       "    <tr>\n",
       "      <th>6796</th>\n",
       "      <td>180000.000</td>\n",
       "      <td>60000.0</td>\n",
       "      <td>120000.000</td>\n",
       "      <td>1.476068e+05</td>\n",
       "    </tr>\n",
       "    <tr>\n",
       "      <th>5795</th>\n",
       "      <td>70000.000</td>\n",
       "      <td>10000.0</td>\n",
       "      <td>60000.000</td>\n",
       "      <td>1.065143e+05</td>\n",
       "    </tr>\n",
       "    <tr>\n",
       "      <th>5997</th>\n",
       "      <td>80000.000</td>\n",
       "      <td>40000.0</td>\n",
       "      <td>40000.000</td>\n",
       "      <td>8.336633e+04</td>\n",
       "    </tr>\n",
       "    <tr>\n",
       "      <th>2785</th>\n",
       "      <td>35000.000</td>\n",
       "      <td>0.0</td>\n",
       "      <td>35000.000</td>\n",
       "      <td>7.293778e+04</td>\n",
       "    </tr>\n",
       "    <tr>\n",
       "      <th>3044</th>\n",
       "      <td>70000.000</td>\n",
       "      <td>19000.0</td>\n",
       "      <td>51000.000</td>\n",
       "      <td>7.029905e+04</td>\n",
       "    </tr>\n",
       "    <tr>\n",
       "      <th>2529</th>\n",
       "      <td>20000.000</td>\n",
       "      <td>20000.0</td>\n",
       "      <td>0.000</td>\n",
       "      <td>6.741897e+04</td>\n",
       "    </tr>\n",
       "    <tr>\n",
       "      <th>3671</th>\n",
       "      <td>40000.000</td>\n",
       "      <td>20000.0</td>\n",
       "      <td>20000.000</td>\n",
       "      <td>5.510801e+04</td>\n",
       "    </tr>\n",
       "    <tr>\n",
       "      <th>3735</th>\n",
       "      <td>45000.000</td>\n",
       "      <td>25000.0</td>\n",
       "      <td>20000.000</td>\n",
       "      <td>5.045195e+04</td>\n",
       "    </tr>\n",
       "    <tr>\n",
       "      <th>2871</th>\n",
       "      <td>6000.000</td>\n",
       "      <td>0.0</td>\n",
       "      <td>6000.000</td>\n",
       "      <td>1.536293e+04</td>\n",
       "    </tr>\n",
       "    <tr>\n",
       "      <th>2050</th>\n",
       "      <td>23000.000</td>\n",
       "      <td>0.0</td>\n",
       "      <td>23000.000</td>\n",
       "      <td>1.023402e+04</td>\n",
       "    </tr>\n",
       "    <tr>\n",
       "      <th>2681</th>\n",
       "      <td>59000.000</td>\n",
       "      <td>0.0</td>\n",
       "      <td>59000.000</td>\n",
       "      <td>1.957739e+03</td>\n",
       "    </tr>\n",
       "    <tr>\n",
       "      <th>6310</th>\n",
       "      <td>138969.465</td>\n",
       "      <td>0.0</td>\n",
       "      <td>138969.465</td>\n",
       "      <td>1.334699e+03</td>\n",
       "    </tr>\n",
       "  </tbody>\n",
       "</table>\n",
       "</div>"
      ],
      "text/plain": [
       "          budget  refundable_support  nonrefundable_support    box_office\n",
       "3561  250000.000                 0.0             250000.000  1.038321e+06\n",
       "2055   75000.000                 0.0              75000.000  4.461635e+05\n",
       "5662   60000.000             20000.0              40000.000  2.251964e+05\n",
       "2469   80000.000             10000.0              70000.000  1.965724e+05\n",
       "2612  160000.000             60000.0             100000.000  1.844876e+05\n",
       "6796  180000.000             60000.0             120000.000  1.476068e+05\n",
       "5795   70000.000             10000.0              60000.000  1.065143e+05\n",
       "5997   80000.000             40000.0              40000.000  8.336633e+04\n",
       "2785   35000.000                 0.0              35000.000  7.293778e+04\n",
       "3044   70000.000             19000.0              51000.000  7.029905e+04\n",
       "2529   20000.000             20000.0                  0.000  6.741897e+04\n",
       "3671   40000.000             20000.0              20000.000  5.510801e+04\n",
       "3735   45000.000             25000.0              20000.000  5.045195e+04\n",
       "2871    6000.000                 0.0               6000.000  1.536293e+04\n",
       "2050   23000.000                 0.0              23000.000  1.023402e+04\n",
       "2681   59000.000                 0.0              59000.000  1.957739e+03\n",
       "6310  138969.465                 0.0             138969.465  1.334699e+03"
      ]
     },
     "execution_count": 28,
     "metadata": {},
     "output_type": "execute_result"
    }
   ],
   "source": [
    "anomal_budget.loc[:,['budget', 'refundable_support', 'nonrefundable_support', 'box_office']]"
   ]
  },
  {
   "cell_type": "code",
   "execution_count": 29,
   "metadata": {},
   "outputs": [],
   "source": [
    "data.loc[data['budget'] == 0, 'budget'] = anomal_budget['budget']"
   ]
  },
  {
   "cell_type": "markdown",
   "metadata": {
    "id": "YbzClBxagFyS"
   },
   "source": [
    "Оставим пропуски в рейтингах как есть. Пропуски в жанре заменим на **неизвестный**"
   ]
  },
  {
   "cell_type": "code",
   "execution_count": 30,
   "metadata": {},
   "outputs": [
    {
     "data": {
      "text/plain": [
       "title                       0\n",
       "puNumber                    0\n",
       "show_start_date             0\n",
       "type                        0\n",
       "film_studio                 0\n",
       "production_country          0\n",
       "director                    0\n",
       "producer                    0\n",
       "age_restriction             0\n",
       "refundable_support       6415\n",
       "nonrefundable_support    6415\n",
       "budget                   6415\n",
       "financing_source         6415\n",
       "ratings                   969\n",
       "genres                      0\n",
       "box_office               3621\n",
       "dtype: int64"
      ]
     },
     "execution_count": 30,
     "metadata": {},
     "output_type": "execute_result"
    }
   ],
   "source": [
    "data['genres'] = data['genres'].fillna(value = 'неизвестный')\n",
    "\n",
    "data.isna().sum()"
   ]
  },
  {
   "cell_type": "code",
   "execution_count": 31,
   "metadata": {},
   "outputs": [
    {
     "data": {
      "text/html": [
       "<div>\n",
       "<style scoped>\n",
       "    .dataframe tbody tr th:only-of-type {\n",
       "        vertical-align: middle;\n",
       "    }\n",
       "\n",
       "    .dataframe tbody tr th {\n",
       "        vertical-align: top;\n",
       "    }\n",
       "\n",
       "    .dataframe thead th {\n",
       "        text-align: right;\n",
       "    }\n",
       "</style>\n",
       "<table border=\"1\" class=\"dataframe\">\n",
       "  <thead>\n",
       "    <tr style=\"text-align: right;\">\n",
       "      <th></th>\n",
       "      <th>puNumber</th>\n",
       "      <th>refundable_support</th>\n",
       "      <th>nonrefundable_support</th>\n",
       "      <th>budget</th>\n",
       "      <th>ratings</th>\n",
       "      <th>box_office</th>\n",
       "    </tr>\n",
       "  </thead>\n",
       "  <tbody>\n",
       "    <tr>\n",
       "      <th>count</th>\n",
       "      <td>6.746000e+03</td>\n",
       "      <td>331.000000</td>\n",
       "      <td>331.000000</td>\n",
       "      <td>3.310000e+02</td>\n",
       "      <td>5777.000000</td>\n",
       "      <td>3.125000e+03</td>\n",
       "    </tr>\n",
       "    <tr>\n",
       "      <th>mean</th>\n",
       "      <td>1.295032e+08</td>\n",
       "      <td>11598.187311</td>\n",
       "      <td>47920.508495</td>\n",
       "      <td>1.289675e+05</td>\n",
       "      <td>6.451895</td>\n",
       "      <td>7.728591e+04</td>\n",
       "    </tr>\n",
       "    <tr>\n",
       "      <th>std</th>\n",
       "      <td>3.251101e+07</td>\n",
       "      <td>24476.640236</td>\n",
       "      <td>56868.370604</td>\n",
       "      <td>1.819992e+05</td>\n",
       "      <td>1.111778</td>\n",
       "      <td>2.414901e+05</td>\n",
       "    </tr>\n",
       "    <tr>\n",
       "      <th>min</th>\n",
       "      <td>0.000000e+00</td>\n",
       "      <td>0.000000</td>\n",
       "      <td>0.000000</td>\n",
       "      <td>6.000000e+03</td>\n",
       "      <td>1.000000</td>\n",
       "      <td>0.000000e+00</td>\n",
       "    </tr>\n",
       "    <tr>\n",
       "      <th>25%</th>\n",
       "      <td>1.120019e+08</td>\n",
       "      <td>0.000000</td>\n",
       "      <td>25000.000000</td>\n",
       "      <td>4.551094e+04</td>\n",
       "      <td>5.800000</td>\n",
       "      <td>1.046450e+02</td>\n",
       "    </tr>\n",
       "    <tr>\n",
       "      <th>50%</th>\n",
       "      <td>1.210130e+08</td>\n",
       "      <td>0.000000</td>\n",
       "      <td>30000.000000</td>\n",
       "      <td>7.087617e+04</td>\n",
       "      <td>6.600000</td>\n",
       "      <td>2.430003e+03</td>\n",
       "    </tr>\n",
       "    <tr>\n",
       "      <th>75%</th>\n",
       "      <td>1.210370e+08</td>\n",
       "      <td>15000.000000</td>\n",
       "      <td>40000.000000</td>\n",
       "      <td>1.492926e+05</td>\n",
       "      <td>7.200000</td>\n",
       "      <td>2.469584e+04</td>\n",
       "    </tr>\n",
       "    <tr>\n",
       "      <th>max</th>\n",
       "      <td>2.310010e+08</td>\n",
       "      <td>180000.000000</td>\n",
       "      <td>400000.000000</td>\n",
       "      <td>2.305074e+06</td>\n",
       "      <td>9.200000</td>\n",
       "      <td>3.073569e+06</td>\n",
       "    </tr>\n",
       "  </tbody>\n",
       "</table>\n",
       "</div>"
      ],
      "text/plain": [
       "           puNumber  refundable_support  nonrefundable_support        budget  \\\n",
       "count  6.746000e+03          331.000000             331.000000  3.310000e+02   \n",
       "mean   1.295032e+08        11598.187311           47920.508495  1.289675e+05   \n",
       "std    3.251101e+07        24476.640236           56868.370604  1.819992e+05   \n",
       "min    0.000000e+00            0.000000               0.000000  6.000000e+03   \n",
       "25%    1.120019e+08            0.000000           25000.000000  4.551094e+04   \n",
       "50%    1.210130e+08            0.000000           30000.000000  7.087617e+04   \n",
       "75%    1.210370e+08        15000.000000           40000.000000  1.492926e+05   \n",
       "max    2.310010e+08       180000.000000          400000.000000  2.305074e+06   \n",
       "\n",
       "           ratings    box_office  \n",
       "count  5777.000000  3.125000e+03  \n",
       "mean      6.451895  7.728591e+04  \n",
       "std       1.111778  2.414901e+05  \n",
       "min       1.000000  0.000000e+00  \n",
       "25%       5.800000  1.046450e+02  \n",
       "50%       6.600000  2.430003e+03  \n",
       "75%       7.200000  2.469584e+04  \n",
       "max       9.200000  3.073569e+06  "
      ]
     },
     "execution_count": 31,
     "metadata": {},
     "output_type": "execute_result"
    }
   ],
   "source": [
    "data.describe()"
   ]
  },
  {
   "cell_type": "code",
   "execution_count": 32,
   "metadata": {},
   "outputs": [
    {
     "data": {
      "text/plain": [
       "<AxesSubplot:>"
      ]
     },
     "execution_count": 32,
     "metadata": {},
     "output_type": "execute_result"
    },
    {
     "data": {
      "image/png": "[encoded data removed]",
      "text/plain": [
       "<Figure size 432x288 with 1 Axes>"
      ]
     },
     "metadata": {
      "needs_background": "light"
     },
     "output_type": "display_data"
    }
   ],
   "source": [
    "data.query('refundable_support > 0.0').boxplot(column=['refundable_support'])"
   ]
  },
  {
   "cell_type": "markdown",
   "metadata": {},
   "source": [
    "В столбце refundable_support выбросы минимальны"
   ]
  },
  {
   "cell_type": "code",
   "execution_count": 33,
   "metadata": {},
   "outputs": [
    {
     "data": {
      "text/plain": [
       "<AxesSubplot:>"
      ]
     },
     "execution_count": 33,
     "metadata": {},
     "output_type": "execute_result"
    },
    {
     "data": {
      "image/png": "[encoded data removed]",
      "text/plain": [
       "<Figure size 432x288 with 1 Axes>"
      ]
     },
     "metadata": {
      "needs_background": "light"
     },
     "output_type": "display_data"
    }
   ],
   "source": [
    "data.query('nonrefundable_support > 0.0').boxplot(column=['nonrefundable_support'])"
   ]
  },
  {
   "cell_type": "markdown",
   "metadata": {},
   "source": [
    "В столбце nonrefundable_support выбросов уже значительное количество"
   ]
  },
  {
   "cell_type": "code",
   "execution_count": 34,
   "metadata": {},
   "outputs": [
    {
     "data": {
      "text/plain": [
       "<AxesSubplot:>"
      ]
     },
     "execution_count": 34,
     "metadata": {},
     "output_type": "execute_result"
    },
    {
     "data": {
      "image/png": "[encoded data removed]",
      "text/plain": [
       "<Figure size 432x288 with 1 Axes>"
      ]
     },
     "metadata": {
      "needs_background": "light"
     },
     "output_type": "display_data"
    }
   ],
   "source": [
    "data.query('budget > 0.0').boxplot(column=['budget'])"
   ]
  },
  {
   "cell_type": "markdown",
   "metadata": {},
   "source": [
    "В столбце budget есть одно аномальное значение, которое очень хочется удалить"
   ]
  },
  {
   "cell_type": "code",
   "execution_count": 35,
   "metadata": {},
   "outputs": [
    {
     "data": {
      "text/plain": [
       "2305074.303"
      ]
     },
     "execution_count": 35,
     "metadata": {},
     "output_type": "execute_result"
    }
   ],
   "source": [
    "data['budget'].max()"
   ]
  },
  {
   "cell_type": "code",
   "execution_count": 36,
   "metadata": {},
   "outputs": [
    {
     "data": {
      "text/html": [
       "<div>\n",
       "<style scoped>\n",
       "    .dataframe tbody tr th:only-of-type {\n",
       "        vertical-align: middle;\n",
       "    }\n",
       "\n",
       "    .dataframe tbody tr th {\n",
       "        vertical-align: top;\n",
       "    }\n",
       "\n",
       "    .dataframe thead th {\n",
       "        text-align: right;\n",
       "    }\n",
       "</style>\n",
       "<table border=\"1\" class=\"dataframe\">\n",
       "  <thead>\n",
       "    <tr style=\"text-align: right;\">\n",
       "      <th></th>\n",
       "      <th>title</th>\n",
       "      <th>puNumber</th>\n",
       "      <th>show_start_date</th>\n",
       "      <th>type</th>\n",
       "      <th>film_studio</th>\n",
       "      <th>production_country</th>\n",
       "      <th>director</th>\n",
       "      <th>producer</th>\n",
       "      <th>age_restriction</th>\n",
       "      <th>refundable_support</th>\n",
       "      <th>nonrefundable_support</th>\n",
       "      <th>budget</th>\n",
       "      <th>financing_source</th>\n",
       "      <th>ratings</th>\n",
       "      <th>genres</th>\n",
       "      <th>box_office</th>\n",
       "    </tr>\n",
       "  </thead>\n",
       "  <tbody>\n",
       "    <tr>\n",
       "      <th>7087</th>\n",
       "      <td>Тайна Печати Дракона</td>\n",
       "      <td>111012819</td>\n",
       "      <td>2019-09-12 12:00:00</td>\n",
       "      <td>Художественный</td>\n",
       "      <td>ООО \"Кинокомпания \"СТВ\"; ООО \"РФГ Корп\"; ООО \"...</td>\n",
       "      <td>Россия-Китай</td>\n",
       "      <td>О.Степченко</td>\n",
       "      <td>С.Сельянов, А.Петрухин</td>\n",
       "      <td>«6+» - для детей старше 6 лет</td>\n",
       "      <td>180000.0</td>\n",
       "      <td>90000.0</td>\n",
       "      <td>2305074.303</td>\n",
       "      <td>Фонд кино</td>\n",
       "      <td>5.8</td>\n",
       "      <td>приключения,фэнтези</td>\n",
       "      <td>333597.05959</td>\n",
       "    </tr>\n",
       "    <tr>\n",
       "      <th>5426</th>\n",
       "      <td>Матильда</td>\n",
       "      <td>111005717</td>\n",
       "      <td>2017-08-17 12:00:00</td>\n",
       "      <td>Художественный</td>\n",
       "      <td>ООО \"ТПО \"РОК\", ООО \"Матильда\"</td>\n",
       "      <td>Россия</td>\n",
       "      <td>А.Учитель</td>\n",
       "      <td>А.Учитель, А.Достман, В.Винокур</td>\n",
       "      <td>«16+» - для детей старше 16 лет</td>\n",
       "      <td>110000.0</td>\n",
       "      <td>190000.0</td>\n",
       "      <td>1032905.957</td>\n",
       "      <td>Фонд кино</td>\n",
       "      <td>7.7</td>\n",
       "      <td>фэнтези,комедия,семейный</td>\n",
       "      <td>511775.54800</td>\n",
       "    </tr>\n",
       "    <tr>\n",
       "      <th>7437</th>\n",
       "      <td>Союз спасения</td>\n",
       "      <td>111022019</td>\n",
       "      <td>2019-12-26 12:00:00</td>\n",
       "      <td>Художественный</td>\n",
       "      <td>ЗАО \"Дирекция кино\"</td>\n",
       "      <td>Россия</td>\n",
       "      <td>А.Кравчук</td>\n",
       "      <td>А.Максимов, К.Эрнст</td>\n",
       "      <td>«12+» - для детей старше 12 лет</td>\n",
       "      <td>100000.0</td>\n",
       "      <td>400000.0</td>\n",
       "      <td>980000.000</td>\n",
       "      <td>Фонд кино</td>\n",
       "      <td>6.0</td>\n",
       "      <td>история,биография,драма</td>\n",
       "      <td>717703.18553</td>\n",
       "    </tr>\n",
       "    <tr>\n",
       "      <th>7144</th>\n",
       "      <td>Грех</td>\n",
       "      <td>111014419</td>\n",
       "      <td>2019-08-31 12:00:00</td>\n",
       "      <td>Художественный</td>\n",
       "      <td>НО Фонд Андрея Кончаловского по поддержке кино...</td>\n",
       "      <td>Россия, Италия</td>\n",
       "      <td>А.Михалков (псевдоним А.Кончаловский)</td>\n",
       "      <td>НО Фонд Андрея Кончаловского по поддержке кино...</td>\n",
       "      <td>«16+» - для детей старше 16 лет</td>\n",
       "      <td>0.0</td>\n",
       "      <td>60000.0</td>\n",
       "      <td>779941.965</td>\n",
       "      <td>Министерство культуры</td>\n",
       "      <td>6.9</td>\n",
       "      <td>драма,биография,история</td>\n",
       "      <td>54243.20271</td>\n",
       "    </tr>\n",
       "    <tr>\n",
       "      <th>3347</th>\n",
       "      <td>Дуэлянт</td>\n",
       "      <td>111015416</td>\n",
       "      <td>2016-09-14 12:00:00</td>\n",
       "      <td>Художественный</td>\n",
       "      <td>ООО \"Нон-Стоп Продакшн\"</td>\n",
       "      <td>Россия</td>\n",
       "      <td>А.Мизгирев</td>\n",
       "      <td>А.Роднянский, С.Мелькумов</td>\n",
       "      <td>«16+» - для детей старше 16 лет</td>\n",
       "      <td>150000.0</td>\n",
       "      <td>300000.0</td>\n",
       "      <td>684200.536</td>\n",
       "      <td>Фонд кино</td>\n",
       "      <td>6.6</td>\n",
       "      <td>драма</td>\n",
       "      <td>364285.13960</td>\n",
       "    </tr>\n",
       "    <tr>\n",
       "      <th>...</th>\n",
       "      <td>...</td>\n",
       "      <td>...</td>\n",
       "      <td>...</td>\n",
       "      <td>...</td>\n",
       "      <td>...</td>\n",
       "      <td>...</td>\n",
       "      <td>...</td>\n",
       "      <td>...</td>\n",
       "      <td>...</td>\n",
       "      <td>...</td>\n",
       "      <td>...</td>\n",
       "      <td>...</td>\n",
       "      <td>...</td>\n",
       "      <td>...</td>\n",
       "      <td>...</td>\n",
       "      <td>...</td>\n",
       "    </tr>\n",
       "    <tr>\n",
       "      <th>7454</th>\n",
       "      <td>Сад художника: Американский импрессионизм</td>\n",
       "      <td>126008019</td>\n",
       "      <td>2019-12-23 12:00:00</td>\n",
       "      <td>Прочие</td>\n",
       "      <td>Севен Артс Продакшнз</td>\n",
       "      <td>Великобритания</td>\n",
       "      <td>Фил Грабски</td>\n",
       "      <td>Фил Грабски</td>\n",
       "      <td>«12+» - для детей старше 12 лет</td>\n",
       "      <td>NaN</td>\n",
       "      <td>NaN</td>\n",
       "      <td>NaN</td>\n",
       "      <td>NaN</td>\n",
       "      <td>NaN</td>\n",
       "      <td>не указан</td>\n",
       "      <td>NaN</td>\n",
       "    </tr>\n",
       "    <tr>\n",
       "      <th>7455</th>\n",
       "      <td>Звериная ярость</td>\n",
       "      <td>121037819</td>\n",
       "      <td>2019-12-24 12:00:00</td>\n",
       "      <td>Художественный</td>\n",
       "      <td>Дэниел Гродник Продакшнз, Вандерфилм Медиа Кор...</td>\n",
       "      <td>США</td>\n",
       "      <td>Ник Пауэлл</td>\n",
       "      <td>Джефф Боулер, Дэниэл Гродник, Луильо Руис, Брэ...</td>\n",
       "      <td>«16+» - для детей старше 16 лет</td>\n",
       "      <td>NaN</td>\n",
       "      <td>NaN</td>\n",
       "      <td>NaN</td>\n",
       "      <td>NaN</td>\n",
       "      <td>5.4</td>\n",
       "      <td>боевик,триллер</td>\n",
       "      <td>NaN</td>\n",
       "    </tr>\n",
       "    <tr>\n",
       "      <th>7456</th>\n",
       "      <td>Щенячий патруль: Скорей спешим на помощь!</td>\n",
       "      <td>124010819</td>\n",
       "      <td>2019-12-28 12:00:00</td>\n",
       "      <td>Художественный</td>\n",
       "      <td>Никелодеон Анимейшн Студиос, Спин Мастер</td>\n",
       "      <td>США - Канада</td>\n",
       "      <td>Чарльз Е.Бастьен</td>\n",
       "      <td>Дженнифер Додж</td>\n",
       "      <td>«0+» - для любой зрительской аудитории</td>\n",
       "      <td>NaN</td>\n",
       "      <td>NaN</td>\n",
       "      <td>NaN</td>\n",
       "      <td>NaN</td>\n",
       "      <td>NaN</td>\n",
       "      <td>не указан</td>\n",
       "      <td>NaN</td>\n",
       "    </tr>\n",
       "    <tr>\n",
       "      <th>7457</th>\n",
       "      <td>Машины песенки. Серия \"Испанские мотивы\"</td>\n",
       "      <td>124010619</td>\n",
       "      <td>2019-12-30 12:00:00</td>\n",
       "      <td>Анимационный</td>\n",
       "      <td>Анимаккорд Лтд., ООО Студия \"АНИМАККОРД\"</td>\n",
       "      <td>Республика Кипр, Россия</td>\n",
       "      <td>А.Беляев</td>\n",
       "      <td>Д.Ловейко</td>\n",
       "      <td>«0+» - для любой зрительской аудитории</td>\n",
       "      <td>NaN</td>\n",
       "      <td>NaN</td>\n",
       "      <td>NaN</td>\n",
       "      <td>NaN</td>\n",
       "      <td>NaN</td>\n",
       "      <td>не указан</td>\n",
       "      <td>NaN</td>\n",
       "    </tr>\n",
       "    <tr>\n",
       "      <th>7458</th>\n",
       "      <td>Машины песенки. Серия \"Когда цветут кактусы\"</td>\n",
       "      <td>124010719</td>\n",
       "      <td>2019-12-30 12:00:00</td>\n",
       "      <td>Анимационный</td>\n",
       "      <td>Анимаккорд Лтд., ООО Студия \"АНИМАККОРД\"</td>\n",
       "      <td>Республика Кипр, Россия</td>\n",
       "      <td>И.Трусов</td>\n",
       "      <td>Д.Ловейко</td>\n",
       "      <td>«0+» - для любой зрительской аудитории</td>\n",
       "      <td>NaN</td>\n",
       "      <td>NaN</td>\n",
       "      <td>NaN</td>\n",
       "      <td>NaN</td>\n",
       "      <td>6.3</td>\n",
       "      <td>комедия,вестерн</td>\n",
       "      <td>NaN</td>\n",
       "    </tr>\n",
       "  </tbody>\n",
       "</table>\n",
       "<p>6746 rows × 16 columns</p>\n",
       "</div>"
      ],
      "text/plain": [
       "                                             title   puNumber  \\\n",
       "7087                          Тайна Печати Дракона  111012819   \n",
       "5426                                      Матильда  111005717   \n",
       "7437                                 Союз спасения  111022019   \n",
       "7144                                          Грех  111014419   \n",
       "3347                                       Дуэлянт  111015416   \n",
       "...                                            ...        ...   \n",
       "7454     Сад художника: Американский импрессионизм  126008019   \n",
       "7455                               Звериная ярость  121037819   \n",
       "7456     Щенячий патруль: Скорей спешим на помощь!  124010819   \n",
       "7457      Машины песенки. Серия \"Испанские мотивы\"  124010619   \n",
       "7458  Машины песенки. Серия \"Когда цветут кактусы\"  124010719   \n",
       "\n",
       "         show_start_date            type  \\\n",
       "7087 2019-09-12 12:00:00  Художественный   \n",
       "5426 2017-08-17 12:00:00  Художественный   \n",
       "7437 2019-12-26 12:00:00  Художественный   \n",
       "7144 2019-08-31 12:00:00  Художественный   \n",
       "3347 2016-09-14 12:00:00  Художественный   \n",
       "...                  ...             ...   \n",
       "7454 2019-12-23 12:00:00          Прочие   \n",
       "7455 2019-12-24 12:00:00  Художественный   \n",
       "7456 2019-12-28 12:00:00  Художественный   \n",
       "7457 2019-12-30 12:00:00    Анимационный   \n",
       "7458 2019-12-30 12:00:00    Анимационный   \n",
       "\n",
       "                                            film_studio  \\\n",
       "7087  ООО \"Кинокомпания \"СТВ\"; ООО \"РФГ Корп\"; ООО \"...   \n",
       "5426                     ООО \"ТПО \"РОК\", ООО \"Матильда\"   \n",
       "7437                                ЗАО \"Дирекция кино\"   \n",
       "7144  НО Фонд Андрея Кончаловского по поддержке кино...   \n",
       "3347                            ООО \"Нон-Стоп Продакшн\"   \n",
       "...                                                 ...   \n",
       "7454                               Севен Артс Продакшнз   \n",
       "7455  Дэниел Гродник Продакшнз, Вандерфилм Медиа Кор...   \n",
       "7456           Никелодеон Анимейшн Студиос, Спин Мастер   \n",
       "7457           Анимаккорд Лтд., ООО Студия \"АНИМАККОРД\"   \n",
       "7458           Анимаккорд Лтд., ООО Студия \"АНИМАККОРД\"   \n",
       "\n",
       "           production_country                               director  \\\n",
       "7087             Россия-Китай                            О.Степченко   \n",
       "5426                   Россия                              А.Учитель   \n",
       "7437                   Россия                              А.Кравчук   \n",
       "7144           Россия, Италия  А.Михалков (псевдоним А.Кончаловский)   \n",
       "3347                   Россия                             А.Мизгирев   \n",
       "...                       ...                                    ...   \n",
       "7454           Великобритания                            Фил Грабски   \n",
       "7455                      США                             Ник Пауэлл   \n",
       "7456             США - Канада                       Чарльз Е.Бастьен   \n",
       "7457  Республика Кипр, Россия                               А.Беляев   \n",
       "7458  Республика Кипр, Россия                               И.Трусов   \n",
       "\n",
       "                                               producer  \\\n",
       "7087                             С.Сельянов, А.Петрухин   \n",
       "5426                    А.Учитель, А.Достман, В.Винокур   \n",
       "7437                                А.Максимов, К.Эрнст   \n",
       "7144  НО Фонд Андрея Кончаловского по поддержке кино...   \n",
       "3347                          А.Роднянский, С.Мелькумов   \n",
       "...                                                 ...   \n",
       "7454                                        Фил Грабски   \n",
       "7455  Джефф Боулер, Дэниэл Гродник, Луильо Руис, Брэ...   \n",
       "7456                                     Дженнифер Додж   \n",
       "7457                                          Д.Ловейко   \n",
       "7458                                          Д.Ловейко   \n",
       "\n",
       "                             age_restriction  refundable_support  \\\n",
       "7087           «6+» - для детей старше 6 лет            180000.0   \n",
       "5426         «16+» - для детей старше 16 лет            110000.0   \n",
       "7437         «12+» - для детей старше 12 лет            100000.0   \n",
       "7144         «16+» - для детей старше 16 лет                 0.0   \n",
       "3347         «16+» - для детей старше 16 лет            150000.0   \n",
       "...                                      ...                 ...   \n",
       "7454         «12+» - для детей старше 12 лет                 NaN   \n",
       "7455         «16+» - для детей старше 16 лет                 NaN   \n",
       "7456  «0+» - для любой зрительской аудитории                 NaN   \n",
       "7457  «0+» - для любой зрительской аудитории                 NaN   \n",
       "7458  «0+» - для любой зрительской аудитории                 NaN   \n",
       "\n",
       "      nonrefundable_support       budget       financing_source  ratings  \\\n",
       "7087                90000.0  2305074.303              Фонд кино      5.8   \n",
       "5426               190000.0  1032905.957              Фонд кино      7.7   \n",
       "7437               400000.0   980000.000              Фонд кино      6.0   \n",
       "7144                60000.0   779941.965  Министерство культуры      6.9   \n",
       "3347               300000.0   684200.536              Фонд кино      6.6   \n",
       "...                     ...          ...                    ...      ...   \n",
       "7454                    NaN          NaN                    NaN      NaN   \n",
       "7455                    NaN          NaN                    NaN      5.4   \n",
       "7456                    NaN          NaN                    NaN      NaN   \n",
       "7457                    NaN          NaN                    NaN      NaN   \n",
       "7458                    NaN          NaN                    NaN      6.3   \n",
       "\n",
       "                        genres    box_office  \n",
       "7087       приключения,фэнтези  333597.05959  \n",
       "5426  фэнтези,комедия,семейный  511775.54800  \n",
       "7437   история,биография,драма  717703.18553  \n",
       "7144   драма,биография,история   54243.20271  \n",
       "3347                     драма  364285.13960  \n",
       "...                        ...           ...  \n",
       "7454                 не указан           NaN  \n",
       "7455            боевик,триллер           NaN  \n",
       "7456                 не указан           NaN  \n",
       "7457                 не указан           NaN  \n",
       "7458           комедия,вестерн           NaN  \n",
       "\n",
       "[6746 rows x 16 columns]"
      ]
     },
     "execution_count": 36,
     "metadata": {},
     "output_type": "execute_result"
    }
   ],
   "source": [
    "data.sort_values(by='budget', ascending = False)"
   ]
  },
  {
   "cell_type": "code",
   "execution_count": 37,
   "metadata": {},
   "outputs": [
    {
     "data": {
      "text/plain": [
       "<AxesSubplot:>"
      ]
     },
     "execution_count": 37,
     "metadata": {},
     "output_type": "execute_result"
    },
    {
     "data": {
      "image/png": "[encoded data removed]",
      "text/plain": [
       "<Figure size 432x288 with 1 Axes>"
      ]
     },
     "metadata": {
      "needs_background": "light"
     },
     "output_type": "display_data"
    }
   ],
   "source": [
    "data.query('budget > 0.0').boxplot(column=['budget'])"
   ]
  },
  {
   "cell_type": "code",
   "execution_count": 38,
   "metadata": {},
   "outputs": [
    {
     "data": {
      "text/plain": [
       "<AxesSubplot:>"
      ]
     },
     "execution_count": 38,
     "metadata": {},
     "output_type": "execute_result"
    },
    {
     "data": {
      "image/png": "[encoded data removed]",
      "text/plain": [
       "<Figure size 432x288 with 1 Axes>"
      ]
     },
     "metadata": {
      "needs_background": "light"
     },
     "output_type": "display_data"
    }
   ],
   "source": [
    "data.query('box_office > 0.0').boxplot(column=['box_office'])"
   ]
  },
  {
   "cell_type": "markdown",
   "metadata": {},
   "source": [
    "Очень большой разброс данных в столбце **box_office**"
   ]
  },
  {
   "cell_type": "markdown",
   "metadata": {},
   "source": [
    "Для удобства восприятия информации, уберем в столбцах лишние цифры после запятой, оставив только одну"
   ]
  },
  {
   "cell_type": "code",
   "execution_count": 39,
   "metadata": {},
   "outputs": [
    {
     "data": {
      "text/html": [
       "<div>\n",
       "<style scoped>\n",
       "    .dataframe tbody tr th:only-of-type {\n",
       "        vertical-align: middle;\n",
       "    }\n",
       "\n",
       "    .dataframe tbody tr th {\n",
       "        vertical-align: top;\n",
       "    }\n",
       "\n",
       "    .dataframe thead th {\n",
       "        text-align: right;\n",
       "    }\n",
       "</style>\n",
       "<table border=\"1\" class=\"dataframe\">\n",
       "  <thead>\n",
       "    <tr style=\"text-align: right;\">\n",
       "      <th></th>\n",
       "      <th>title</th>\n",
       "      <th>puNumber</th>\n",
       "      <th>show_start_date</th>\n",
       "      <th>type</th>\n",
       "      <th>film_studio</th>\n",
       "      <th>production_country</th>\n",
       "      <th>director</th>\n",
       "      <th>producer</th>\n",
       "      <th>age_restriction</th>\n",
       "      <th>refundable_support</th>\n",
       "      <th>nonrefundable_support</th>\n",
       "      <th>budget</th>\n",
       "      <th>financing_source</th>\n",
       "      <th>ratings</th>\n",
       "      <th>genres</th>\n",
       "      <th>box_office</th>\n",
       "    </tr>\n",
       "  </thead>\n",
       "  <tbody>\n",
       "    <tr>\n",
       "      <th>7429</th>\n",
       "      <td>Холоп</td>\n",
       "      <td>111021719</td>\n",
       "      <td>2019-12-19 12:00:00</td>\n",
       "      <td>Художественный</td>\n",
       "      <td>ООО \"МЕМ-МЕДИА\" по заказу АО \"ВБД Груп\"</td>\n",
       "      <td>Россия</td>\n",
       "      <td>К.Шипенко</td>\n",
       "      <td>Э.Илоян, Д.Жалинский, В.Дусмухаметов, Т.Бадзие...</td>\n",
       "      <td>«12+» - для детей старше 12 лет</td>\n",
       "      <td>25000.0</td>\n",
       "      <td>35000.0</td>\n",
       "      <td>160000.0</td>\n",
       "      <td>Фонд кино</td>\n",
       "      <td>6.8</td>\n",
       "      <td>комедия</td>\n",
       "      <td>3073568.7</td>\n",
       "    </tr>\n",
       "    <tr>\n",
       "      <th>5642</th>\n",
       "      <td>Движение вверх</td>\n",
       "      <td>111011817</td>\n",
       "      <td>2017-12-21 12:00:00</td>\n",
       "      <td>Художественный</td>\n",
       "      <td>ООО \"Студия \"ТРИТЭ\" Никиты Михалкова\"</td>\n",
       "      <td>Россия</td>\n",
       "      <td>А.Мегердичев</td>\n",
       "      <td>Л.Верещагин, А.Златопольский, Н.Михалков, ООО ...</td>\n",
       "      <td>«6+» - для детей старше 6 лет</td>\n",
       "      <td>0.0</td>\n",
       "      <td>400000.0</td>\n",
       "      <td>590192.2</td>\n",
       "      <td>Фонд кино</td>\n",
       "      <td>7.5</td>\n",
       "      <td>спорт,драма</td>\n",
       "      <td>2779686.1</td>\n",
       "    </tr>\n",
       "    <tr>\n",
       "      <th>6793</th>\n",
       "      <td>Мстители: Финал</td>\n",
       "      <td>121005519</td>\n",
       "      <td>2019-04-29 12:00:00</td>\n",
       "      <td>Художественный</td>\n",
       "      <td>Марвел Студиос</td>\n",
       "      <td>США</td>\n",
       "      <td>Джо Руссо, Энтони Руссо</td>\n",
       "      <td>Кевин Фейги</td>\n",
       "      <td>«16+» - для детей старше 16 лет</td>\n",
       "      <td>NaN</td>\n",
       "      <td>NaN</td>\n",
       "      <td>NaN</td>\n",
       "      <td>NaN</td>\n",
       "      <td>7.6</td>\n",
       "      <td>фантастика,боевик,драма</td>\n",
       "      <td>2576613.8</td>\n",
       "    </tr>\n",
       "    <tr>\n",
       "      <th>6526</th>\n",
       "      <td>Т-34</td>\n",
       "      <td>111024918</td>\n",
       "      <td>2018-12-21 12:00:00</td>\n",
       "      <td>Художественный</td>\n",
       "      <td>ООО \"Кинокомпания МАРС-фильм\" по заказу ООО \"М...</td>\n",
       "      <td>Россия</td>\n",
       "      <td>А.Сидоров</td>\n",
       "      <td>А.Златопольский, Р.Дишдишян, Л.Блаватник, Н.Яр...</td>\n",
       "      <td>«12+» - для детей старше 12 лет</td>\n",
       "      <td>60000.0</td>\n",
       "      <td>120000.0</td>\n",
       "      <td>563784.7</td>\n",
       "      <td>Фонд кино</td>\n",
       "      <td>6.5</td>\n",
       "      <td>драма,военный,боевик</td>\n",
       "      <td>2271754.0</td>\n",
       "    </tr>\n",
       "    <tr>\n",
       "      <th>3484</th>\n",
       "      <td>Пираты Карибского моря: Мертвецы не рассказыва...</td>\n",
       "      <td>121009217</td>\n",
       "      <td>2017-05-17 12:00:00</td>\n",
       "      <td>Художественный</td>\n",
       "      <td>Джерри Брукхаймер Филмз, Уолт Дисней Пикчерз, ...</td>\n",
       "      <td>США</td>\n",
       "      <td>Йоаким Реннинг, Эспен Сандберг</td>\n",
       "      <td>Джерри Брукхаймер</td>\n",
       "      <td>«16+» - для детей старше 16 лет</td>\n",
       "      <td>NaN</td>\n",
       "      <td>NaN</td>\n",
       "      <td>NaN</td>\n",
       "      <td>NaN</td>\n",
       "      <td>6.6</td>\n",
       "      <td>фэнтези,боевик,комедия</td>\n",
       "      <td>2118396.1</td>\n",
       "    </tr>\n",
       "    <tr>\n",
       "      <th>...</th>\n",
       "      <td>...</td>\n",
       "      <td>...</td>\n",
       "      <td>...</td>\n",
       "      <td>...</td>\n",
       "      <td>...</td>\n",
       "      <td>...</td>\n",
       "      <td>...</td>\n",
       "      <td>...</td>\n",
       "      <td>...</td>\n",
       "      <td>...</td>\n",
       "      <td>...</td>\n",
       "      <td>...</td>\n",
       "      <td>...</td>\n",
       "      <td>...</td>\n",
       "      <td>...</td>\n",
       "      <td>...</td>\n",
       "    </tr>\n",
       "    <tr>\n",
       "      <th>7454</th>\n",
       "      <td>Сад художника: Американский импрессионизм</td>\n",
       "      <td>126008019</td>\n",
       "      <td>2019-12-23 12:00:00</td>\n",
       "      <td>Прочие</td>\n",
       "      <td>Севен Артс Продакшнз</td>\n",
       "      <td>Великобритания</td>\n",
       "      <td>Фил Грабски</td>\n",
       "      <td>Фил Грабски</td>\n",
       "      <td>«12+» - для детей старше 12 лет</td>\n",
       "      <td>NaN</td>\n",
       "      <td>NaN</td>\n",
       "      <td>NaN</td>\n",
       "      <td>NaN</td>\n",
       "      <td>NaN</td>\n",
       "      <td>не указан</td>\n",
       "      <td>NaN</td>\n",
       "    </tr>\n",
       "    <tr>\n",
       "      <th>7455</th>\n",
       "      <td>Звериная ярость</td>\n",
       "      <td>121037819</td>\n",
       "      <td>2019-12-24 12:00:00</td>\n",
       "      <td>Художественный</td>\n",
       "      <td>Дэниел Гродник Продакшнз, Вандерфилм Медиа Кор...</td>\n",
       "      <td>США</td>\n",
       "      <td>Ник Пауэлл</td>\n",
       "      <td>Джефф Боулер, Дэниэл Гродник, Луильо Руис, Брэ...</td>\n",
       "      <td>«16+» - для детей старше 16 лет</td>\n",
       "      <td>NaN</td>\n",
       "      <td>NaN</td>\n",
       "      <td>NaN</td>\n",
       "      <td>NaN</td>\n",
       "      <td>5.4</td>\n",
       "      <td>боевик,триллер</td>\n",
       "      <td>NaN</td>\n",
       "    </tr>\n",
       "    <tr>\n",
       "      <th>7456</th>\n",
       "      <td>Щенячий патруль: Скорей спешим на помощь!</td>\n",
       "      <td>124010819</td>\n",
       "      <td>2019-12-28 12:00:00</td>\n",
       "      <td>Художественный</td>\n",
       "      <td>Никелодеон Анимейшн Студиос, Спин Мастер</td>\n",
       "      <td>США - Канада</td>\n",
       "      <td>Чарльз Е.Бастьен</td>\n",
       "      <td>Дженнифер Додж</td>\n",
       "      <td>«0+» - для любой зрительской аудитории</td>\n",
       "      <td>NaN</td>\n",
       "      <td>NaN</td>\n",
       "      <td>NaN</td>\n",
       "      <td>NaN</td>\n",
       "      <td>NaN</td>\n",
       "      <td>не указан</td>\n",
       "      <td>NaN</td>\n",
       "    </tr>\n",
       "    <tr>\n",
       "      <th>7457</th>\n",
       "      <td>Машины песенки. Серия \"Испанские мотивы\"</td>\n",
       "      <td>124010619</td>\n",
       "      <td>2019-12-30 12:00:00</td>\n",
       "      <td>Анимационный</td>\n",
       "      <td>Анимаккорд Лтд., ООО Студия \"АНИМАККОРД\"</td>\n",
       "      <td>Республика Кипр, Россия</td>\n",
       "      <td>А.Беляев</td>\n",
       "      <td>Д.Ловейко</td>\n",
       "      <td>«0+» - для любой зрительской аудитории</td>\n",
       "      <td>NaN</td>\n",
       "      <td>NaN</td>\n",
       "      <td>NaN</td>\n",
       "      <td>NaN</td>\n",
       "      <td>NaN</td>\n",
       "      <td>не указан</td>\n",
       "      <td>NaN</td>\n",
       "    </tr>\n",
       "    <tr>\n",
       "      <th>7458</th>\n",
       "      <td>Машины песенки. Серия \"Когда цветут кактусы\"</td>\n",
       "      <td>124010719</td>\n",
       "      <td>2019-12-30 12:00:00</td>\n",
       "      <td>Анимационный</td>\n",
       "      <td>Анимаккорд Лтд., ООО Студия \"АНИМАККОРД\"</td>\n",
       "      <td>Республика Кипр, Россия</td>\n",
       "      <td>И.Трусов</td>\n",
       "      <td>Д.Ловейко</td>\n",
       "      <td>«0+» - для любой зрительской аудитории</td>\n",
       "      <td>NaN</td>\n",
       "      <td>NaN</td>\n",
       "      <td>NaN</td>\n",
       "      <td>NaN</td>\n",
       "      <td>6.3</td>\n",
       "      <td>комедия,вестерн</td>\n",
       "      <td>NaN</td>\n",
       "    </tr>\n",
       "  </tbody>\n",
       "</table>\n",
       "<p>6746 rows × 16 columns</p>\n",
       "</div>"
      ],
      "text/plain": [
       "                                                  title   puNumber  \\\n",
       "7429                                              Холоп  111021719   \n",
       "5642                                     Движение вверх  111011817   \n",
       "6793                                    Мстители: Финал  121005519   \n",
       "6526                                               Т-34  111024918   \n",
       "3484  Пираты Карибского моря: Мертвецы не рассказыва...  121009217   \n",
       "...                                                 ...        ...   \n",
       "7454          Сад художника: Американский импрессионизм  126008019   \n",
       "7455                                    Звериная ярость  121037819   \n",
       "7456          Щенячий патруль: Скорей спешим на помощь!  124010819   \n",
       "7457           Машины песенки. Серия \"Испанские мотивы\"  124010619   \n",
       "7458       Машины песенки. Серия \"Когда цветут кактусы\"  124010719   \n",
       "\n",
       "         show_start_date            type  \\\n",
       "7429 2019-12-19 12:00:00  Художественный   \n",
       "5642 2017-12-21 12:00:00  Художественный   \n",
       "6793 2019-04-29 12:00:00  Художественный   \n",
       "6526 2018-12-21 12:00:00  Художественный   \n",
       "3484 2017-05-17 12:00:00  Художественный   \n",
       "...                  ...             ...   \n",
       "7454 2019-12-23 12:00:00          Прочие   \n",
       "7455 2019-12-24 12:00:00  Художественный   \n",
       "7456 2019-12-28 12:00:00  Художественный   \n",
       "7457 2019-12-30 12:00:00    Анимационный   \n",
       "7458 2019-12-30 12:00:00    Анимационный   \n",
       "\n",
       "                                            film_studio  \\\n",
       "7429            ООО \"МЕМ-МЕДИА\" по заказу АО \"ВБД Груп\"   \n",
       "5642              ООО \"Студия \"ТРИТЭ\" Никиты Михалкова\"   \n",
       "6793                                     Марвел Студиос   \n",
       "6526  ООО \"Кинокомпания МАРС-фильм\" по заказу ООО \"М...   \n",
       "3484  Джерри Брукхаймер Филмз, Уолт Дисней Пикчерз, ...   \n",
       "...                                                 ...   \n",
       "7454                               Севен Артс Продакшнз   \n",
       "7455  Дэниел Гродник Продакшнз, Вандерфилм Медиа Кор...   \n",
       "7456           Никелодеон Анимейшн Студиос, Спин Мастер   \n",
       "7457           Анимаккорд Лтд., ООО Студия \"АНИМАККОРД\"   \n",
       "7458           Анимаккорд Лтд., ООО Студия \"АНИМАККОРД\"   \n",
       "\n",
       "           production_country                        director  \\\n",
       "7429                   Россия                       К.Шипенко   \n",
       "5642                   Россия                    А.Мегердичев   \n",
       "6793                      США         Джо Руссо, Энтони Руссо   \n",
       "6526                   Россия                       А.Сидоров   \n",
       "3484                      США  Йоаким Реннинг, Эспен Сандберг   \n",
       "...                       ...                             ...   \n",
       "7454           Великобритания                     Фил Грабски   \n",
       "7455                      США                      Ник Пауэлл   \n",
       "7456             США - Канада                Чарльз Е.Бастьен   \n",
       "7457  Республика Кипр, Россия                        А.Беляев   \n",
       "7458  Республика Кипр, Россия                        И.Трусов   \n",
       "\n",
       "                                               producer  \\\n",
       "7429  Э.Илоян, Д.Жалинский, В.Дусмухаметов, Т.Бадзие...   \n",
       "5642  Л.Верещагин, А.Златопольский, Н.Михалков, ООО ...   \n",
       "6793                                        Кевин Фейги   \n",
       "6526  А.Златопольский, Р.Дишдишян, Л.Блаватник, Н.Яр...   \n",
       "3484                                  Джерри Брукхаймер   \n",
       "...                                                 ...   \n",
       "7454                                        Фил Грабски   \n",
       "7455  Джефф Боулер, Дэниэл Гродник, Луильо Руис, Брэ...   \n",
       "7456                                     Дженнифер Додж   \n",
       "7457                                          Д.Ловейко   \n",
       "7458                                          Д.Ловейко   \n",
       "\n",
       "                             age_restriction  refundable_support  \\\n",
       "7429         «12+» - для детей старше 12 лет             25000.0   \n",
       "5642           «6+» - для детей старше 6 лет                 0.0   \n",
       "6793         «16+» - для детей старше 16 лет                 NaN   \n",
       "6526         «12+» - для детей старше 12 лет             60000.0   \n",
       "3484         «16+» - для детей старше 16 лет                 NaN   \n",
       "...                                      ...                 ...   \n",
       "7454         «12+» - для детей старше 12 лет                 NaN   \n",
       "7455         «16+» - для детей старше 16 лет                 NaN   \n",
       "7456  «0+» - для любой зрительской аудитории                 NaN   \n",
       "7457  «0+» - для любой зрительской аудитории                 NaN   \n",
       "7458  «0+» - для любой зрительской аудитории                 NaN   \n",
       "\n",
       "      nonrefundable_support    budget financing_source  ratings  \\\n",
       "7429                35000.0  160000.0        Фонд кино      6.8   \n",
       "5642               400000.0  590192.2        Фонд кино      7.5   \n",
       "6793                    NaN       NaN              NaN      7.6   \n",
       "6526               120000.0  563784.7        Фонд кино      6.5   \n",
       "3484                    NaN       NaN              NaN      6.6   \n",
       "...                     ...       ...              ...      ...   \n",
       "7454                    NaN       NaN              NaN      NaN   \n",
       "7455                    NaN       NaN              NaN      5.4   \n",
       "7456                    NaN       NaN              NaN      NaN   \n",
       "7457                    NaN       NaN              NaN      NaN   \n",
       "7458                    NaN       NaN              NaN      6.3   \n",
       "\n",
       "                       genres  box_office  \n",
       "7429                  комедия   3073568.7  \n",
       "5642              спорт,драма   2779686.1  \n",
       "6793  фантастика,боевик,драма   2576613.8  \n",
       "6526     драма,военный,боевик   2271754.0  \n",
       "3484   фэнтези,боевик,комедия   2118396.1  \n",
       "...                       ...         ...  \n",
       "7454                не указан         NaN  \n",
       "7455           боевик,триллер         NaN  \n",
       "7456                не указан         NaN  \n",
       "7457                не указан         NaN  \n",
       "7458          комедия,вестерн         NaN  \n",
       "\n",
       "[6746 rows x 16 columns]"
      ]
     },
     "execution_count": 39,
     "metadata": {},
     "output_type": "execute_result"
    }
   ],
   "source": [
    "data[['box_office', 'budget', 'ratings']] = data[['box_office', 'budget', 'ratings']].round(1)\n",
    "data.sort_values(by='box_office', ascending = False)"
   ]
  },
  {
   "cell_type": "markdown",
   "metadata": {
    "id": "Eu6oWp2CgFyS"
   },
   "source": [
    "#### Шаг 2.6. Добавьте новые столбцы\n",
    "\n",
    "\n",
    "\n"
   ]
  },
  {
   "cell_type": "markdown",
   "metadata": {
    "id": "7GgW-UpAgFyS"
   },
   "source": [
    "- Создайте столбец с информацией о годе проката. Выделите год из даты премьеры фильма."
   ]
  },
  {
   "cell_type": "code",
   "execution_count": 40,
   "metadata": {
    "id": "I-yd1DkWgFyT"
   },
   "outputs": [
    {
     "data": {
      "text/html": [
       "<div>\n",
       "<style scoped>\n",
       "    .dataframe tbody tr th:only-of-type {\n",
       "        vertical-align: middle;\n",
       "    }\n",
       "\n",
       "    .dataframe tbody tr th {\n",
       "        vertical-align: top;\n",
       "    }\n",
       "\n",
       "    .dataframe thead th {\n",
       "        text-align: right;\n",
       "    }\n",
       "</style>\n",
       "<table border=\"1\" class=\"dataframe\">\n",
       "  <thead>\n",
       "    <tr style=\"text-align: right;\">\n",
       "      <th></th>\n",
       "      <th>title</th>\n",
       "      <th>puNumber</th>\n",
       "      <th>show_start_date</th>\n",
       "      <th>type</th>\n",
       "      <th>film_studio</th>\n",
       "      <th>production_country</th>\n",
       "      <th>director</th>\n",
       "      <th>producer</th>\n",
       "      <th>age_restriction</th>\n",
       "      <th>refundable_support</th>\n",
       "      <th>nonrefundable_support</th>\n",
       "      <th>budget</th>\n",
       "      <th>financing_source</th>\n",
       "      <th>ratings</th>\n",
       "      <th>genres</th>\n",
       "      <th>box_office</th>\n",
       "      <th>show_start_year</th>\n",
       "    </tr>\n",
       "  </thead>\n",
       "  <tbody>\n",
       "    <tr>\n",
       "      <th>7429</th>\n",
       "      <td>Холоп</td>\n",
       "      <td>111021719</td>\n",
       "      <td>2019-12-19 12:00:00</td>\n",
       "      <td>Художественный</td>\n",
       "      <td>ООО \"МЕМ-МЕДИА\" по заказу АО \"ВБД Груп\"</td>\n",
       "      <td>Россия</td>\n",
       "      <td>К.Шипенко</td>\n",
       "      <td>Э.Илоян, Д.Жалинский, В.Дусмухаметов, Т.Бадзие...</td>\n",
       "      <td>«12+» - для детей старше 12 лет</td>\n",
       "      <td>25000.0</td>\n",
       "      <td>35000.0</td>\n",
       "      <td>160000.0</td>\n",
       "      <td>Фонд кино</td>\n",
       "      <td>6.8</td>\n",
       "      <td>комедия</td>\n",
       "      <td>3073568.7</td>\n",
       "      <td>2019</td>\n",
       "    </tr>\n",
       "    <tr>\n",
       "      <th>5642</th>\n",
       "      <td>Движение вверх</td>\n",
       "      <td>111011817</td>\n",
       "      <td>2017-12-21 12:00:00</td>\n",
       "      <td>Художественный</td>\n",
       "      <td>ООО \"Студия \"ТРИТЭ\" Никиты Михалкова\"</td>\n",
       "      <td>Россия</td>\n",
       "      <td>А.Мегердичев</td>\n",
       "      <td>Л.Верещагин, А.Златопольский, Н.Михалков, ООО ...</td>\n",
       "      <td>«6+» - для детей старше 6 лет</td>\n",
       "      <td>0.0</td>\n",
       "      <td>400000.0</td>\n",
       "      <td>590192.2</td>\n",
       "      <td>Фонд кино</td>\n",
       "      <td>7.5</td>\n",
       "      <td>спорт,драма</td>\n",
       "      <td>2779686.1</td>\n",
       "      <td>2017</td>\n",
       "    </tr>\n",
       "    <tr>\n",
       "      <th>6793</th>\n",
       "      <td>Мстители: Финал</td>\n",
       "      <td>121005519</td>\n",
       "      <td>2019-04-29 12:00:00</td>\n",
       "      <td>Художественный</td>\n",
       "      <td>Марвел Студиос</td>\n",
       "      <td>США</td>\n",
       "      <td>Джо Руссо, Энтони Руссо</td>\n",
       "      <td>Кевин Фейги</td>\n",
       "      <td>«16+» - для детей старше 16 лет</td>\n",
       "      <td>NaN</td>\n",
       "      <td>NaN</td>\n",
       "      <td>NaN</td>\n",
       "      <td>NaN</td>\n",
       "      <td>7.6</td>\n",
       "      <td>фантастика,боевик,драма</td>\n",
       "      <td>2576613.8</td>\n",
       "      <td>2019</td>\n",
       "    </tr>\n",
       "    <tr>\n",
       "      <th>6526</th>\n",
       "      <td>Т-34</td>\n",
       "      <td>111024918</td>\n",
       "      <td>2018-12-21 12:00:00</td>\n",
       "      <td>Художественный</td>\n",
       "      <td>ООО \"Кинокомпания МАРС-фильм\" по заказу ООО \"М...</td>\n",
       "      <td>Россия</td>\n",
       "      <td>А.Сидоров</td>\n",
       "      <td>А.Златопольский, Р.Дишдишян, Л.Блаватник, Н.Яр...</td>\n",
       "      <td>«12+» - для детей старше 12 лет</td>\n",
       "      <td>60000.0</td>\n",
       "      <td>120000.0</td>\n",
       "      <td>563784.7</td>\n",
       "      <td>Фонд кино</td>\n",
       "      <td>6.5</td>\n",
       "      <td>драма,военный,боевик</td>\n",
       "      <td>2271754.0</td>\n",
       "      <td>2018</td>\n",
       "    </tr>\n",
       "    <tr>\n",
       "      <th>3484</th>\n",
       "      <td>Пираты Карибского моря: Мертвецы не рассказыва...</td>\n",
       "      <td>121009217</td>\n",
       "      <td>2017-05-17 12:00:00</td>\n",
       "      <td>Художественный</td>\n",
       "      <td>Джерри Брукхаймер Филмз, Уолт Дисней Пикчерз, ...</td>\n",
       "      <td>США</td>\n",
       "      <td>Йоаким Реннинг, Эспен Сандберг</td>\n",
       "      <td>Джерри Брукхаймер</td>\n",
       "      <td>«16+» - для детей старше 16 лет</td>\n",
       "      <td>NaN</td>\n",
       "      <td>NaN</td>\n",
       "      <td>NaN</td>\n",
       "      <td>NaN</td>\n",
       "      <td>6.6</td>\n",
       "      <td>фэнтези,боевик,комедия</td>\n",
       "      <td>2118396.1</td>\n",
       "      <td>2017</td>\n",
       "    </tr>\n",
       "    <tr>\n",
       "      <th>2856</th>\n",
       "      <td>Зверополис</td>\n",
       "      <td>124000316</td>\n",
       "      <td>2016-02-15 12:00:00</td>\n",
       "      <td>Анимационный</td>\n",
       "      <td>Уолт Дисней Анимейшн Студиос, Уолт Дисней Пикчерз</td>\n",
       "      <td>США</td>\n",
       "      <td>Рич Мур, Байрон Ховард</td>\n",
       "      <td>Кларк Спенсер</td>\n",
       "      <td>«6+» - для детей старше 6 лет</td>\n",
       "      <td>NaN</td>\n",
       "      <td>NaN</td>\n",
       "      <td>NaN</td>\n",
       "      <td>NaN</td>\n",
       "      <td>8.3</td>\n",
       "      <td>мультфильм,комедия,криминал</td>\n",
       "      <td>2048126.1</td>\n",
       "      <td>2016</td>\n",
       "    </tr>\n",
       "    <tr>\n",
       "      <th>3751</th>\n",
       "      <td>Тайная жизнь домашних животных. Миньоны против...</td>\n",
       "      <td>124002816</td>\n",
       "      <td>2016-07-05 12:00:00</td>\n",
       "      <td>Анимационный</td>\n",
       "      <td>Иллюминейшн Интертейнмент, Юниверсал Пикчерз</td>\n",
       "      <td>США</td>\n",
       "      <td>Крис Рено</td>\n",
       "      <td>Кристофер Меледандри</td>\n",
       "      <td>«6+» - для детей старше 6 лет</td>\n",
       "      <td>NaN</td>\n",
       "      <td>NaN</td>\n",
       "      <td>NaN</td>\n",
       "      <td>NaN</td>\n",
       "      <td>6.7</td>\n",
       "      <td>мультфильм,короткометражка,комедия</td>\n",
       "      <td>1971005.1</td>\n",
       "      <td>2016</td>\n",
       "    </tr>\n",
       "    <tr>\n",
       "      <th>6261</th>\n",
       "      <td>Веном</td>\n",
       "      <td>121022018</td>\n",
       "      <td>2018-10-04 12:00:00</td>\n",
       "      <td>Художественный</td>\n",
       "      <td>Коламбиа Пикчерз, Марвел Интертейнмент, Паскал...</td>\n",
       "      <td>США</td>\n",
       "      <td>Рубен Флейшер</td>\n",
       "      <td>Ави Арад, Эми Паскаль, Мэтт Толмак</td>\n",
       "      <td>«16+» - для детей старше 16 лет</td>\n",
       "      <td>NaN</td>\n",
       "      <td>NaN</td>\n",
       "      <td>NaN</td>\n",
       "      <td>NaN</td>\n",
       "      <td>6.8</td>\n",
       "      <td>боевик,фантастика,триллер</td>\n",
       "      <td>1913257.9</td>\n",
       "      <td>2018</td>\n",
       "    </tr>\n",
       "    <tr>\n",
       "      <th>7189</th>\n",
       "      <td>Малефисента: Владычица тьмы</td>\n",
       "      <td>121026219</td>\n",
       "      <td>2019-10-04 12:00:00</td>\n",
       "      <td>Художественный</td>\n",
       "      <td>Рот Филмз, Уолт Дисней Пикчерз</td>\n",
       "      <td>США</td>\n",
       "      <td>Йоаким Роннинг</td>\n",
       "      <td>Анджелина Джоли, Джо Рот, Дункан Хендерсон</td>\n",
       "      <td>«6+» - для детей старше 6 лет</td>\n",
       "      <td>NaN</td>\n",
       "      <td>NaN</td>\n",
       "      <td>NaN</td>\n",
       "      <td>NaN</td>\n",
       "      <td>6.9</td>\n",
       "      <td>фэнтези,приключения,семейный</td>\n",
       "      <td>1911944.9</td>\n",
       "      <td>2019</td>\n",
       "    </tr>\n",
       "    <tr>\n",
       "      <th>7231</th>\n",
       "      <td>Джокер</td>\n",
       "      <td>121027519</td>\n",
       "      <td>2019-10-03 12:00:00</td>\n",
       "      <td>Художественный</td>\n",
       "      <td>Брон Студиос, Ди Си Комикс, Джоинт Эффорт, Вил...</td>\n",
       "      <td>США - Канада</td>\n",
       "      <td>Тодд Филлипс</td>\n",
       "      <td>Брэдли Купер, Эмма Тиллинджер Коскофф, Тодд Фи...</td>\n",
       "      <td>«18+» - запрещено для детей</td>\n",
       "      <td>NaN</td>\n",
       "      <td>NaN</td>\n",
       "      <td>NaN</td>\n",
       "      <td>NaN</td>\n",
       "      <td>8.0</td>\n",
       "      <td>триллер,драма,криминал</td>\n",
       "      <td>1890368.1</td>\n",
       "      <td>2019</td>\n",
       "    </tr>\n",
       "    <tr>\n",
       "      <th>5853</th>\n",
       "      <td>Мстители: Война бесконечности</td>\n",
       "      <td>121009118</td>\n",
       "      <td>2018-05-03 12:00:00</td>\n",
       "      <td>Художественный</td>\n",
       "      <td>Марвел Студиос</td>\n",
       "      <td>США</td>\n",
       "      <td>Энтони Руссо, Джо Руссо</td>\n",
       "      <td>Кевин Фейги</td>\n",
       "      <td>«16+» - для детей старше 16 лет</td>\n",
       "      <td>NaN</td>\n",
       "      <td>NaN</td>\n",
       "      <td>NaN</td>\n",
       "      <td>NaN</td>\n",
       "      <td>7.9</td>\n",
       "      <td>фантастика,боевик,приключения</td>\n",
       "      <td>1875989.7</td>\n",
       "      <td>2018</td>\n",
       "    </tr>\n",
       "    <tr>\n",
       "      <th>7356</th>\n",
       "      <td>Холодное сердце II</td>\n",
       "      <td>124009619</td>\n",
       "      <td>2019-11-23 12:00:00</td>\n",
       "      <td>Анимационный</td>\n",
       "      <td>Уолт Дисней Анимейшн Студиос, Уолт Дисней Пикчерс</td>\n",
       "      <td>США</td>\n",
       "      <td>Крис Бак, Дженнифер Ли</td>\n",
       "      <td>Питер Дел Вечо</td>\n",
       "      <td>«6+» - для детей старше 6 лет</td>\n",
       "      <td>NaN</td>\n",
       "      <td>NaN</td>\n",
       "      <td>NaN</td>\n",
       "      <td>NaN</td>\n",
       "      <td>7.1</td>\n",
       "      <td>мультфильм,мюзикл,фэнтези</td>\n",
       "      <td>1827244.7</td>\n",
       "      <td>2019</td>\n",
       "    </tr>\n",
       "    <tr>\n",
       "      <th>6689</th>\n",
       "      <td>Как приручить дракона 3</td>\n",
       "      <td>124000719</td>\n",
       "      <td>2019-02-21 12:00:00</td>\n",
       "      <td>Анимационный</td>\n",
       "      <td>ДримУоркс Анимейшн, Мэд Хаттер Интертейнмент</td>\n",
       "      <td>США</td>\n",
       "      <td>Дин ДеБлуа</td>\n",
       "      <td>Бонни Арнольд, Брэд Льюис</td>\n",
       "      <td>«6+» - для детей старше 6 лет</td>\n",
       "      <td>NaN</td>\n",
       "      <td>NaN</td>\n",
       "      <td>NaN</td>\n",
       "      <td>NaN</td>\n",
       "      <td>7.7</td>\n",
       "      <td>мультфильм,фэнтези,боевик</td>\n",
       "      <td>1689540.8</td>\n",
       "      <td>2019</td>\n",
       "    </tr>\n",
       "    <tr>\n",
       "      <th>6454</th>\n",
       "      <td>Полицейский с рублевки. Новогодний беспредел</td>\n",
       "      <td>111023318</td>\n",
       "      <td>2018-12-20 12:00:00</td>\n",
       "      <td>Художественный</td>\n",
       "      <td>ООО \"ЛЕГИО ФЕЛИКС\", ООО \"Ника ТВ\"</td>\n",
       "      <td>Россия</td>\n",
       "      <td>И.Куликов</td>\n",
       "      <td>И.Куликов, А.Семенов, ООО \"Ника ТВ\"</td>\n",
       "      <td>«16+» - для детей старше 16 лет</td>\n",
       "      <td>NaN</td>\n",
       "      <td>NaN</td>\n",
       "      <td>NaN</td>\n",
       "      <td>NaN</td>\n",
       "      <td>5.8</td>\n",
       "      <td>комедия,приключения</td>\n",
       "      <td>1682680.0</td>\n",
       "      <td>2018</td>\n",
       "    </tr>\n",
       "    <tr>\n",
       "      <th>3114</th>\n",
       "      <td>Звёздные войны: Пробуждение силы</td>\n",
       "      <td>121024915</td>\n",
       "      <td>2015-12-11 12:00:00</td>\n",
       "      <td>Художественный</td>\n",
       "      <td>Лукасфилм, Бэд Робот, Трунорт Продакшнз</td>\n",
       "      <td>США</td>\n",
       "      <td>Джей Джей Абрамс</td>\n",
       "      <td>Джей Джей Абрамс, Брайан Берк, Кэтлин Кеннеди</td>\n",
       "      <td>«12+» - для детей старше 12 лет</td>\n",
       "      <td>NaN</td>\n",
       "      <td>NaN</td>\n",
       "      <td>NaN</td>\n",
       "      <td>NaN</td>\n",
       "      <td>7.1</td>\n",
       "      <td>фантастика,боевик,приключения</td>\n",
       "      <td>1658861.4</td>\n",
       "      <td>2015</td>\n",
       "    </tr>\n",
       "    <tr>\n",
       "      <th>5494</th>\n",
       "      <td>Последний богатырь</td>\n",
       "      <td>111007017</td>\n",
       "      <td>2017-10-19 12:00:00</td>\n",
       "      <td>Художественный</td>\n",
       "      <td>ООО \"Киностудия \"Слово\" по заказу ООО \"Уолт Ди...</td>\n",
       "      <td>Россия</td>\n",
       "      <td>Д.Дьяченко</td>\n",
       "      <td>Э.Илоян, Д.Жалинский, М.Озкан, А.Троцюк, В.Шляппо</td>\n",
       "      <td>«12+» - для детей старше 12 лет</td>\n",
       "      <td>50000.0</td>\n",
       "      <td>50000.0</td>\n",
       "      <td>352477.6</td>\n",
       "      <td>Фонд кино</td>\n",
       "      <td>6.8</td>\n",
       "      <td>комедия,фэнтези,приключения</td>\n",
       "      <td>1655037.7</td>\n",
       "      <td>2017</td>\n",
       "    </tr>\n",
       "    <tr>\n",
       "      <th>2575</th>\n",
       "      <td>Миньоны</td>\n",
       "      <td>124001715</td>\n",
       "      <td>2015-03-30 12:00:00</td>\n",
       "      <td>Анимационный</td>\n",
       "      <td>Иллюминейшн Интертейнмент</td>\n",
       "      <td>США</td>\n",
       "      <td>Кайл Балда, Пьер Соффин</td>\n",
       "      <td>Кристофер Меледандри, Джанет Хили</td>\n",
       "      <td>«6+» - для детей старше 6 лет</td>\n",
       "      <td>NaN</td>\n",
       "      <td>NaN</td>\n",
       "      <td>NaN</td>\n",
       "      <td>NaN</td>\n",
       "      <td>6.2</td>\n",
       "      <td>мультфильм,фантастика,комедия</td>\n",
       "      <td>1646580.6</td>\n",
       "      <td>2015</td>\n",
       "    </tr>\n",
       "    <tr>\n",
       "      <th>2837</th>\n",
       "      <td>Дэдпул</td>\n",
       "      <td>121002116</td>\n",
       "      <td>2016-02-03 12:00:00</td>\n",
       "      <td>Художественный</td>\n",
       "      <td>ХХ век Фокс, Марвел Энтерпрайзиз, Тэ Эс Гэ Инт...</td>\n",
       "      <td>США - Канада</td>\n",
       "      <td>Тим Миллер</td>\n",
       "      <td>Саймон Кинберг, Райан Рейнольдс, Лорен Шулер Д...</td>\n",
       "      <td>«18+» - запрещено для детей</td>\n",
       "      <td>NaN</td>\n",
       "      <td>NaN</td>\n",
       "      <td>NaN</td>\n",
       "      <td>NaN</td>\n",
       "      <td>7.5</td>\n",
       "      <td>фантастика,боевик,комедия</td>\n",
       "      <td>1587516.4</td>\n",
       "      <td>2016</td>\n",
       "    </tr>\n",
       "    <tr>\n",
       "      <th>3392</th>\n",
       "      <td>Отряд самоубийц</td>\n",
       "      <td>121018816</td>\n",
       "      <td>2016-06-21 12:00:00</td>\n",
       "      <td>Художественный</td>\n",
       "      <td>Атлас Интертейнмент, Ди Си Интертейнмент, Дюн ...</td>\n",
       "      <td>США</td>\n",
       "      <td>Дэвид Эйр</td>\n",
       "      <td>Чарльз Ровен, Ричард Скал</td>\n",
       "      <td>«16+» - для детей старше 16 лет</td>\n",
       "      <td>NaN</td>\n",
       "      <td>NaN</td>\n",
       "      <td>NaN</td>\n",
       "      <td>NaN</td>\n",
       "      <td>6.1</td>\n",
       "      <td>фантастика,боевик,фэнтези</td>\n",
       "      <td>1570380.3</td>\n",
       "      <td>2016</td>\n",
       "    </tr>\n",
       "    <tr>\n",
       "      <th>6377</th>\n",
       "      <td>Фантастические твари: Преступления Грин-де-Вальда</td>\n",
       "      <td>121025518</td>\n",
       "      <td>2018-11-15 12:00:00</td>\n",
       "      <td>Художественный</td>\n",
       "      <td>Хейдэй Филмз, Уорнер Бразерс</td>\n",
       "      <td>США - Великобритания</td>\n",
       "      <td>Дэвид Йейтс</td>\n",
       "      <td>Стив Кловз, Джоан К,Роулинг, Лайонел Уигрэм, Д...</td>\n",
       "      <td>«12+» - для детей старше 12 лет</td>\n",
       "      <td>NaN</td>\n",
       "      <td>NaN</td>\n",
       "      <td>NaN</td>\n",
       "      <td>NaN</td>\n",
       "      <td>6.6</td>\n",
       "      <td>фэнтези,приключения,семейный</td>\n",
       "      <td>1520626.5</td>\n",
       "      <td>2018</td>\n",
       "    </tr>\n",
       "  </tbody>\n",
       "</table>\n",
       "</div>"
      ],
      "text/plain": [
       "                                                  title   puNumber  \\\n",
       "7429                                              Холоп  111021719   \n",
       "5642                                     Движение вверх  111011817   \n",
       "6793                                    Мстители: Финал  121005519   \n",
       "6526                                               Т-34  111024918   \n",
       "3484  Пираты Карибского моря: Мертвецы не рассказыва...  121009217   \n",
       "2856                                         Зверополис  124000316   \n",
       "3751  Тайная жизнь домашних животных. Миньоны против...  124002816   \n",
       "6261                                              Веном  121022018   \n",
       "7189                        Малефисента: Владычица тьмы  121026219   \n",
       "7231                                             Джокер  121027519   \n",
       "5853                      Мстители: Война бесконечности  121009118   \n",
       "7356                                 Холодное сердце II  124009619   \n",
       "6689                            Как приручить дракона 3  124000719   \n",
       "6454       Полицейский с рублевки. Новогодний беспредел  111023318   \n",
       "3114                   Звёздные войны: Пробуждение силы  121024915   \n",
       "5494                                 Последний богатырь  111007017   \n",
       "2575                                            Миньоны  124001715   \n",
       "2837                                             Дэдпул  121002116   \n",
       "3392                                    Отряд самоубийц  121018816   \n",
       "6377  Фантастические твари: Преступления Грин-де-Вальда  121025518   \n",
       "\n",
       "         show_start_date            type  \\\n",
       "7429 2019-12-19 12:00:00  Художественный   \n",
       "5642 2017-12-21 12:00:00  Художественный   \n",
       "6793 2019-04-29 12:00:00  Художественный   \n",
       "6526 2018-12-21 12:00:00  Художественный   \n",
       "3484 2017-05-17 12:00:00  Художественный   \n",
       "2856 2016-02-15 12:00:00    Анимационный   \n",
       "3751 2016-07-05 12:00:00    Анимационный   \n",
       "6261 2018-10-04 12:00:00  Художественный   \n",
       "7189 2019-10-04 12:00:00  Художественный   \n",
       "7231 2019-10-03 12:00:00  Художественный   \n",
       "5853 2018-05-03 12:00:00  Художественный   \n",
       "7356 2019-11-23 12:00:00    Анимационный   \n",
       "6689 2019-02-21 12:00:00    Анимационный   \n",
       "6454 2018-12-20 12:00:00  Художественный   \n",
       "3114 2015-12-11 12:00:00  Художественный   \n",
       "5494 2017-10-19 12:00:00  Художественный   \n",
       "2575 2015-03-30 12:00:00    Анимационный   \n",
       "2837 2016-02-03 12:00:00  Художественный   \n",
       "3392 2016-06-21 12:00:00  Художественный   \n",
       "6377 2018-11-15 12:00:00  Художественный   \n",
       "\n",
       "                                            film_studio    production_country  \\\n",
       "7429            ООО \"МЕМ-МЕДИА\" по заказу АО \"ВБД Груп\"                Россия   \n",
       "5642              ООО \"Студия \"ТРИТЭ\" Никиты Михалкова\"                Россия   \n",
       "6793                                     Марвел Студиос                   США   \n",
       "6526  ООО \"Кинокомпания МАРС-фильм\" по заказу ООО \"М...                Россия   \n",
       "3484  Джерри Брукхаймер Филмз, Уолт Дисней Пикчерз, ...                   США   \n",
       "2856  Уолт Дисней Анимейшн Студиос, Уолт Дисней Пикчерз                   США   \n",
       "3751       Иллюминейшн Интертейнмент, Юниверсал Пикчерз                   США   \n",
       "6261  Коламбиа Пикчерз, Марвел Интертейнмент, Паскал...                   США   \n",
       "7189                     Рот Филмз, Уолт Дисней Пикчерз                   США   \n",
       "7231  Брон Студиос, Ди Си Комикс, Джоинт Эффорт, Вил...          США - Канада   \n",
       "5853                                     Марвел Студиос                   США   \n",
       "7356  Уолт Дисней Анимейшн Студиос, Уолт Дисней Пикчерс                   США   \n",
       "6689       ДримУоркс Анимейшн, Мэд Хаттер Интертейнмент                   США   \n",
       "6454                  ООО \"ЛЕГИО ФЕЛИКС\", ООО \"Ника ТВ\"                Россия   \n",
       "3114            Лукасфилм, Бэд Робот, Трунорт Продакшнз                   США   \n",
       "5494  ООО \"Киностудия \"Слово\" по заказу ООО \"Уолт Ди...                Россия   \n",
       "2575                          Иллюминейшн Интертейнмент                   США   \n",
       "2837  ХХ век Фокс, Марвел Энтерпрайзиз, Тэ Эс Гэ Инт...          США - Канада   \n",
       "3392  Атлас Интертейнмент, Ди Си Интертейнмент, Дюн ...                   США   \n",
       "6377                       Хейдэй Филмз, Уорнер Бразерс  США - Великобритания   \n",
       "\n",
       "                            director  \\\n",
       "7429                       К.Шипенко   \n",
       "5642                    А.Мегердичев   \n",
       "6793         Джо Руссо, Энтони Руссо   \n",
       "6526                       А.Сидоров   \n",
       "3484  Йоаким Реннинг, Эспен Сандберг   \n",
       "2856          Рич Мур, Байрон Ховард   \n",
       "3751                       Крис Рено   \n",
       "6261                   Рубен Флейшер   \n",
       "7189                  Йоаким Роннинг   \n",
       "7231                    Тодд Филлипс   \n",
       "5853         Энтони Руссо, Джо Руссо   \n",
       "7356          Крис Бак, Дженнифер Ли   \n",
       "6689                      Дин ДеБлуа   \n",
       "6454                       И.Куликов   \n",
       "3114                Джей Джей Абрамс   \n",
       "5494                      Д.Дьяченко   \n",
       "2575         Кайл Балда, Пьер Соффин   \n",
       "2837                      Тим Миллер   \n",
       "3392                       Дэвид Эйр   \n",
       "6377                     Дэвид Йейтс   \n",
       "\n",
       "                                               producer  \\\n",
       "7429  Э.Илоян, Д.Жалинский, В.Дусмухаметов, Т.Бадзие...   \n",
       "5642  Л.Верещагин, А.Златопольский, Н.Михалков, ООО ...   \n",
       "6793                                        Кевин Фейги   \n",
       "6526  А.Златопольский, Р.Дишдишян, Л.Блаватник, Н.Яр...   \n",
       "3484                                  Джерри Брукхаймер   \n",
       "2856                                      Кларк Спенсер   \n",
       "3751                               Кристофер Меледандри   \n",
       "6261                 Ави Арад, Эми Паскаль, Мэтт Толмак   \n",
       "7189         Анджелина Джоли, Джо Рот, Дункан Хендерсон   \n",
       "7231  Брэдли Купер, Эмма Тиллинджер Коскофф, Тодд Фи...   \n",
       "5853                                        Кевин Фейги   \n",
       "7356                                     Питер Дел Вечо   \n",
       "6689                          Бонни Арнольд, Брэд Льюис   \n",
       "6454                И.Куликов, А.Семенов, ООО \"Ника ТВ\"   \n",
       "3114      Джей Джей Абрамс, Брайан Берк, Кэтлин Кеннеди   \n",
       "5494  Э.Илоян, Д.Жалинский, М.Озкан, А.Троцюк, В.Шляппо   \n",
       "2575                  Кристофер Меледандри, Джанет Хили   \n",
       "2837  Саймон Кинберг, Райан Рейнольдс, Лорен Шулер Д...   \n",
       "3392                          Чарльз Ровен, Ричард Скал   \n",
       "6377  Стив Кловз, Джоан К,Роулинг, Лайонел Уигрэм, Д...   \n",
       "\n",
       "                      age_restriction  refundable_support  \\\n",
       "7429  «12+» - для детей старше 12 лет             25000.0   \n",
       "5642    «6+» - для детей старше 6 лет                 0.0   \n",
       "6793  «16+» - для детей старше 16 лет                 NaN   \n",
       "6526  «12+» - для детей старше 12 лет             60000.0   \n",
       "3484  «16+» - для детей старше 16 лет                 NaN   \n",
       "2856    «6+» - для детей старше 6 лет                 NaN   \n",
       "3751    «6+» - для детей старше 6 лет                 NaN   \n",
       "6261  «16+» - для детей старше 16 лет                 NaN   \n",
       "7189    «6+» - для детей старше 6 лет                 NaN   \n",
       "7231      «18+» - запрещено для детей                 NaN   \n",
       "5853  «16+» - для детей старше 16 лет                 NaN   \n",
       "7356    «6+» - для детей старше 6 лет                 NaN   \n",
       "6689    «6+» - для детей старше 6 лет                 NaN   \n",
       "6454  «16+» - для детей старше 16 лет                 NaN   \n",
       "3114  «12+» - для детей старше 12 лет                 NaN   \n",
       "5494  «12+» - для детей старше 12 лет             50000.0   \n",
       "2575    «6+» - для детей старше 6 лет                 NaN   \n",
       "2837      «18+» - запрещено для детей                 NaN   \n",
       "3392  «16+» - для детей старше 16 лет                 NaN   \n",
       "6377  «12+» - для детей старше 12 лет                 NaN   \n",
       "\n",
       "      nonrefundable_support    budget financing_source  ratings  \\\n",
       "7429                35000.0  160000.0        Фонд кино      6.8   \n",
       "5642               400000.0  590192.2        Фонд кино      7.5   \n",
       "6793                    NaN       NaN              NaN      7.6   \n",
       "6526               120000.0  563784.7        Фонд кино      6.5   \n",
       "3484                    NaN       NaN              NaN      6.6   \n",
       "2856                    NaN       NaN              NaN      8.3   \n",
       "3751                    NaN       NaN              NaN      6.7   \n",
       "6261                    NaN       NaN              NaN      6.8   \n",
       "7189                    NaN       NaN              NaN      6.9   \n",
       "7231                    NaN       NaN              NaN      8.0   \n",
       "5853                    NaN       NaN              NaN      7.9   \n",
       "7356                    NaN       NaN              NaN      7.1   \n",
       "6689                    NaN       NaN              NaN      7.7   \n",
       "6454                    NaN       NaN              NaN      5.8   \n",
       "3114                    NaN       NaN              NaN      7.1   \n",
       "5494                50000.0  352477.6        Фонд кино      6.8   \n",
       "2575                    NaN       NaN              NaN      6.2   \n",
       "2837                    NaN       NaN              NaN      7.5   \n",
       "3392                    NaN       NaN              NaN      6.1   \n",
       "6377                    NaN       NaN              NaN      6.6   \n",
       "\n",
       "                                  genres  box_office  show_start_year  \n",
       "7429                             комедия   3073568.7             2019  \n",
       "5642                         спорт,драма   2779686.1             2017  \n",
       "6793             фантастика,боевик,драма   2576613.8             2019  \n",
       "6526                драма,военный,боевик   2271754.0             2018  \n",
       "3484              фэнтези,боевик,комедия   2118396.1             2017  \n",
       "2856         мультфильм,комедия,криминал   2048126.1             2016  \n",
       "3751  мультфильм,короткометражка,комедия   1971005.1             2016  \n",
       "6261           боевик,фантастика,триллер   1913257.9             2018  \n",
       "7189        фэнтези,приключения,семейный   1911944.9             2019  \n",
       "7231              триллер,драма,криминал   1890368.1             2019  \n",
       "5853       фантастика,боевик,приключения   1875989.7             2018  \n",
       "7356           мультфильм,мюзикл,фэнтези   1827244.7             2019  \n",
       "6689           мультфильм,фэнтези,боевик   1689540.8             2019  \n",
       "6454                 комедия,приключения   1682680.0             2018  \n",
       "3114       фантастика,боевик,приключения   1658861.4             2015  \n",
       "5494         комедия,фэнтези,приключения   1655037.7             2017  \n",
       "2575       мультфильм,фантастика,комедия   1646580.6             2015  \n",
       "2837           фантастика,боевик,комедия   1587516.4             2016  \n",
       "3392           фантастика,боевик,фэнтези   1570380.3             2016  \n",
       "6377        фэнтези,приключения,семейный   1520626.5             2018  "
      ]
     },
     "execution_count": 40,
     "metadata": {},
     "output_type": "execute_result"
    }
   ],
   "source": [
    "data['show_start_year'] = data['show_start_date'].dt.year\n",
    "data.head(20)"
   ]
  },
  {
   "cell_type": "markdown",
   "metadata": {
    "id": "nFTDLDYOgFyT"
   },
   "source": [
    "- Создайте два столбца: с именем и фамилией главного режиссёра и основным жанром фильма. В столбцы войдут первые значения из списка режиссёров и жанров соответственно.\n",
    "\n",
    "<div id=\"accordion\">\n",
    "    <div class=\"card\">\n",
    "        <div class=\"card-header\" id=\"headingThree\">\n",
    "            <button class=\"btn btn-link collapsed\" data-toggle=\"collapse\" data-target=\"#collapseHint_2\" aria-expanded=\"false\" aria-controls=\"collapseHint_2\">Подсказка</button>\n",
    "        </div>\n",
    "        <div id=\"collapseHint_2\" class=\"collapse\" aria-labelledby=\"headingThree\" data-parent=\"#accordion\">\n",
    "            <div class=\"card-body\">\n",
    "Чтобы создать такие столбцы, лучше всего использовать собственную функцию. Эту функцию можно применить к двум столбцам сразу. \n",
    "            </div>\n",
    "        </div>\n",
    "    </div>\n",
    "</div>"
   ]
  },
  {
   "cell_type": "code",
   "execution_count": 41,
   "metadata": {
    "id": "LSbRZKbMgFyU"
   },
   "outputs": [],
   "source": [
    "def my_func (column):\n",
    "    result = column.split(',')[0]\n",
    "    return result"
   ]
  },
  {
   "cell_type": "code",
   "execution_count": 42,
   "metadata": {},
   "outputs": [
    {
     "data": {
      "text/html": [
       "<div>\n",
       "<style scoped>\n",
       "    .dataframe tbody tr th:only-of-type {\n",
       "        vertical-align: middle;\n",
       "    }\n",
       "\n",
       "    .dataframe tbody tr th {\n",
       "        vertical-align: top;\n",
       "    }\n",
       "\n",
       "    .dataframe thead th {\n",
       "        text-align: right;\n",
       "    }\n",
       "</style>\n",
       "<table border=\"1\" class=\"dataframe\">\n",
       "  <thead>\n",
       "    <tr style=\"text-align: right;\">\n",
       "      <th></th>\n",
       "      <th>title</th>\n",
       "      <th>puNumber</th>\n",
       "      <th>show_start_date</th>\n",
       "      <th>type</th>\n",
       "      <th>film_studio</th>\n",
       "      <th>production_country</th>\n",
       "      <th>director</th>\n",
       "      <th>producer</th>\n",
       "      <th>age_restriction</th>\n",
       "      <th>refundable_support</th>\n",
       "      <th>nonrefundable_support</th>\n",
       "      <th>budget</th>\n",
       "      <th>financing_source</th>\n",
       "      <th>ratings</th>\n",
       "      <th>genres</th>\n",
       "      <th>box_office</th>\n",
       "      <th>show_start_year</th>\n",
       "      <th>first_value_director</th>\n",
       "      <th>first_genres</th>\n",
       "    </tr>\n",
       "  </thead>\n",
       "  <tbody>\n",
       "    <tr>\n",
       "      <th>7429</th>\n",
       "      <td>Холоп</td>\n",
       "      <td>111021719</td>\n",
       "      <td>2019-12-19 12:00:00</td>\n",
       "      <td>Художественный</td>\n",
       "      <td>ООО \"МЕМ-МЕДИА\" по заказу АО \"ВБД Груп\"</td>\n",
       "      <td>Россия</td>\n",
       "      <td>К.Шипенко</td>\n",
       "      <td>Э.Илоян, Д.Жалинский, В.Дусмухаметов, Т.Бадзие...</td>\n",
       "      <td>«12+» - для детей старше 12 лет</td>\n",
       "      <td>25000.0</td>\n",
       "      <td>35000.0</td>\n",
       "      <td>160000.0</td>\n",
       "      <td>Фонд кино</td>\n",
       "      <td>6.8</td>\n",
       "      <td>комедия</td>\n",
       "      <td>3073568.7</td>\n",
       "      <td>2019</td>\n",
       "      <td>К.Шипенко</td>\n",
       "      <td>комедия</td>\n",
       "    </tr>\n",
       "    <tr>\n",
       "      <th>5642</th>\n",
       "      <td>Движение вверх</td>\n",
       "      <td>111011817</td>\n",
       "      <td>2017-12-21 12:00:00</td>\n",
       "      <td>Художественный</td>\n",
       "      <td>ООО \"Студия \"ТРИТЭ\" Никиты Михалкова\"</td>\n",
       "      <td>Россия</td>\n",
       "      <td>А.Мегердичев</td>\n",
       "      <td>Л.Верещагин, А.Златопольский, Н.Михалков, ООО ...</td>\n",
       "      <td>«6+» - для детей старше 6 лет</td>\n",
       "      <td>0.0</td>\n",
       "      <td>400000.0</td>\n",
       "      <td>590192.2</td>\n",
       "      <td>Фонд кино</td>\n",
       "      <td>7.5</td>\n",
       "      <td>спорт,драма</td>\n",
       "      <td>2779686.1</td>\n",
       "      <td>2017</td>\n",
       "      <td>А.Мегердичев</td>\n",
       "      <td>спорт</td>\n",
       "    </tr>\n",
       "    <tr>\n",
       "      <th>6793</th>\n",
       "      <td>Мстители: Финал</td>\n",
       "      <td>121005519</td>\n",
       "      <td>2019-04-29 12:00:00</td>\n",
       "      <td>Художественный</td>\n",
       "      <td>Марвел Студиос</td>\n",
       "      <td>США</td>\n",
       "      <td>Джо Руссо, Энтони Руссо</td>\n",
       "      <td>Кевин Фейги</td>\n",
       "      <td>«16+» - для детей старше 16 лет</td>\n",
       "      <td>NaN</td>\n",
       "      <td>NaN</td>\n",
       "      <td>NaN</td>\n",
       "      <td>NaN</td>\n",
       "      <td>7.6</td>\n",
       "      <td>фантастика,боевик,драма</td>\n",
       "      <td>2576613.8</td>\n",
       "      <td>2019</td>\n",
       "      <td>Джо Руссо</td>\n",
       "      <td>фантастика</td>\n",
       "    </tr>\n",
       "    <tr>\n",
       "      <th>6526</th>\n",
       "      <td>Т-34</td>\n",
       "      <td>111024918</td>\n",
       "      <td>2018-12-21 12:00:00</td>\n",
       "      <td>Художественный</td>\n",
       "      <td>ООО \"Кинокомпания МАРС-фильм\" по заказу ООО \"М...</td>\n",
       "      <td>Россия</td>\n",
       "      <td>А.Сидоров</td>\n",
       "      <td>А.Златопольский, Р.Дишдишян, Л.Блаватник, Н.Яр...</td>\n",
       "      <td>«12+» - для детей старше 12 лет</td>\n",
       "      <td>60000.0</td>\n",
       "      <td>120000.0</td>\n",
       "      <td>563784.7</td>\n",
       "      <td>Фонд кино</td>\n",
       "      <td>6.5</td>\n",
       "      <td>драма,военный,боевик</td>\n",
       "      <td>2271754.0</td>\n",
       "      <td>2018</td>\n",
       "      <td>А.Сидоров</td>\n",
       "      <td>драма</td>\n",
       "    </tr>\n",
       "    <tr>\n",
       "      <th>3484</th>\n",
       "      <td>Пираты Карибского моря: Мертвецы не рассказыва...</td>\n",
       "      <td>121009217</td>\n",
       "      <td>2017-05-17 12:00:00</td>\n",
       "      <td>Художественный</td>\n",
       "      <td>Джерри Брукхаймер Филмз, Уолт Дисней Пикчерз, ...</td>\n",
       "      <td>США</td>\n",
       "      <td>Йоаким Реннинг, Эспен Сандберг</td>\n",
       "      <td>Джерри Брукхаймер</td>\n",
       "      <td>«16+» - для детей старше 16 лет</td>\n",
       "      <td>NaN</td>\n",
       "      <td>NaN</td>\n",
       "      <td>NaN</td>\n",
       "      <td>NaN</td>\n",
       "      <td>6.6</td>\n",
       "      <td>фэнтези,боевик,комедия</td>\n",
       "      <td>2118396.1</td>\n",
       "      <td>2017</td>\n",
       "      <td>Йоаким Реннинг</td>\n",
       "      <td>фэнтези</td>\n",
       "    </tr>\n",
       "  </tbody>\n",
       "</table>\n",
       "</div>"
      ],
      "text/plain": [
       "                                                  title   puNumber  \\\n",
       "7429                                              Холоп  111021719   \n",
       "5642                                     Движение вверх  111011817   \n",
       "6793                                    Мстители: Финал  121005519   \n",
       "6526                                               Т-34  111024918   \n",
       "3484  Пираты Карибского моря: Мертвецы не рассказыва...  121009217   \n",
       "\n",
       "         show_start_date            type  \\\n",
       "7429 2019-12-19 12:00:00  Художественный   \n",
       "5642 2017-12-21 12:00:00  Художественный   \n",
       "6793 2019-04-29 12:00:00  Художественный   \n",
       "6526 2018-12-21 12:00:00  Художественный   \n",
       "3484 2017-05-17 12:00:00  Художественный   \n",
       "\n",
       "                                            film_studio production_country  \\\n",
       "7429            ООО \"МЕМ-МЕДИА\" по заказу АО \"ВБД Груп\"             Россия   \n",
       "5642              ООО \"Студия \"ТРИТЭ\" Никиты Михалкова\"             Россия   \n",
       "6793                                     Марвел Студиос                США   \n",
       "6526  ООО \"Кинокомпания МАРС-фильм\" по заказу ООО \"М...             Россия   \n",
       "3484  Джерри Брукхаймер Филмз, Уолт Дисней Пикчерз, ...                США   \n",
       "\n",
       "                            director  \\\n",
       "7429                       К.Шипенко   \n",
       "5642                    А.Мегердичев   \n",
       "6793         Джо Руссо, Энтони Руссо   \n",
       "6526                       А.Сидоров   \n",
       "3484  Йоаким Реннинг, Эспен Сандберг   \n",
       "\n",
       "                                               producer  \\\n",
       "7429  Э.Илоян, Д.Жалинский, В.Дусмухаметов, Т.Бадзие...   \n",
       "5642  Л.Верещагин, А.Златопольский, Н.Михалков, ООО ...   \n",
       "6793                                        Кевин Фейги   \n",
       "6526  А.Златопольский, Р.Дишдишян, Л.Блаватник, Н.Яр...   \n",
       "3484                                  Джерри Брукхаймер   \n",
       "\n",
       "                      age_restriction  refundable_support  \\\n",
       "7429  «12+» - для детей старше 12 лет             25000.0   \n",
       "5642    «6+» - для детей старше 6 лет                 0.0   \n",
       "6793  «16+» - для детей старше 16 лет                 NaN   \n",
       "6526  «12+» - для детей старше 12 лет             60000.0   \n",
       "3484  «16+» - для детей старше 16 лет                 NaN   \n",
       "\n",
       "      nonrefundable_support    budget financing_source  ratings  \\\n",
       "7429                35000.0  160000.0        Фонд кино      6.8   \n",
       "5642               400000.0  590192.2        Фонд кино      7.5   \n",
       "6793                    NaN       NaN              NaN      7.6   \n",
       "6526               120000.0  563784.7        Фонд кино      6.5   \n",
       "3484                    NaN       NaN              NaN      6.6   \n",
       "\n",
       "                       genres  box_office  show_start_year  \\\n",
       "7429                  комедия   3073568.7             2019   \n",
       "5642              спорт,драма   2779686.1             2017   \n",
       "6793  фантастика,боевик,драма   2576613.8             2019   \n",
       "6526     драма,военный,боевик   2271754.0             2018   \n",
       "3484   фэнтези,боевик,комедия   2118396.1             2017   \n",
       "\n",
       "     first_value_director first_genres  \n",
       "7429            К.Шипенко      комедия  \n",
       "5642         А.Мегердичев        спорт  \n",
       "6793            Джо Руссо   фантастика  \n",
       "6526            А.Сидоров        драма  \n",
       "3484       Йоаким Реннинг      фэнтези  "
      ]
     },
     "execution_count": 42,
     "metadata": {},
     "output_type": "execute_result"
    }
   ],
   "source": [
    "data['first_value_director'] = data['director'].apply(my_func)\n",
    "data['first_genres'] = data['genres'].apply(my_func)\n",
    "data.head()"
   ]
  },
  {
   "cell_type": "markdown",
   "metadata": {},
   "source": [
    "У нас все отлично получилось. Пришлось конечно попотеть над функцией"
   ]
  },
  {
   "cell_type": "markdown",
   "metadata": {
    "id": "1FsCXHwdgFyU"
   },
   "source": [
    "- Посчитайте, какую долю от общего бюджета фильма составляет государственная поддержка."
   ]
  },
  {
   "cell_type": "code",
   "execution_count": 43,
   "metadata": {
    "id": "LV6qFuZLgFyV"
   },
   "outputs": [
    {
     "data": {
      "text/html": [
       "<div>\n",
       "<style scoped>\n",
       "    .dataframe tbody tr th:only-of-type {\n",
       "        vertical-align: middle;\n",
       "    }\n",
       "\n",
       "    .dataframe tbody tr th {\n",
       "        vertical-align: top;\n",
       "    }\n",
       "\n",
       "    .dataframe thead th {\n",
       "        text-align: right;\n",
       "    }\n",
       "</style>\n",
       "<table border=\"1\" class=\"dataframe\">\n",
       "  <thead>\n",
       "    <tr style=\"text-align: right;\">\n",
       "      <th></th>\n",
       "      <th>title</th>\n",
       "      <th>puNumber</th>\n",
       "      <th>show_start_date</th>\n",
       "      <th>type</th>\n",
       "      <th>film_studio</th>\n",
       "      <th>production_country</th>\n",
       "      <th>director</th>\n",
       "      <th>producer</th>\n",
       "      <th>age_restriction</th>\n",
       "      <th>refundable_support</th>\n",
       "      <th>nonrefundable_support</th>\n",
       "      <th>budget</th>\n",
       "      <th>financing_source</th>\n",
       "      <th>ratings</th>\n",
       "      <th>genres</th>\n",
       "      <th>box_office</th>\n",
       "      <th>show_start_year</th>\n",
       "      <th>first_value_director</th>\n",
       "      <th>first_genres</th>\n",
       "      <th>part_full_support</th>\n",
       "    </tr>\n",
       "  </thead>\n",
       "  <tbody>\n",
       "    <tr>\n",
       "      <th>5589</th>\n",
       "      <td>За гранью реальности</td>\n",
       "      <td>111010817</td>\n",
       "      <td>2017-11-27 12:00:00</td>\n",
       "      <td>Художественный</td>\n",
       "      <td>ООО \"КИНОДАНЦ\"</td>\n",
       "      <td>Россия</td>\n",
       "      <td>А.Богуславский</td>\n",
       "      <td>В.Денисюк, Е.Мелентьев</td>\n",
       "      <td>«12+» - для детей старше 12 лет</td>\n",
       "      <td>0.0</td>\n",
       "      <td>6000.0</td>\n",
       "      <td>136230.3</td>\n",
       "      <td>Министерство культуры</td>\n",
       "      <td>5.2</td>\n",
       "      <td>приключения,фэнтези</td>\n",
       "      <td>126713.5</td>\n",
       "      <td>2017</td>\n",
       "      <td>А.Богуславский</td>\n",
       "      <td>приключения</td>\n",
       "      <td>0.044043</td>\n",
       "    </tr>\n",
       "    <tr>\n",
       "      <th>3728</th>\n",
       "      <td>Танцы насмерть</td>\n",
       "      <td>111013416</td>\n",
       "      <td>2016-08-31 12:00:00</td>\n",
       "      <td>Художественный</td>\n",
       "      <td>ООО \"КИНОДАНЦ\", ООО \"ЦЕНТРОКИНО\"</td>\n",
       "      <td>Россия</td>\n",
       "      <td>А.Волгин</td>\n",
       "      <td>В.Денисюк, Е.Мелентьев</td>\n",
       "      <td>«12+» - для детей старше 12 лет</td>\n",
       "      <td>0.0</td>\n",
       "      <td>6000.0</td>\n",
       "      <td>90278.1</td>\n",
       "      <td>Министерство культуры</td>\n",
       "      <td>4.0</td>\n",
       "      <td>фантастика</td>\n",
       "      <td>9680.7</td>\n",
       "      <td>2016</td>\n",
       "      <td>А.Волгин</td>\n",
       "      <td>фантастика</td>\n",
       "      <td>0.066461</td>\n",
       "    </tr>\n",
       "    <tr>\n",
       "      <th>7144</th>\n",
       "      <td>Грех</td>\n",
       "      <td>111014419</td>\n",
       "      <td>2019-08-31 12:00:00</td>\n",
       "      <td>Художественный</td>\n",
       "      <td>НО Фонд Андрея Кончаловского по поддержке кино...</td>\n",
       "      <td>Россия, Италия</td>\n",
       "      <td>А.Михалков (псевдоним А.Кончаловский)</td>\n",
       "      <td>НО Фонд Андрея Кончаловского по поддержке кино...</td>\n",
       "      <td>«16+» - для детей старше 16 лет</td>\n",
       "      <td>0.0</td>\n",
       "      <td>60000.0</td>\n",
       "      <td>779942.0</td>\n",
       "      <td>Министерство культуры</td>\n",
       "      <td>6.9</td>\n",
       "      <td>драма,биография,история</td>\n",
       "      <td>54243.2</td>\n",
       "      <td>2019</td>\n",
       "      <td>А.Михалков (псевдоним А.Кончаловский)</td>\n",
       "      <td>драма</td>\n",
       "      <td>0.076929</td>\n",
       "    </tr>\n",
       "    <tr>\n",
       "      <th>7153</th>\n",
       "      <td>Байкал - Сердце мира 3D</td>\n",
       "      <td>112004619</td>\n",
       "      <td>2019-11-01 12:00:00</td>\n",
       "      <td>Документальный</td>\n",
       "      <td>ООО \"Продюсерский центр \"Новое Время\"</td>\n",
       "      <td>Россия</td>\n",
       "      <td>А.Попова</td>\n",
       "      <td>И.Добровольский, А.Разуваева, Ю.Перкуль</td>\n",
       "      <td>«0+» - для любой зрительской аудитории</td>\n",
       "      <td>0.0</td>\n",
       "      <td>3000.0</td>\n",
       "      <td>33000.0</td>\n",
       "      <td>Министерство культуры</td>\n",
       "      <td>8.0</td>\n",
       "      <td>семейный</td>\n",
       "      <td>NaN</td>\n",
       "      <td>2019</td>\n",
       "      <td>А.Попова</td>\n",
       "      <td>семейный</td>\n",
       "      <td>0.090909</td>\n",
       "    </tr>\n",
       "    <tr>\n",
       "      <th>3039</th>\n",
       "      <td>Крякнутые каникулы</td>\n",
       "      <td>114003615</td>\n",
       "      <td>2015-12-22 12:00:00</td>\n",
       "      <td>Анимационный</td>\n",
       "      <td>ООО \"Анимационная студия РИМ\"</td>\n",
       "      <td>Россия</td>\n",
       "      <td>В.Лакисов</td>\n",
       "      <td>Р.Атоян, В.Зорин, О.Бровченко</td>\n",
       "      <td>«6+» - для детей старше 6 лет</td>\n",
       "      <td>40000.0</td>\n",
       "      <td>0.0</td>\n",
       "      <td>399075.3</td>\n",
       "      <td>Фонд кино</td>\n",
       "      <td>5.4</td>\n",
       "      <td>мультфильм,комедия,приключения</td>\n",
       "      <td>69693.7</td>\n",
       "      <td>2015</td>\n",
       "      <td>В.Лакисов</td>\n",
       "      <td>мультфильм</td>\n",
       "      <td>0.100232</td>\n",
       "    </tr>\n",
       "    <tr>\n",
       "      <th>...</th>\n",
       "      <td>...</td>\n",
       "      <td>...</td>\n",
       "      <td>...</td>\n",
       "      <td>...</td>\n",
       "      <td>...</td>\n",
       "      <td>...</td>\n",
       "      <td>...</td>\n",
       "      <td>...</td>\n",
       "      <td>...</td>\n",
       "      <td>...</td>\n",
       "      <td>...</td>\n",
       "      <td>...</td>\n",
       "      <td>...</td>\n",
       "      <td>...</td>\n",
       "      <td>...</td>\n",
       "      <td>...</td>\n",
       "      <td>...</td>\n",
       "      <td>...</td>\n",
       "      <td>...</td>\n",
       "      <td>...</td>\n",
       "    </tr>\n",
       "    <tr>\n",
       "      <th>7454</th>\n",
       "      <td>Сад художника: Американский импрессионизм</td>\n",
       "      <td>126008019</td>\n",
       "      <td>2019-12-23 12:00:00</td>\n",
       "      <td>Прочие</td>\n",
       "      <td>Севен Артс Продакшнз</td>\n",
       "      <td>Великобритания</td>\n",
       "      <td>Фил Грабски</td>\n",
       "      <td>Фил Грабски</td>\n",
       "      <td>«12+» - для детей старше 12 лет</td>\n",
       "      <td>NaN</td>\n",
       "      <td>NaN</td>\n",
       "      <td>NaN</td>\n",
       "      <td>NaN</td>\n",
       "      <td>NaN</td>\n",
       "      <td>не указан</td>\n",
       "      <td>NaN</td>\n",
       "      <td>2019</td>\n",
       "      <td>Фил Грабски</td>\n",
       "      <td>не указан</td>\n",
       "      <td>NaN</td>\n",
       "    </tr>\n",
       "    <tr>\n",
       "      <th>7455</th>\n",
       "      <td>Звериная ярость</td>\n",
       "      <td>121037819</td>\n",
       "      <td>2019-12-24 12:00:00</td>\n",
       "      <td>Художественный</td>\n",
       "      <td>Дэниел Гродник Продакшнз, Вандерфилм Медиа Кор...</td>\n",
       "      <td>США</td>\n",
       "      <td>Ник Пауэлл</td>\n",
       "      <td>Джефф Боулер, Дэниэл Гродник, Луильо Руис, Брэ...</td>\n",
       "      <td>«16+» - для детей старше 16 лет</td>\n",
       "      <td>NaN</td>\n",
       "      <td>NaN</td>\n",
       "      <td>NaN</td>\n",
       "      <td>NaN</td>\n",
       "      <td>5.4</td>\n",
       "      <td>боевик,триллер</td>\n",
       "      <td>NaN</td>\n",
       "      <td>2019</td>\n",
       "      <td>Ник Пауэлл</td>\n",
       "      <td>боевик</td>\n",
       "      <td>NaN</td>\n",
       "    </tr>\n",
       "    <tr>\n",
       "      <th>7456</th>\n",
       "      <td>Щенячий патруль: Скорей спешим на помощь!</td>\n",
       "      <td>124010819</td>\n",
       "      <td>2019-12-28 12:00:00</td>\n",
       "      <td>Художественный</td>\n",
       "      <td>Никелодеон Анимейшн Студиос, Спин Мастер</td>\n",
       "      <td>США - Канада</td>\n",
       "      <td>Чарльз Е.Бастьен</td>\n",
       "      <td>Дженнифер Додж</td>\n",
       "      <td>«0+» - для любой зрительской аудитории</td>\n",
       "      <td>NaN</td>\n",
       "      <td>NaN</td>\n",
       "      <td>NaN</td>\n",
       "      <td>NaN</td>\n",
       "      <td>NaN</td>\n",
       "      <td>не указан</td>\n",
       "      <td>NaN</td>\n",
       "      <td>2019</td>\n",
       "      <td>Чарльз Е.Бастьен</td>\n",
       "      <td>не указан</td>\n",
       "      <td>NaN</td>\n",
       "    </tr>\n",
       "    <tr>\n",
       "      <th>7457</th>\n",
       "      <td>Машины песенки. Серия \"Испанские мотивы\"</td>\n",
       "      <td>124010619</td>\n",
       "      <td>2019-12-30 12:00:00</td>\n",
       "      <td>Анимационный</td>\n",
       "      <td>Анимаккорд Лтд., ООО Студия \"АНИМАККОРД\"</td>\n",
       "      <td>Республика Кипр, Россия</td>\n",
       "      <td>А.Беляев</td>\n",
       "      <td>Д.Ловейко</td>\n",
       "      <td>«0+» - для любой зрительской аудитории</td>\n",
       "      <td>NaN</td>\n",
       "      <td>NaN</td>\n",
       "      <td>NaN</td>\n",
       "      <td>NaN</td>\n",
       "      <td>NaN</td>\n",
       "      <td>не указан</td>\n",
       "      <td>NaN</td>\n",
       "      <td>2019</td>\n",
       "      <td>А.Беляев</td>\n",
       "      <td>не указан</td>\n",
       "      <td>NaN</td>\n",
       "    </tr>\n",
       "    <tr>\n",
       "      <th>7458</th>\n",
       "      <td>Машины песенки. Серия \"Когда цветут кактусы\"</td>\n",
       "      <td>124010719</td>\n",
       "      <td>2019-12-30 12:00:00</td>\n",
       "      <td>Анимационный</td>\n",
       "      <td>Анимаккорд Лтд., ООО Студия \"АНИМАККОРД\"</td>\n",
       "      <td>Республика Кипр, Россия</td>\n",
       "      <td>И.Трусов</td>\n",
       "      <td>Д.Ловейко</td>\n",
       "      <td>«0+» - для любой зрительской аудитории</td>\n",
       "      <td>NaN</td>\n",
       "      <td>NaN</td>\n",
       "      <td>NaN</td>\n",
       "      <td>NaN</td>\n",
       "      <td>6.3</td>\n",
       "      <td>комедия,вестерн</td>\n",
       "      <td>NaN</td>\n",
       "      <td>2019</td>\n",
       "      <td>И.Трусов</td>\n",
       "      <td>комедия</td>\n",
       "      <td>NaN</td>\n",
       "    </tr>\n",
       "  </tbody>\n",
       "</table>\n",
       "<p>6746 rows × 20 columns</p>\n",
       "</div>"
      ],
      "text/plain": [
       "                                             title   puNumber  \\\n",
       "5589                          За гранью реальности  111010817   \n",
       "3728                                Танцы насмерть  111013416   \n",
       "7144                                          Грех  111014419   \n",
       "7153                       Байкал - Сердце мира 3D  112004619   \n",
       "3039                            Крякнутые каникулы  114003615   \n",
       "...                                            ...        ...   \n",
       "7454     Сад художника: Американский импрессионизм  126008019   \n",
       "7455                               Звериная ярость  121037819   \n",
       "7456     Щенячий патруль: Скорей спешим на помощь!  124010819   \n",
       "7457      Машины песенки. Серия \"Испанские мотивы\"  124010619   \n",
       "7458  Машины песенки. Серия \"Когда цветут кактусы\"  124010719   \n",
       "\n",
       "         show_start_date            type  \\\n",
       "5589 2017-11-27 12:00:00  Художественный   \n",
       "3728 2016-08-31 12:00:00  Художественный   \n",
       "7144 2019-08-31 12:00:00  Художественный   \n",
       "7153 2019-11-01 12:00:00  Документальный   \n",
       "3039 2015-12-22 12:00:00    Анимационный   \n",
       "...                  ...             ...   \n",
       "7454 2019-12-23 12:00:00          Прочие   \n",
       "7455 2019-12-24 12:00:00  Художественный   \n",
       "7456 2019-12-28 12:00:00  Художественный   \n",
       "7457 2019-12-30 12:00:00    Анимационный   \n",
       "7458 2019-12-30 12:00:00    Анимационный   \n",
       "\n",
       "                                            film_studio  \\\n",
       "5589                                     ООО \"КИНОДАНЦ\"   \n",
       "3728                   ООО \"КИНОДАНЦ\", ООО \"ЦЕНТРОКИНО\"   \n",
       "7144  НО Фонд Андрея Кончаловского по поддержке кино...   \n",
       "7153              ООО \"Продюсерский центр \"Новое Время\"   \n",
       "3039                      ООО \"Анимационная студия РИМ\"   \n",
       "...                                                 ...   \n",
       "7454                               Севен Артс Продакшнз   \n",
       "7455  Дэниел Гродник Продакшнз, Вандерфилм Медиа Кор...   \n",
       "7456           Никелодеон Анимейшн Студиос, Спин Мастер   \n",
       "7457           Анимаккорд Лтд., ООО Студия \"АНИМАККОРД\"   \n",
       "7458           Анимаккорд Лтд., ООО Студия \"АНИМАККОРД\"   \n",
       "\n",
       "           production_country                               director  \\\n",
       "5589                   Россия                         А.Богуславский   \n",
       "3728                   Россия                               А.Волгин   \n",
       "7144           Россия, Италия  А.Михалков (псевдоним А.Кончаловский)   \n",
       "7153                   Россия                               А.Попова   \n",
       "3039                   Россия                              В.Лакисов   \n",
       "...                       ...                                    ...   \n",
       "7454           Великобритания                            Фил Грабски   \n",
       "7455                      США                             Ник Пауэлл   \n",
       "7456             США - Канада                       Чарльз Е.Бастьен   \n",
       "7457  Республика Кипр, Россия                               А.Беляев   \n",
       "7458  Республика Кипр, Россия                               И.Трусов   \n",
       "\n",
       "                                               producer  \\\n",
       "5589                             В.Денисюк, Е.Мелентьев   \n",
       "3728                             В.Денисюк, Е.Мелентьев   \n",
       "7144  НО Фонд Андрея Кончаловского по поддержке кино...   \n",
       "7153            И.Добровольский, А.Разуваева, Ю.Перкуль   \n",
       "3039                      Р.Атоян, В.Зорин, О.Бровченко   \n",
       "...                                                 ...   \n",
       "7454                                        Фил Грабски   \n",
       "7455  Джефф Боулер, Дэниэл Гродник, Луильо Руис, Брэ...   \n",
       "7456                                     Дженнифер Додж   \n",
       "7457                                          Д.Ловейко   \n",
       "7458                                          Д.Ловейко   \n",
       "\n",
       "                             age_restriction  refundable_support  \\\n",
       "5589         «12+» - для детей старше 12 лет                 0.0   \n",
       "3728         «12+» - для детей старше 12 лет                 0.0   \n",
       "7144         «16+» - для детей старше 16 лет                 0.0   \n",
       "7153  «0+» - для любой зрительской аудитории                 0.0   \n",
       "3039           «6+» - для детей старше 6 лет             40000.0   \n",
       "...                                      ...                 ...   \n",
       "7454         «12+» - для детей старше 12 лет                 NaN   \n",
       "7455         «16+» - для детей старше 16 лет                 NaN   \n",
       "7456  «0+» - для любой зрительской аудитории                 NaN   \n",
       "7457  «0+» - для любой зрительской аудитории                 NaN   \n",
       "7458  «0+» - для любой зрительской аудитории                 NaN   \n",
       "\n",
       "      nonrefundable_support    budget       financing_source  ratings  \\\n",
       "5589                 6000.0  136230.3  Министерство культуры      5.2   \n",
       "3728                 6000.0   90278.1  Министерство культуры      4.0   \n",
       "7144                60000.0  779942.0  Министерство культуры      6.9   \n",
       "7153                 3000.0   33000.0  Министерство культуры      8.0   \n",
       "3039                    0.0  399075.3              Фонд кино      5.4   \n",
       "...                     ...       ...                    ...      ...   \n",
       "7454                    NaN       NaN                    NaN      NaN   \n",
       "7455                    NaN       NaN                    NaN      5.4   \n",
       "7456                    NaN       NaN                    NaN      NaN   \n",
       "7457                    NaN       NaN                    NaN      NaN   \n",
       "7458                    NaN       NaN                    NaN      6.3   \n",
       "\n",
       "                              genres  box_office  show_start_year  \\\n",
       "5589             приключения,фэнтези    126713.5             2017   \n",
       "3728                      фантастика      9680.7             2016   \n",
       "7144         драма,биография,история     54243.2             2019   \n",
       "7153                        семейный         NaN             2019   \n",
       "3039  мультфильм,комедия,приключения     69693.7             2015   \n",
       "...                              ...         ...              ...   \n",
       "7454                       не указан         NaN             2019   \n",
       "7455                  боевик,триллер         NaN             2019   \n",
       "7456                       не указан         NaN             2019   \n",
       "7457                       не указан         NaN             2019   \n",
       "7458                 комедия,вестерн         NaN             2019   \n",
       "\n",
       "                       first_value_director first_genres  part_full_support  \n",
       "5589                         А.Богуславский  приключения           0.044043  \n",
       "3728                               А.Волгин   фантастика           0.066461  \n",
       "7144  А.Михалков (псевдоним А.Кончаловский)        драма           0.076929  \n",
       "7153                               А.Попова     семейный           0.090909  \n",
       "3039                              В.Лакисов   мультфильм           0.100232  \n",
       "...                                     ...          ...                ...  \n",
       "7454                            Фил Грабски    не указан                NaN  \n",
       "7455                             Ник Пауэлл       боевик                NaN  \n",
       "7456                       Чарльз Е.Бастьен    не указан                NaN  \n",
       "7457                               А.Беляев    не указан                NaN  \n",
       "7458                               И.Трусов      комедия                NaN  \n",
       "\n",
       "[6746 rows x 20 columns]"
      ]
     },
     "execution_count": 43,
     "metadata": {},
     "output_type": "execute_result"
    }
   ],
   "source": [
    "data['part_full_support'] = (data['refundable_support'] + data['nonrefundable_support']) / data['budget']\n",
    "data.sort_values(by='part_full_support')\n"
   ]
  },
  {
   "cell_type": "markdown",
   "metadata": {},
   "source": [
    "Все необходимые столбцы добавлены"
   ]
  },
  {
   "cell_type": "code",
   "execution_count": 44,
   "metadata": {},
   "outputs": [],
   "source": [
    "data['part_full_support'] = data['part_full_support'].replace(float('inf'), np.nan)"
   ]
  },
  {
   "cell_type": "markdown",
   "metadata": {
    "id": "6t4EukPLgFyV"
   },
   "source": [
    "### Шаг 3. Проведите исследовательский анализ данных\n"
   ]
  },
  {
   "cell_type": "markdown",
   "metadata": {},
   "source": [
    "•\tПосмотрите, сколько фильмов выходило в прокат каждый год. Обратите внимание, что данные о прокате в кинотеатрах известны не для всех фильмов. Посчитайте, какую долю составляют фильмы с указанной информацией о прокате в кинотеатрах. Проанализируйте, как эта доля менялась по годам. Сделайте вывод о том, какой период полнее всего представлен в данных."
   ]
  },
  {
   "cell_type": "code",
   "execution_count": 45,
   "metadata": {},
   "outputs": [
    {
     "data": {
      "text/html": [
       "<div>\n",
       "<style scoped>\n",
       "    .dataframe tbody tr th:only-of-type {\n",
       "        vertical-align: middle;\n",
       "    }\n",
       "\n",
       "    .dataframe tbody tr th {\n",
       "        vertical-align: top;\n",
       "    }\n",
       "\n",
       "    .dataframe thead th {\n",
       "        text-align: right;\n",
       "    }\n",
       "</style>\n",
       "<table border=\"1\" class=\"dataframe\">\n",
       "  <thead>\n",
       "    <tr style=\"text-align: right;\">\n",
       "      <th></th>\n",
       "      <th>show_start_year</th>\n",
       "      <th>puNumber</th>\n",
       "      <th>box_office</th>\n",
       "      <th>fraction</th>\n",
       "    </tr>\n",
       "  </thead>\n",
       "  <tbody>\n",
       "    <tr>\n",
       "      <th>0</th>\n",
       "      <td>2010</td>\n",
       "      <td>759</td>\n",
       "      <td>101</td>\n",
       "      <td>0.13</td>\n",
       "    </tr>\n",
       "    <tr>\n",
       "      <th>1</th>\n",
       "      <td>2011</td>\n",
       "      <td>479</td>\n",
       "      <td>106</td>\n",
       "      <td>0.22</td>\n",
       "    </tr>\n",
       "    <tr>\n",
       "      <th>2</th>\n",
       "      <td>2012</td>\n",
       "      <td>524</td>\n",
       "      <td>127</td>\n",
       "      <td>0.24</td>\n",
       "    </tr>\n",
       "    <tr>\n",
       "      <th>3</th>\n",
       "      <td>2013</td>\n",
       "      <td>590</td>\n",
       "      <td>183</td>\n",
       "      <td>0.31</td>\n",
       "    </tr>\n",
       "    <tr>\n",
       "      <th>4</th>\n",
       "      <td>2014</td>\n",
       "      <td>735</td>\n",
       "      <td>275</td>\n",
       "      <td>0.37</td>\n",
       "    </tr>\n",
       "    <tr>\n",
       "      <th>5</th>\n",
       "      <td>2015</td>\n",
       "      <td>671</td>\n",
       "      <td>462</td>\n",
       "      <td>0.69</td>\n",
       "    </tr>\n",
       "    <tr>\n",
       "      <th>6</th>\n",
       "      <td>2016</td>\n",
       "      <td>732</td>\n",
       "      <td>512</td>\n",
       "      <td>0.70</td>\n",
       "    </tr>\n",
       "    <tr>\n",
       "      <th>7</th>\n",
       "      <td>2017</td>\n",
       "      <td>499</td>\n",
       "      <td>357</td>\n",
       "      <td>0.72</td>\n",
       "    </tr>\n",
       "    <tr>\n",
       "      <th>8</th>\n",
       "      <td>2018</td>\n",
       "      <td>865</td>\n",
       "      <td>474</td>\n",
       "      <td>0.55</td>\n",
       "    </tr>\n",
       "    <tr>\n",
       "      <th>9</th>\n",
       "      <td>2019</td>\n",
       "      <td>892</td>\n",
       "      <td>528</td>\n",
       "      <td>0.59</td>\n",
       "    </tr>\n",
       "  </tbody>\n",
       "</table>\n",
       "</div>"
      ],
      "text/plain": [
       "   show_start_year  puNumber  box_office  fraction\n",
       "0             2010       759         101      0.13\n",
       "1             2011       479         106      0.22\n",
       "2             2012       524         127      0.24\n",
       "3             2013       590         183      0.31\n",
       "4             2014       735         275      0.37\n",
       "5             2015       671         462      0.69\n",
       "6             2016       732         512      0.70\n",
       "7             2017       499         357      0.72\n",
       "8             2018       865         474      0.55\n",
       "9             2019       892         528      0.59"
      ]
     },
     "execution_count": 45,
     "metadata": {},
     "output_type": "execute_result"
    }
   ],
   "source": [
    "film_for_years = data.groupby('show_start_year').count()\n",
    "film_for_years['fraction'] = (film_for_years['box_office']/film_for_years['puNumber']).round(2)\n",
    "film = film_for_years.reset_index().loc[:,['show_start_year','puNumber','box_office','fraction']]\n",
    "film"
   ]
  },
  {
   "cell_type": "markdown",
   "metadata": {},
   "source": [
    "Сгруппировав таблицу по годам, видим, что больше всего прокатных удостоверений выдавалось в 2010 и 2019 годах. Долю проката в кинотеатрах вычислили отношением количества кинолент, имеющих сборы в кинотеатрах к общему числу прокатных удостоверений по годам.\n",
    "\n",
    "Построим графики.\n"
   ]
  },
  {
   "cell_type": "code",
   "execution_count": 46,
   "metadata": {
    "id": "ABeV47y7gFyW"
   },
   "outputs": [
    {
     "data": {
      "text/plain": [
       "<AxesSubplot:title={'center':'Количество выданных прокатных удостоверений'}, xlabel='show_start_year'>"
      ]
     },
     "execution_count": 46,
     "metadata": {},
     "output_type": "execute_result"
    },
    {
     "data": {
      "image/png": "[encoded data removed]",
      "text/plain": [
       "<Figure size 432x288 with 1 Axes>"
      ]
     },
     "metadata": {
      "needs_background": "light"
     },
     "output_type": "display_data"
    }
   ],
   "source": [
    "film.plot(x='show_start_year', y='puNumber', style='o-', title='Количество выданных прокатных удостоверений')"
   ]
  },
  {
   "cell_type": "markdown",
   "metadata": {},
   "source": [
    "В 2017 году в прокат вышло минимальное количество кинолент"
   ]
  },
  {
   "cell_type": "code",
   "execution_count": 47,
   "metadata": {},
   "outputs": [
    {
     "data": {
      "text/plain": [
       "<AxesSubplot:title={'center':'Доля государственной поддержки от общего бюджета фильма'}, xlabel='show_start_year'>"
      ]
     },
     "execution_count": 47,
     "metadata": {},
     "output_type": "execute_result"
    },
    {
     "data": {
      "image/png": "[encoded data removed]",
      "text/plain": [
       "<Figure size 432x288 with 1 Axes>"
      ]
     },
     "metadata": {
      "needs_background": "light"
     },
     "output_type": "display_data"
    }
   ],
   "source": [
    "film.plot(x='show_start_year', y='fraction', style='o-', title='Доля государственной поддержки от общего бюджета фильма')"
   ]
  },
  {
   "cell_type": "markdown",
   "metadata": {},
   "source": [
    "Построив графики, имеем следующие наблюдения. \n",
    "В 2017 году более 70% фильмов вышло в прокат в кинотеатры, тогда как в 2010-2013 годах эта доля не превышает и 30%. Цифровизация данных с каждым годом все совершеннее, однако кризисный 2018 год повлиял также и на выход кинокартин в кинотеатрах, при довольно таки высоком количестве прокатных удостоверений.\n",
    "\n",
    "Полнее всего отражены кинокартины, вышедние в прокат с 2015 по 2017 годы. Более 60% проката - весомая цифра."
   ]
  },
  {
   "cell_type": "markdown",
   "metadata": {
    "id": "BEOdcIrIgFyW"
   },
   "source": [
    "- Изучите, как менялась динамика проката по годам. В каком году сумма сборов была минимальной? А максимальной?"
   ]
  },
  {
   "cell_type": "code",
   "execution_count": 48,
   "metadata": {
    "id": "tfEhofYvgFyX"
   },
   "outputs": [
    {
     "data": {
      "text/html": [
       "<div>\n",
       "<style scoped>\n",
       "    .dataframe tbody tr th:only-of-type {\n",
       "        vertical-align: middle;\n",
       "    }\n",
       "\n",
       "    .dataframe tbody tr th {\n",
       "        vertical-align: top;\n",
       "    }\n",
       "\n",
       "    .dataframe thead th {\n",
       "        text-align: right;\n",
       "    }\n",
       "</style>\n",
       "<table border=\"1\" class=\"dataframe\">\n",
       "  <thead>\n",
       "    <tr style=\"text-align: right;\">\n",
       "      <th></th>\n",
       "      <th>show_start_year</th>\n",
       "      <th>box_office</th>\n",
       "    </tr>\n",
       "  </thead>\n",
       "  <tbody>\n",
       "    <tr>\n",
       "      <th>0</th>\n",
       "      <td>2010</td>\n",
       "      <td>2426.1</td>\n",
       "    </tr>\n",
       "    <tr>\n",
       "      <th>1</th>\n",
       "      <td>2011</td>\n",
       "      <td>14041.1</td>\n",
       "    </tr>\n",
       "    <tr>\n",
       "      <th>2</th>\n",
       "      <td>2012</td>\n",
       "      <td>6911.1</td>\n",
       "    </tr>\n",
       "    <tr>\n",
       "      <th>3</th>\n",
       "      <td>2013</td>\n",
       "      <td>29796.8</td>\n",
       "    </tr>\n",
       "    <tr>\n",
       "      <th>4</th>\n",
       "      <td>2014</td>\n",
       "      <td>7444935.5</td>\n",
       "    </tr>\n",
       "    <tr>\n",
       "      <th>5</th>\n",
       "      <td>2015</td>\n",
       "      <td>39497361.6</td>\n",
       "    </tr>\n",
       "    <tr>\n",
       "      <th>6</th>\n",
       "      <td>2016</td>\n",
       "      <td>47865855.9</td>\n",
       "    </tr>\n",
       "    <tr>\n",
       "      <th>7</th>\n",
       "      <td>2017</td>\n",
       "      <td>48563707.5</td>\n",
       "    </tr>\n",
       "    <tr>\n",
       "      <th>8</th>\n",
       "      <td>2018</td>\n",
       "      <td>49668361.7</td>\n",
       "    </tr>\n",
       "    <tr>\n",
       "      <th>9</th>\n",
       "      <td>2019</td>\n",
       "      <td>48425069.9</td>\n",
       "    </tr>\n",
       "  </tbody>\n",
       "</table>\n",
       "</div>"
      ],
      "text/plain": [
       "   show_start_year  box_office\n",
       "0             2010      2426.1\n",
       "1             2011     14041.1\n",
       "2             2012      6911.1\n",
       "3             2013     29796.8\n",
       "4             2014   7444935.5\n",
       "5             2015  39497361.6\n",
       "6             2016  47865855.9\n",
       "7             2017  48563707.5\n",
       "8             2018  49668361.7\n",
       "9             2019  48425069.9"
      ]
     },
     "execution_count": 48,
     "metadata": {},
     "output_type": "execute_result"
    }
   ],
   "source": [
    "amount_of_fees = data.pivot_table(index='show_start_year', values='box_office', aggfunc='sum').reset_index()\n",
    "amount_of_fees"
   ]
  },
  {
   "cell_type": "markdown",
   "metadata": {},
   "source": [
    "Построим график, отбросив данные за 2010-2013 год, так как данные для графика не наглядные"
   ]
  },
  {
   "cell_type": "code",
   "execution_count": 49,
   "metadata": {},
   "outputs": [
    {
     "data": {
      "text/plain": [
       "<AxesSubplot:title={'center':'Динамика проката по годам'}, xlabel='show_start_year'>"
      ]
     },
     "execution_count": 49,
     "metadata": {},
     "output_type": "execute_result"
    },
    {
     "data": {
      "image/png": "[encoded data removed]",
      "text/plain": [
       "<Figure size 432x288 with 1 Axes>"
      ]
     },
     "metadata": {
      "needs_background": "light"
     },
     "output_type": "display_data"
    }
   ],
   "source": [
    "amount_of_fees.loc[4:9].plot(x='show_start_year', y='box_office', style='o-', title='Динамика проката по годам')"
   ]
  },
  {
   "cell_type": "markdown",
   "metadata": {},
   "source": [
    "В 2010 и 2012 году сборы в рублях были минимальны. Судя по результатам таблицы максимальная сумма за прокат кинокартин выручена в 2018 году. Учитывая данные предыдущего исследования, что в 2018 году произошел резкий спад проката в кинотеатрах, происходит некая нестыковка. Либо данные неполные, либо картины в 2018 году пользовались бешеной популярностью."
   ]
  },
  {
   "cell_type": "markdown",
   "metadata": {
    "id": "G-7qS-N-gFyY"
   },
   "source": [
    "- С помощью сводной таблицы посчитайте среднюю и медианную сумму сборов для каждого года."
   ]
  },
  {
   "cell_type": "code",
   "execution_count": 50,
   "metadata": {
    "id": "jmp-rgg9gFyY"
   },
   "outputs": [
    {
     "data": {
      "text/html": [
       "<div>\n",
       "<style scoped>\n",
       "    .dataframe tbody tr th:only-of-type {\n",
       "        vertical-align: middle;\n",
       "    }\n",
       "\n",
       "    .dataframe tbody tr th {\n",
       "        vertical-align: top;\n",
       "    }\n",
       "\n",
       "    .dataframe thead th {\n",
       "        text-align: right;\n",
       "    }\n",
       "</style>\n",
       "<table border=\"1\" class=\"dataframe\">\n",
       "  <thead>\n",
       "    <tr style=\"text-align: right;\">\n",
       "      <th></th>\n",
       "      <th>year</th>\n",
       "      <th>mean</th>\n",
       "      <th>median</th>\n",
       "    </tr>\n",
       "  </thead>\n",
       "  <tbody>\n",
       "    <tr>\n",
       "      <th>0</th>\n",
       "      <td>2010</td>\n",
       "      <td>24.020792</td>\n",
       "      <td>1.70</td>\n",
       "    </tr>\n",
       "    <tr>\n",
       "      <th>1</th>\n",
       "      <td>2011</td>\n",
       "      <td>132.463208</td>\n",
       "      <td>2.95</td>\n",
       "    </tr>\n",
       "    <tr>\n",
       "      <th>2</th>\n",
       "      <td>2012</td>\n",
       "      <td>54.418110</td>\n",
       "      <td>5.60</td>\n",
       "    </tr>\n",
       "    <tr>\n",
       "      <th>3</th>\n",
       "      <td>2013</td>\n",
       "      <td>162.824044</td>\n",
       "      <td>3.50</td>\n",
       "    </tr>\n",
       "    <tr>\n",
       "      <th>4</th>\n",
       "      <td>2014</td>\n",
       "      <td>27072.492727</td>\n",
       "      <td>20.20</td>\n",
       "    </tr>\n",
       "    <tr>\n",
       "      <th>5</th>\n",
       "      <td>2015</td>\n",
       "      <td>85492.124675</td>\n",
       "      <td>5003.45</td>\n",
       "    </tr>\n",
       "    <tr>\n",
       "      <th>6</th>\n",
       "      <td>2016</td>\n",
       "      <td>93487.999805</td>\n",
       "      <td>4505.70</td>\n",
       "    </tr>\n",
       "    <tr>\n",
       "      <th>7</th>\n",
       "      <td>2017</td>\n",
       "      <td>136032.794118</td>\n",
       "      <td>9968.30</td>\n",
       "    </tr>\n",
       "    <tr>\n",
       "      <th>8</th>\n",
       "      <td>2018</td>\n",
       "      <td>104785.573207</td>\n",
       "      <td>8911.55</td>\n",
       "    </tr>\n",
       "    <tr>\n",
       "      <th>9</th>\n",
       "      <td>2019</td>\n",
       "      <td>91714.147538</td>\n",
       "      <td>4693.60</td>\n",
       "    </tr>\n",
       "  </tbody>\n",
       "</table>\n",
       "</div>"
      ],
      "text/plain": [
       "   year           mean   median\n",
       "0  2010      24.020792     1.70\n",
       "1  2011     132.463208     2.95\n",
       "2  2012      54.418110     5.60\n",
       "3  2013     162.824044     3.50\n",
       "4  2014   27072.492727    20.20\n",
       "5  2015   85492.124675  5003.45\n",
       "6  2016   93487.999805  4505.70\n",
       "7  2017  136032.794118  9968.30\n",
       "8  2018  104785.573207  8911.55\n",
       "9  2019   91714.147538  4693.60"
      ]
     },
     "execution_count": 50,
     "metadata": {},
     "output_type": "execute_result"
    }
   ],
   "source": [
    "data_pivot = data.pivot_table(index='show_start_year', values='box_office', aggfunc=['mean','median']).reset_index()\n",
    "data_pivot.columns = ['year','mean','median']\n",
    "data_pivot"
   ]
  },
  {
   "cell_type": "markdown",
   "metadata": {},
   "source": [
    "Данные за 2010-2013 год незначительны, отбросим их для графика"
   ]
  },
  {
   "cell_type": "code",
   "execution_count": 51,
   "metadata": {},
   "outputs": [
    {
     "data": {
      "text/plain": [
       "<AxesSubplot:title={'center':'Средние сборы по годам'}, xlabel='year'>"
      ]
     },
     "execution_count": 51,
     "metadata": {},
     "output_type": "execute_result"
    },
    {
     "data": {
      "image/png": "[encoded data removed]",
      "text/plain": [
       "<Figure size 432x288 with 1 Axes>"
      ]
     },
     "metadata": {
      "needs_background": "light"
     },
     "output_type": "display_data"
    }
   ],
   "source": [
    "data_pivot.loc[4:9].plot(x='year', y ='mean', kind='bar', title='Средние сборы по годам')"
   ]
  },
  {
   "cell_type": "markdown",
   "metadata": {},
   "source": [
    "Построим график по медиане сборов по годам"
   ]
  },
  {
   "cell_type": "code",
   "execution_count": 52,
   "metadata": {},
   "outputs": [
    {
     "data": {
      "text/plain": [
       "<AxesSubplot:title={'center':'Медиана сборов по годам'}, xlabel='year'>"
      ]
     },
     "execution_count": 52,
     "metadata": {},
     "output_type": "execute_result"
    },
    {
     "data": {
      "image/png": "[encoded data removed]",
      "text/plain": [
       "<Figure size 432x288 with 1 Axes>"
      ]
     },
     "metadata": {
      "needs_background": "light"
     },
     "output_type": "display_data"
    }
   ],
   "source": [
    "data_pivot.loc[5:9].plot(x='year', y ='median', kind='bar', title='Медиана сборов по годам', rot = 'horizontal')\n"
   ]
  },
  {
   "cell_type": "markdown",
   "metadata": {},
   "source": [
    "Разница средней и медианы определяется большим разбросом данных в общей выборке. По медиане сборов также лидирует 2017 год"
   ]
  },
  {
   "cell_type": "markdown",
   "metadata": {
    "id": "Ok89WFwJgFyZ"
   },
   "source": [
    "- Определите, влияет ли возрастное ограничение аудитории («6+», «12+», «16+», «18+» и т. д.) на сборы фильма в прокате в период с 2015 по 2019 год? Фильмы с каким возрастным ограничением собрали больше всего денег в прокате? Меняется ли картина в зависимости от года? Если да, предположите, с чем это может быть связано."
   ]
  },
  {
   "cell_type": "code",
   "execution_count": 53,
   "metadata": {
    "id": "jsSbEqfjgFya"
   },
   "outputs": [
    {
     "data": {
      "text/html": [
       "<div>\n",
       "<style scoped>\n",
       "    .dataframe tbody tr th:only-of-type {\n",
       "        vertical-align: middle;\n",
       "    }\n",
       "\n",
       "    .dataframe tbody tr th {\n",
       "        vertical-align: top;\n",
       "    }\n",
       "\n",
       "    .dataframe thead th {\n",
       "        text-align: right;\n",
       "    }\n",
       "</style>\n",
       "<table border=\"1\" class=\"dataframe\">\n",
       "  <thead>\n",
       "    <tr style=\"text-align: right;\">\n",
       "      <th></th>\n",
       "      <th>show_start_year</th>\n",
       "      <th>age_restriction</th>\n",
       "      <th>box_office</th>\n",
       "    </tr>\n",
       "  </thead>\n",
       "  <tbody>\n",
       "    <tr>\n",
       "      <th>0</th>\n",
       "      <td>2015</td>\n",
       "      <td>«0+» - для любой зрительской аудитории</td>\n",
       "      <td>379052.9</td>\n",
       "    </tr>\n",
       "    <tr>\n",
       "      <th>1</th>\n",
       "      <td>2015</td>\n",
       "      <td>«12+» - для детей старше 12 лет</td>\n",
       "      <td>13616082.3</td>\n",
       "    </tr>\n",
       "    <tr>\n",
       "      <th>2</th>\n",
       "      <td>2015</td>\n",
       "      <td>«16+» - для детей старше 16 лет</td>\n",
       "      <td>11368118.7</td>\n",
       "    </tr>\n",
       "    <tr>\n",
       "      <th>3</th>\n",
       "      <td>2015</td>\n",
       "      <td>«18+» - запрещено для детей</td>\n",
       "      <td>5432308.4</td>\n",
       "    </tr>\n",
       "    <tr>\n",
       "      <th>4</th>\n",
       "      <td>2015</td>\n",
       "      <td>«6+» - для детей старше 6 лет</td>\n",
       "      <td>8701799.3</td>\n",
       "    </tr>\n",
       "    <tr>\n",
       "      <th>5</th>\n",
       "      <td>2016</td>\n",
       "      <td>«0+» - для любой зрительской аудитории</td>\n",
       "      <td>149988.6</td>\n",
       "    </tr>\n",
       "    <tr>\n",
       "      <th>6</th>\n",
       "      <td>2016</td>\n",
       "      <td>«12+» - для детей старше 12 лет</td>\n",
       "      <td>12204421.7</td>\n",
       "    </tr>\n",
       "    <tr>\n",
       "      <th>7</th>\n",
       "      <td>2016</td>\n",
       "      <td>«16+» - для детей старше 16 лет</td>\n",
       "      <td>16664378.9</td>\n",
       "    </tr>\n",
       "    <tr>\n",
       "      <th>8</th>\n",
       "      <td>2016</td>\n",
       "      <td>«18+» - запрещено для детей</td>\n",
       "      <td>6793924.8</td>\n",
       "    </tr>\n",
       "    <tr>\n",
       "      <th>9</th>\n",
       "      <td>2016</td>\n",
       "      <td>«6+» - для детей старше 6 лет</td>\n",
       "      <td>12053141.9</td>\n",
       "    </tr>\n",
       "    <tr>\n",
       "      <th>10</th>\n",
       "      <td>2017</td>\n",
       "      <td>«0+» - для любой зрительской аудитории</td>\n",
       "      <td>229599.0</td>\n",
       "    </tr>\n",
       "    <tr>\n",
       "      <th>11</th>\n",
       "      <td>2017</td>\n",
       "      <td>«12+» - для детей старше 12 лет</td>\n",
       "      <td>7851427.8</td>\n",
       "    </tr>\n",
       "    <tr>\n",
       "      <th>12</th>\n",
       "      <td>2017</td>\n",
       "      <td>«16+» - для детей старше 16 лет</td>\n",
       "      <td>18745042.6</td>\n",
       "    </tr>\n",
       "    <tr>\n",
       "      <th>13</th>\n",
       "      <td>2017</td>\n",
       "      <td>«18+» - запрещено для детей</td>\n",
       "      <td>9651495.7</td>\n",
       "    </tr>\n",
       "    <tr>\n",
       "      <th>14</th>\n",
       "      <td>2017</td>\n",
       "      <td>«6+» - для детей старше 6 лет</td>\n",
       "      <td>12086142.4</td>\n",
       "    </tr>\n",
       "    <tr>\n",
       "      <th>15</th>\n",
       "      <td>2018</td>\n",
       "      <td>«0+» - для любой зрительской аудитории</td>\n",
       "      <td>32449.0</td>\n",
       "    </tr>\n",
       "    <tr>\n",
       "      <th>16</th>\n",
       "      <td>2018</td>\n",
       "      <td>«12+» - для детей старше 12 лет</td>\n",
       "      <td>14267250.6</td>\n",
       "    </tr>\n",
       "    <tr>\n",
       "      <th>17</th>\n",
       "      <td>2018</td>\n",
       "      <td>«16+» - для детей старше 16 лет</td>\n",
       "      <td>16503602.1</td>\n",
       "    </tr>\n",
       "    <tr>\n",
       "      <th>18</th>\n",
       "      <td>2018</td>\n",
       "      <td>«18+» - запрещено для детей</td>\n",
       "      <td>8760085.8</td>\n",
       "    </tr>\n",
       "    <tr>\n",
       "      <th>19</th>\n",
       "      <td>2018</td>\n",
       "      <td>«6+» - для детей старше 6 лет</td>\n",
       "      <td>10104974.2</td>\n",
       "    </tr>\n",
       "    <tr>\n",
       "      <th>20</th>\n",
       "      <td>2019</td>\n",
       "      <td>«0+» - для любой зрительской аудитории</td>\n",
       "      <td>17746.0</td>\n",
       "    </tr>\n",
       "    <tr>\n",
       "      <th>21</th>\n",
       "      <td>2019</td>\n",
       "      <td>«12+» - для детей старше 12 лет</td>\n",
       "      <td>12679734.8</td>\n",
       "    </tr>\n",
       "    <tr>\n",
       "      <th>22</th>\n",
       "      <td>2019</td>\n",
       "      <td>«16+» - для детей старше 16 лет</td>\n",
       "      <td>12753419.0</td>\n",
       "    </tr>\n",
       "    <tr>\n",
       "      <th>23</th>\n",
       "      <td>2019</td>\n",
       "      <td>«18+» - запрещено для детей</td>\n",
       "      <td>10121621.0</td>\n",
       "    </tr>\n",
       "    <tr>\n",
       "      <th>24</th>\n",
       "      <td>2019</td>\n",
       "      <td>«6+» - для детей старше 6 лет</td>\n",
       "      <td>12852549.1</td>\n",
       "    </tr>\n",
       "  </tbody>\n",
       "</table>\n",
       "</div>"
      ],
      "text/plain": [
       "    show_start_year                         age_restriction  box_office\n",
       "0              2015  «0+» - для любой зрительской аудитории    379052.9\n",
       "1              2015         «12+» - для детей старше 12 лет  13616082.3\n",
       "2              2015         «16+» - для детей старше 16 лет  11368118.7\n",
       "3              2015             «18+» - запрещено для детей   5432308.4\n",
       "4              2015           «6+» - для детей старше 6 лет   8701799.3\n",
       "5              2016  «0+» - для любой зрительской аудитории    149988.6\n",
       "6              2016         «12+» - для детей старше 12 лет  12204421.7\n",
       "7              2016         «16+» - для детей старше 16 лет  16664378.9\n",
       "8              2016             «18+» - запрещено для детей   6793924.8\n",
       "9              2016           «6+» - для детей старше 6 лет  12053141.9\n",
       "10             2017  «0+» - для любой зрительской аудитории    229599.0\n",
       "11             2017         «12+» - для детей старше 12 лет   7851427.8\n",
       "12             2017         «16+» - для детей старше 16 лет  18745042.6\n",
       "13             2017             «18+» - запрещено для детей   9651495.7\n",
       "14             2017           «6+» - для детей старше 6 лет  12086142.4\n",
       "15             2018  «0+» - для любой зрительской аудитории     32449.0\n",
       "16             2018         «12+» - для детей старше 12 лет  14267250.6\n",
       "17             2018         «16+» - для детей старше 16 лет  16503602.1\n",
       "18             2018             «18+» - запрещено для детей   8760085.8\n",
       "19             2018           «6+» - для детей старше 6 лет  10104974.2\n",
       "20             2019  «0+» - для любой зрительской аудитории     17746.0\n",
       "21             2019         «12+» - для детей старше 12 лет  12679734.8\n",
       "22             2019         «16+» - для детей старше 16 лет  12753419.0\n",
       "23             2019             «18+» - запрещено для детей  10121621.0\n",
       "24             2019           «6+» - для детей старше 6 лет  12852549.1"
      ]
     },
     "execution_count": 53,
     "metadata": {},
     "output_type": "execute_result"
    }
   ],
   "source": [
    "age_pivot = data.pivot_table(index=['show_start_year','age_restriction'], values='box_office', aggfunc='sum').reset_index()\n",
    "age_pivot2 = age_pivot.loc[24:48].reset_index(drop=True)\n",
    "age_pivot2"
   ]
  },
  {
   "cell_type": "code",
   "execution_count": 54,
   "metadata": {},
   "outputs": [
    {
     "data": {
      "text/plain": [
       "<AxesSubplot:title={'center':'2015 год'}, ylabel='age_restriction'>"
      ]
     },
     "execution_count": 54,
     "metadata": {},
     "output_type": "execute_result"
    },
    {
     "data": {
      "image/png": "[encoded data removed]",
      "text/plain": [
       "<Figure size 432x288 with 1 Axes>"
      ]
     },
     "metadata": {
      "needs_background": "light"
     },
     "output_type": "display_data"
    }
   ],
   "source": [
    "age_pivot2.loc[0:4].plot(x='age_restriction', y='box_office', kind='barh', title='2015 год')"
   ]
  },
  {
   "cell_type": "code",
   "execution_count": 55,
   "metadata": {},
   "outputs": [
    {
     "data": {
      "text/plain": [
       "<AxesSubplot:title={'center':'2016 год'}, ylabel='age_restriction'>"
      ]
     },
     "execution_count": 55,
     "metadata": {},
     "output_type": "execute_result"
    },
    {
     "data": {
      "image/png": "[encoded data removed]",
      "text/plain": [
       "<Figure size 432x288 with 1 Axes>"
      ]
     },
     "metadata": {
      "needs_background": "light"
     },
     "output_type": "display_data"
    }
   ],
   "source": [
    "age_pivot2.loc[5:9].plot(x='age_restriction',y='box_office', kind='barh', title='2016 год')"
   ]
  },
  {
   "cell_type": "code",
   "execution_count": 56,
   "metadata": {},
   "outputs": [
    {
     "data": {
      "text/plain": [
       "<AxesSubplot:title={'center':'2017 год'}, ylabel='age_restriction'>"
      ]
     },
     "execution_count": 56,
     "metadata": {},
     "output_type": "execute_result"
    },
    {
     "data": {
      "image/png": "[encoded data removed]",
      "text/plain": [
       "<Figure size 432x288 with 1 Axes>"
      ]
     },
     "metadata": {
      "needs_background": "light"
     },
     "output_type": "display_data"
    }
   ],
   "source": [
    "age_pivot2.loc[10:14].plot(x='age_restriction',y='box_office', kind='barh', title='2017 год')"
   ]
  },
  {
   "cell_type": "code",
   "execution_count": 57,
   "metadata": {},
   "outputs": [
    {
     "data": {
      "text/plain": [
       "<AxesSubplot:title={'center':'2018 год'}, ylabel='age_restriction'>"
      ]
     },
     "execution_count": 57,
     "metadata": {},
     "output_type": "execute_result"
    },
    {
     "data": {
      "image/png": "[encoded data removed]",
      "text/plain": [
       "<Figure size 432x288 with 1 Axes>"
      ]
     },
     "metadata": {
      "needs_background": "light"
     },
     "output_type": "display_data"
    }
   ],
   "source": [
    "age_pivot2.loc[15:19].plot(x='age_restriction',y='box_office', kind='barh', title='2018 год')"
   ]
  },
  {
   "cell_type": "code",
   "execution_count": 58,
   "metadata": {},
   "outputs": [
    {
     "data": {
      "text/plain": [
       "<AxesSubplot:title={'center':'2019 год'}, ylabel='age_restriction'>"
      ]
     },
     "execution_count": 58,
     "metadata": {},
     "output_type": "execute_result"
    },
    {
     "data": {
      "image/png": "[encoded data removed]",
      "text/plain": [
       "<Figure size 432x288 with 1 Axes>"
      ]
     },
     "metadata": {
      "needs_background": "light"
     },
     "output_type": "display_data"
    }
   ],
   "source": [
    "age_pivot2.loc[20:24].plot(x='age_restriction',y='box_office', kind='barh', title='2019 год')"
   ]
  },
  {
   "cell_type": "markdown",
   "metadata": {},
   "source": [
    "Итак, что мы имеем по диаграммам.\n",
    "\n",
    "1. Меньше всего денег в прокате собирают фильмы 0+. Мультфильмы в пролете.\n",
    "\n",
    "2. Из года в год лидируют в прокате фильмы 12+ и 16+. Можно предположить, что основная аудитория кинотеатров - школьники, студенты. Что ж, вполне логично.\n",
    "\n",
    "3. Фильмы 6+ держатся посерединке. Так свою долю конечно имеют семейные фильмы, на которые можно сходить родителям с детьми. В 2018 году видим небольшую просадку по данной категории фильмов, что может обуславливаться как кризисом 2018 года, так и возможно опять же повторюсь неполными представленными данными за этот год.\n"
   ]
  },
  {
   "cell_type": "markdown",
   "metadata": {
    "id": "l_Kg6Ku4gFya"
   },
   "source": [
    "### Шаг 4. Исследуйте фильмы, которые получили государственную поддержку\n",
    "\n",
    "На этом этапе нет конкретных инструкций и заданий — поищите интересные закономерности в данных. Посмотрите, сколько выделяют средств на поддержку кино. Проверьте, хорошо ли окупаются такие фильмы, какой у них рейтинг."
   ]
  },
  {
   "cell_type": "markdown",
   "metadata": {},
   "source": [
    "Посмотрим сколько выделяют средств на государственную поддержку."
   ]
  },
  {
   "cell_type": "code",
   "execution_count": 59,
   "metadata": {},
   "outputs": [
    {
     "data": {
      "text/html": [
       "<div>\n",
       "<style scoped>\n",
       "    .dataframe tbody tr th:only-of-type {\n",
       "        vertical-align: middle;\n",
       "    }\n",
       "\n",
       "    .dataframe tbody tr th {\n",
       "        vertical-align: top;\n",
       "    }\n",
       "\n",
       "    .dataframe thead th {\n",
       "        text-align: right;\n",
       "    }\n",
       "</style>\n",
       "<table border=\"1\" class=\"dataframe\">\n",
       "  <thead>\n",
       "    <tr style=\"text-align: right;\">\n",
       "      <th></th>\n",
       "      <th>title</th>\n",
       "      <th>puNumber</th>\n",
       "      <th>show_start_date</th>\n",
       "      <th>type</th>\n",
       "      <th>film_studio</th>\n",
       "      <th>production_country</th>\n",
       "      <th>director</th>\n",
       "      <th>producer</th>\n",
       "      <th>age_restriction</th>\n",
       "      <th>refundable_support</th>\n",
       "      <th>...</th>\n",
       "      <th>financing_source</th>\n",
       "      <th>ratings</th>\n",
       "      <th>genres</th>\n",
       "      <th>box_office</th>\n",
       "      <th>show_start_year</th>\n",
       "      <th>first_value_director</th>\n",
       "      <th>first_genres</th>\n",
       "      <th>part_full_support</th>\n",
       "      <th>full_support</th>\n",
       "      <th>payback</th>\n",
       "    </tr>\n",
       "  </thead>\n",
       "  <tbody>\n",
       "    <tr>\n",
       "      <th>7429</th>\n",
       "      <td>Холоп</td>\n",
       "      <td>111021719</td>\n",
       "      <td>2019-12-19 12:00:00</td>\n",
       "      <td>Художественный</td>\n",
       "      <td>ООО \"МЕМ-МЕДИА\" по заказу АО \"ВБД Груп\"</td>\n",
       "      <td>Россия</td>\n",
       "      <td>К.Шипенко</td>\n",
       "      <td>Э.Илоян, Д.Жалинский, В.Дусмухаметов, Т.Бадзие...</td>\n",
       "      <td>«12+» - для детей старше 12 лет</td>\n",
       "      <td>25000.0</td>\n",
       "      <td>...</td>\n",
       "      <td>Фонд кино</td>\n",
       "      <td>6.8</td>\n",
       "      <td>комедия</td>\n",
       "      <td>3073568.7</td>\n",
       "      <td>2019</td>\n",
       "      <td>К.Шипенко</td>\n",
       "      <td>комедия</td>\n",
       "      <td>0.375000</td>\n",
       "      <td>60000.0</td>\n",
       "      <td>19.209804</td>\n",
       "    </tr>\n",
       "    <tr>\n",
       "      <th>5642</th>\n",
       "      <td>Движение вверх</td>\n",
       "      <td>111011817</td>\n",
       "      <td>2017-12-21 12:00:00</td>\n",
       "      <td>Художественный</td>\n",
       "      <td>ООО \"Студия \"ТРИТЭ\" Никиты Михалкова\"</td>\n",
       "      <td>Россия</td>\n",
       "      <td>А.Мегердичев</td>\n",
       "      <td>Л.Верещагин, А.Златопольский, Н.Михалков, ООО ...</td>\n",
       "      <td>«6+» - для детей старше 6 лет</td>\n",
       "      <td>0.0</td>\n",
       "      <td>...</td>\n",
       "      <td>Фонд кино</td>\n",
       "      <td>7.5</td>\n",
       "      <td>спорт,драма</td>\n",
       "      <td>2779686.1</td>\n",
       "      <td>2017</td>\n",
       "      <td>А.Мегердичев</td>\n",
       "      <td>спорт</td>\n",
       "      <td>0.677745</td>\n",
       "      <td>400000.0</td>\n",
       "      <td>4.709798</td>\n",
       "    </tr>\n",
       "    <tr>\n",
       "      <th>6526</th>\n",
       "      <td>Т-34</td>\n",
       "      <td>111024918</td>\n",
       "      <td>2018-12-21 12:00:00</td>\n",
       "      <td>Художественный</td>\n",
       "      <td>ООО \"Кинокомпания МАРС-фильм\" по заказу ООО \"М...</td>\n",
       "      <td>Россия</td>\n",
       "      <td>А.Сидоров</td>\n",
       "      <td>А.Златопольский, Р.Дишдишян, Л.Блаватник, Н.Яр...</td>\n",
       "      <td>«12+» - для детей старше 12 лет</td>\n",
       "      <td>60000.0</td>\n",
       "      <td>...</td>\n",
       "      <td>Фонд кино</td>\n",
       "      <td>6.5</td>\n",
       "      <td>драма,военный,боевик</td>\n",
       "      <td>2271754.0</td>\n",
       "      <td>2018</td>\n",
       "      <td>А.Сидоров</td>\n",
       "      <td>драма</td>\n",
       "      <td>0.319271</td>\n",
       "      <td>180000.0</td>\n",
       "      <td>4.029471</td>\n",
       "    </tr>\n",
       "    <tr>\n",
       "      <th>5494</th>\n",
       "      <td>Последний богатырь</td>\n",
       "      <td>111007017</td>\n",
       "      <td>2017-10-19 12:00:00</td>\n",
       "      <td>Художественный</td>\n",
       "      <td>ООО \"Киностудия \"Слово\" по заказу ООО \"Уолт Ди...</td>\n",
       "      <td>Россия</td>\n",
       "      <td>Д.Дьяченко</td>\n",
       "      <td>Э.Илоян, Д.Жалинский, М.Озкан, А.Троцюк, В.Шляппо</td>\n",
       "      <td>«12+» - для детей старше 12 лет</td>\n",
       "      <td>50000.0</td>\n",
       "      <td>...</td>\n",
       "      <td>Фонд кино</td>\n",
       "      <td>6.8</td>\n",
       "      <td>комедия,фэнтези,приключения</td>\n",
       "      <td>1655037.7</td>\n",
       "      <td>2017</td>\n",
       "      <td>Д.Дьяченко</td>\n",
       "      <td>комедия</td>\n",
       "      <td>0.283706</td>\n",
       "      <td>100000.0</td>\n",
       "      <td>4.695441</td>\n",
       "    </tr>\n",
       "    <tr>\n",
       "      <th>5697</th>\n",
       "      <td>Лёд</td>\n",
       "      <td>111000518</td>\n",
       "      <td>2018-02-01 12:00:00</td>\n",
       "      <td>Художественный</td>\n",
       "      <td>ООО \"Водород 2011\", ООО \"Арт Пикчерс Студия\", ...</td>\n",
       "      <td>Россия</td>\n",
       "      <td>О.Трофим</td>\n",
       "      <td>М.Врубель, А.Андрющенко, Ф.Бондарчук, Д.Рудовс...</td>\n",
       "      <td>«12+» - для детей старше 12 лет</td>\n",
       "      <td>25000.0</td>\n",
       "      <td>...</td>\n",
       "      <td>Фонд кино</td>\n",
       "      <td>NaN</td>\n",
       "      <td>не указан</td>\n",
       "      <td>1445731.8</td>\n",
       "      <td>2018</td>\n",
       "      <td>О.Трофим</td>\n",
       "      <td>не указан</td>\n",
       "      <td>0.572062</td>\n",
       "      <td>85000.0</td>\n",
       "      <td>9.729985</td>\n",
       "    </tr>\n",
       "    <tr>\n",
       "      <th>...</th>\n",
       "      <td>...</td>\n",
       "      <td>...</td>\n",
       "      <td>...</td>\n",
       "      <td>...</td>\n",
       "      <td>...</td>\n",
       "      <td>...</td>\n",
       "      <td>...</td>\n",
       "      <td>...</td>\n",
       "      <td>...</td>\n",
       "      <td>...</td>\n",
       "      <td>...</td>\n",
       "      <td>...</td>\n",
       "      <td>...</td>\n",
       "      <td>...</td>\n",
       "      <td>...</td>\n",
       "      <td>...</td>\n",
       "      <td>...</td>\n",
       "      <td>...</td>\n",
       "      <td>...</td>\n",
       "      <td>...</td>\n",
       "      <td>...</td>\n",
       "    </tr>\n",
       "    <tr>\n",
       "      <th>7153</th>\n",
       "      <td>Байкал - Сердце мира 3D</td>\n",
       "      <td>112004619</td>\n",
       "      <td>2019-11-01 12:00:00</td>\n",
       "      <td>Документальный</td>\n",
       "      <td>ООО \"Продюсерский центр \"Новое Время\"</td>\n",
       "      <td>Россия</td>\n",
       "      <td>А.Попова</td>\n",
       "      <td>И.Добровольский, А.Разуваева, Ю.Перкуль</td>\n",
       "      <td>«0+» - для любой зрительской аудитории</td>\n",
       "      <td>0.0</td>\n",
       "      <td>...</td>\n",
       "      <td>Министерство культуры</td>\n",
       "      <td>8.0</td>\n",
       "      <td>семейный</td>\n",
       "      <td>NaN</td>\n",
       "      <td>2019</td>\n",
       "      <td>А.Попова</td>\n",
       "      <td>семейный</td>\n",
       "      <td>0.090909</td>\n",
       "      <td>3000.0</td>\n",
       "      <td>NaN</td>\n",
       "    </tr>\n",
       "    <tr>\n",
       "      <th>7202</th>\n",
       "      <td>На Луне</td>\n",
       "      <td>111015519</td>\n",
       "      <td>2019-11-01 12:00:00</td>\n",
       "      <td>Художественный</td>\n",
       "      <td>ООО \"Киностудия \"ВЕРТИКАЛЬ\"</td>\n",
       "      <td>Россия</td>\n",
       "      <td>Е.Михалков-Кончаловский</td>\n",
       "      <td>С.Говорухин, Е.Маскина</td>\n",
       "      <td>«16+» - для детей старше 16 лет</td>\n",
       "      <td>0.0</td>\n",
       "      <td>...</td>\n",
       "      <td>Министерство культуры</td>\n",
       "      <td>6.6</td>\n",
       "      <td>приключения,триллер</td>\n",
       "      <td>NaN</td>\n",
       "      <td>2019</td>\n",
       "      <td>Е.Михалков-Кончаловский</td>\n",
       "      <td>приключения</td>\n",
       "      <td>0.604741</td>\n",
       "      <td>35000.0</td>\n",
       "      <td>NaN</td>\n",
       "    </tr>\n",
       "    <tr>\n",
       "      <th>7317</th>\n",
       "      <td>Кроличья лапа</td>\n",
       "      <td>111018919</td>\n",
       "      <td>2019-11-20 12:00:00</td>\n",
       "      <td>Художественный</td>\n",
       "      <td>ООО \"Зебра\", \"Артемис\", \"Гринлит\"</td>\n",
       "      <td>Россия, Бельгия, Финляндия</td>\n",
       "      <td>Н.Джорджадзе</td>\n",
       "      <td>Ю.Соболевская</td>\n",
       "      <td>«16+» - для детей старше 16 лет</td>\n",
       "      <td>0.0</td>\n",
       "      <td>...</td>\n",
       "      <td>Министерство культуры</td>\n",
       "      <td>NaN</td>\n",
       "      <td>не указан</td>\n",
       "      <td>NaN</td>\n",
       "      <td>2019</td>\n",
       "      <td>Н.Джорджадзе</td>\n",
       "      <td>не указан</td>\n",
       "      <td>0.628483</td>\n",
       "      <td>30000.0</td>\n",
       "      <td>NaN</td>\n",
       "    </tr>\n",
       "    <tr>\n",
       "      <th>7449</th>\n",
       "      <td>Я свободен</td>\n",
       "      <td>111023019</td>\n",
       "      <td>2019-12-26 12:00:00</td>\n",
       "      <td>Художественный</td>\n",
       "      <td>АО \"ТПО \"Киностудия им. М.Горького\"</td>\n",
       "      <td>Россия</td>\n",
       "      <td>И.Северов</td>\n",
       "      <td>С.Зернов</td>\n",
       "      <td>«12+» - для детей старше 12 лет</td>\n",
       "      <td>0.0</td>\n",
       "      <td>...</td>\n",
       "      <td>Министерство культуры</td>\n",
       "      <td>5.9</td>\n",
       "      <td>драма</td>\n",
       "      <td>NaN</td>\n",
       "      <td>2019</td>\n",
       "      <td>И.Северов</td>\n",
       "      <td>драма</td>\n",
       "      <td>0.649998</td>\n",
       "      <td>30000.0</td>\n",
       "      <td>NaN</td>\n",
       "    </tr>\n",
       "    <tr>\n",
       "      <th>7451</th>\n",
       "      <td>(Не)идеальный мужчина</td>\n",
       "      <td>111023119</td>\n",
       "      <td>2019-12-24 12:00:00</td>\n",
       "      <td>Художественный</td>\n",
       "      <td>ООО \"Нон-Стоп Продакшн\"</td>\n",
       "      <td>Россия</td>\n",
       "      <td>М.Бальчюнас (псевдоним М.Вайсберг)</td>\n",
       "      <td>С.Мелькумов, А.Роднянский, М.Вайсберг, Р.Минас...</td>\n",
       "      <td>«12+» - для детей старше 12 лет</td>\n",
       "      <td>40000.0</td>\n",
       "      <td>...</td>\n",
       "      <td>Фонд кино</td>\n",
       "      <td>4.5</td>\n",
       "      <td>комедия,фантастика,мелодрама</td>\n",
       "      <td>NaN</td>\n",
       "      <td>2019</td>\n",
       "      <td>М.Бальчюнас (псевдоним М.Вайсберг)</td>\n",
       "      <td>комедия</td>\n",
       "      <td>0.666012</td>\n",
       "      <td>100000.0</td>\n",
       "      <td>NaN</td>\n",
       "    </tr>\n",
       "  </tbody>\n",
       "</table>\n",
       "<p>331 rows × 22 columns</p>\n",
       "</div>"
      ],
      "text/plain": [
       "                        title   puNumber     show_start_date            type  \\\n",
       "7429                    Холоп  111021719 2019-12-19 12:00:00  Художественный   \n",
       "5642           Движение вверх  111011817 2017-12-21 12:00:00  Художественный   \n",
       "6526                     Т-34  111024918 2018-12-21 12:00:00  Художественный   \n",
       "5494       Последний богатырь  111007017 2017-10-19 12:00:00  Художественный   \n",
       "5697                      Лёд  111000518 2018-02-01 12:00:00  Художественный   \n",
       "...                       ...        ...                 ...             ...   \n",
       "7153  Байкал - Сердце мира 3D  112004619 2019-11-01 12:00:00  Документальный   \n",
       "7202                  На Луне  111015519 2019-11-01 12:00:00  Художественный   \n",
       "7317            Кроличья лапа  111018919 2019-11-20 12:00:00  Художественный   \n",
       "7449               Я свободен  111023019 2019-12-26 12:00:00  Художественный   \n",
       "7451    (Не)идеальный мужчина  111023119 2019-12-24 12:00:00  Художественный   \n",
       "\n",
       "                                            film_studio  \\\n",
       "7429            ООО \"МЕМ-МЕДИА\" по заказу АО \"ВБД Груп\"   \n",
       "5642              ООО \"Студия \"ТРИТЭ\" Никиты Михалкова\"   \n",
       "6526  ООО \"Кинокомпания МАРС-фильм\" по заказу ООО \"М...   \n",
       "5494  ООО \"Киностудия \"Слово\" по заказу ООО \"Уолт Ди...   \n",
       "5697  ООО \"Водород 2011\", ООО \"Арт Пикчерс Студия\", ...   \n",
       "...                                                 ...   \n",
       "7153              ООО \"Продюсерский центр \"Новое Время\"   \n",
       "7202                        ООО \"Киностудия \"ВЕРТИКАЛЬ\"   \n",
       "7317                  ООО \"Зебра\", \"Артемис\", \"Гринлит\"   \n",
       "7449                АО \"ТПО \"Киностудия им. М.Горького\"   \n",
       "7451                           ООО \"Нон-Стоп Продакшн\"    \n",
       "\n",
       "              production_country                            director  \\\n",
       "7429                      Россия                           К.Шипенко   \n",
       "5642                      Россия                        А.Мегердичев   \n",
       "6526                      Россия                           А.Сидоров   \n",
       "5494                      Россия                          Д.Дьяченко   \n",
       "5697                      Россия                            О.Трофим   \n",
       "...                          ...                                 ...   \n",
       "7153                      Россия                            А.Попова   \n",
       "7202                      Россия             Е.Михалков-Кончаловский   \n",
       "7317  Россия, Бельгия, Финляндия                        Н.Джорджадзе   \n",
       "7449                      Россия                           И.Северов   \n",
       "7451                      Россия  М.Бальчюнас (псевдоним М.Вайсберг)   \n",
       "\n",
       "                                               producer  \\\n",
       "7429  Э.Илоян, Д.Жалинский, В.Дусмухаметов, Т.Бадзие...   \n",
       "5642  Л.Верещагин, А.Златопольский, Н.Михалков, ООО ...   \n",
       "6526  А.Златопольский, Р.Дишдишян, Л.Блаватник, Н.Яр...   \n",
       "5494  Э.Илоян, Д.Жалинский, М.Озкан, А.Троцюк, В.Шляппо   \n",
       "5697  М.Врубель, А.Андрющенко, Ф.Бондарчук, Д.Рудовс...   \n",
       "...                                                 ...   \n",
       "7153            И.Добровольский, А.Разуваева, Ю.Перкуль   \n",
       "7202                             С.Говорухин, Е.Маскина   \n",
       "7317                                      Ю.Соболевская   \n",
       "7449                                           С.Зернов   \n",
       "7451  С.Мелькумов, А.Роднянский, М.Вайсберг, Р.Минас...   \n",
       "\n",
       "                             age_restriction  refundable_support  ...  \\\n",
       "7429         «12+» - для детей старше 12 лет             25000.0  ...   \n",
       "5642           «6+» - для детей старше 6 лет                 0.0  ...   \n",
       "6526         «12+» - для детей старше 12 лет             60000.0  ...   \n",
       "5494         «12+» - для детей старше 12 лет             50000.0  ...   \n",
       "5697         «12+» - для детей старше 12 лет             25000.0  ...   \n",
       "...                                      ...                 ...  ...   \n",
       "7153  «0+» - для любой зрительской аудитории                 0.0  ...   \n",
       "7202         «16+» - для детей старше 16 лет                 0.0  ...   \n",
       "7317         «16+» - для детей старше 16 лет                 0.0  ...   \n",
       "7449         «12+» - для детей старше 12 лет                 0.0  ...   \n",
       "7451         «12+» - для детей старше 12 лет             40000.0  ...   \n",
       "\n",
       "           financing_source  ratings                        genres  \\\n",
       "7429              Фонд кино      6.8                       комедия   \n",
       "5642              Фонд кино      7.5                   спорт,драма   \n",
       "6526              Фонд кино      6.5          драма,военный,боевик   \n",
       "5494              Фонд кино      6.8   комедия,фэнтези,приключения   \n",
       "5697              Фонд кино      NaN                     не указан   \n",
       "...                     ...      ...                           ...   \n",
       "7153  Министерство культуры      8.0                      семейный   \n",
       "7202  Министерство культуры      6.6           приключения,триллер   \n",
       "7317  Министерство культуры      NaN                     не указан   \n",
       "7449  Министерство культуры      5.9                         драма   \n",
       "7451              Фонд кино      4.5  комедия,фантастика,мелодрама   \n",
       "\n",
       "      box_office show_start_year                first_value_director  \\\n",
       "7429   3073568.7            2019                           К.Шипенко   \n",
       "5642   2779686.1            2017                        А.Мегердичев   \n",
       "6526   2271754.0            2018                           А.Сидоров   \n",
       "5494   1655037.7            2017                          Д.Дьяченко   \n",
       "5697   1445731.8            2018                            О.Трофим   \n",
       "...          ...             ...                                 ...   \n",
       "7153         NaN            2019                            А.Попова   \n",
       "7202         NaN            2019             Е.Михалков-Кончаловский   \n",
       "7317         NaN            2019                        Н.Джорджадзе   \n",
       "7449         NaN            2019                           И.Северов   \n",
       "7451         NaN            2019  М.Бальчюнас (псевдоним М.Вайсберг)   \n",
       "\n",
       "      first_genres part_full_support full_support    payback  \n",
       "7429       комедия          0.375000      60000.0  19.209804  \n",
       "5642         спорт          0.677745     400000.0   4.709798  \n",
       "6526         драма          0.319271     180000.0   4.029471  \n",
       "5494       комедия          0.283706     100000.0   4.695441  \n",
       "5697     не указан          0.572062      85000.0   9.729985  \n",
       "...            ...               ...          ...        ...  \n",
       "7153      семейный          0.090909       3000.0        NaN  \n",
       "7202   приключения          0.604741      35000.0        NaN  \n",
       "7317     не указан          0.628483      30000.0        NaN  \n",
       "7449         драма          0.649998      30000.0        NaN  \n",
       "7451       комедия          0.666012     100000.0        NaN  \n",
       "\n",
       "[331 rows x 22 columns]"
      ]
     },
     "execution_count": 59,
     "metadata": {},
     "output_type": "execute_result"
    }
   ],
   "source": [
    "data['full_support'] = data['refundable_support']+data['nonrefundable_support']\n",
    "data['payback'] = data['box_office']/data['budget']\n",
    "data2 = data[data['full_support']>0.0]\n",
    "data2"
   ]
  },
  {
   "cell_type": "code",
   "execution_count": 60,
   "metadata": {},
   "outputs": [
    {
     "data": {
      "text/html": [
       "<div>\n",
       "<style scoped>\n",
       "    .dataframe tbody tr th:only-of-type {\n",
       "        vertical-align: middle;\n",
       "    }\n",
       "\n",
       "    .dataframe tbody tr th {\n",
       "        vertical-align: top;\n",
       "    }\n",
       "\n",
       "    .dataframe thead th {\n",
       "        text-align: right;\n",
       "    }\n",
       "</style>\n",
       "<table border=\"1\" class=\"dataframe\">\n",
       "  <thead>\n",
       "    <tr style=\"text-align: right;\">\n",
       "      <th></th>\n",
       "      <th>title</th>\n",
       "      <th>puNumber</th>\n",
       "      <th>show_start_date</th>\n",
       "      <th>type</th>\n",
       "      <th>film_studio</th>\n",
       "      <th>production_country</th>\n",
       "      <th>director</th>\n",
       "      <th>producer</th>\n",
       "      <th>age_restriction</th>\n",
       "      <th>refundable_support</th>\n",
       "      <th>...</th>\n",
       "      <th>financing_source</th>\n",
       "      <th>ratings</th>\n",
       "      <th>genres</th>\n",
       "      <th>box_office</th>\n",
       "      <th>show_start_year</th>\n",
       "      <th>first_value_director</th>\n",
       "      <th>first_genres</th>\n",
       "      <th>part_full_support</th>\n",
       "      <th>full_support</th>\n",
       "      <th>payback</th>\n",
       "    </tr>\n",
       "  </thead>\n",
       "  <tbody>\n",
       "    <tr>\n",
       "      <th>7429</th>\n",
       "      <td>Холоп</td>\n",
       "      <td>111021719</td>\n",
       "      <td>2019-12-19 12:00:00</td>\n",
       "      <td>Художественный</td>\n",
       "      <td>ООО \"МЕМ-МЕДИА\" по заказу АО \"ВБД Груп\"</td>\n",
       "      <td>Россия</td>\n",
       "      <td>К.Шипенко</td>\n",
       "      <td>Э.Илоян, Д.Жалинский, В.Дусмухаметов, Т.Бадзие...</td>\n",
       "      <td>«12+» - для детей старше 12 лет</td>\n",
       "      <td>25000.0</td>\n",
       "      <td>...</td>\n",
       "      <td>Фонд кино</td>\n",
       "      <td>6.8</td>\n",
       "      <td>комедия</td>\n",
       "      <td>3073568.7</td>\n",
       "      <td>2019</td>\n",
       "      <td>К.Шипенко</td>\n",
       "      <td>комедия</td>\n",
       "      <td>0.375000</td>\n",
       "      <td>60000.0</td>\n",
       "      <td>19.209804</td>\n",
       "    </tr>\n",
       "    <tr>\n",
       "      <th>5697</th>\n",
       "      <td>Лёд</td>\n",
       "      <td>111000518</td>\n",
       "      <td>2018-02-01 12:00:00</td>\n",
       "      <td>Художественный</td>\n",
       "      <td>ООО \"Водород 2011\", ООО \"Арт Пикчерс Студия\", ...</td>\n",
       "      <td>Россия</td>\n",
       "      <td>О.Трофим</td>\n",
       "      <td>М.Врубель, А.Андрющенко, Ф.Бондарчук, Д.Рудовс...</td>\n",
       "      <td>«12+» - для детей старше 12 лет</td>\n",
       "      <td>25000.0</td>\n",
       "      <td>...</td>\n",
       "      <td>Фонд кино</td>\n",
       "      <td>NaN</td>\n",
       "      <td>не указан</td>\n",
       "      <td>1445731.8</td>\n",
       "      <td>2018</td>\n",
       "      <td>О.Трофим</td>\n",
       "      <td>не указан</td>\n",
       "      <td>0.572062</td>\n",
       "      <td>85000.0</td>\n",
       "      <td>9.729985</td>\n",
       "    </tr>\n",
       "    <tr>\n",
       "      <th>5738</th>\n",
       "      <td>Я худею</td>\n",
       "      <td>111001618</td>\n",
       "      <td>2018-03-07 12:00:00</td>\n",
       "      <td>Художественный</td>\n",
       "      <td>ООО \"Друг Друга\", ООО \"Ди Пи Джи\"</td>\n",
       "      <td>Россия</td>\n",
       "      <td>А.Черномазов (псевдоним Алексей Нужный)</td>\n",
       "      <td>С.Корнихин, Н.Куликов, А.Черномазов, А.Кремер,...</td>\n",
       "      <td>«16+» - для детей старше 16 лет</td>\n",
       "      <td>0.0</td>\n",
       "      <td>...</td>\n",
       "      <td>Министерство культуры</td>\n",
       "      <td>6.9</td>\n",
       "      <td>комедия</td>\n",
       "      <td>633462.3</td>\n",
       "      <td>2018</td>\n",
       "      <td>А.Черномазов (псевдоним Алексей Нужный)</td>\n",
       "      <td>комедия</td>\n",
       "      <td>0.342274</td>\n",
       "      <td>30000.0</td>\n",
       "      <td>7.227254</td>\n",
       "    </tr>\n",
       "    <tr>\n",
       "      <th>3225</th>\n",
       "      <td>Гуляй, Вася !</td>\n",
       "      <td>111018216</td>\n",
       "      <td>2016-12-20 12:00:00</td>\n",
       "      <td>Художественный</td>\n",
       "      <td>ООО Кинокомпания \"Инвада Фильм\", АО \"ВБД Груп\"</td>\n",
       "      <td>Россия</td>\n",
       "      <td>Р.Каримов</td>\n",
       "      <td>А.Новиков, А.Котелевский, Э.Илоян, Д.Жалинский...</td>\n",
       "      <td>«16+» - для детей старше 16 лет</td>\n",
       "      <td>0.0</td>\n",
       "      <td>...</td>\n",
       "      <td>Министерство культуры</td>\n",
       "      <td>6.5</td>\n",
       "      <td>комедия</td>\n",
       "      <td>259099.1</td>\n",
       "      <td>2016</td>\n",
       "      <td>Р.Каримов</td>\n",
       "      <td>комедия</td>\n",
       "      <td>0.649872</td>\n",
       "      <td>25345.0</td>\n",
       "      <td>6.643567</td>\n",
       "    </tr>\n",
       "    <tr>\n",
       "      <th>2055</th>\n",
       "      <td>Дуxless 2</td>\n",
       "      <td>111000415</td>\n",
       "      <td>2015-01-26 12:00:00</td>\n",
       "      <td>Художественный</td>\n",
       "      <td>ООО \"Киностудия \"Слово\", ООО \"Арт Пикчерс Студия\"</td>\n",
       "      <td>Россия</td>\n",
       "      <td>Р.Прыгунов</td>\n",
       "      <td>П.Ануров, Ф.Бондарчук, Д.Рудовский</td>\n",
       "      <td>«16+» - для детей старше 16 лет</td>\n",
       "      <td>0.0</td>\n",
       "      <td>...</td>\n",
       "      <td>Фонд кино</td>\n",
       "      <td>6.6</td>\n",
       "      <td>драма</td>\n",
       "      <td>446163.5</td>\n",
       "      <td>2015</td>\n",
       "      <td>Р.Прыгунов</td>\n",
       "      <td>драма</td>\n",
       "      <td>1.000000</td>\n",
       "      <td>75000.0</td>\n",
       "      <td>5.948847</td>\n",
       "    </tr>\n",
       "    <tr>\n",
       "      <th>...</th>\n",
       "      <td>...</td>\n",
       "      <td>...</td>\n",
       "      <td>...</td>\n",
       "      <td>...</td>\n",
       "      <td>...</td>\n",
       "      <td>...</td>\n",
       "      <td>...</td>\n",
       "      <td>...</td>\n",
       "      <td>...</td>\n",
       "      <td>...</td>\n",
       "      <td>...</td>\n",
       "      <td>...</td>\n",
       "      <td>...</td>\n",
       "      <td>...</td>\n",
       "      <td>...</td>\n",
       "      <td>...</td>\n",
       "      <td>...</td>\n",
       "      <td>...</td>\n",
       "      <td>...</td>\n",
       "      <td>...</td>\n",
       "      <td>...</td>\n",
       "    </tr>\n",
       "    <tr>\n",
       "      <th>3653</th>\n",
       "      <td>Простая история .</td>\n",
       "      <td>111011816</td>\n",
       "      <td>2016-07-19 12:00:00</td>\n",
       "      <td>Художественный</td>\n",
       "      <td>ООО \"КИНОБЮРО\"</td>\n",
       "      <td>Россия</td>\n",
       "      <td>В.Татарский</td>\n",
       "      <td>Ю.Бахшиев</td>\n",
       "      <td>«16+» - для детей старше 16 лет</td>\n",
       "      <td>0.0</td>\n",
       "      <td>...</td>\n",
       "      <td>Фонд кино</td>\n",
       "      <td>7.8</td>\n",
       "      <td>драма,биография</td>\n",
       "      <td>58.7</td>\n",
       "      <td>2016</td>\n",
       "      <td>В.Татарский</td>\n",
       "      <td>драма</td>\n",
       "      <td>0.355556</td>\n",
       "      <td>64000.0</td>\n",
       "      <td>0.000326</td>\n",
       "    </tr>\n",
       "    <tr>\n",
       "      <th>2524</th>\n",
       "      <td>Вдвоем на льдине.</td>\n",
       "      <td>111011015</td>\n",
       "      <td>2015-06-25 12:00:00</td>\n",
       "      <td>Художественный</td>\n",
       "      <td>ООО \"Первое творческое объединение\"</td>\n",
       "      <td>Россия</td>\n",
       "      <td>Н.Джорджадзе, В.Игнатьев</td>\n",
       "      <td>П.Поляков, И.Букреев</td>\n",
       "      <td>«12+» - для детей старше 12 лет</td>\n",
       "      <td>0.0</td>\n",
       "      <td>...</td>\n",
       "      <td>Министерство культуры</td>\n",
       "      <td>6.6</td>\n",
       "      <td>мелодрама</td>\n",
       "      <td>4.4</td>\n",
       "      <td>2015</td>\n",
       "      <td>Н.Джорджадзе</td>\n",
       "      <td>мелодрама</td>\n",
       "      <td>0.698403</td>\n",
       "      <td>26500.0</td>\n",
       "      <td>0.000116</td>\n",
       "    </tr>\n",
       "    <tr>\n",
       "      <th>2800</th>\n",
       "      <td>Битва с экстрасенсами</td>\n",
       "      <td>111011315</td>\n",
       "      <td>2015-07-20 12:00:00</td>\n",
       "      <td>Художественный</td>\n",
       "      <td>ООО \"КИНОДАНЦ\", ООО \"КИНОБАЙТ\"</td>\n",
       "      <td>Россия</td>\n",
       "      <td>И.Кордзаия</td>\n",
       "      <td>Е.Мелентьев</td>\n",
       "      <td>«12+» - для детей старше 12 лет</td>\n",
       "      <td>0.0</td>\n",
       "      <td>...</td>\n",
       "      <td>Министерство культуры, Фонд кино</td>\n",
       "      <td>5.4</td>\n",
       "      <td>фэнтези,приключения</td>\n",
       "      <td>6.0</td>\n",
       "      <td>2015</td>\n",
       "      <td>И.Кордзаия</td>\n",
       "      <td>фэнтези</td>\n",
       "      <td>0.434850</td>\n",
       "      <td>25900.0</td>\n",
       "      <td>0.000101</td>\n",
       "    </tr>\n",
       "    <tr>\n",
       "      <th>3500</th>\n",
       "      <td>День До</td>\n",
       "      <td>111010916</td>\n",
       "      <td>2016-07-06 12:00:00</td>\n",
       "      <td>Художественный</td>\n",
       "      <td>ООО \"Кинобюро\" по заказу ООО \"Среда и Ко\"</td>\n",
       "      <td>Россия</td>\n",
       "      <td>А.Котт, В.Котт, А.Карпиловский, Б.Хлебников</td>\n",
       "      <td>А.Цекало, А.Котт</td>\n",
       "      <td>«18+» - запрещено для детей</td>\n",
       "      <td>25000.0</td>\n",
       "      <td>...</td>\n",
       "      <td>Фонд кино</td>\n",
       "      <td>4.8</td>\n",
       "      <td>драма,фантастика</td>\n",
       "      <td>9.0</td>\n",
       "      <td>2016</td>\n",
       "      <td>А.Котт</td>\n",
       "      <td>драма</td>\n",
       "      <td>0.550523</td>\n",
       "      <td>50000.0</td>\n",
       "      <td>0.000099</td>\n",
       "    </tr>\n",
       "    <tr>\n",
       "      <th>3146</th>\n",
       "      <td>Я-Учитель</td>\n",
       "      <td>111019715</td>\n",
       "      <td>2015-12-02 12:00:00</td>\n",
       "      <td>Художественный</td>\n",
       "      <td>НП Киностудия детских и юношеских фильмов \"Иль...</td>\n",
       "      <td>Россия</td>\n",
       "      <td>С.Мокрицкий</td>\n",
       "      <td>А.Ковтунец</td>\n",
       "      <td>«12+» - для детей старше 12 лет</td>\n",
       "      <td>0.0</td>\n",
       "      <td>...</td>\n",
       "      <td>Министерство культуры</td>\n",
       "      <td>7.4</td>\n",
       "      <td>мелодрама,комедия</td>\n",
       "      <td>1.6</td>\n",
       "      <td>2015</td>\n",
       "      <td>С.Мокрицкий</td>\n",
       "      <td>мелодрама</td>\n",
       "      <td>0.384615</td>\n",
       "      <td>35000.0</td>\n",
       "      <td>0.000018</td>\n",
       "    </tr>\n",
       "  </tbody>\n",
       "</table>\n",
       "<p>318 rows × 22 columns</p>\n",
       "</div>"
      ],
      "text/plain": [
       "                      title   puNumber     show_start_date            type  \\\n",
       "7429                  Холоп  111021719 2019-12-19 12:00:00  Художественный   \n",
       "5697                    Лёд  111000518 2018-02-01 12:00:00  Художественный   \n",
       "5738                Я худею  111001618 2018-03-07 12:00:00  Художественный   \n",
       "3225          Гуляй, Вася !  111018216 2016-12-20 12:00:00  Художественный   \n",
       "2055              Дуxless 2  111000415 2015-01-26 12:00:00  Художественный   \n",
       "...                     ...        ...                 ...             ...   \n",
       "3653      Простая история .  111011816 2016-07-19 12:00:00  Художественный   \n",
       "2524      Вдвоем на льдине.  111011015 2015-06-25 12:00:00  Художественный   \n",
       "2800  Битва с экстрасенсами  111011315 2015-07-20 12:00:00  Художественный   \n",
       "3500                День До  111010916 2016-07-06 12:00:00  Художественный   \n",
       "3146              Я-Учитель  111019715 2015-12-02 12:00:00  Художественный   \n",
       "\n",
       "                                            film_studio production_country  \\\n",
       "7429            ООО \"МЕМ-МЕДИА\" по заказу АО \"ВБД Груп\"             Россия   \n",
       "5697  ООО \"Водород 2011\", ООО \"Арт Пикчерс Студия\", ...             Россия   \n",
       "5738                  ООО \"Друг Друга\", ООО \"Ди Пи Джи\"             Россия   \n",
       "3225     ООО Кинокомпания \"Инвада Фильм\", АО \"ВБД Груп\"             Россия   \n",
       "2055  ООО \"Киностудия \"Слово\", ООО \"Арт Пикчерс Студия\"             Россия   \n",
       "...                                                 ...                ...   \n",
       "3653                                     ООО \"КИНОБЮРО\"             Россия   \n",
       "2524                ООО \"Первое творческое объединение\"             Россия   \n",
       "2800                     ООО \"КИНОДАНЦ\", ООО \"КИНОБАЙТ\"             Россия   \n",
       "3500          ООО \"Кинобюро\" по заказу ООО \"Среда и Ко\"             Россия   \n",
       "3146  НП Киностудия детских и юношеских фильмов \"Иль...             Россия   \n",
       "\n",
       "                                         director  \\\n",
       "7429                                    К.Шипенко   \n",
       "5697                                     О.Трофим   \n",
       "5738      А.Черномазов (псевдоним Алексей Нужный)   \n",
       "3225                                    Р.Каримов   \n",
       "2055                                   Р.Прыгунов   \n",
       "...                                           ...   \n",
       "3653                                  В.Татарский   \n",
       "2524                     Н.Джорджадзе, В.Игнатьев   \n",
       "2800                                   И.Кордзаия   \n",
       "3500  А.Котт, В.Котт, А.Карпиловский, Б.Хлебников   \n",
       "3146                                  С.Мокрицкий   \n",
       "\n",
       "                                               producer  \\\n",
       "7429  Э.Илоян, Д.Жалинский, В.Дусмухаметов, Т.Бадзие...   \n",
       "5697  М.Врубель, А.Андрющенко, Ф.Бондарчук, Д.Рудовс...   \n",
       "5738  С.Корнихин, Н.Куликов, А.Черномазов, А.Кремер,...   \n",
       "3225  А.Новиков, А.Котелевский, Э.Илоян, Д.Жалинский...   \n",
       "2055                 П.Ануров, Ф.Бондарчук, Д.Рудовский   \n",
       "...                                                 ...   \n",
       "3653                                          Ю.Бахшиев   \n",
       "2524                               П.Поляков, И.Букреев   \n",
       "2800                                        Е.Мелентьев   \n",
       "3500                                   А.Цекало, А.Котт   \n",
       "3146                                         А.Ковтунец   \n",
       "\n",
       "                      age_restriction  refundable_support  ...  \\\n",
       "7429  «12+» - для детей старше 12 лет             25000.0  ...   \n",
       "5697  «12+» - для детей старше 12 лет             25000.0  ...   \n",
       "5738  «16+» - для детей старше 16 лет                 0.0  ...   \n",
       "3225  «16+» - для детей старше 16 лет                 0.0  ...   \n",
       "2055  «16+» - для детей старше 16 лет                 0.0  ...   \n",
       "...                               ...                 ...  ...   \n",
       "3653  «16+» - для детей старше 16 лет                 0.0  ...   \n",
       "2524  «12+» - для детей старше 12 лет                 0.0  ...   \n",
       "2800  «12+» - для детей старше 12 лет                 0.0  ...   \n",
       "3500      «18+» - запрещено для детей             25000.0  ...   \n",
       "3146  «12+» - для детей старше 12 лет                 0.0  ...   \n",
       "\n",
       "                      financing_source  ratings               genres  \\\n",
       "7429                         Фонд кино      6.8              комедия   \n",
       "5697                         Фонд кино      NaN            не указан   \n",
       "5738             Министерство культуры      6.9              комедия   \n",
       "3225             Министерство культуры      6.5              комедия   \n",
       "2055                         Фонд кино      6.6                драма   \n",
       "...                                ...      ...                  ...   \n",
       "3653                         Фонд кино      7.8      драма,биография   \n",
       "2524             Министерство культуры      6.6            мелодрама   \n",
       "2800  Министерство культуры, Фонд кино      5.4  фэнтези,приключения   \n",
       "3500                         Фонд кино      4.8     драма,фантастика   \n",
       "3146             Министерство культуры      7.4    мелодрама,комедия   \n",
       "\n",
       "      box_office show_start_year                     first_value_director  \\\n",
       "7429   3073568.7            2019                                К.Шипенко   \n",
       "5697   1445731.8            2018                                 О.Трофим   \n",
       "5738    633462.3            2018  А.Черномазов (псевдоним Алексей Нужный)   \n",
       "3225    259099.1            2016                                Р.Каримов   \n",
       "2055    446163.5            2015                               Р.Прыгунов   \n",
       "...          ...             ...                                      ...   \n",
       "3653        58.7            2016                              В.Татарский   \n",
       "2524         4.4            2015                             Н.Джорджадзе   \n",
       "2800         6.0            2015                               И.Кордзаия   \n",
       "3500         9.0            2016                                   А.Котт   \n",
       "3146         1.6            2015                              С.Мокрицкий   \n",
       "\n",
       "      first_genres part_full_support full_support    payback  \n",
       "7429       комедия          0.375000      60000.0  19.209804  \n",
       "5697     не указан          0.572062      85000.0   9.729985  \n",
       "5738       комедия          0.342274      30000.0   7.227254  \n",
       "3225       комедия          0.649872      25345.0   6.643567  \n",
       "2055         драма          1.000000      75000.0   5.948847  \n",
       "...            ...               ...          ...        ...  \n",
       "3653         драма          0.355556      64000.0   0.000326  \n",
       "2524     мелодрама          0.698403      26500.0   0.000116  \n",
       "2800       фэнтези          0.434850      25900.0   0.000101  \n",
       "3500         драма          0.550523      50000.0   0.000099  \n",
       "3146     мелодрама          0.384615      35000.0   0.000018  \n",
       "\n",
       "[318 rows x 22 columns]"
      ]
     },
     "execution_count": 60,
     "metadata": {},
     "output_type": "execute_result"
    }
   ],
   "source": [
    "data2[data2['payback']>0].sort_values(by='payback',ascending=False)"
   ]
  },
  {
   "cell_type": "code",
   "execution_count": 61,
   "metadata": {},
   "outputs": [
    {
     "data": {
      "text/html": [
       "<div>\n",
       "<style scoped>\n",
       "    .dataframe tbody tr th:only-of-type {\n",
       "        vertical-align: middle;\n",
       "    }\n",
       "\n",
       "    .dataframe tbody tr th {\n",
       "        vertical-align: top;\n",
       "    }\n",
       "\n",
       "    .dataframe thead th {\n",
       "        text-align: right;\n",
       "    }\n",
       "</style>\n",
       "<table border=\"1\" class=\"dataframe\">\n",
       "  <thead>\n",
       "    <tr style=\"text-align: right;\">\n",
       "      <th></th>\n",
       "      <th>title</th>\n",
       "      <th>puNumber</th>\n",
       "      <th>show_start_date</th>\n",
       "      <th>type</th>\n",
       "      <th>film_studio</th>\n",
       "      <th>production_country</th>\n",
       "      <th>director</th>\n",
       "      <th>producer</th>\n",
       "      <th>age_restriction</th>\n",
       "      <th>refundable_support</th>\n",
       "      <th>...</th>\n",
       "      <th>financing_source</th>\n",
       "      <th>ratings</th>\n",
       "      <th>genres</th>\n",
       "      <th>box_office</th>\n",
       "      <th>show_start_year</th>\n",
       "      <th>first_value_director</th>\n",
       "      <th>first_genres</th>\n",
       "      <th>part_full_support</th>\n",
       "      <th>full_support</th>\n",
       "      <th>payback</th>\n",
       "    </tr>\n",
       "  </thead>\n",
       "  <tbody>\n",
       "    <tr>\n",
       "      <th>7429</th>\n",
       "      <td>Холоп</td>\n",
       "      <td>111021719</td>\n",
       "      <td>2019-12-19 12:00:00</td>\n",
       "      <td>Художественный</td>\n",
       "      <td>ООО \"МЕМ-МЕДИА\" по заказу АО \"ВБД Груп\"</td>\n",
       "      <td>Россия</td>\n",
       "      <td>К.Шипенко</td>\n",
       "      <td>Э.Илоян, Д.Жалинский, В.Дусмухаметов, Т.Бадзие...</td>\n",
       "      <td>«12+» - для детей старше 12 лет</td>\n",
       "      <td>25000.0</td>\n",
       "      <td>...</td>\n",
       "      <td>Фонд кино</td>\n",
       "      <td>6.8</td>\n",
       "      <td>комедия</td>\n",
       "      <td>3073568.7</td>\n",
       "      <td>2019</td>\n",
       "      <td>К.Шипенко</td>\n",
       "      <td>комедия</td>\n",
       "      <td>0.375000</td>\n",
       "      <td>60000.0</td>\n",
       "      <td>19.209804</td>\n",
       "    </tr>\n",
       "    <tr>\n",
       "      <th>5642</th>\n",
       "      <td>Движение вверх</td>\n",
       "      <td>111011817</td>\n",
       "      <td>2017-12-21 12:00:00</td>\n",
       "      <td>Художественный</td>\n",
       "      <td>ООО \"Студия \"ТРИТЭ\" Никиты Михалкова\"</td>\n",
       "      <td>Россия</td>\n",
       "      <td>А.Мегердичев</td>\n",
       "      <td>Л.Верещагин, А.Златопольский, Н.Михалков, ООО ...</td>\n",
       "      <td>«6+» - для детей старше 6 лет</td>\n",
       "      <td>0.0</td>\n",
       "      <td>...</td>\n",
       "      <td>Фонд кино</td>\n",
       "      <td>7.5</td>\n",
       "      <td>спорт,драма</td>\n",
       "      <td>2779686.1</td>\n",
       "      <td>2017</td>\n",
       "      <td>А.Мегердичев</td>\n",
       "      <td>спорт</td>\n",
       "      <td>0.677745</td>\n",
       "      <td>400000.0</td>\n",
       "      <td>4.709798</td>\n",
       "    </tr>\n",
       "    <tr>\n",
       "      <th>6526</th>\n",
       "      <td>Т-34</td>\n",
       "      <td>111024918</td>\n",
       "      <td>2018-12-21 12:00:00</td>\n",
       "      <td>Художественный</td>\n",
       "      <td>ООО \"Кинокомпания МАРС-фильм\" по заказу ООО \"М...</td>\n",
       "      <td>Россия</td>\n",
       "      <td>А.Сидоров</td>\n",
       "      <td>А.Златопольский, Р.Дишдишян, Л.Блаватник, Н.Яр...</td>\n",
       "      <td>«12+» - для детей старше 12 лет</td>\n",
       "      <td>60000.0</td>\n",
       "      <td>...</td>\n",
       "      <td>Фонд кино</td>\n",
       "      <td>6.5</td>\n",
       "      <td>драма,военный,боевик</td>\n",
       "      <td>2271754.0</td>\n",
       "      <td>2018</td>\n",
       "      <td>А.Сидоров</td>\n",
       "      <td>драма</td>\n",
       "      <td>0.319271</td>\n",
       "      <td>180000.0</td>\n",
       "      <td>4.029471</td>\n",
       "    </tr>\n",
       "    <tr>\n",
       "      <th>5494</th>\n",
       "      <td>Последний богатырь</td>\n",
       "      <td>111007017</td>\n",
       "      <td>2017-10-19 12:00:00</td>\n",
       "      <td>Художественный</td>\n",
       "      <td>ООО \"Киностудия \"Слово\" по заказу ООО \"Уолт Ди...</td>\n",
       "      <td>Россия</td>\n",
       "      <td>Д.Дьяченко</td>\n",
       "      <td>Э.Илоян, Д.Жалинский, М.Озкан, А.Троцюк, В.Шляппо</td>\n",
       "      <td>«12+» - для детей старше 12 лет</td>\n",
       "      <td>50000.0</td>\n",
       "      <td>...</td>\n",
       "      <td>Фонд кино</td>\n",
       "      <td>6.8</td>\n",
       "      <td>комедия,фэнтези,приключения</td>\n",
       "      <td>1655037.7</td>\n",
       "      <td>2017</td>\n",
       "      <td>Д.Дьяченко</td>\n",
       "      <td>комедия</td>\n",
       "      <td>0.283706</td>\n",
       "      <td>100000.0</td>\n",
       "      <td>4.695441</td>\n",
       "    </tr>\n",
       "    <tr>\n",
       "      <th>5697</th>\n",
       "      <td>Лёд</td>\n",
       "      <td>111000518</td>\n",
       "      <td>2018-02-01 12:00:00</td>\n",
       "      <td>Художественный</td>\n",
       "      <td>ООО \"Водород 2011\", ООО \"Арт Пикчерс Студия\", ...</td>\n",
       "      <td>Россия</td>\n",
       "      <td>О.Трофим</td>\n",
       "      <td>М.Врубель, А.Андрющенко, Ф.Бондарчук, Д.Рудовс...</td>\n",
       "      <td>«12+» - для детей старше 12 лет</td>\n",
       "      <td>25000.0</td>\n",
       "      <td>...</td>\n",
       "      <td>Фонд кино</td>\n",
       "      <td>NaN</td>\n",
       "      <td>не указан</td>\n",
       "      <td>1445731.8</td>\n",
       "      <td>2018</td>\n",
       "      <td>О.Трофим</td>\n",
       "      <td>не указан</td>\n",
       "      <td>0.572062</td>\n",
       "      <td>85000.0</td>\n",
       "      <td>9.729985</td>\n",
       "    </tr>\n",
       "    <tr>\n",
       "      <th>...</th>\n",
       "      <td>...</td>\n",
       "      <td>...</td>\n",
       "      <td>...</td>\n",
       "      <td>...</td>\n",
       "      <td>...</td>\n",
       "      <td>...</td>\n",
       "      <td>...</td>\n",
       "      <td>...</td>\n",
       "      <td>...</td>\n",
       "      <td>...</td>\n",
       "      <td>...</td>\n",
       "      <td>...</td>\n",
       "      <td>...</td>\n",
       "      <td>...</td>\n",
       "      <td>...</td>\n",
       "      <td>...</td>\n",
       "      <td>...</td>\n",
       "      <td>...</td>\n",
       "      <td>...</td>\n",
       "      <td>...</td>\n",
       "      <td>...</td>\n",
       "    </tr>\n",
       "    <tr>\n",
       "      <th>2147</th>\n",
       "      <td>РЕВЕРБЕРАЦИЯ</td>\n",
       "      <td>111003515</td>\n",
       "      <td>2015-03-30 12:00:00</td>\n",
       "      <td>Художественный</td>\n",
       "      <td>ООО \"Артлайт\"</td>\n",
       "      <td>Россия</td>\n",
       "      <td>К.Сухарьков</td>\n",
       "      <td>А.Новиков</td>\n",
       "      <td>«18+» - запрещено для детей</td>\n",
       "      <td>0.0</td>\n",
       "      <td>...</td>\n",
       "      <td>Министерство культуры</td>\n",
       "      <td>NaN</td>\n",
       "      <td>не указан</td>\n",
       "      <td>19.8</td>\n",
       "      <td>2015</td>\n",
       "      <td>К.Сухарьков</td>\n",
       "      <td>не указан</td>\n",
       "      <td>0.668963</td>\n",
       "      <td>25000.0</td>\n",
       "      <td>0.000530</td>\n",
       "    </tr>\n",
       "    <tr>\n",
       "      <th>3500</th>\n",
       "      <td>День До</td>\n",
       "      <td>111010916</td>\n",
       "      <td>2016-07-06 12:00:00</td>\n",
       "      <td>Художественный</td>\n",
       "      <td>ООО \"Кинобюро\" по заказу ООО \"Среда и Ко\"</td>\n",
       "      <td>Россия</td>\n",
       "      <td>А.Котт, В.Котт, А.Карпиловский, Б.Хлебников</td>\n",
       "      <td>А.Цекало, А.Котт</td>\n",
       "      <td>«18+» - запрещено для детей</td>\n",
       "      <td>25000.0</td>\n",
       "      <td>...</td>\n",
       "      <td>Фонд кино</td>\n",
       "      <td>4.8</td>\n",
       "      <td>драма,фантастика</td>\n",
       "      <td>9.0</td>\n",
       "      <td>2016</td>\n",
       "      <td>А.Котт</td>\n",
       "      <td>драма</td>\n",
       "      <td>0.550523</td>\n",
       "      <td>50000.0</td>\n",
       "      <td>0.000099</td>\n",
       "    </tr>\n",
       "    <tr>\n",
       "      <th>2800</th>\n",
       "      <td>Битва с экстрасенсами</td>\n",
       "      <td>111011315</td>\n",
       "      <td>2015-07-20 12:00:00</td>\n",
       "      <td>Художественный</td>\n",
       "      <td>ООО \"КИНОДАНЦ\", ООО \"КИНОБАЙТ\"</td>\n",
       "      <td>Россия</td>\n",
       "      <td>И.Кордзаия</td>\n",
       "      <td>Е.Мелентьев</td>\n",
       "      <td>«12+» - для детей старше 12 лет</td>\n",
       "      <td>0.0</td>\n",
       "      <td>...</td>\n",
       "      <td>Министерство культуры, Фонд кино</td>\n",
       "      <td>5.4</td>\n",
       "      <td>фэнтези,приключения</td>\n",
       "      <td>6.0</td>\n",
       "      <td>2015</td>\n",
       "      <td>И.Кордзаия</td>\n",
       "      <td>фэнтези</td>\n",
       "      <td>0.434850</td>\n",
       "      <td>25900.0</td>\n",
       "      <td>0.000101</td>\n",
       "    </tr>\n",
       "    <tr>\n",
       "      <th>2524</th>\n",
       "      <td>Вдвоем на льдине.</td>\n",
       "      <td>111011015</td>\n",
       "      <td>2015-06-25 12:00:00</td>\n",
       "      <td>Художественный</td>\n",
       "      <td>ООО \"Первое творческое объединение\"</td>\n",
       "      <td>Россия</td>\n",
       "      <td>Н.Джорджадзе, В.Игнатьев</td>\n",
       "      <td>П.Поляков, И.Букреев</td>\n",
       "      <td>«12+» - для детей старше 12 лет</td>\n",
       "      <td>0.0</td>\n",
       "      <td>...</td>\n",
       "      <td>Министерство культуры</td>\n",
       "      <td>6.6</td>\n",
       "      <td>мелодрама</td>\n",
       "      <td>4.4</td>\n",
       "      <td>2015</td>\n",
       "      <td>Н.Джорджадзе</td>\n",
       "      <td>мелодрама</td>\n",
       "      <td>0.698403</td>\n",
       "      <td>26500.0</td>\n",
       "      <td>0.000116</td>\n",
       "    </tr>\n",
       "    <tr>\n",
       "      <th>3146</th>\n",
       "      <td>Я-Учитель</td>\n",
       "      <td>111019715</td>\n",
       "      <td>2015-12-02 12:00:00</td>\n",
       "      <td>Художественный</td>\n",
       "      <td>НП Киностудия детских и юношеских фильмов \"Иль...</td>\n",
       "      <td>Россия</td>\n",
       "      <td>С.Мокрицкий</td>\n",
       "      <td>А.Ковтунец</td>\n",
       "      <td>«12+» - для детей старше 12 лет</td>\n",
       "      <td>0.0</td>\n",
       "      <td>...</td>\n",
       "      <td>Министерство культуры</td>\n",
       "      <td>7.4</td>\n",
       "      <td>мелодрама,комедия</td>\n",
       "      <td>1.6</td>\n",
       "      <td>2015</td>\n",
       "      <td>С.Мокрицкий</td>\n",
       "      <td>мелодрама</td>\n",
       "      <td>0.384615</td>\n",
       "      <td>35000.0</td>\n",
       "      <td>0.000018</td>\n",
       "    </tr>\n",
       "  </tbody>\n",
       "</table>\n",
       "<p>318 rows × 22 columns</p>\n",
       "</div>"
      ],
      "text/plain": [
       "                      title   puNumber     show_start_date            type  \\\n",
       "7429                  Холоп  111021719 2019-12-19 12:00:00  Художественный   \n",
       "5642         Движение вверх  111011817 2017-12-21 12:00:00  Художественный   \n",
       "6526                   Т-34  111024918 2018-12-21 12:00:00  Художественный   \n",
       "5494     Последний богатырь  111007017 2017-10-19 12:00:00  Художественный   \n",
       "5697                    Лёд  111000518 2018-02-01 12:00:00  Художественный   \n",
       "...                     ...        ...                 ...             ...   \n",
       "2147           РЕВЕРБЕРАЦИЯ  111003515 2015-03-30 12:00:00  Художественный   \n",
       "3500                День До  111010916 2016-07-06 12:00:00  Художественный   \n",
       "2800  Битва с экстрасенсами  111011315 2015-07-20 12:00:00  Художественный   \n",
       "2524      Вдвоем на льдине.  111011015 2015-06-25 12:00:00  Художественный   \n",
       "3146              Я-Учитель  111019715 2015-12-02 12:00:00  Художественный   \n",
       "\n",
       "                                            film_studio production_country  \\\n",
       "7429            ООО \"МЕМ-МЕДИА\" по заказу АО \"ВБД Груп\"             Россия   \n",
       "5642              ООО \"Студия \"ТРИТЭ\" Никиты Михалкова\"             Россия   \n",
       "6526  ООО \"Кинокомпания МАРС-фильм\" по заказу ООО \"М...             Россия   \n",
       "5494  ООО \"Киностудия \"Слово\" по заказу ООО \"Уолт Ди...             Россия   \n",
       "5697  ООО \"Водород 2011\", ООО \"Арт Пикчерс Студия\", ...             Россия   \n",
       "...                                                 ...                ...   \n",
       "2147                                      ООО \"Артлайт\"             Россия   \n",
       "3500          ООО \"Кинобюро\" по заказу ООО \"Среда и Ко\"             Россия   \n",
       "2800                     ООО \"КИНОДАНЦ\", ООО \"КИНОБАЙТ\"             Россия   \n",
       "2524                ООО \"Первое творческое объединение\"             Россия   \n",
       "3146  НП Киностудия детских и юношеских фильмов \"Иль...             Россия   \n",
       "\n",
       "                                         director  \\\n",
       "7429                                    К.Шипенко   \n",
       "5642                                 А.Мегердичев   \n",
       "6526                                    А.Сидоров   \n",
       "5494                                   Д.Дьяченко   \n",
       "5697                                     О.Трофим   \n",
       "...                                           ...   \n",
       "2147                                  К.Сухарьков   \n",
       "3500  А.Котт, В.Котт, А.Карпиловский, Б.Хлебников   \n",
       "2800                                   И.Кордзаия   \n",
       "2524                     Н.Джорджадзе, В.Игнатьев   \n",
       "3146                                  С.Мокрицкий   \n",
       "\n",
       "                                               producer  \\\n",
       "7429  Э.Илоян, Д.Жалинский, В.Дусмухаметов, Т.Бадзие...   \n",
       "5642  Л.Верещагин, А.Златопольский, Н.Михалков, ООО ...   \n",
       "6526  А.Златопольский, Р.Дишдишян, Л.Блаватник, Н.Яр...   \n",
       "5494  Э.Илоян, Д.Жалинский, М.Озкан, А.Троцюк, В.Шляппо   \n",
       "5697  М.Врубель, А.Андрющенко, Ф.Бондарчук, Д.Рудовс...   \n",
       "...                                                 ...   \n",
       "2147                                          А.Новиков   \n",
       "3500                                   А.Цекало, А.Котт   \n",
       "2800                                        Е.Мелентьев   \n",
       "2524                               П.Поляков, И.Букреев   \n",
       "3146                                         А.Ковтунец   \n",
       "\n",
       "                      age_restriction  refundable_support  ...  \\\n",
       "7429  «12+» - для детей старше 12 лет             25000.0  ...   \n",
       "5642    «6+» - для детей старше 6 лет                 0.0  ...   \n",
       "6526  «12+» - для детей старше 12 лет             60000.0  ...   \n",
       "5494  «12+» - для детей старше 12 лет             50000.0  ...   \n",
       "5697  «12+» - для детей старше 12 лет             25000.0  ...   \n",
       "...                               ...                 ...  ...   \n",
       "2147      «18+» - запрещено для детей                 0.0  ...   \n",
       "3500      «18+» - запрещено для детей             25000.0  ...   \n",
       "2800  «12+» - для детей старше 12 лет                 0.0  ...   \n",
       "2524  «12+» - для детей старше 12 лет                 0.0  ...   \n",
       "3146  «12+» - для детей старше 12 лет                 0.0  ...   \n",
       "\n",
       "                      financing_source  ratings                       genres  \\\n",
       "7429                         Фонд кино      6.8                      комедия   \n",
       "5642                         Фонд кино      7.5                  спорт,драма   \n",
       "6526                         Фонд кино      6.5         драма,военный,боевик   \n",
       "5494                         Фонд кино      6.8  комедия,фэнтези,приключения   \n",
       "5697                         Фонд кино      NaN                    не указан   \n",
       "...                                ...      ...                          ...   \n",
       "2147             Министерство культуры      NaN                    не указан   \n",
       "3500                         Фонд кино      4.8             драма,фантастика   \n",
       "2800  Министерство культуры, Фонд кино      5.4          фэнтези,приключения   \n",
       "2524             Министерство культуры      6.6                    мелодрама   \n",
       "3146             Министерство культуры      7.4            мелодрама,комедия   \n",
       "\n",
       "      box_office show_start_year  first_value_director  first_genres  \\\n",
       "7429   3073568.7            2019             К.Шипенко       комедия   \n",
       "5642   2779686.1            2017          А.Мегердичев         спорт   \n",
       "6526   2271754.0            2018             А.Сидоров         драма   \n",
       "5494   1655037.7            2017            Д.Дьяченко       комедия   \n",
       "5697   1445731.8            2018              О.Трофим     не указан   \n",
       "...          ...             ...                   ...           ...   \n",
       "2147        19.8            2015           К.Сухарьков     не указан   \n",
       "3500         9.0            2016                А.Котт         драма   \n",
       "2800         6.0            2015            И.Кордзаия       фэнтези   \n",
       "2524         4.4            2015          Н.Джорджадзе     мелодрама   \n",
       "3146         1.6            2015           С.Мокрицкий     мелодрама   \n",
       "\n",
       "     part_full_support full_support    payback  \n",
       "7429          0.375000      60000.0  19.209804  \n",
       "5642          0.677745     400000.0   4.709798  \n",
       "6526          0.319271     180000.0   4.029471  \n",
       "5494          0.283706     100000.0   4.695441  \n",
       "5697          0.572062      85000.0   9.729985  \n",
       "...                ...          ...        ...  \n",
       "2147          0.668963      25000.0   0.000530  \n",
       "3500          0.550523      50000.0   0.000099  \n",
       "2800          0.434850      25900.0   0.000101  \n",
       "2524          0.698403      26500.0   0.000116  \n",
       "3146          0.384615      35000.0   0.000018  \n",
       "\n",
       "[318 rows x 22 columns]"
      ]
     },
     "execution_count": 61,
     "metadata": {},
     "output_type": "execute_result"
    }
   ],
   "source": [
    "data2.dropna(subset=['payback'])"
   ]
  },
  {
   "cell_type": "markdown",
   "metadata": {},
   "source": [
    "Посмотрим поподробнее фильмы, которые окупились полностью"
   ]
  },
  {
   "cell_type": "code",
   "execution_count": 62,
   "metadata": {},
   "outputs": [
    {
     "data": {
      "text/html": [
       "<div>\n",
       "<style scoped>\n",
       "    .dataframe tbody tr th:only-of-type {\n",
       "        vertical-align: middle;\n",
       "    }\n",
       "\n",
       "    .dataframe tbody tr th {\n",
       "        vertical-align: top;\n",
       "    }\n",
       "\n",
       "    .dataframe thead th {\n",
       "        text-align: right;\n",
       "    }\n",
       "</style>\n",
       "<table border=\"1\" class=\"dataframe\">\n",
       "  <thead>\n",
       "    <tr style=\"text-align: right;\">\n",
       "      <th></th>\n",
       "      <th>title</th>\n",
       "      <th>puNumber</th>\n",
       "      <th>show_start_date</th>\n",
       "      <th>type</th>\n",
       "      <th>film_studio</th>\n",
       "      <th>production_country</th>\n",
       "      <th>director</th>\n",
       "      <th>producer</th>\n",
       "      <th>age_restriction</th>\n",
       "      <th>refundable_support</th>\n",
       "      <th>...</th>\n",
       "      <th>financing_source</th>\n",
       "      <th>ratings</th>\n",
       "      <th>genres</th>\n",
       "      <th>box_office</th>\n",
       "      <th>show_start_year</th>\n",
       "      <th>first_value_director</th>\n",
       "      <th>first_genres</th>\n",
       "      <th>part_full_support</th>\n",
       "      <th>full_support</th>\n",
       "      <th>payback</th>\n",
       "    </tr>\n",
       "  </thead>\n",
       "  <tbody>\n",
       "    <tr>\n",
       "      <th>7429</th>\n",
       "      <td>Холоп</td>\n",
       "      <td>111021719</td>\n",
       "      <td>2019-12-19 12:00:00</td>\n",
       "      <td>Художественный</td>\n",
       "      <td>ООО \"МЕМ-МЕДИА\" по заказу АО \"ВБД Груп\"</td>\n",
       "      <td>Россия</td>\n",
       "      <td>К.Шипенко</td>\n",
       "      <td>Э.Илоян, Д.Жалинский, В.Дусмухаметов, Т.Бадзие...</td>\n",
       "      <td>«12+» - для детей старше 12 лет</td>\n",
       "      <td>25000.0</td>\n",
       "      <td>...</td>\n",
       "      <td>Фонд кино</td>\n",
       "      <td>6.8</td>\n",
       "      <td>комедия</td>\n",
       "      <td>3073568.7</td>\n",
       "      <td>2019</td>\n",
       "      <td>К.Шипенко</td>\n",
       "      <td>комедия</td>\n",
       "      <td>0.375000</td>\n",
       "      <td>60000.0</td>\n",
       "      <td>19.209804</td>\n",
       "    </tr>\n",
       "    <tr>\n",
       "      <th>5642</th>\n",
       "      <td>Движение вверх</td>\n",
       "      <td>111011817</td>\n",
       "      <td>2017-12-21 12:00:00</td>\n",
       "      <td>Художественный</td>\n",
       "      <td>ООО \"Студия \"ТРИТЭ\" Никиты Михалкова\"</td>\n",
       "      <td>Россия</td>\n",
       "      <td>А.Мегердичев</td>\n",
       "      <td>Л.Верещагин, А.Златопольский, Н.Михалков, ООО ...</td>\n",
       "      <td>«6+» - для детей старше 6 лет</td>\n",
       "      <td>0.0</td>\n",
       "      <td>...</td>\n",
       "      <td>Фонд кино</td>\n",
       "      <td>7.5</td>\n",
       "      <td>спорт,драма</td>\n",
       "      <td>2779686.1</td>\n",
       "      <td>2017</td>\n",
       "      <td>А.Мегердичев</td>\n",
       "      <td>спорт</td>\n",
       "      <td>0.677745</td>\n",
       "      <td>400000.0</td>\n",
       "      <td>4.709798</td>\n",
       "    </tr>\n",
       "    <tr>\n",
       "      <th>6526</th>\n",
       "      <td>Т-34</td>\n",
       "      <td>111024918</td>\n",
       "      <td>2018-12-21 12:00:00</td>\n",
       "      <td>Художественный</td>\n",
       "      <td>ООО \"Кинокомпания МАРС-фильм\" по заказу ООО \"М...</td>\n",
       "      <td>Россия</td>\n",
       "      <td>А.Сидоров</td>\n",
       "      <td>А.Златопольский, Р.Дишдишян, Л.Блаватник, Н.Яр...</td>\n",
       "      <td>«12+» - для детей старше 12 лет</td>\n",
       "      <td>60000.0</td>\n",
       "      <td>...</td>\n",
       "      <td>Фонд кино</td>\n",
       "      <td>6.5</td>\n",
       "      <td>драма,военный,боевик</td>\n",
       "      <td>2271754.0</td>\n",
       "      <td>2018</td>\n",
       "      <td>А.Сидоров</td>\n",
       "      <td>драма</td>\n",
       "      <td>0.319271</td>\n",
       "      <td>180000.0</td>\n",
       "      <td>4.029471</td>\n",
       "    </tr>\n",
       "    <tr>\n",
       "      <th>5494</th>\n",
       "      <td>Последний богатырь</td>\n",
       "      <td>111007017</td>\n",
       "      <td>2017-10-19 12:00:00</td>\n",
       "      <td>Художественный</td>\n",
       "      <td>ООО \"Киностудия \"Слово\" по заказу ООО \"Уолт Ди...</td>\n",
       "      <td>Россия</td>\n",
       "      <td>Д.Дьяченко</td>\n",
       "      <td>Э.Илоян, Д.Жалинский, М.Озкан, А.Троцюк, В.Шляппо</td>\n",
       "      <td>«12+» - для детей старше 12 лет</td>\n",
       "      <td>50000.0</td>\n",
       "      <td>...</td>\n",
       "      <td>Фонд кино</td>\n",
       "      <td>6.8</td>\n",
       "      <td>комедия,фэнтези,приключения</td>\n",
       "      <td>1655037.7</td>\n",
       "      <td>2017</td>\n",
       "      <td>Д.Дьяченко</td>\n",
       "      <td>комедия</td>\n",
       "      <td>0.283706</td>\n",
       "      <td>100000.0</td>\n",
       "      <td>4.695441</td>\n",
       "    </tr>\n",
       "    <tr>\n",
       "      <th>5697</th>\n",
       "      <td>Лёд</td>\n",
       "      <td>111000518</td>\n",
       "      <td>2018-02-01 12:00:00</td>\n",
       "      <td>Художественный</td>\n",
       "      <td>ООО \"Водород 2011\", ООО \"Арт Пикчерс Студия\", ...</td>\n",
       "      <td>Россия</td>\n",
       "      <td>О.Трофим</td>\n",
       "      <td>М.Врубель, А.Андрющенко, Ф.Бондарчук, Д.Рудовс...</td>\n",
       "      <td>«12+» - для детей старше 12 лет</td>\n",
       "      <td>25000.0</td>\n",
       "      <td>...</td>\n",
       "      <td>Фонд кино</td>\n",
       "      <td>NaN</td>\n",
       "      <td>не указан</td>\n",
       "      <td>1445731.8</td>\n",
       "      <td>2018</td>\n",
       "      <td>О.Трофим</td>\n",
       "      <td>не указан</td>\n",
       "      <td>0.572062</td>\n",
       "      <td>85000.0</td>\n",
       "      <td>9.729985</td>\n",
       "    </tr>\n",
       "    <tr>\n",
       "      <th>...</th>\n",
       "      <td>...</td>\n",
       "      <td>...</td>\n",
       "      <td>...</td>\n",
       "      <td>...</td>\n",
       "      <td>...</td>\n",
       "      <td>...</td>\n",
       "      <td>...</td>\n",
       "      <td>...</td>\n",
       "      <td>...</td>\n",
       "      <td>...</td>\n",
       "      <td>...</td>\n",
       "      <td>...</td>\n",
       "      <td>...</td>\n",
       "      <td>...</td>\n",
       "      <td>...</td>\n",
       "      <td>...</td>\n",
       "      <td>...</td>\n",
       "      <td>...</td>\n",
       "      <td>...</td>\n",
       "      <td>...</td>\n",
       "      <td>...</td>\n",
       "    </tr>\n",
       "    <tr>\n",
       "      <th>2529</th>\n",
       "      <td>Бармен.</td>\n",
       "      <td>111009615</td>\n",
       "      <td>2015-05-26 12:00:00</td>\n",
       "      <td>Художественный</td>\n",
       "      <td>АО \"ВайТ Медиа\", ООО \"Арт Пикчерс Студия\"</td>\n",
       "      <td>Россия</td>\n",
       "      <td>Д.Штурманова</td>\n",
       "      <td>Т.Вайнштейн</td>\n",
       "      <td>«16+» - для детей старше 16 лет</td>\n",
       "      <td>20000.0</td>\n",
       "      <td>...</td>\n",
       "      <td>Фонд кино</td>\n",
       "      <td>6.2</td>\n",
       "      <td>комедия,фэнтези</td>\n",
       "      <td>67419.0</td>\n",
       "      <td>2015</td>\n",
       "      <td>Д.Штурманова</td>\n",
       "      <td>комедия</td>\n",
       "      <td>1.000000</td>\n",
       "      <td>20000.0</td>\n",
       "      <td>3.370950</td>\n",
       "    </tr>\n",
       "    <tr>\n",
       "      <th>3605</th>\n",
       "      <td>Все о мужчинах</td>\n",
       "      <td>111012716</td>\n",
       "      <td>2016-08-17 12:00:00</td>\n",
       "      <td>Художественный</td>\n",
       "      <td>ООО \"Фреш-Фильм\", ООО \"Энджой мувиз\"</td>\n",
       "      <td>Россия</td>\n",
       "      <td>Л.Марголин, С.Андреасян, М.Жерневский</td>\n",
       "      <td>С.Андреасян, Г.Андреасян, А.Ананикян, М.Галуст...</td>\n",
       "      <td>«16+» - для детей старше 16 лет</td>\n",
       "      <td>10000.0</td>\n",
       "      <td>...</td>\n",
       "      <td>Фонд кино</td>\n",
       "      <td>4.9</td>\n",
       "      <td>комедия</td>\n",
       "      <td>62260.9</td>\n",
       "      <td>2016</td>\n",
       "      <td>Л.Марголин</td>\n",
       "      <td>комедия</td>\n",
       "      <td>0.638869</td>\n",
       "      <td>20000.0</td>\n",
       "      <td>1.988829</td>\n",
       "    </tr>\n",
       "    <tr>\n",
       "      <th>3671</th>\n",
       "      <td>Чудо-юдо</td>\n",
       "      <td>114001817</td>\n",
       "      <td>2017-06-27 12:00:00</td>\n",
       "      <td>Анимационный</td>\n",
       "      <td>ООО \"КиноФирма\"</td>\n",
       "      <td>Россия</td>\n",
       "      <td>А.Лукичев</td>\n",
       "      <td>ООО \"КиноФирма\"</td>\n",
       "      <td>«6+» - для детей старше 6 лет</td>\n",
       "      <td>20000.0</td>\n",
       "      <td>...</td>\n",
       "      <td>Фонд кино</td>\n",
       "      <td>5.2</td>\n",
       "      <td>мультфильм,фэнтези,семейный</td>\n",
       "      <td>55108.0</td>\n",
       "      <td>2017</td>\n",
       "      <td>А.Лукичев</td>\n",
       "      <td>мультфильм</td>\n",
       "      <td>1.000000</td>\n",
       "      <td>40000.0</td>\n",
       "      <td>1.377700</td>\n",
       "    </tr>\n",
       "    <tr>\n",
       "      <th>3735</th>\n",
       "      <td>Мифы</td>\n",
       "      <td>111004317</td>\n",
       "      <td>2017-06-07 12:00:00</td>\n",
       "      <td>Художественный</td>\n",
       "      <td>ООО \"ХАЙПФИЛМ\", ООО \"Арт Пикчерс Студия\"</td>\n",
       "      <td>Россия</td>\n",
       "      <td>А.Молочников</td>\n",
       "      <td>Ф.Бондарчук, Д.Рудовский, И.Стюарт, М.Османн, ...</td>\n",
       "      <td>«16+» - для детей старше 16 лет</td>\n",
       "      <td>25000.0</td>\n",
       "      <td>...</td>\n",
       "      <td>Фонд кино</td>\n",
       "      <td>4.8</td>\n",
       "      <td>комедия</td>\n",
       "      <td>50451.9</td>\n",
       "      <td>2017</td>\n",
       "      <td>А.Молочников</td>\n",
       "      <td>комедия</td>\n",
       "      <td>1.000000</td>\n",
       "      <td>45000.0</td>\n",
       "      <td>1.121153</td>\n",
       "    </tr>\n",
       "    <tr>\n",
       "      <th>2871</th>\n",
       "      <td>Помню - не помню!</td>\n",
       "      <td>111004916</td>\n",
       "      <td>2016-03-01 12:00:00</td>\n",
       "      <td>Художественный</td>\n",
       "      <td>ООО \"КиноФирма\"</td>\n",
       "      <td>Россия</td>\n",
       "      <td>В.Ровенский</td>\n",
       "      <td>ООО \"КиноФирма\"</td>\n",
       "      <td>«12+» - для детей старше 12 лет</td>\n",
       "      <td>0.0</td>\n",
       "      <td>...</td>\n",
       "      <td>Министерство культуры</td>\n",
       "      <td>4.3</td>\n",
       "      <td>комедия</td>\n",
       "      <td>15362.9</td>\n",
       "      <td>2016</td>\n",
       "      <td>В.Ровенский</td>\n",
       "      <td>комедия</td>\n",
       "      <td>1.000000</td>\n",
       "      <td>6000.0</td>\n",
       "      <td>2.560483</td>\n",
       "    </tr>\n",
       "  </tbody>\n",
       "</table>\n",
       "<p>79 rows × 22 columns</p>\n",
       "</div>"
      ],
      "text/plain": [
       "                   title   puNumber     show_start_date            type  \\\n",
       "7429               Холоп  111021719 2019-12-19 12:00:00  Художественный   \n",
       "5642      Движение вверх  111011817 2017-12-21 12:00:00  Художественный   \n",
       "6526                Т-34  111024918 2018-12-21 12:00:00  Художественный   \n",
       "5494  Последний богатырь  111007017 2017-10-19 12:00:00  Художественный   \n",
       "5697                 Лёд  111000518 2018-02-01 12:00:00  Художественный   \n",
       "...                  ...        ...                 ...             ...   \n",
       "2529             Бармен.  111009615 2015-05-26 12:00:00  Художественный   \n",
       "3605      Все о мужчинах  111012716 2016-08-17 12:00:00  Художественный   \n",
       "3671            Чудо-юдо  114001817 2017-06-27 12:00:00    Анимационный   \n",
       "3735                Мифы  111004317 2017-06-07 12:00:00  Художественный   \n",
       "2871   Помню - не помню!  111004916 2016-03-01 12:00:00  Художественный   \n",
       "\n",
       "                                            film_studio production_country  \\\n",
       "7429            ООО \"МЕМ-МЕДИА\" по заказу АО \"ВБД Груп\"             Россия   \n",
       "5642              ООО \"Студия \"ТРИТЭ\" Никиты Михалкова\"             Россия   \n",
       "6526  ООО \"Кинокомпания МАРС-фильм\" по заказу ООО \"М...             Россия   \n",
       "5494  ООО \"Киностудия \"Слово\" по заказу ООО \"Уолт Ди...             Россия   \n",
       "5697  ООО \"Водород 2011\", ООО \"Арт Пикчерс Студия\", ...             Россия   \n",
       "...                                                 ...                ...   \n",
       "2529          АО \"ВайТ Медиа\", ООО \"Арт Пикчерс Студия\"             Россия   \n",
       "3605               ООО \"Фреш-Фильм\", ООО \"Энджой мувиз\"             Россия   \n",
       "3671                                    ООО \"КиноФирма\"             Россия   \n",
       "3735           ООО \"ХАЙПФИЛМ\", ООО \"Арт Пикчерс Студия\"             Россия   \n",
       "2871                                    ООО \"КиноФирма\"             Россия   \n",
       "\n",
       "                                   director  \\\n",
       "7429                              К.Шипенко   \n",
       "5642                           А.Мегердичев   \n",
       "6526                              А.Сидоров   \n",
       "5494                             Д.Дьяченко   \n",
       "5697                               О.Трофим   \n",
       "...                                     ...   \n",
       "2529                           Д.Штурманова   \n",
       "3605  Л.Марголин, С.Андреасян, М.Жерневский   \n",
       "3671                              А.Лукичев   \n",
       "3735                           А.Молочников   \n",
       "2871                            В.Ровенский   \n",
       "\n",
       "                                               producer  \\\n",
       "7429  Э.Илоян, Д.Жалинский, В.Дусмухаметов, Т.Бадзие...   \n",
       "5642  Л.Верещагин, А.Златопольский, Н.Михалков, ООО ...   \n",
       "6526  А.Златопольский, Р.Дишдишян, Л.Блаватник, Н.Яр...   \n",
       "5494  Э.Илоян, Д.Жалинский, М.Озкан, А.Троцюк, В.Шляппо   \n",
       "5697  М.Врубель, А.Андрющенко, Ф.Бондарчук, Д.Рудовс...   \n",
       "...                                                 ...   \n",
       "2529                                        Т.Вайнштейн   \n",
       "3605  С.Андреасян, Г.Андреасян, А.Ананикян, М.Галуст...   \n",
       "3671                                    ООО \"КиноФирма\"   \n",
       "3735  Ф.Бондарчук, Д.Рудовский, И.Стюарт, М.Османн, ...   \n",
       "2871                                    ООО \"КиноФирма\"   \n",
       "\n",
       "                      age_restriction  refundable_support  ...  \\\n",
       "7429  «12+» - для детей старше 12 лет             25000.0  ...   \n",
       "5642    «6+» - для детей старше 6 лет                 0.0  ...   \n",
       "6526  «12+» - для детей старше 12 лет             60000.0  ...   \n",
       "5494  «12+» - для детей старше 12 лет             50000.0  ...   \n",
       "5697  «12+» - для детей старше 12 лет             25000.0  ...   \n",
       "...                               ...                 ...  ...   \n",
       "2529  «16+» - для детей старше 16 лет             20000.0  ...   \n",
       "3605  «16+» - для детей старше 16 лет             10000.0  ...   \n",
       "3671    «6+» - для детей старше 6 лет             20000.0  ...   \n",
       "3735  «16+» - для детей старше 16 лет             25000.0  ...   \n",
       "2871  «12+» - для детей старше 12 лет                 0.0  ...   \n",
       "\n",
       "           financing_source  ratings                       genres  box_office  \\\n",
       "7429              Фонд кино      6.8                      комедия   3073568.7   \n",
       "5642              Фонд кино      7.5                  спорт,драма   2779686.1   \n",
       "6526              Фонд кино      6.5         драма,военный,боевик   2271754.0   \n",
       "5494              Фонд кино      6.8  комедия,фэнтези,приключения   1655037.7   \n",
       "5697              Фонд кино      NaN                    не указан   1445731.8   \n",
       "...                     ...      ...                          ...         ...   \n",
       "2529              Фонд кино      6.2              комедия,фэнтези     67419.0   \n",
       "3605              Фонд кино      4.9                      комедия     62260.9   \n",
       "3671              Фонд кино      5.2  мультфильм,фэнтези,семейный     55108.0   \n",
       "3735              Фонд кино      4.8                      комедия     50451.9   \n",
       "2871  Министерство культуры      4.3                      комедия     15362.9   \n",
       "\n",
       "     show_start_year  first_value_director  first_genres part_full_support  \\\n",
       "7429            2019             К.Шипенко       комедия          0.375000   \n",
       "5642            2017          А.Мегердичев         спорт          0.677745   \n",
       "6526            2018             А.Сидоров         драма          0.319271   \n",
       "5494            2017            Д.Дьяченко       комедия          0.283706   \n",
       "5697            2018              О.Трофим     не указан          0.572062   \n",
       "...              ...                   ...           ...               ...   \n",
       "2529            2015          Д.Штурманова       комедия          1.000000   \n",
       "3605            2016            Л.Марголин       комедия          0.638869   \n",
       "3671            2017             А.Лукичев    мультфильм          1.000000   \n",
       "3735            2017          А.Молочников       комедия          1.000000   \n",
       "2871            2016           В.Ровенский       комедия          1.000000   \n",
       "\n",
       "     full_support    payback  \n",
       "7429      60000.0  19.209804  \n",
       "5642     400000.0   4.709798  \n",
       "6526     180000.0   4.029471  \n",
       "5494     100000.0   4.695441  \n",
       "5697      85000.0   9.729985  \n",
       "...           ...        ...  \n",
       "2529      20000.0   3.370950  \n",
       "3605      20000.0   1.988829  \n",
       "3671      40000.0   1.377700  \n",
       "3735      45000.0   1.121153  \n",
       "2871       6000.0   2.560483  \n",
       "\n",
       "[79 rows x 22 columns]"
      ]
     },
     "execution_count": 62,
     "metadata": {},
     "output_type": "execute_result"
    }
   ],
   "source": [
    "queen_films = data2.query('payback>=1.0').copy()\n",
    "queen_films\n"
   ]
  },
  {
   "cell_type": "code",
   "execution_count": 63,
   "metadata": {},
   "outputs": [],
   "source": [
    "queen_films['payback'] = queen_films['payback'].replace(float('inf'), np.nan)"
   ]
  },
  {
   "cell_type": "markdown",
   "metadata": {},
   "source": [
    "Всего 83 фильма окупились полностью. А Холоп аж в 19 раз!!!!!!!"
   ]
  },
  {
   "cell_type": "code",
   "execution_count": 64,
   "metadata": {},
   "outputs": [
    {
     "data": {
      "text/html": [
       "<div>\n",
       "<style scoped>\n",
       "    .dataframe tbody tr th:only-of-type {\n",
       "        vertical-align: middle;\n",
       "    }\n",
       "\n",
       "    .dataframe tbody tr th {\n",
       "        vertical-align: top;\n",
       "    }\n",
       "\n",
       "    .dataframe thead th {\n",
       "        text-align: right;\n",
       "    }\n",
       "</style>\n",
       "<table border=\"1\" class=\"dataframe\">\n",
       "  <thead>\n",
       "    <tr style=\"text-align: right;\">\n",
       "      <th></th>\n",
       "      <th>puNumber</th>\n",
       "      <th>refundable_support</th>\n",
       "      <th>nonrefundable_support</th>\n",
       "      <th>budget</th>\n",
       "      <th>ratings</th>\n",
       "      <th>box_office</th>\n",
       "      <th>show_start_year</th>\n",
       "      <th>part_full_support</th>\n",
       "      <th>full_support</th>\n",
       "      <th>payback</th>\n",
       "    </tr>\n",
       "  </thead>\n",
       "  <tbody>\n",
       "    <tr>\n",
       "      <th>count</th>\n",
       "      <td>7.900000e+01</td>\n",
       "      <td>79.000000</td>\n",
       "      <td>79.000000</td>\n",
       "      <td>79.000000</td>\n",
       "      <td>78.000000</td>\n",
       "      <td>7.900000e+01</td>\n",
       "      <td>79.000000</td>\n",
       "      <td>79.000000</td>\n",
       "      <td>79.000000</td>\n",
       "      <td>79.000000</td>\n",
       "    </tr>\n",
       "    <tr>\n",
       "      <th>mean</th>\n",
       "      <td>1.114641e+08</td>\n",
       "      <td>20670.886076</td>\n",
       "      <td>63388.132304</td>\n",
       "      <td>160537.591139</td>\n",
       "      <td>6.057692</td>\n",
       "      <td>4.343971e+05</td>\n",
       "      <td>2016.810127</td>\n",
       "      <td>0.576291</td>\n",
       "      <td>84059.018380</td>\n",
       "      <td>2.776245</td>\n",
       "    </tr>\n",
       "    <tr>\n",
       "      <th>std</th>\n",
       "      <td>1.081498e+06</td>\n",
       "      <td>27249.427902</td>\n",
       "      <td>77326.759525</td>\n",
       "      <td>141958.953899</td>\n",
       "      <td>1.075889</td>\n",
       "      <td>5.605455e+05</td>\n",
       "      <td>1.485623</td>\n",
       "      <td>0.236813</td>\n",
       "      <td>83868.224732</td>\n",
       "      <td>2.504908</td>\n",
       "    </tr>\n",
       "    <tr>\n",
       "      <th>min</th>\n",
       "      <td>1.110001e+08</td>\n",
       "      <td>0.000000</td>\n",
       "      <td>0.000000</td>\n",
       "      <td>6000.000000</td>\n",
       "      <td>2.900000</td>\n",
       "      <td>1.536290e+04</td>\n",
       "      <td>2014.000000</td>\n",
       "      <td>0.129638</td>\n",
       "      <td>6000.000000</td>\n",
       "      <td>1.002547</td>\n",
       "    </tr>\n",
       "    <tr>\n",
       "      <th>25%</th>\n",
       "      <td>1.110042e+08</td>\n",
       "      <td>0.000000</td>\n",
       "      <td>26427.500000</td>\n",
       "      <td>70000.000000</td>\n",
       "      <td>5.125000</td>\n",
       "      <td>1.102199e+05</td>\n",
       "      <td>2015.000000</td>\n",
       "      <td>0.410983</td>\n",
       "      <td>35000.000000</td>\n",
       "      <td>1.348007</td>\n",
       "    </tr>\n",
       "    <tr>\n",
       "      <th>50%</th>\n",
       "      <td>1.110096e+08</td>\n",
       "      <td>10000.000000</td>\n",
       "      <td>40000.000000</td>\n",
       "      <td>105445.500000</td>\n",
       "      <td>6.200000</td>\n",
       "      <td>2.590991e+05</td>\n",
       "      <td>2017.000000</td>\n",
       "      <td>0.556456</td>\n",
       "      <td>55000.000000</td>\n",
       "      <td>1.988829</td>\n",
       "    </tr>\n",
       "    <tr>\n",
       "      <th>75%</th>\n",
       "      <td>1.110193e+08</td>\n",
       "      <td>35000.000000</td>\n",
       "      <td>60000.000000</td>\n",
       "      <td>195033.700000</td>\n",
       "      <td>6.800000</td>\n",
       "      <td>4.489878e+05</td>\n",
       "      <td>2018.000000</td>\n",
       "      <td>0.678872</td>\n",
       "      <td>100000.000000</td>\n",
       "      <td>3.536220</td>\n",
       "    </tr>\n",
       "    <tr>\n",
       "      <th>max</th>\n",
       "      <td>1.140088e+08</td>\n",
       "      <td>115000.000000</td>\n",
       "      <td>400000.000000</td>\n",
       "      <td>635283.900000</td>\n",
       "      <td>8.500000</td>\n",
       "      <td>3.073569e+06</td>\n",
       "      <td>2019.000000</td>\n",
       "      <td>1.000000</td>\n",
       "      <td>442104.482000</td>\n",
       "      <td>19.209804</td>\n",
       "    </tr>\n",
       "  </tbody>\n",
       "</table>\n",
       "</div>"
      ],
      "text/plain": [
       "           puNumber  refundable_support  nonrefundable_support         budget  \\\n",
       "count  7.900000e+01           79.000000              79.000000      79.000000   \n",
       "mean   1.114641e+08        20670.886076           63388.132304  160537.591139   \n",
       "std    1.081498e+06        27249.427902           77326.759525  141958.953899   \n",
       "min    1.110001e+08            0.000000               0.000000    6000.000000   \n",
       "25%    1.110042e+08            0.000000           26427.500000   70000.000000   \n",
       "50%    1.110096e+08        10000.000000           40000.000000  105445.500000   \n",
       "75%    1.110193e+08        35000.000000           60000.000000  195033.700000   \n",
       "max    1.140088e+08       115000.000000          400000.000000  635283.900000   \n",
       "\n",
       "         ratings    box_office  show_start_year  part_full_support  \\\n",
       "count  78.000000  7.900000e+01        79.000000          79.000000   \n",
       "mean    6.057692  4.343971e+05      2016.810127           0.576291   \n",
       "std     1.075889  5.605455e+05         1.485623           0.236813   \n",
       "min     2.900000  1.536290e+04      2014.000000           0.129638   \n",
       "25%     5.125000  1.102199e+05      2015.000000           0.410983   \n",
       "50%     6.200000  2.590991e+05      2017.000000           0.556456   \n",
       "75%     6.800000  4.489878e+05      2018.000000           0.678872   \n",
       "max     8.500000  3.073569e+06      2019.000000           1.000000   \n",
       "\n",
       "        full_support    payback  \n",
       "count      79.000000  79.000000  \n",
       "mean    84059.018380   2.776245  \n",
       "std     83868.224732   2.504908  \n",
       "min      6000.000000   1.002547  \n",
       "25%     35000.000000   1.348007  \n",
       "50%     55000.000000   1.988829  \n",
       "75%    100000.000000   3.536220  \n",
       "max    442104.482000  19.209804  "
      ]
     },
     "execution_count": 64,
     "metadata": {},
     "output_type": "execute_result"
    }
   ],
   "source": [
    "queen_films.describe()"
   ]
  },
  {
   "cell_type": "markdown",
   "metadata": {},
   "source": [
    "Что мы видим. Средний рейтинг таких супер фильмов = 6 при бюджете 140 млн. рублей, из них половина в качестве государственной поддержки"
   ]
  },
  {
   "cell_type": "markdown",
   "metadata": {},
   "source": [
    "Посмотрим какие жанры входят в наиболее полюбившиеся зрителям фильмы"
   ]
  },
  {
   "cell_type": "code",
   "execution_count": 65,
   "metadata": {},
   "outputs": [
    {
     "data": {
      "text/plain": [
       "комедия        31\n",
       "драма          14\n",
       "мультфильм     12\n",
       "военный         3\n",
       "семейный        3\n",
       "ужасы           3\n",
       "фантастика      2\n",
       "триллер         2\n",
       "боевик          2\n",
       "спорт           2\n",
       "приключения     1\n",
       "биография       1\n",
       "фэнтези         1\n",
       "история         1\n",
       "не указан       1\n",
       "Name: first_genres, dtype: int64"
      ]
     },
     "execution_count": 65,
     "metadata": {},
     "output_type": "execute_result"
    }
   ],
   "source": [
    "queen_films['first_genres'].value_counts()"
   ]
  },
  {
   "cell_type": "code",
   "execution_count": 66,
   "metadata": {},
   "outputs": [
    {
     "data": {
      "text/plain": [
       "<AxesSubplot:xlabel='budget'>"
      ]
     },
     "execution_count": 66,
     "metadata": {},
     "output_type": "execute_result"
    },
    {
     "data": {
      "image/png": "[encoded data removed]",
      "text/plain": [
       "<Figure size 432x288 with 1 Axes>"
      ]
     },
     "metadata": {
      "needs_background": "light"
     },
     "output_type": "display_data"
    }
   ],
   "source": [
    "queen_films.plot(x='budget', y='ratings', grid=True, style='o')"
   ]
  },
  {
   "cell_type": "markdown",
   "metadata": {},
   "source": [
    "Чем больше бюджет фильма, тем солиднее рейтинг. За 600 млн рублей и фильмы отличные! Однако и при бюджете до 200 млн рублей много достойных картин.\n"
   ]
  },
  {
   "cell_type": "code",
   "execution_count": 67,
   "metadata": {},
   "outputs": [
    {
     "data": {
      "text/plain": [
       "<AxesSubplot:xlabel='payback'>"
      ]
     },
     "execution_count": 67,
     "metadata": {},
     "output_type": "execute_result"
    },
    {
     "data": {
      "image/png": "[encoded data removed]",
      "text/plain": [
       "<Figure size 432x288 with 1 Axes>"
      ]
     },
     "metadata": {
      "needs_background": "light"
     },
     "output_type": "display_data"
    }
   ],
   "source": [
    "queen_films.plot(x='payback', y='full_support', grid=True, style='o')"
   ]
  },
  {
   "cell_type": "markdown",
   "metadata": {},
   "source": [
    "Большая часть окупившихся полностью фильмов имела поддержку от государства в размере до 150 млн рублей."
   ]
  },
  {
   "cell_type": "code",
   "execution_count": 68,
   "metadata": {},
   "outputs": [
    {
     "data": {
      "text/plain": [
       "<AxesSubplot:xlabel='ratings'>"
      ]
     },
     "execution_count": 68,
     "metadata": {},
     "output_type": "execute_result"
    },
    {
     "data": {
      "image/png": "[encoded data removed]",
      "text/plain": [
       "<Figure size 432x288 with 1 Axes>"
      ]
     },
     "metadata": {
      "needs_background": "light"
     },
     "output_type": "display_data"
    }
   ],
   "source": [
    "queen_films.plot(x='ratings', y='full_support', grid=True, style='o')"
   ]
  },
  {
   "cell_type": "markdown",
   "metadata": {},
   "source": [
    "На данном графике видно, что больше половины выборки картин с государственной поддержкой имеют хороший рейтинг (>6.0)"
   ]
  },
  {
   "cell_type": "markdown",
   "metadata": {
    "id": "V2gYwMcPgFyd"
   },
   "source": [
    "### Шаг 5. Напишите общий вывод"
   ]
  },
  {
   "cell_type": "markdown",
   "metadata": {
    "id": "AYRg3dzXgFye"
   },
   "source": [
    "Подведем итоги.\n",
    "\n",
    "- Из более чем семитысячной выборки фильмов, всего 5% фильмов (318 картин) имели государственную поддержку. Из них 25% (или 83 картины) окупились полностью. \n",
    "\n",
    "- Больше половины выборки картин с государственной поддержкой имеют хороший рейтинг (>6.0)\n",
    "\n",
    "- Количество выделяемых денег поддержки не особо влияет на качество фильма - большее влияние оказывает общий бюджет картины.\n",
    "\n",
    "- Зрители любят комедии, фильмы 12+ и 16+. \n",
    "\n",
    "- Меньше всего денег в прокате собирают фильмы 0+, то есть мультфильмы.\n",
    "\n"
   ]
  }
 ],
 "metadata": {
  "ExecuteTimeLog": [
   {
    "duration": 537,
    "start_time": "2021-07-07T10:12:08.634Z"
   },
   {
    "duration": 206,
    "start_time": "2021-07-07T10:12:30.191Z"
   },
   {
    "duration": 227,
    "start_time": "2021-07-07T10:12:33.078Z"
   },
   {
    "duration": 153,
    "start_time": "2021-07-07T10:13:42.146Z"
   },
   {
    "duration": 233,
    "start_time": "2021-07-07T10:30:09.252Z"
   },
   {
    "duration": 19,
    "start_time": "2021-07-07T10:30:15.577Z"
   },
   {
    "duration": 18,
    "start_time": "2021-07-07T10:30:57.348Z"
   },
   {
    "duration": 19,
    "start_time": "2021-07-07T10:31:17.452Z"
   },
   {
    "duration": 21,
    "start_time": "2021-07-07T10:31:32.227Z"
   },
   {
    "duration": 27,
    "start_time": "2021-07-07T10:32:06.588Z"
   },
   {
    "duration": 23,
    "start_time": "2021-07-07T10:32:43.645Z"
   },
   {
    "duration": 24,
    "start_time": "2021-07-07T10:33:06.948Z"
   },
   {
    "duration": 7,
    "start_time": "2021-07-07T10:33:28.558Z"
   },
   {
    "duration": 23,
    "start_time": "2021-07-07T10:33:43.761Z"
   },
   {
    "duration": 28,
    "start_time": "2021-07-07T10:34:13.466Z"
   },
   {
    "duration": 23,
    "start_time": "2021-07-07T10:35:56.187Z"
   },
   {
    "duration": 6,
    "start_time": "2021-07-07T10:36:48.182Z"
   },
   {
    "duration": 14,
    "start_time": "2021-07-07T10:37:49.641Z"
   },
   {
    "duration": 6,
    "start_time": "2021-07-07T10:38:06.694Z"
   },
   {
    "duration": 6,
    "start_time": "2021-07-07T10:38:13.493Z"
   },
   {
    "duration": 19,
    "start_time": "2021-07-07T10:38:44.056Z"
   },
   {
    "duration": 186,
    "start_time": "2021-07-07T10:48:35.618Z"
   },
   {
    "duration": 24,
    "start_time": "2021-07-07T10:48:51.498Z"
   },
   {
    "duration": 20,
    "start_time": "2021-07-07T10:48:59.415Z"
   },
   {
    "duration": 20,
    "start_time": "2021-07-07T10:53:02.195Z"
   },
   {
    "duration": 188,
    "start_time": "2021-07-07T10:54:40.486Z"
   },
   {
    "duration": 115,
    "start_time": "2021-07-07T10:54:52.552Z"
   },
   {
    "duration": 214,
    "start_time": "2021-07-07T10:54:56.354Z"
   },
   {
    "duration": 47,
    "start_time": "2021-07-07T10:54:58.282Z"
   },
   {
    "duration": 217,
    "start_time": "2021-07-07T10:59:16.075Z"
   },
   {
    "duration": 51,
    "start_time": "2021-07-07T10:59:16.243Z"
   },
   {
    "duration": 578,
    "start_time": "2021-07-07T10:59:18.774Z"
   },
   {
    "duration": 161,
    "start_time": "2021-07-07T10:59:21.238Z"
   },
   {
    "duration": 59,
    "start_time": "2021-07-07T10:59:21.453Z"
   },
   {
    "duration": 3,
    "start_time": "2021-07-07T11:02:10.786Z"
   },
   {
    "duration": 13,
    "start_time": "2021-07-07T11:07:07.722Z"
   },
   {
    "duration": 26,
    "start_time": "2021-07-07T11:07:17.958Z"
   },
   {
    "duration": 22,
    "start_time": "2021-07-07T11:08:17.939Z"
   },
   {
    "duration": 212,
    "start_time": "2021-07-07T11:08:19.665Z"
   },
   {
    "duration": 21,
    "start_time": "2021-07-07T11:08:29.945Z"
   },
   {
    "duration": 31,
    "start_time": "2021-07-07T11:08:38.899Z"
   },
   {
    "duration": 23,
    "start_time": "2021-07-07T11:08:54.527Z"
   },
   {
    "duration": 8,
    "start_time": "2021-07-07T11:18:55.974Z"
   },
   {
    "duration": 7,
    "start_time": "2021-07-07T11:19:03.639Z"
   },
   {
    "duration": 7,
    "start_time": "2021-07-07T11:19:06.444Z"
   },
   {
    "duration": 578,
    "start_time": "2021-07-07T12:09:59.576Z"
   },
   {
    "duration": 195,
    "start_time": "2021-07-07T12:10:00.156Z"
   },
   {
    "duration": 115,
    "start_time": "2021-07-07T12:10:00.353Z"
   },
   {
    "duration": 3,
    "start_time": "2021-07-07T12:10:00.470Z"
   },
   {
    "duration": 32,
    "start_time": "2021-07-07T12:10:00.474Z"
   },
   {
    "duration": 23,
    "start_time": "2021-07-07T12:10:00.508Z"
   },
   {
    "duration": 19,
    "start_time": "2021-07-07T12:10:00.533Z"
   },
   {
    "duration": 44,
    "start_time": "2021-07-07T12:10:00.553Z"
   },
   {
    "duration": 7,
    "start_time": "2021-07-07T12:10:00.600Z"
   },
   {
    "duration": 7,
    "start_time": "2021-07-07T12:19:45.761Z"
   },
   {
    "duration": 21,
    "start_time": "2021-07-07T12:21:35.482Z"
   },
   {
    "duration": 21,
    "start_time": "2021-07-07T12:29:23.569Z"
   },
   {
    "duration": 525,
    "start_time": "2021-07-07T12:29:44.542Z"
   },
   {
    "duration": 214,
    "start_time": "2021-07-07T12:29:45.069Z"
   },
   {
    "duration": 92,
    "start_time": "2021-07-07T12:29:45.285Z"
   },
   {
    "duration": 3,
    "start_time": "2021-07-07T12:29:45.379Z"
   },
   {
    "duration": 28,
    "start_time": "2021-07-07T12:29:45.384Z"
   },
   {
    "duration": 23,
    "start_time": "2021-07-07T12:29:45.413Z"
   },
   {
    "duration": 21,
    "start_time": "2021-07-07T12:29:45.437Z"
   },
   {
    "duration": 41,
    "start_time": "2021-07-07T12:29:45.460Z"
   },
   {
    "duration": 7,
    "start_time": "2021-07-07T12:29:45.502Z"
   },
   {
    "duration": 20,
    "start_time": "2021-07-07T12:29:45.511Z"
   },
   {
    "duration": 12,
    "start_time": "2021-07-07T12:34:02.800Z"
   },
   {
    "duration": 7,
    "start_time": "2021-07-07T12:35:10.479Z"
   },
   {
    "duration": 8,
    "start_time": "2021-07-07T12:35:22.440Z"
   },
   {
    "duration": 6,
    "start_time": "2021-07-07T12:35:35.649Z"
   },
   {
    "duration": 6,
    "start_time": "2021-07-07T12:35:43.107Z"
   },
   {
    "duration": 22,
    "start_time": "2021-07-07T12:38:03.029Z"
   },
   {
    "duration": 10,
    "start_time": "2021-07-07T12:38:06.592Z"
   },
   {
    "duration": 563,
    "start_time": "2021-07-07T12:38:46.493Z"
   },
   {
    "duration": 265,
    "start_time": "2021-07-07T12:38:47.058Z"
   },
   {
    "duration": 94,
    "start_time": "2021-07-07T12:38:47.325Z"
   },
   {
    "duration": 3,
    "start_time": "2021-07-07T12:38:47.422Z"
   },
   {
    "duration": 30,
    "start_time": "2021-07-07T12:38:47.427Z"
   },
   {
    "duration": 16,
    "start_time": "2021-07-07T12:38:53.305Z"
   },
   {
    "duration": 10,
    "start_time": "2021-07-07T12:38:53.499Z"
   },
   {
    "duration": 8,
    "start_time": "2021-07-07T12:39:48.161Z"
   },
   {
    "duration": 27,
    "start_time": "2021-07-07T12:41:17.629Z"
   },
   {
    "duration": 17,
    "start_time": "2021-07-07T12:41:17.867Z"
   },
   {
    "duration": 21,
    "start_time": "2021-07-07T12:41:19.310Z"
   },
   {
    "duration": 7,
    "start_time": "2021-07-07T12:41:19.544Z"
   },
   {
    "duration": 20,
    "start_time": "2021-07-07T12:41:20.504Z"
   },
   {
    "duration": 554,
    "start_time": "2021-07-07T12:56:23.696Z"
   },
   {
    "duration": 200,
    "start_time": "2021-07-07T12:56:25.234Z"
   },
   {
    "duration": 119,
    "start_time": "2021-07-07T12:56:25.480Z"
   },
   {
    "duration": 4,
    "start_time": "2021-07-07T12:56:25.762Z"
   },
   {
    "duration": 26,
    "start_time": "2021-07-07T12:56:27.172Z"
   },
   {
    "duration": 12,
    "start_time": "2021-07-07T12:56:29.051Z"
   },
   {
    "duration": 10,
    "start_time": "2021-07-07T12:56:29.291Z"
   },
   {
    "duration": 8,
    "start_time": "2021-07-07T12:56:29.623Z"
   },
   {
    "duration": 28,
    "start_time": "2021-07-07T12:56:32.137Z"
   },
   {
    "duration": 19,
    "start_time": "2021-07-07T12:56:39.785Z"
   },
   {
    "duration": 20,
    "start_time": "2021-07-07T12:56:44.297Z"
   },
   {
    "duration": 7,
    "start_time": "2021-07-07T12:56:45.392Z"
   },
   {
    "duration": 23,
    "start_time": "2021-07-07T12:56:46.615Z"
   },
   {
    "duration": 4,
    "start_time": "2021-07-07T12:57:06.625Z"
   },
   {
    "duration": 32,
    "start_time": "2021-07-07T12:57:36.690Z"
   },
   {
    "duration": 18,
    "start_time": "2021-07-07T12:58:00.149Z"
   },
   {
    "duration": 15,
    "start_time": "2021-07-07T12:59:16.793Z"
   },
   {
    "duration": 7,
    "start_time": "2021-07-07T13:19:22.624Z"
   },
   {
    "duration": 6,
    "start_time": "2021-07-07T14:17:33.527Z"
   },
   {
    "duration": 9,
    "start_time": "2021-07-07T14:17:48.409Z"
   },
   {
    "duration": 8,
    "start_time": "2021-07-07T14:20:13.060Z"
   },
   {
    "duration": 8,
    "start_time": "2021-07-07T14:20:37.957Z"
   },
   {
    "duration": 8,
    "start_time": "2021-07-07T14:20:47.470Z"
   },
   {
    "duration": 9,
    "start_time": "2021-07-07T14:20:54.503Z"
   },
   {
    "duration": 10,
    "start_time": "2021-07-07T14:28:57.763Z"
   },
   {
    "duration": 3,
    "start_time": "2021-07-07T14:30:23.377Z"
   },
   {
    "duration": 3,
    "start_time": "2021-07-07T14:30:36.489Z"
   },
   {
    "duration": 103,
    "start_time": "2021-07-07T14:30:52.351Z"
   },
   {
    "duration": 8,
    "start_time": "2021-07-07T14:30:54.763Z"
   },
   {
    "duration": 8,
    "start_time": "2021-07-07T14:31:29.301Z"
   },
   {
    "duration": 13,
    "start_time": "2021-07-07T14:31:44.516Z"
   },
   {
    "duration": 7,
    "start_time": "2021-07-07T14:33:10.972Z"
   },
   {
    "duration": 11,
    "start_time": "2021-07-07T14:33:27.780Z"
   },
   {
    "duration": 8,
    "start_time": "2021-07-07T14:34:44.588Z"
   },
   {
    "duration": 57,
    "start_time": "2021-07-07T14:35:59.042Z"
   },
   {
    "duration": 3,
    "start_time": "2021-07-07T14:36:28.168Z"
   },
   {
    "duration": 5,
    "start_time": "2021-07-07T14:36:46.254Z"
   },
   {
    "duration": 4,
    "start_time": "2021-07-07T14:36:52.714Z"
   },
   {
    "duration": 3,
    "start_time": "2021-07-07T14:36:56.612Z"
   },
   {
    "duration": 4,
    "start_time": "2021-07-07T14:36:57.049Z"
   },
   {
    "duration": 3,
    "start_time": "2021-07-07T14:39:21.214Z"
   },
   {
    "duration": 7,
    "start_time": "2021-07-07T14:39:52.406Z"
   },
   {
    "duration": 11,
    "start_time": "2021-07-07T14:39:58.576Z"
   },
   {
    "duration": 9,
    "start_time": "2021-07-07T14:40:26.301Z"
   },
   {
    "duration": 10,
    "start_time": "2021-07-07T14:40:31.704Z"
   },
   {
    "duration": 11,
    "start_time": "2021-07-07T14:40:36.249Z"
   },
   {
    "duration": 10,
    "start_time": "2021-07-07T14:40:39.783Z"
   },
   {
    "duration": 9,
    "start_time": "2021-07-07T14:40:48.558Z"
   },
   {
    "duration": 10,
    "start_time": "2021-07-07T14:40:57.143Z"
   },
   {
    "duration": 9,
    "start_time": "2021-07-07T14:41:06.074Z"
   },
   {
    "duration": 4324,
    "start_time": "2021-07-07T14:41:22.004Z"
   },
   {
    "duration": 11,
    "start_time": "2021-07-07T14:41:33.392Z"
   },
   {
    "duration": 9,
    "start_time": "2021-07-07T14:41:39.288Z"
   },
   {
    "duration": 569,
    "start_time": "2021-07-07T14:42:14.387Z"
   },
   {
    "duration": 197,
    "start_time": "2021-07-07T14:42:14.959Z"
   },
   {
    "duration": 84,
    "start_time": "2021-07-07T14:42:16.052Z"
   },
   {
    "duration": 4,
    "start_time": "2021-07-07T14:42:16.900Z"
   },
   {
    "duration": 27,
    "start_time": "2021-07-07T14:42:19.898Z"
   },
   {
    "duration": 12,
    "start_time": "2021-07-07T14:42:21.577Z"
   },
   {
    "duration": 9,
    "start_time": "2021-07-07T14:42:21.813Z"
   },
   {
    "duration": 9,
    "start_time": "2021-07-07T14:42:22.569Z"
   },
   {
    "duration": 29,
    "start_time": "2021-07-07T14:42:25.837Z"
   },
   {
    "duration": 20,
    "start_time": "2021-07-07T14:42:27.003Z"
   },
   {
    "duration": 21,
    "start_time": "2021-07-07T14:42:28.767Z"
   },
   {
    "duration": 7,
    "start_time": "2021-07-07T14:42:29.838Z"
   },
   {
    "duration": 4,
    "start_time": "2021-07-07T14:43:25.493Z"
   },
   {
    "duration": 7,
    "start_time": "2021-07-07T14:43:26.573Z"
   },
   {
    "duration": 10,
    "start_time": "2021-07-07T14:43:31.639Z"
   },
   {
    "duration": 9,
    "start_time": "2021-07-07T14:43:32.046Z"
   },
   {
    "duration": 10,
    "start_time": "2021-07-07T14:43:33.301Z"
   },
   {
    "duration": 12,
    "start_time": "2021-07-07T14:43:33.658Z"
   },
   {
    "duration": 8,
    "start_time": "2021-07-07T14:43:34.552Z"
   },
   {
    "duration": 9,
    "start_time": "2021-07-07T14:43:35.058Z"
   },
   {
    "duration": 12,
    "start_time": "2021-07-07T14:43:35.914Z"
   },
   {
    "duration": 17,
    "start_time": "2021-07-07T14:45:34.368Z"
   },
   {
    "duration": 512,
    "start_time": "2021-07-07T14:51:58.236Z"
   },
   {
    "duration": 223,
    "start_time": "2021-07-07T14:51:58.750Z"
   },
   {
    "duration": 93,
    "start_time": "2021-07-07T14:51:58.977Z"
   },
   {
    "duration": 4,
    "start_time": "2021-07-07T14:51:59.071Z"
   },
   {
    "duration": 37,
    "start_time": "2021-07-07T14:51:59.077Z"
   },
   {
    "duration": 18,
    "start_time": "2021-07-07T14:51:59.116Z"
   },
   {
    "duration": 10,
    "start_time": "2021-07-07T14:51:59.137Z"
   },
   {
    "duration": 8,
    "start_time": "2021-07-07T14:51:59.149Z"
   },
   {
    "duration": 54,
    "start_time": "2021-07-07T14:51:59.158Z"
   },
   {
    "duration": 18,
    "start_time": "2021-07-07T14:51:59.213Z"
   },
   {
    "duration": 22,
    "start_time": "2021-07-07T14:51:59.232Z"
   },
   {
    "duration": 36,
    "start_time": "2021-07-07T14:51:59.255Z"
   },
   {
    "duration": 7,
    "start_time": "2021-07-07T14:51:59.293Z"
   },
   {
    "duration": 10,
    "start_time": "2021-07-07T14:51:59.302Z"
   },
   {
    "duration": 9,
    "start_time": "2021-07-07T14:51:59.313Z"
   },
   {
    "duration": 11,
    "start_time": "2021-07-07T14:51:59.324Z"
   },
   {
    "duration": 8,
    "start_time": "2021-07-07T14:51:59.337Z"
   },
   {
    "duration": 46,
    "start_time": "2021-07-07T14:51:59.347Z"
   },
   {
    "duration": 22,
    "start_time": "2021-07-07T14:51:59.395Z"
   },
   {
    "duration": 24,
    "start_time": "2021-07-07T14:57:32.911Z"
   },
   {
    "duration": 7,
    "start_time": "2021-07-07T14:58:22.070Z"
   },
   {
    "duration": 4,
    "start_time": "2021-07-07T14:59:11.239Z"
   },
   {
    "duration": 25,
    "start_time": "2021-07-07T15:07:22.208Z"
   },
   {
    "duration": 16,
    "start_time": "2021-07-07T15:08:25.560Z"
   },
   {
    "duration": 15,
    "start_time": "2021-07-07T15:08:40.647Z"
   },
   {
    "duration": 14,
    "start_time": "2021-07-07T15:08:46.669Z"
   },
   {
    "duration": 533,
    "start_time": "2021-07-07T15:18:07.440Z"
   },
   {
    "duration": 173,
    "start_time": "2021-07-07T15:18:07.974Z"
   },
   {
    "duration": 84,
    "start_time": "2021-07-07T15:18:08.149Z"
   },
   {
    "duration": 3,
    "start_time": "2021-07-07T15:18:08.235Z"
   },
   {
    "duration": 30,
    "start_time": "2021-07-07T15:18:08.240Z"
   },
   {
    "duration": 22,
    "start_time": "2021-07-07T15:18:08.272Z"
   },
   {
    "duration": 11,
    "start_time": "2021-07-07T15:18:08.295Z"
   },
   {
    "duration": 11,
    "start_time": "2021-07-07T15:18:08.309Z"
   },
   {
    "duration": 40,
    "start_time": "2021-07-07T15:18:08.322Z"
   },
   {
    "duration": 42,
    "start_time": "2021-07-07T15:18:08.364Z"
   },
   {
    "duration": 22,
    "start_time": "2021-07-07T15:18:08.408Z"
   },
   {
    "duration": 5,
    "start_time": "2021-07-07T15:18:08.432Z"
   },
   {
    "duration": 13,
    "start_time": "2021-07-07T15:18:08.439Z"
   },
   {
    "duration": 9,
    "start_time": "2021-07-07T15:18:08.454Z"
   },
   {
    "duration": 32,
    "start_time": "2021-07-07T15:18:08.465Z"
   },
   {
    "duration": 10,
    "start_time": "2021-07-07T15:18:08.501Z"
   },
   {
    "duration": 7,
    "start_time": "2021-07-07T15:18:08.513Z"
   },
   {
    "duration": 11,
    "start_time": "2021-07-07T15:18:08.521Z"
   },
   {
    "duration": 17,
    "start_time": "2021-07-07T15:18:08.534Z"
   },
   {
    "duration": 44,
    "start_time": "2021-07-07T15:18:08.553Z"
   },
   {
    "duration": 22,
    "start_time": "2021-07-07T15:18:08.599Z"
   },
   {
    "duration": 61,
    "start_time": "2021-07-07T15:18:08.622Z"
   },
   {
    "duration": 7,
    "start_time": "2021-07-07T15:18:39.457Z"
   },
   {
    "duration": 5,
    "start_time": "2021-07-07T16:05:17.020Z"
   },
   {
    "duration": 5,
    "start_time": "2021-07-07T16:51:28.794Z"
   },
   {
    "duration": 546,
    "start_time": "2021-07-07T16:52:26.306Z"
   },
   {
    "duration": 203,
    "start_time": "2021-07-07T16:52:27.523Z"
   },
   {
    "duration": 85,
    "start_time": "2021-07-07T16:52:27.736Z"
   },
   {
    "duration": 4,
    "start_time": "2021-07-07T16:52:27.899Z"
   },
   {
    "duration": 25,
    "start_time": "2021-07-07T16:52:28.674Z"
   },
   {
    "duration": 8,
    "start_time": "2021-07-07T16:52:32.956Z"
   },
   {
    "duration": 18,
    "start_time": "2021-07-07T16:52:35.616Z"
   },
   {
    "duration": 6,
    "start_time": "2021-07-07T16:52:36.913Z"
   },
   {
    "duration": 11,
    "start_time": "2021-07-07T16:52:40.258Z"
   },
   {
    "duration": 10,
    "start_time": "2021-07-07T16:52:46.251Z"
   },
   {
    "duration": 8,
    "start_time": "2021-07-07T16:52:47.182Z"
   },
   {
    "duration": 27,
    "start_time": "2021-07-07T16:53:20.391Z"
   },
   {
    "duration": 20,
    "start_time": "2021-07-07T16:53:22.022Z"
   },
   {
    "duration": 23,
    "start_time": "2021-07-07T16:53:23.690Z"
   },
   {
    "duration": 8,
    "start_time": "2021-07-07T16:53:24.261Z"
   },
   {
    "duration": 4,
    "start_time": "2021-07-07T16:53:38.733Z"
   },
   {
    "duration": 7,
    "start_time": "2021-07-07T16:53:40.445Z"
   },
   {
    "duration": 11,
    "start_time": "2021-07-07T16:53:41.348Z"
   },
   {
    "duration": 13,
    "start_time": "2021-07-07T16:53:45.250Z"
   },
   {
    "duration": 12,
    "start_time": "2021-07-07T16:53:45.467Z"
   },
   {
    "duration": 4,
    "start_time": "2021-07-07T16:55:32.704Z"
   },
   {
    "duration": 12,
    "start_time": "2021-07-07T16:55:49.012Z"
   },
   {
    "duration": 18,
    "start_time": "2021-07-07T16:55:49.547Z"
   },
   {
    "duration": 611,
    "start_time": "2021-07-07T16:58:35.156Z"
   },
   {
    "duration": 200,
    "start_time": "2021-07-07T16:58:35.770Z"
   },
   {
    "duration": 86,
    "start_time": "2021-07-07T16:58:35.972Z"
   },
   {
    "duration": 3,
    "start_time": "2021-07-07T16:58:36.060Z"
   },
   {
    "duration": 27,
    "start_time": "2021-07-07T16:58:36.065Z"
   },
   {
    "duration": 8,
    "start_time": "2021-07-07T16:58:36.094Z"
   },
   {
    "duration": 17,
    "start_time": "2021-07-07T16:58:36.103Z"
   },
   {
    "duration": 5,
    "start_time": "2021-07-07T16:58:36.123Z"
   },
   {
    "duration": 11,
    "start_time": "2021-07-07T16:58:36.130Z"
   },
   {
    "duration": 7,
    "start_time": "2021-07-07T16:58:36.143Z"
   },
   {
    "duration": 37,
    "start_time": "2021-07-07T16:58:36.152Z"
   },
   {
    "duration": 27,
    "start_time": "2021-07-07T16:58:36.191Z"
   },
   {
    "duration": 19,
    "start_time": "2021-07-07T16:58:36.219Z"
   },
   {
    "duration": 49,
    "start_time": "2021-07-07T16:58:36.240Z"
   },
   {
    "duration": 6,
    "start_time": "2021-07-07T16:58:36.291Z"
   },
   {
    "duration": 3,
    "start_time": "2021-07-07T16:58:36.299Z"
   },
   {
    "duration": 13,
    "start_time": "2021-07-07T16:58:36.304Z"
   },
   {
    "duration": 10,
    "start_time": "2021-07-07T16:58:36.319Z"
   },
   {
    "duration": 10,
    "start_time": "2021-07-07T16:58:36.331Z"
   },
   {
    "duration": 44,
    "start_time": "2021-07-07T16:58:36.343Z"
   },
   {
    "duration": 4,
    "start_time": "2021-07-07T16:58:36.388Z"
   },
   {
    "duration": 13,
    "start_time": "2021-07-07T16:58:36.394Z"
   },
   {
    "duration": 16,
    "start_time": "2021-07-07T16:58:36.410Z"
   },
   {
    "duration": 8,
    "start_time": "2021-07-07T17:02:31.629Z"
   },
   {
    "duration": 8,
    "start_time": "2021-07-07T17:02:34.308Z"
   },
   {
    "duration": 6,
    "start_time": "2021-07-07T17:05:13.483Z"
   },
   {
    "duration": 17,
    "start_time": "2021-07-07T17:05:20.606Z"
   },
   {
    "duration": 7,
    "start_time": "2021-07-07T17:05:34.638Z"
   },
   {
    "duration": 3,
    "start_time": "2021-07-07T17:06:31.883Z"
   },
   {
    "duration": 570,
    "start_time": "2021-07-07T17:06:37.165Z"
   },
   {
    "duration": 174,
    "start_time": "2021-07-07T17:06:37.737Z"
   },
   {
    "duration": 47,
    "start_time": "2021-07-07T17:06:37.913Z"
   },
   {
    "duration": 3,
    "start_time": "2021-07-07T17:06:37.962Z"
   },
   {
    "duration": 27,
    "start_time": "2021-07-07T17:06:37.967Z"
   },
   {
    "duration": 7,
    "start_time": "2021-07-07T17:06:37.996Z"
   },
   {
    "duration": 16,
    "start_time": "2021-07-07T17:06:38.005Z"
   },
   {
    "duration": 6,
    "start_time": "2021-07-07T17:06:38.024Z"
   },
   {
    "duration": 12,
    "start_time": "2021-07-07T17:06:38.031Z"
   },
   {
    "duration": 41,
    "start_time": "2021-07-07T17:06:38.045Z"
   },
   {
    "duration": 8,
    "start_time": "2021-07-07T17:06:38.088Z"
   },
   {
    "duration": 26,
    "start_time": "2021-07-07T17:06:38.098Z"
   },
   {
    "duration": 17,
    "start_time": "2021-07-07T17:06:38.126Z"
   },
   {
    "duration": 43,
    "start_time": "2021-07-07T17:06:38.144Z"
   },
   {
    "duration": 6,
    "start_time": "2021-07-07T17:06:38.188Z"
   },
   {
    "duration": 5,
    "start_time": "2021-07-07T17:06:38.195Z"
   },
   {
    "duration": 9,
    "start_time": "2021-07-07T17:06:38.201Z"
   },
   {
    "duration": 12,
    "start_time": "2021-07-07T17:06:38.212Z"
   },
   {
    "duration": 11,
    "start_time": "2021-07-07T17:06:38.226Z"
   },
   {
    "duration": 47,
    "start_time": "2021-07-07T17:06:38.239Z"
   },
   {
    "duration": 4,
    "start_time": "2021-07-07T17:06:38.288Z"
   },
   {
    "duration": 13,
    "start_time": "2021-07-07T17:06:38.293Z"
   },
   {
    "duration": 5,
    "start_time": "2021-07-07T17:06:38.309Z"
   },
   {
    "duration": 18,
    "start_time": "2021-07-07T17:06:38.325Z"
   },
   {
    "duration": 20,
    "start_time": "2021-07-07T17:07:02.805Z"
   },
   {
    "duration": 19,
    "start_time": "2021-07-07T17:07:08.527Z"
   },
   {
    "duration": 19,
    "start_time": "2021-07-07T17:07:12.758Z"
   },
   {
    "duration": 22,
    "start_time": "2021-07-07T17:07:17.497Z"
   },
   {
    "duration": 19,
    "start_time": "2021-07-07T17:07:19.645Z"
   },
   {
    "duration": 10,
    "start_time": "2021-07-07T17:07:34.239Z"
   },
   {
    "duration": 17,
    "start_time": "2021-07-07T17:07:54.144Z"
   },
   {
    "duration": 14,
    "start_time": "2021-07-07T17:08:14.357Z"
   },
   {
    "duration": 616,
    "start_time": "2021-07-07T17:08:45.254Z"
   },
   {
    "duration": 178,
    "start_time": "2021-07-07T17:08:45.872Z"
   },
   {
    "duration": 60,
    "start_time": "2021-07-07T17:08:46.054Z"
   },
   {
    "duration": 3,
    "start_time": "2021-07-07T17:08:46.116Z"
   },
   {
    "duration": 26,
    "start_time": "2021-07-07T17:08:46.121Z"
   },
   {
    "duration": 7,
    "start_time": "2021-07-07T17:08:46.149Z"
   },
   {
    "duration": 17,
    "start_time": "2021-07-07T17:08:46.158Z"
   },
   {
    "duration": 14,
    "start_time": "2021-07-07T17:08:46.176Z"
   },
   {
    "duration": 17,
    "start_time": "2021-07-07T17:08:46.193Z"
   },
   {
    "duration": 9,
    "start_time": "2021-07-07T17:08:46.211Z"
   },
   {
    "duration": 21,
    "start_time": "2021-07-07T17:08:46.221Z"
   },
   {
    "duration": 49,
    "start_time": "2021-07-07T17:08:46.244Z"
   },
   {
    "duration": 24,
    "start_time": "2021-07-07T17:08:46.295Z"
   },
   {
    "duration": 22,
    "start_time": "2021-07-07T17:08:46.321Z"
   },
   {
    "duration": 6,
    "start_time": "2021-07-07T17:08:46.345Z"
   },
   {
    "duration": 5,
    "start_time": "2021-07-07T17:08:46.353Z"
   },
   {
    "duration": 13,
    "start_time": "2021-07-07T17:08:46.386Z"
   },
   {
    "duration": 12,
    "start_time": "2021-07-07T17:08:46.402Z"
   },
   {
    "duration": 10,
    "start_time": "2021-07-07T17:08:46.415Z"
   },
   {
    "duration": 7,
    "start_time": "2021-07-07T17:08:46.427Z"
   },
   {
    "duration": 8,
    "start_time": "2021-07-07T17:08:46.435Z"
   },
   {
    "duration": 68,
    "start_time": "2021-07-07T17:08:46.446Z"
   },
   {
    "duration": 13,
    "start_time": "2021-07-07T17:08:46.516Z"
   },
   {
    "duration": 78,
    "start_time": "2021-07-07T17:08:46.530Z"
   },
   {
    "duration": 40,
    "start_time": "2021-07-07T17:09:08.185Z"
   },
   {
    "duration": 16,
    "start_time": "2021-07-07T17:09:19.324Z"
   },
   {
    "duration": 21,
    "start_time": "2021-07-07T17:09:23.290Z"
   },
   {
    "duration": 13,
    "start_time": "2021-07-07T17:09:54.812Z"
   },
   {
    "duration": 13,
    "start_time": "2021-07-07T17:10:02.039Z"
   },
   {
    "duration": 10,
    "start_time": "2021-07-07T17:10:29.632Z"
   },
   {
    "duration": 13,
    "start_time": "2021-07-07T17:10:52.372Z"
   },
   {
    "duration": 13,
    "start_time": "2021-07-07T17:11:17.270Z"
   },
   {
    "duration": 13,
    "start_time": "2021-07-07T17:14:59.284Z"
   },
   {
    "duration": 547,
    "start_time": "2021-07-07T17:18:52.403Z"
   },
   {
    "duration": 163,
    "start_time": "2021-07-07T17:18:52.952Z"
   },
   {
    "duration": 44,
    "start_time": "2021-07-07T17:18:53.117Z"
   },
   {
    "duration": 3,
    "start_time": "2021-07-07T17:18:53.162Z"
   },
   {
    "duration": 26,
    "start_time": "2021-07-07T17:18:53.167Z"
   },
   {
    "duration": 6,
    "start_time": "2021-07-07T17:18:53.195Z"
   },
   {
    "duration": 15,
    "start_time": "2021-07-07T17:18:53.203Z"
   },
   {
    "duration": 5,
    "start_time": "2021-07-07T17:18:53.220Z"
   },
   {
    "duration": 11,
    "start_time": "2021-07-07T17:18:53.228Z"
   },
   {
    "duration": 9,
    "start_time": "2021-07-07T17:18:53.241Z"
   },
   {
    "duration": 41,
    "start_time": "2021-07-07T17:18:53.252Z"
   },
   {
    "duration": 33,
    "start_time": "2021-07-07T17:18:53.295Z"
   },
   {
    "duration": 19,
    "start_time": "2021-07-07T17:18:53.330Z"
   },
   {
    "duration": 49,
    "start_time": "2021-07-07T17:18:53.350Z"
   },
   {
    "duration": 5,
    "start_time": "2021-07-07T17:18:53.401Z"
   },
   {
    "duration": 5,
    "start_time": "2021-07-07T17:18:53.408Z"
   },
   {
    "duration": 11,
    "start_time": "2021-07-07T17:18:53.414Z"
   },
   {
    "duration": 9,
    "start_time": "2021-07-07T17:18:53.427Z"
   },
   {
    "duration": 10,
    "start_time": "2021-07-07T17:18:53.437Z"
   },
   {
    "duration": 39,
    "start_time": "2021-07-07T17:18:53.448Z"
   },
   {
    "duration": 26,
    "start_time": "2021-07-07T17:18:55.799Z"
   },
   {
    "duration": 598,
    "start_time": "2021-07-07T17:20:17.862Z"
   },
   {
    "duration": 161,
    "start_time": "2021-07-07T17:20:18.462Z"
   },
   {
    "duration": 45,
    "start_time": "2021-07-07T17:20:18.626Z"
   },
   {
    "duration": 4,
    "start_time": "2021-07-07T17:20:18.673Z"
   },
   {
    "duration": 38,
    "start_time": "2021-07-07T17:20:26.877Z"
   },
   {
    "duration": 7,
    "start_time": "2021-07-07T17:20:37.405Z"
   },
   {
    "duration": 19,
    "start_time": "2021-07-07T17:20:51.534Z"
   },
   {
    "duration": 5,
    "start_time": "2021-07-07T17:20:57.228Z"
   },
   {
    "duration": 7,
    "start_time": "2021-07-07T17:21:08.235Z"
   },
   {
    "duration": 19,
    "start_time": "2021-07-07T17:21:42.158Z"
   },
   {
    "duration": 14,
    "start_time": "2021-07-07T17:21:50.225Z"
   },
   {
    "duration": 22,
    "start_time": "2021-07-07T17:22:54.104Z"
   },
   {
    "duration": 5,
    "start_time": "2021-07-07T17:22:56.371Z"
   },
   {
    "duration": 14,
    "start_time": "2021-07-07T17:22:58.316Z"
   },
   {
    "duration": 5,
    "start_time": "2021-07-07T17:22:58.493Z"
   },
   {
    "duration": 35,
    "start_time": "2021-07-07T17:22:59.666Z"
   },
   {
    "duration": 6,
    "start_time": "2021-07-07T17:23:02.410Z"
   },
   {
    "duration": 611,
    "start_time": "2021-07-07T17:24:59.664Z"
   },
   {
    "duration": 178,
    "start_time": "2021-07-07T17:25:01.945Z"
   },
   {
    "duration": 47,
    "start_time": "2021-07-07T17:25:02.125Z"
   },
   {
    "duration": 2,
    "start_time": "2021-07-07T17:25:07.903Z"
   },
   {
    "duration": 254,
    "start_time": "2021-07-07T17:25:08.232Z"
   },
   {
    "duration": 182,
    "start_time": "2021-07-07T17:25:08.671Z"
   },
   {
    "duration": 6,
    "start_time": "2021-07-07T17:25:13.104Z"
   },
   {
    "duration": 36,
    "start_time": "2021-07-07T17:25:13.662Z"
   },
   {
    "duration": 7,
    "start_time": "2021-07-07T17:25:14.528Z"
   },
   {
    "duration": 24,
    "start_time": "2021-07-07T17:25:27.982Z"
   },
   {
    "duration": 3,
    "start_time": "2021-07-07T17:25:48.982Z"
   },
   {
    "duration": 165,
    "start_time": "2021-07-07T17:25:48.987Z"
   },
   {
    "duration": 50,
    "start_time": "2021-07-07T17:25:49.154Z"
   },
   {
    "duration": 4,
    "start_time": "2021-07-07T17:25:49.206Z"
   },
   {
    "duration": 26,
    "start_time": "2021-07-07T17:25:49.212Z"
   },
   {
    "duration": 7,
    "start_time": "2021-07-07T17:25:49.240Z"
   },
   {
    "duration": 16,
    "start_time": "2021-07-07T17:25:49.249Z"
   },
   {
    "duration": 22,
    "start_time": "2021-07-07T17:25:49.266Z"
   },
   {
    "duration": 16,
    "start_time": "2021-07-07T17:25:49.291Z"
   },
   {
    "duration": 9,
    "start_time": "2021-07-07T17:25:49.309Z"
   },
   {
    "duration": 7,
    "start_time": "2021-07-07T17:25:49.319Z"
   },
   {
    "duration": 28,
    "start_time": "2021-07-07T17:25:49.328Z"
   },
   {
    "duration": 44,
    "start_time": "2021-07-07T17:25:49.357Z"
   },
   {
    "duration": 22,
    "start_time": "2021-07-07T17:25:49.403Z"
   },
   {
    "duration": 7,
    "start_time": "2021-07-07T17:25:49.427Z"
   },
   {
    "duration": 3,
    "start_time": "2021-07-07T17:25:49.436Z"
   },
   {
    "duration": 44,
    "start_time": "2021-07-07T17:25:49.441Z"
   },
   {
    "duration": 12,
    "start_time": "2021-07-07T17:25:49.488Z"
   },
   {
    "duration": 13,
    "start_time": "2021-07-07T17:25:49.502Z"
   },
   {
    "duration": 10,
    "start_time": "2021-07-07T17:25:49.516Z"
   },
   {
    "duration": 62,
    "start_time": "2021-07-07T17:25:49.527Z"
   },
   {
    "duration": 26,
    "start_time": "2021-07-07T17:26:51.809Z"
   },
   {
    "duration": 26,
    "start_time": "2021-07-07T17:26:55.759Z"
   },
   {
    "duration": 26,
    "start_time": "2021-07-07T17:27:04.501Z"
   },
   {
    "duration": 25,
    "start_time": "2021-07-07T17:28:24.859Z"
   },
   {
    "duration": 21,
    "start_time": "2021-07-07T17:28:55.250Z"
   },
   {
    "duration": 21,
    "start_time": "2021-07-07T17:28:58.885Z"
   },
   {
    "duration": 7,
    "start_time": "2021-07-07T17:45:40.972Z"
   },
   {
    "duration": 13,
    "start_time": "2021-07-07T17:45:42.529Z"
   },
   {
    "duration": 27,
    "start_time": "2021-07-07T17:45:51.026Z"
   },
   {
    "duration": 518,
    "start_time": "2021-07-07T17:46:15.532Z"
   },
   {
    "duration": 235,
    "start_time": "2021-07-07T17:46:16.053Z"
   },
   {
    "duration": 80,
    "start_time": "2021-07-07T17:46:16.292Z"
   },
   {
    "duration": 5,
    "start_time": "2021-07-07T17:46:16.373Z"
   },
   {
    "duration": 26,
    "start_time": "2021-07-07T17:46:16.380Z"
   },
   {
    "duration": 7,
    "start_time": "2021-07-07T17:46:16.408Z"
   },
   {
    "duration": 16,
    "start_time": "2021-07-07T17:46:16.418Z"
   },
   {
    "duration": 5,
    "start_time": "2021-07-07T17:46:16.436Z"
   },
   {
    "duration": 13,
    "start_time": "2021-07-07T17:46:16.442Z"
   },
   {
    "duration": 35,
    "start_time": "2021-07-07T17:46:16.456Z"
   },
   {
    "duration": 8,
    "start_time": "2021-07-07T17:46:16.493Z"
   },
   {
    "duration": 28,
    "start_time": "2021-07-07T17:46:16.502Z"
   },
   {
    "duration": 17,
    "start_time": "2021-07-07T17:46:16.532Z"
   },
   {
    "duration": 44,
    "start_time": "2021-07-07T17:46:16.551Z"
   },
   {
    "duration": 6,
    "start_time": "2021-07-07T17:46:16.597Z"
   },
   {
    "duration": 4,
    "start_time": "2021-07-07T17:46:16.605Z"
   },
   {
    "duration": 9,
    "start_time": "2021-07-07T17:46:16.610Z"
   },
   {
    "duration": 9,
    "start_time": "2021-07-07T17:46:16.621Z"
   },
   {
    "duration": 10,
    "start_time": "2021-07-07T17:46:16.632Z"
   },
   {
    "duration": 43,
    "start_time": "2021-07-07T17:46:16.644Z"
   },
   {
    "duration": 26,
    "start_time": "2021-07-07T17:46:16.689Z"
   },
   {
    "duration": 19,
    "start_time": "2021-07-07T17:46:16.718Z"
   },
   {
    "duration": 8,
    "start_time": "2021-07-07T17:46:16.738Z"
   },
   {
    "duration": 43,
    "start_time": "2021-07-07T17:46:16.747Z"
   },
   {
    "duration": 19,
    "start_time": "2021-07-07T17:46:16.791Z"
   },
   {
    "duration": 9,
    "start_time": "2021-07-07T17:46:16.812Z"
   },
   {
    "duration": 60,
    "start_time": "2021-07-07T17:46:16.822Z"
   },
   {
    "duration": -8,
    "start_time": "2021-07-07T17:46:16.892Z"
   },
   {
    "duration": 12,
    "start_time": "2021-07-07T17:48:47.707Z"
   },
   {
    "duration": 553,
    "start_time": "2021-07-07T18:10:09.350Z"
   },
   {
    "duration": 230,
    "start_time": "2021-07-07T18:10:09.905Z"
   },
   {
    "duration": 97,
    "start_time": "2021-07-07T18:10:10.137Z"
   },
   {
    "duration": 5,
    "start_time": "2021-07-07T18:10:10.236Z"
   },
   {
    "duration": 29,
    "start_time": "2021-07-07T18:10:10.242Z"
   },
   {
    "duration": 7,
    "start_time": "2021-07-07T18:10:10.272Z"
   },
   {
    "duration": 15,
    "start_time": "2021-07-07T18:10:10.281Z"
   },
   {
    "duration": 4,
    "start_time": "2021-07-07T18:10:10.299Z"
   },
   {
    "duration": 14,
    "start_time": "2021-07-07T18:10:10.305Z"
   },
   {
    "duration": 8,
    "start_time": "2021-07-07T18:10:10.321Z"
   },
   {
    "duration": 8,
    "start_time": "2021-07-07T18:10:10.331Z"
   },
   {
    "duration": 56,
    "start_time": "2021-07-07T18:10:10.341Z"
   },
   {
    "duration": 19,
    "start_time": "2021-07-07T18:10:10.399Z"
   },
   {
    "duration": 23,
    "start_time": "2021-07-07T18:10:10.419Z"
   },
   {
    "duration": 6,
    "start_time": "2021-07-07T18:10:10.444Z"
   },
   {
    "duration": 9,
    "start_time": "2021-07-07T18:10:10.451Z"
   },
   {
    "duration": 30,
    "start_time": "2021-07-07T18:10:10.462Z"
   },
   {
    "duration": 9,
    "start_time": "2021-07-07T18:10:10.494Z"
   },
   {
    "duration": 14,
    "start_time": "2021-07-07T18:10:10.505Z"
   },
   {
    "duration": 7,
    "start_time": "2021-07-07T18:10:10.521Z"
   },
   {
    "duration": 26,
    "start_time": "2021-07-07T18:10:10.530Z"
   },
   {
    "duration": 44,
    "start_time": "2021-07-07T18:10:10.558Z"
   },
   {
    "duration": 7,
    "start_time": "2021-07-07T18:10:10.605Z"
   },
   {
    "duration": 11,
    "start_time": "2021-07-07T18:10:10.614Z"
   },
   {
    "duration": 19,
    "start_time": "2021-07-07T18:10:10.626Z"
   },
   {
    "duration": 44,
    "start_time": "2021-07-07T18:10:10.646Z"
   },
   {
    "duration": 516,
    "start_time": "2021-07-07T18:14:00.826Z"
   },
   {
    "duration": 230,
    "start_time": "2021-07-07T18:14:01.344Z"
   },
   {
    "duration": 105,
    "start_time": "2021-07-07T18:14:01.576Z"
   },
   {
    "duration": 5,
    "start_time": "2021-07-07T18:14:01.683Z"
   },
   {
    "duration": 46,
    "start_time": "2021-07-07T18:14:01.690Z"
   },
   {
    "duration": 7,
    "start_time": "2021-07-07T18:14:01.738Z"
   },
   {
    "duration": 20,
    "start_time": "2021-07-07T18:14:01.747Z"
   },
   {
    "duration": 16,
    "start_time": "2021-07-07T18:14:01.769Z"
   },
   {
    "duration": 14,
    "start_time": "2021-07-07T18:14:01.787Z"
   },
   {
    "duration": 15,
    "start_time": "2021-07-07T18:14:01.803Z"
   },
   {
    "duration": 12,
    "start_time": "2021-07-07T18:14:01.820Z"
   },
   {
    "duration": 35,
    "start_time": "2021-07-07T18:14:01.833Z"
   },
   {
    "duration": 31,
    "start_time": "2021-07-07T18:14:01.869Z"
   },
   {
    "duration": 37,
    "start_time": "2021-07-07T18:14:01.902Z"
   },
   {
    "duration": 8,
    "start_time": "2021-07-07T18:14:01.942Z"
   },
   {
    "duration": 16,
    "start_time": "2021-07-07T18:14:01.952Z"
   },
   {
    "duration": 13,
    "start_time": "2021-07-07T18:14:01.970Z"
   },
   {
    "duration": 32,
    "start_time": "2021-07-07T18:14:01.985Z"
   },
   {
    "duration": 11,
    "start_time": "2021-07-07T18:14:02.019Z"
   },
   {
    "duration": 22,
    "start_time": "2021-07-07T18:14:02.031Z"
   },
   {
    "duration": 27,
    "start_time": "2021-07-07T18:14:02.055Z"
   },
   {
    "duration": 18,
    "start_time": "2021-07-07T18:14:02.084Z"
   },
   {
    "duration": 18,
    "start_time": "2021-07-07T18:14:02.106Z"
   },
   {
    "duration": 11,
    "start_time": "2021-07-07T18:14:02.126Z"
   },
   {
    "duration": 21,
    "start_time": "2021-07-07T18:14:02.138Z"
   },
   {
    "duration": 32,
    "start_time": "2021-07-07T18:14:02.161Z"
   },
   {
    "duration": 28,
    "start_time": "2021-07-07T18:14:44.295Z"
   },
   {
    "duration": 6,
    "start_time": "2021-07-07T18:15:05.834Z"
   },
   {
    "duration": 511,
    "start_time": "2021-07-07T18:15:41.541Z"
   },
   {
    "duration": 183,
    "start_time": "2021-07-07T18:15:42.054Z"
   },
   {
    "duration": 50,
    "start_time": "2021-07-07T18:15:42.239Z"
   },
   {
    "duration": 5,
    "start_time": "2021-07-07T18:15:42.291Z"
   },
   {
    "duration": 48,
    "start_time": "2021-07-07T18:15:42.297Z"
   },
   {
    "duration": 8,
    "start_time": "2021-07-07T18:15:42.346Z"
   },
   {
    "duration": 17,
    "start_time": "2021-07-07T18:15:42.356Z"
   },
   {
    "duration": 15,
    "start_time": "2021-07-07T18:15:42.375Z"
   },
   {
    "duration": 12,
    "start_time": "2021-07-07T18:15:42.392Z"
   },
   {
    "duration": 7,
    "start_time": "2021-07-07T18:15:42.406Z"
   },
   {
    "duration": 7,
    "start_time": "2021-07-07T18:15:42.415Z"
   },
   {
    "duration": 29,
    "start_time": "2021-07-07T18:15:42.423Z"
   },
   {
    "duration": 43,
    "start_time": "2021-07-07T18:15:42.453Z"
   },
   {
    "duration": 18,
    "start_time": "2021-07-07T18:15:42.497Z"
   },
   {
    "duration": 6,
    "start_time": "2021-07-07T18:15:42.516Z"
   },
   {
    "duration": 3,
    "start_time": "2021-07-07T18:15:42.523Z"
   },
   {
    "duration": 18,
    "start_time": "2021-07-07T18:15:42.528Z"
   },
   {
    "duration": 10,
    "start_time": "2021-07-07T18:15:42.547Z"
   },
   {
    "duration": 36,
    "start_time": "2021-07-07T18:15:42.559Z"
   },
   {
    "duration": 8,
    "start_time": "2021-07-07T18:15:42.597Z"
   },
   {
    "duration": 28,
    "start_time": "2021-07-07T18:15:42.606Z"
   },
   {
    "duration": 52,
    "start_time": "2021-07-07T18:15:42.635Z"
   },
   {
    "duration": 7,
    "start_time": "2021-07-07T18:15:42.690Z"
   },
   {
    "duration": 10,
    "start_time": "2021-07-07T18:15:42.699Z"
   },
   {
    "duration": 19,
    "start_time": "2021-07-07T18:15:42.711Z"
   },
   {
    "duration": 9,
    "start_time": "2021-07-07T18:15:42.732Z"
   },
   {
    "duration": 5,
    "start_time": "2021-07-07T18:15:42.743Z"
   },
   {
    "duration": 1450,
    "start_time": "2021-07-07T18:15:51.984Z"
   },
   {
    "duration": 161,
    "start_time": "2021-07-07T18:15:53.435Z"
   },
   {
    "duration": 124,
    "start_time": "2021-07-07T18:15:53.598Z"
   },
   {
    "duration": 5,
    "start_time": "2021-07-07T18:15:53.724Z"
   },
   {
    "duration": 34,
    "start_time": "2021-07-07T18:15:53.730Z"
   },
   {
    "duration": 7,
    "start_time": "2021-07-07T18:15:53.765Z"
   },
   {
    "duration": 15,
    "start_time": "2021-07-07T18:15:53.773Z"
   },
   {
    "duration": 5,
    "start_time": "2021-07-07T18:15:53.791Z"
   },
   {
    "duration": 19,
    "start_time": "2021-07-07T18:15:53.798Z"
   },
   {
    "duration": 9,
    "start_time": "2021-07-07T18:15:53.818Z"
   },
   {
    "duration": 19,
    "start_time": "2021-07-07T18:15:53.828Z"
   },
   {
    "duration": 27,
    "start_time": "2021-07-07T18:15:53.848Z"
   },
   {
    "duration": 16,
    "start_time": "2021-07-07T18:15:53.884Z"
   },
   {
    "duration": 29,
    "start_time": "2021-07-07T18:15:53.901Z"
   },
   {
    "duration": 5,
    "start_time": "2021-07-07T18:15:53.932Z"
   },
   {
    "duration": 15,
    "start_time": "2021-07-07T18:15:53.939Z"
   },
   {
    "duration": 13,
    "start_time": "2021-07-07T18:15:53.956Z"
   },
   {
    "duration": 20,
    "start_time": "2021-07-07T18:15:53.971Z"
   },
   {
    "duration": 14,
    "start_time": "2021-07-07T18:15:53.992Z"
   },
   {
    "duration": 9,
    "start_time": "2021-07-07T18:15:54.009Z"
   },
   {
    "duration": 28,
    "start_time": "2021-07-07T18:15:54.020Z"
   },
   {
    "duration": 50,
    "start_time": "2021-07-07T18:15:54.051Z"
   },
   {
    "duration": 8,
    "start_time": "2021-07-07T18:15:54.105Z"
   },
   {
    "duration": 11,
    "start_time": "2021-07-07T18:15:54.115Z"
   },
   {
    "duration": 20,
    "start_time": "2021-07-07T18:15:54.128Z"
   },
   {
    "duration": 13,
    "start_time": "2021-07-07T18:15:54.184Z"
   },
   {
    "duration": 7,
    "start_time": "2021-07-07T18:15:54.199Z"
   },
   {
    "duration": 7,
    "start_time": "2021-07-07T18:17:08.042Z"
   },
   {
    "duration": 8,
    "start_time": "2021-07-07T18:17:21.008Z"
   },
   {
    "duration": 7,
    "start_time": "2021-07-07T18:17:29.003Z"
   },
   {
    "duration": 8,
    "start_time": "2021-07-07T18:17:32.492Z"
   },
   {
    "duration": 9,
    "start_time": "2021-07-07T18:17:41.758Z"
   },
   {
    "duration": 255,
    "start_time": "2021-07-07T18:20:20.897Z"
   },
   {
    "duration": 173,
    "start_time": "2021-07-07T18:20:26.636Z"
   },
   {
    "duration": 7,
    "start_time": "2021-07-07T18:21:47.164Z"
   },
   {
    "duration": 254,
    "start_time": "2021-07-07T18:23:08.703Z"
   },
   {
    "duration": 21,
    "start_time": "2021-07-07T18:23:22.506Z"
   },
   {
    "duration": 315,
    "start_time": "2021-07-07T18:25:54.801Z"
   },
   {
    "duration": 34,
    "start_time": "2021-07-07T18:26:51.817Z"
   },
   {
    "duration": 327,
    "start_time": "2021-07-07T18:26:56.147Z"
   },
   {
    "duration": 342,
    "start_time": "2021-07-07T18:27:15.887Z"
   },
   {
    "duration": 302,
    "start_time": "2021-07-07T18:28:18.569Z"
   },
   {
    "duration": 226,
    "start_time": "2021-07-07T18:29:20.879Z"
   },
   {
    "duration": 207,
    "start_time": "2021-07-07T18:29:58.114Z"
   },
   {
    "duration": 140,
    "start_time": "2021-07-07T18:32:04.372Z"
   },
   {
    "duration": 158,
    "start_time": "2021-07-07T18:32:32.508Z"
   },
   {
    "duration": 145,
    "start_time": "2021-07-07T18:32:41.365Z"
   },
   {
    "duration": 132,
    "start_time": "2021-07-07T18:32:45.199Z"
   },
   {
    "duration": 11,
    "start_time": "2021-07-07T18:35:24.679Z"
   },
   {
    "duration": 268,
    "start_time": "2021-07-07T18:36:16.145Z"
   },
   {
    "duration": 227,
    "start_time": "2021-07-07T18:37:04.918Z"
   },
   {
    "duration": 3,
    "start_time": "2021-07-07T18:37:33.012Z"
   },
   {
    "duration": 671,
    "start_time": "2021-07-07T18:37:38.295Z"
   },
   {
    "duration": 54,
    "start_time": "2021-07-07T18:37:53.406Z"
   },
   {
    "duration": 631,
    "start_time": "2021-07-07T18:37:56.463Z"
   },
   {
    "duration": 19,
    "start_time": "2021-07-07T18:39:40.535Z"
   },
   {
    "duration": 20,
    "start_time": "2021-07-07T18:40:12.236Z"
   },
   {
    "duration": 633,
    "start_time": "2021-07-07T18:42:00.398Z"
   },
   {
    "duration": 218,
    "start_time": "2021-07-07T18:42:01.033Z"
   },
   {
    "duration": 49,
    "start_time": "2021-07-07T18:42:01.253Z"
   },
   {
    "duration": 5,
    "start_time": "2021-07-07T18:42:01.303Z"
   },
   {
    "duration": 27,
    "start_time": "2021-07-07T18:42:01.310Z"
   },
   {
    "duration": 8,
    "start_time": "2021-07-07T18:42:01.339Z"
   },
   {
    "duration": 20,
    "start_time": "2021-07-07T18:42:01.348Z"
   },
   {
    "duration": 6,
    "start_time": "2021-07-07T18:42:01.386Z"
   },
   {
    "duration": 16,
    "start_time": "2021-07-07T18:42:01.394Z"
   },
   {
    "duration": 9,
    "start_time": "2021-07-07T18:42:01.411Z"
   },
   {
    "duration": 11,
    "start_time": "2021-07-07T18:42:01.421Z"
   },
   {
    "duration": 31,
    "start_time": "2021-07-07T18:42:01.434Z"
   },
   {
    "duration": 18,
    "start_time": "2021-07-07T18:42:01.485Z"
   },
   {
    "duration": 23,
    "start_time": "2021-07-07T18:42:01.505Z"
   },
   {
    "duration": 6,
    "start_time": "2021-07-07T18:42:01.530Z"
   },
   {
    "duration": 10,
    "start_time": "2021-07-07T18:42:01.538Z"
   },
   {
    "duration": 13,
    "start_time": "2021-07-07T18:42:01.550Z"
   },
   {
    "duration": 24,
    "start_time": "2021-07-07T18:42:01.564Z"
   },
   {
    "duration": 20,
    "start_time": "2021-07-07T18:42:01.590Z"
   },
   {
    "duration": 8,
    "start_time": "2021-07-07T18:42:01.611Z"
   },
   {
    "duration": 31,
    "start_time": "2021-07-07T18:42:01.620Z"
   },
   {
    "duration": 39,
    "start_time": "2021-07-07T18:42:01.653Z"
   },
   {
    "duration": 8,
    "start_time": "2021-07-07T18:42:01.696Z"
   },
   {
    "duration": 13,
    "start_time": "2021-07-07T18:42:01.705Z"
   },
   {
    "duration": 20,
    "start_time": "2021-07-07T18:42:01.720Z"
   },
   {
    "duration": 12,
    "start_time": "2021-07-07T18:42:01.741Z"
   },
   {
    "duration": 35,
    "start_time": "2021-07-07T18:42:01.755Z"
   },
   {
    "duration": 14,
    "start_time": "2021-07-07T18:42:01.792Z"
   },
   {
    "duration": 188,
    "start_time": "2021-07-07T18:42:01.808Z"
   },
   {
    "duration": 19,
    "start_time": "2021-07-07T18:42:01.998Z"
   },
   {
    "duration": 175,
    "start_time": "2021-07-07T18:42:02.019Z"
   },
   {
    "duration": 134,
    "start_time": "2021-07-07T18:42:02.196Z"
   },
   {
    "duration": 10,
    "start_time": "2021-07-07T18:42:02.331Z"
   },
   {
    "duration": 19,
    "start_time": "2021-07-07T18:42:02.343Z"
   },
   {
    "duration": 628,
    "start_time": "2021-07-07T18:46:30.701Z"
   },
   {
    "duration": 183,
    "start_time": "2021-07-07T18:46:31.331Z"
   },
   {
    "duration": 48,
    "start_time": "2021-07-07T18:46:31.516Z"
   },
   {
    "duration": 5,
    "start_time": "2021-07-07T18:46:31.566Z"
   },
   {
    "duration": 28,
    "start_time": "2021-07-07T18:46:31.572Z"
   },
   {
    "duration": 8,
    "start_time": "2021-07-07T18:46:31.602Z"
   },
   {
    "duration": 19,
    "start_time": "2021-07-07T18:46:31.611Z"
   },
   {
    "duration": 6,
    "start_time": "2021-07-07T18:46:31.633Z"
   },
   {
    "duration": 17,
    "start_time": "2021-07-07T18:46:31.642Z"
   },
   {
    "duration": 10,
    "start_time": "2021-07-07T18:46:31.684Z"
   },
   {
    "duration": 9,
    "start_time": "2021-07-07T18:46:31.695Z"
   },
   {
    "duration": 28,
    "start_time": "2021-07-07T18:46:31.705Z"
   },
   {
    "duration": 18,
    "start_time": "2021-07-07T18:46:31.735Z"
   },
   {
    "duration": 48,
    "start_time": "2021-07-07T18:46:31.755Z"
   },
   {
    "duration": 6,
    "start_time": "2021-07-07T18:46:31.804Z"
   },
   {
    "duration": 4,
    "start_time": "2021-07-07T18:46:31.812Z"
   },
   {
    "duration": 9,
    "start_time": "2021-07-07T18:46:31.817Z"
   },
   {
    "duration": 10,
    "start_time": "2021-07-07T18:46:31.827Z"
   },
   {
    "duration": 12,
    "start_time": "2021-07-07T18:46:31.838Z"
   },
   {
    "duration": 39,
    "start_time": "2021-07-07T18:46:31.851Z"
   },
   {
    "duration": 24,
    "start_time": "2021-07-07T18:46:31.892Z"
   },
   {
    "duration": 15,
    "start_time": "2021-07-07T18:46:31.918Z"
   },
   {
    "duration": 7,
    "start_time": "2021-07-07T18:46:31.936Z"
   },
   {
    "duration": 8,
    "start_time": "2021-07-07T18:46:31.944Z"
   },
   {
    "duration": 19,
    "start_time": "2021-07-07T18:46:31.984Z"
   },
   {
    "duration": 10,
    "start_time": "2021-07-07T18:46:32.004Z"
   },
   {
    "duration": 5,
    "start_time": "2021-07-07T18:46:32.016Z"
   },
   {
    "duration": 9,
    "start_time": "2021-07-07T18:46:32.023Z"
   },
   {
    "duration": 199,
    "start_time": "2021-07-07T18:46:32.033Z"
   },
   {
    "duration": 19,
    "start_time": "2021-07-07T18:46:32.234Z"
   },
   {
    "duration": 159,
    "start_time": "2021-07-07T18:46:32.255Z"
   },
   {
    "duration": 134,
    "start_time": "2021-07-07T18:46:32.416Z"
   },
   {
    "duration": 10,
    "start_time": "2021-07-07T18:46:32.552Z"
   },
   {
    "duration": 34,
    "start_time": "2021-07-07T18:46:32.563Z"
   },
   {
    "duration": 1039,
    "start_time": "2021-07-08T08:41:09.419Z"
   },
   {
    "duration": 333,
    "start_time": "2021-07-08T08:41:10.459Z"
   },
   {
    "duration": 173,
    "start_time": "2021-07-08T08:41:10.794Z"
   },
   {
    "duration": 5,
    "start_time": "2021-07-08T08:41:10.968Z"
   },
   {
    "duration": 25,
    "start_time": "2021-07-08T08:41:10.975Z"
   },
   {
    "duration": 9,
    "start_time": "2021-07-08T08:41:11.002Z"
   },
   {
    "duration": 18,
    "start_time": "2021-07-08T08:41:11.013Z"
   },
   {
    "duration": 6,
    "start_time": "2021-07-08T08:41:11.033Z"
   },
   {
    "duration": 44,
    "start_time": "2021-07-08T08:41:11.042Z"
   },
   {
    "duration": 10,
    "start_time": "2021-07-08T08:41:11.088Z"
   },
   {
    "duration": 9,
    "start_time": "2021-07-08T08:41:11.100Z"
   },
   {
    "duration": 27,
    "start_time": "2021-07-08T08:41:11.111Z"
   },
   {
    "duration": 46,
    "start_time": "2021-07-08T08:41:11.140Z"
   },
   {
    "duration": 17,
    "start_time": "2021-07-08T08:41:11.187Z"
   },
   {
    "duration": 6,
    "start_time": "2021-07-08T08:41:11.206Z"
   },
   {
    "duration": 5,
    "start_time": "2021-07-08T08:41:11.213Z"
   },
   {
    "duration": 10,
    "start_time": "2021-07-08T08:41:11.219Z"
   },
   {
    "duration": 9,
    "start_time": "2021-07-08T08:41:11.230Z"
   },
   {
    "duration": 45,
    "start_time": "2021-07-08T08:41:11.241Z"
   },
   {
    "duration": 7,
    "start_time": "2021-07-08T08:41:11.287Z"
   },
   {
    "duration": 24,
    "start_time": "2021-07-08T08:41:11.296Z"
   },
   {
    "duration": 16,
    "start_time": "2021-07-08T08:41:11.322Z"
   },
   {
    "duration": 7,
    "start_time": "2021-07-08T08:41:11.341Z"
   },
   {
    "duration": 41,
    "start_time": "2021-07-08T08:41:11.349Z"
   },
   {
    "duration": 17,
    "start_time": "2021-07-08T08:41:11.391Z"
   },
   {
    "duration": 9,
    "start_time": "2021-07-08T08:41:11.410Z"
   },
   {
    "duration": 5,
    "start_time": "2021-07-08T08:41:11.421Z"
   },
   {
    "duration": 6,
    "start_time": "2021-07-08T08:41:11.428Z"
   },
   {
    "duration": 198,
    "start_time": "2021-07-08T08:41:11.435Z"
   },
   {
    "duration": 18,
    "start_time": "2021-07-08T08:41:11.635Z"
   },
   {
    "duration": 155,
    "start_time": "2021-07-08T08:41:11.655Z"
   },
   {
    "duration": 138,
    "start_time": "2021-07-08T08:41:11.811Z"
   },
   {
    "duration": 10,
    "start_time": "2021-07-08T08:41:11.950Z"
   },
   {
    "duration": 29,
    "start_time": "2021-07-08T08:41:11.961Z"
   },
   {
    "duration": 171,
    "start_time": "2021-07-08T08:47:44.522Z"
   },
   {
    "duration": 124,
    "start_time": "2021-07-08T08:47:46.872Z"
   },
   {
    "duration": 191,
    "start_time": "2021-07-08T08:47:58.148Z"
   },
   {
    "duration": 191,
    "start_time": "2021-07-08T08:48:07.412Z"
   },
   {
    "duration": 261,
    "start_time": "2021-07-08T08:48:10.385Z"
   },
   {
    "duration": 255,
    "start_time": "2021-07-08T08:48:14.494Z"
   },
   {
    "duration": 219,
    "start_time": "2021-07-08T08:48:22.752Z"
   },
   {
    "duration": 173,
    "start_time": "2021-07-08T08:49:06.395Z"
   },
   {
    "duration": 180,
    "start_time": "2021-07-08T08:49:21.011Z"
   },
   {
    "duration": 6,
    "start_time": "2021-07-08T08:50:31.697Z"
   },
   {
    "duration": 10,
    "start_time": "2021-07-08T08:50:47.394Z"
   },
   {
    "duration": 11,
    "start_time": "2021-07-08T08:53:49.332Z"
   },
   {
    "duration": 171,
    "start_time": "2021-07-08T08:54:28.408Z"
   },
   {
    "duration": 636,
    "start_time": "2021-07-08T09:02:48.385Z"
   },
   {
    "duration": 227,
    "start_time": "2021-07-08T09:02:49.023Z"
   },
   {
    "duration": 104,
    "start_time": "2021-07-08T09:02:49.252Z"
   },
   {
    "duration": 5,
    "start_time": "2021-07-08T09:02:49.358Z"
   },
   {
    "duration": 27,
    "start_time": "2021-07-08T09:02:49.365Z"
   },
   {
    "duration": 8,
    "start_time": "2021-07-08T09:02:49.394Z"
   },
   {
    "duration": 18,
    "start_time": "2021-07-08T09:02:49.404Z"
   },
   {
    "duration": 6,
    "start_time": "2021-07-08T09:02:49.424Z"
   },
   {
    "duration": 11,
    "start_time": "2021-07-08T09:02:49.433Z"
   },
   {
    "duration": 13,
    "start_time": "2021-07-08T09:02:49.485Z"
   },
   {
    "duration": 9,
    "start_time": "2021-07-08T09:02:49.500Z"
   },
   {
    "duration": 38,
    "start_time": "2021-07-08T09:02:49.511Z"
   },
   {
    "duration": 42,
    "start_time": "2021-07-08T09:02:49.551Z"
   },
   {
    "duration": 21,
    "start_time": "2021-07-08T09:02:49.594Z"
   },
   {
    "duration": 6,
    "start_time": "2021-07-08T09:02:49.616Z"
   },
   {
    "duration": 3,
    "start_time": "2021-07-08T09:02:49.623Z"
   },
   {
    "duration": 9,
    "start_time": "2021-07-08T09:02:49.628Z"
   },
   {
    "duration": 52,
    "start_time": "2021-07-08T09:02:49.638Z"
   },
   {
    "duration": 11,
    "start_time": "2021-07-08T09:02:49.692Z"
   },
   {
    "duration": 8,
    "start_time": "2021-07-08T09:02:49.704Z"
   },
   {
    "duration": 27,
    "start_time": "2021-07-08T09:02:49.713Z"
   },
   {
    "duration": 59,
    "start_time": "2021-07-08T09:02:49.741Z"
   },
   {
    "duration": 8,
    "start_time": "2021-07-08T09:02:49.803Z"
   },
   {
    "duration": 14,
    "start_time": "2021-07-08T09:02:49.813Z"
   },
   {
    "duration": 20,
    "start_time": "2021-07-08T09:02:49.829Z"
   },
   {
    "duration": 44,
    "start_time": "2021-07-08T09:02:49.851Z"
   },
   {
    "duration": 14,
    "start_time": "2021-07-08T09:02:49.896Z"
   },
   {
    "duration": 221,
    "start_time": "2021-07-08T09:02:49.912Z"
   },
   {
    "duration": 6,
    "start_time": "2021-07-08T09:02:50.134Z"
   },
   {
    "duration": 206,
    "start_time": "2021-07-08T09:02:50.142Z"
   },
   {
    "duration": 19,
    "start_time": "2021-07-08T09:02:50.350Z"
   },
   {
    "duration": 21,
    "start_time": "2021-07-08T09:02:50.370Z"
   },
   {
    "duration": 20,
    "start_time": "2021-07-08T09:02:50.393Z"
   },
   {
    "duration": 5,
    "start_time": "2021-07-08T09:02:50.414Z"
   },
   {
    "duration": 5,
    "start_time": "2021-07-08T09:03:34.173Z"
   },
   {
    "duration": 6,
    "start_time": "2021-07-08T09:04:49.062Z"
   },
   {
    "duration": 9,
    "start_time": "2021-07-08T09:04:50.118Z"
   },
   {
    "duration": 14,
    "start_time": "2021-07-08T09:04:58.512Z"
   },
   {
    "duration": 9,
    "start_time": "2021-07-08T09:05:10.988Z"
   },
   {
    "duration": 11,
    "start_time": "2021-07-08T09:05:11.743Z"
   },
   {
    "duration": 7,
    "start_time": "2021-07-08T09:05:25.677Z"
   },
   {
    "duration": 13,
    "start_time": "2021-07-08T09:05:47.189Z"
   },
   {
    "duration": 13,
    "start_time": "2021-07-08T09:05:54.755Z"
   },
   {
    "duration": 4,
    "start_time": "2021-07-08T09:06:29.189Z"
   },
   {
    "duration": 244,
    "start_time": "2021-07-08T09:06:29.195Z"
   },
   {
    "duration": 91,
    "start_time": "2021-07-08T09:06:29.441Z"
   },
   {
    "duration": 4,
    "start_time": "2021-07-08T09:06:29.534Z"
   },
   {
    "duration": 28,
    "start_time": "2021-07-08T09:06:29.540Z"
   },
   {
    "duration": 6,
    "start_time": "2021-07-08T09:06:29.570Z"
   },
   {
    "duration": 18,
    "start_time": "2021-07-08T09:06:29.578Z"
   },
   {
    "duration": 5,
    "start_time": "2021-07-08T09:06:29.597Z"
   },
   {
    "duration": 13,
    "start_time": "2021-07-08T09:06:29.605Z"
   },
   {
    "duration": 8,
    "start_time": "2021-07-08T09:06:29.620Z"
   },
   {
    "duration": 7,
    "start_time": "2021-07-08T09:06:29.630Z"
   },
   {
    "duration": 63,
    "start_time": "2021-07-08T09:06:29.639Z"
   },
   {
    "duration": 17,
    "start_time": "2021-07-08T09:06:29.704Z"
   },
   {
    "duration": 20,
    "start_time": "2021-07-08T09:06:29.723Z"
   },
   {
    "duration": 6,
    "start_time": "2021-07-08T09:06:29.745Z"
   },
   {
    "duration": 3,
    "start_time": "2021-07-08T09:06:29.752Z"
   },
   {
    "duration": 7,
    "start_time": "2021-07-08T09:06:29.785Z"
   },
   {
    "duration": 11,
    "start_time": "2021-07-08T09:06:29.794Z"
   },
   {
    "duration": 15,
    "start_time": "2021-07-08T09:06:29.807Z"
   },
   {
    "duration": 8,
    "start_time": "2021-07-08T09:06:29.823Z"
   },
   {
    "duration": 70,
    "start_time": "2021-07-08T09:06:29.832Z"
   },
   {
    "duration": 17,
    "start_time": "2021-07-08T09:06:29.903Z"
   },
   {
    "duration": 9,
    "start_time": "2021-07-08T09:06:29.921Z"
   },
   {
    "duration": 9,
    "start_time": "2021-07-08T09:06:29.932Z"
   },
   {
    "duration": 57,
    "start_time": "2021-07-08T09:06:29.942Z"
   },
   {
    "duration": 11,
    "start_time": "2021-07-08T09:06:30.001Z"
   },
   {
    "duration": 19,
    "start_time": "2021-07-08T09:06:30.016Z"
   },
   {
    "duration": 217,
    "start_time": "2021-07-08T09:06:30.037Z"
   },
   {
    "duration": 6,
    "start_time": "2021-07-08T09:06:30.255Z"
   },
   {
    "duration": 205,
    "start_time": "2021-07-08T09:06:30.263Z"
   },
   {
    "duration": 27,
    "start_time": "2021-07-08T09:06:30.470Z"
   },
   {
    "duration": 11,
    "start_time": "2021-07-08T09:06:30.500Z"
   },
   {
    "duration": 31,
    "start_time": "2021-07-08T09:06:30.513Z"
   },
   {
    "duration": 18,
    "start_time": "2021-07-08T09:06:30.546Z"
   },
   {
    "duration": 11,
    "start_time": "2021-07-08T09:06:30.566Z"
   },
   {
    "duration": 19,
    "start_time": "2021-07-08T09:06:30.579Z"
   },
   {
    "duration": 20,
    "start_time": "2021-07-08T09:06:49.466Z"
   },
   {
    "duration": 9,
    "start_time": "2021-07-08T09:06:51.994Z"
   },
   {
    "duration": 20,
    "start_time": "2021-07-08T09:06:52.273Z"
   },
   {
    "duration": 246,
    "start_time": "2021-07-08T09:10:21.272Z"
   },
   {
    "duration": 84,
    "start_time": "2021-07-08T09:10:21.436Z"
   },
   {
    "duration": 7,
    "start_time": "2021-07-08T09:10:37.608Z"
   },
   {
    "duration": 189,
    "start_time": "2021-07-08T09:10:38.573Z"
   },
   {
    "duration": 185,
    "start_time": "2021-07-08T09:10:53.181Z"
   },
   {
    "duration": 11,
    "start_time": "2021-07-08T09:10:59.549Z"
   },
   {
    "duration": 42,
    "start_time": "2021-07-08T09:10:59.709Z"
   },
   {
    "duration": 12,
    "start_time": "2021-07-08T09:11:02.857Z"
   },
   {
    "duration": 28,
    "start_time": "2021-07-08T09:11:10.062Z"
   },
   {
    "duration": 249,
    "start_time": "2021-07-08T09:11:37.388Z"
   },
   {
    "duration": 232,
    "start_time": "2021-07-08T09:11:49.485Z"
   },
   {
    "duration": 453,
    "start_time": "2021-07-08T09:12:01.546Z"
   },
   {
    "duration": 440,
    "start_time": "2021-07-08T09:12:12.347Z"
   },
   {
    "duration": 213,
    "start_time": "2021-07-08T09:13:32.196Z"
   },
   {
    "duration": 172,
    "start_time": "2021-07-08T09:14:07.400Z"
   },
   {
    "duration": 185,
    "start_time": "2021-07-08T09:14:14.905Z"
   },
   {
    "duration": 209,
    "start_time": "2021-07-08T09:14:40.109Z"
   },
   {
    "duration": 201,
    "start_time": "2021-07-08T09:14:54.506Z"
   },
   {
    "duration": 622,
    "start_time": "2021-07-08T09:18:14.497Z"
   },
   {
    "duration": 220,
    "start_time": "2021-07-08T09:18:15.121Z"
   },
   {
    "duration": 79,
    "start_time": "2021-07-08T09:18:15.343Z"
   },
   {
    "duration": 4,
    "start_time": "2021-07-08T09:18:15.425Z"
   },
   {
    "duration": 24,
    "start_time": "2021-07-08T09:18:15.431Z"
   },
   {
    "duration": 8,
    "start_time": "2021-07-08T09:18:15.457Z"
   },
   {
    "duration": 16,
    "start_time": "2021-07-08T09:18:15.466Z"
   },
   {
    "duration": 5,
    "start_time": "2021-07-08T09:18:15.484Z"
   },
   {
    "duration": 10,
    "start_time": "2021-07-08T09:18:15.493Z"
   },
   {
    "duration": 8,
    "start_time": "2021-07-08T09:18:15.504Z"
   },
   {
    "duration": 7,
    "start_time": "2021-07-08T09:18:15.513Z"
   },
   {
    "duration": 26,
    "start_time": "2021-07-08T09:18:15.522Z"
   },
   {
    "duration": 49,
    "start_time": "2021-07-08T09:18:15.550Z"
   },
   {
    "duration": 21,
    "start_time": "2021-07-08T09:18:15.601Z"
   },
   {
    "duration": 8,
    "start_time": "2021-07-08T09:18:15.624Z"
   },
   {
    "duration": 3,
    "start_time": "2021-07-08T09:18:15.634Z"
   },
   {
    "duration": 8,
    "start_time": "2021-07-08T09:18:15.639Z"
   },
   {
    "duration": 45,
    "start_time": "2021-07-08T09:18:15.649Z"
   },
   {
    "duration": 13,
    "start_time": "2021-07-08T09:18:15.696Z"
   },
   {
    "duration": 10,
    "start_time": "2021-07-08T09:18:15.711Z"
   },
   {
    "duration": 64,
    "start_time": "2021-07-08T09:18:15.722Z"
   },
   {
    "duration": 19,
    "start_time": "2021-07-08T09:18:15.788Z"
   },
   {
    "duration": 9,
    "start_time": "2021-07-08T09:18:15.809Z"
   },
   {
    "duration": 9,
    "start_time": "2021-07-08T09:18:15.820Z"
   },
   {
    "duration": 18,
    "start_time": "2021-07-08T09:18:15.831Z"
   },
   {
    "duration": 43,
    "start_time": "2021-07-08T09:18:15.851Z"
   },
   {
    "duration": 12,
    "start_time": "2021-07-08T09:18:15.897Z"
   },
   {
    "duration": 219,
    "start_time": "2021-07-08T09:18:15.911Z"
   },
   {
    "duration": 8,
    "start_time": "2021-07-08T09:18:16.132Z"
   },
   {
    "duration": 199,
    "start_time": "2021-07-08T09:18:16.141Z"
   },
   {
    "duration": 18,
    "start_time": "2021-07-08T09:18:16.341Z"
   },
   {
    "duration": 24,
    "start_time": "2021-07-08T09:18:16.361Z"
   },
   {
    "duration": 24,
    "start_time": "2021-07-08T09:18:16.387Z"
   },
   {
    "duration": 211,
    "start_time": "2021-07-08T09:18:16.413Z"
   },
   {
    "duration": 18,
    "start_time": "2021-07-08T09:18:16.626Z"
   },
   {
    "duration": 596,
    "start_time": "2021-07-08T10:06:33.623Z"
   },
   {
    "duration": 181,
    "start_time": "2021-07-08T10:06:34.221Z"
   },
   {
    "duration": 176,
    "start_time": "2021-07-08T10:06:34.635Z"
   },
   {
    "duration": 239,
    "start_time": "2021-07-08T10:06:55.572Z"
   },
   {
    "duration": 6,
    "start_time": "2021-07-08T10:06:57.687Z"
   },
   {
    "duration": 4,
    "start_time": "2021-07-08T10:07:03.956Z"
   },
   {
    "duration": 4,
    "start_time": "2021-07-08T10:07:10.376Z"
   },
   {
    "duration": 4,
    "start_time": "2021-07-08T10:17:19.889Z"
   },
   {
    "duration": 3,
    "start_time": "2021-07-08T10:19:19.407Z"
   },
   {
    "duration": 197,
    "start_time": "2021-07-08T10:19:19.412Z"
   },
   {
    "duration": 127,
    "start_time": "2021-07-08T10:19:19.611Z"
   },
   {
    "duration": 4,
    "start_time": "2021-07-08T10:19:19.740Z"
   },
   {
    "duration": 27,
    "start_time": "2021-07-08T10:19:19.746Z"
   },
   {
    "duration": 7,
    "start_time": "2021-07-08T10:19:19.775Z"
   },
   {
    "duration": 30,
    "start_time": "2021-07-08T10:19:19.784Z"
   },
   {
    "duration": 7,
    "start_time": "2021-07-08T10:19:19.817Z"
   },
   {
    "duration": 26,
    "start_time": "2021-07-08T10:19:19.826Z"
   },
   {
    "duration": 18,
    "start_time": "2021-07-08T10:19:19.854Z"
   },
   {
    "duration": 14,
    "start_time": "2021-07-08T10:19:19.874Z"
   },
   {
    "duration": 48,
    "start_time": "2021-07-08T10:19:19.890Z"
   },
   {
    "duration": 17,
    "start_time": "2021-07-08T10:19:19.940Z"
   },
   {
    "duration": 38,
    "start_time": "2021-07-08T10:19:19.959Z"
   },
   {
    "duration": 8,
    "start_time": "2021-07-08T10:19:19.999Z"
   },
   {
    "duration": 15,
    "start_time": "2021-07-08T10:19:20.009Z"
   },
   {
    "duration": 22,
    "start_time": "2021-07-08T10:19:20.026Z"
   },
   {
    "duration": 10,
    "start_time": "2021-07-08T10:19:20.050Z"
   },
   {
    "duration": 10,
    "start_time": "2021-07-08T10:19:20.062Z"
   },
   {
    "duration": 20,
    "start_time": "2021-07-08T10:19:20.073Z"
   },
   {
    "duration": 29,
    "start_time": "2021-07-08T10:19:20.095Z"
   },
   {
    "duration": 17,
    "start_time": "2021-07-08T10:19:20.126Z"
   },
   {
    "duration": 40,
    "start_time": "2021-07-08T10:19:20.146Z"
   },
   {
    "duration": 15,
    "start_time": "2021-07-08T10:19:20.189Z"
   },
   {
    "duration": 19,
    "start_time": "2021-07-08T10:19:20.206Z"
   },
   {
    "duration": 10,
    "start_time": "2021-07-08T10:19:20.226Z"
   },
   {
    "duration": 11,
    "start_time": "2021-07-08T10:19:20.238Z"
   },
   {
    "duration": 297,
    "start_time": "2021-07-08T10:19:20.250Z"
   },
   {
    "duration": 6,
    "start_time": "2021-07-08T10:19:20.549Z"
   },
   {
    "duration": 191,
    "start_time": "2021-07-08T10:19:20.557Z"
   },
   {
    "duration": 19,
    "start_time": "2021-07-08T10:19:20.750Z"
   },
   {
    "duration": 20,
    "start_time": "2021-07-08T10:19:20.771Z"
   },
   {
    "duration": 15,
    "start_time": "2021-07-08T10:19:20.793Z"
   },
   {
    "duration": 222,
    "start_time": "2021-07-08T10:19:20.809Z"
   },
   {
    "duration": 20,
    "start_time": "2021-07-08T10:19:21.033Z"
   },
   {
    "duration": 27,
    "start_time": "2021-07-08T10:45:04.055Z"
   },
   {
    "duration": 8,
    "start_time": "2021-07-08T10:45:08.478Z"
   },
   {
    "duration": 8,
    "start_time": "2021-07-08T10:45:31.982Z"
   },
   {
    "duration": 10,
    "start_time": "2021-07-08T10:46:01.221Z"
   },
   {
    "duration": 17,
    "start_time": "2021-07-08T10:46:40.011Z"
   },
   {
    "duration": 193,
    "start_time": "2021-07-08T10:48:19.471Z"
   },
   {
    "duration": 225,
    "start_time": "2021-07-08T10:49:26.480Z"
   },
   {
    "duration": 204,
    "start_time": "2021-07-08T10:49:59.992Z"
   },
   {
    "duration": 435,
    "start_time": "2021-07-08T10:50:06.779Z"
   },
   {
    "duration": 199,
    "start_time": "2021-07-08T10:50:14.891Z"
   },
   {
    "duration": 204,
    "start_time": "2021-07-08T10:50:18.501Z"
   },
   {
    "duration": 244,
    "start_time": "2021-07-08T10:50:23.359Z"
   },
   {
    "duration": 192,
    "start_time": "2021-07-08T10:50:29.135Z"
   },
   {
    "duration": 218,
    "start_time": "2021-07-08T10:50:33.092Z"
   },
   {
    "duration": 207,
    "start_time": "2021-07-08T10:52:45.381Z"
   },
   {
    "duration": 5,
    "start_time": "2021-07-08T10:53:34.641Z"
   },
   {
    "duration": 196,
    "start_time": "2021-07-08T10:53:41.478Z"
   },
   {
    "duration": 43,
    "start_time": "2021-07-08T10:53:50.335Z"
   },
   {
    "duration": 32,
    "start_time": "2021-07-08T10:53:55.294Z"
   },
   {
    "duration": 55,
    "start_time": "2021-07-08T10:54:09.675Z"
   },
   {
    "duration": 16,
    "start_time": "2021-07-08T10:54:12.260Z"
   },
   {
    "duration": 15,
    "start_time": "2021-07-08T10:54:49.150Z"
   },
   {
    "duration": 20,
    "start_time": "2021-07-08T10:56:07.596Z"
   },
   {
    "duration": 16,
    "start_time": "2021-07-08T10:58:26.276Z"
   },
   {
    "duration": 22,
    "start_time": "2021-07-08T10:59:00.486Z"
   },
   {
    "duration": 18,
    "start_time": "2021-07-08T11:02:09.653Z"
   },
   {
    "duration": 10,
    "start_time": "2021-07-08T11:03:44.331Z"
   },
   {
    "duration": 10,
    "start_time": "2021-07-08T11:03:54.055Z"
   },
   {
    "duration": 12,
    "start_time": "2021-07-08T11:04:41.967Z"
   },
   {
    "duration": 24,
    "start_time": "2021-07-08T11:07:30.732Z"
   },
   {
    "duration": 6,
    "start_time": "2021-07-08T11:07:37.364Z"
   },
   {
    "duration": 16,
    "start_time": "2021-07-08T11:08:01.819Z"
   },
   {
    "duration": 17,
    "start_time": "2021-07-08T11:09:47.488Z"
   },
   {
    "duration": 246,
    "start_time": "2021-07-08T11:10:00.830Z"
   },
   {
    "duration": 18,
    "start_time": "2021-07-08T11:13:55.195Z"
   },
   {
    "duration": 204,
    "start_time": "2021-07-08T11:14:04.951Z"
   },
   {
    "duration": 19,
    "start_time": "2021-07-08T11:15:10.613Z"
   },
   {
    "duration": 680,
    "start_time": "2021-07-08T11:16:25.793Z"
   },
   {
    "duration": 451,
    "start_time": "2021-07-08T11:16:40.313Z"
   },
   {
    "duration": 469,
    "start_time": "2021-07-08T11:17:21.286Z"
   },
   {
    "duration": 20,
    "start_time": "2021-07-08T11:19:12.554Z"
   },
   {
    "duration": 35,
    "start_time": "2021-07-08T11:20:05.484Z"
   },
   {
    "duration": 53,
    "start_time": "2021-07-08T11:21:40.050Z"
   },
   {
    "duration": 13,
    "start_time": "2021-07-08T11:22:26.059Z"
   },
   {
    "duration": 19,
    "start_time": "2021-07-08T11:22:47.419Z"
   },
   {
    "duration": 25,
    "start_time": "2021-07-08T11:23:19.958Z"
   },
   {
    "duration": 29,
    "start_time": "2021-07-08T11:23:25.415Z"
   },
   {
    "duration": 10,
    "start_time": "2021-07-08T11:24:45.138Z"
   },
   {
    "duration": 19,
    "start_time": "2021-07-08T11:24:54.498Z"
   },
   {
    "duration": 12,
    "start_time": "2021-07-08T11:25:32.225Z"
   },
   {
    "duration": 19,
    "start_time": "2021-07-08T11:25:37.092Z"
   },
   {
    "duration": 17,
    "start_time": "2021-07-08T11:25:58.116Z"
   },
   {
    "duration": 15,
    "start_time": "2021-07-08T11:26:02.258Z"
   },
   {
    "duration": 8,
    "start_time": "2021-07-08T11:26:59.682Z"
   },
   {
    "duration": 184,
    "start_time": "2021-07-08T11:27:21.894Z"
   },
   {
    "duration": 8,
    "start_time": "2021-07-08T11:27:23.824Z"
   },
   {
    "duration": 202,
    "start_time": "2021-07-08T11:27:23.962Z"
   },
   {
    "duration": 360,
    "start_time": "2021-07-08T11:28:33.215Z"
   },
   {
    "duration": 231,
    "start_time": "2021-07-08T11:32:05.542Z"
   },
   {
    "duration": 607,
    "start_time": "2021-07-08T11:36:27.854Z"
   },
   {
    "duration": 241,
    "start_time": "2021-07-08T11:36:28.463Z"
   },
   {
    "duration": 67,
    "start_time": "2021-07-08T11:36:28.709Z"
   },
   {
    "duration": 5,
    "start_time": "2021-07-08T11:36:28.778Z"
   },
   {
    "duration": 32,
    "start_time": "2021-07-08T11:36:28.784Z"
   },
   {
    "duration": 11,
    "start_time": "2021-07-08T11:36:28.819Z"
   },
   {
    "duration": 20,
    "start_time": "2021-07-08T11:36:28.834Z"
   },
   {
    "duration": 36,
    "start_time": "2021-07-08T11:36:28.857Z"
   },
   {
    "duration": 16,
    "start_time": "2021-07-08T11:36:28.895Z"
   },
   {
    "duration": 14,
    "start_time": "2021-07-08T11:36:28.913Z"
   },
   {
    "duration": 9,
    "start_time": "2021-07-08T11:36:28.930Z"
   },
   {
    "duration": 55,
    "start_time": "2021-07-08T11:36:28.941Z"
   },
   {
    "duration": 27,
    "start_time": "2021-07-08T11:36:28.999Z"
   },
   {
    "duration": 30,
    "start_time": "2021-07-08T11:36:29.028Z"
   },
   {
    "duration": 31,
    "start_time": "2021-07-08T11:36:29.060Z"
   },
   {
    "duration": 3,
    "start_time": "2021-07-08T11:36:29.093Z"
   },
   {
    "duration": 12,
    "start_time": "2021-07-08T11:36:29.099Z"
   },
   {
    "duration": 11,
    "start_time": "2021-07-08T11:36:29.112Z"
   },
   {
    "duration": 12,
    "start_time": "2021-07-08T11:36:29.125Z"
   },
   {
    "duration": 9,
    "start_time": "2021-07-08T11:36:29.139Z"
   },
   {
    "duration": 31,
    "start_time": "2021-07-08T11:36:29.191Z"
   },
   {
    "duration": 17,
    "start_time": "2021-07-08T11:36:29.226Z"
   },
   {
    "duration": 7,
    "start_time": "2021-07-08T11:36:29.245Z"
   },
   {
    "duration": 10,
    "start_time": "2021-07-08T11:36:29.254Z"
   },
   {
    "duration": 30,
    "start_time": "2021-07-08T11:36:29.292Z"
   },
   {
    "duration": 11,
    "start_time": "2021-07-08T11:36:29.324Z"
   },
   {
    "duration": 11,
    "start_time": "2021-07-08T11:36:29.337Z"
   },
   {
    "duration": 230,
    "start_time": "2021-07-08T11:36:29.349Z"
   },
   {
    "duration": 13,
    "start_time": "2021-07-08T11:36:29.588Z"
   },
   {
    "duration": 205,
    "start_time": "2021-07-08T11:36:29.603Z"
   },
   {
    "duration": 20,
    "start_time": "2021-07-08T11:36:29.810Z"
   },
   {
    "duration": 9,
    "start_time": "2021-07-08T11:36:29.832Z"
   },
   {
    "duration": 16,
    "start_time": "2021-07-08T11:36:29.843Z"
   },
   {
    "duration": 283,
    "start_time": "2021-07-08T11:36:29.861Z"
   },
   {
    "duration": 50,
    "start_time": "2021-07-08T11:36:30.146Z"
   },
   {
    "duration": 14,
    "start_time": "2021-07-08T11:36:30.198Z"
   },
   {
    "duration": 11,
    "start_time": "2021-07-08T11:36:30.214Z"
   },
   {
    "duration": 245,
    "start_time": "2021-07-08T11:36:30.227Z"
   },
   {
    "duration": 439,
    "start_time": "2021-07-08T11:36:30.474Z"
   },
   {
    "duration": 210,
    "start_time": "2021-07-08T11:36:30.915Z"
   },
   {
    "duration": 15,
    "start_time": "2021-07-08T11:36:31.127Z"
   },
   {
    "duration": 17,
    "start_time": "2021-07-08T11:38:20.451Z"
   },
   {
    "duration": 642,
    "start_time": "2021-07-08T11:46:17.881Z"
   },
   {
    "duration": 210,
    "start_time": "2021-07-08T11:46:18.525Z"
   },
   {
    "duration": 104,
    "start_time": "2021-07-08T11:46:18.741Z"
   },
   {
    "duration": 8,
    "start_time": "2021-07-08T11:46:18.847Z"
   },
   {
    "duration": 25,
    "start_time": "2021-07-08T11:46:18.857Z"
   },
   {
    "duration": 14,
    "start_time": "2021-07-08T11:46:18.884Z"
   },
   {
    "duration": 22,
    "start_time": "2021-07-08T11:46:18.900Z"
   },
   {
    "duration": 5,
    "start_time": "2021-07-08T11:46:18.924Z"
   },
   {
    "duration": 13,
    "start_time": "2021-07-08T11:46:18.931Z"
   },
   {
    "duration": 45,
    "start_time": "2021-07-08T11:46:18.946Z"
   },
   {
    "duration": 12,
    "start_time": "2021-07-08T11:46:18.993Z"
   },
   {
    "duration": 38,
    "start_time": "2021-07-08T11:46:19.006Z"
   },
   {
    "duration": 50,
    "start_time": "2021-07-08T11:46:19.046Z"
   },
   {
    "duration": 29,
    "start_time": "2021-07-08T11:46:19.099Z"
   },
   {
    "duration": 7,
    "start_time": "2021-07-08T11:46:19.130Z"
   },
   {
    "duration": 3,
    "start_time": "2021-07-08T11:46:19.139Z"
   },
   {
    "duration": 11,
    "start_time": "2021-07-08T11:46:19.144Z"
   },
   {
    "duration": 40,
    "start_time": "2021-07-08T11:46:19.157Z"
   },
   {
    "duration": 15,
    "start_time": "2021-07-08T11:46:19.199Z"
   },
   {
    "duration": 10,
    "start_time": "2021-07-08T11:46:19.217Z"
   },
   {
    "duration": 68,
    "start_time": "2021-07-08T11:46:19.230Z"
   },
   {
    "duration": 17,
    "start_time": "2021-07-08T11:46:19.301Z"
   },
   {
    "duration": 7,
    "start_time": "2021-07-08T11:46:19.321Z"
   },
   {
    "duration": 11,
    "start_time": "2021-07-08T11:46:19.330Z"
   },
   {
    "duration": 59,
    "start_time": "2021-07-08T11:46:19.343Z"
   },
   {
    "duration": 17,
    "start_time": "2021-07-08T11:46:19.405Z"
   },
   {
    "duration": 16,
    "start_time": "2021-07-08T11:46:19.424Z"
   },
   {
    "duration": 252,
    "start_time": "2021-07-08T11:46:19.443Z"
   },
   {
    "duration": 9,
    "start_time": "2021-07-08T11:46:19.697Z"
   },
   {
    "duration": 224,
    "start_time": "2021-07-08T11:46:19.708Z"
   },
   {
    "duration": 21,
    "start_time": "2021-07-08T11:46:19.934Z"
   },
   {
    "duration": 9,
    "start_time": "2021-07-08T11:46:19.956Z"
   },
   {
    "duration": 32,
    "start_time": "2021-07-08T11:46:19.967Z"
   },
   {
    "duration": 288,
    "start_time": "2021-07-08T11:46:20.004Z"
   },
   {
    "duration": 23,
    "start_time": "2021-07-08T11:46:20.300Z"
   },
   {
    "duration": 11,
    "start_time": "2021-07-08T11:46:20.325Z"
   },
   {
    "duration": 11,
    "start_time": "2021-07-08T11:46:20.339Z"
   },
   {
    "duration": 259,
    "start_time": "2021-07-08T11:46:20.352Z"
   },
   {
    "duration": 438,
    "start_time": "2021-07-08T11:46:20.613Z"
   },
   {
    "duration": 207,
    "start_time": "2021-07-08T11:46:21.054Z"
   },
   {
    "duration": 27,
    "start_time": "2021-07-08T11:46:21.262Z"
   },
   {
    "duration": 19,
    "start_time": "2021-07-08T11:46:21.291Z"
   },
   {
    "duration": 820,
    "start_time": "2021-07-08T11:49:01.655Z"
   },
   {
    "duration": 372,
    "start_time": "2021-07-08T11:49:02.478Z"
   },
   {
    "duration": 98,
    "start_time": "2021-07-08T11:49:02.853Z"
   },
   {
    "duration": 6,
    "start_time": "2021-07-08T11:49:02.953Z"
   },
   {
    "duration": 39,
    "start_time": "2021-07-08T11:49:02.960Z"
   },
   {
    "duration": 9,
    "start_time": "2021-07-08T11:49:03.003Z"
   },
   {
    "duration": 23,
    "start_time": "2021-07-08T11:49:03.014Z"
   },
   {
    "duration": 6,
    "start_time": "2021-07-08T11:49:03.041Z"
   },
   {
    "duration": 20,
    "start_time": "2021-07-08T11:49:03.049Z"
   },
   {
    "duration": 18,
    "start_time": "2021-07-08T11:49:03.084Z"
   },
   {
    "duration": 14,
    "start_time": "2021-07-08T11:49:03.104Z"
   },
   {
    "duration": 39,
    "start_time": "2021-07-08T11:49:03.119Z"
   },
   {
    "duration": 38,
    "start_time": "2021-07-08T11:49:03.160Z"
   },
   {
    "duration": 26,
    "start_time": "2021-07-08T11:49:03.200Z"
   },
   {
    "duration": 7,
    "start_time": "2021-07-08T11:49:03.227Z"
   },
   {
    "duration": 4,
    "start_time": "2021-07-08T11:49:03.236Z"
   },
   {
    "duration": 15,
    "start_time": "2021-07-08T11:49:03.243Z"
   },
   {
    "duration": 21,
    "start_time": "2021-07-08T11:49:03.285Z"
   },
   {
    "duration": 17,
    "start_time": "2021-07-08T11:49:03.309Z"
   },
   {
    "duration": 10,
    "start_time": "2021-07-08T11:49:03.328Z"
   },
   {
    "duration": 65,
    "start_time": "2021-07-08T11:49:03.340Z"
   },
   {
    "duration": 18,
    "start_time": "2021-07-08T11:49:03.407Z"
   },
   {
    "duration": 8,
    "start_time": "2021-07-08T11:49:03.428Z"
   },
   {
    "duration": 15,
    "start_time": "2021-07-08T11:49:03.438Z"
   },
   {
    "duration": 40,
    "start_time": "2021-07-08T11:49:03.455Z"
   },
   {
    "duration": 12,
    "start_time": "2021-07-08T11:49:03.497Z"
   },
   {
    "duration": 29,
    "start_time": "2021-07-08T11:49:03.511Z"
   },
   {
    "duration": 285,
    "start_time": "2021-07-08T11:49:03.542Z"
   },
   {
    "duration": 8,
    "start_time": "2021-07-08T11:49:03.829Z"
   },
   {
    "duration": 227,
    "start_time": "2021-07-08T11:49:03.838Z"
   },
   {
    "duration": 40,
    "start_time": "2021-07-08T11:49:04.066Z"
   },
   {
    "duration": 10,
    "start_time": "2021-07-08T11:49:04.108Z"
   },
   {
    "duration": 26,
    "start_time": "2021-07-08T11:49:04.121Z"
   },
   {
    "duration": 290,
    "start_time": "2021-07-08T11:49:04.149Z"
   },
   {
    "duration": 26,
    "start_time": "2021-07-08T11:49:04.441Z"
   },
   {
    "duration": 31,
    "start_time": "2021-07-08T11:49:04.470Z"
   },
   {
    "duration": 14,
    "start_time": "2021-07-08T11:49:04.503Z"
   },
   {
    "duration": 259,
    "start_time": "2021-07-08T11:49:04.521Z"
   },
   {
    "duration": 480,
    "start_time": "2021-07-08T11:49:04.782Z"
   },
   {
    "duration": 225,
    "start_time": "2021-07-08T11:49:05.264Z"
   },
   {
    "duration": 22,
    "start_time": "2021-07-08T11:49:05.491Z"
   },
   {
    "duration": 24,
    "start_time": "2021-07-08T11:49:05.515Z"
   },
   {
    "duration": 634,
    "start_time": "2021-07-08T11:52:24.960Z"
   },
   {
    "duration": 199,
    "start_time": "2021-07-08T11:52:25.599Z"
   },
   {
    "duration": 106,
    "start_time": "2021-07-08T11:52:25.803Z"
   },
   {
    "duration": 7,
    "start_time": "2021-07-08T11:52:25.911Z"
   },
   {
    "duration": 29,
    "start_time": "2021-07-08T11:52:25.920Z"
   },
   {
    "duration": 7,
    "start_time": "2021-07-08T11:52:25.951Z"
   },
   {
    "duration": 26,
    "start_time": "2021-07-08T11:52:25.961Z"
   },
   {
    "duration": 11,
    "start_time": "2021-07-08T11:52:25.990Z"
   },
   {
    "duration": 29,
    "start_time": "2021-07-08T11:52:26.005Z"
   },
   {
    "duration": 9,
    "start_time": "2021-07-08T11:52:26.036Z"
   },
   {
    "duration": 8,
    "start_time": "2021-07-08T11:52:26.047Z"
   },
   {
    "duration": 63,
    "start_time": "2021-07-08T11:52:26.057Z"
   },
   {
    "duration": 17,
    "start_time": "2021-07-08T11:52:26.122Z"
   },
   {
    "duration": 43,
    "start_time": "2021-07-08T11:52:26.142Z"
   },
   {
    "duration": 17,
    "start_time": "2021-07-08T11:52:26.187Z"
   },
   {
    "duration": 5,
    "start_time": "2021-07-08T11:52:26.206Z"
   },
   {
    "duration": 12,
    "start_time": "2021-07-08T11:52:26.212Z"
   },
   {
    "duration": 11,
    "start_time": "2021-07-08T11:52:26.226Z"
   },
   {
    "duration": 12,
    "start_time": "2021-07-08T11:52:26.238Z"
   },
   {
    "duration": 38,
    "start_time": "2021-07-08T11:52:26.252Z"
   },
   {
    "duration": 40,
    "start_time": "2021-07-08T11:52:26.292Z"
   },
   {
    "duration": 17,
    "start_time": "2021-07-08T11:52:26.336Z"
   },
   {
    "duration": 39,
    "start_time": "2021-07-08T11:52:26.355Z"
   },
   {
    "duration": 11,
    "start_time": "2021-07-08T11:52:26.395Z"
   },
   {
    "duration": 23,
    "start_time": "2021-07-08T11:52:26.408Z"
   },
   {
    "duration": 12,
    "start_time": "2021-07-08T11:52:26.432Z"
   },
   {
    "duration": 41,
    "start_time": "2021-07-08T11:52:26.446Z"
   },
   {
    "duration": 215,
    "start_time": "2021-07-08T11:52:26.493Z"
   },
   {
    "duration": 8,
    "start_time": "2021-07-08T11:52:26.710Z"
   },
   {
    "duration": 228,
    "start_time": "2021-07-08T11:52:26.720Z"
   },
   {
    "duration": 18,
    "start_time": "2021-07-08T11:52:26.950Z"
   },
   {
    "duration": 35,
    "start_time": "2021-07-08T11:52:26.969Z"
   },
   {
    "duration": 23,
    "start_time": "2021-07-08T11:52:27.006Z"
   },
   {
    "duration": 258,
    "start_time": "2021-07-08T11:52:27.030Z"
   },
   {
    "duration": 24,
    "start_time": "2021-07-08T11:52:27.290Z"
   },
   {
    "duration": 12,
    "start_time": "2021-07-08T11:52:27.316Z"
   },
   {
    "duration": 10,
    "start_time": "2021-07-08T11:52:27.329Z"
   },
   {
    "duration": 298,
    "start_time": "2021-07-08T11:52:27.341Z"
   },
   {
    "duration": 436,
    "start_time": "2021-07-08T11:52:27.641Z"
   },
   {
    "duration": 216,
    "start_time": "2021-07-08T11:52:28.079Z"
   },
   {
    "duration": 20,
    "start_time": "2021-07-08T11:52:28.297Z"
   },
   {
    "duration": 17,
    "start_time": "2021-07-08T11:52:28.319Z"
   },
   {
    "duration": 565,
    "start_time": "2022-05-16T03:12:18.632Z"
   },
   {
    "duration": 36,
    "start_time": "2022-05-16T03:12:50.141Z"
   },
   {
    "duration": 121,
    "start_time": "2022-05-16T03:13:46.683Z"
   },
   {
    "duration": 38,
    "start_time": "2022-05-16T03:13:58.698Z"
   },
   {
    "duration": 36,
    "start_time": "2022-05-16T03:14:02.002Z"
   },
   {
    "duration": 89,
    "start_time": "2022-05-16T03:14:07.013Z"
   },
   {
    "duration": 83,
    "start_time": "2022-05-16T03:17:37.836Z"
   },
   {
    "duration": 86,
    "start_time": "2022-05-16T03:19:07.872Z"
   },
   {
    "duration": 86,
    "start_time": "2022-05-16T03:36:04.423Z"
   },
   {
    "duration": 84,
    "start_time": "2022-05-16T03:36:18.406Z"
   },
   {
    "duration": 28,
    "start_time": "2022-05-16T03:42:54.216Z"
   },
   {
    "duration": 27,
    "start_time": "2022-05-16T03:42:56.633Z"
   },
   {
    "duration": 87,
    "start_time": "2022-05-16T03:43:08.539Z"
   },
   {
    "duration": 88,
    "start_time": "2022-05-16T03:43:12.384Z"
   },
   {
    "duration": 37,
    "start_time": "2022-05-16T03:43:16.025Z"
   },
   {
    "duration": 92,
    "start_time": "2022-05-18T01:28:13.291Z"
   },
   {
    "duration": 41,
    "start_time": "2022-05-18T01:28:17.511Z"
   },
   {
    "duration": 73,
    "start_time": "2022-05-18T01:29:05.650Z"
   },
   {
    "duration": 108,
    "start_time": "2022-05-18T01:29:46.028Z"
   },
   {
    "duration": 34,
    "start_time": "2022-05-18T01:29:53.945Z"
   },
   {
    "duration": 111,
    "start_time": "2022-05-18T01:30:34.845Z"
   },
   {
    "duration": 38,
    "start_time": "2022-05-18T01:31:00.166Z"
   },
   {
    "duration": 254,
    "start_time": "2022-05-18T01:43:40.488Z"
   },
   {
    "duration": 9,
    "start_time": "2022-05-18T01:44:25.051Z"
   },
   {
    "duration": 20,
    "start_time": "2022-05-18T01:44:47.276Z"
   },
   {
    "duration": 10,
    "start_time": "2022-05-18T01:45:03.238Z"
   },
   {
    "duration": 12,
    "start_time": "2022-05-18T01:45:11.667Z"
   },
   {
    "duration": 11,
    "start_time": "2022-05-18T01:45:21.380Z"
   },
   {
    "duration": 529,
    "start_time": "2022-05-18T01:47:19.293Z"
   },
   {
    "duration": 39,
    "start_time": "2022-05-18T01:47:19.824Z"
   },
   {
    "duration": 8,
    "start_time": "2022-05-18T01:47:19.865Z"
   },
   {
    "duration": 9,
    "start_time": "2022-05-18T01:47:19.875Z"
   },
   {
    "duration": 78,
    "start_time": "2022-05-18T01:47:19.886Z"
   },
   {
    "duration": 4,
    "start_time": "2022-05-18T01:52:16.899Z"
   },
   {
    "duration": 10,
    "start_time": "2022-05-18T01:52:32.344Z"
   },
   {
    "duration": 29,
    "start_time": "2022-05-18T01:52:53.398Z"
   },
   {
    "duration": 11,
    "start_time": "2022-05-18T01:53:53.198Z"
   },
   {
    "duration": 28,
    "start_time": "2022-05-18T01:54:03.210Z"
   },
   {
    "duration": 5,
    "start_time": "2022-05-18T02:01:11.935Z"
   },
   {
    "duration": 23,
    "start_time": "2022-05-18T02:02:07.989Z"
   },
   {
    "duration": 161,
    "start_time": "2022-05-18T02:04:17.384Z"
   },
   {
    "duration": 125,
    "start_time": "2022-05-18T02:04:21.272Z"
   },
   {
    "duration": 129,
    "start_time": "2022-05-18T02:04:27.800Z"
   },
   {
    "duration": 5,
    "start_time": "2022-05-18T02:10:17.269Z"
   },
   {
    "duration": 17,
    "start_time": "2022-05-18T02:10:20.796Z"
   },
   {
    "duration": 26,
    "start_time": "2022-05-18T02:10:35.020Z"
   },
   {
    "duration": 11,
    "start_time": "2022-05-18T02:11:19.138Z"
   },
   {
    "duration": 36,
    "start_time": "2022-05-18T02:11:46.506Z"
   },
   {
    "duration": 6,
    "start_time": "2022-05-18T02:12:23.112Z"
   },
   {
    "duration": 248,
    "start_time": "2022-05-18T02:36:41.352Z"
   },
   {
    "duration": 290,
    "start_time": "2022-05-18T02:37:08.728Z"
   },
   {
    "duration": 316,
    "start_time": "2022-05-18T02:42:07.047Z"
   },
   {
    "duration": 261,
    "start_time": "2022-05-18T02:42:18.546Z"
   },
   {
    "duration": 269,
    "start_time": "2022-05-18T02:42:52.709Z"
   },
   {
    "duration": 241,
    "start_time": "2022-05-18T02:43:56.763Z"
   },
   {
    "duration": 282,
    "start_time": "2022-05-18T02:44:04.203Z"
   },
   {
    "duration": 18,
    "start_time": "2022-05-18T02:45:48.063Z"
   },
   {
    "duration": 28,
    "start_time": "2022-05-18T02:46:16.567Z"
   },
   {
    "duration": 23,
    "start_time": "2022-05-18T02:46:54.224Z"
   },
   {
    "duration": 24,
    "start_time": "2022-05-18T02:47:07.484Z"
   },
   {
    "duration": 29,
    "start_time": "2022-05-18T02:47:13.845Z"
   },
   {
    "duration": 21,
    "start_time": "2022-05-18T02:47:16.684Z"
   },
   {
    "duration": 35,
    "start_time": "2022-05-18T02:47:28.308Z"
   },
   {
    "duration": 16,
    "start_time": "2022-05-18T02:47:31.413Z"
   },
   {
    "duration": 9,
    "start_time": "2022-05-18T03:03:43.791Z"
   },
   {
    "duration": 44,
    "start_time": "2022-05-18T04:18:54.104Z"
   },
   {
    "duration": 7,
    "start_time": "2022-05-18T04:21:46.303Z"
   },
   {
    "duration": 29,
    "start_time": "2022-05-18T04:22:14.468Z"
   },
   {
    "duration": 14,
    "start_time": "2022-05-18T04:22:34.203Z"
   },
   {
    "duration": 11,
    "start_time": "2022-05-18T04:27:32.074Z"
   },
   {
    "duration": 26,
    "start_time": "2022-05-18T04:30:09.149Z"
   },
   {
    "duration": 14,
    "start_time": "2022-05-18T04:48:43.001Z"
   },
   {
    "duration": 19,
    "start_time": "2022-05-18T04:48:59.418Z"
   },
   {
    "duration": 8,
    "start_time": "2022-05-18T04:50:03.230Z"
   },
   {
    "duration": 11,
    "start_time": "2022-05-18T04:52:07.338Z"
   },
   {
    "duration": 13,
    "start_time": "2022-05-18T04:52:54.467Z"
   },
   {
    "duration": 9,
    "start_time": "2022-05-18T04:53:19.416Z"
   },
   {
    "duration": 15,
    "start_time": "2022-05-18T04:53:29.184Z"
   },
   {
    "duration": 17,
    "start_time": "2022-05-18T05:01:43.066Z"
   },
   {
    "duration": 10,
    "start_time": "2022-05-18T05:04:17.477Z"
   },
   {
    "duration": 5,
    "start_time": "2022-05-18T05:07:47.052Z"
   },
   {
    "duration": 13,
    "start_time": "2022-05-18T05:07:56.236Z"
   },
   {
    "duration": 23,
    "start_time": "2022-05-18T05:26:44.495Z"
   },
   {
    "duration": 29,
    "start_time": "2022-05-18T05:27:26.246Z"
   },
   {
    "duration": 697,
    "start_time": "2022-05-19T11:52:42.521Z"
   },
   {
    "duration": 55,
    "start_time": "2022-05-19T11:52:43.220Z"
   },
   {
    "duration": 6,
    "start_time": "2022-05-19T11:52:43.277Z"
   },
   {
    "duration": 45,
    "start_time": "2022-05-19T11:52:43.285Z"
   },
   {
    "duration": 29,
    "start_time": "2022-05-19T11:52:43.332Z"
   },
   {
    "duration": 37,
    "start_time": "2022-05-19T11:52:43.364Z"
   },
   {
    "duration": 12,
    "start_time": "2022-05-19T11:52:43.403Z"
   },
   {
    "duration": 62,
    "start_time": "2022-05-19T11:52:43.417Z"
   },
   {
    "duration": 19,
    "start_time": "2022-05-19T11:52:43.481Z"
   },
   {
    "duration": 9,
    "start_time": "2022-05-19T11:52:43.503Z"
   },
   {
    "duration": 53,
    "start_time": "2022-05-19T11:52:43.514Z"
   },
   {
    "duration": 16,
    "start_time": "2022-05-19T11:52:43.569Z"
   },
   {
    "duration": 13,
    "start_time": "2022-05-19T11:52:43.588Z"
   },
   {
    "duration": 23,
    "start_time": "2022-05-19T11:52:47.879Z"
   },
   {
    "duration": 23,
    "start_time": "2022-05-19T11:56:24.699Z"
   },
   {
    "duration": 17,
    "start_time": "2022-05-19T11:57:15.137Z"
   },
   {
    "duration": 23,
    "start_time": "2022-05-19T11:57:24.416Z"
   },
   {
    "duration": 19,
    "start_time": "2022-05-19T11:57:39.450Z"
   },
   {
    "duration": 23,
    "start_time": "2022-05-19T11:57:59.545Z"
   },
   {
    "duration": 71,
    "start_time": "2022-05-19T12:05:58.403Z"
   },
   {
    "duration": 19,
    "start_time": "2022-05-19T12:06:33.882Z"
   },
   {
    "duration": 6,
    "start_time": "2022-05-19T12:08:03.563Z"
   },
   {
    "duration": 89,
    "start_time": "2022-05-19T12:09:36.311Z"
   },
   {
    "duration": 6,
    "start_time": "2022-05-19T12:09:49.219Z"
   },
   {
    "duration": 19,
    "start_time": "2022-05-19T12:10:43.203Z"
   },
   {
    "duration": 10,
    "start_time": "2022-05-19T12:15:08.995Z"
   },
   {
    "duration": 8,
    "start_time": "2022-05-19T12:17:28.310Z"
   },
   {
    "duration": 16,
    "start_time": "2022-05-19T12:17:53.380Z"
   },
   {
    "duration": 25,
    "start_time": "2022-05-19T12:18:39.020Z"
   },
   {
    "duration": 26,
    "start_time": "2022-05-19T12:19:24.786Z"
   },
   {
    "duration": 13,
    "start_time": "2022-05-19T12:28:01.749Z"
   },
   {
    "duration": 23,
    "start_time": "2022-05-19T12:54:40.076Z"
   },
   {
    "duration": 32,
    "start_time": "2022-05-19T13:01:03.840Z"
   },
   {
    "duration": 4,
    "start_time": "2022-05-19T13:08:43.739Z"
   },
   {
    "duration": 4,
    "start_time": "2022-05-19T13:08:51.944Z"
   },
   {
    "duration": 17,
    "start_time": "2022-05-19T13:09:09.604Z"
   },
   {
    "duration": 26,
    "start_time": "2022-05-19T13:09:35.116Z"
   },
   {
    "duration": 10,
    "start_time": "2022-05-19T13:12:34.781Z"
   },
   {
    "duration": 10,
    "start_time": "2022-05-19T13:14:02.708Z"
   },
   {
    "duration": 10,
    "start_time": "2022-05-19T13:15:23.128Z"
   },
   {
    "duration": 28,
    "start_time": "2022-05-19T13:18:14.316Z"
   },
   {
    "duration": 36,
    "start_time": "2022-05-19T13:19:42.549Z"
   },
   {
    "duration": 525,
    "start_time": "2022-05-19T13:22:23.491Z"
   },
   {
    "duration": 465,
    "start_time": "2022-05-19T13:22:35.583Z"
   },
   {
    "duration": 28,
    "start_time": "2022-05-19T13:22:49.309Z"
   },
   {
    "duration": 28,
    "start_time": "2022-05-19T13:23:33.859Z"
   },
   {
    "duration": 57,
    "start_time": "2022-05-20T03:30:22.660Z"
   },
   {
    "duration": 1467,
    "start_time": "2022-05-20T03:30:46.903Z"
   },
   {
    "duration": 113,
    "start_time": "2022-05-20T03:30:48.372Z"
   },
   {
    "duration": 5,
    "start_time": "2022-05-20T03:30:48.487Z"
   },
   {
    "duration": 19,
    "start_time": "2022-05-20T03:30:48.494Z"
   },
   {
    "duration": 22,
    "start_time": "2022-05-20T03:30:48.514Z"
   },
   {
    "duration": 34,
    "start_time": "2022-05-20T03:30:48.538Z"
   },
   {
    "duration": 10,
    "start_time": "2022-05-20T03:30:48.574Z"
   },
   {
    "duration": 30,
    "start_time": "2022-05-20T03:30:48.585Z"
   },
   {
    "duration": 45,
    "start_time": "2022-05-20T03:30:48.616Z"
   },
   {
    "duration": 16,
    "start_time": "2022-05-20T03:30:48.664Z"
   },
   {
    "duration": 24,
    "start_time": "2022-05-20T03:30:48.681Z"
   },
   {
    "duration": 14,
    "start_time": "2022-05-20T03:30:48.706Z"
   },
   {
    "duration": 37,
    "start_time": "2022-05-20T03:30:48.722Z"
   },
   {
    "duration": 34,
    "start_time": "2022-05-20T03:30:48.761Z"
   },
   {
    "duration": 12,
    "start_time": "2022-05-20T03:30:48.796Z"
   },
   {
    "duration": 24,
    "start_time": "2022-05-20T03:30:48.809Z"
   },
   {
    "duration": 6,
    "start_time": "2022-05-20T03:30:48.846Z"
   },
   {
    "duration": 35,
    "start_time": "2022-05-20T03:30:48.854Z"
   },
   {
    "duration": 9,
    "start_time": "2022-05-20T03:30:48.891Z"
   },
   {
    "duration": 8,
    "start_time": "2022-05-20T03:30:48.901Z"
   },
   {
    "duration": 52,
    "start_time": "2022-05-20T03:30:48.911Z"
   },
   {
    "duration": 19,
    "start_time": "2022-05-20T03:30:48.965Z"
   },
   {
    "duration": 25,
    "start_time": "2022-05-20T03:30:48.986Z"
   },
   {
    "duration": 40,
    "start_time": "2022-05-20T03:31:22.934Z"
   },
   {
    "duration": 32,
    "start_time": "2022-05-20T03:32:22.819Z"
   },
   {
    "duration": 28,
    "start_time": "2022-05-20T03:34:54.261Z"
   },
   {
    "duration": 27,
    "start_time": "2022-05-20T03:35:13.697Z"
   },
   {
    "duration": 30,
    "start_time": "2022-05-20T03:35:49.016Z"
   },
   {
    "duration": 31,
    "start_time": "2022-05-20T03:36:06.969Z"
   },
   {
    "duration": 566,
    "start_time": "2022-05-20T03:36:20.269Z"
   },
   {
    "duration": 71,
    "start_time": "2022-05-20T03:36:20.836Z"
   },
   {
    "duration": 6,
    "start_time": "2022-05-20T03:36:20.908Z"
   },
   {
    "duration": 44,
    "start_time": "2022-05-20T03:36:20.917Z"
   },
   {
    "duration": 29,
    "start_time": "2022-05-20T03:36:20.970Z"
   },
   {
    "duration": 26,
    "start_time": "2022-05-20T03:36:21.000Z"
   },
   {
    "duration": 10,
    "start_time": "2022-05-20T03:36:21.027Z"
   },
   {
    "duration": 68,
    "start_time": "2022-05-20T03:36:21.040Z"
   },
   {
    "duration": 16,
    "start_time": "2022-05-20T03:36:21.110Z"
   },
   {
    "duration": 17,
    "start_time": "2022-05-20T03:36:21.129Z"
   },
   {
    "duration": 60,
    "start_time": "2022-05-20T03:36:21.150Z"
   },
   {
    "duration": 21,
    "start_time": "2022-05-20T03:36:21.212Z"
   },
   {
    "duration": 37,
    "start_time": "2022-05-20T03:36:21.235Z"
   },
   {
    "duration": 23,
    "start_time": "2022-05-20T03:36:21.274Z"
   },
   {
    "duration": 11,
    "start_time": "2022-05-20T03:36:21.299Z"
   },
   {
    "duration": 46,
    "start_time": "2022-05-20T03:36:21.311Z"
   },
   {
    "duration": 5,
    "start_time": "2022-05-20T03:36:21.363Z"
   },
   {
    "duration": 31,
    "start_time": "2022-05-20T03:36:21.370Z"
   },
   {
    "duration": 10,
    "start_time": "2022-05-20T03:36:21.402Z"
   },
   {
    "duration": 9,
    "start_time": "2022-05-20T03:36:21.414Z"
   },
   {
    "duration": 54,
    "start_time": "2022-05-20T03:36:21.424Z"
   },
   {
    "duration": 31,
    "start_time": "2022-05-20T03:36:21.480Z"
   },
   {
    "duration": 58,
    "start_time": "2022-05-20T03:36:21.513Z"
   },
   {
    "duration": 29,
    "start_time": "2022-05-20T03:36:56.119Z"
   },
   {
    "duration": 18,
    "start_time": "2022-05-20T03:43:24.461Z"
   },
   {
    "duration": 32,
    "start_time": "2022-05-20T03:46:02.725Z"
   },
   {
    "duration": 92,
    "start_time": "2022-05-20T06:09:21.953Z"
   },
   {
    "duration": 19,
    "start_time": "2022-05-20T06:18:59.256Z"
   },
   {
    "duration": 44,
    "start_time": "2022-05-20T06:19:29.807Z"
   },
   {
    "duration": 32,
    "start_time": "2022-05-20T06:20:10.005Z"
   },
   {
    "duration": 36,
    "start_time": "2022-05-20T06:20:37.501Z"
   },
   {
    "duration": 1771,
    "start_time": "2022-05-20T06:35:31.118Z"
   },
   {
    "duration": 17,
    "start_time": "2022-05-20T06:38:35.778Z"
   },
   {
    "duration": 25,
    "start_time": "2022-05-20T07:02:20.064Z"
   },
   {
    "duration": 74,
    "start_time": "2022-05-20T07:46:07.024Z"
   },
   {
    "duration": 3,
    "start_time": "2022-05-20T07:46:15.769Z"
   },
   {
    "duration": 196,
    "start_time": "2022-05-20T07:48:09.710Z"
   },
   {
    "duration": 225,
    "start_time": "2022-05-20T07:49:18.368Z"
   },
   {
    "duration": 3,
    "start_time": "2022-05-20T07:49:46.127Z"
   },
   {
    "duration": 2,
    "start_time": "2022-05-20T07:49:48.031Z"
   },
   {
    "duration": 73,
    "start_time": "2022-05-21T06:32:07.859Z"
   },
   {
    "duration": 718,
    "start_time": "2022-05-21T06:32:18.595Z"
   },
   {
    "duration": 67,
    "start_time": "2022-05-21T06:32:19.316Z"
   },
   {
    "duration": 7,
    "start_time": "2022-05-21T06:32:19.385Z"
   },
   {
    "duration": 18,
    "start_time": "2022-05-21T06:32:19.394Z"
   },
   {
    "duration": 27,
    "start_time": "2022-05-21T06:32:19.414Z"
   },
   {
    "duration": 24,
    "start_time": "2022-05-21T06:32:19.443Z"
   },
   {
    "duration": 10,
    "start_time": "2022-05-21T06:32:19.469Z"
   },
   {
    "duration": 59,
    "start_time": "2022-05-21T06:32:19.481Z"
   },
   {
    "duration": 14,
    "start_time": "2022-05-21T06:32:19.542Z"
   },
   {
    "duration": 9,
    "start_time": "2022-05-21T06:32:19.559Z"
   },
   {
    "duration": 26,
    "start_time": "2022-05-21T06:32:19.570Z"
   },
   {
    "duration": 43,
    "start_time": "2022-05-21T06:32:19.598Z"
   },
   {
    "duration": 13,
    "start_time": "2022-05-21T06:32:19.642Z"
   },
   {
    "duration": 24,
    "start_time": "2022-05-21T06:32:19.657Z"
   },
   {
    "duration": 15,
    "start_time": "2022-05-21T06:32:19.683Z"
   },
   {
    "duration": 45,
    "start_time": "2022-05-21T06:32:19.700Z"
   },
   {
    "duration": 4,
    "start_time": "2022-05-21T06:32:19.746Z"
   },
   {
    "duration": 27,
    "start_time": "2022-05-21T06:32:19.752Z"
   },
   {
    "duration": 10,
    "start_time": "2022-05-21T06:32:19.781Z"
   },
   {
    "duration": 7,
    "start_time": "2022-05-21T06:32:19.792Z"
   },
   {
    "duration": 41,
    "start_time": "2022-05-21T06:32:19.823Z"
   },
   {
    "duration": 28,
    "start_time": "2022-05-21T06:32:19.865Z"
   },
   {
    "duration": 44,
    "start_time": "2022-05-21T06:32:19.895Z"
   },
   {
    "duration": 28,
    "start_time": "2022-05-21T06:32:19.941Z"
   },
   {
    "duration": 30,
    "start_time": "2022-05-21T06:32:19.971Z"
   },
   {
    "duration": 41,
    "start_time": "2022-05-21T06:32:20.004Z"
   },
   {
    "duration": 4,
    "start_time": "2022-05-21T06:32:20.047Z"
   },
   {
    "duration": 8,
    "start_time": "2022-05-21T06:32:20.055Z"
   },
   {
    "duration": 0,
    "start_time": "2022-05-21T06:34:24.269Z"
   },
   {
    "duration": 0,
    "start_time": "2022-05-21T06:34:24.270Z"
   },
   {
    "duration": 0,
    "start_time": "2022-05-21T06:34:24.271Z"
   },
   {
    "duration": 0,
    "start_time": "2022-05-21T06:34:24.272Z"
   },
   {
    "duration": 56,
    "start_time": "2022-05-21T11:26:01.569Z"
   },
   {
    "duration": 746,
    "start_time": "2022-05-21T11:26:09.817Z"
   },
   {
    "duration": 105,
    "start_time": "2022-05-21T11:26:10.566Z"
   },
   {
    "duration": 5,
    "start_time": "2022-05-21T11:26:10.672Z"
   },
   {
    "duration": 41,
    "start_time": "2022-05-21T11:26:10.679Z"
   },
   {
    "duration": 25,
    "start_time": "2022-05-21T11:26:10.722Z"
   },
   {
    "duration": 23,
    "start_time": "2022-05-21T11:26:10.748Z"
   },
   {
    "duration": 23,
    "start_time": "2022-05-21T11:26:10.772Z"
   },
   {
    "duration": 44,
    "start_time": "2022-05-21T11:26:10.797Z"
   },
   {
    "duration": 13,
    "start_time": "2022-05-21T11:26:10.842Z"
   },
   {
    "duration": 29,
    "start_time": "2022-05-21T11:26:10.857Z"
   },
   {
    "duration": 33,
    "start_time": "2022-05-21T11:26:10.888Z"
   },
   {
    "duration": 14,
    "start_time": "2022-05-21T11:26:10.922Z"
   },
   {
    "duration": 9,
    "start_time": "2022-05-21T11:26:10.937Z"
   },
   {
    "duration": 24,
    "start_time": "2022-05-21T11:26:10.948Z"
   },
   {
    "duration": 9,
    "start_time": "2022-05-21T11:26:10.973Z"
   },
   {
    "duration": 31,
    "start_time": "2022-05-21T11:26:10.984Z"
   },
   {
    "duration": 4,
    "start_time": "2022-05-21T11:26:11.016Z"
   },
   {
    "duration": 45,
    "start_time": "2022-05-21T11:26:11.022Z"
   },
   {
    "duration": 12,
    "start_time": "2022-05-21T11:26:11.068Z"
   },
   {
    "duration": 29,
    "start_time": "2022-05-21T11:26:11.081Z"
   },
   {
    "duration": 47,
    "start_time": "2022-05-21T11:26:11.111Z"
   },
   {
    "duration": 40,
    "start_time": "2022-05-21T11:26:11.159Z"
   },
   {
    "duration": 11,
    "start_time": "2022-05-21T11:26:11.202Z"
   },
   {
    "duration": 47,
    "start_time": "2022-05-21T11:26:11.214Z"
   },
   {
    "duration": 36,
    "start_time": "2022-05-21T11:26:11.262Z"
   },
   {
    "duration": 20,
    "start_time": "2022-05-21T11:26:11.299Z"
   },
   {
    "duration": 3,
    "start_time": "2022-05-21T11:26:11.320Z"
   },
   {
    "duration": 10,
    "start_time": "2022-05-21T11:26:11.325Z"
   },
   {
    "duration": 99786,
    "start_time": "2022-05-21T11:26:11.336Z"
   },
   {
    "duration": 0,
    "start_time": "2022-05-21T11:27:51.125Z"
   },
   {
    "duration": 0,
    "start_time": "2022-05-21T11:29:56.394Z"
   },
   {
    "duration": 0,
    "start_time": "2022-05-21T11:29:56.395Z"
   },
   {
    "duration": 0,
    "start_time": "2022-05-21T11:29:56.396Z"
   },
   {
    "duration": 3,
    "start_time": "2022-05-21T11:30:52.569Z"
   },
   {
    "duration": 3,
    "start_time": "2022-05-21T11:30:54.457Z"
   },
   {
    "duration": 104,
    "start_time": "2022-05-21T11:30:56.161Z"
   },
   {
    "duration": 2,
    "start_time": "2022-05-21T11:31:34.353Z"
   },
   {
    "duration": 2,
    "start_time": "2022-05-21T11:31:36.258Z"
   },
   {
    "duration": 0,
    "start_time": "2022-05-21T11:33:22.633Z"
   },
   {
    "duration": 0,
    "start_time": "2022-05-21T11:33:22.634Z"
   },
   {
    "duration": 0,
    "start_time": "2022-05-21T11:40:18.954Z"
   },
   {
    "duration": 10,
    "start_time": "2022-05-21T11:50:19.783Z"
   },
   {
    "duration": 25,
    "start_time": "2022-05-21T11:50:24.070Z"
   },
   {
    "duration": 28,
    "start_time": "2022-05-21T11:50:26.669Z"
   },
   {
    "duration": 20,
    "start_time": "2022-05-21T11:50:31.011Z"
   },
   {
    "duration": 3,
    "start_time": "2022-05-21T11:50:35.057Z"
   },
   {
    "duration": 3,
    "start_time": "2022-05-21T11:50:36.357Z"
   },
   {
    "duration": 3,
    "start_time": "2022-05-21T12:03:48.666Z"
   },
   {
    "duration": 2,
    "start_time": "2022-05-21T12:03:49.923Z"
   },
   {
    "duration": 193,
    "start_time": "2022-05-21T12:03:51.567Z"
   },
   {
    "duration": 3,
    "start_time": "2022-05-21T12:04:28.931Z"
   },
   {
    "duration": 3,
    "start_time": "2022-05-21T12:04:29.835Z"
   },
   {
    "duration": 0,
    "start_time": "2022-05-21T12:08:59.188Z"
   },
   {
    "duration": 0,
    "start_time": "2022-05-21T12:08:59.190Z"
   },
   {
    "duration": 0,
    "start_time": "2022-05-21T12:08:59.192Z"
   },
   {
    "duration": 3,
    "start_time": "2022-05-21T12:13:29.531Z"
   },
   {
    "duration": 3,
    "start_time": "2022-05-21T12:13:30.427Z"
   },
   {
    "duration": 551,
    "start_time": "2022-05-21T12:14:43.233Z"
   },
   {
    "duration": 51,
    "start_time": "2022-05-21T12:14:43.785Z"
   },
   {
    "duration": 5,
    "start_time": "2022-05-21T12:14:43.838Z"
   },
   {
    "duration": 35,
    "start_time": "2022-05-21T12:14:43.845Z"
   },
   {
    "duration": 20,
    "start_time": "2022-05-21T12:14:43.882Z"
   },
   {
    "duration": 24,
    "start_time": "2022-05-21T12:14:43.904Z"
   },
   {
    "duration": 9,
    "start_time": "2022-05-21T12:14:43.929Z"
   },
   {
    "duration": 47,
    "start_time": "2022-05-21T12:14:43.939Z"
   },
   {
    "duration": 13,
    "start_time": "2022-05-21T12:14:43.988Z"
   },
   {
    "duration": 8,
    "start_time": "2022-05-21T12:14:44.003Z"
   },
   {
    "duration": 30,
    "start_time": "2022-05-21T12:14:44.013Z"
   },
   {
    "duration": 15,
    "start_time": "2022-05-21T12:14:44.059Z"
   },
   {
    "duration": 9,
    "start_time": "2022-05-21T12:14:44.076Z"
   },
   {
    "duration": 22,
    "start_time": "2022-05-21T12:14:44.086Z"
   },
   {
    "duration": 13,
    "start_time": "2022-05-21T12:14:44.111Z"
   },
   {
    "duration": 48,
    "start_time": "2022-05-21T12:14:44.125Z"
   },
   {
    "duration": 4,
    "start_time": "2022-05-21T12:14:44.174Z"
   },
   {
    "duration": 30,
    "start_time": "2022-05-21T12:14:44.180Z"
   },
   {
    "duration": 8,
    "start_time": "2022-05-21T12:14:44.212Z"
   },
   {
    "duration": 11,
    "start_time": "2022-05-21T12:14:44.221Z"
   },
   {
    "duration": 42,
    "start_time": "2022-05-21T12:14:44.234Z"
   },
   {
    "duration": 27,
    "start_time": "2022-05-21T12:14:44.277Z"
   },
   {
    "duration": 10,
    "start_time": "2022-05-21T12:14:44.306Z"
   },
   {
    "duration": 42,
    "start_time": "2022-05-21T12:14:44.318Z"
   },
   {
    "duration": 25,
    "start_time": "2022-05-21T12:14:44.362Z"
   },
   {
    "duration": 20,
    "start_time": "2022-05-21T12:14:44.389Z"
   },
   {
    "duration": 2,
    "start_time": "2022-05-21T12:14:44.410Z"
   },
   {
    "duration": 14,
    "start_time": "2022-05-21T12:14:44.415Z"
   },
   {
    "duration": 38,
    "start_time": "2022-05-21T12:16:15.348Z"
   },
   {
    "duration": 0,
    "start_time": "2022-05-21T12:16:15.387Z"
   },
   {
    "duration": 0,
    "start_time": "2022-05-21T13:16:20.565Z"
   },
   {
    "duration": 0,
    "start_time": "2022-05-21T13:16:20.566Z"
   },
   {
    "duration": 2,
    "start_time": "2022-05-21T13:17:18.472Z"
   },
   {
    "duration": 24,
    "start_time": "2022-05-21T13:17:20.176Z"
   },
   {
    "duration": 33,
    "start_time": "2022-05-21T13:45:56.238Z"
   },
   {
    "duration": 12,
    "start_time": "2022-05-21T13:46:13.001Z"
   },
   {
    "duration": 501,
    "start_time": "2022-05-21T13:46:28.654Z"
   },
   {
    "duration": 11,
    "start_time": "2022-05-21T13:48:26.103Z"
   },
   {
    "duration": 4,
    "start_time": "2022-05-21T13:50:47.745Z"
   },
   {
    "duration": 12,
    "start_time": "2022-05-21T13:51:07.867Z"
   },
   {
    "duration": 14,
    "start_time": "2022-05-21T13:51:44.268Z"
   },
   {
    "duration": 29,
    "start_time": "2022-05-21T13:52:12.064Z"
   },
   {
    "duration": 31,
    "start_time": "2022-05-21T13:52:14.570Z"
   },
   {
    "duration": 25,
    "start_time": "2022-05-21T13:52:17.340Z"
   },
   {
    "duration": 10,
    "start_time": "2022-05-21T13:52:28.958Z"
   },
   {
    "duration": 10,
    "start_time": "2022-05-21T13:52:39.749Z"
   },
   {
    "duration": 566,
    "start_time": "2022-05-21T13:52:52.450Z"
   },
   {
    "duration": 49,
    "start_time": "2022-05-21T13:52:53.017Z"
   },
   {
    "duration": 5,
    "start_time": "2022-05-21T13:52:53.067Z"
   },
   {
    "duration": 17,
    "start_time": "2022-05-21T13:52:53.073Z"
   },
   {
    "duration": 20,
    "start_time": "2022-05-21T13:52:53.091Z"
   },
   {
    "duration": 24,
    "start_time": "2022-05-21T13:52:53.113Z"
   },
   {
    "duration": 29,
    "start_time": "2022-05-21T13:52:53.138Z"
   },
   {
    "duration": 43,
    "start_time": "2022-05-21T13:52:53.169Z"
   },
   {
    "duration": 12,
    "start_time": "2022-05-21T13:52:53.213Z"
   },
   {
    "duration": 8,
    "start_time": "2022-05-21T13:52:53.226Z"
   },
   {
    "duration": 44,
    "start_time": "2022-05-21T13:52:53.236Z"
   },
   {
    "duration": 14,
    "start_time": "2022-05-21T13:52:53.281Z"
   },
   {
    "duration": 8,
    "start_time": "2022-05-21T13:52:53.296Z"
   },
   {
    "duration": 19,
    "start_time": "2022-05-21T13:52:53.307Z"
   },
   {
    "duration": 32,
    "start_time": "2022-05-21T13:52:53.328Z"
   },
   {
    "duration": 23,
    "start_time": "2022-05-21T13:52:53.362Z"
   },
   {
    "duration": 4,
    "start_time": "2022-05-21T13:52:53.386Z"
   },
   {
    "duration": 24,
    "start_time": "2022-05-21T13:52:53.391Z"
   },
   {
    "duration": 13,
    "start_time": "2022-05-21T13:52:53.417Z"
   },
   {
    "duration": 6,
    "start_time": "2022-05-21T13:52:53.432Z"
   },
   {
    "duration": 52,
    "start_time": "2022-05-21T13:52:53.439Z"
   },
   {
    "duration": 25,
    "start_time": "2022-05-21T13:52:53.492Z"
   },
   {
    "duration": 11,
    "start_time": "2022-05-21T13:52:53.518Z"
   },
   {
    "duration": 44,
    "start_time": "2022-05-21T13:52:53.531Z"
   },
   {
    "duration": 27,
    "start_time": "2022-05-21T13:52:53.576Z"
   },
   {
    "duration": 22,
    "start_time": "2022-05-21T13:52:53.604Z"
   },
   {
    "duration": 3,
    "start_time": "2022-05-21T13:52:53.627Z"
   },
   {
    "duration": 43,
    "start_time": "2022-05-21T13:52:53.631Z"
   },
   {
    "duration": 71,
    "start_time": "2022-05-21T13:52:53.676Z"
   },
   {
    "duration": 10,
    "start_time": "2022-05-21T14:02:39.685Z"
   },
   {
    "duration": 60,
    "start_time": "2022-05-22T04:31:49.767Z"
   },
   {
    "duration": 105,
    "start_time": "2022-05-22T04:33:52.747Z"
   },
   {
    "duration": 35,
    "start_time": "2022-05-22T04:33:52.853Z"
   },
   {
    "duration": 4,
    "start_time": "2022-05-22T04:33:52.890Z"
   },
   {
    "duration": 19,
    "start_time": "2022-05-22T04:33:52.896Z"
   },
   {
    "duration": 22,
    "start_time": "2022-05-22T04:33:52.917Z"
   },
   {
    "duration": 46,
    "start_time": "2022-05-22T04:33:52.941Z"
   },
   {
    "duration": 8,
    "start_time": "2022-05-22T04:33:52.989Z"
   },
   {
    "duration": 35,
    "start_time": "2022-05-22T04:33:52.999Z"
   },
   {
    "duration": 38,
    "start_time": "2022-05-22T04:33:53.036Z"
   },
   {
    "duration": 9,
    "start_time": "2022-05-22T04:33:53.077Z"
   },
   {
    "duration": 28,
    "start_time": "2022-05-22T04:33:53.087Z"
   },
   {
    "duration": 16,
    "start_time": "2022-05-22T04:33:53.116Z"
   },
   {
    "duration": 39,
    "start_time": "2022-05-22T04:33:53.134Z"
   },
   {
    "duration": 22,
    "start_time": "2022-05-22T04:33:53.175Z"
   },
   {
    "duration": 12,
    "start_time": "2022-05-22T04:33:53.198Z"
   },
   {
    "duration": 27,
    "start_time": "2022-05-22T04:33:53.212Z"
   },
   {
    "duration": 5,
    "start_time": "2022-05-22T04:33:53.264Z"
   },
   {
    "duration": 27,
    "start_time": "2022-05-22T04:33:53.271Z"
   },
   {
    "duration": 9,
    "start_time": "2022-05-22T04:33:53.300Z"
   },
   {
    "duration": 7,
    "start_time": "2022-05-22T04:33:53.311Z"
   },
   {
    "duration": 68,
    "start_time": "2022-05-22T04:33:53.320Z"
   },
   {
    "duration": 32,
    "start_time": "2022-05-22T04:33:53.391Z"
   },
   {
    "duration": 15,
    "start_time": "2022-05-22T04:33:53.425Z"
   },
   {
    "duration": 50,
    "start_time": "2022-05-22T04:33:53.441Z"
   },
   {
    "duration": 30,
    "start_time": "2022-05-22T04:33:53.493Z"
   },
   {
    "duration": 42,
    "start_time": "2022-05-22T04:33:53.525Z"
   },
   {
    "duration": 3,
    "start_time": "2022-05-22T04:33:53.569Z"
   },
   {
    "duration": 25,
    "start_time": "2022-05-22T04:33:53.575Z"
   },
   {
    "duration": 34,
    "start_time": "2022-05-22T04:33:53.603Z"
   },
   {
    "duration": 24,
    "start_time": "2022-05-22T04:34:02.902Z"
   },
   {
    "duration": 40,
    "start_time": "2022-05-22T04:39:21.867Z"
   },
   {
    "duration": 76,
    "start_time": "2022-05-22T04:39:56.422Z"
   },
   {
    "duration": 34,
    "start_time": "2022-05-22T04:40:05.259Z"
   },
   {
    "duration": 25,
    "start_time": "2022-05-22T04:42:44.941Z"
   },
   {
    "duration": 37,
    "start_time": "2022-05-22T04:43:31.108Z"
   },
   {
    "duration": 37,
    "start_time": "2022-05-22T04:46:30.990Z"
   },
   {
    "duration": 34,
    "start_time": "2022-05-22T04:47:32.418Z"
   },
   {
    "duration": 20,
    "start_time": "2022-05-22T04:50:34.171Z"
   },
   {
    "duration": 16,
    "start_time": "2022-05-22T04:55:13.920Z"
   },
   {
    "duration": 18,
    "start_time": "2022-05-22T04:55:45.835Z"
   },
   {
    "duration": 19,
    "start_time": "2022-05-22T04:56:46.402Z"
   },
   {
    "duration": 23,
    "start_time": "2022-05-22T04:56:59.910Z"
   },
   {
    "duration": 19,
    "start_time": "2022-05-22T04:57:44.358Z"
   },
   {
    "duration": 60,
    "start_time": "2022-05-22T10:35:19.021Z"
   },
   {
    "duration": 1169,
    "start_time": "2022-05-22T10:35:24.017Z"
   },
   {
    "duration": 108,
    "start_time": "2022-05-22T10:35:25.189Z"
   },
   {
    "duration": 9,
    "start_time": "2022-05-22T10:35:25.299Z"
   },
   {
    "duration": 30,
    "start_time": "2022-05-22T10:35:25.316Z"
   },
   {
    "duration": 22,
    "start_time": "2022-05-22T10:35:25.349Z"
   },
   {
    "duration": 34,
    "start_time": "2022-05-22T10:35:25.373Z"
   },
   {
    "duration": 17,
    "start_time": "2022-05-22T10:35:25.408Z"
   },
   {
    "duration": 30,
    "start_time": "2022-05-22T10:35:25.427Z"
   },
   {
    "duration": 15,
    "start_time": "2022-05-22T10:35:25.459Z"
   },
   {
    "duration": 42,
    "start_time": "2022-05-22T10:35:25.476Z"
   },
   {
    "duration": 31,
    "start_time": "2022-05-22T10:35:25.520Z"
   },
   {
    "duration": 15,
    "start_time": "2022-05-22T10:35:25.553Z"
   },
   {
    "duration": 11,
    "start_time": "2022-05-22T10:35:25.570Z"
   },
   {
    "duration": 33,
    "start_time": "2022-05-22T10:35:25.604Z"
   },
   {
    "duration": 13,
    "start_time": "2022-05-22T10:35:25.639Z"
   },
   {
    "duration": 28,
    "start_time": "2022-05-22T10:35:25.653Z"
   },
   {
    "duration": 23,
    "start_time": "2022-05-22T10:35:25.683Z"
   },
   {
    "duration": 28,
    "start_time": "2022-05-22T10:35:25.719Z"
   },
   {
    "duration": 11,
    "start_time": "2022-05-22T10:35:25.749Z"
   },
   {
    "duration": 10,
    "start_time": "2022-05-22T10:35:25.761Z"
   },
   {
    "duration": 55,
    "start_time": "2022-05-22T10:35:25.772Z"
   },
   {
    "duration": 36,
    "start_time": "2022-05-22T10:35:25.829Z"
   },
   {
    "duration": 13,
    "start_time": "2022-05-22T10:35:25.866Z"
   },
   {
    "duration": 49,
    "start_time": "2022-05-22T10:35:25.880Z"
   },
   {
    "duration": 31,
    "start_time": "2022-05-22T10:35:25.931Z"
   },
   {
    "duration": 49,
    "start_time": "2022-05-22T10:35:25.964Z"
   },
   {
    "duration": 2,
    "start_time": "2022-05-22T10:35:26.016Z"
   },
   {
    "duration": 28,
    "start_time": "2022-05-22T10:35:26.020Z"
   },
   {
    "duration": 36,
    "start_time": "2022-05-22T10:35:26.049Z"
   },
   {
    "duration": 42,
    "start_time": "2022-05-22T10:35:26.087Z"
   },
   {
    "duration": 43,
    "start_time": "2022-05-22T10:35:26.131Z"
   },
   {
    "duration": 0,
    "start_time": "2022-05-22T10:35:26.176Z"
   },
   {
    "duration": 26,
    "start_time": "2022-05-22T10:35:56.597Z"
   },
   {
    "duration": 14,
    "start_time": "2022-05-22T10:46:37.014Z"
   },
   {
    "duration": 37,
    "start_time": "2022-05-22T10:46:42.891Z"
   },
   {
    "duration": 385,
    "start_time": "2022-05-22T10:48:16.167Z"
   },
   {
    "duration": 21,
    "start_time": "2022-05-22T10:48:26.815Z"
   },
   {
    "duration": 22,
    "start_time": "2022-05-22T10:50:01.401Z"
   },
   {
    "duration": 21,
    "start_time": "2022-05-22T10:50:04.159Z"
   },
   {
    "duration": 14,
    "start_time": "2022-05-22T10:51:52.553Z"
   },
   {
    "duration": 16,
    "start_time": "2022-05-22T10:52:00.991Z"
   },
   {
    "duration": 10,
    "start_time": "2022-05-22T10:52:13.431Z"
   },
   {
    "duration": 10,
    "start_time": "2022-05-22T10:52:16.093Z"
   },
   {
    "duration": 9,
    "start_time": "2022-05-22T10:52:17.388Z"
   },
   {
    "duration": 19,
    "start_time": "2022-05-22T10:52:30.088Z"
   },
   {
    "duration": 20,
    "start_time": "2022-05-22T10:52:37.711Z"
   },
   {
    "duration": 12,
    "start_time": "2022-05-22T10:52:59.151Z"
   },
   {
    "duration": 11,
    "start_time": "2022-05-22T10:53:22.619Z"
   },
   {
    "duration": 10,
    "start_time": "2022-05-22T10:53:25.568Z"
   },
   {
    "duration": 19,
    "start_time": "2022-05-22T10:53:29.618Z"
   },
   {
    "duration": 20,
    "start_time": "2022-05-22T10:53:54.852Z"
   },
   {
    "duration": 21,
    "start_time": "2022-05-22T10:54:06.847Z"
   },
   {
    "duration": 17,
    "start_time": "2022-05-22T10:54:38.276Z"
   },
   {
    "duration": 18,
    "start_time": "2022-05-22T10:56:01.103Z"
   },
   {
    "duration": 13,
    "start_time": "2022-05-22T12:03:29.722Z"
   },
   {
    "duration": 14,
    "start_time": "2022-05-22T12:04:11.323Z"
   },
   {
    "duration": 24,
    "start_time": "2022-05-22T12:04:46.119Z"
   },
   {
    "duration": 17,
    "start_time": "2022-05-22T12:16:42.819Z"
   },
   {
    "duration": 46,
    "start_time": "2022-05-22T12:23:40.930Z"
   },
   {
    "duration": 28,
    "start_time": "2022-05-22T12:23:58.573Z"
   },
   {
    "duration": 28,
    "start_time": "2022-05-22T12:24:22.059Z"
   },
   {
    "duration": 21,
    "start_time": "2022-05-22T12:26:32.765Z"
   },
   {
    "duration": 472,
    "start_time": "2022-05-22T12:28:11.492Z"
   },
   {
    "duration": 124,
    "start_time": "2022-05-22T12:28:48.957Z"
   },
   {
    "duration": 48,
    "start_time": "2022-05-22T12:28:49.083Z"
   },
   {
    "duration": 5,
    "start_time": "2022-05-22T12:28:49.133Z"
   },
   {
    "duration": 19,
    "start_time": "2022-05-22T12:28:49.139Z"
   },
   {
    "duration": 19,
    "start_time": "2022-05-22T12:28:49.161Z"
   },
   {
    "duration": 29,
    "start_time": "2022-05-22T12:28:49.182Z"
   },
   {
    "duration": 9,
    "start_time": "2022-05-22T12:28:49.213Z"
   },
   {
    "duration": 40,
    "start_time": "2022-05-22T12:28:49.224Z"
   },
   {
    "duration": 37,
    "start_time": "2022-05-22T12:28:49.265Z"
   },
   {
    "duration": 9,
    "start_time": "2022-05-22T12:28:49.303Z"
   },
   {
    "duration": 32,
    "start_time": "2022-05-22T12:28:49.313Z"
   },
   {
    "duration": 15,
    "start_time": "2022-05-22T12:28:49.346Z"
   },
   {
    "duration": 49,
    "start_time": "2022-05-22T12:28:49.362Z"
   },
   {
    "duration": 26,
    "start_time": "2022-05-22T12:28:49.414Z"
   },
   {
    "duration": 10,
    "start_time": "2022-05-22T12:28:49.442Z"
   },
   {
    "duration": 26,
    "start_time": "2022-05-22T12:28:49.453Z"
   },
   {
    "duration": 5,
    "start_time": "2022-05-22T12:28:49.502Z"
   },
   {
    "duration": 27,
    "start_time": "2022-05-22T12:28:49.509Z"
   },
   {
    "duration": 8,
    "start_time": "2022-05-22T12:28:49.537Z"
   },
   {
    "duration": 7,
    "start_time": "2022-05-22T12:28:49.547Z"
   },
   {
    "duration": 54,
    "start_time": "2022-05-22T12:28:49.556Z"
   },
   {
    "duration": 28,
    "start_time": "2022-05-22T12:28:49.612Z"
   },
   {
    "duration": 12,
    "start_time": "2022-05-22T12:28:49.642Z"
   },
   {
    "duration": 47,
    "start_time": "2022-05-22T12:28:49.656Z"
   },
   {
    "duration": 32,
    "start_time": "2022-05-22T12:28:49.705Z"
   },
   {
    "duration": 24,
    "start_time": "2022-05-22T12:28:49.739Z"
   },
   {
    "duration": 3,
    "start_time": "2022-05-22T12:28:49.764Z"
   },
   {
    "duration": 65,
    "start_time": "2022-05-22T12:28:49.769Z"
   },
   {
    "duration": 36,
    "start_time": "2022-05-22T12:28:49.835Z"
   },
   {
    "duration": 36,
    "start_time": "2022-05-22T12:28:49.872Z"
   },
   {
    "duration": 467,
    "start_time": "2022-05-22T12:28:49.909Z"
   },
   {
    "duration": 0,
    "start_time": "2022-05-22T12:28:50.378Z"
   },
   {
    "duration": 21,
    "start_time": "2022-05-22T12:39:05.421Z"
   },
   {
    "duration": 21,
    "start_time": "2022-05-22T12:39:10.007Z"
   },
   {
    "duration": 120,
    "start_time": "2022-05-22T12:39:19.064Z"
   },
   {
    "duration": 124,
    "start_time": "2022-05-22T12:40:00.866Z"
   },
   {
    "duration": 158,
    "start_time": "2022-05-22T12:40:11.269Z"
   },
   {
    "duration": 153,
    "start_time": "2022-05-22T12:41:19.264Z"
   },
   {
    "duration": 20,
    "start_time": "2022-05-22T12:42:34.996Z"
   },
   {
    "duration": 16,
    "start_time": "2022-05-22T12:51:21.058Z"
   },
   {
    "duration": 11,
    "start_time": "2022-05-22T12:52:37.882Z"
   },
   {
    "duration": 11,
    "start_time": "2022-05-22T12:52:45.985Z"
   },
   {
    "duration": 13,
    "start_time": "2022-05-22T12:52:54.217Z"
   },
   {
    "duration": 14,
    "start_time": "2022-05-22T12:54:27.057Z"
   },
   {
    "duration": 79,
    "start_time": "2022-05-23T00:04:57.694Z"
   },
   {
    "duration": 634,
    "start_time": "2022-05-23T00:05:01.481Z"
   },
   {
    "duration": 54,
    "start_time": "2022-05-23T00:05:02.117Z"
   },
   {
    "duration": 83,
    "start_time": "2022-05-23T00:05:02.173Z"
   },
   {
    "duration": 41,
    "start_time": "2022-05-23T00:05:02.258Z"
   },
   {
    "duration": 33,
    "start_time": "2022-05-23T00:05:02.300Z"
   },
   {
    "duration": 27,
    "start_time": "2022-05-23T00:05:02.335Z"
   },
   {
    "duration": 10,
    "start_time": "2022-05-23T00:05:02.364Z"
   },
   {
    "duration": 57,
    "start_time": "2022-05-23T00:05:02.375Z"
   },
   {
    "duration": 14,
    "start_time": "2022-05-23T00:05:02.434Z"
   },
   {
    "duration": 14,
    "start_time": "2022-05-23T00:05:02.451Z"
   },
   {
    "duration": 34,
    "start_time": "2022-05-23T00:05:02.467Z"
   },
   {
    "duration": 35,
    "start_time": "2022-05-23T00:05:02.503Z"
   },
   {
    "duration": 11,
    "start_time": "2022-05-23T00:05:02.540Z"
   },
   {
    "duration": 26,
    "start_time": "2022-05-23T00:05:02.553Z"
   },
   {
    "duration": 30,
    "start_time": "2022-05-23T00:05:02.581Z"
   },
   {
    "duration": 28,
    "start_time": "2022-05-23T00:05:02.613Z"
   },
   {
    "duration": 3,
    "start_time": "2022-05-23T00:05:02.643Z"
   },
   {
    "duration": 29,
    "start_time": "2022-05-23T00:05:02.648Z"
   },
   {
    "duration": 9,
    "start_time": "2022-05-23T00:05:02.678Z"
   },
   {
    "duration": 7,
    "start_time": "2022-05-23T00:05:02.688Z"
   },
   {
    "duration": 50,
    "start_time": "2022-05-23T00:05:02.697Z"
   },
   {
    "duration": 33,
    "start_time": "2022-05-23T00:05:02.749Z"
   },
   {
    "duration": 13,
    "start_time": "2022-05-23T00:05:02.783Z"
   },
   {
    "duration": 52,
    "start_time": "2022-05-23T00:05:02.797Z"
   },
   {
    "duration": 29,
    "start_time": "2022-05-23T00:05:02.851Z"
   },
   {
    "duration": 34,
    "start_time": "2022-05-23T00:05:02.882Z"
   },
   {
    "duration": 26,
    "start_time": "2022-05-23T00:05:02.918Z"
   },
   {
    "duration": 40,
    "start_time": "2022-05-23T00:05:02.947Z"
   },
   {
    "duration": 33,
    "start_time": "2022-05-23T00:05:02.989Z"
   },
   {
    "duration": 18,
    "start_time": "2022-05-23T00:05:03.024Z"
   },
   {
    "duration": 626,
    "start_time": "2022-05-23T00:05:03.043Z"
   },
   {
    "duration": 137,
    "start_time": "2022-05-23T00:05:03.671Z"
   },
   {
    "duration": 26,
    "start_time": "2022-05-23T00:05:03.810Z"
   },
   {
    "duration": 148,
    "start_time": "2022-05-23T00:05:30.547Z"
   },
   {
    "duration": 152,
    "start_time": "2022-05-23T00:06:29.474Z"
   },
   {
    "duration": 124,
    "start_time": "2022-05-23T00:08:22.339Z"
   },
   {
    "duration": 61,
    "start_time": "2022-05-23T00:09:00.540Z"
   },
   {
    "duration": 152,
    "start_time": "2022-05-23T00:09:13.392Z"
   },
   {
    "duration": 143,
    "start_time": "2022-05-23T00:10:24.135Z"
   },
   {
    "duration": 33,
    "start_time": "2022-05-23T00:34:10.253Z"
   },
   {
    "duration": 187,
    "start_time": "2022-05-23T00:38:21.636Z"
   },
   {
    "duration": 157,
    "start_time": "2022-05-23T00:38:35.411Z"
   },
   {
    "duration": 27,
    "start_time": "2022-05-23T00:38:48.657Z"
   },
   {
    "duration": 21,
    "start_time": "2022-05-23T00:39:34.488Z"
   },
   {
    "duration": 19,
    "start_time": "2022-05-23T00:39:40.840Z"
   },
   {
    "duration": 151,
    "start_time": "2022-05-23T00:40:54.493Z"
   },
   {
    "duration": 11,
    "start_time": "2022-05-23T00:44:43.910Z"
   },
   {
    "duration": 202,
    "start_time": "2022-05-23T00:44:51.157Z"
   },
   {
    "duration": 123,
    "start_time": "2022-05-23T00:46:01.347Z"
   },
   {
    "duration": 120,
    "start_time": "2022-05-23T00:47:47.644Z"
   },
   {
    "duration": 122,
    "start_time": "2022-05-23T00:48:23.489Z"
   },
   {
    "duration": 122,
    "start_time": "2022-05-23T00:48:27.558Z"
   },
   {
    "duration": 18,
    "start_time": "2022-05-23T00:53:32.244Z"
   },
   {
    "duration": 12,
    "start_time": "2022-05-23T01:10:44.810Z"
   },
   {
    "duration": 28,
    "start_time": "2022-05-23T01:13:35.591Z"
   },
   {
    "duration": 19,
    "start_time": "2022-05-23T01:13:39.116Z"
   },
   {
    "duration": 19,
    "start_time": "2022-05-23T01:17:53.765Z"
   },
   {
    "duration": 11,
    "start_time": "2022-05-23T01:38:22.061Z"
   },
   {
    "duration": 18,
    "start_time": "2022-05-23T01:38:32.963Z"
   },
   {
    "duration": 19,
    "start_time": "2022-05-23T01:39:55.577Z"
   },
   {
    "duration": 18,
    "start_time": "2022-05-23T01:40:09.608Z"
   },
   {
    "duration": 150,
    "start_time": "2022-05-23T01:41:55.756Z"
   },
   {
    "duration": 148,
    "start_time": "2022-05-23T01:46:21.581Z"
   },
   {
    "duration": 165,
    "start_time": "2022-05-23T01:49:15.598Z"
   },
   {
    "duration": 124,
    "start_time": "2022-05-23T01:58:31.774Z"
   },
   {
    "duration": 159,
    "start_time": "2022-05-23T01:58:39.043Z"
   },
   {
    "duration": 26,
    "start_time": "2022-05-23T02:02:34.420Z"
   },
   {
    "duration": 109,
    "start_time": "2022-05-23T02:02:37.844Z"
   },
   {
    "duration": 154,
    "start_time": "2022-05-23T02:02:58.051Z"
   },
   {
    "duration": 20,
    "start_time": "2022-05-23T02:03:17.515Z"
   },
   {
    "duration": 15,
    "start_time": "2022-05-23T02:08:36.897Z"
   },
   {
    "duration": 45,
    "start_time": "2022-05-23T02:08:58.656Z"
   },
   {
    "duration": 46,
    "start_time": "2022-05-23T02:09:02.009Z"
   },
   {
    "duration": 159,
    "start_time": "2022-05-23T02:09:18.799Z"
   },
   {
    "duration": 270,
    "start_time": "2022-05-23T02:14:12.030Z"
   },
   {
    "duration": 162,
    "start_time": "2022-05-23T02:14:18.006Z"
   },
   {
    "duration": 19,
    "start_time": "2022-05-23T02:16:39.377Z"
   },
   {
    "duration": 157,
    "start_time": "2022-05-23T02:17:35.217Z"
   },
   {
    "duration": 167,
    "start_time": "2022-05-23T02:23:01.273Z"
   },
   {
    "duration": 148,
    "start_time": "2022-05-23T02:25:46.489Z"
   },
   {
    "duration": 168,
    "start_time": "2022-05-23T02:26:03.929Z"
   },
   {
    "duration": 158,
    "start_time": "2022-05-23T02:26:24.520Z"
   },
   {
    "duration": 12,
    "start_time": "2022-05-23T02:31:01.607Z"
   },
   {
    "duration": 17,
    "start_time": "2022-05-23T02:31:11.551Z"
   },
   {
    "duration": 15,
    "start_time": "2022-05-23T02:34:17.506Z"
   },
   {
    "duration": 53,
    "start_time": "2022-05-23T07:19:03.476Z"
   },
   {
    "duration": 1195,
    "start_time": "2022-05-23T07:19:07.271Z"
   },
   {
    "duration": 105,
    "start_time": "2022-05-23T07:19:08.468Z"
   },
   {
    "duration": 5,
    "start_time": "2022-05-23T07:19:08.574Z"
   },
   {
    "duration": 17,
    "start_time": "2022-05-23T07:19:08.581Z"
   },
   {
    "duration": 20,
    "start_time": "2022-05-23T07:19:08.600Z"
   },
   {
    "duration": 34,
    "start_time": "2022-05-23T07:19:08.622Z"
   },
   {
    "duration": 11,
    "start_time": "2022-05-23T07:19:08.658Z"
   },
   {
    "duration": 30,
    "start_time": "2022-05-23T07:19:08.671Z"
   },
   {
    "duration": 15,
    "start_time": "2022-05-23T07:19:08.702Z"
   },
   {
    "duration": 16,
    "start_time": "2022-05-23T07:19:08.741Z"
   },
   {
    "duration": 29,
    "start_time": "2022-05-23T07:19:08.759Z"
   },
   {
    "duration": 15,
    "start_time": "2022-05-23T07:19:08.789Z"
   },
   {
    "duration": 10,
    "start_time": "2022-05-23T07:19:08.806Z"
   },
   {
    "duration": 22,
    "start_time": "2022-05-23T07:19:08.850Z"
   },
   {
    "duration": 11,
    "start_time": "2022-05-23T07:19:08.874Z"
   },
   {
    "duration": 25,
    "start_time": "2022-05-23T07:19:08.886Z"
   },
   {
    "duration": 4,
    "start_time": "2022-05-23T07:19:08.912Z"
   },
   {
    "duration": 54,
    "start_time": "2022-05-23T07:19:08.918Z"
   },
   {
    "duration": 10,
    "start_time": "2022-05-23T07:19:08.974Z"
   },
   {
    "duration": 8,
    "start_time": "2022-05-23T07:19:08.986Z"
   },
   {
    "duration": 50,
    "start_time": "2022-05-23T07:19:08.996Z"
   },
   {
    "duration": 40,
    "start_time": "2022-05-23T07:19:09.047Z"
   },
   {
    "duration": 23,
    "start_time": "2022-05-23T07:19:09.089Z"
   },
   {
    "duration": 49,
    "start_time": "2022-05-23T07:19:09.113Z"
   },
   {
    "duration": 42,
    "start_time": "2022-05-23T07:19:09.164Z"
   },
   {
    "duration": 47,
    "start_time": "2022-05-23T07:19:09.208Z"
   },
   {
    "duration": 4,
    "start_time": "2022-05-23T07:19:09.256Z"
   },
   {
    "duration": 27,
    "start_time": "2022-05-23T07:19:09.261Z"
   },
   {
    "duration": 33,
    "start_time": "2022-05-23T07:19:09.290Z"
   },
   {
    "duration": 34,
    "start_time": "2022-05-23T07:19:09.324Z"
   },
   {
    "duration": 164,
    "start_time": "2022-05-23T07:19:09.360Z"
   },
   {
    "duration": 161,
    "start_time": "2022-05-23T07:19:09.526Z"
   },
   {
    "duration": 15,
    "start_time": "2022-05-23T07:19:09.688Z"
   },
   {
    "duration": 196,
    "start_time": "2022-05-23T07:19:09.704Z"
   },
   {
    "duration": 39,
    "start_time": "2022-05-23T07:19:09.902Z"
   },
   {
    "duration": 187,
    "start_time": "2022-05-23T07:19:09.943Z"
   },
   {
    "duration": 158,
    "start_time": "2022-05-23T07:19:10.132Z"
   },
   {
    "duration": 18,
    "start_time": "2022-05-23T07:19:10.292Z"
   },
   {
    "duration": 187,
    "start_time": "2022-05-23T07:19:10.311Z"
   },
   {
    "duration": 178,
    "start_time": "2022-05-23T07:19:10.499Z"
   },
   {
    "duration": 182,
    "start_time": "2022-05-23T07:19:10.680Z"
   },
   {
    "duration": 234,
    "start_time": "2022-05-23T07:19:10.863Z"
   },
   {
    "duration": 183,
    "start_time": "2022-05-23T07:19:11.099Z"
   },
   {
    "duration": 16,
    "start_time": "2022-05-23T07:19:11.284Z"
   },
   {
    "duration": 141,
    "start_time": "2022-05-23T07:19:59.005Z"
   },
   {
    "duration": 17,
    "start_time": "2022-05-23T07:20:17.283Z"
   },
   {
    "duration": 49,
    "start_time": "2022-05-23T07:21:40.633Z"
   },
   {
    "duration": 44,
    "start_time": "2022-05-23T07:21:45.081Z"
   },
   {
    "duration": 148,
    "start_time": "2022-05-23T07:21:55.144Z"
   },
   {
    "duration": 140,
    "start_time": "2022-05-23T07:22:23.753Z"
   },
   {
    "duration": 165,
    "start_time": "2022-05-23T07:23:28.117Z"
   },
   {
    "duration": 173,
    "start_time": "2022-05-23T07:26:43.304Z"
   },
   {
    "duration": 191,
    "start_time": "2022-05-23T07:26:56.735Z"
   },
   {
    "duration": 189,
    "start_time": "2022-05-23T07:27:03.074Z"
   },
   {
    "duration": 194,
    "start_time": "2022-05-23T07:34:08.063Z"
   },
   {
    "duration": 40,
    "start_time": "2022-05-23T07:34:44.262Z"
   },
   {
    "duration": 112,
    "start_time": "2022-05-23T07:36:46.853Z"
   },
   {
    "duration": 66,
    "start_time": "2022-05-23T07:38:46.926Z"
   },
   {
    "duration": 52,
    "start_time": "2022-05-23T07:40:54.297Z"
   },
   {
    "duration": 4,
    "start_time": "2022-05-23T07:42:02.440Z"
   },
   {
    "duration": 48,
    "start_time": "2022-05-23T07:43:01.773Z"
   },
   {
    "duration": 47,
    "start_time": "2022-05-23T07:44:40.210Z"
   },
   {
    "duration": 61,
    "start_time": "2022-05-23T07:47:46.901Z"
   },
   {
    "duration": 42,
    "start_time": "2022-05-23T07:49:34.272Z"
   },
   {
    "duration": 43,
    "start_time": "2022-05-23T07:50:24.701Z"
   },
   {
    "duration": 57,
    "start_time": "2022-05-23T07:51:06.058Z"
   },
   {
    "duration": 46,
    "start_time": "2022-05-23T07:51:17.533Z"
   },
   {
    "duration": 46,
    "start_time": "2022-05-23T07:56:14.459Z"
   },
   {
    "duration": 57,
    "start_time": "2022-05-23T09:15:13.593Z"
   },
   {
    "duration": 1440,
    "start_time": "2022-05-23T09:15:18.679Z"
   },
   {
    "duration": 105,
    "start_time": "2022-05-23T09:15:20.121Z"
   },
   {
    "duration": 5,
    "start_time": "2022-05-23T09:15:20.228Z"
   },
   {
    "duration": 20,
    "start_time": "2022-05-23T09:15:20.234Z"
   },
   {
    "duration": 21,
    "start_time": "2022-05-23T09:15:20.256Z"
   },
   {
    "duration": 25,
    "start_time": "2022-05-23T09:15:20.278Z"
   },
   {
    "duration": 9,
    "start_time": "2022-05-23T09:15:20.304Z"
   },
   {
    "duration": 50,
    "start_time": "2022-05-23T09:15:20.315Z"
   },
   {
    "duration": 13,
    "start_time": "2022-05-23T09:15:20.367Z"
   },
   {
    "duration": 10,
    "start_time": "2022-05-23T09:15:20.381Z"
   },
   {
    "duration": 54,
    "start_time": "2022-05-23T09:15:20.392Z"
   },
   {
    "duration": 14,
    "start_time": "2022-05-23T09:15:20.448Z"
   },
   {
    "duration": 9,
    "start_time": "2022-05-23T09:15:20.464Z"
   },
   {
    "duration": 21,
    "start_time": "2022-05-23T09:15:20.476Z"
   },
   {
    "duration": 10,
    "start_time": "2022-05-23T09:15:20.498Z"
   },
   {
    "duration": 55,
    "start_time": "2022-05-23T09:15:20.510Z"
   },
   {
    "duration": 5,
    "start_time": "2022-05-23T09:15:20.566Z"
   },
   {
    "duration": 30,
    "start_time": "2022-05-23T09:15:20.572Z"
   },
   {
    "duration": 10,
    "start_time": "2022-05-23T09:15:20.604Z"
   },
   {
    "duration": 31,
    "start_time": "2022-05-23T09:15:20.616Z"
   },
   {
    "duration": 30,
    "start_time": "2022-05-23T09:15:20.648Z"
   },
   {
    "duration": 30,
    "start_time": "2022-05-23T09:15:20.679Z"
   },
   {
    "duration": 35,
    "start_time": "2022-05-23T09:15:20.710Z"
   },
   {
    "duration": 27,
    "start_time": "2022-05-23T09:15:20.747Z"
   },
   {
    "duration": 32,
    "start_time": "2022-05-23T09:15:20.776Z"
   },
   {
    "duration": 56,
    "start_time": "2022-05-23T09:15:20.810Z"
   },
   {
    "duration": 6,
    "start_time": "2022-05-23T09:15:20.868Z"
   },
   {
    "duration": 43,
    "start_time": "2022-05-23T09:15:20.875Z"
   },
   {
    "duration": 51,
    "start_time": "2022-05-23T09:15:20.920Z"
   },
   {
    "duration": 18,
    "start_time": "2022-05-23T09:15:20.972Z"
   },
   {
    "duration": 174,
    "start_time": "2022-05-23T09:15:20.992Z"
   },
   {
    "duration": 171,
    "start_time": "2022-05-23T09:15:21.168Z"
   },
   {
    "duration": 14,
    "start_time": "2022-05-23T09:15:21.341Z"
   },
   {
    "duration": 175,
    "start_time": "2022-05-23T09:15:21.357Z"
   },
   {
    "duration": 24,
    "start_time": "2022-05-23T09:15:21.533Z"
   },
   {
    "duration": 175,
    "start_time": "2022-05-23T09:15:21.559Z"
   },
   {
    "duration": 144,
    "start_time": "2022-05-23T09:15:21.741Z"
   },
   {
    "duration": 21,
    "start_time": "2022-05-23T09:15:21.886Z"
   },
   {
    "duration": 183,
    "start_time": "2022-05-23T09:15:21.909Z"
   },
   {
    "duration": 189,
    "start_time": "2022-05-23T09:15:22.094Z"
   },
   {
    "duration": 172,
    "start_time": "2022-05-23T09:15:22.286Z"
   },
   {
    "duration": 240,
    "start_time": "2022-05-23T09:15:22.460Z"
   },
   {
    "duration": 181,
    "start_time": "2022-05-23T09:15:22.701Z"
   },
   {
    "duration": 15,
    "start_time": "2022-05-23T09:15:22.884Z"
   },
   {
    "duration": 193,
    "start_time": "2022-05-23T09:15:22.900Z"
   },
   {
    "duration": 50,
    "start_time": "2022-05-23T09:15:23.094Z"
   },
   {
    "duration": 46,
    "start_time": "2022-05-23T09:15:23.146Z"
   },
   {
    "duration": 18,
    "start_time": "2022-05-26T12:23:24.488Z"
   },
   {
    "duration": 13,
    "start_time": "2022-05-26T12:23:31.170Z"
   },
   {
    "duration": 572,
    "start_time": "2022-05-26T12:24:14.665Z"
   },
   {
    "duration": 164,
    "start_time": "2022-05-26T12:24:24.591Z"
   },
   {
    "duration": 48,
    "start_time": "2022-05-26T12:24:53.454Z"
   },
   {
    "duration": 149,
    "start_time": "2022-05-26T12:26:46.751Z"
   },
   {
    "duration": 159,
    "start_time": "2022-05-26T12:27:55.687Z"
   },
   {
    "duration": 157,
    "start_time": "2022-05-26T12:28:23.976Z"
   },
   {
    "duration": 160,
    "start_time": "2022-05-26T12:28:32.081Z"
   },
   {
    "duration": 148,
    "start_time": "2022-05-26T12:28:40.282Z"
   },
   {
    "duration": 158,
    "start_time": "2022-05-26T12:28:50.544Z"
   },
   {
    "duration": 226,
    "start_time": "2022-05-26T12:29:00.093Z"
   },
   {
    "duration": 44,
    "start_time": "2022-05-26T12:39:22.432Z"
   },
   {
    "duration": 40,
    "start_time": "2022-05-26T12:40:45.858Z"
   },
   {
    "duration": 15,
    "start_time": "2022-05-26T12:44:11.890Z"
   },
   {
    "duration": 6,
    "start_time": "2022-05-26T12:47:59.709Z"
   },
   {
    "duration": 5,
    "start_time": "2022-05-26T12:48:02.658Z"
   },
   {
    "duration": 43,
    "start_time": "2022-05-26T12:48:09.043Z"
   },
   {
    "duration": 34,
    "start_time": "2022-05-26T12:48:18.493Z"
   },
   {
    "duration": 10,
    "start_time": "2022-05-26T12:48:27.202Z"
   },
   {
    "duration": 14,
    "start_time": "2022-05-26T12:49:43.519Z"
   },
   {
    "duration": 40,
    "start_time": "2022-05-26T12:50:02.184Z"
   },
   {
    "duration": 9,
    "start_time": "2022-05-26T12:50:22.833Z"
   },
   {
    "duration": 9,
    "start_time": "2022-05-26T12:55:41.018Z"
   },
   {
    "duration": 15,
    "start_time": "2022-05-26T12:55:47.829Z"
   },
   {
    "duration": 23,
    "start_time": "2022-05-26T12:57:36.071Z"
   },
   {
    "duration": 17,
    "start_time": "2022-05-26T12:58:10.125Z"
   },
   {
    "duration": 399,
    "start_time": "2022-05-26T12:58:51.587Z"
   },
   {
    "duration": 513,
    "start_time": "2022-05-26T12:59:01.188Z"
   },
   {
    "duration": 8,
    "start_time": "2022-05-26T12:59:48.428Z"
   },
   {
    "duration": 62,
    "start_time": "2022-05-27T11:51:02.240Z"
   },
   {
    "duration": 1855,
    "start_time": "2022-05-27T11:51:05.778Z"
   },
   {
    "duration": 107,
    "start_time": "2022-05-27T11:51:07.635Z"
   },
   {
    "duration": 6,
    "start_time": "2022-05-27T11:51:07.744Z"
   },
   {
    "duration": 40,
    "start_time": "2022-05-27T11:51:07.753Z"
   },
   {
    "duration": 24,
    "start_time": "2022-05-27T11:51:07.795Z"
   },
   {
    "duration": 25,
    "start_time": "2022-05-27T11:51:07.821Z"
   },
   {
    "duration": 11,
    "start_time": "2022-05-27T11:51:07.848Z"
   },
   {
    "duration": 46,
    "start_time": "2022-05-27T11:51:07.884Z"
   },
   {
    "duration": 20,
    "start_time": "2022-05-27T11:51:07.932Z"
   },
   {
    "duration": 38,
    "start_time": "2022-05-27T11:51:07.956Z"
   },
   {
    "duration": 51,
    "start_time": "2022-05-27T11:51:07.996Z"
   },
   {
    "duration": 20,
    "start_time": "2022-05-27T11:51:08.050Z"
   },
   {
    "duration": 13,
    "start_time": "2022-05-27T11:51:08.083Z"
   },
   {
    "duration": 26,
    "start_time": "2022-05-27T11:51:08.098Z"
   },
   {
    "duration": 38,
    "start_time": "2022-05-27T11:51:08.126Z"
   },
   {
    "duration": 20,
    "start_time": "2022-05-27T11:51:08.166Z"
   },
   {
    "duration": 50,
    "start_time": "2022-05-27T11:51:08.189Z"
   },
   {
    "duration": 10,
    "start_time": "2022-05-27T11:51:08.240Z"
   },
   {
    "duration": 19,
    "start_time": "2022-05-27T11:51:08.252Z"
   },
   {
    "duration": 34,
    "start_time": "2022-05-27T11:51:08.273Z"
   },
   {
    "duration": 32,
    "start_time": "2022-05-27T11:51:08.310Z"
   },
   {
    "duration": 13,
    "start_time": "2022-05-27T11:51:08.344Z"
   },
   {
    "duration": 49,
    "start_time": "2022-05-27T11:51:08.359Z"
   },
   {
    "duration": 32,
    "start_time": "2022-05-27T11:51:08.410Z"
   },
   {
    "duration": 50,
    "start_time": "2022-05-27T11:51:08.443Z"
   },
   {
    "duration": 3,
    "start_time": "2022-05-27T11:51:08.495Z"
   },
   {
    "duration": 28,
    "start_time": "2022-05-27T11:51:08.499Z"
   },
   {
    "duration": 57,
    "start_time": "2022-05-27T11:51:08.530Z"
   },
   {
    "duration": 22,
    "start_time": "2022-05-27T11:51:08.590Z"
   },
   {
    "duration": 180,
    "start_time": "2022-05-27T11:51:08.614Z"
   },
   {
    "duration": 164,
    "start_time": "2022-05-27T11:51:08.796Z"
   },
   {
    "duration": 27,
    "start_time": "2022-05-27T11:51:08.963Z"
   },
   {
    "duration": 160,
    "start_time": "2022-05-27T11:51:08.992Z"
   },
   {
    "duration": 34,
    "start_time": "2022-05-27T11:51:09.154Z"
   },
   {
    "duration": 164,
    "start_time": "2022-05-27T11:51:09.190Z"
   },
   {
    "duration": 154,
    "start_time": "2022-05-27T11:51:09.355Z"
   },
   {
    "duration": 20,
    "start_time": "2022-05-27T11:51:09.511Z"
   },
   {
    "duration": 191,
    "start_time": "2022-05-27T11:51:09.532Z"
   },
   {
    "duration": 190,
    "start_time": "2022-05-27T11:51:09.725Z"
   },
   {
    "duration": 182,
    "start_time": "2022-05-27T11:51:09.916Z"
   },
   {
    "duration": 269,
    "start_time": "2022-05-27T11:51:10.100Z"
   },
   {
    "duration": 186,
    "start_time": "2022-05-27T11:51:10.372Z"
   },
   {
    "duration": 26,
    "start_time": "2022-05-27T11:51:10.559Z"
   },
   {
    "duration": 205,
    "start_time": "2022-05-27T11:51:10.586Z"
   },
   {
    "duration": 43,
    "start_time": "2022-05-27T11:51:10.793Z"
   },
   {
    "duration": 66,
    "start_time": "2022-05-27T11:51:10.838Z"
   },
   {
    "duration": 39,
    "start_time": "2022-05-27T11:51:10.906Z"
   },
   {
    "duration": 8,
    "start_time": "2022-05-27T11:51:10.947Z"
   },
   {
    "duration": 59,
    "start_time": "2022-05-27T11:51:10.957Z"
   },
   {
    "duration": 8,
    "start_time": "2022-05-27T11:51:11.018Z"
   },
   {
    "duration": 42,
    "start_time": "2022-05-27T11:52:39.927Z"
   },
   {
    "duration": 38,
    "start_time": "2022-05-27T11:52:52.970Z"
   },
   {
    "duration": 158,
    "start_time": "2022-05-27T11:59:58.089Z"
   },
   {
    "duration": 23,
    "start_time": "2022-05-27T12:02:36.772Z"
   },
   {
    "duration": 5,
    "start_time": "2022-05-27T12:03:59.002Z"
   },
   {
    "duration": 4465,
    "start_time": "2022-05-27T12:05:38.161Z"
   },
   {
    "duration": 7,
    "start_time": "2022-05-27T12:07:23.725Z"
   },
   {
    "duration": 155,
    "start_time": "2022-05-27T12:08:42.944Z"
   },
   {
    "duration": 151,
    "start_time": "2022-05-27T12:09:49.878Z"
   },
   {
    "duration": 101,
    "start_time": "2022-05-27T12:10:13.129Z"
   },
   {
    "duration": 282,
    "start_time": "2022-05-27T12:10:30.308Z"
   },
   {
    "duration": 149,
    "start_time": "2022-05-27T12:11:22.708Z"
   },
   {
    "duration": 177,
    "start_time": "2022-05-27T12:12:26.187Z"
   },
   {
    "duration": 139,
    "start_time": "2022-05-27T12:12:59.404Z"
   },
   {
    "duration": 156,
    "start_time": "2022-05-27T12:16:51.982Z"
   },
   {
    "duration": 159,
    "start_time": "2022-05-27T12:17:22.780Z"
   },
   {
    "duration": 172,
    "start_time": "2022-05-27T12:17:48.107Z"
   },
   {
    "duration": 301,
    "start_time": "2022-05-27T12:25:02.261Z"
   },
   {
    "duration": 15,
    "start_time": "2022-05-27T12:32:35.826Z"
   },
   {
    "duration": 6,
    "start_time": "2022-05-27T12:35:47.674Z"
   },
   {
    "duration": 6,
    "start_time": "2022-05-27T12:38:13.835Z"
   },
   {
    "duration": 960,
    "start_time": "2022-05-27T12:50:24.505Z"
   },
   {
    "duration": 59,
    "start_time": "2022-05-27T12:50:25.468Z"
   },
   {
    "duration": 7,
    "start_time": "2022-05-27T12:50:25.529Z"
   },
   {
    "duration": 21,
    "start_time": "2022-05-27T12:50:25.538Z"
   },
   {
    "duration": 31,
    "start_time": "2022-05-27T12:50:25.560Z"
   },
   {
    "duration": 43,
    "start_time": "2022-05-27T12:50:25.593Z"
   },
   {
    "duration": 14,
    "start_time": "2022-05-27T12:50:25.638Z"
   },
   {
    "duration": 51,
    "start_time": "2022-05-27T12:50:25.654Z"
   },
   {
    "duration": 15,
    "start_time": "2022-05-27T12:50:25.707Z"
   },
   {
    "duration": 14,
    "start_time": "2022-05-27T12:50:25.727Z"
   },
   {
    "duration": 52,
    "start_time": "2022-05-27T12:50:25.742Z"
   },
   {
    "duration": 18,
    "start_time": "2022-05-27T12:50:25.797Z"
   },
   {
    "duration": 13,
    "start_time": "2022-05-27T12:50:25.817Z"
   },
   {
    "duration": 21,
    "start_time": "2022-05-27T12:50:25.832Z"
   },
   {
    "duration": 56,
    "start_time": "2022-05-27T12:50:25.855Z"
   },
   {
    "duration": 5,
    "start_time": "2022-05-27T12:50:25.913Z"
   },
   {
    "duration": 34,
    "start_time": "2022-05-27T12:50:25.919Z"
   },
   {
    "duration": 35,
    "start_time": "2022-05-27T12:50:25.955Z"
   },
   {
    "duration": 12,
    "start_time": "2022-05-27T12:50:25.992Z"
   },
   {
    "duration": 51,
    "start_time": "2022-05-27T12:50:26.006Z"
   },
   {
    "duration": 60,
    "start_time": "2022-05-27T12:50:26.059Z"
   },
   {
    "duration": 15,
    "start_time": "2022-05-27T12:50:26.121Z"
   },
   {
    "duration": 64,
    "start_time": "2022-05-27T12:50:26.138Z"
   },
   {
    "duration": 34,
    "start_time": "2022-05-27T12:50:26.205Z"
   },
   {
    "duration": 47,
    "start_time": "2022-05-27T12:50:26.241Z"
   },
   {
    "duration": 4,
    "start_time": "2022-05-27T12:50:26.290Z"
   },
   {
    "duration": 42,
    "start_time": "2022-05-27T12:50:26.296Z"
   },
   {
    "duration": 60,
    "start_time": "2022-05-27T12:50:26.343Z"
   },
   {
    "duration": 21,
    "start_time": "2022-05-27T12:50:26.405Z"
   },
   {
    "duration": 210,
    "start_time": "2022-05-27T12:50:26.427Z"
   },
   {
    "duration": 200,
    "start_time": "2022-05-27T12:50:26.640Z"
   },
   {
    "duration": 22,
    "start_time": "2022-05-27T12:50:26.842Z"
   },
   {
    "duration": 226,
    "start_time": "2022-05-27T12:50:26.866Z"
   },
   {
    "duration": 28,
    "start_time": "2022-05-27T12:50:27.094Z"
   },
   {
    "duration": 230,
    "start_time": "2022-05-27T12:50:27.123Z"
   },
   {
    "duration": 208,
    "start_time": "2022-05-27T12:50:27.357Z"
   },
   {
    "duration": 38,
    "start_time": "2022-05-27T12:50:27.568Z"
   },
   {
    "duration": 230,
    "start_time": "2022-05-27T12:50:27.608Z"
   },
   {
    "duration": 236,
    "start_time": "2022-05-27T12:50:27.840Z"
   },
   {
    "duration": 248,
    "start_time": "2022-05-27T12:50:28.084Z"
   },
   {
    "duration": 271,
    "start_time": "2022-05-27T12:50:28.335Z"
   },
   {
    "duration": 178,
    "start_time": "2022-05-27T12:50:28.609Z"
   },
   {
    "duration": 39,
    "start_time": "2022-05-27T12:50:28.789Z"
   },
   {
    "duration": 66,
    "start_time": "2022-05-27T12:50:28.830Z"
   },
   {
    "duration": 51,
    "start_time": "2022-05-27T12:50:28.898Z"
   },
   {
    "duration": 83,
    "start_time": "2022-05-27T12:50:28.951Z"
   },
   {
    "duration": 66,
    "start_time": "2022-05-27T12:50:29.037Z"
   },
   {
    "duration": 7,
    "start_time": "2022-05-27T12:50:29.105Z"
   },
   {
    "duration": 166,
    "start_time": "2022-05-27T12:50:29.114Z"
   },
   {
    "duration": 183,
    "start_time": "2022-05-27T12:50:29.284Z"
   },
   {
    "duration": 187,
    "start_time": "2022-05-27T12:50:29.469Z"
   },
   {
    "duration": 1282,
    "start_time": "2022-05-27T16:46:20.958Z"
   },
   {
    "duration": 112,
    "start_time": "2022-05-27T16:46:22.242Z"
   },
   {
    "duration": 4,
    "start_time": "2022-05-27T16:46:22.356Z"
   },
   {
    "duration": 25,
    "start_time": "2022-05-27T16:46:22.362Z"
   },
   {
    "duration": 29,
    "start_time": "2022-05-27T16:46:22.389Z"
   },
   {
    "duration": 32,
    "start_time": "2022-05-27T16:46:22.420Z"
   },
   {
    "duration": 9,
    "start_time": "2022-05-27T16:46:22.454Z"
   },
   {
    "duration": 53,
    "start_time": "2022-05-27T16:46:22.465Z"
   },
   {
    "duration": 13,
    "start_time": "2022-05-27T16:46:22.521Z"
   },
   {
    "duration": 9,
    "start_time": "2022-05-27T16:46:22.536Z"
   },
   {
    "duration": 66,
    "start_time": "2022-05-27T16:46:22.547Z"
   },
   {
    "duration": 20,
    "start_time": "2022-05-27T16:46:22.616Z"
   },
   {
    "duration": 14,
    "start_time": "2022-05-27T16:46:22.638Z"
   },
   {
    "duration": 15,
    "start_time": "2022-05-27T16:46:22.656Z"
   },
   {
    "duration": 64,
    "start_time": "2022-05-27T16:46:22.673Z"
   },
   {
    "duration": 5,
    "start_time": "2022-05-27T16:46:22.739Z"
   },
   {
    "duration": 33,
    "start_time": "2022-05-27T16:46:22.745Z"
   },
   {
    "duration": 29,
    "start_time": "2022-05-27T16:46:22.780Z"
   },
   {
    "duration": 10,
    "start_time": "2022-05-27T16:46:22.811Z"
   },
   {
    "duration": 42,
    "start_time": "2022-05-27T16:46:22.823Z"
   },
   {
    "duration": 66,
    "start_time": "2022-05-27T16:46:22.868Z"
   },
   {
    "duration": 15,
    "start_time": "2022-05-27T16:46:22.936Z"
   },
   {
    "duration": 56,
    "start_time": "2022-05-27T16:46:22.953Z"
   },
   {
    "duration": 46,
    "start_time": "2022-05-27T16:46:23.011Z"
   },
   {
    "duration": 56,
    "start_time": "2022-05-27T16:46:23.059Z"
   },
   {
    "duration": 3,
    "start_time": "2022-05-27T16:46:23.117Z"
   },
   {
    "duration": 33,
    "start_time": "2022-05-27T16:46:23.121Z"
   },
   {
    "duration": 55,
    "start_time": "2022-05-27T16:46:23.155Z"
   },
   {
    "duration": 27,
    "start_time": "2022-05-27T16:46:23.212Z"
   },
   {
    "duration": 169,
    "start_time": "2022-05-27T16:46:23.241Z"
   },
   {
    "duration": 161,
    "start_time": "2022-05-27T16:46:23.412Z"
   },
   {
    "duration": 29,
    "start_time": "2022-05-27T16:46:23.575Z"
   },
   {
    "duration": 143,
    "start_time": "2022-05-27T16:46:23.606Z"
   },
   {
    "duration": 24,
    "start_time": "2022-05-27T16:46:23.751Z"
   },
   {
    "duration": 189,
    "start_time": "2022-05-27T16:46:23.777Z"
   },
   {
    "duration": 168,
    "start_time": "2022-05-27T16:46:23.968Z"
   },
   {
    "duration": 24,
    "start_time": "2022-05-27T16:46:24.138Z"
   },
   {
    "duration": 196,
    "start_time": "2022-05-27T16:46:24.164Z"
   },
   {
    "duration": 181,
    "start_time": "2022-05-27T16:46:24.361Z"
   },
   {
    "duration": 222,
    "start_time": "2022-05-27T16:46:24.544Z"
   },
   {
    "duration": 260,
    "start_time": "2022-05-27T16:46:24.770Z"
   },
   {
    "duration": 208,
    "start_time": "2022-05-27T16:46:25.032Z"
   },
   {
    "duration": 42,
    "start_time": "2022-05-27T16:46:25.242Z"
   },
   {
    "duration": 41,
    "start_time": "2022-05-27T16:46:25.301Z"
   },
   {
    "duration": 66,
    "start_time": "2022-05-27T16:46:25.344Z"
   },
   {
    "duration": 50,
    "start_time": "2022-05-27T16:46:25.411Z"
   },
   {
    "duration": 63,
    "start_time": "2022-05-27T16:46:25.463Z"
   },
   {
    "duration": 5,
    "start_time": "2022-05-27T16:46:25.529Z"
   },
   {
    "duration": 195,
    "start_time": "2022-05-27T16:46:25.536Z"
   },
   {
    "duration": 166,
    "start_time": "2022-05-27T16:46:25.733Z"
   },
   {
    "duration": 204,
    "start_time": "2022-05-27T16:46:25.902Z"
   },
   {
    "duration": 777,
    "start_time": "2022-05-27T17:12:16.365Z"
   },
   {
    "duration": 61,
    "start_time": "2022-05-27T17:12:29.716Z"
   },
   {
    "duration": 6,
    "start_time": "2022-05-27T17:12:31.990Z"
   },
   {
    "duration": 16,
    "start_time": "2022-05-27T17:12:32.153Z"
   },
   {
    "duration": 22,
    "start_time": "2022-05-27T17:12:32.370Z"
   },
   {
    "duration": 20,
    "start_time": "2022-05-27T17:13:58.780Z"
   },
   {
    "duration": 33,
    "start_time": "2022-05-27T17:14:31.883Z"
   },
   {
    "duration": 141,
    "start_time": "2022-05-27T17:14:32.222Z"
   },
   {
    "duration": 30,
    "start_time": "2022-05-27T17:14:32.565Z"
   },
   {
    "duration": 15,
    "start_time": "2022-05-27T17:14:32.752Z"
   },
   {
    "duration": 10,
    "start_time": "2022-05-27T17:14:33.315Z"
   },
   {
    "duration": 27,
    "start_time": "2022-05-27T17:14:33.466Z"
   },
   {
    "duration": 16,
    "start_time": "2022-05-27T17:14:33.945Z"
   },
   {
    "duration": 10,
    "start_time": "2022-05-27T17:14:34.265Z"
   },
   {
    "duration": 10,
    "start_time": "2022-05-27T17:14:34.757Z"
   },
   {
    "duration": 25,
    "start_time": "2022-05-27T17:14:35.561Z"
   },
   {
    "duration": 5,
    "start_time": "2022-05-27T17:14:38.298Z"
   },
   {
    "duration": 27,
    "start_time": "2022-05-27T17:14:41.416Z"
   },
   {
    "duration": 13,
    "start_time": "2022-05-27T17:15:09.853Z"
   },
   {
    "duration": 782,
    "start_time": "2022-05-27T17:16:16.722Z"
   },
   {
    "duration": 56,
    "start_time": "2022-05-27T17:16:17.513Z"
   },
   {
    "duration": 4,
    "start_time": "2022-05-27T17:16:18.266Z"
   },
   {
    "duration": 18,
    "start_time": "2022-05-27T17:16:18.466Z"
   },
   {
    "duration": 22,
    "start_time": "2022-05-27T17:16:18.714Z"
   },
   {
    "duration": 25,
    "start_time": "2022-05-27T17:16:19.682Z"
   },
   {
    "duration": 23,
    "start_time": "2022-05-27T17:19:13.665Z"
   },
   {
    "duration": 830,
    "start_time": "2022-05-27T17:40:10.349Z"
   },
   {
    "duration": 64,
    "start_time": "2022-05-27T17:40:11.183Z"
   },
   {
    "duration": 6,
    "start_time": "2022-05-27T17:40:11.249Z"
   },
   {
    "duration": 29,
    "start_time": "2022-05-27T17:40:11.257Z"
   },
   {
    "duration": 28,
    "start_time": "2022-05-27T17:40:11.289Z"
   },
   {
    "duration": 32,
    "start_time": "2022-05-27T17:40:11.319Z"
   },
   {
    "duration": 18,
    "start_time": "2022-05-27T17:40:11.353Z"
   },
   {
    "duration": 58,
    "start_time": "2022-05-27T17:40:11.372Z"
   },
   {
    "duration": 16,
    "start_time": "2022-05-27T17:40:11.432Z"
   },
   {
    "duration": 10,
    "start_time": "2022-05-27T17:40:11.450Z"
   },
   {
    "duration": 43,
    "start_time": "2022-05-27T17:40:11.461Z"
   },
   {
    "duration": 17,
    "start_time": "2022-05-27T17:40:11.512Z"
   },
   {
    "duration": 9,
    "start_time": "2022-05-27T17:40:11.531Z"
   },
   {
    "duration": 9,
    "start_time": "2022-05-27T17:40:11.542Z"
   },
   {
    "duration": 26,
    "start_time": "2022-05-27T17:40:11.552Z"
   },
   {
    "duration": 31,
    "start_time": "2022-05-27T17:40:11.580Z"
   },
   {
    "duration": 29,
    "start_time": "2022-05-27T17:40:11.613Z"
   },
   {
    "duration": 8,
    "start_time": "2022-05-27T17:40:11.644Z"
   },
   {
    "duration": 7,
    "start_time": "2022-05-27T17:40:11.653Z"
   },
   {
    "duration": 54,
    "start_time": "2022-05-27T17:40:11.661Z"
   },
   {
    "duration": 30,
    "start_time": "2022-05-27T17:40:11.717Z"
   },
   {
    "duration": 13,
    "start_time": "2022-05-27T17:40:11.749Z"
   },
   {
    "duration": 50,
    "start_time": "2022-05-27T17:40:11.763Z"
   },
   {
    "duration": 32,
    "start_time": "2022-05-27T17:40:11.816Z"
   },
   {
    "duration": 26,
    "start_time": "2022-05-27T17:40:11.849Z"
   },
   {
    "duration": 3,
    "start_time": "2022-05-27T17:40:11.877Z"
   },
   {
    "duration": 44,
    "start_time": "2022-05-27T17:40:11.881Z"
   },
   {
    "duration": 41,
    "start_time": "2022-05-27T17:40:11.927Z"
   },
   {
    "duration": 46,
    "start_time": "2022-05-27T17:40:11.969Z"
   },
   {
    "duration": 148,
    "start_time": "2022-05-27T17:40:12.017Z"
   },
   {
    "duration": 162,
    "start_time": "2022-05-27T17:40:12.166Z"
   },
   {
    "duration": 14,
    "start_time": "2022-05-27T17:40:12.329Z"
   },
   {
    "duration": 152,
    "start_time": "2022-05-27T17:40:12.345Z"
   },
   {
    "duration": 34,
    "start_time": "2022-05-27T17:40:12.498Z"
   },
   {
    "duration": 156,
    "start_time": "2022-05-27T17:40:12.533Z"
   },
   {
    "duration": 146,
    "start_time": "2022-05-27T17:40:12.691Z"
   },
   {
    "duration": 20,
    "start_time": "2022-05-27T17:40:12.838Z"
   },
   {
    "duration": 197,
    "start_time": "2022-05-27T17:40:12.859Z"
   },
   {
    "duration": 196,
    "start_time": "2022-05-27T17:40:13.058Z"
   },
   {
    "duration": 194,
    "start_time": "2022-05-27T17:40:13.256Z"
   },
   {
    "duration": 247,
    "start_time": "2022-05-27T17:40:13.453Z"
   },
   {
    "duration": 214,
    "start_time": "2022-05-27T17:40:13.701Z"
   },
   {
    "duration": 46,
    "start_time": "2022-05-27T17:40:13.917Z"
   },
   {
    "duration": 55,
    "start_time": "2022-05-27T17:40:13.965Z"
   },
   {
    "duration": 37,
    "start_time": "2022-05-27T17:40:14.022Z"
   },
   {
    "duration": 69,
    "start_time": "2022-05-27T17:40:14.060Z"
   },
   {
    "duration": 32,
    "start_time": "2022-05-27T17:40:14.131Z"
   },
   {
    "duration": 4,
    "start_time": "2022-05-27T17:40:14.165Z"
   },
   {
    "duration": 162,
    "start_time": "2022-05-27T17:40:14.170Z"
   },
   {
    "duration": 165,
    "start_time": "2022-05-27T17:40:14.334Z"
   },
   {
    "duration": 149,
    "start_time": "2022-05-27T17:40:14.501Z"
   },
   {
    "duration": 9,
    "start_time": "2022-05-27T17:40:34.873Z"
   },
   {
    "duration": 4,
    "start_time": "2022-05-27T17:47:54.783Z"
   },
   {
    "duration": 788,
    "start_time": "2022-05-27T18:06:19.839Z"
   },
   {
    "duration": 51,
    "start_time": "2022-05-27T18:06:20.629Z"
   },
   {
    "duration": 5,
    "start_time": "2022-05-27T18:06:20.681Z"
   },
   {
    "duration": 18,
    "start_time": "2022-05-27T18:06:20.688Z"
   },
   {
    "duration": 22,
    "start_time": "2022-05-27T18:06:20.708Z"
   },
   {
    "duration": 25,
    "start_time": "2022-05-27T18:06:20.731Z"
   },
   {
    "duration": 10,
    "start_time": "2022-05-27T18:06:20.758Z"
   },
   {
    "duration": 64,
    "start_time": "2022-05-27T18:06:20.769Z"
   },
   {
    "duration": 15,
    "start_time": "2022-05-27T18:06:20.834Z"
   },
   {
    "duration": 9,
    "start_time": "2022-05-27T18:06:20.852Z"
   },
   {
    "duration": 57,
    "start_time": "2022-05-27T18:06:20.863Z"
   },
   {
    "duration": 20,
    "start_time": "2022-05-27T18:06:20.921Z"
   },
   {
    "duration": 12,
    "start_time": "2022-05-27T18:06:20.943Z"
   },
   {
    "duration": 14,
    "start_time": "2022-05-27T18:06:20.957Z"
   },
   {
    "duration": 50,
    "start_time": "2022-05-27T18:06:20.973Z"
   },
   {
    "duration": 4,
    "start_time": "2022-05-27T18:06:21.025Z"
   },
   {
    "duration": 29,
    "start_time": "2022-05-27T18:06:21.031Z"
   },
   {
    "duration": 9,
    "start_time": "2022-05-27T18:06:21.062Z"
   },
   {
    "duration": 32,
    "start_time": "2022-05-27T18:06:21.072Z"
   },
   {
    "duration": 46,
    "start_time": "2022-05-27T18:06:21.107Z"
   },
   {
    "duration": 57,
    "start_time": "2022-05-27T18:06:21.155Z"
   },
   {
    "duration": 16,
    "start_time": "2022-05-27T18:06:21.214Z"
   },
   {
    "duration": 37,
    "start_time": "2022-05-27T18:06:21.232Z"
   },
   {
    "duration": 63,
    "start_time": "2022-05-27T18:06:21.271Z"
   },
   {
    "duration": 28,
    "start_time": "2022-05-27T18:06:21.336Z"
   },
   {
    "duration": 5,
    "start_time": "2022-05-27T18:06:21.366Z"
   },
   {
    "duration": 51,
    "start_time": "2022-05-27T18:06:21.373Z"
   },
   {
    "duration": 35,
    "start_time": "2022-05-27T18:06:21.428Z"
   },
   {
    "duration": 18,
    "start_time": "2022-05-27T18:06:21.464Z"
   },
   {
    "duration": 148,
    "start_time": "2022-05-27T18:06:21.501Z"
   },
   {
    "duration": 158,
    "start_time": "2022-05-27T18:06:21.651Z"
   },
   {
    "duration": 15,
    "start_time": "2022-05-27T18:06:21.810Z"
   },
   {
    "duration": 169,
    "start_time": "2022-05-27T18:06:21.826Z"
   },
   {
    "duration": 23,
    "start_time": "2022-05-27T18:06:22.001Z"
   },
   {
    "duration": 177,
    "start_time": "2022-05-27T18:06:22.026Z"
   },
   {
    "duration": 148,
    "start_time": "2022-05-27T18:06:22.205Z"
   },
   {
    "duration": 20,
    "start_time": "2022-05-27T18:06:22.355Z"
   },
   {
    "duration": 179,
    "start_time": "2022-05-27T18:06:22.377Z"
   },
   {
    "duration": 156,
    "start_time": "2022-05-27T18:06:22.558Z"
   },
   {
    "duration": 169,
    "start_time": "2022-05-27T18:06:22.715Z"
   },
   {
    "duration": 245,
    "start_time": "2022-05-27T18:06:22.885Z"
   },
   {
    "duration": 183,
    "start_time": "2022-05-27T18:06:23.132Z"
   },
   {
    "duration": 41,
    "start_time": "2022-05-27T18:06:23.317Z"
   },
   {
    "duration": 64,
    "start_time": "2022-05-27T18:06:23.360Z"
   },
   {
    "duration": 39,
    "start_time": "2022-05-27T18:06:23.427Z"
   },
   {
    "duration": 61,
    "start_time": "2022-05-27T18:06:23.468Z"
   },
   {
    "duration": 35,
    "start_time": "2022-05-27T18:06:23.531Z"
   },
   {
    "duration": 5,
    "start_time": "2022-05-27T18:06:23.568Z"
   },
   {
    "duration": 174,
    "start_time": "2022-05-27T18:06:23.574Z"
   },
   {
    "duration": 167,
    "start_time": "2022-05-27T18:06:23.750Z"
   },
   {
    "duration": 148,
    "start_time": "2022-05-27T18:06:23.918Z"
   },
   {
    "duration": 62,
    "start_time": "2022-05-29T06:55:01.618Z"
   },
   {
    "duration": 1205,
    "start_time": "2022-05-29T06:55:04.764Z"
   },
   {
    "duration": 122,
    "start_time": "2022-05-29T06:55:05.971Z"
   },
   {
    "duration": 5,
    "start_time": "2022-05-29T06:55:06.096Z"
   },
   {
    "duration": 42,
    "start_time": "2022-05-29T06:55:06.103Z"
   },
   {
    "duration": 55,
    "start_time": "2022-05-29T06:55:06.147Z"
   },
   {
    "duration": 47,
    "start_time": "2022-05-29T06:55:06.204Z"
   },
   {
    "duration": 8,
    "start_time": "2022-05-29T06:55:06.253Z"
   },
   {
    "duration": 56,
    "start_time": "2022-05-29T06:55:06.263Z"
   },
   {
    "duration": 13,
    "start_time": "2022-05-29T06:55:06.320Z"
   },
   {
    "duration": 23,
    "start_time": "2022-05-29T06:55:06.336Z"
   },
   {
    "duration": 66,
    "start_time": "2022-05-29T06:55:06.360Z"
   },
   {
    "duration": 21,
    "start_time": "2022-05-29T06:55:06.427Z"
   },
   {
    "duration": 11,
    "start_time": "2022-05-29T06:55:06.450Z"
   },
   {
    "duration": 10,
    "start_time": "2022-05-29T06:55:06.463Z"
   },
   {
    "duration": 29,
    "start_time": "2022-05-29T06:55:06.475Z"
   },
   {
    "duration": 33,
    "start_time": "2022-05-29T06:55:06.506Z"
   },
   {
    "duration": 5,
    "start_time": "2022-05-29T06:55:06.540Z"
   },
   {
    "duration": 58,
    "start_time": "2022-05-29T06:55:06.546Z"
   },
   {
    "duration": 10,
    "start_time": "2022-05-29T06:55:06.605Z"
   },
   {
    "duration": 13,
    "start_time": "2022-05-29T06:55:06.616Z"
   },
   {
    "duration": 68,
    "start_time": "2022-05-29T06:55:06.631Z"
   },
   {
    "duration": 52,
    "start_time": "2022-05-29T06:55:06.707Z"
   },
   {
    "duration": 23,
    "start_time": "2022-05-29T06:55:06.761Z"
   },
   {
    "duration": 59,
    "start_time": "2022-05-29T06:55:06.787Z"
   },
   {
    "duration": 46,
    "start_time": "2022-05-29T06:55:06.847Z"
   },
   {
    "duration": 23,
    "start_time": "2022-05-29T06:55:06.895Z"
   },
   {
    "duration": 11,
    "start_time": "2022-05-29T06:55:06.920Z"
   },
   {
    "duration": 61,
    "start_time": "2022-05-29T06:55:06.934Z"
   },
   {
    "duration": 37,
    "start_time": "2022-05-29T06:55:06.997Z"
   },
   {
    "duration": 29,
    "start_time": "2022-05-29T06:55:07.035Z"
   },
   {
    "duration": 166,
    "start_time": "2022-05-29T06:55:07.077Z"
   },
   {
    "duration": 164,
    "start_time": "2022-05-29T06:55:07.245Z"
   },
   {
    "duration": 14,
    "start_time": "2022-05-29T06:55:07.411Z"
   },
   {
    "duration": 140,
    "start_time": "2022-05-29T06:55:07.426Z"
   },
   {
    "duration": 25,
    "start_time": "2022-05-29T06:55:07.568Z"
   },
   {
    "duration": 152,
    "start_time": "2022-05-29T06:55:07.595Z"
   },
   {
    "duration": 144,
    "start_time": "2022-05-29T06:55:07.748Z"
   },
   {
    "duration": 18,
    "start_time": "2022-05-29T06:55:07.894Z"
   },
   {
    "duration": 182,
    "start_time": "2022-05-29T06:55:07.913Z"
   },
   {
    "duration": 199,
    "start_time": "2022-05-29T06:55:08.097Z"
   },
   {
    "duration": 275,
    "start_time": "2022-05-29T06:55:08.298Z"
   },
   {
    "duration": 199,
    "start_time": "2022-05-29T06:55:08.580Z"
   },
   {
    "duration": 201,
    "start_time": "2022-05-29T06:55:08.782Z"
   },
   {
    "duration": 56,
    "start_time": "2022-05-29T06:55:08.991Z"
   },
   {
    "duration": 49,
    "start_time": "2022-05-29T06:55:09.049Z"
   },
   {
    "duration": 36,
    "start_time": "2022-05-29T06:55:09.100Z"
   },
   {
    "duration": 64,
    "start_time": "2022-05-29T06:55:09.137Z"
   },
   {
    "duration": 41,
    "start_time": "2022-05-29T06:55:09.203Z"
   },
   {
    "duration": 5,
    "start_time": "2022-05-29T06:55:09.246Z"
   },
   {
    "duration": 159,
    "start_time": "2022-05-29T06:55:09.253Z"
   },
   {
    "duration": 174,
    "start_time": "2022-05-29T06:55:09.413Z"
   },
   {
    "duration": 157,
    "start_time": "2022-05-29T06:55:09.589Z"
   },
   {
    "duration": 6,
    "start_time": "2022-05-29T07:02:43.859Z"
   },
   {
    "duration": 8,
    "start_time": "2022-05-29T07:08:00.970Z"
   },
   {
    "duration": 57,
    "start_time": "2022-05-29T07:09:50.648Z"
   },
   {
    "duration": 47,
    "start_time": "2022-05-29T07:10:29.918Z"
   },
   {
    "duration": 54,
    "start_time": "2022-05-29T07:10:44.352Z"
   },
   {
    "duration": 11,
    "start_time": "2022-05-29T07:11:32.954Z"
   },
   {
    "duration": 13,
    "start_time": "2022-05-29T07:12:34.350Z"
   },
   {
    "duration": 14,
    "start_time": "2022-05-29T07:12:51.520Z"
   },
   {
    "duration": 42,
    "start_time": "2022-05-29T07:18:28.600Z"
   },
   {
    "duration": 39,
    "start_time": "2022-05-29T07:21:35.219Z"
   },
   {
    "duration": 19,
    "start_time": "2022-05-29T07:21:38.598Z"
   },
   {
    "duration": 25,
    "start_time": "2022-05-29T07:21:52.457Z"
   },
   {
    "duration": 54,
    "start_time": "2022-05-29T07:22:49.896Z"
   },
   {
    "duration": 14,
    "start_time": "2022-05-29T07:23:01.027Z"
   },
   {
    "duration": 46,
    "start_time": "2022-05-29T07:23:37.673Z"
   },
   {
    "duration": 47,
    "start_time": "2022-05-29T07:23:43.629Z"
   },
   {
    "duration": 40,
    "start_time": "2022-05-29T07:24:41.679Z"
   },
   {
    "duration": 22,
    "start_time": "2022-05-29T07:24:55.396Z"
   },
   {
    "duration": 18,
    "start_time": "2022-05-29T07:25:39.304Z"
   },
   {
    "duration": 19,
    "start_time": "2022-05-29T07:25:49.254Z"
   },
   {
    "duration": 20,
    "start_time": "2022-05-29T07:26:08.111Z"
   },
   {
    "duration": 19,
    "start_time": "2022-05-29T07:26:42.625Z"
   },
   {
    "duration": 68,
    "start_time": "2022-05-29T07:43:37.019Z"
   },
   {
    "duration": 45,
    "start_time": "2022-05-29T07:45:01.655Z"
   },
   {
    "duration": 17,
    "start_time": "2022-05-29T07:46:04.171Z"
   },
   {
    "duration": 112,
    "start_time": "2022-05-29T07:46:33.326Z"
   },
   {
    "duration": 56,
    "start_time": "2022-05-29T07:46:33.440Z"
   },
   {
    "duration": 7,
    "start_time": "2022-05-29T07:46:33.497Z"
   },
   {
    "duration": 21,
    "start_time": "2022-05-29T07:46:33.506Z"
   },
   {
    "duration": 18,
    "start_time": "2022-05-29T07:46:33.528Z"
   },
   {
    "duration": 46,
    "start_time": "2022-05-29T07:46:33.548Z"
   },
   {
    "duration": 15,
    "start_time": "2022-05-29T07:46:33.595Z"
   },
   {
    "duration": 30,
    "start_time": "2022-05-29T07:46:33.612Z"
   },
   {
    "duration": 39,
    "start_time": "2022-05-29T07:46:33.644Z"
   },
   {
    "duration": 12,
    "start_time": "2022-05-29T07:46:33.690Z"
   },
   {
    "duration": 32,
    "start_time": "2022-05-29T07:46:33.705Z"
   },
   {
    "duration": 14,
    "start_time": "2022-05-29T07:46:33.738Z"
   },
   {
    "duration": 10,
    "start_time": "2022-05-29T07:46:33.753Z"
   },
   {
    "duration": 36,
    "start_time": "2022-05-29T07:46:33.776Z"
   },
   {
    "duration": 8,
    "start_time": "2022-05-29T07:46:33.813Z"
   },
   {
    "duration": 15,
    "start_time": "2022-05-29T07:46:33.823Z"
   },
   {
    "duration": 58,
    "start_time": "2022-05-29T07:46:33.840Z"
   },
   {
    "duration": 32,
    "start_time": "2022-05-29T07:46:33.905Z"
   },
   {
    "duration": 4,
    "start_time": "2022-05-29T07:46:33.939Z"
   },
   {
    "duration": 41,
    "start_time": "2022-05-29T07:46:33.944Z"
   },
   {
    "duration": 19,
    "start_time": "2022-05-29T07:46:33.986Z"
   },
   {
    "duration": 24,
    "start_time": "2022-05-29T07:46:34.007Z"
   },
   {
    "duration": 9,
    "start_time": "2022-05-29T07:46:34.032Z"
   },
   {
    "duration": 6,
    "start_time": "2022-05-29T07:46:34.043Z"
   },
   {
    "duration": 54,
    "start_time": "2022-05-29T07:46:34.051Z"
   },
   {
    "duration": 27,
    "start_time": "2022-05-29T07:46:34.109Z"
   },
   {
    "duration": 11,
    "start_time": "2022-05-29T07:46:34.137Z"
   },
   {
    "duration": 50,
    "start_time": "2022-05-29T07:46:34.152Z"
   },
   {
    "duration": 38,
    "start_time": "2022-05-29T07:46:34.203Z"
   },
   {
    "duration": 64,
    "start_time": "2022-05-29T07:46:34.243Z"
   },
   {
    "duration": 3,
    "start_time": "2022-05-29T07:46:34.309Z"
   },
   {
    "duration": 27,
    "start_time": "2022-05-29T07:46:34.314Z"
   },
   {
    "duration": 51,
    "start_time": "2022-05-29T07:46:34.343Z"
   },
   {
    "duration": 22,
    "start_time": "2022-05-29T07:46:34.396Z"
   },
   {
    "duration": 183,
    "start_time": "2022-05-29T07:46:34.419Z"
   },
   {
    "duration": 164,
    "start_time": "2022-05-29T07:46:34.606Z"
   },
   {
    "duration": 19,
    "start_time": "2022-05-29T07:46:34.771Z"
   },
   {
    "duration": 156,
    "start_time": "2022-05-29T07:46:34.792Z"
   },
   {
    "duration": 20,
    "start_time": "2022-05-29T07:46:34.949Z"
   },
   {
    "duration": 166,
    "start_time": "2022-05-29T07:46:34.971Z"
   },
   {
    "duration": 154,
    "start_time": "2022-05-29T07:46:35.138Z"
   },
   {
    "duration": 25,
    "start_time": "2022-05-29T07:46:35.293Z"
   },
   {
    "duration": 239,
    "start_time": "2022-05-29T07:46:35.320Z"
   },
   {
    "duration": 190,
    "start_time": "2022-05-29T07:46:35.561Z"
   },
   {
    "duration": 178,
    "start_time": "2022-05-29T07:46:35.752Z"
   },
   {
    "duration": 185,
    "start_time": "2022-05-29T07:46:35.932Z"
   },
   {
    "duration": 178,
    "start_time": "2022-05-29T07:46:36.119Z"
   },
   {
    "duration": 37,
    "start_time": "2022-05-29T07:46:36.301Z"
   },
   {
    "duration": 58,
    "start_time": "2022-05-29T07:46:36.339Z"
   },
   {
    "duration": 36,
    "start_time": "2022-05-29T07:46:36.404Z"
   },
   {
    "duration": 41,
    "start_time": "2022-05-29T07:46:36.441Z"
   },
   {
    "duration": 46,
    "start_time": "2022-05-29T07:46:36.491Z"
   },
   {
    "duration": 5,
    "start_time": "2022-05-29T07:46:36.538Z"
   },
   {
    "duration": 158,
    "start_time": "2022-05-29T07:46:36.544Z"
   },
   {
    "duration": 160,
    "start_time": "2022-05-29T07:46:36.704Z"
   },
   {
    "duration": 141,
    "start_time": "2022-05-29T07:46:36.866Z"
   },
   {
    "duration": 8,
    "start_time": "2022-05-29T07:48:13.353Z"
   },
   {
    "duration": 19,
    "start_time": "2022-05-29T07:49:03.102Z"
   },
   {
    "duration": 5,
    "start_time": "2022-05-29T07:50:30.035Z"
   },
   {
    "duration": 5,
    "start_time": "2022-05-29T07:50:32.307Z"
   },
   {
    "duration": 9,
    "start_time": "2022-05-29T07:50:47.640Z"
   },
   {
    "duration": 17,
    "start_time": "2022-05-29T07:52:26.673Z"
   },
   {
    "duration": 63,
    "start_time": "2022-05-30T03:38:39.540Z"
   },
   {
    "duration": 1148,
    "start_time": "2022-05-30T03:38:42.167Z"
   },
   {
    "duration": 95,
    "start_time": "2022-05-30T03:38:43.317Z"
   },
   {
    "duration": 4,
    "start_time": "2022-05-30T03:38:43.414Z"
   },
   {
    "duration": 17,
    "start_time": "2022-05-30T03:38:43.420Z"
   },
   {
    "duration": 21,
    "start_time": "2022-05-30T03:38:43.439Z"
   },
   {
    "duration": 23,
    "start_time": "2022-05-30T03:38:43.461Z"
   },
   {
    "duration": 9,
    "start_time": "2022-05-30T03:38:43.486Z"
   },
   {
    "duration": 50,
    "start_time": "2022-05-30T03:38:43.496Z"
   },
   {
    "duration": 15,
    "start_time": "2022-05-30T03:38:43.547Z"
   },
   {
    "duration": 12,
    "start_time": "2022-05-30T03:38:43.566Z"
   },
   {
    "duration": 47,
    "start_time": "2022-05-30T03:38:43.581Z"
   },
   {
    "duration": 15,
    "start_time": "2022-05-30T03:38:43.629Z"
   },
   {
    "duration": 9,
    "start_time": "2022-05-30T03:38:43.645Z"
   },
   {
    "duration": 33,
    "start_time": "2022-05-30T03:38:43.655Z"
   },
   {
    "duration": 7,
    "start_time": "2022-05-30T03:38:43.689Z"
   },
   {
    "duration": 33,
    "start_time": "2022-05-30T03:38:43.697Z"
   },
   {
    "duration": 24,
    "start_time": "2022-05-30T03:38:43.732Z"
   },
   {
    "duration": 31,
    "start_time": "2022-05-30T03:38:43.757Z"
   },
   {
    "duration": 4,
    "start_time": "2022-05-30T03:38:43.790Z"
   },
   {
    "duration": 64,
    "start_time": "2022-05-30T03:38:43.795Z"
   },
   {
    "duration": 5,
    "start_time": "2022-05-30T03:38:43.861Z"
   },
   {
    "duration": 18,
    "start_time": "2022-05-30T03:38:43.867Z"
   },
   {
    "duration": 29,
    "start_time": "2022-05-30T03:38:43.887Z"
   },
   {
    "duration": 33,
    "start_time": "2022-05-30T03:38:43.917Z"
   },
   {
    "duration": 11,
    "start_time": "2022-05-30T03:38:43.952Z"
   },
   {
    "duration": 26,
    "start_time": "2022-05-30T03:38:43.965Z"
   },
   {
    "duration": 54,
    "start_time": "2022-05-30T03:38:43.993Z"
   },
   {
    "duration": 25,
    "start_time": "2022-05-30T03:38:44.050Z"
   },
   {
    "duration": 3,
    "start_time": "2022-05-30T03:38:44.076Z"
   },
   {
    "duration": 48,
    "start_time": "2022-05-30T03:38:44.080Z"
   },
   {
    "duration": 35,
    "start_time": "2022-05-30T03:38:44.129Z"
   },
   {
    "duration": 17,
    "start_time": "2022-05-30T03:38:44.165Z"
   },
   {
    "duration": 164,
    "start_time": "2022-05-30T03:38:44.183Z"
   },
   {
    "duration": 148,
    "start_time": "2022-05-30T03:38:44.349Z"
   },
   {
    "duration": 14,
    "start_time": "2022-05-30T03:38:44.499Z"
   },
   {
    "duration": 145,
    "start_time": "2022-05-30T03:38:44.515Z"
   },
   {
    "duration": 20,
    "start_time": "2022-05-30T03:38:44.661Z"
   },
   {
    "duration": 165,
    "start_time": "2022-05-30T03:38:44.682Z"
   },
   {
    "duration": 146,
    "start_time": "2022-05-30T03:38:44.849Z"
   },
   {
    "duration": 19,
    "start_time": "2022-05-30T03:38:44.996Z"
   },
   {
    "duration": 172,
    "start_time": "2022-05-30T03:38:45.035Z"
   },
   {
    "duration": 184,
    "start_time": "2022-05-30T03:38:45.209Z"
   },
   {
    "duration": 160,
    "start_time": "2022-05-30T03:38:45.395Z"
   },
   {
    "duration": 239,
    "start_time": "2022-05-30T03:38:45.557Z"
   },
   {
    "duration": 169,
    "start_time": "2022-05-30T03:38:45.797Z"
   },
   {
    "duration": 38,
    "start_time": "2022-05-30T03:38:45.968Z"
   },
   {
    "duration": 50,
    "start_time": "2022-05-30T03:38:46.008Z"
   },
   {
    "duration": 44,
    "start_time": "2022-05-30T03:38:46.060Z"
   },
   {
    "duration": 78,
    "start_time": "2022-05-30T03:38:46.105Z"
   },
   {
    "duration": 66,
    "start_time": "2022-05-30T03:38:46.184Z"
   },
   {
    "duration": 7,
    "start_time": "2022-05-30T03:38:46.252Z"
   },
   {
    "duration": 201,
    "start_time": "2022-05-30T03:38:46.261Z"
   },
   {
    "duration": 150,
    "start_time": "2022-05-30T03:38:46.464Z"
   },
   {
    "duration": 141,
    "start_time": "2022-05-30T03:38:46.615Z"
   },
   {
    "duration": 4,
    "start_time": "2022-05-30T03:38:58.136Z"
   },
   {
    "duration": 11,
    "start_time": "2022-05-30T03:39:36.231Z"
   },
   {
    "duration": 37,
    "start_time": "2022-05-30T03:43:55.176Z"
   },
   {
    "duration": 5,
    "start_time": "2022-05-30T03:44:47.048Z"
   },
   {
    "duration": 41,
    "start_time": "2022-05-30T03:46:16.736Z"
   },
   {
    "duration": 21,
    "start_time": "2022-05-30T03:46:48.687Z"
   },
   {
    "duration": 42,
    "start_time": "2022-05-30T03:46:56.760Z"
   },
   {
    "duration": 34,
    "start_time": "2022-05-30T03:48:20.581Z"
   },
   {
    "duration": 3,
    "start_time": "2022-05-30T03:48:58.372Z"
   },
   {
    "duration": 5,
    "start_time": "2022-05-30T03:49:58.306Z"
   },
   {
    "duration": 12,
    "start_time": "2022-05-30T23:16:17.649Z"
   },
   {
    "duration": 12,
    "start_time": "2022-05-30T23:18:20.809Z"
   },
   {
    "duration": 209,
    "start_time": "2022-05-31T00:46:59.100Z"
   },
   {
    "duration": 495,
    "start_time": "2022-05-31T00:48:23.054Z"
   },
   {
    "duration": 171,
    "start_time": "2022-05-31T00:49:36.242Z"
   },
   {
    "duration": 95,
    "start_time": "2022-05-31T01:05:38.435Z"
   },
   {
    "duration": 110,
    "start_time": "2022-05-31T01:06:06.034Z"
   },
   {
    "duration": 91,
    "start_time": "2022-05-31T01:06:25.514Z"
   },
   {
    "duration": 186,
    "start_time": "2022-05-31T01:06:52.984Z"
   },
   {
    "duration": 10,
    "start_time": "2022-05-31T01:15:26.187Z"
   },
   {
    "duration": 8,
    "start_time": "2022-05-31T01:15:30.345Z"
   },
   {
    "duration": 115,
    "start_time": "2022-05-31T01:16:37.047Z"
   },
   {
    "duration": 116,
    "start_time": "2022-05-31T01:17:02.078Z"
   },
   {
    "duration": 88,
    "start_time": "2022-05-31T01:17:52.861Z"
   },
   {
    "duration": 105,
    "start_time": "2022-05-31T01:18:03.928Z"
   },
   {
    "duration": 25,
    "start_time": "2022-05-31T01:24:35.962Z"
   },
   {
    "duration": 8,
    "start_time": "2022-05-31T01:30:51.344Z"
   },
   {
    "duration": 7,
    "start_time": "2022-05-31T01:31:18.711Z"
   },
   {
    "duration": 4,
    "start_time": "2022-05-31T01:32:01.548Z"
   },
   {
    "duration": 11,
    "start_time": "2022-05-31T01:32:36.771Z"
   },
   {
    "duration": 9,
    "start_time": "2022-05-31T01:32:48.762Z"
   },
   {
    "duration": 4,
    "start_time": "2022-05-31T01:34:24.985Z"
   },
   {
    "duration": 5,
    "start_time": "2022-05-31T01:35:30.254Z"
   },
   {
    "duration": 4,
    "start_time": "2022-05-31T01:35:39.238Z"
   },
   {
    "duration": 4,
    "start_time": "2022-05-31T01:36:46.859Z"
   },
   {
    "duration": 4,
    "start_time": "2022-05-31T01:36:48.892Z"
   },
   {
    "duration": 4,
    "start_time": "2022-05-31T01:37:04.266Z"
   },
   {
    "duration": 88,
    "start_time": "2022-05-31T01:37:36.898Z"
   },
   {
    "duration": 86,
    "start_time": "2022-05-31T01:37:50.565Z"
   },
   {
    "duration": 4,
    "start_time": "2022-05-31T01:38:28.632Z"
   },
   {
    "duration": 93,
    "start_time": "2022-05-31T01:38:30.776Z"
   },
   {
    "duration": 83,
    "start_time": "2022-05-31T01:38:32.584Z"
   },
   {
    "duration": 110,
    "start_time": "2022-05-31T01:39:00.700Z"
   },
   {
    "duration": 59,
    "start_time": "2022-05-31T01:39:00.827Z"
   },
   {
    "duration": 5,
    "start_time": "2022-05-31T01:39:00.887Z"
   },
   {
    "duration": 23,
    "start_time": "2022-05-31T01:39:00.894Z"
   },
   {
    "duration": 29,
    "start_time": "2022-05-31T01:39:00.919Z"
   },
   {
    "duration": 39,
    "start_time": "2022-05-31T01:39:00.950Z"
   },
   {
    "duration": 32,
    "start_time": "2022-05-31T01:39:00.991Z"
   },
   {
    "duration": 64,
    "start_time": "2022-05-31T01:39:01.025Z"
   },
   {
    "duration": 35,
    "start_time": "2022-05-31T01:39:01.091Z"
   },
   {
    "duration": 21,
    "start_time": "2022-05-31T01:39:01.129Z"
   },
   {
    "duration": 32,
    "start_time": "2022-05-31T01:39:01.152Z"
   },
   {
    "duration": 16,
    "start_time": "2022-05-31T01:39:01.186Z"
   },
   {
    "duration": 15,
    "start_time": "2022-05-31T01:39:01.203Z"
   },
   {
    "duration": 36,
    "start_time": "2022-05-31T01:39:01.219Z"
   },
   {
    "duration": 10,
    "start_time": "2022-05-31T01:39:01.257Z"
   },
   {
    "duration": 26,
    "start_time": "2022-05-31T01:39:01.269Z"
   },
   {
    "duration": 56,
    "start_time": "2022-05-31T01:39:01.297Z"
   },
   {
    "duration": 38,
    "start_time": "2022-05-31T01:39:01.355Z"
   },
   {
    "duration": 5,
    "start_time": "2022-05-31T01:39:01.395Z"
   },
   {
    "duration": 54,
    "start_time": "2022-05-31T01:39:01.402Z"
   },
   {
    "duration": 44,
    "start_time": "2022-05-31T01:39:01.458Z"
   },
   {
    "duration": 107,
    "start_time": "2022-05-31T01:39:01.504Z"
   },
   {
    "duration": 37,
    "start_time": "2022-05-31T01:39:01.613Z"
   },
   {
    "duration": 29,
    "start_time": "2022-05-31T01:39:01.651Z"
   },
   {
    "duration": 11,
    "start_time": "2022-05-31T01:39:01.682Z"
   },
   {
    "duration": 44,
    "start_time": "2022-05-31T01:39:01.694Z"
   },
   {
    "duration": 130,
    "start_time": "2022-05-31T01:39:01.740Z"
   },
   {
    "duration": 130,
    "start_time": "2022-05-31T01:39:01.876Z"
   },
   {
    "duration": 119,
    "start_time": "2022-05-31T01:39:02.008Z"
   },
   {
    "duration": 4,
    "start_time": "2022-05-31T01:39:02.129Z"
   },
   {
    "duration": 55,
    "start_time": "2022-05-31T01:39:02.135Z"
   },
   {
    "duration": 99,
    "start_time": "2022-05-31T01:39:02.191Z"
   },
   {
    "duration": 102,
    "start_time": "2022-05-31T01:39:02.292Z"
   },
   {
    "duration": 36,
    "start_time": "2022-05-31T01:39:02.396Z"
   },
   {
    "duration": 21,
    "start_time": "2022-05-31T01:39:02.434Z"
   },
   {
    "duration": 3,
    "start_time": "2022-05-31T01:39:02.456Z"
   },
   {
    "duration": 34,
    "start_time": "2022-05-31T01:39:02.460Z"
   },
   {
    "duration": 57,
    "start_time": "2022-05-31T01:39:02.496Z"
   },
   {
    "duration": 17,
    "start_time": "2022-05-31T01:39:02.554Z"
   },
   {
    "duration": 137,
    "start_time": "2022-05-31T01:39:02.572Z"
   },
   {
    "duration": 233,
    "start_time": "2022-05-31T01:39:02.710Z"
   },
   {
    "duration": 15,
    "start_time": "2022-05-31T01:39:02.945Z"
   },
   {
    "duration": 135,
    "start_time": "2022-05-31T01:39:02.961Z"
   },
   {
    "duration": 30,
    "start_time": "2022-05-31T01:39:03.098Z"
   },
   {
    "duration": 147,
    "start_time": "2022-05-31T01:39:03.129Z"
   },
   {
    "duration": 125,
    "start_time": "2022-05-31T01:39:03.277Z"
   },
   {
    "duration": 27,
    "start_time": "2022-05-31T01:39:03.404Z"
   },
   {
    "duration": 162,
    "start_time": "2022-05-31T01:39:03.433Z"
   },
   {
    "duration": 165,
    "start_time": "2022-05-31T01:39:03.597Z"
   },
   {
    "duration": 168,
    "start_time": "2022-05-31T01:39:03.764Z"
   },
   {
    "duration": 162,
    "start_time": "2022-05-31T01:39:03.934Z"
   },
   {
    "duration": 146,
    "start_time": "2022-05-31T01:39:04.098Z"
   },
   {
    "duration": 33,
    "start_time": "2022-05-31T01:39:04.245Z"
   },
   {
    "duration": 48,
    "start_time": "2022-05-31T01:39:04.280Z"
   },
   {
    "duration": 34,
    "start_time": "2022-05-31T01:39:04.330Z"
   },
   {
    "duration": 34,
    "start_time": "2022-05-31T01:39:04.365Z"
   },
   {
    "duration": 49,
    "start_time": "2022-05-31T01:39:04.400Z"
   },
   {
    "duration": 5,
    "start_time": "2022-05-31T01:39:04.451Z"
   },
   {
    "duration": 142,
    "start_time": "2022-05-31T01:39:04.457Z"
   },
   {
    "duration": 143,
    "start_time": "2022-05-31T01:39:04.600Z"
   },
   {
    "duration": 158,
    "start_time": "2022-05-31T01:39:04.745Z"
   },
   {
    "duration": 6,
    "start_time": "2022-05-31T01:40:35.653Z"
   },
   {
    "duration": 89,
    "start_time": "2022-05-31T01:40:37.843Z"
   },
   {
    "duration": 6,
    "start_time": "2022-05-31T01:40:40.940Z"
   },
   {
    "duration": 4,
    "start_time": "2022-05-31T01:40:48.277Z"
   },
   {
    "duration": 4,
    "start_time": "2022-05-31T01:40:52.428Z"
   },
   {
    "duration": 89,
    "start_time": "2022-05-31T01:40:57.882Z"
   },
   {
    "duration": 777,
    "start_time": "2022-05-31T01:41:05.096Z"
   },
   {
    "duration": 51,
    "start_time": "2022-05-31T01:41:05.874Z"
   },
   {
    "duration": 4,
    "start_time": "2022-05-31T01:41:05.927Z"
   },
   {
    "duration": 24,
    "start_time": "2022-05-31T01:41:05.933Z"
   },
   {
    "duration": 18,
    "start_time": "2022-05-31T01:41:05.959Z"
   },
   {
    "duration": 23,
    "start_time": "2022-05-31T01:41:05.979Z"
   },
   {
    "duration": 24,
    "start_time": "2022-05-31T01:41:06.003Z"
   },
   {
    "duration": 33,
    "start_time": "2022-05-31T01:41:06.028Z"
   },
   {
    "duration": 11,
    "start_time": "2022-05-31T01:41:06.063Z"
   },
   {
    "duration": 9,
    "start_time": "2022-05-31T01:41:06.076Z"
   },
   {
    "duration": 27,
    "start_time": "2022-05-31T01:41:06.086Z"
   },
   {
    "duration": 13,
    "start_time": "2022-05-31T01:41:06.127Z"
   },
   {
    "duration": 37,
    "start_time": "2022-05-31T01:41:06.142Z"
   },
   {
    "duration": 30,
    "start_time": "2022-05-31T01:41:06.180Z"
   },
   {
    "duration": 9,
    "start_time": "2022-05-31T01:41:06.212Z"
   },
   {
    "duration": 30,
    "start_time": "2022-05-31T01:41:06.223Z"
   },
   {
    "duration": 31,
    "start_time": "2022-05-31T01:41:06.255Z"
   },
   {
    "duration": 45,
    "start_time": "2022-05-31T01:41:06.288Z"
   },
   {
    "duration": 5,
    "start_time": "2022-05-31T01:41:06.335Z"
   },
   {
    "duration": 45,
    "start_time": "2022-05-31T01:41:06.342Z"
   },
   {
    "duration": 8,
    "start_time": "2022-05-31T01:41:06.389Z"
   },
   {
    "duration": 29,
    "start_time": "2022-05-31T01:41:06.399Z"
   },
   {
    "duration": 27,
    "start_time": "2022-05-31T01:41:06.429Z"
   },
   {
    "duration": 26,
    "start_time": "2022-05-31T01:41:06.458Z"
   },
   {
    "duration": 10,
    "start_time": "2022-05-31T01:41:06.486Z"
   },
   {
    "duration": 49,
    "start_time": "2022-05-31T01:41:06.498Z"
   },
   {
    "duration": 136,
    "start_time": "2022-05-31T01:41:06.549Z"
   },
   {
    "duration": 111,
    "start_time": "2022-05-31T01:41:06.689Z"
   },
   {
    "duration": 97,
    "start_time": "2022-05-31T01:41:06.802Z"
   },
   {
    "duration": 4,
    "start_time": "2022-05-31T01:41:06.901Z"
   },
   {
    "duration": 9,
    "start_time": "2022-05-31T01:41:06.906Z"
   },
   {
    "duration": 4,
    "start_time": "2022-05-31T01:41:06.927Z"
   },
   {
    "duration": 96,
    "start_time": "2022-05-31T01:41:06.932Z"
   },
   {
    "duration": 108,
    "start_time": "2022-05-31T01:41:07.030Z"
   },
   {
    "duration": 28,
    "start_time": "2022-05-31T01:41:07.140Z"
   },
   {
    "duration": 21,
    "start_time": "2022-05-31T01:41:07.170Z"
   },
   {
    "duration": 2,
    "start_time": "2022-05-31T01:41:07.193Z"
   },
   {
    "duration": 49,
    "start_time": "2022-05-31T01:41:07.196Z"
   },
   {
    "duration": 36,
    "start_time": "2022-05-31T01:41:07.247Z"
   },
   {
    "duration": 19,
    "start_time": "2022-05-31T01:41:07.285Z"
   },
   {
    "duration": 157,
    "start_time": "2022-05-31T01:41:07.305Z"
   },
   {
    "duration": 140,
    "start_time": "2022-05-31T01:41:07.463Z"
   },
   {
    "duration": 23,
    "start_time": "2022-05-31T01:41:07.605Z"
   },
   {
    "duration": 139,
    "start_time": "2022-05-31T01:41:07.630Z"
   },
   {
    "duration": 20,
    "start_time": "2022-05-31T01:41:07.770Z"
   },
   {
    "duration": 205,
    "start_time": "2022-05-31T01:41:07.792Z"
   },
   {
    "duration": 123,
    "start_time": "2022-05-31T01:41:07.999Z"
   },
   {
    "duration": 18,
    "start_time": "2022-05-31T01:41:08.126Z"
   },
   {
    "duration": 161,
    "start_time": "2022-05-31T01:41:08.145Z"
   },
   {
    "duration": 165,
    "start_time": "2022-05-31T01:41:08.308Z"
   },
   {
    "duration": 165,
    "start_time": "2022-05-31T01:41:08.474Z"
   },
   {
    "duration": 164,
    "start_time": "2022-05-31T01:41:08.641Z"
   },
   {
    "duration": 151,
    "start_time": "2022-05-31T01:41:08.806Z"
   },
   {
    "duration": 33,
    "start_time": "2022-05-31T01:41:08.959Z"
   },
   {
    "duration": 48,
    "start_time": "2022-05-31T01:41:08.994Z"
   },
   {
    "duration": 35,
    "start_time": "2022-05-31T01:41:09.043Z"
   },
   {
    "duration": 55,
    "start_time": "2022-05-31T01:41:09.079Z"
   },
   {
    "duration": 31,
    "start_time": "2022-05-31T01:41:09.135Z"
   },
   {
    "duration": 5,
    "start_time": "2022-05-31T01:41:09.168Z"
   },
   {
    "duration": 153,
    "start_time": "2022-05-31T01:41:09.174Z"
   },
   {
    "duration": 138,
    "start_time": "2022-05-31T01:41:09.329Z"
   },
   {
    "duration": 128,
    "start_time": "2022-05-31T01:41:09.468Z"
   },
   {
    "duration": 4,
    "start_time": "2022-05-31T01:42:23.704Z"
   },
   {
    "duration": 4,
    "start_time": "2022-05-31T01:42:26.129Z"
   },
   {
    "duration": 107,
    "start_time": "2022-05-31T01:42:31.791Z"
   },
   {
    "duration": 22,
    "start_time": "2022-05-31T01:44:06.998Z"
   },
   {
    "duration": 105,
    "start_time": "2022-05-31T01:45:29.947Z"
   },
   {
    "duration": 4,
    "start_time": "2022-05-31T01:46:12.218Z"
   },
   {
    "duration": 4,
    "start_time": "2022-05-31T01:46:14.921Z"
   },
   {
    "duration": 118,
    "start_time": "2022-05-31T01:46:51.129Z"
   },
   {
    "duration": 192,
    "start_time": "2022-05-31T01:47:05.024Z"
   },
   {
    "duration": 176,
    "start_time": "2022-05-31T01:47:22.016Z"
   },
   {
    "duration": 104,
    "start_time": "2022-05-31T01:47:32.755Z"
   },
   {
    "duration": 55,
    "start_time": "2022-05-31T01:47:32.860Z"
   },
   {
    "duration": 4,
    "start_time": "2022-05-31T01:47:32.917Z"
   },
   {
    "duration": 40,
    "start_time": "2022-05-31T01:47:32.923Z"
   },
   {
    "duration": 56,
    "start_time": "2022-05-31T01:47:32.965Z"
   },
   {
    "duration": 26,
    "start_time": "2022-05-31T01:47:33.023Z"
   },
   {
    "duration": 27,
    "start_time": "2022-05-31T01:47:33.051Z"
   },
   {
    "duration": 35,
    "start_time": "2022-05-31T01:47:33.080Z"
   },
   {
    "duration": 39,
    "start_time": "2022-05-31T01:47:33.116Z"
   },
   {
    "duration": 21,
    "start_time": "2022-05-31T01:47:33.158Z"
   },
   {
    "duration": 51,
    "start_time": "2022-05-31T01:47:33.180Z"
   },
   {
    "duration": 17,
    "start_time": "2022-05-31T01:47:33.232Z"
   },
   {
    "duration": 32,
    "start_time": "2022-05-31T01:47:33.251Z"
   },
   {
    "duration": 49,
    "start_time": "2022-05-31T01:47:33.284Z"
   },
   {
    "duration": 13,
    "start_time": "2022-05-31T01:47:33.334Z"
   },
   {
    "duration": 40,
    "start_time": "2022-05-31T01:47:33.348Z"
   },
   {
    "duration": 62,
    "start_time": "2022-05-31T01:47:33.390Z"
   },
   {
    "duration": 28,
    "start_time": "2022-05-31T01:47:33.454Z"
   },
   {
    "duration": 4,
    "start_time": "2022-05-31T01:47:33.484Z"
   },
   {
    "duration": 38,
    "start_time": "2022-05-31T01:47:33.490Z"
   },
   {
    "duration": 8,
    "start_time": "2022-05-31T01:47:33.530Z"
   },
   {
    "duration": 24,
    "start_time": "2022-05-31T01:47:33.539Z"
   },
   {
    "duration": 40,
    "start_time": "2022-05-31T01:47:33.565Z"
   },
   {
    "duration": 32,
    "start_time": "2022-05-31T01:47:33.606Z"
   },
   {
    "duration": 9,
    "start_time": "2022-05-31T01:47:33.639Z"
   },
   {
    "duration": 35,
    "start_time": "2022-05-31T01:47:33.649Z"
   },
   {
    "duration": 110,
    "start_time": "2022-05-31T01:47:33.685Z"
   },
   {
    "duration": 120,
    "start_time": "2022-05-31T01:47:33.800Z"
   },
   {
    "duration": 89,
    "start_time": "2022-05-31T01:47:33.922Z"
   },
   {
    "duration": 4,
    "start_time": "2022-05-31T01:47:34.026Z"
   },
   {
    "duration": 74,
    "start_time": "2022-05-31T01:47:34.032Z"
   },
   {
    "duration": 32,
    "start_time": "2022-05-31T01:47:34.108Z"
   },
   {
    "duration": 111,
    "start_time": "2022-05-31T01:47:34.142Z"
   },
   {
    "duration": 96,
    "start_time": "2022-05-31T01:47:34.255Z"
   },
   {
    "duration": 26,
    "start_time": "2022-05-31T01:47:34.352Z"
   },
   {
    "duration": 24,
    "start_time": "2022-05-31T01:47:34.380Z"
   },
   {
    "duration": 7,
    "start_time": "2022-05-31T01:47:34.405Z"
   },
   {
    "duration": 43,
    "start_time": "2022-05-31T01:47:34.414Z"
   },
   {
    "duration": 72,
    "start_time": "2022-05-31T01:47:34.458Z"
   },
   {
    "duration": 3,
    "start_time": "2022-05-31T01:47:34.531Z"
   },
   {
    "duration": 50,
    "start_time": "2022-05-31T01:47:34.536Z"
   },
   {
    "duration": 149,
    "start_time": "2022-05-31T01:47:34.588Z"
   },
   {
    "duration": 140,
    "start_time": "2022-05-31T01:47:34.738Z"
   },
   {
    "duration": 13,
    "start_time": "2022-05-31T01:47:34.880Z"
   },
   {
    "duration": 147,
    "start_time": "2022-05-31T01:47:34.894Z"
   },
   {
    "duration": 19,
    "start_time": "2022-05-31T01:47:35.043Z"
   },
   {
    "duration": 150,
    "start_time": "2022-05-31T01:47:35.063Z"
   },
   {
    "duration": 120,
    "start_time": "2022-05-31T01:47:35.215Z"
   },
   {
    "duration": 0,
    "start_time": "2022-05-31T01:47:35.337Z"
   },
   {
    "duration": 0,
    "start_time": "2022-05-31T01:47:35.338Z"
   },
   {
    "duration": 0,
    "start_time": "2022-05-31T01:47:35.339Z"
   },
   {
    "duration": 0,
    "start_time": "2022-05-31T01:47:35.340Z"
   },
   {
    "duration": 0,
    "start_time": "2022-05-31T01:47:35.341Z"
   },
   {
    "duration": 0,
    "start_time": "2022-05-31T01:47:35.342Z"
   },
   {
    "duration": 0,
    "start_time": "2022-05-31T01:47:35.343Z"
   },
   {
    "duration": 0,
    "start_time": "2022-05-31T01:47:35.345Z"
   },
   {
    "duration": 0,
    "start_time": "2022-05-31T01:47:35.346Z"
   },
   {
    "duration": 0,
    "start_time": "2022-05-31T01:47:35.347Z"
   },
   {
    "duration": 0,
    "start_time": "2022-05-31T01:47:35.349Z"
   },
   {
    "duration": 0,
    "start_time": "2022-05-31T01:47:35.350Z"
   },
   {
    "duration": 0,
    "start_time": "2022-05-31T01:47:35.352Z"
   },
   {
    "duration": 0,
    "start_time": "2022-05-31T01:47:35.353Z"
   },
   {
    "duration": 0,
    "start_time": "2022-05-31T01:47:35.354Z"
   },
   {
    "duration": 114,
    "start_time": "2022-05-31T01:47:46.488Z"
   },
   {
    "duration": 110,
    "start_time": "2022-05-31T01:47:55.166Z"
   },
   {
    "duration": 753,
    "start_time": "2022-05-31T01:51:21.430Z"
   },
   {
    "duration": 49,
    "start_time": "2022-05-31T01:51:22.185Z"
   },
   {
    "duration": 4,
    "start_time": "2022-05-31T01:51:22.236Z"
   },
   {
    "duration": 18,
    "start_time": "2022-05-31T01:51:22.242Z"
   },
   {
    "duration": 20,
    "start_time": "2022-05-31T01:51:22.261Z"
   },
   {
    "duration": 24,
    "start_time": "2022-05-31T01:51:22.282Z"
   },
   {
    "duration": 26,
    "start_time": "2022-05-31T01:51:22.308Z"
   },
   {
    "duration": 29,
    "start_time": "2022-05-31T01:51:22.335Z"
   },
   {
    "duration": 11,
    "start_time": "2022-05-31T01:51:22.366Z"
   },
   {
    "duration": 7,
    "start_time": "2022-05-31T01:51:22.380Z"
   },
   {
    "duration": 50,
    "start_time": "2022-05-31T01:51:22.389Z"
   },
   {
    "duration": 13,
    "start_time": "2022-05-31T01:51:22.441Z"
   },
   {
    "duration": 8,
    "start_time": "2022-05-31T01:51:22.456Z"
   },
   {
    "duration": 20,
    "start_time": "2022-05-31T01:51:22.466Z"
   },
   {
    "duration": 7,
    "start_time": "2022-05-31T01:51:22.487Z"
   },
   {
    "duration": 37,
    "start_time": "2022-05-31T01:51:22.495Z"
   },
   {
    "duration": 24,
    "start_time": "2022-05-31T01:51:22.533Z"
   },
   {
    "duration": 30,
    "start_time": "2022-05-31T01:51:22.558Z"
   },
   {
    "duration": 4,
    "start_time": "2022-05-31T01:51:22.590Z"
   },
   {
    "duration": 55,
    "start_time": "2022-05-31T01:51:22.596Z"
   },
   {
    "duration": 7,
    "start_time": "2022-05-31T01:51:22.652Z"
   },
   {
    "duration": 14,
    "start_time": "2022-05-31T01:51:22.661Z"
   },
   {
    "duration": 29,
    "start_time": "2022-05-31T01:51:22.677Z"
   },
   {
    "duration": 37,
    "start_time": "2022-05-31T01:51:22.708Z"
   },
   {
    "duration": 9,
    "start_time": "2022-05-31T01:51:22.746Z"
   },
   {
    "duration": 24,
    "start_time": "2022-05-31T01:51:22.756Z"
   },
   {
    "duration": 130,
    "start_time": "2022-05-31T01:51:22.782Z"
   },
   {
    "duration": 112,
    "start_time": "2022-05-31T01:51:22.915Z"
   },
   {
    "duration": 84,
    "start_time": "2022-05-31T01:51:23.028Z"
   },
   {
    "duration": 4,
    "start_time": "2022-05-31T01:51:23.127Z"
   },
   {
    "duration": 7,
    "start_time": "2022-05-31T01:51:23.132Z"
   },
   {
    "duration": 8,
    "start_time": "2022-05-31T01:51:23.140Z"
   },
   {
    "duration": 110,
    "start_time": "2022-05-31T01:51:23.149Z"
   },
   {
    "duration": 117,
    "start_time": "2022-05-31T01:51:23.261Z"
   },
   {
    "duration": 28,
    "start_time": "2022-05-31T01:51:23.380Z"
   },
   {
    "duration": 29,
    "start_time": "2022-05-31T01:51:23.410Z"
   },
   {
    "duration": 3,
    "start_time": "2022-05-31T01:51:23.440Z"
   },
   {
    "duration": 24,
    "start_time": "2022-05-31T01:51:23.444Z"
   },
   {
    "duration": 34,
    "start_time": "2022-05-31T01:51:23.470Z"
   },
   {
    "duration": 22,
    "start_time": "2022-05-31T01:51:23.505Z"
   },
   {
    "duration": 19,
    "start_time": "2022-05-31T01:51:23.529Z"
   },
   {
    "duration": 134,
    "start_time": "2022-05-31T01:51:23.550Z"
   },
   {
    "duration": 147,
    "start_time": "2022-05-31T01:51:23.685Z"
   },
   {
    "duration": 14,
    "start_time": "2022-05-31T01:51:23.834Z"
   },
   {
    "duration": 139,
    "start_time": "2022-05-31T01:51:23.850Z"
   },
   {
    "duration": 20,
    "start_time": "2022-05-31T01:51:23.990Z"
   },
   {
    "duration": 204,
    "start_time": "2022-05-31T01:51:24.011Z"
   },
   {
    "duration": 125,
    "start_time": "2022-05-31T01:51:24.217Z"
   },
   {
    "duration": 17,
    "start_time": "2022-05-31T01:51:24.343Z"
   },
   {
    "duration": 155,
    "start_time": "2022-05-31T01:51:24.362Z"
   },
   {
    "duration": 152,
    "start_time": "2022-05-31T01:51:24.518Z"
   },
   {
    "duration": 160,
    "start_time": "2022-05-31T01:51:24.671Z"
   },
   {
    "duration": 161,
    "start_time": "2022-05-31T01:51:24.833Z"
   },
   {
    "duration": 146,
    "start_time": "2022-05-31T01:51:24.996Z"
   },
   {
    "duration": 33,
    "start_time": "2022-05-31T01:51:25.144Z"
   },
   {
    "duration": 50,
    "start_time": "2022-05-31T01:51:25.179Z"
   },
   {
    "duration": 33,
    "start_time": "2022-05-31T01:51:25.231Z"
   },
   {
    "duration": 33,
    "start_time": "2022-05-31T01:51:25.266Z"
   },
   {
    "duration": 50,
    "start_time": "2022-05-31T01:51:25.300Z"
   },
   {
    "duration": 5,
    "start_time": "2022-05-31T01:51:25.351Z"
   },
   {
    "duration": 139,
    "start_time": "2022-05-31T01:51:25.358Z"
   },
   {
    "duration": 131,
    "start_time": "2022-05-31T01:51:25.499Z"
   },
   {
    "duration": 133,
    "start_time": "2022-05-31T01:51:25.632Z"
   },
   {
    "duration": 29,
    "start_time": "2022-05-31T01:51:55.167Z"
   },
   {
    "duration": 4,
    "start_time": "2022-05-31T01:53:16.869Z"
   },
   {
    "duration": 4,
    "start_time": "2022-05-31T01:53:19.643Z"
   },
   {
    "duration": 31,
    "start_time": "2022-05-31T01:53:21.516Z"
   },
   {
    "duration": 133,
    "start_time": "2022-05-31T01:53:41.284Z"
   },
   {
    "duration": 896,
    "start_time": "2022-05-31T07:24:09.637Z"
   },
   {
    "duration": 91,
    "start_time": "2022-05-31T07:24:10.535Z"
   },
   {
    "duration": 6,
    "start_time": "2022-05-31T07:24:10.628Z"
   },
   {
    "duration": 30,
    "start_time": "2022-05-31T07:24:10.635Z"
   },
   {
    "duration": 19,
    "start_time": "2022-05-31T07:24:10.668Z"
   },
   {
    "duration": 37,
    "start_time": "2022-05-31T07:24:10.689Z"
   },
   {
    "duration": 8,
    "start_time": "2022-05-31T07:24:10.728Z"
   },
   {
    "duration": 28,
    "start_time": "2022-05-31T07:24:10.738Z"
   },
   {
    "duration": 12,
    "start_time": "2022-05-31T07:24:10.767Z"
   },
   {
    "duration": 19,
    "start_time": "2022-05-31T07:24:10.780Z"
   },
   {
    "duration": 46,
    "start_time": "2022-05-31T07:24:10.801Z"
   },
   {
    "duration": 14,
    "start_time": "2022-05-31T07:24:10.848Z"
   },
   {
    "duration": 10,
    "start_time": "2022-05-31T07:24:10.863Z"
   },
   {
    "duration": 32,
    "start_time": "2022-05-31T07:24:10.875Z"
   },
   {
    "duration": 23,
    "start_time": "2022-05-31T07:24:10.909Z"
   },
   {
    "duration": 15,
    "start_time": "2022-05-31T07:24:10.933Z"
   },
   {
    "duration": 32,
    "start_time": "2022-05-31T07:24:10.949Z"
   },
   {
    "duration": 53,
    "start_time": "2022-05-31T07:24:10.982Z"
   },
   {
    "duration": 4,
    "start_time": "2022-05-31T07:24:11.037Z"
   },
   {
    "duration": 41,
    "start_time": "2022-05-31T07:24:11.042Z"
   },
   {
    "duration": 7,
    "start_time": "2022-05-31T07:24:11.085Z"
   },
   {
    "duration": 24,
    "start_time": "2022-05-31T07:24:11.093Z"
   },
   {
    "duration": 29,
    "start_time": "2022-05-31T07:24:11.118Z"
   },
   {
    "duration": 27,
    "start_time": "2022-05-31T07:24:11.148Z"
   },
   {
    "duration": 9,
    "start_time": "2022-05-31T07:24:11.176Z"
   },
   {
    "duration": 44,
    "start_time": "2022-05-31T07:24:11.186Z"
   },
   {
    "duration": 126,
    "start_time": "2022-05-31T07:24:11.231Z"
   },
   {
    "duration": 150,
    "start_time": "2022-05-31T07:24:11.358Z"
   },
   {
    "duration": 122,
    "start_time": "2022-05-31T07:24:11.509Z"
   },
   {
    "duration": 5,
    "start_time": "2022-05-31T07:24:11.633Z"
   },
   {
    "duration": 10,
    "start_time": "2022-05-31T07:24:11.641Z"
   },
   {
    "duration": 15,
    "start_time": "2022-05-31T07:24:11.653Z"
   },
   {
    "duration": 120,
    "start_time": "2022-05-31T07:24:11.670Z"
   },
   {
    "duration": 113,
    "start_time": "2022-05-31T07:24:11.792Z"
   },
   {
    "duration": 39,
    "start_time": "2022-05-31T07:24:11.907Z"
   },
   {
    "duration": 21,
    "start_time": "2022-05-31T07:24:11.947Z"
   },
   {
    "duration": 2,
    "start_time": "2022-05-31T07:24:11.969Z"
   },
   {
    "duration": 27,
    "start_time": "2022-05-31T07:24:11.973Z"
   },
   {
    "duration": 51,
    "start_time": "2022-05-31T07:24:12.001Z"
   },
   {
    "duration": 3,
    "start_time": "2022-05-31T07:24:12.054Z"
   },
   {
    "duration": 19,
    "start_time": "2022-05-31T07:24:12.061Z"
   },
   {
    "duration": 161,
    "start_time": "2022-05-31T07:24:12.082Z"
   },
   {
    "duration": 152,
    "start_time": "2022-05-31T07:24:12.245Z"
   },
   {
    "duration": 14,
    "start_time": "2022-05-31T07:24:12.399Z"
   },
   {
    "duration": 148,
    "start_time": "2022-05-31T07:24:12.415Z"
   },
   {
    "duration": 20,
    "start_time": "2022-05-31T07:24:12.565Z"
   },
   {
    "duration": 224,
    "start_time": "2022-05-31T07:24:12.587Z"
   },
   {
    "duration": 134,
    "start_time": "2022-05-31T07:24:12.812Z"
   },
   {
    "duration": 18,
    "start_time": "2022-05-31T07:24:12.948Z"
   },
   {
    "duration": 172,
    "start_time": "2022-05-31T07:24:12.968Z"
   },
   {
    "duration": 167,
    "start_time": "2022-05-31T07:24:13.142Z"
   },
   {
    "duration": 163,
    "start_time": "2022-05-31T07:24:13.311Z"
   },
   {
    "duration": 171,
    "start_time": "2022-05-31T07:24:13.475Z"
   },
   {
    "duration": 164,
    "start_time": "2022-05-31T07:24:13.648Z"
   },
   {
    "duration": 47,
    "start_time": "2022-05-31T07:24:13.813Z"
   },
   {
    "duration": 36,
    "start_time": "2022-05-31T07:24:13.861Z"
   },
   {
    "duration": 56,
    "start_time": "2022-05-31T07:24:13.898Z"
   },
   {
    "duration": 37,
    "start_time": "2022-05-31T07:24:13.955Z"
   },
   {
    "duration": 4,
    "start_time": "2022-05-31T07:24:13.993Z"
   },
   {
    "duration": 69,
    "start_time": "2022-05-31T07:24:13.998Z"
   },
   {
    "duration": 6,
    "start_time": "2022-05-31T07:24:14.069Z"
   },
   {
    "duration": 152,
    "start_time": "2022-05-31T07:24:14.076Z"
   },
   {
    "duration": 148,
    "start_time": "2022-05-31T07:24:14.230Z"
   },
   {
    "duration": 155,
    "start_time": "2022-05-31T07:24:14.379Z"
   },
   {
    "duration": 53,
    "start_time": "2022-05-31T07:40:47.814Z"
   },
   {
    "duration": 874,
    "start_time": "2022-05-31T07:41:11.113Z"
   },
   {
    "duration": 49,
    "start_time": "2022-05-31T07:41:11.990Z"
   },
   {
    "duration": 5,
    "start_time": "2022-05-31T07:41:12.041Z"
   },
   {
    "duration": 28,
    "start_time": "2022-05-31T07:41:12.048Z"
   },
   {
    "duration": 23,
    "start_time": "2022-05-31T07:41:12.079Z"
   },
   {
    "duration": 37,
    "start_time": "2022-05-31T07:41:12.104Z"
   },
   {
    "duration": 10,
    "start_time": "2022-05-31T07:41:12.143Z"
   },
   {
    "duration": 30,
    "start_time": "2022-05-31T07:41:12.154Z"
   },
   {
    "duration": 13,
    "start_time": "2022-05-31T07:41:12.185Z"
   },
   {
    "duration": 35,
    "start_time": "2022-05-31T07:41:12.200Z"
   },
   {
    "duration": 27,
    "start_time": "2022-05-31T07:41:12.236Z"
   },
   {
    "duration": 15,
    "start_time": "2022-05-31T07:41:12.265Z"
   },
   {
    "duration": 10,
    "start_time": "2022-05-31T07:41:12.282Z"
   },
   {
    "duration": 53,
    "start_time": "2022-05-31T07:41:12.295Z"
   },
   {
    "duration": 8,
    "start_time": "2022-05-31T07:41:12.349Z"
   },
   {
    "duration": 13,
    "start_time": "2022-05-31T07:41:12.359Z"
   },
   {
    "duration": 54,
    "start_time": "2022-05-31T07:41:12.374Z"
   },
   {
    "duration": 36,
    "start_time": "2022-05-31T07:41:12.429Z"
   },
   {
    "duration": 4,
    "start_time": "2022-05-31T07:41:12.466Z"
   },
   {
    "duration": 31,
    "start_time": "2022-05-31T07:41:12.471Z"
   },
   {
    "duration": 9,
    "start_time": "2022-05-31T07:41:12.526Z"
   },
   {
    "duration": 12,
    "start_time": "2022-05-31T07:41:12.536Z"
   },
   {
    "duration": 31,
    "start_time": "2022-05-31T07:41:12.549Z"
   },
   {
    "duration": 51,
    "start_time": "2022-05-31T07:41:12.582Z"
   },
   {
    "duration": 23,
    "start_time": "2022-05-31T07:41:12.635Z"
   },
   {
    "duration": 11,
    "start_time": "2022-05-31T07:41:12.660Z"
   },
   {
    "duration": 26,
    "start_time": "2022-05-31T07:41:12.672Z"
   },
   {
    "duration": 176,
    "start_time": "2022-05-31T07:41:12.699Z"
   },
   {
    "duration": 121,
    "start_time": "2022-05-31T07:41:12.876Z"
   },
   {
    "duration": 112,
    "start_time": "2022-05-31T07:41:12.998Z"
   },
   {
    "duration": 4,
    "start_time": "2022-05-31T07:41:13.111Z"
   },
   {
    "duration": 4,
    "start_time": "2022-05-31T07:41:13.127Z"
   },
   {
    "duration": 7,
    "start_time": "2022-05-31T07:41:13.133Z"
   },
   {
    "duration": 123,
    "start_time": "2022-05-31T07:41:13.142Z"
   },
   {
    "duration": 119,
    "start_time": "2022-05-31T07:41:13.267Z"
   },
   {
    "duration": 42,
    "start_time": "2022-05-31T07:41:13.388Z"
   },
   {
    "duration": 24,
    "start_time": "2022-05-31T07:41:13.432Z"
   },
   {
    "duration": 7,
    "start_time": "2022-05-31T07:41:13.457Z"
   },
   {
    "duration": 26,
    "start_time": "2022-05-31T07:41:13.465Z"
   },
   {
    "duration": 58,
    "start_time": "2022-05-31T07:41:13.493Z"
   },
   {
    "duration": 4,
    "start_time": "2022-05-31T07:41:13.555Z"
   },
   {
    "duration": 22,
    "start_time": "2022-05-31T07:41:13.561Z"
   },
   {
    "duration": 161,
    "start_time": "2022-05-31T07:41:13.585Z"
   },
   {
    "duration": 167,
    "start_time": "2022-05-31T07:41:13.747Z"
   },
   {
    "duration": 21,
    "start_time": "2022-05-31T07:41:13.915Z"
   },
   {
    "duration": 154,
    "start_time": "2022-05-31T07:41:13.938Z"
   },
   {
    "duration": 39,
    "start_time": "2022-05-31T07:41:14.094Z"
   },
   {
    "duration": 221,
    "start_time": "2022-05-31T07:41:14.135Z"
   },
   {
    "duration": 153,
    "start_time": "2022-05-31T07:41:14.358Z"
   },
   {
    "duration": 22,
    "start_time": "2022-05-31T07:41:14.512Z"
   },
   {
    "duration": 217,
    "start_time": "2022-05-31T07:41:14.536Z"
   },
   {
    "duration": 198,
    "start_time": "2022-05-31T07:41:14.755Z"
   },
   {
    "duration": 186,
    "start_time": "2022-05-31T07:41:14.955Z"
   },
   {
    "duration": 184,
    "start_time": "2022-05-31T07:41:15.142Z"
   },
   {
    "duration": 173,
    "start_time": "2022-05-31T07:41:15.328Z"
   },
   {
    "duration": 52,
    "start_time": "2022-05-31T07:41:15.503Z"
   },
   {
    "duration": 42,
    "start_time": "2022-05-31T07:41:15.557Z"
   },
   {
    "duration": 77,
    "start_time": "2022-05-31T07:41:15.601Z"
   },
   {
    "duration": 55,
    "start_time": "2022-05-31T07:41:15.681Z"
   },
   {
    "duration": 5,
    "start_time": "2022-05-31T07:41:15.738Z"
   },
   {
    "duration": 42,
    "start_time": "2022-05-31T07:41:15.745Z"
   },
   {
    "duration": 6,
    "start_time": "2022-05-31T07:41:15.789Z"
   },
   {
    "duration": 177,
    "start_time": "2022-05-31T07:41:15.797Z"
   },
   {
    "duration": 163,
    "start_time": "2022-05-31T07:41:15.976Z"
   },
   {
    "duration": 155,
    "start_time": "2022-05-31T07:41:16.141Z"
   },
   {
    "duration": 8,
    "start_time": "2022-05-31T08:09:40.555Z"
   },
   {
    "duration": 131,
    "start_time": "2022-05-31T08:16:30.368Z"
   },
   {
    "duration": 51,
    "start_time": "2022-05-31T23:46:28.182Z"
   },
   {
    "duration": 1041,
    "start_time": "2022-05-31T23:46:31.807Z"
   },
   {
    "duration": 79,
    "start_time": "2022-05-31T23:46:32.851Z"
   },
   {
    "duration": 4,
    "start_time": "2022-05-31T23:46:32.932Z"
   },
   {
    "duration": 16,
    "start_time": "2022-05-31T23:46:32.937Z"
   },
   {
    "duration": 19,
    "start_time": "2022-05-31T23:46:32.955Z"
   },
   {
    "duration": 22,
    "start_time": "2022-05-31T23:46:32.976Z"
   },
   {
    "duration": 31,
    "start_time": "2022-05-31T23:46:32.999Z"
   },
   {
    "duration": 27,
    "start_time": "2022-05-31T23:46:33.031Z"
   },
   {
    "duration": 13,
    "start_time": "2022-05-31T23:46:33.059Z"
   },
   {
    "duration": 9,
    "start_time": "2022-05-31T23:46:33.075Z"
   },
   {
    "duration": 56,
    "start_time": "2022-05-31T23:46:33.085Z"
   },
   {
    "duration": 15,
    "start_time": "2022-05-31T23:46:33.142Z"
   },
   {
    "duration": 10,
    "start_time": "2022-05-31T23:46:33.158Z"
   },
   {
    "duration": 25,
    "start_time": "2022-05-31T23:46:33.169Z"
   },
   {
    "duration": 7,
    "start_time": "2022-05-31T23:46:33.195Z"
   },
   {
    "duration": 35,
    "start_time": "2022-05-31T23:46:33.203Z"
   },
   {
    "duration": 24,
    "start_time": "2022-05-31T23:46:33.239Z"
   },
   {
    "duration": 63,
    "start_time": "2022-05-31T23:46:33.264Z"
   },
   {
    "duration": 5,
    "start_time": "2022-05-31T23:46:33.328Z"
   },
   {
    "duration": 37,
    "start_time": "2022-05-31T23:46:33.334Z"
   },
   {
    "duration": 0,
    "start_time": "2022-05-31T23:46:33.373Z"
   },
   {
    "duration": 0,
    "start_time": "2022-05-31T23:46:33.374Z"
   },
   {
    "duration": 0,
    "start_time": "2022-05-31T23:46:33.375Z"
   },
   {
    "duration": 0,
    "start_time": "2022-05-31T23:46:33.376Z"
   },
   {
    "duration": 0,
    "start_time": "2022-05-31T23:46:33.377Z"
   },
   {
    "duration": 0,
    "start_time": "2022-05-31T23:46:33.378Z"
   },
   {
    "duration": 0,
    "start_time": "2022-05-31T23:46:33.378Z"
   },
   {
    "duration": 0,
    "start_time": "2022-05-31T23:46:33.379Z"
   },
   {
    "duration": 0,
    "start_time": "2022-05-31T23:46:33.380Z"
   },
   {
    "duration": 0,
    "start_time": "2022-05-31T23:46:33.381Z"
   },
   {
    "duration": 0,
    "start_time": "2022-05-31T23:46:33.382Z"
   },
   {
    "duration": 0,
    "start_time": "2022-05-31T23:46:33.383Z"
   },
   {
    "duration": 0,
    "start_time": "2022-05-31T23:46:33.384Z"
   },
   {
    "duration": 0,
    "start_time": "2022-05-31T23:46:33.385Z"
   },
   {
    "duration": 0,
    "start_time": "2022-05-31T23:46:33.386Z"
   },
   {
    "duration": 0,
    "start_time": "2022-05-31T23:46:33.387Z"
   },
   {
    "duration": 0,
    "start_time": "2022-05-31T23:46:33.388Z"
   },
   {
    "duration": 0,
    "start_time": "2022-05-31T23:46:33.389Z"
   },
   {
    "duration": 0,
    "start_time": "2022-05-31T23:46:33.390Z"
   },
   {
    "duration": 0,
    "start_time": "2022-05-31T23:46:33.391Z"
   },
   {
    "duration": 0,
    "start_time": "2022-05-31T23:46:33.392Z"
   },
   {
    "duration": 0,
    "start_time": "2022-05-31T23:46:33.392Z"
   },
   {
    "duration": 0,
    "start_time": "2022-05-31T23:46:33.393Z"
   },
   {
    "duration": 0,
    "start_time": "2022-05-31T23:46:33.427Z"
   },
   {
    "duration": 0,
    "start_time": "2022-05-31T23:46:33.428Z"
   },
   {
    "duration": 0,
    "start_time": "2022-05-31T23:46:33.428Z"
   },
   {
    "duration": 0,
    "start_time": "2022-05-31T23:46:33.429Z"
   },
   {
    "duration": 0,
    "start_time": "2022-05-31T23:46:33.430Z"
   },
   {
    "duration": 0,
    "start_time": "2022-05-31T23:46:33.431Z"
   },
   {
    "duration": 0,
    "start_time": "2022-05-31T23:46:33.432Z"
   },
   {
    "duration": 0,
    "start_time": "2022-05-31T23:46:33.432Z"
   },
   {
    "duration": 0,
    "start_time": "2022-05-31T23:46:33.434Z"
   },
   {
    "duration": 0,
    "start_time": "2022-05-31T23:46:33.434Z"
   },
   {
    "duration": 0,
    "start_time": "2022-05-31T23:46:33.435Z"
   },
   {
    "duration": 0,
    "start_time": "2022-05-31T23:46:33.436Z"
   },
   {
    "duration": 0,
    "start_time": "2022-05-31T23:46:33.437Z"
   },
   {
    "duration": 0,
    "start_time": "2022-05-31T23:46:33.438Z"
   },
   {
    "duration": 0,
    "start_time": "2022-05-31T23:46:33.439Z"
   },
   {
    "duration": 0,
    "start_time": "2022-05-31T23:46:33.440Z"
   },
   {
    "duration": 0,
    "start_time": "2022-05-31T23:46:33.440Z"
   },
   {
    "duration": 0,
    "start_time": "2022-05-31T23:46:33.441Z"
   },
   {
    "duration": 0,
    "start_time": "2022-05-31T23:46:33.442Z"
   },
   {
    "duration": 0,
    "start_time": "2022-05-31T23:46:33.443Z"
   },
   {
    "duration": 0,
    "start_time": "2022-05-31T23:46:33.444Z"
   },
   {
    "duration": 11,
    "start_time": "2022-05-31T23:50:51.410Z"
   },
   {
    "duration": 12,
    "start_time": "2022-05-31T23:50:57.634Z"
   },
   {
    "duration": 7,
    "start_time": "2022-05-31T23:51:03.146Z"
   },
   {
    "duration": 8,
    "start_time": "2022-05-31T23:51:04.488Z"
   },
   {
    "duration": 34,
    "start_time": "2022-05-31T23:51:29.984Z"
   },
   {
    "duration": 22,
    "start_time": "2022-05-31T23:52:47.919Z"
   },
   {
    "duration": 10,
    "start_time": "2022-05-31T23:52:50.685Z"
   },
   {
    "duration": 32,
    "start_time": "2022-05-31T23:53:50.333Z"
   },
   {
    "duration": 16,
    "start_time": "2022-05-31T23:55:52.937Z"
   },
   {
    "duration": 11,
    "start_time": "2022-05-31T23:55:57.055Z"
   },
   {
    "duration": 12,
    "start_time": "2022-05-31T23:56:01.409Z"
   },
   {
    "duration": 7,
    "start_time": "2022-05-31T23:56:06.720Z"
   },
   {
    "duration": 8,
    "start_time": "2022-05-31T23:57:13.917Z"
   },
   {
    "duration": 8,
    "start_time": "2022-05-31T23:57:32.869Z"
   },
   {
    "duration": 9,
    "start_time": "2022-05-31T23:57:38.100Z"
   },
   {
    "duration": 8,
    "start_time": "2022-05-31T23:57:40.940Z"
   },
   {
    "duration": 7,
    "start_time": "2022-05-31T23:57:55.117Z"
   },
   {
    "duration": 111,
    "start_time": "2022-05-31T23:58:00.929Z"
   },
   {
    "duration": 49,
    "start_time": "2022-05-31T23:58:01.042Z"
   },
   {
    "duration": 4,
    "start_time": "2022-05-31T23:58:01.092Z"
   },
   {
    "duration": 24,
    "start_time": "2022-05-31T23:58:01.098Z"
   },
   {
    "duration": 21,
    "start_time": "2022-05-31T23:58:01.123Z"
   },
   {
    "duration": 23,
    "start_time": "2022-05-31T23:58:01.146Z"
   },
   {
    "duration": 8,
    "start_time": "2022-05-31T23:58:01.171Z"
   },
   {
    "duration": 59,
    "start_time": "2022-05-31T23:58:01.181Z"
   },
   {
    "duration": 16,
    "start_time": "2022-05-31T23:58:01.242Z"
   },
   {
    "duration": 13,
    "start_time": "2022-05-31T23:58:01.261Z"
   },
   {
    "duration": 47,
    "start_time": "2022-05-31T23:58:01.275Z"
   },
   {
    "duration": 16,
    "start_time": "2022-05-31T23:58:01.327Z"
   },
   {
    "duration": 15,
    "start_time": "2022-05-31T23:58:01.344Z"
   },
   {
    "duration": 21,
    "start_time": "2022-05-31T23:58:01.361Z"
   },
   {
    "duration": 9,
    "start_time": "2022-05-31T23:58:01.383Z"
   },
   {
    "duration": 37,
    "start_time": "2022-05-31T23:58:01.393Z"
   },
   {
    "duration": 36,
    "start_time": "2022-05-31T23:58:01.431Z"
   },
   {
    "duration": 29,
    "start_time": "2022-05-31T23:58:01.469Z"
   },
   {
    "duration": 5,
    "start_time": "2022-05-31T23:58:01.500Z"
   },
   {
    "duration": 42,
    "start_time": "2022-05-31T23:58:01.507Z"
   },
   {
    "duration": 9,
    "start_time": "2022-05-31T23:58:01.551Z"
   },
   {
    "duration": 18,
    "start_time": "2022-05-31T23:58:01.562Z"
   },
   {
    "duration": 29,
    "start_time": "2022-05-31T23:58:01.582Z"
   },
   {
    "duration": 38,
    "start_time": "2022-05-31T23:58:01.613Z"
   },
   {
    "duration": 12,
    "start_time": "2022-05-31T23:58:01.653Z"
   },
   {
    "duration": 28,
    "start_time": "2022-05-31T23:58:01.667Z"
   },
   {
    "duration": 493,
    "start_time": "2022-05-31T23:58:01.697Z"
   },
   {
    "duration": 104,
    "start_time": "2022-05-31T23:58:02.194Z"
   },
   {
    "duration": 89,
    "start_time": "2022-05-31T23:58:02.299Z"
   },
   {
    "duration": 4,
    "start_time": "2022-05-31T23:58:02.390Z"
   },
   {
    "duration": 13,
    "start_time": "2022-05-31T23:58:02.395Z"
   },
   {
    "duration": 15,
    "start_time": "2022-05-31T23:58:02.409Z"
   },
   {
    "duration": 96,
    "start_time": "2022-05-31T23:58:02.425Z"
   },
   {
    "duration": 105,
    "start_time": "2022-05-31T23:58:02.522Z"
   },
   {
    "duration": 28,
    "start_time": "2022-05-31T23:58:02.628Z"
   },
   {
    "duration": 20,
    "start_time": "2022-05-31T23:58:02.657Z"
   },
   {
    "duration": 2,
    "start_time": "2022-05-31T23:58:02.679Z"
   },
   {
    "duration": 46,
    "start_time": "2022-05-31T23:58:02.682Z"
   },
   {
    "duration": 31,
    "start_time": "2022-05-31T23:58:02.730Z"
   },
   {
    "duration": 3,
    "start_time": "2022-05-31T23:58:02.762Z"
   },
   {
    "duration": 21,
    "start_time": "2022-05-31T23:58:02.766Z"
   },
   {
    "duration": 144,
    "start_time": "2022-05-31T23:58:02.789Z"
   },
   {
    "duration": 140,
    "start_time": "2022-05-31T23:58:02.935Z"
   },
   {
    "duration": 14,
    "start_time": "2022-05-31T23:58:03.077Z"
   },
   {
    "duration": 206,
    "start_time": "2022-05-31T23:58:03.093Z"
   },
   {
    "duration": 28,
    "start_time": "2022-05-31T23:58:03.301Z"
   },
   {
    "duration": 144,
    "start_time": "2022-05-31T23:58:03.331Z"
   },
   {
    "duration": 134,
    "start_time": "2022-05-31T23:58:03.477Z"
   },
   {
    "duration": 27,
    "start_time": "2022-05-31T23:58:03.612Z"
   },
   {
    "duration": 156,
    "start_time": "2022-05-31T23:58:03.641Z"
   },
   {
    "duration": 167,
    "start_time": "2022-05-31T23:58:03.799Z"
   },
   {
    "duration": 166,
    "start_time": "2022-05-31T23:58:03.968Z"
   },
   {
    "duration": 163,
    "start_time": "2022-05-31T23:58:04.136Z"
   },
   {
    "duration": 157,
    "start_time": "2022-05-31T23:58:04.301Z"
   },
   {
    "duration": 39,
    "start_time": "2022-05-31T23:58:04.459Z"
   },
   {
    "duration": 60,
    "start_time": "2022-05-31T23:58:04.500Z"
   },
   {
    "duration": 39,
    "start_time": "2022-05-31T23:58:04.562Z"
   },
   {
    "duration": 57,
    "start_time": "2022-05-31T23:58:04.602Z"
   },
   {
    "duration": 3,
    "start_time": "2022-05-31T23:58:04.661Z"
   },
   {
    "duration": 38,
    "start_time": "2022-05-31T23:58:04.666Z"
   },
   {
    "duration": 5,
    "start_time": "2022-05-31T23:58:04.706Z"
   },
   {
    "duration": 169,
    "start_time": "2022-05-31T23:58:04.727Z"
   },
   {
    "duration": 143,
    "start_time": "2022-05-31T23:58:04.898Z"
   },
   {
    "duration": 169,
    "start_time": "2022-05-31T23:58:05.043Z"
   },
   {
    "duration": 12,
    "start_time": "2022-05-31T23:58:54.362Z"
   },
   {
    "duration": 18,
    "start_time": "2022-05-31T23:59:20.057Z"
   },
   {
    "duration": 12,
    "start_time": "2022-05-31T23:59:34.280Z"
   },
   {
    "duration": 48,
    "start_time": "2022-05-31T23:59:46.416Z"
   },
   {
    "duration": 41,
    "start_time": "2022-05-31T23:59:56.943Z"
   },
   {
    "duration": 41,
    "start_time": "2022-06-01T00:00:14.551Z"
   },
   {
    "duration": 36,
    "start_time": "2022-06-01T00:02:46.640Z"
   },
   {
    "duration": 7,
    "start_time": "2022-06-01T00:06:20.400Z"
   },
   {
    "duration": 219,
    "start_time": "2022-06-01T00:08:32.154Z"
   },
   {
    "duration": 14,
    "start_time": "2022-06-01T00:09:12.393Z"
   },
   {
    "duration": 17,
    "start_time": "2022-06-01T00:09:36.641Z"
   },
   {
    "duration": 25,
    "start_time": "2022-06-01T00:13:38.687Z"
   },
   {
    "duration": 16,
    "start_time": "2022-06-01T00:13:45.663Z"
   },
   {
    "duration": 12,
    "start_time": "2022-06-01T00:13:57.599Z"
   },
   {
    "duration": 9,
    "start_time": "2022-06-01T00:15:29.651Z"
   },
   {
    "duration": 5,
    "start_time": "2022-06-01T00:17:12.887Z"
   },
   {
    "duration": 14,
    "start_time": "2022-06-01T00:17:15.182Z"
   },
   {
    "duration": 5,
    "start_time": "2022-06-01T00:17:40.062Z"
   },
   {
    "duration": 6,
    "start_time": "2022-06-01T00:33:25.478Z"
   },
   {
    "duration": 6,
    "start_time": "2022-06-01T00:37:04.513Z"
   },
   {
    "duration": 13,
    "start_time": "2022-06-01T00:39:34.309Z"
   },
   {
    "duration": 115,
    "start_time": "2022-06-01T00:39:53.194Z"
   },
   {
    "duration": 48,
    "start_time": "2022-06-01T00:39:53.330Z"
   },
   {
    "duration": 5,
    "start_time": "2022-06-01T00:39:53.380Z"
   },
   {
    "duration": 22,
    "start_time": "2022-06-01T00:39:53.387Z"
   },
   {
    "duration": 20,
    "start_time": "2022-06-01T00:39:53.411Z"
   },
   {
    "duration": 28,
    "start_time": "2022-06-01T00:39:53.432Z"
   },
   {
    "duration": 9,
    "start_time": "2022-06-01T00:39:53.462Z"
   },
   {
    "duration": 56,
    "start_time": "2022-06-01T00:39:53.472Z"
   },
   {
    "duration": 13,
    "start_time": "2022-06-01T00:39:53.531Z"
   },
   {
    "duration": 35,
    "start_time": "2022-06-01T00:39:53.548Z"
   },
   {
    "duration": 32,
    "start_time": "2022-06-01T00:39:53.585Z"
   },
   {
    "duration": 14,
    "start_time": "2022-06-01T00:39:53.618Z"
   },
   {
    "duration": 15,
    "start_time": "2022-06-01T00:39:53.634Z"
   },
   {
    "duration": 21,
    "start_time": "2022-06-01T00:39:53.651Z"
   },
   {
    "duration": 7,
    "start_time": "2022-06-01T00:39:53.673Z"
   },
   {
    "duration": 24,
    "start_time": "2022-06-01T00:39:53.682Z"
   },
   {
    "duration": 47,
    "start_time": "2022-06-01T00:39:53.708Z"
   },
   {
    "duration": 28,
    "start_time": "2022-06-01T00:39:53.756Z"
   },
   {
    "duration": 4,
    "start_time": "2022-06-01T00:39:53.786Z"
   },
   {
    "duration": 53,
    "start_time": "2022-06-01T00:39:53.791Z"
   },
   {
    "duration": 8,
    "start_time": "2022-06-01T00:39:53.846Z"
   },
   {
    "duration": 10,
    "start_time": "2022-06-01T00:39:53.856Z"
   },
   {
    "duration": 59,
    "start_time": "2022-06-01T00:39:53.868Z"
   },
   {
    "duration": 27,
    "start_time": "2022-06-01T00:39:53.928Z"
   },
   {
    "duration": 25,
    "start_time": "2022-06-01T00:39:53.956Z"
   },
   {
    "duration": 0,
    "start_time": "2022-06-01T00:39:53.984Z"
   },
   {
    "duration": 0,
    "start_time": "2022-06-01T00:39:53.985Z"
   },
   {
    "duration": 0,
    "start_time": "2022-06-01T00:39:53.987Z"
   },
   {
    "duration": 0,
    "start_time": "2022-06-01T00:39:53.988Z"
   },
   {
    "duration": 0,
    "start_time": "2022-06-01T00:39:53.989Z"
   },
   {
    "duration": 0,
    "start_time": "2022-06-01T00:39:53.991Z"
   },
   {
    "duration": 0,
    "start_time": "2022-06-01T00:39:53.992Z"
   },
   {
    "duration": 0,
    "start_time": "2022-06-01T00:39:54.026Z"
   },
   {
    "duration": 0,
    "start_time": "2022-06-01T00:39:54.028Z"
   },
   {
    "duration": 0,
    "start_time": "2022-06-01T00:39:54.028Z"
   },
   {
    "duration": 0,
    "start_time": "2022-06-01T00:39:54.030Z"
   },
   {
    "duration": 0,
    "start_time": "2022-06-01T00:39:54.031Z"
   },
   {
    "duration": 0,
    "start_time": "2022-06-01T00:39:54.032Z"
   },
   {
    "duration": 0,
    "start_time": "2022-06-01T00:39:54.033Z"
   },
   {
    "duration": 0,
    "start_time": "2022-06-01T00:39:54.034Z"
   },
   {
    "duration": 0,
    "start_time": "2022-06-01T00:39:54.035Z"
   },
   {
    "duration": 0,
    "start_time": "2022-06-01T00:39:54.035Z"
   },
   {
    "duration": 0,
    "start_time": "2022-06-01T00:39:54.036Z"
   },
   {
    "duration": 0,
    "start_time": "2022-06-01T00:39:54.037Z"
   },
   {
    "duration": 0,
    "start_time": "2022-06-01T00:39:54.038Z"
   },
   {
    "duration": 0,
    "start_time": "2022-06-01T00:39:54.040Z"
   },
   {
    "duration": 0,
    "start_time": "2022-06-01T00:39:54.041Z"
   },
   {
    "duration": 0,
    "start_time": "2022-06-01T00:39:54.042Z"
   },
   {
    "duration": 0,
    "start_time": "2022-06-01T00:39:54.043Z"
   },
   {
    "duration": 0,
    "start_time": "2022-06-01T00:39:54.044Z"
   },
   {
    "duration": 1,
    "start_time": "2022-06-01T00:39:54.045Z"
   },
   {
    "duration": 0,
    "start_time": "2022-06-01T00:39:54.047Z"
   },
   {
    "duration": 0,
    "start_time": "2022-06-01T00:39:54.048Z"
   },
   {
    "duration": 0,
    "start_time": "2022-06-01T00:39:54.049Z"
   },
   {
    "duration": 0,
    "start_time": "2022-06-01T00:39:54.050Z"
   },
   {
    "duration": 0,
    "start_time": "2022-06-01T00:39:54.051Z"
   },
   {
    "duration": 0,
    "start_time": "2022-06-01T00:39:54.053Z"
   },
   {
    "duration": 0,
    "start_time": "2022-06-01T00:39:54.054Z"
   },
   {
    "duration": 0,
    "start_time": "2022-06-01T00:39:54.055Z"
   },
   {
    "duration": 0,
    "start_time": "2022-06-01T00:39:54.056Z"
   },
   {
    "duration": 0,
    "start_time": "2022-06-01T00:39:54.057Z"
   },
   {
    "duration": 0,
    "start_time": "2022-06-01T00:39:54.058Z"
   },
   {
    "duration": 0,
    "start_time": "2022-06-01T00:39:54.059Z"
   },
   {
    "duration": 0,
    "start_time": "2022-06-01T00:39:54.060Z"
   },
   {
    "duration": 0,
    "start_time": "2022-06-01T00:39:54.061Z"
   },
   {
    "duration": 0,
    "start_time": "2022-06-01T00:39:54.062Z"
   },
   {
    "duration": 0,
    "start_time": "2022-06-01T00:39:54.063Z"
   },
   {
    "duration": 36,
    "start_time": "2022-06-01T00:40:36.436Z"
   },
   {
    "duration": 13,
    "start_time": "2022-06-01T00:41:14.212Z"
   },
   {
    "duration": 6,
    "start_time": "2022-06-01T00:41:32.737Z"
   },
   {
    "duration": 13,
    "start_time": "2022-06-01T00:50:19.553Z"
   },
   {
    "duration": 5,
    "start_time": "2022-06-01T00:50:22.410Z"
   },
   {
    "duration": 107,
    "start_time": "2022-06-01T02:06:46.984Z"
   },
   {
    "duration": 24,
    "start_time": "2022-06-01T02:14:04.825Z"
   },
   {
    "duration": 116,
    "start_time": "2022-06-01T02:14:07.886Z"
   },
   {
    "duration": 49,
    "start_time": "2022-06-01T02:14:08.004Z"
   },
   {
    "duration": 4,
    "start_time": "2022-06-01T02:14:08.054Z"
   },
   {
    "duration": 17,
    "start_time": "2022-06-01T02:14:08.060Z"
   },
   {
    "duration": 19,
    "start_time": "2022-06-01T02:14:08.079Z"
   },
   {
    "duration": 42,
    "start_time": "2022-06-01T02:14:08.100Z"
   },
   {
    "duration": 9,
    "start_time": "2022-06-01T02:14:08.144Z"
   },
   {
    "duration": 35,
    "start_time": "2022-06-01T02:14:08.155Z"
   },
   {
    "duration": 37,
    "start_time": "2022-06-01T02:14:08.192Z"
   },
   {
    "duration": 8,
    "start_time": "2022-06-01T02:14:08.232Z"
   },
   {
    "duration": 38,
    "start_time": "2022-06-01T02:14:08.242Z"
   },
   {
    "duration": 14,
    "start_time": "2022-06-01T02:14:08.282Z"
   },
   {
    "duration": 33,
    "start_time": "2022-06-01T02:14:08.298Z"
   },
   {
    "duration": 23,
    "start_time": "2022-06-01T02:14:08.332Z"
   },
   {
    "duration": 7,
    "start_time": "2022-06-01T02:14:08.356Z"
   },
   {
    "duration": 14,
    "start_time": "2022-06-01T02:14:08.365Z"
   },
   {
    "duration": 55,
    "start_time": "2022-06-01T02:14:08.380Z"
   },
   {
    "duration": 28,
    "start_time": "2022-06-01T02:14:08.436Z"
   },
   {
    "duration": 4,
    "start_time": "2022-06-01T02:14:08.465Z"
   },
   {
    "duration": 27,
    "start_time": "2022-06-01T02:14:08.471Z"
   },
   {
    "duration": 30,
    "start_time": "2022-06-01T02:14:08.500Z"
   },
   {
    "duration": 8,
    "start_time": "2022-06-01T02:14:08.531Z"
   },
   {
    "duration": 30,
    "start_time": "2022-06-01T02:14:08.541Z"
   },
   {
    "duration": 55,
    "start_time": "2022-06-01T02:14:08.573Z"
   },
   {
    "duration": 14,
    "start_time": "2022-06-01T02:14:08.630Z"
   },
   {
    "duration": 5,
    "start_time": "2022-06-01T02:14:08.645Z"
   },
   {
    "duration": 12,
    "start_time": "2022-06-01T02:14:08.652Z"
   },
   {
    "duration": 26,
    "start_time": "2022-06-01T02:14:08.667Z"
   },
   {
    "duration": 145,
    "start_time": "2022-06-01T02:14:08.695Z"
   },
   {
    "duration": 118,
    "start_time": "2022-06-01T02:14:08.842Z"
   },
   {
    "duration": 101,
    "start_time": "2022-06-01T02:14:08.961Z"
   },
   {
    "duration": 4,
    "start_time": "2022-06-01T02:14:09.063Z"
   },
   {
    "duration": 8,
    "start_time": "2022-06-01T02:14:09.069Z"
   },
   {
    "duration": 102,
    "start_time": "2022-06-01T02:14:09.078Z"
   },
   {
    "duration": 117,
    "start_time": "2022-06-01T02:14:09.182Z"
   },
   {
    "duration": 37,
    "start_time": "2022-06-01T02:14:09.301Z"
   },
   {
    "duration": 22,
    "start_time": "2022-06-01T02:14:09.340Z"
   },
   {
    "duration": 4,
    "start_time": "2022-06-01T02:14:09.363Z"
   },
   {
    "duration": 25,
    "start_time": "2022-06-01T02:14:09.369Z"
   },
   {
    "duration": 55,
    "start_time": "2022-06-01T02:14:09.395Z"
   },
   {
    "duration": 3,
    "start_time": "2022-06-01T02:14:09.452Z"
   },
   {
    "duration": 20,
    "start_time": "2022-06-01T02:14:09.457Z"
   },
   {
    "duration": 156,
    "start_time": "2022-06-01T02:14:09.478Z"
   },
   {
    "duration": 155,
    "start_time": "2022-06-01T02:14:09.636Z"
   },
   {
    "duration": 16,
    "start_time": "2022-06-01T02:14:09.793Z"
   },
   {
    "duration": 169,
    "start_time": "2022-06-01T02:14:09.811Z"
   },
   {
    "duration": 21,
    "start_time": "2022-06-01T02:14:09.982Z"
   },
   {
    "duration": 157,
    "start_time": "2022-06-01T02:14:10.005Z"
   },
   {
    "duration": 131,
    "start_time": "2022-06-01T02:14:10.163Z"
   },
   {
    "duration": 17,
    "start_time": "2022-06-01T02:14:10.296Z"
   },
   {
    "duration": 159,
    "start_time": "2022-06-01T02:14:10.315Z"
   },
   {
    "duration": 160,
    "start_time": "2022-06-01T02:14:10.476Z"
   },
   {
    "duration": 160,
    "start_time": "2022-06-01T02:14:10.638Z"
   },
   {
    "duration": 256,
    "start_time": "2022-06-01T02:14:10.800Z"
   },
   {
    "duration": 158,
    "start_time": "2022-06-01T02:14:11.057Z"
   },
   {
    "duration": 44,
    "start_time": "2022-06-01T02:14:11.216Z"
   },
   {
    "duration": 36,
    "start_time": "2022-06-01T02:14:11.262Z"
   },
   {
    "duration": 53,
    "start_time": "2022-06-01T02:14:11.300Z"
   },
   {
    "duration": 35,
    "start_time": "2022-06-01T02:14:11.355Z"
   },
   {
    "duration": 4,
    "start_time": "2022-06-01T02:14:11.391Z"
   },
   {
    "duration": 56,
    "start_time": "2022-06-01T02:14:11.396Z"
   },
   {
    "duration": 6,
    "start_time": "2022-06-01T02:14:11.453Z"
   },
   {
    "duration": 145,
    "start_time": "2022-06-01T02:14:11.461Z"
   },
   {
    "duration": 152,
    "start_time": "2022-06-01T02:14:11.608Z"
   },
   {
    "duration": 151,
    "start_time": "2022-06-01T02:14:11.761Z"
   },
   {
    "duration": 4,
    "start_time": "2022-06-01T03:40:10.115Z"
   },
   {
    "duration": 41,
    "start_time": "2022-06-01T03:42:02.449Z"
   },
   {
    "duration": 16,
    "start_time": "2022-06-01T03:42:07.799Z"
   },
   {
    "duration": 327,
    "start_time": "2022-06-01T03:42:15.647Z"
   },
   {
    "duration": 117,
    "start_time": "2022-06-01T03:42:36.676Z"
   },
   {
    "duration": 48,
    "start_time": "2022-06-01T03:42:36.795Z"
   },
   {
    "duration": 5,
    "start_time": "2022-06-01T03:42:36.845Z"
   },
   {
    "duration": 21,
    "start_time": "2022-06-01T03:42:36.851Z"
   },
   {
    "duration": 21,
    "start_time": "2022-06-01T03:42:36.873Z"
   },
   {
    "duration": 50,
    "start_time": "2022-06-01T03:42:36.895Z"
   },
   {
    "duration": 8,
    "start_time": "2022-06-01T03:42:36.947Z"
   },
   {
    "duration": 34,
    "start_time": "2022-06-01T03:42:36.956Z"
   },
   {
    "duration": 42,
    "start_time": "2022-06-01T03:42:36.991Z"
   },
   {
    "duration": 13,
    "start_time": "2022-06-01T03:42:37.035Z"
   },
   {
    "duration": 27,
    "start_time": "2022-06-01T03:42:37.050Z"
   },
   {
    "duration": 16,
    "start_time": "2022-06-01T03:42:37.079Z"
   },
   {
    "duration": 40,
    "start_time": "2022-06-01T03:42:37.097Z"
   },
   {
    "duration": 22,
    "start_time": "2022-06-01T03:42:37.139Z"
   },
   {
    "duration": 9,
    "start_time": "2022-06-01T03:42:37.163Z"
   },
   {
    "duration": 12,
    "start_time": "2022-06-01T03:42:37.174Z"
   },
   {
    "duration": 56,
    "start_time": "2022-06-01T03:42:37.187Z"
   },
   {
    "duration": 32,
    "start_time": "2022-06-01T03:42:37.245Z"
   },
   {
    "duration": 4,
    "start_time": "2022-06-01T03:42:37.279Z"
   },
   {
    "duration": 53,
    "start_time": "2022-06-01T03:42:37.284Z"
   },
   {
    "duration": 10,
    "start_time": "2022-06-01T03:42:37.339Z"
   },
   {
    "duration": 14,
    "start_time": "2022-06-01T03:42:37.351Z"
   },
   {
    "duration": 34,
    "start_time": "2022-06-01T03:42:37.366Z"
   },
   {
    "duration": 49,
    "start_time": "2022-06-01T03:42:37.402Z"
   },
   {
    "duration": 14,
    "start_time": "2022-06-01T03:42:37.453Z"
   },
   {
    "duration": 8,
    "start_time": "2022-06-01T03:42:37.468Z"
   },
   {
    "duration": 13,
    "start_time": "2022-06-01T03:42:37.478Z"
   },
   {
    "duration": 47,
    "start_time": "2022-06-01T03:42:37.494Z"
   },
   {
    "duration": 125,
    "start_time": "2022-06-01T03:42:37.543Z"
   },
   {
    "duration": 121,
    "start_time": "2022-06-01T03:42:37.669Z"
   },
   {
    "duration": 109,
    "start_time": "2022-06-01T03:42:37.791Z"
   },
   {
    "duration": 4,
    "start_time": "2022-06-01T03:42:37.902Z"
   },
   {
    "duration": 317,
    "start_time": "2022-06-01T03:42:37.908Z"
   },
   {
    "duration": 0,
    "start_time": "2022-06-01T03:42:38.227Z"
   },
   {
    "duration": 0,
    "start_time": "2022-06-01T03:42:38.228Z"
   },
   {
    "duration": 0,
    "start_time": "2022-06-01T03:42:38.229Z"
   },
   {
    "duration": 0,
    "start_time": "2022-06-01T03:42:38.230Z"
   },
   {
    "duration": 0,
    "start_time": "2022-06-01T03:42:38.231Z"
   },
   {
    "duration": 0,
    "start_time": "2022-06-01T03:42:38.232Z"
   },
   {
    "duration": 0,
    "start_time": "2022-06-01T03:42:38.233Z"
   },
   {
    "duration": 0,
    "start_time": "2022-06-01T03:42:38.233Z"
   },
   {
    "duration": 0,
    "start_time": "2022-06-01T03:42:38.234Z"
   },
   {
    "duration": 0,
    "start_time": "2022-06-01T03:42:38.235Z"
   },
   {
    "duration": 0,
    "start_time": "2022-06-01T03:42:38.236Z"
   },
   {
    "duration": 0,
    "start_time": "2022-06-01T03:42:38.237Z"
   },
   {
    "duration": 0,
    "start_time": "2022-06-01T03:42:38.238Z"
   },
   {
    "duration": 0,
    "start_time": "2022-06-01T03:42:38.239Z"
   },
   {
    "duration": 0,
    "start_time": "2022-06-01T03:42:38.240Z"
   },
   {
    "duration": 0,
    "start_time": "2022-06-01T03:42:38.241Z"
   },
   {
    "duration": 0,
    "start_time": "2022-06-01T03:42:38.242Z"
   },
   {
    "duration": 0,
    "start_time": "2022-06-01T03:42:38.243Z"
   },
   {
    "duration": 0,
    "start_time": "2022-06-01T03:42:38.244Z"
   },
   {
    "duration": 0,
    "start_time": "2022-06-01T03:42:38.245Z"
   },
   {
    "duration": 0,
    "start_time": "2022-06-01T03:42:38.246Z"
   },
   {
    "duration": 0,
    "start_time": "2022-06-01T03:42:38.247Z"
   },
   {
    "duration": 0,
    "start_time": "2022-06-01T03:42:38.248Z"
   },
   {
    "duration": 0,
    "start_time": "2022-06-01T03:42:38.249Z"
   },
   {
    "duration": 0,
    "start_time": "2022-06-01T03:42:38.250Z"
   },
   {
    "duration": 0,
    "start_time": "2022-06-01T03:42:38.251Z"
   },
   {
    "duration": 0,
    "start_time": "2022-06-01T03:42:38.252Z"
   },
   {
    "duration": 0,
    "start_time": "2022-06-01T03:42:38.253Z"
   },
   {
    "duration": 0,
    "start_time": "2022-06-01T03:42:38.254Z"
   },
   {
    "duration": 0,
    "start_time": "2022-06-01T03:42:38.255Z"
   },
   {
    "duration": 0,
    "start_time": "2022-06-01T03:42:38.256Z"
   },
   {
    "duration": 0,
    "start_time": "2022-06-01T03:42:38.257Z"
   },
   {
    "duration": 0,
    "start_time": "2022-06-01T03:42:38.258Z"
   },
   {
    "duration": 4,
    "start_time": "2022-06-01T03:43:28.972Z"
   },
   {
    "duration": 3,
    "start_time": "2022-06-01T03:43:30.405Z"
   },
   {
    "duration": 9,
    "start_time": "2022-06-01T03:43:34.740Z"
   },
   {
    "duration": 12,
    "start_time": "2022-06-01T03:43:43.876Z"
   },
   {
    "duration": 9,
    "start_time": "2022-06-01T03:45:21.601Z"
   },
   {
    "duration": 10,
    "start_time": "2022-06-01T03:45:26.248Z"
   },
   {
    "duration": 113,
    "start_time": "2022-06-01T03:45:31.414Z"
   },
   {
    "duration": 48,
    "start_time": "2022-06-01T03:45:31.529Z"
   },
   {
    "duration": 4,
    "start_time": "2022-06-01T03:45:31.578Z"
   },
   {
    "duration": 39,
    "start_time": "2022-06-01T03:45:31.584Z"
   },
   {
    "duration": 21,
    "start_time": "2022-06-01T03:45:31.624Z"
   },
   {
    "duration": 22,
    "start_time": "2022-06-01T03:45:31.647Z"
   },
   {
    "duration": 8,
    "start_time": "2022-06-01T03:45:31.671Z"
   },
   {
    "duration": 58,
    "start_time": "2022-06-01T03:45:31.680Z"
   },
   {
    "duration": 16,
    "start_time": "2022-06-01T03:45:31.740Z"
   },
   {
    "duration": 10,
    "start_time": "2022-06-01T03:45:31.760Z"
   },
   {
    "duration": 57,
    "start_time": "2022-06-01T03:45:31.771Z"
   },
   {
    "duration": 18,
    "start_time": "2022-06-01T03:45:31.830Z"
   },
   {
    "duration": 10,
    "start_time": "2022-06-01T03:45:31.850Z"
   },
   {
    "duration": 24,
    "start_time": "2022-06-01T03:45:31.862Z"
   },
   {
    "duration": 43,
    "start_time": "2022-06-01T03:45:31.888Z"
   },
   {
    "duration": 14,
    "start_time": "2022-06-01T03:45:31.934Z"
   },
   {
    "duration": 28,
    "start_time": "2022-06-01T03:45:31.950Z"
   },
   {
    "duration": 62,
    "start_time": "2022-06-01T03:45:31.981Z"
   },
   {
    "duration": 5,
    "start_time": "2022-06-01T03:45:32.045Z"
   },
   {
    "duration": 30,
    "start_time": "2022-06-01T03:45:32.052Z"
   },
   {
    "duration": 9,
    "start_time": "2022-06-01T03:45:32.084Z"
   },
   {
    "duration": 14,
    "start_time": "2022-06-01T03:45:32.094Z"
   },
   {
    "duration": 44,
    "start_time": "2022-06-01T03:45:32.109Z"
   },
   {
    "duration": 27,
    "start_time": "2022-06-01T03:45:32.154Z"
   },
   {
    "duration": 14,
    "start_time": "2022-06-01T03:45:32.182Z"
   },
   {
    "duration": 33,
    "start_time": "2022-06-01T03:45:32.198Z"
   },
   {
    "duration": 22,
    "start_time": "2022-06-01T03:45:32.232Z"
   },
   {
    "duration": 25,
    "start_time": "2022-06-01T03:45:32.259Z"
   },
   {
    "duration": 110,
    "start_time": "2022-06-01T03:45:32.285Z"
   },
   {
    "duration": 109,
    "start_time": "2022-06-01T03:45:32.397Z"
   },
   {
    "duration": 96,
    "start_time": "2022-06-01T03:45:32.507Z"
   },
   {
    "duration": 5,
    "start_time": "2022-06-01T03:45:32.604Z"
   },
   {
    "duration": 38,
    "start_time": "2022-06-01T03:45:32.610Z"
   },
   {
    "duration": 6,
    "start_time": "2022-06-01T03:45:32.649Z"
   },
   {
    "duration": 111,
    "start_time": "2022-06-01T03:45:32.657Z"
   },
   {
    "duration": 110,
    "start_time": "2022-06-01T03:45:32.770Z"
   },
   {
    "duration": 28,
    "start_time": "2022-06-01T03:45:32.882Z"
   },
   {
    "duration": 36,
    "start_time": "2022-06-01T03:45:32.912Z"
   },
   {
    "duration": 7,
    "start_time": "2022-06-01T03:45:32.949Z"
   },
   {
    "duration": 26,
    "start_time": "2022-06-01T03:45:32.958Z"
   },
   {
    "duration": 47,
    "start_time": "2022-06-01T03:45:32.986Z"
   },
   {
    "duration": 3,
    "start_time": "2022-06-01T03:45:33.035Z"
   },
   {
    "duration": 20,
    "start_time": "2022-06-01T03:45:33.040Z"
   },
   {
    "duration": 150,
    "start_time": "2022-06-01T03:45:33.062Z"
   },
   {
    "duration": 152,
    "start_time": "2022-06-01T03:45:33.213Z"
   },
   {
    "duration": 13,
    "start_time": "2022-06-01T03:45:33.367Z"
   },
   {
    "duration": 145,
    "start_time": "2022-06-01T03:45:33.382Z"
   },
   {
    "duration": 21,
    "start_time": "2022-06-01T03:45:33.529Z"
   },
   {
    "duration": 153,
    "start_time": "2022-06-01T03:45:33.552Z"
   },
   {
    "duration": 255,
    "start_time": "2022-06-01T03:45:33.707Z"
   },
   {
    "duration": 17,
    "start_time": "2022-06-01T03:45:33.964Z"
   },
   {
    "duration": 165,
    "start_time": "2022-06-01T03:45:33.982Z"
   },
   {
    "duration": 164,
    "start_time": "2022-06-01T03:45:34.149Z"
   },
   {
    "duration": 159,
    "start_time": "2022-06-01T03:45:34.315Z"
   },
   {
    "duration": 157,
    "start_time": "2022-06-01T03:45:34.476Z"
   },
   {
    "duration": 159,
    "start_time": "2022-06-01T03:45:34.634Z"
   },
   {
    "duration": 49,
    "start_time": "2022-06-01T03:45:34.794Z"
   },
   {
    "duration": 37,
    "start_time": "2022-06-01T03:45:34.845Z"
   },
   {
    "duration": 50,
    "start_time": "2022-06-01T03:45:34.884Z"
   },
   {
    "duration": 34,
    "start_time": "2022-06-01T03:45:34.935Z"
   },
   {
    "duration": 4,
    "start_time": "2022-06-01T03:45:34.970Z"
   },
   {
    "duration": 54,
    "start_time": "2022-06-01T03:45:34.975Z"
   },
   {
    "duration": 5,
    "start_time": "2022-06-01T03:45:35.031Z"
   },
   {
    "duration": 142,
    "start_time": "2022-06-01T03:45:35.038Z"
   },
   {
    "duration": 145,
    "start_time": "2022-06-01T03:45:35.182Z"
   },
   {
    "duration": 144,
    "start_time": "2022-06-01T03:45:35.329Z"
   },
   {
    "duration": 19,
    "start_time": "2022-06-01T03:50:51.022Z"
   },
   {
    "duration": 17,
    "start_time": "2022-06-01T03:51:57.716Z"
   },
   {
    "duration": 4,
    "start_time": "2022-06-01T03:53:55.401Z"
   },
   {
    "duration": 30,
    "start_time": "2022-06-01T03:54:08.648Z"
   },
   {
    "duration": 13,
    "start_time": "2022-06-01T03:54:32.937Z"
   },
   {
    "duration": 4,
    "start_time": "2022-06-01T03:58:32.576Z"
   },
   {
    "duration": 22,
    "start_time": "2022-06-01T03:59:32.303Z"
   },
   {
    "duration": 110,
    "start_time": "2022-06-01T03:59:49.324Z"
   },
   {
    "duration": 49,
    "start_time": "2022-06-01T03:59:49.435Z"
   },
   {
    "duration": 4,
    "start_time": "2022-06-01T03:59:49.486Z"
   },
   {
    "duration": 31,
    "start_time": "2022-06-01T03:59:49.492Z"
   },
   {
    "duration": 22,
    "start_time": "2022-06-01T03:59:49.524Z"
   },
   {
    "duration": 24,
    "start_time": "2022-06-01T03:59:49.548Z"
   },
   {
    "duration": 12,
    "start_time": "2022-06-01T03:59:49.574Z"
   },
   {
    "duration": 48,
    "start_time": "2022-06-01T03:59:49.588Z"
   },
   {
    "duration": 14,
    "start_time": "2022-06-01T03:59:49.638Z"
   },
   {
    "duration": 9,
    "start_time": "2022-06-01T03:59:49.655Z"
   },
   {
    "duration": 29,
    "start_time": "2022-06-01T03:59:49.666Z"
   },
   {
    "duration": 43,
    "start_time": "2022-06-01T03:59:49.697Z"
   },
   {
    "duration": 10,
    "start_time": "2022-06-01T03:59:49.742Z"
   },
   {
    "duration": 24,
    "start_time": "2022-06-01T03:59:49.754Z"
   },
   {
    "duration": 7,
    "start_time": "2022-06-01T03:59:49.780Z"
   },
   {
    "duration": 43,
    "start_time": "2022-06-01T03:59:49.789Z"
   },
   {
    "duration": 25,
    "start_time": "2022-06-01T03:59:49.834Z"
   },
   {
    "duration": 29,
    "start_time": "2022-06-01T03:59:49.861Z"
   },
   {
    "duration": 4,
    "start_time": "2022-06-01T03:59:49.892Z"
   },
   {
    "duration": 53,
    "start_time": "2022-06-01T03:59:49.897Z"
   },
   {
    "duration": 7,
    "start_time": "2022-06-01T03:59:49.952Z"
   },
   {
    "duration": 11,
    "start_time": "2022-06-01T03:59:49.960Z"
   },
   {
    "duration": 30,
    "start_time": "2022-06-01T03:59:49.972Z"
   },
   {
    "duration": 53,
    "start_time": "2022-06-01T03:59:50.004Z"
   },
   {
    "duration": 15,
    "start_time": "2022-06-01T03:59:50.058Z"
   },
   {
    "duration": 15,
    "start_time": "2022-06-01T03:59:50.075Z"
   },
   {
    "duration": 11,
    "start_time": "2022-06-01T03:59:50.091Z"
   },
   {
    "duration": 25,
    "start_time": "2022-06-01T03:59:50.105Z"
   },
   {
    "duration": 8,
    "start_time": "2022-06-01T03:59:50.132Z"
   },
   {
    "duration": 20,
    "start_time": "2022-06-01T03:59:50.141Z"
   },
   {
    "duration": 24,
    "start_time": "2022-06-01T03:59:50.163Z"
   },
   {
    "duration": 113,
    "start_time": "2022-06-01T03:59:50.188Z"
   },
   {
    "duration": 112,
    "start_time": "2022-06-01T03:59:50.303Z"
   },
   {
    "duration": 110,
    "start_time": "2022-06-01T03:59:50.417Z"
   },
   {
    "duration": 4,
    "start_time": "2022-06-01T03:59:50.529Z"
   },
   {
    "duration": 28,
    "start_time": "2022-06-01T03:59:50.534Z"
   },
   {
    "duration": 107,
    "start_time": "2022-06-01T03:59:50.563Z"
   },
   {
    "duration": 107,
    "start_time": "2022-06-01T03:59:50.671Z"
   },
   {
    "duration": 27,
    "start_time": "2022-06-01T03:59:50.780Z"
   },
   {
    "duration": 34,
    "start_time": "2022-06-01T03:59:50.809Z"
   },
   {
    "duration": 6,
    "start_time": "2022-06-01T03:59:50.845Z"
   },
   {
    "duration": 26,
    "start_time": "2022-06-01T03:59:50.852Z"
   },
   {
    "duration": 32,
    "start_time": "2022-06-01T03:59:50.879Z"
   },
   {
    "duration": 4,
    "start_time": "2022-06-01T03:59:50.927Z"
   },
   {
    "duration": 20,
    "start_time": "2022-06-01T03:59:50.932Z"
   },
   {
    "duration": 145,
    "start_time": "2022-06-01T03:59:50.954Z"
   },
   {
    "duration": 148,
    "start_time": "2022-06-01T03:59:51.101Z"
   },
   {
    "duration": 13,
    "start_time": "2022-06-01T03:59:51.251Z"
   },
   {
    "duration": 165,
    "start_time": "2022-06-01T03:59:51.266Z"
   },
   {
    "duration": 18,
    "start_time": "2022-06-01T03:59:51.432Z"
   },
   {
    "duration": 143,
    "start_time": "2022-06-01T03:59:51.451Z"
   },
   {
    "duration": 135,
    "start_time": "2022-06-01T03:59:51.596Z"
   },
   {
    "duration": 17,
    "start_time": "2022-06-01T03:59:51.733Z"
   },
   {
    "duration": 171,
    "start_time": "2022-06-01T03:59:51.752Z"
   },
   {
    "duration": 160,
    "start_time": "2022-06-01T03:59:51.927Z"
   },
   {
    "duration": 161,
    "start_time": "2022-06-01T03:59:52.088Z"
   },
   {
    "duration": 296,
    "start_time": "2022-06-01T03:59:52.251Z"
   },
   {
    "duration": 155,
    "start_time": "2022-06-01T03:59:52.549Z"
   },
   {
    "duration": 48,
    "start_time": "2022-06-01T03:59:52.705Z"
   },
   {
    "duration": 30,
    "start_time": "2022-06-01T03:59:52.755Z"
   },
   {
    "duration": 44,
    "start_time": "2022-06-01T03:59:52.787Z"
   },
   {
    "duration": 38,
    "start_time": "2022-06-01T03:59:52.832Z"
   },
   {
    "duration": 3,
    "start_time": "2022-06-01T03:59:52.872Z"
   },
   {
    "duration": 36,
    "start_time": "2022-06-01T03:59:52.877Z"
   },
   {
    "duration": 15,
    "start_time": "2022-06-01T03:59:52.914Z"
   },
   {
    "duration": 140,
    "start_time": "2022-06-01T03:59:52.931Z"
   },
   {
    "duration": 136,
    "start_time": "2022-06-01T03:59:53.072Z"
   },
   {
    "duration": 149,
    "start_time": "2022-06-01T03:59:53.210Z"
   },
   {
    "duration": 31,
    "start_time": "2022-06-01T04:07:26.619Z"
   },
   {
    "duration": 4,
    "start_time": "2022-06-01T04:07:29.850Z"
   },
   {
    "duration": 23,
    "start_time": "2022-06-01T04:08:55.423Z"
   },
   {
    "duration": 10,
    "start_time": "2022-06-01T04:11:52.907Z"
   },
   {
    "duration": 3,
    "start_time": "2022-06-01T04:11:54.754Z"
   },
   {
    "duration": 7,
    "start_time": "2022-06-01T04:11:57.730Z"
   },
   {
    "duration": 8,
    "start_time": "2022-06-01T04:12:00.513Z"
   },
   {
    "duration": 114,
    "start_time": "2022-06-01T04:12:04.279Z"
   },
   {
    "duration": 49,
    "start_time": "2022-06-01T04:12:04.395Z"
   },
   {
    "duration": 5,
    "start_time": "2022-06-01T04:12:04.445Z"
   },
   {
    "duration": 19,
    "start_time": "2022-06-01T04:12:04.451Z"
   },
   {
    "duration": 22,
    "start_time": "2022-06-01T04:12:04.471Z"
   },
   {
    "duration": 47,
    "start_time": "2022-06-01T04:12:04.495Z"
   },
   {
    "duration": 8,
    "start_time": "2022-06-01T04:12:04.543Z"
   },
   {
    "duration": 35,
    "start_time": "2022-06-01T04:12:04.552Z"
   },
   {
    "duration": 13,
    "start_time": "2022-06-01T04:12:04.589Z"
   },
   {
    "duration": 12,
    "start_time": "2022-06-01T04:12:04.626Z"
   },
   {
    "duration": 28,
    "start_time": "2022-06-01T04:12:04.640Z"
   },
   {
    "duration": 15,
    "start_time": "2022-06-01T04:12:04.669Z"
   },
   {
    "duration": 42,
    "start_time": "2022-06-01T04:12:04.686Z"
   },
   {
    "duration": 23,
    "start_time": "2022-06-01T04:12:04.730Z"
   },
   {
    "duration": 7,
    "start_time": "2022-06-01T04:12:04.754Z"
   },
   {
    "duration": 13,
    "start_time": "2022-06-01T04:12:04.763Z"
   },
   {
    "duration": 65,
    "start_time": "2022-06-01T04:12:04.777Z"
   },
   {
    "duration": 42,
    "start_time": "2022-06-01T04:12:04.844Z"
   },
   {
    "duration": 4,
    "start_time": "2022-06-01T04:12:04.888Z"
   },
   {
    "duration": 51,
    "start_time": "2022-06-01T04:12:04.894Z"
   },
   {
    "duration": 8,
    "start_time": "2022-06-01T04:12:04.947Z"
   },
   {
    "duration": 18,
    "start_time": "2022-06-01T04:12:04.957Z"
   },
   {
    "duration": 28,
    "start_time": "2022-06-01T04:12:04.976Z"
   },
   {
    "duration": 42,
    "start_time": "2022-06-01T04:12:05.005Z"
   },
   {
    "duration": 15,
    "start_time": "2022-06-01T04:12:05.049Z"
   },
   {
    "duration": 15,
    "start_time": "2022-06-01T04:12:05.066Z"
   },
   {
    "duration": 7,
    "start_time": "2022-06-01T04:12:05.083Z"
   },
   {
    "duration": 27,
    "start_time": "2022-06-01T04:12:05.093Z"
   },
   {
    "duration": 6,
    "start_time": "2022-06-01T04:12:05.122Z"
   },
   {
    "duration": 12,
    "start_time": "2022-06-01T04:12:05.130Z"
   },
   {
    "duration": 28,
    "start_time": "2022-06-01T04:12:05.143Z"
   },
   {
    "duration": 127,
    "start_time": "2022-06-01T04:12:05.173Z"
   },
   {
    "duration": 127,
    "start_time": "2022-06-01T04:12:05.302Z"
   },
   {
    "duration": 107,
    "start_time": "2022-06-01T04:12:05.431Z"
   },
   {
    "duration": 4,
    "start_time": "2022-06-01T04:12:05.540Z"
   },
   {
    "duration": 38,
    "start_time": "2022-06-01T04:12:05.545Z"
   },
   {
    "duration": 111,
    "start_time": "2022-06-01T04:12:05.585Z"
   },
   {
    "duration": 121,
    "start_time": "2022-06-01T04:12:05.699Z"
   },
   {
    "duration": 28,
    "start_time": "2022-06-01T04:12:05.826Z"
   },
   {
    "duration": 22,
    "start_time": "2022-06-01T04:12:05.856Z"
   },
   {
    "duration": 3,
    "start_time": "2022-06-01T04:12:05.879Z"
   },
   {
    "duration": 51,
    "start_time": "2022-06-01T04:12:05.883Z"
   },
   {
    "duration": 33,
    "start_time": "2022-06-01T04:12:05.936Z"
   },
   {
    "duration": 3,
    "start_time": "2022-06-01T04:12:05.971Z"
   },
   {
    "duration": 21,
    "start_time": "2022-06-01T04:12:05.976Z"
   },
   {
    "duration": 157,
    "start_time": "2022-06-01T04:12:05.998Z"
   },
   {
    "duration": 194,
    "start_time": "2022-06-01T04:12:06.156Z"
   },
   {
    "duration": 18,
    "start_time": "2022-06-01T04:12:06.352Z"
   },
   {
    "duration": 162,
    "start_time": "2022-06-01T04:12:06.372Z"
   },
   {
    "duration": 19,
    "start_time": "2022-06-01T04:12:06.536Z"
   },
   {
    "duration": 171,
    "start_time": "2022-06-01T04:12:06.556Z"
   },
   {
    "duration": 136,
    "start_time": "2022-06-01T04:12:06.729Z"
   },
   {
    "duration": 19,
    "start_time": "2022-06-01T04:12:06.867Z"
   },
   {
    "duration": 175,
    "start_time": "2022-06-01T04:12:06.888Z"
   },
   {
    "duration": 172,
    "start_time": "2022-06-01T04:12:07.064Z"
   },
   {
    "duration": 176,
    "start_time": "2022-06-01T04:12:07.238Z"
   },
   {
    "duration": 169,
    "start_time": "2022-06-01T04:12:07.415Z"
   },
   {
    "duration": 163,
    "start_time": "2022-06-01T04:12:07.586Z"
   },
   {
    "duration": 37,
    "start_time": "2022-06-01T04:12:07.751Z"
   },
   {
    "duration": 46,
    "start_time": "2022-06-01T04:12:07.789Z"
   },
   {
    "duration": 39,
    "start_time": "2022-06-01T04:12:07.837Z"
   },
   {
    "duration": 32,
    "start_time": "2022-06-01T04:12:07.878Z"
   },
   {
    "duration": 17,
    "start_time": "2022-06-01T04:12:07.911Z"
   },
   {
    "duration": 36,
    "start_time": "2022-06-01T04:12:07.930Z"
   },
   {
    "duration": 5,
    "start_time": "2022-06-01T04:12:07.968Z"
   },
   {
    "duration": 156,
    "start_time": "2022-06-01T04:12:07.975Z"
   },
   {
    "duration": 143,
    "start_time": "2022-06-01T04:12:08.133Z"
   },
   {
    "duration": 152,
    "start_time": "2022-06-01T04:12:08.278Z"
   },
   {
    "duration": 134,
    "start_time": "2022-06-01T04:15:13.604Z"
   },
   {
    "duration": 134,
    "start_time": "2022-06-01T04:15:19.093Z"
   },
   {
    "duration": 19,
    "start_time": "2022-06-01T04:17:43.912Z"
   },
   {
    "duration": 164,
    "start_time": "2022-06-01T04:17:50.241Z"
   },
   {
    "duration": 352,
    "start_time": "2022-06-01T04:18:01.063Z"
   },
   {
    "duration": 1014,
    "start_time": "2022-06-01T15:38:21.000Z"
   },
   {
    "duration": 87,
    "start_time": "2022-06-01T15:38:22.015Z"
   },
   {
    "duration": 5,
    "start_time": "2022-06-01T15:38:22.104Z"
   },
   {
    "duration": 21,
    "start_time": "2022-06-01T15:38:22.112Z"
   },
   {
    "duration": 22,
    "start_time": "2022-06-01T15:38:22.135Z"
   },
   {
    "duration": 36,
    "start_time": "2022-06-01T15:38:22.158Z"
   },
   {
    "duration": 19,
    "start_time": "2022-06-01T15:38:22.195Z"
   },
   {
    "duration": 39,
    "start_time": "2022-06-01T15:38:22.216Z"
   },
   {
    "duration": 14,
    "start_time": "2022-06-01T15:38:22.256Z"
   },
   {
    "duration": 9,
    "start_time": "2022-06-01T15:38:22.273Z"
   },
   {
    "duration": 31,
    "start_time": "2022-06-01T15:38:22.284Z"
   },
   {
    "duration": 36,
    "start_time": "2022-06-01T15:38:22.317Z"
   },
   {
    "duration": 10,
    "start_time": "2022-06-01T15:38:22.356Z"
   },
   {
    "duration": 23,
    "start_time": "2022-06-01T15:38:22.368Z"
   },
   {
    "duration": 8,
    "start_time": "2022-06-01T15:38:22.394Z"
   },
   {
    "duration": 16,
    "start_time": "2022-06-01T15:38:22.404Z"
   },
   {
    "duration": 50,
    "start_time": "2022-06-01T15:38:22.423Z"
   },
   {
    "duration": 30,
    "start_time": "2022-06-01T15:38:22.475Z"
   },
   {
    "duration": 4,
    "start_time": "2022-06-01T15:38:22.507Z"
   },
   {
    "duration": 50,
    "start_time": "2022-06-01T15:38:22.513Z"
   },
   {
    "duration": 9,
    "start_time": "2022-06-01T15:38:22.566Z"
   },
   {
    "duration": 9,
    "start_time": "2022-06-01T15:38:22.577Z"
   },
   {
    "duration": 34,
    "start_time": "2022-06-01T15:38:22.587Z"
   },
   {
    "duration": 55,
    "start_time": "2022-06-01T15:38:22.623Z"
   },
   {
    "duration": 15,
    "start_time": "2022-06-01T15:38:22.680Z"
   },
   {
    "duration": 5,
    "start_time": "2022-06-01T15:38:22.697Z"
   },
   {
    "duration": 7,
    "start_time": "2022-06-01T15:38:22.703Z"
   },
   {
    "duration": 14,
    "start_time": "2022-06-01T15:38:22.713Z"
   },
   {
    "duration": 32,
    "start_time": "2022-06-01T15:38:22.728Z"
   },
   {
    "duration": 25,
    "start_time": "2022-06-01T15:38:22.762Z"
   },
   {
    "duration": 25,
    "start_time": "2022-06-01T15:38:22.789Z"
   },
   {
    "duration": 122,
    "start_time": "2022-06-01T15:38:22.815Z"
   },
   {
    "duration": 133,
    "start_time": "2022-06-01T15:38:22.939Z"
   },
   {
    "duration": 101,
    "start_time": "2022-06-01T15:38:23.073Z"
   },
   {
    "duration": 4,
    "start_time": "2022-06-01T15:38:23.176Z"
   },
   {
    "duration": 30,
    "start_time": "2022-06-01T15:38:23.181Z"
   },
   {
    "duration": 116,
    "start_time": "2022-06-01T15:38:23.213Z"
   },
   {
    "duration": 110,
    "start_time": "2022-06-01T15:38:23.331Z"
   },
   {
    "duration": 31,
    "start_time": "2022-06-01T15:38:23.451Z"
   },
   {
    "duration": 24,
    "start_time": "2022-06-01T15:38:23.484Z"
   },
   {
    "duration": 2,
    "start_time": "2022-06-01T15:38:23.510Z"
   },
   {
    "duration": 48,
    "start_time": "2022-06-01T15:38:23.514Z"
   },
   {
    "duration": 37,
    "start_time": "2022-06-01T15:38:23.564Z"
   },
   {
    "duration": 5,
    "start_time": "2022-06-01T15:38:23.602Z"
   },
   {
    "duration": 19,
    "start_time": "2022-06-01T15:38:23.608Z"
   },
   {
    "duration": 149,
    "start_time": "2022-06-01T15:38:23.652Z"
   },
   {
    "duration": 151,
    "start_time": "2022-06-01T15:38:23.803Z"
   },
   {
    "duration": 16,
    "start_time": "2022-06-01T15:38:23.955Z"
   },
   {
    "duration": 158,
    "start_time": "2022-06-01T15:38:23.973Z"
   },
   {
    "duration": 31,
    "start_time": "2022-06-01T15:38:24.134Z"
   },
   {
    "duration": 227,
    "start_time": "2022-06-01T15:38:24.166Z"
   },
   {
    "duration": 138,
    "start_time": "2022-06-01T15:38:24.395Z"
   },
   {
    "duration": 24,
    "start_time": "2022-06-01T15:38:24.534Z"
   },
   {
    "duration": 173,
    "start_time": "2022-06-01T15:38:24.560Z"
   },
   {
    "duration": 175,
    "start_time": "2022-06-01T15:38:24.735Z"
   },
   {
    "duration": 170,
    "start_time": "2022-06-01T15:38:24.911Z"
   },
   {
    "duration": 215,
    "start_time": "2022-06-01T15:38:25.082Z"
   },
   {
    "duration": 215,
    "start_time": "2022-06-01T15:38:25.300Z"
   },
   {
    "duration": 46,
    "start_time": "2022-06-01T15:38:25.517Z"
   },
   {
    "duration": 32,
    "start_time": "2022-06-01T15:38:25.564Z"
   },
   {
    "duration": 32,
    "start_time": "2022-06-01T15:38:25.598Z"
   },
   {
    "duration": 32,
    "start_time": "2022-06-01T15:38:25.653Z"
   },
   {
    "duration": 4,
    "start_time": "2022-06-01T15:38:25.686Z"
   },
   {
    "duration": 37,
    "start_time": "2022-06-01T15:38:25.691Z"
   },
   {
    "duration": 23,
    "start_time": "2022-06-01T15:38:25.730Z"
   },
   {
    "duration": 150,
    "start_time": "2022-06-01T15:38:25.754Z"
   },
   {
    "duration": 148,
    "start_time": "2022-06-01T15:38:25.905Z"
   },
   {
    "duration": 149,
    "start_time": "2022-06-01T15:38:26.055Z"
   },
   {
    "duration": 5,
    "start_time": "2022-06-01T15:57:35.224Z"
   },
   {
    "duration": 5,
    "start_time": "2022-06-01T15:59:21.828Z"
   },
   {
    "duration": 47,
    "start_time": "2022-06-01T16:02:51.396Z"
   },
   {
    "duration": 4,
    "start_time": "2022-06-01T16:05:29.954Z"
   },
   {
    "duration": 8,
    "start_time": "2022-06-01T16:14:43.579Z"
   },
   {
    "duration": 853,
    "start_time": "2022-06-01T16:20:45.152Z"
   },
   {
    "duration": 48,
    "start_time": "2022-06-01T16:20:46.007Z"
   },
   {
    "duration": 5,
    "start_time": "2022-06-01T16:20:46.056Z"
   },
   {
    "duration": 23,
    "start_time": "2022-06-01T16:20:46.063Z"
   },
   {
    "duration": 22,
    "start_time": "2022-06-01T16:20:46.088Z"
   },
   {
    "duration": 44,
    "start_time": "2022-06-01T16:20:46.112Z"
   },
   {
    "duration": 14,
    "start_time": "2022-06-01T16:20:46.158Z"
   },
   {
    "duration": 36,
    "start_time": "2022-06-01T16:20:46.173Z"
   },
   {
    "duration": 42,
    "start_time": "2022-06-01T16:20:46.211Z"
   },
   {
    "duration": 9,
    "start_time": "2022-06-01T16:20:46.255Z"
   },
   {
    "duration": 37,
    "start_time": "2022-06-01T16:20:46.266Z"
   },
   {
    "duration": 15,
    "start_time": "2022-06-01T16:20:46.304Z"
   },
   {
    "duration": 35,
    "start_time": "2022-06-01T16:20:46.321Z"
   },
   {
    "duration": 22,
    "start_time": "2022-06-01T16:20:46.359Z"
   },
   {
    "duration": 7,
    "start_time": "2022-06-01T16:20:46.383Z"
   },
   {
    "duration": 14,
    "start_time": "2022-06-01T16:20:46.391Z"
   },
   {
    "duration": 57,
    "start_time": "2022-06-01T16:20:46.407Z"
   },
   {
    "duration": 30,
    "start_time": "2022-06-01T16:20:46.466Z"
   },
   {
    "duration": 4,
    "start_time": "2022-06-01T16:20:46.498Z"
   },
   {
    "duration": 33,
    "start_time": "2022-06-01T16:20:46.503Z"
   },
   {
    "duration": 20,
    "start_time": "2022-06-01T16:20:46.538Z"
   },
   {
    "duration": 12,
    "start_time": "2022-06-01T16:20:46.560Z"
   },
   {
    "duration": 29,
    "start_time": "2022-06-01T16:20:46.574Z"
   },
   {
    "duration": 52,
    "start_time": "2022-06-01T16:20:46.606Z"
   },
   {
    "duration": 17,
    "start_time": "2022-06-01T16:20:46.659Z"
   },
   {
    "duration": 8,
    "start_time": "2022-06-01T16:20:46.677Z"
   },
   {
    "duration": 8,
    "start_time": "2022-06-01T16:20:46.686Z"
   },
   {
    "duration": 14,
    "start_time": "2022-06-01T16:20:46.696Z"
   },
   {
    "duration": 5,
    "start_time": "2022-06-01T16:20:46.712Z"
   },
   {
    "duration": 9,
    "start_time": "2022-06-01T16:21:02.470Z"
   },
   {
    "duration": 5,
    "start_time": "2022-06-01T16:22:12.100Z"
   },
   {
    "duration": 812,
    "start_time": "2022-06-01T16:22:26.022Z"
   },
   {
    "duration": 47,
    "start_time": "2022-06-01T16:22:26.835Z"
   },
   {
    "duration": 5,
    "start_time": "2022-06-01T16:22:26.883Z"
   },
   {
    "duration": 19,
    "start_time": "2022-06-01T16:22:26.889Z"
   },
   {
    "duration": 28,
    "start_time": "2022-06-01T16:22:26.910Z"
   },
   {
    "duration": 42,
    "start_time": "2022-06-01T16:22:26.953Z"
   },
   {
    "duration": 12,
    "start_time": "2022-06-01T16:22:26.997Z"
   },
   {
    "duration": 59,
    "start_time": "2022-06-01T16:22:27.010Z"
   },
   {
    "duration": 15,
    "start_time": "2022-06-01T16:22:27.071Z"
   },
   {
    "duration": 12,
    "start_time": "2022-06-01T16:22:27.088Z"
   },
   {
    "duration": 58,
    "start_time": "2022-06-01T16:22:27.102Z"
   },
   {
    "duration": 16,
    "start_time": "2022-06-01T16:22:27.162Z"
   },
   {
    "duration": 10,
    "start_time": "2022-06-01T16:22:27.179Z"
   },
   {
    "duration": 25,
    "start_time": "2022-06-01T16:22:27.192Z"
   },
   {
    "duration": 37,
    "start_time": "2022-06-01T16:22:27.218Z"
   },
   {
    "duration": 14,
    "start_time": "2022-06-01T16:22:27.257Z"
   },
   {
    "duration": 31,
    "start_time": "2022-06-01T16:22:27.272Z"
   },
   {
    "duration": 49,
    "start_time": "2022-06-01T16:22:27.305Z"
   },
   {
    "duration": 4,
    "start_time": "2022-06-01T16:22:27.356Z"
   },
   {
    "duration": 29,
    "start_time": "2022-06-01T16:22:27.362Z"
   },
   {
    "duration": 8,
    "start_time": "2022-06-01T16:22:27.393Z"
   },
   {
    "duration": 11,
    "start_time": "2022-06-01T16:22:27.402Z"
   },
   {
    "duration": 56,
    "start_time": "2022-06-01T16:22:27.415Z"
   },
   {
    "duration": 29,
    "start_time": "2022-06-01T16:22:27.472Z"
   },
   {
    "duration": 16,
    "start_time": "2022-06-01T16:22:27.503Z"
   },
   {
    "duration": 15,
    "start_time": "2022-06-01T16:22:27.520Z"
   },
   {
    "duration": 18,
    "start_time": "2022-06-01T16:22:27.536Z"
   },
   {
    "duration": 16,
    "start_time": "2022-06-01T16:22:27.555Z"
   },
   {
    "duration": 15,
    "start_time": "2022-06-01T16:22:27.573Z"
   },
   {
    "duration": 16,
    "start_time": "2022-06-01T16:22:27.590Z"
   },
   {
    "duration": 28,
    "start_time": "2022-06-01T16:22:27.607Z"
   },
   {
    "duration": 131,
    "start_time": "2022-06-01T16:22:27.637Z"
   },
   {
    "duration": 126,
    "start_time": "2022-06-01T16:22:27.769Z"
   },
   {
    "duration": 113,
    "start_time": "2022-06-01T16:22:27.897Z"
   },
   {
    "duration": 4,
    "start_time": "2022-06-01T16:22:28.012Z"
   },
   {
    "duration": 43,
    "start_time": "2022-06-01T16:22:28.017Z"
   },
   {
    "duration": 157,
    "start_time": "2022-06-01T16:22:28.061Z"
   },
   {
    "duration": 119,
    "start_time": "2022-06-01T16:22:28.220Z"
   },
   {
    "duration": 36,
    "start_time": "2022-06-01T16:22:28.341Z"
   },
   {
    "duration": 23,
    "start_time": "2022-06-01T16:22:28.379Z"
   },
   {
    "duration": 3,
    "start_time": "2022-06-01T16:22:28.405Z"
   },
   {
    "duration": 57,
    "start_time": "2022-06-01T16:22:28.410Z"
   },
   {
    "duration": 33,
    "start_time": "2022-06-01T16:22:28.469Z"
   },
   {
    "duration": 4,
    "start_time": "2022-06-01T16:22:28.504Z"
   },
   {
    "duration": 43,
    "start_time": "2022-06-01T16:22:28.509Z"
   },
   {
    "duration": 160,
    "start_time": "2022-06-01T16:22:28.554Z"
   },
   {
    "duration": 157,
    "start_time": "2022-06-01T16:22:28.716Z"
   },
   {
    "duration": 15,
    "start_time": "2022-06-01T16:22:28.875Z"
   },
   {
    "duration": 161,
    "start_time": "2022-06-01T16:22:28.892Z"
   },
   {
    "duration": 21,
    "start_time": "2022-06-01T16:22:29.055Z"
   },
   {
    "duration": 232,
    "start_time": "2022-06-01T16:22:29.078Z"
   },
   {
    "duration": 147,
    "start_time": "2022-06-01T16:22:29.311Z"
   },
   {
    "duration": 19,
    "start_time": "2022-06-01T16:22:29.460Z"
   },
   {
    "duration": 191,
    "start_time": "2022-06-01T16:22:29.481Z"
   },
   {
    "duration": 183,
    "start_time": "2022-06-01T16:22:29.674Z"
   },
   {
    "duration": 181,
    "start_time": "2022-06-01T16:22:29.858Z"
   },
   {
    "duration": 189,
    "start_time": "2022-06-01T16:22:30.040Z"
   },
   {
    "duration": 170,
    "start_time": "2022-06-01T16:22:30.231Z"
   },
   {
    "duration": 49,
    "start_time": "2022-06-01T16:22:30.403Z"
   },
   {
    "duration": 36,
    "start_time": "2022-06-01T16:22:30.454Z"
   },
   {
    "duration": 33,
    "start_time": "2022-06-01T16:22:30.491Z"
   },
   {
    "duration": 65,
    "start_time": "2022-06-01T16:22:30.526Z"
   },
   {
    "duration": 12,
    "start_time": "2022-06-01T16:22:30.592Z"
   },
   {
    "duration": 91,
    "start_time": "2022-06-01T16:22:30.606Z"
   },
   {
    "duration": 5,
    "start_time": "2022-06-01T16:22:30.699Z"
   },
   {
    "duration": 141,
    "start_time": "2022-06-01T16:22:30.706Z"
   },
   {
    "duration": 147,
    "start_time": "2022-06-01T16:22:30.848Z"
   },
   {
    "duration": 145,
    "start_time": "2022-06-01T16:22:30.997Z"
   },
   {
    "duration": 926,
    "start_time": "2022-06-01T16:33:35.558Z"
   },
   {
    "duration": 76,
    "start_time": "2022-06-01T16:33:36.486Z"
   },
   {
    "duration": 4,
    "start_time": "2022-06-01T16:33:36.564Z"
   },
   {
    "duration": 20,
    "start_time": "2022-06-01T16:33:36.570Z"
   },
   {
    "duration": 22,
    "start_time": "2022-06-01T16:33:36.591Z"
   },
   {
    "duration": 49,
    "start_time": "2022-06-01T16:33:36.614Z"
   },
   {
    "duration": 11,
    "start_time": "2022-06-01T16:33:36.664Z"
   },
   {
    "duration": 32,
    "start_time": "2022-06-01T16:33:36.677Z"
   },
   {
    "duration": 15,
    "start_time": "2022-06-01T16:33:36.711Z"
   },
   {
    "duration": 9,
    "start_time": "2022-06-01T16:33:36.753Z"
   },
   {
    "duration": 29,
    "start_time": "2022-06-01T16:33:36.764Z"
   },
   {
    "duration": 15,
    "start_time": "2022-06-01T16:33:36.795Z"
   },
   {
    "duration": 41,
    "start_time": "2022-06-01T16:33:36.812Z"
   },
   {
    "duration": 24,
    "start_time": "2022-06-01T16:33:36.855Z"
   },
   {
    "duration": 9,
    "start_time": "2022-06-01T16:33:36.881Z"
   },
   {
    "duration": 13,
    "start_time": "2022-06-01T16:33:36.892Z"
   },
   {
    "duration": 63,
    "start_time": "2022-06-01T16:33:36.907Z"
   },
   {
    "duration": 33,
    "start_time": "2022-06-01T16:33:36.972Z"
   },
   {
    "duration": 6,
    "start_time": "2022-06-01T16:33:37.007Z"
   },
   {
    "duration": 55,
    "start_time": "2022-06-01T16:33:37.014Z"
   },
   {
    "duration": 8,
    "start_time": "2022-06-01T16:33:37.071Z"
   },
   {
    "duration": 11,
    "start_time": "2022-06-01T16:33:37.080Z"
   },
   {
    "duration": 32,
    "start_time": "2022-06-01T16:33:37.093Z"
   },
   {
    "duration": 52,
    "start_time": "2022-06-01T16:33:37.127Z"
   },
   {
    "duration": 26,
    "start_time": "2022-06-01T16:33:37.181Z"
   },
   {
    "duration": 7,
    "start_time": "2022-06-01T16:33:37.209Z"
   },
   {
    "duration": 35,
    "start_time": "2022-06-01T16:33:37.217Z"
   },
   {
    "duration": 13,
    "start_time": "2022-06-01T16:33:37.256Z"
   },
   {
    "duration": 5,
    "start_time": "2022-06-01T16:33:37.270Z"
   },
   {
    "duration": 11,
    "start_time": "2022-06-01T16:33:37.277Z"
   },
   {
    "duration": 60,
    "start_time": "2022-06-01T16:33:37.299Z"
   },
   {
    "duration": 154,
    "start_time": "2022-06-01T16:33:37.360Z"
   },
   {
    "duration": 121,
    "start_time": "2022-06-01T16:33:37.516Z"
   },
   {
    "duration": 120,
    "start_time": "2022-06-01T16:33:37.639Z"
   },
   {
    "duration": 6,
    "start_time": "2022-06-01T16:33:37.760Z"
   },
   {
    "duration": 42,
    "start_time": "2022-06-01T16:33:37.768Z"
   },
   {
    "duration": 119,
    "start_time": "2022-06-01T16:33:37.812Z"
   },
   {
    "duration": 111,
    "start_time": "2022-06-01T16:33:37.933Z"
   },
   {
    "duration": 48,
    "start_time": "2022-06-01T16:33:38.045Z"
   },
   {
    "duration": 23,
    "start_time": "2022-06-01T16:33:38.094Z"
   },
   {
    "duration": 6,
    "start_time": "2022-06-01T16:33:38.118Z"
   },
   {
    "duration": 59,
    "start_time": "2022-06-01T16:33:38.126Z"
   },
   {
    "duration": 49,
    "start_time": "2022-06-01T16:33:38.187Z"
   },
   {
    "duration": 14,
    "start_time": "2022-06-01T16:33:38.239Z"
   },
   {
    "duration": 26,
    "start_time": "2022-06-01T16:33:38.255Z"
   },
   {
    "duration": 160,
    "start_time": "2022-06-01T16:33:38.283Z"
   },
   {
    "duration": 154,
    "start_time": "2022-06-01T16:33:38.445Z"
   },
   {
    "duration": 23,
    "start_time": "2022-06-01T16:33:38.600Z"
   },
   {
    "duration": 150,
    "start_time": "2022-06-01T16:33:38.625Z"
   },
   {
    "duration": 21,
    "start_time": "2022-06-01T16:33:38.776Z"
   },
   {
    "duration": 231,
    "start_time": "2022-06-01T16:33:38.799Z"
   },
   {
    "duration": 144,
    "start_time": "2022-06-01T16:33:39.032Z"
   },
   {
    "duration": 19,
    "start_time": "2022-06-01T16:33:39.178Z"
   },
   {
    "duration": 181,
    "start_time": "2022-06-01T16:33:39.199Z"
   },
   {
    "duration": 180,
    "start_time": "2022-06-01T16:33:39.382Z"
   },
   {
    "duration": 227,
    "start_time": "2022-06-01T16:33:39.564Z"
   },
   {
    "duration": 177,
    "start_time": "2022-06-01T16:33:39.793Z"
   },
   {
    "duration": 195,
    "start_time": "2022-06-01T16:33:39.972Z"
   },
   {
    "duration": 45,
    "start_time": "2022-06-01T16:33:40.169Z"
   },
   {
    "duration": 61,
    "start_time": "2022-06-01T16:33:40.216Z"
   },
   {
    "duration": 46,
    "start_time": "2022-06-01T16:33:40.279Z"
   },
   {
    "duration": 43,
    "start_time": "2022-06-01T16:33:40.328Z"
   },
   {
    "duration": 24,
    "start_time": "2022-06-01T16:33:40.373Z"
   },
   {
    "duration": 45,
    "start_time": "2022-06-01T16:33:40.398Z"
   },
   {
    "duration": 16,
    "start_time": "2022-06-01T16:33:40.445Z"
   },
   {
    "duration": 150,
    "start_time": "2022-06-01T16:33:40.463Z"
   },
   {
    "duration": 141,
    "start_time": "2022-06-01T16:33:40.614Z"
   },
   {
    "duration": 165,
    "start_time": "2022-06-01T16:33:40.757Z"
   },
   {
    "duration": 61,
    "start_time": "2022-06-02T02:17:18.652Z"
   },
   {
    "duration": 1177,
    "start_time": "2022-06-02T02:17:23.246Z"
   },
   {
    "duration": 87,
    "start_time": "2022-06-02T02:17:24.425Z"
   },
   {
    "duration": 5,
    "start_time": "2022-06-02T02:17:24.513Z"
   },
   {
    "duration": 34,
    "start_time": "2022-06-02T02:17:24.520Z"
   },
   {
    "duration": 23,
    "start_time": "2022-06-02T02:17:24.556Z"
   },
   {
    "duration": 33,
    "start_time": "2022-06-02T02:17:24.581Z"
   },
   {
    "duration": 23,
    "start_time": "2022-06-02T02:17:24.615Z"
   },
   {
    "duration": 35,
    "start_time": "2022-06-02T02:17:24.640Z"
   },
   {
    "duration": 22,
    "start_time": "2022-06-02T02:17:24.677Z"
   },
   {
    "duration": 10,
    "start_time": "2022-06-02T02:17:24.702Z"
   },
   {
    "duration": 28,
    "start_time": "2022-06-02T02:17:24.714Z"
   },
   {
    "duration": 17,
    "start_time": "2022-06-02T02:17:24.744Z"
   },
   {
    "duration": 43,
    "start_time": "2022-06-02T02:17:24.762Z"
   },
   {
    "duration": 24,
    "start_time": "2022-06-02T02:17:24.807Z"
   },
   {
    "duration": 8,
    "start_time": "2022-06-02T02:17:24.833Z"
   },
   {
    "duration": 15,
    "start_time": "2022-06-02T02:17:24.843Z"
   },
   {
    "duration": 54,
    "start_time": "2022-06-02T02:17:24.860Z"
   },
   {
    "duration": 13,
    "start_time": "2022-06-02T02:17:24.915Z"
   },
   {
    "duration": 6,
    "start_time": "2022-06-02T02:17:24.930Z"
   },
   {
    "duration": 32,
    "start_time": "2022-06-02T02:17:24.938Z"
   },
   {
    "duration": 35,
    "start_time": "2022-06-02T02:17:24.973Z"
   },
   {
    "duration": 35,
    "start_time": "2022-06-02T02:17:25.010Z"
   },
   {
    "duration": 46,
    "start_time": "2022-06-02T02:17:25.046Z"
   },
   {
    "duration": 31,
    "start_time": "2022-06-02T02:17:25.093Z"
   },
   {
    "duration": 22,
    "start_time": "2022-06-02T02:17:25.126Z"
   },
   {
    "duration": 22,
    "start_time": "2022-06-02T02:17:25.150Z"
   },
   {
    "duration": 12,
    "start_time": "2022-06-02T02:17:25.174Z"
   },
   {
    "duration": 33,
    "start_time": "2022-06-02T02:17:25.192Z"
   },
   {
    "duration": 13,
    "start_time": "2022-06-02T02:17:25.227Z"
   },
   {
    "duration": 24,
    "start_time": "2022-06-02T02:17:25.242Z"
   },
   {
    "duration": 39,
    "start_time": "2022-06-02T02:17:25.268Z"
   },
   {
    "duration": 132,
    "start_time": "2022-06-02T02:17:25.309Z"
   },
   {
    "duration": 127,
    "start_time": "2022-06-02T02:17:25.443Z"
   },
   {
    "duration": 115,
    "start_time": "2022-06-02T02:17:25.572Z"
   },
   {
    "duration": 13,
    "start_time": "2022-06-02T02:17:25.689Z"
   },
   {
    "duration": 34,
    "start_time": "2022-06-02T02:17:25.703Z"
   },
   {
    "duration": 112,
    "start_time": "2022-06-02T02:17:25.739Z"
   },
   {
    "duration": 118,
    "start_time": "2022-06-02T02:17:25.852Z"
   },
   {
    "duration": 44,
    "start_time": "2022-06-02T02:17:25.972Z"
   },
   {
    "duration": 28,
    "start_time": "2022-06-02T02:17:26.017Z"
   },
   {
    "duration": 9,
    "start_time": "2022-06-02T02:17:26.047Z"
   },
   {
    "duration": 42,
    "start_time": "2022-06-02T02:17:26.058Z"
   },
   {
    "duration": 39,
    "start_time": "2022-06-02T02:17:26.102Z"
   },
   {
    "duration": 4,
    "start_time": "2022-06-02T02:17:26.143Z"
   },
   {
    "duration": 41,
    "start_time": "2022-06-02T02:17:26.149Z"
   },
   {
    "duration": 153,
    "start_time": "2022-06-02T02:17:26.191Z"
   },
   {
    "duration": 161,
    "start_time": "2022-06-02T02:17:26.345Z"
   },
   {
    "duration": 14,
    "start_time": "2022-06-02T02:17:26.508Z"
   },
   {
    "duration": 170,
    "start_time": "2022-06-02T02:17:26.524Z"
   },
   {
    "duration": 22,
    "start_time": "2022-06-02T02:17:26.696Z"
   },
   {
    "duration": 231,
    "start_time": "2022-06-02T02:17:26.720Z"
   },
   {
    "duration": 161,
    "start_time": "2022-06-02T02:17:26.953Z"
   },
   {
    "duration": 20,
    "start_time": "2022-06-02T02:17:27.116Z"
   },
   {
    "duration": 195,
    "start_time": "2022-06-02T02:17:27.138Z"
   },
   {
    "duration": 190,
    "start_time": "2022-06-02T02:17:27.334Z"
   },
   {
    "duration": 178,
    "start_time": "2022-06-02T02:17:27.525Z"
   },
   {
    "duration": 188,
    "start_time": "2022-06-02T02:17:27.705Z"
   },
   {
    "duration": 171,
    "start_time": "2022-06-02T02:17:27.894Z"
   },
   {
    "duration": 42,
    "start_time": "2022-06-02T02:17:28.066Z"
   },
   {
    "duration": 33,
    "start_time": "2022-06-02T02:17:28.109Z"
   },
   {
    "duration": 55,
    "start_time": "2022-06-02T02:17:28.144Z"
   },
   {
    "duration": 35,
    "start_time": "2022-06-02T02:17:28.201Z"
   },
   {
    "duration": 4,
    "start_time": "2022-06-02T02:17:28.238Z"
   },
   {
    "duration": 62,
    "start_time": "2022-06-02T02:17:28.244Z"
   },
   {
    "duration": 6,
    "start_time": "2022-06-02T02:17:28.308Z"
   },
   {
    "duration": 162,
    "start_time": "2022-06-02T02:17:28.316Z"
   },
   {
    "duration": 150,
    "start_time": "2022-06-02T02:17:28.480Z"
   },
   {
    "duration": 157,
    "start_time": "2022-06-02T02:17:28.632Z"
   },
   {
    "duration": 13,
    "start_time": "2022-06-02T02:17:52.399Z"
   },
   {
    "duration": 8,
    "start_time": "2022-06-02T02:18:06.072Z"
   },
   {
    "duration": 42,
    "start_time": "2022-06-02T02:18:12.733Z"
   },
   {
    "duration": 44,
    "start_time": "2022-06-02T02:20:28.243Z"
   },
   {
    "duration": 11,
    "start_time": "2022-06-02T02:20:39.209Z"
   },
   {
    "duration": 117,
    "start_time": "2022-06-02T02:20:54.656Z"
   },
   {
    "duration": 49,
    "start_time": "2022-06-02T02:20:54.775Z"
   },
   {
    "duration": 5,
    "start_time": "2022-06-02T02:20:54.825Z"
   },
   {
    "duration": 18,
    "start_time": "2022-06-02T02:20:54.832Z"
   },
   {
    "duration": 22,
    "start_time": "2022-06-02T02:20:54.852Z"
   },
   {
    "duration": 47,
    "start_time": "2022-06-02T02:20:54.876Z"
   },
   {
    "duration": 11,
    "start_time": "2022-06-02T02:20:54.925Z"
   },
   {
    "duration": 63,
    "start_time": "2022-06-02T02:20:54.938Z"
   },
   {
    "duration": 15,
    "start_time": "2022-06-02T02:20:55.003Z"
   },
   {
    "duration": 20,
    "start_time": "2022-06-02T02:20:55.021Z"
   },
   {
    "duration": 37,
    "start_time": "2022-06-02T02:20:55.043Z"
   },
   {
    "duration": 34,
    "start_time": "2022-06-02T02:20:55.081Z"
   },
   {
    "duration": 13,
    "start_time": "2022-06-02T02:20:55.117Z"
   },
   {
    "duration": 26,
    "start_time": "2022-06-02T02:20:55.132Z"
   },
   {
    "duration": 40,
    "start_time": "2022-06-02T02:20:55.160Z"
   },
   {
    "duration": 15,
    "start_time": "2022-06-02T02:20:55.202Z"
   },
   {
    "duration": 27,
    "start_time": "2022-06-02T02:20:55.218Z"
   },
   {
    "duration": 12,
    "start_time": "2022-06-02T02:20:55.248Z"
   },
   {
    "duration": 5,
    "start_time": "2022-06-02T02:20:55.262Z"
   },
   {
    "duration": 54,
    "start_time": "2022-06-02T02:20:55.268Z"
   },
   {
    "duration": 11,
    "start_time": "2022-06-02T02:20:55.324Z"
   },
   {
    "duration": 20,
    "start_time": "2022-06-02T02:20:55.337Z"
   },
   {
    "duration": 42,
    "start_time": "2022-06-02T02:20:55.358Z"
   },
   {
    "duration": 30,
    "start_time": "2022-06-02T02:20:55.402Z"
   },
   {
    "duration": 16,
    "start_time": "2022-06-02T02:20:55.433Z"
   },
   {
    "duration": 11,
    "start_time": "2022-06-02T02:20:55.451Z"
   },
   {
    "duration": 7,
    "start_time": "2022-06-02T02:20:55.464Z"
   },
   {
    "duration": 33,
    "start_time": "2022-06-02T02:20:55.474Z"
   },
   {
    "duration": 6,
    "start_time": "2022-06-02T02:20:55.509Z"
   },
   {
    "duration": 15,
    "start_time": "2022-06-02T02:20:55.516Z"
   },
   {
    "duration": 28,
    "start_time": "2022-06-02T02:20:55.533Z"
   },
   {
    "duration": 156,
    "start_time": "2022-06-02T02:20:55.563Z"
   },
   {
    "duration": 217,
    "start_time": "2022-06-02T02:20:55.721Z"
   },
   {
    "duration": 114,
    "start_time": "2022-06-02T02:20:55.940Z"
   },
   {
    "duration": 6,
    "start_time": "2022-06-02T02:20:56.056Z"
   },
   {
    "duration": 43,
    "start_time": "2022-06-02T02:20:56.064Z"
   },
   {
    "duration": 117,
    "start_time": "2022-06-02T02:20:56.110Z"
   },
   {
    "duration": 127,
    "start_time": "2022-06-02T02:20:56.229Z"
   },
   {
    "duration": 31,
    "start_time": "2022-06-02T02:20:56.358Z"
   },
   {
    "duration": 34,
    "start_time": "2022-06-02T02:20:56.390Z"
   },
   {
    "duration": 6,
    "start_time": "2022-06-02T02:20:56.426Z"
   },
   {
    "duration": 28,
    "start_time": "2022-06-02T02:20:56.434Z"
   },
   {
    "duration": 55,
    "start_time": "2022-06-02T02:20:56.464Z"
   },
   {
    "duration": 3,
    "start_time": "2022-06-02T02:20:56.521Z"
   },
   {
    "duration": 29,
    "start_time": "2022-06-02T02:20:56.525Z"
   },
   {
    "duration": 153,
    "start_time": "2022-06-02T02:20:56.556Z"
   },
   {
    "duration": 154,
    "start_time": "2022-06-02T02:20:56.711Z"
   },
   {
    "duration": 15,
    "start_time": "2022-06-02T02:20:56.866Z"
   },
   {
    "duration": 164,
    "start_time": "2022-06-02T02:20:56.882Z"
   },
   {
    "duration": 24,
    "start_time": "2022-06-02T02:20:57.048Z"
   },
   {
    "duration": 191,
    "start_time": "2022-06-02T02:20:57.074Z"
   },
   {
    "duration": 146,
    "start_time": "2022-06-02T02:20:57.266Z"
   },
   {
    "duration": 19,
    "start_time": "2022-06-02T02:20:57.414Z"
   },
   {
    "duration": 184,
    "start_time": "2022-06-02T02:20:57.435Z"
   },
   {
    "duration": 180,
    "start_time": "2022-06-02T02:20:57.621Z"
   },
   {
    "duration": 184,
    "start_time": "2022-06-02T02:20:57.803Z"
   },
   {
    "duration": 186,
    "start_time": "2022-06-02T02:20:57.989Z"
   },
   {
    "duration": 173,
    "start_time": "2022-06-02T02:20:58.177Z"
   },
   {
    "duration": 48,
    "start_time": "2022-06-02T02:20:58.352Z"
   },
   {
    "duration": 38,
    "start_time": "2022-06-02T02:20:58.402Z"
   },
   {
    "duration": 59,
    "start_time": "2022-06-02T02:20:58.441Z"
   },
   {
    "duration": 39,
    "start_time": "2022-06-02T02:20:58.502Z"
   },
   {
    "duration": 9,
    "start_time": "2022-06-02T02:20:58.542Z"
   },
   {
    "duration": 52,
    "start_time": "2022-06-02T02:20:58.553Z"
   },
   {
    "duration": 5,
    "start_time": "2022-06-02T02:20:58.608Z"
   },
   {
    "duration": 175,
    "start_time": "2022-06-02T02:20:58.615Z"
   },
   {
    "duration": 258,
    "start_time": "2022-06-02T02:20:58.800Z"
   },
   {
    "duration": 159,
    "start_time": "2022-06-02T02:20:59.060Z"
   },
   {
    "duration": 50,
    "start_time": "2022-06-02T02:23:05.205Z"
   },
   {
    "duration": 995,
    "start_time": "2022-06-02T09:16:52.328Z"
   },
   {
    "duration": 102,
    "start_time": "2022-06-02T09:16:53.325Z"
   },
   {
    "duration": 7,
    "start_time": "2022-06-02T09:16:53.429Z"
   },
   {
    "duration": 35,
    "start_time": "2022-06-02T09:16:53.438Z"
   },
   {
    "duration": 23,
    "start_time": "2022-06-02T09:16:53.475Z"
   },
   {
    "duration": 48,
    "start_time": "2022-06-02T09:16:53.500Z"
   },
   {
    "duration": 12,
    "start_time": "2022-06-02T09:16:53.550Z"
   },
   {
    "duration": 32,
    "start_time": "2022-06-02T09:16:53.564Z"
   },
   {
    "duration": 42,
    "start_time": "2022-06-02T09:16:53.598Z"
   },
   {
    "duration": 9,
    "start_time": "2022-06-02T09:16:53.643Z"
   },
   {
    "duration": 31,
    "start_time": "2022-06-02T09:16:53.654Z"
   },
   {
    "duration": 45,
    "start_time": "2022-06-02T09:16:53.686Z"
   },
   {
    "duration": 14,
    "start_time": "2022-06-02T09:16:53.733Z"
   },
   {
    "duration": 27,
    "start_time": "2022-06-02T09:16:53.749Z"
   },
   {
    "duration": 8,
    "start_time": "2022-06-02T09:16:53.777Z"
   },
   {
    "duration": 39,
    "start_time": "2022-06-02T09:16:53.787Z"
   },
   {
    "duration": 29,
    "start_time": "2022-06-02T09:16:53.828Z"
   },
   {
    "duration": 35,
    "start_time": "2022-06-02T09:16:53.860Z"
   },
   {
    "duration": 32,
    "start_time": "2022-06-02T09:16:53.897Z"
   },
   {
    "duration": 46,
    "start_time": "2022-06-02T09:16:53.931Z"
   },
   {
    "duration": 8,
    "start_time": "2022-06-02T09:16:53.979Z"
   },
   {
    "duration": 10,
    "start_time": "2022-06-02T09:16:53.989Z"
   },
   {
    "duration": 44,
    "start_time": "2022-06-02T09:16:54.025Z"
   },
   {
    "duration": 30,
    "start_time": "2022-06-02T09:16:54.071Z"
   },
   {
    "duration": 44,
    "start_time": "2022-06-02T09:16:54.103Z"
   },
   {
    "duration": 6,
    "start_time": "2022-06-02T09:16:54.149Z"
   },
   {
    "duration": 8,
    "start_time": "2022-06-02T09:16:54.157Z"
   },
   {
    "duration": 19,
    "start_time": "2022-06-02T09:16:54.169Z"
   },
   {
    "duration": 5,
    "start_time": "2022-06-02T09:16:54.189Z"
   },
   {
    "duration": 43,
    "start_time": "2022-06-02T09:16:54.196Z"
   },
   {
    "duration": 41,
    "start_time": "2022-06-02T09:16:54.241Z"
   },
   {
    "duration": 164,
    "start_time": "2022-06-02T09:16:54.284Z"
   },
   {
    "duration": 141,
    "start_time": "2022-06-02T09:16:54.450Z"
   },
   {
    "duration": 106,
    "start_time": "2022-06-02T09:16:54.594Z"
   },
   {
    "duration": 5,
    "start_time": "2022-06-02T09:16:54.702Z"
   },
   {
    "duration": 53,
    "start_time": "2022-06-02T09:16:54.708Z"
   },
   {
    "duration": 124,
    "start_time": "2022-06-02T09:16:54.763Z"
   },
   {
    "duration": 119,
    "start_time": "2022-06-02T09:16:54.889Z"
   },
   {
    "duration": 45,
    "start_time": "2022-06-02T09:16:55.011Z"
   },
   {
    "duration": 30,
    "start_time": "2022-06-02T09:16:55.058Z"
   },
   {
    "duration": 5,
    "start_time": "2022-06-02T09:16:55.090Z"
   },
   {
    "duration": 60,
    "start_time": "2022-06-02T09:16:55.097Z"
   },
   {
    "duration": 41,
    "start_time": "2022-06-02T09:16:55.159Z"
   },
   {
    "duration": 4,
    "start_time": "2022-06-02T09:16:55.202Z"
   },
   {
    "duration": 41,
    "start_time": "2022-06-02T09:16:55.208Z"
   },
   {
    "duration": 154,
    "start_time": "2022-06-02T09:16:55.251Z"
   },
   {
    "duration": 159,
    "start_time": "2022-06-02T09:16:55.407Z"
   },
   {
    "duration": 17,
    "start_time": "2022-06-02T09:16:55.568Z"
   },
   {
    "duration": 204,
    "start_time": "2022-06-02T09:16:55.587Z"
   },
   {
    "duration": 42,
    "start_time": "2022-06-02T09:16:55.793Z"
   },
   {
    "duration": 252,
    "start_time": "2022-06-02T09:16:55.837Z"
   },
   {
    "duration": 147,
    "start_time": "2022-06-02T09:16:56.091Z"
   },
   {
    "duration": 25,
    "start_time": "2022-06-02T09:16:56.240Z"
   },
   {
    "duration": 186,
    "start_time": "2022-06-02T09:16:56.267Z"
   },
   {
    "duration": 197,
    "start_time": "2022-06-02T09:16:56.455Z"
   },
   {
    "duration": 174,
    "start_time": "2022-06-02T09:16:56.654Z"
   },
   {
    "duration": 186,
    "start_time": "2022-06-02T09:16:56.830Z"
   },
   {
    "duration": 183,
    "start_time": "2022-06-02T09:16:57.018Z"
   },
   {
    "duration": 49,
    "start_time": "2022-06-02T09:16:57.203Z"
   },
   {
    "duration": 42,
    "start_time": "2022-06-02T09:16:57.254Z"
   },
   {
    "duration": 65,
    "start_time": "2022-06-02T09:16:57.298Z"
   },
   {
    "duration": 41,
    "start_time": "2022-06-02T09:16:57.365Z"
   },
   {
    "duration": 20,
    "start_time": "2022-06-02T09:16:57.408Z"
   },
   {
    "duration": 53,
    "start_time": "2022-06-02T09:16:57.431Z"
   },
   {
    "duration": 6,
    "start_time": "2022-06-02T09:16:57.486Z"
   },
   {
    "duration": 191,
    "start_time": "2022-06-02T09:16:57.493Z"
   },
   {
    "duration": 168,
    "start_time": "2022-06-02T09:16:57.686Z"
   },
   {
    "duration": 181,
    "start_time": "2022-06-02T09:16:57.856Z"
   },
   {
    "duration": 858,
    "start_time": "2022-06-02T09:23:52.509Z"
   },
   {
    "duration": 53,
    "start_time": "2022-06-02T09:23:53.369Z"
   },
   {
    "duration": 5,
    "start_time": "2022-06-02T09:23:53.424Z"
   },
   {
    "duration": 26,
    "start_time": "2022-06-02T09:23:53.431Z"
   },
   {
    "duration": 24,
    "start_time": "2022-06-02T09:23:53.459Z"
   },
   {
    "duration": 53,
    "start_time": "2022-06-02T09:23:53.485Z"
   },
   {
    "duration": 20,
    "start_time": "2022-06-02T09:23:53.540Z"
   },
   {
    "duration": 61,
    "start_time": "2022-06-02T09:23:53.562Z"
   },
   {
    "duration": 19,
    "start_time": "2022-06-02T09:23:53.625Z"
   },
   {
    "duration": 14,
    "start_time": "2022-06-02T09:23:53.648Z"
   },
   {
    "duration": 63,
    "start_time": "2022-06-02T09:23:53.664Z"
   },
   {
    "duration": 23,
    "start_time": "2022-06-02T09:23:53.729Z"
   },
   {
    "duration": 14,
    "start_time": "2022-06-02T09:23:53.755Z"
   },
   {
    "duration": 56,
    "start_time": "2022-06-02T09:23:53.772Z"
   },
   {
    "duration": 9,
    "start_time": "2022-06-02T09:23:53.830Z"
   },
   {
    "duration": 18,
    "start_time": "2022-06-02T09:23:53.840Z"
   },
   {
    "duration": 29,
    "start_time": "2022-06-02T09:23:53.859Z"
   },
   {
    "duration": 68,
    "start_time": "2022-06-02T09:23:53.889Z"
   },
   {
    "duration": 6,
    "start_time": "2022-06-02T09:23:53.958Z"
   },
   {
    "duration": 33,
    "start_time": "2022-06-02T09:23:53.967Z"
   },
   {
    "duration": 32,
    "start_time": "2022-06-02T09:23:54.002Z"
   },
   {
    "duration": 20,
    "start_time": "2022-06-02T09:23:54.036Z"
   },
   {
    "duration": 36,
    "start_time": "2022-06-02T09:23:54.058Z"
   },
   {
    "duration": 53,
    "start_time": "2022-06-02T09:23:54.095Z"
   },
   {
    "duration": 23,
    "start_time": "2022-06-02T09:23:54.150Z"
   },
   {
    "duration": 5,
    "start_time": "2022-06-02T09:23:54.175Z"
   },
   {
    "duration": 6,
    "start_time": "2022-06-02T09:23:54.182Z"
   },
   {
    "duration": 37,
    "start_time": "2022-06-02T09:23:54.192Z"
   },
   {
    "duration": 10,
    "start_time": "2022-06-02T09:23:54.231Z"
   },
   {
    "duration": 30,
    "start_time": "2022-06-02T09:23:54.242Z"
   },
   {
    "duration": 47,
    "start_time": "2022-06-02T09:23:54.274Z"
   },
   {
    "duration": 159,
    "start_time": "2022-06-02T09:23:54.322Z"
   },
   {
    "duration": 149,
    "start_time": "2022-06-02T09:23:54.482Z"
   },
   {
    "duration": 132,
    "start_time": "2022-06-02T09:23:54.633Z"
   },
   {
    "duration": 7,
    "start_time": "2022-06-02T09:23:54.766Z"
   },
   {
    "duration": 53,
    "start_time": "2022-06-02T09:23:54.774Z"
   },
   {
    "duration": 119,
    "start_time": "2022-06-02T09:23:54.829Z"
   },
   {
    "duration": 128,
    "start_time": "2022-06-02T09:23:54.950Z"
   },
   {
    "duration": 32,
    "start_time": "2022-06-02T09:23:55.080Z"
   },
   {
    "duration": 35,
    "start_time": "2022-06-02T09:23:55.113Z"
   },
   {
    "duration": 7,
    "start_time": "2022-06-02T09:23:55.150Z"
   },
   {
    "duration": 43,
    "start_time": "2022-06-02T09:23:55.159Z"
   },
   {
    "duration": 76,
    "start_time": "2022-06-02T09:23:55.204Z"
   },
   {
    "duration": 5,
    "start_time": "2022-06-02T09:23:55.282Z"
   },
   {
    "duration": 47,
    "start_time": "2022-06-02T09:23:55.289Z"
   },
   {
    "duration": 162,
    "start_time": "2022-06-02T09:23:55.338Z"
   },
   {
    "duration": 184,
    "start_time": "2022-06-02T09:23:55.502Z"
   },
   {
    "duration": 18,
    "start_time": "2022-06-02T09:23:55.688Z"
   },
   {
    "duration": 203,
    "start_time": "2022-06-02T09:23:55.708Z"
   },
   {
    "duration": 37,
    "start_time": "2022-06-02T09:23:55.913Z"
   },
   {
    "duration": 245,
    "start_time": "2022-06-02T09:23:55.951Z"
   },
   {
    "duration": 168,
    "start_time": "2022-06-02T09:23:56.198Z"
   },
   {
    "duration": 25,
    "start_time": "2022-06-02T09:23:56.368Z"
   },
   {
    "duration": 232,
    "start_time": "2022-06-02T09:23:56.395Z"
   },
   {
    "duration": 182,
    "start_time": "2022-06-02T09:23:56.629Z"
   },
   {
    "duration": 213,
    "start_time": "2022-06-02T09:23:56.812Z"
   },
   {
    "duration": 187,
    "start_time": "2022-06-02T09:23:57.027Z"
   },
   {
    "duration": 194,
    "start_time": "2022-06-02T09:23:57.215Z"
   },
   {
    "duration": 45,
    "start_time": "2022-06-02T09:23:57.411Z"
   },
   {
    "duration": 40,
    "start_time": "2022-06-02T09:23:57.458Z"
   },
   {
    "duration": 62,
    "start_time": "2022-06-02T09:23:57.500Z"
   },
   {
    "duration": 39,
    "start_time": "2022-06-02T09:23:57.564Z"
   },
   {
    "duration": 23,
    "start_time": "2022-06-02T09:23:57.605Z"
   },
   {
    "duration": 48,
    "start_time": "2022-06-02T09:23:57.630Z"
   },
   {
    "duration": 6,
    "start_time": "2022-06-02T09:23:57.679Z"
   },
   {
    "duration": 172,
    "start_time": "2022-06-02T09:23:57.687Z"
   },
   {
    "duration": 160,
    "start_time": "2022-06-02T09:23:57.861Z"
   },
   {
    "duration": 150,
    "start_time": "2022-06-02T09:23:58.026Z"
   }
  ],
  "colab": {
   "name": "DA+. Сборный проект 1. Шаблон (1).ipynb",
   "provenance": []
  },
  "kernelspec": {
   "display_name": "Python 3 (ipykernel)",
   "language": "python",
   "name": "python3"
  },
  "language_info": {
   "codemirror_mode": {
    "name": "ipython",
    "version": 3
   },
   "file_extension": ".py",
   "mimetype": "text/x-python",
   "name": "python",
   "nbconvert_exporter": "python",
   "pygments_lexer": "ipython3",
   "version": "3.9.12"
  },
  "toc": {
   "base_numbering": 1,
   "nav_menu": {},
   "number_sections": true,
   "sideBar": true,
   "skip_h1_title": true,
   "title_cell": "Table of Contents",
   "title_sidebar": "Contents",
   "toc_cell": false,
   "toc_position": {
    "height": "calc(100% - 180px)",
    "left": "10px",
    "top": "150px",
    "width": "375.391px"
   },
   "toc_section_display": true,
   "toc_window_display": true
  }
 },
 "nbformat": 4,
 "nbformat_minor": 1
}
