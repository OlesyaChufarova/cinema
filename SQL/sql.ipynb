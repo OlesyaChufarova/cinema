{
 "cells": [
  {
   "cell_type": "code",
   "execution_count": 1,
   "metadata": {
    "id": "nlZBlglMDWKe"
   },
   "outputs": [],
   "source": [
    "import pandas as pd\n",
    "import matplotlib.pyplot as plt\n",
    "import seaborn as sns\n",
    "from sqlalchemy import create_engine "
   ]
  },
  {
   "cell_type": "markdown",
   "metadata": {
    "id": "XnOE3n28DWKg"
   },
   "source": [
    "Конфигурация для подключения к базе данных `data-analyst-advanced-sql`\n",
    "Эта база данных содержит схему `stackoverflow`, с которой вы будете работать в проекте"
   ]
  },
  {
   "cell_type": "code",
   "execution_count": 2,
   "metadata": {
    "id": "6p-yGp7qDWKg"
   },
   "outputs": [],
   "source": [
    "db_config = {\n",
    "    'user': 'praktikum_student', # имя пользователя\n",
    "    'pwd': 'Sdf4$2;d-d30pp', # пароль\n",
    "    'host': 'rc1b-wcoijxj3yxfsf3fs.mdb.yandexcloud.net',\n",
    "    'port': 6432, # порт подключения\n",
    "    'db': 'data-analyst-advanced-sql' # название базы данных\n",
    "}  \n",
    "\n",
    "connection_string = 'postgresql://{}:{}@{}:{}/{}'.format(\n",
    "    db_config['user'],\n",
    "    db_config['pwd'],\n",
    "    db_config['host'],\n",
    "    db_config['port'],\n",
    "    db_config['db'],\n",
    ")"
   ]
  },
  {
   "cell_type": "markdown",
   "metadata": {
    "id": "2Rg8ZpS0DWKh"
   },
   "source": [
    "Создание подключения"
   ]
  },
  {
   "cell_type": "code",
   "execution_count": 3,
   "metadata": {
    "id": "DamCUTR6DWKi"
   },
   "outputs": [],
   "source": [
    "engine = create_engine(connection_string) "
   ]
  },
  {
   "cell_type": "markdown",
   "metadata": {
    "id": "bel8XeSlDWKj"
   },
   "source": [
    "Пример запроса к базе данных\n",
    "\n",
    "`sample_df` является pandas-датафреймом."
   ]
  },
  {
   "cell_type": "code",
   "execution_count": 4,
   "metadata": {
    "id": "6Z_fw0yLDWKk"
   },
   "outputs": [],
   "source": [
    "query = '''\n",
    "SELECT *\n",
    "FROM stackoverflow.users\n",
    "LIMIT 10;\n",
    "'''\n",
    "\n",
    "sample_df = pd.read_sql_query(query, con=engine) "
   ]
  },
  {
   "cell_type": "code",
   "execution_count": 5,
   "metadata": {
    "id": "ZpuZ290oDWKk",
    "outputId": "22785a0a-e2bc-4559-ec3c-4879c4b377eb"
   },
   "outputs": [
    {
     "data": {
      "text/html": [
       "<div>\n",
       "<style scoped>\n",
       "    .dataframe tbody tr th:only-of-type {\n",
       "        vertical-align: middle;\n",
       "    }\n",
       "\n",
       "    .dataframe tbody tr th {\n",
       "        vertical-align: top;\n",
       "    }\n",
       "\n",
       "    .dataframe thead th {\n",
       "        text-align: right;\n",
       "    }\n",
       "</style>\n",
       "<table border=\"1\" class=\"dataframe\">\n",
       "  <thead>\n",
       "    <tr style=\"text-align: right;\">\n",
       "      <th></th>\n",
       "      <th>id</th>\n",
       "      <th>creation_date</th>\n",
       "      <th>display_name</th>\n",
       "      <th>last_access_date</th>\n",
       "      <th>location</th>\n",
       "      <th>reputation</th>\n",
       "      <th>views</th>\n",
       "    </tr>\n",
       "  </thead>\n",
       "  <tbody>\n",
       "    <tr>\n",
       "      <th>0</th>\n",
       "      <td>1</td>\n",
       "      <td>2008-07-31 14:22:31</td>\n",
       "      <td>Jeff Atwood</td>\n",
       "      <td>2018-08-29 02:34:23</td>\n",
       "      <td>El Cerrito, CA</td>\n",
       "      <td>44300</td>\n",
       "      <td>408587</td>\n",
       "    </tr>\n",
       "    <tr>\n",
       "      <th>1</th>\n",
       "      <td>2</td>\n",
       "      <td>2008-07-31 14:22:31</td>\n",
       "      <td>Geoff Dalgas</td>\n",
       "      <td>2018-08-23 17:31:56</td>\n",
       "      <td>Corvallis, OR</td>\n",
       "      <td>3491</td>\n",
       "      <td>23966</td>\n",
       "    </tr>\n",
       "    <tr>\n",
       "      <th>2</th>\n",
       "      <td>3</td>\n",
       "      <td>2008-07-31 14:22:31</td>\n",
       "      <td>Jarrod Dixon</td>\n",
       "      <td>2018-08-30 20:56:24</td>\n",
       "      <td>Raleigh, NC, United States</td>\n",
       "      <td>13418</td>\n",
       "      <td>24396</td>\n",
       "    </tr>\n",
       "    <tr>\n",
       "      <th>3</th>\n",
       "      <td>4</td>\n",
       "      <td>2008-07-31 14:22:31</td>\n",
       "      <td>Joel Spolsky</td>\n",
       "      <td>2018-08-14 22:18:15</td>\n",
       "      <td>New York, NY</td>\n",
       "      <td>28768</td>\n",
       "      <td>73755</td>\n",
       "    </tr>\n",
       "    <tr>\n",
       "      <th>4</th>\n",
       "      <td>5</td>\n",
       "      <td>2008-07-31 14:22:31</td>\n",
       "      <td>Jon Galloway</td>\n",
       "      <td>2018-08-29 16:48:36</td>\n",
       "      <td>San Diego, CA</td>\n",
       "      <td>39172</td>\n",
       "      <td>11700</td>\n",
       "    </tr>\n",
       "    <tr>\n",
       "      <th>5</th>\n",
       "      <td>8</td>\n",
       "      <td>2008-07-31 21:33:24</td>\n",
       "      <td>Eggs McLaren</td>\n",
       "      <td>2018-04-09 02:04:56</td>\n",
       "      <td>None</td>\n",
       "      <td>942</td>\n",
       "      <td>6372</td>\n",
       "    </tr>\n",
       "    <tr>\n",
       "      <th>6</th>\n",
       "      <td>9</td>\n",
       "      <td>2008-07-31 21:35:27</td>\n",
       "      <td>Kevin Dente</td>\n",
       "      <td>2018-08-30 18:18:03</td>\n",
       "      <td>Oakland, CA</td>\n",
       "      <td>14337</td>\n",
       "      <td>4949</td>\n",
       "    </tr>\n",
       "    <tr>\n",
       "      <th>7</th>\n",
       "      <td>11</td>\n",
       "      <td>2008-08-01 00:59:11</td>\n",
       "      <td>Anonymous User</td>\n",
       "      <td>2008-08-01 00:59:11</td>\n",
       "      <td>None</td>\n",
       "      <td>1890</td>\n",
       "      <td>2123</td>\n",
       "    </tr>\n",
       "    <tr>\n",
       "      <th>8</th>\n",
       "      <td>13</td>\n",
       "      <td>2008-08-01 04:18:05</td>\n",
       "      <td>Chris Jester-Young</td>\n",
       "      <td>2018-08-30 02:47:23</td>\n",
       "      <td>Raleigh, NC, United States</td>\n",
       "      <td>177138</td>\n",
       "      <td>35414</td>\n",
       "    </tr>\n",
       "    <tr>\n",
       "      <th>9</th>\n",
       "      <td>17</td>\n",
       "      <td>2008-08-01 12:02:22</td>\n",
       "      <td>Nick Berardi</td>\n",
       "      <td>2018-01-22 01:35:38</td>\n",
       "      <td>Issaquah, WA</td>\n",
       "      <td>44443</td>\n",
       "      <td>4786</td>\n",
       "    </tr>\n",
       "  </tbody>\n",
       "</table>\n",
       "</div>"
      ],
      "text/plain": [
       "   id       creation_date        display_name    last_access_date  \\\n",
       "0   1 2008-07-31 14:22:31         Jeff Atwood 2018-08-29 02:34:23   \n",
       "1   2 2008-07-31 14:22:31        Geoff Dalgas 2018-08-23 17:31:56   \n",
       "2   3 2008-07-31 14:22:31        Jarrod Dixon 2018-08-30 20:56:24   \n",
       "3   4 2008-07-31 14:22:31        Joel Spolsky 2018-08-14 22:18:15   \n",
       "4   5 2008-07-31 14:22:31        Jon Galloway 2018-08-29 16:48:36   \n",
       "5   8 2008-07-31 21:33:24        Eggs McLaren 2018-04-09 02:04:56   \n",
       "6   9 2008-07-31 21:35:27         Kevin Dente 2018-08-30 18:18:03   \n",
       "7  11 2008-08-01 00:59:11      Anonymous User 2008-08-01 00:59:11   \n",
       "8  13 2008-08-01 04:18:05  Chris Jester-Young 2018-08-30 02:47:23   \n",
       "9  17 2008-08-01 12:02:22        Nick Berardi 2018-01-22 01:35:38   \n",
       "\n",
       "                     location  reputation   views  \n",
       "0              El Cerrito, CA       44300  408587  \n",
       "1               Corvallis, OR        3491   23966  \n",
       "2  Raleigh, NC, United States       13418   24396  \n",
       "3                New York, NY       28768   73755  \n",
       "4               San Diego, CA       39172   11700  \n",
       "5                        None         942    6372  \n",
       "6                 Oakland, CA       14337    4949  \n",
       "7                        None        1890    2123  \n",
       "8  Raleigh, NC, United States      177138   35414  \n",
       "9                Issaquah, WA       44443    4786  "
      ]
     },
     "execution_count": 5,
     "metadata": {},
     "output_type": "execute_result"
    }
   ],
   "source": [
    "sample_df"
   ]
  },
  {
   "cell_type": "markdown",
   "metadata": {
    "id": "gnBMXkDBDWKm"
   },
   "source": [
    "## Задание 1"
   ]
  },
  {
   "cell_type": "markdown",
   "metadata": {
    "id": "vHsfOrrNDWKn"
   },
   "source": [
    "Выведите общую сумму просмотров постов за каждый месяц 2008 года. Если данных за какой-либо месяц в базе нет, такой месяц можно пропустить. Результат отсортируйте по убыванию общего количества просмотров."
   ]
  },
  {
   "cell_type": "markdown",
   "metadata": {
    "id": "N5rTgGNmDWKn"
   },
   "source": [
    "| month_date  | total_views |\n",
    "| ------------- | ------------- |\n",
    "| 2008-09-01  | 452928568  |\n",
    "| 2008-10-01  | 365400138  |\n",
    "| ...         | ... |"
   ]
  },
  {
   "cell_type": "code",
   "execution_count": 21,
   "metadata": {
    "id": "eWvykcXTDWKo"
   },
   "outputs": [
    {
     "data": {
      "text/html": [
       "<div>\n",
       "<style scoped>\n",
       "    .dataframe tbody tr th:only-of-type {\n",
       "        vertical-align: middle;\n",
       "    }\n",
       "\n",
       "    .dataframe tbody tr th {\n",
       "        vertical-align: top;\n",
       "    }\n",
       "\n",
       "    .dataframe thead th {\n",
       "        text-align: right;\n",
       "    }\n",
       "</style>\n",
       "<table border=\"1\" class=\"dataframe\">\n",
       "  <thead>\n",
       "    <tr style=\"text-align: right;\">\n",
       "      <th></th>\n",
       "      <th>month_date</th>\n",
       "      <th>total_views</th>\n",
       "    </tr>\n",
       "  </thead>\n",
       "  <tbody>\n",
       "    <tr>\n",
       "      <th>0</th>\n",
       "      <td>2008-09-01</td>\n",
       "      <td>452928568</td>\n",
       "    </tr>\n",
       "    <tr>\n",
       "      <th>1</th>\n",
       "      <td>2008-10-01</td>\n",
       "      <td>365400138</td>\n",
       "    </tr>\n",
       "    <tr>\n",
       "      <th>2</th>\n",
       "      <td>2008-11-01</td>\n",
       "      <td>221759651</td>\n",
       "    </tr>\n",
       "    <tr>\n",
       "      <th>3</th>\n",
       "      <td>2008-12-01</td>\n",
       "      <td>197792841</td>\n",
       "    </tr>\n",
       "    <tr>\n",
       "      <th>4</th>\n",
       "      <td>2008-08-01</td>\n",
       "      <td>131367083</td>\n",
       "    </tr>\n",
       "    <tr>\n",
       "      <th>5</th>\n",
       "      <td>2008-07-01</td>\n",
       "      <td>669895</td>\n",
       "    </tr>\n",
       "  </tbody>\n",
       "</table>\n",
       "</div>"
      ],
      "text/plain": [
       "   month_date  total_views\n",
       "0  2008-09-01    452928568\n",
       "1  2008-10-01    365400138\n",
       "2  2008-11-01    221759651\n",
       "3  2008-12-01    197792841\n",
       "4  2008-08-01    131367083\n",
       "5  2008-07-01       669895"
      ]
     },
     "execution_count": 21,
     "metadata": {},
     "output_type": "execute_result"
    }
   ],
   "source": [
    "# напишите запрос\n",
    "query = '''\n",
    "SELECT (DATE_TRUNC ('month', creation_date):: date) AS month_date,\n",
    "      SUM (views_count) AS total_views\n",
    "FROM stackoverflow.posts\n",
    "WHERE DATE_TRUNC('year', creation_date) = '2008-01-01' AND views_count !=0\n",
    "GROUP BY month_date\n",
    "ORDER BY total_views DESC; \n",
    "'''\n",
    "\n",
    "# выполните запрос\n",
    "sample_df1 = pd.read_sql_query(query, con=engine)\n",
    "sample_df1"
   ]
  },
  {
   "cell_type": "markdown",
   "metadata": {
    "id": "luxSj17oDWKq"
   },
   "source": [
    "*напишите ваш ответ здесь*\n",
    "\n",
    "\n",
    "Наибольшее количество просмотров постов сложилось за сентябрь 2008 года, что скорее всего связано с началом учебного года. Далее количество просмотров постепенно уменьшалось. Отсутствие данных до июля 2008 года - возможно сервис только открылся в июле 2008 года? Так как хотя бы единичные просмотры все равно были бы выявлены при анализе. А их нет совсем.\n"
   ]
  },
  {
   "cell_type": "markdown",
   "metadata": {
    "id": "FziIXkn5DWKr"
   },
   "source": [
    "## Задание 2"
   ]
  },
  {
   "cell_type": "markdown",
   "metadata": {
    "id": "fTGESZvYDWKr"
   },
   "source": [
    "Выведите имена самых активных пользователей, которые в первый месяц после регистрации (включая день регистрации) дали больше 100 ответов. Вопросы, которые задавали пользователи, не учитывайте. Для каждого имени пользователя выведите количество уникальных значений `user_id`. Отсортируйте результат по полю с именами в лексикографическом порядке."
   ]
  },
  {
   "cell_type": "markdown",
   "metadata": {
    "id": "W5-tv6Y3DWKs"
   },
   "source": [
    "| display_name | count |\n",
    "| ------------ | ----- |\n",
    "| 1800 INFORMATION | 1 |\n",
    "| Adam Bellaire | 1 |\n",
    "| Adam Davis | 1 |\n",
    "| ... | ... |"
   ]
  },
  {
   "cell_type": "code",
   "execution_count": 7,
   "metadata": {
    "id": "fIO-y-YjDWKt"
   },
   "outputs": [
    {
     "data": {
      "text/html": [
       "<div>\n",
       "<style scoped>\n",
       "    .dataframe tbody tr th:only-of-type {\n",
       "        vertical-align: middle;\n",
       "    }\n",
       "\n",
       "    .dataframe tbody tr th {\n",
       "        vertical-align: top;\n",
       "    }\n",
       "\n",
       "    .dataframe thead th {\n",
       "        text-align: right;\n",
       "    }\n",
       "</style>\n",
       "<table border=\"1\" class=\"dataframe\">\n",
       "  <thead>\n",
       "    <tr style=\"text-align: right;\">\n",
       "      <th></th>\n",
       "      <th>name</th>\n",
       "      <th>counts</th>\n",
       "    </tr>\n",
       "  </thead>\n",
       "  <tbody>\n",
       "    <tr>\n",
       "      <th>0</th>\n",
       "      <td>1800 INFORMATION</td>\n",
       "      <td>1</td>\n",
       "    </tr>\n",
       "    <tr>\n",
       "      <th>1</th>\n",
       "      <td>Adam Bellaire</td>\n",
       "      <td>1</td>\n",
       "    </tr>\n",
       "    <tr>\n",
       "      <th>2</th>\n",
       "      <td>Adam Davis</td>\n",
       "      <td>1</td>\n",
       "    </tr>\n",
       "    <tr>\n",
       "      <th>3</th>\n",
       "      <td>Adam Liss</td>\n",
       "      <td>1</td>\n",
       "    </tr>\n",
       "    <tr>\n",
       "      <th>4</th>\n",
       "      <td>Alan</td>\n",
       "      <td>8</td>\n",
       "    </tr>\n",
       "    <tr>\n",
       "      <th>...</th>\n",
       "      <td>...</td>\n",
       "      <td>...</td>\n",
       "    </tr>\n",
       "    <tr>\n",
       "      <th>71</th>\n",
       "      <td>leppie</td>\n",
       "      <td>1</td>\n",
       "    </tr>\n",
       "    <tr>\n",
       "      <th>72</th>\n",
       "      <td>lomaxx</td>\n",
       "      <td>1</td>\n",
       "    </tr>\n",
       "    <tr>\n",
       "      <th>73</th>\n",
       "      <td>mattlant</td>\n",
       "      <td>1</td>\n",
       "    </tr>\n",
       "    <tr>\n",
       "      <th>74</th>\n",
       "      <td>paxdiablo</td>\n",
       "      <td>1</td>\n",
       "    </tr>\n",
       "    <tr>\n",
       "      <th>75</th>\n",
       "      <td>tzot</td>\n",
       "      <td>1</td>\n",
       "    </tr>\n",
       "  </tbody>\n",
       "</table>\n",
       "<p>76 rows × 2 columns</p>\n",
       "</div>"
      ],
      "text/plain": [
       "                name  counts\n",
       "0   1800 INFORMATION       1\n",
       "1      Adam Bellaire       1\n",
       "2         Adam Davis       1\n",
       "3          Adam Liss       1\n",
       "4               Alan       8\n",
       "..               ...     ...\n",
       "71            leppie       1\n",
       "72            lomaxx       1\n",
       "73          mattlant       1\n",
       "74         paxdiablo       1\n",
       "75              tzot       1\n",
       "\n",
       "[76 rows x 2 columns]"
      ]
     },
     "execution_count": 7,
     "metadata": {},
     "output_type": "execute_result"
    }
   ],
   "source": [
    "# напишите запрос\n",
    "query = '''\n",
    "SELECT u.display_name AS name,\n",
    "       COUNT (DISTINCT p.user_id) AS counts\n",
    "       \n",
    "FROM stackoverflow.users AS u\n",
    "JOIN stackoverflow.posts AS p ON u.id=p.user_id\n",
    "JOIN stackoverflow.post_types AS p_t ON p.post_type_id=p_t.id\n",
    "\n",
    "WHERE p_t.type = 'Answer' \n",
    "AND p.creation_date >= u.creation_date AND p.creation_date <= (u.creation_date+INTERVAL '1 month')\n",
    "\n",
    "GROUP BY name\n",
    "HAVING  COUNT(*) > 100;\n",
    "'''\n",
    "\n",
    "# выполните запрос\n",
    "active_users = pd.read_sql_query(query, con=engine)\n",
    "active_users"
   ]
  },
  {
   "cell_type": "markdown",
   "metadata": {
    "id": "YIqqc-7HDWKt"
   },
   "source": [
    "<details>\n",
    "\n",
    "<summary>Подсказка</summary>\n",
    "Вам нужно присоединить несколько таблиц — изучите внимательнее описание базы. Чтобы добавить промежуток времени к дате, используйте ключевое слово INTERVAL, например, так: <дата> + INTERVAL '1 year 2 months 3 days'\n",
    ".</details>"
   ]
  },
  {
   "cell_type": "markdown",
   "metadata": {
    "id": "I3Wr82TplKpI"
   },
   "source": [
    "Какие аномалии наблюдаются в данных? О чём они говорят?"
   ]
  },
  {
   "cell_type": "code",
   "execution_count": 8,
   "metadata": {
    "id": "CEIGGQ6ODWKy"
   },
   "outputs": [
    {
     "data": {
      "text/plain": [
       "1     57\n",
       "16     3\n",
       "3      2\n",
       "10     2\n",
       "15     2\n",
       "29     2\n",
       "5      1\n",
       "7      1\n",
       "8      1\n",
       "9      1\n",
       "11     1\n",
       "12     1\n",
       "19     1\n",
       "21     1\n",
       "Name: counts, dtype: int64"
      ]
     },
     "execution_count": 8,
     "metadata": {},
     "output_type": "execute_result"
    }
   ],
   "source": [
    "# напишите ваш ответ здесь\n",
    "active_users['counts'].value_counts()"
   ]
  },
  {
   "cell_type": "markdown",
   "metadata": {},
   "source": []
  },
  {
   "cell_type": "markdown",
   "metadata": {
    "id": "JhM2xXj5DWKu"
   },
   "source": [
    "## Задание 3"
   ]
  },
  {
   "cell_type": "markdown",
   "metadata": {
    "id": "IS6xPqyyDWKu"
   },
   "source": [
    "Выведите количество постов за 2008 год по месяцам. Отберите посты от пользователей, которые зарегистрировались в сентябре 2008 года и сделали хотя бы один пост в декабре того же года. Отсортируйте таблицу по значению месяца по убыванию."
   ]
  },
  {
   "cell_type": "markdown",
   "metadata": {
    "id": "WmjhjV2xDWKv"
   },
   "source": [
    "| month | count |\n",
    "| ------|------ |\n",
    "| 2008-12-01 | 17641 |\n",
    "| 2008-11-01 | 18294 |\n",
    "| ... | ... |"
   ]
  },
  {
   "cell_type": "code",
   "execution_count": 9,
   "metadata": {
    "id": "kVu0FB8WDWKv"
   },
   "outputs": [
    {
     "data": {
      "text/html": [
       "<div>\n",
       "<style scoped>\n",
       "    .dataframe tbody tr th:only-of-type {\n",
       "        vertical-align: middle;\n",
       "    }\n",
       "\n",
       "    .dataframe tbody tr th {\n",
       "        vertical-align: top;\n",
       "    }\n",
       "\n",
       "    .dataframe thead th {\n",
       "        text-align: right;\n",
       "    }\n",
       "</style>\n",
       "<table border=\"1\" class=\"dataframe\">\n",
       "  <thead>\n",
       "    <tr style=\"text-align: right;\">\n",
       "      <th></th>\n",
       "      <th>month</th>\n",
       "      <th>count</th>\n",
       "    </tr>\n",
       "  </thead>\n",
       "  <tbody>\n",
       "    <tr>\n",
       "      <th>0</th>\n",
       "      <td>2008-12-01</td>\n",
       "      <td>17641</td>\n",
       "    </tr>\n",
       "    <tr>\n",
       "      <th>1</th>\n",
       "      <td>2008-11-01</td>\n",
       "      <td>18294</td>\n",
       "    </tr>\n",
       "    <tr>\n",
       "      <th>2</th>\n",
       "      <td>2008-10-01</td>\n",
       "      <td>27171</td>\n",
       "    </tr>\n",
       "    <tr>\n",
       "      <th>3</th>\n",
       "      <td>2008-09-01</td>\n",
       "      <td>24870</td>\n",
       "    </tr>\n",
       "    <tr>\n",
       "      <th>4</th>\n",
       "      <td>2008-08-01</td>\n",
       "      <td>32</td>\n",
       "    </tr>\n",
       "  </tbody>\n",
       "</table>\n",
       "</div>"
      ],
      "text/plain": [
       "        month  count\n",
       "0  2008-12-01  17641\n",
       "1  2008-11-01  18294\n",
       "2  2008-10-01  27171\n",
       "3  2008-09-01  24870\n",
       "4  2008-08-01     32"
      ]
     },
     "execution_count": 9,
     "metadata": {},
     "output_type": "execute_result"
    }
   ],
   "source": [
    "# напишите запрос\n",
    "query = '''\n",
    "SELECT DATE_TRUNC('month', p.creation_date)::date AS month, \n",
    " COUNT(*) \n",
    "FROM stackoverflow.posts p \n",
    "WHERE user_id IN (SELECT u.id AS user_id \n",
    " FROM stackoverflow.users u  \n",
    " JOIN stackoverflow.posts p ON u.id=p.user_id \n",
    " WHERE DATE_TRUNC('month', u.creation_date) = '2008-09-01' \n",
    " AND DATE_TRUNC('month', p.creation_date) = '2008-12-01') \n",
    "GROUP BY 1 \n",
    "ORDER BY month DESC;\n",
    "       \n",
    "'''\n",
    "\n",
    "# выполните запрос\n",
    "posts_2008 = pd.read_sql_query(query, con=engine)\n",
    "posts_2008"
   ]
  },
  {
   "cell_type": "markdown",
   "metadata": {
    "id": "nWf0JsTMDWKx"
   },
   "source": [
    "<details>\n",
    "\n",
    "<summary>Подсказка</summary>\n",
    "Сначала найдите идентификаторы пользователей, которые зарегистрировались в сентябре 2008 года и оставили хотя бы один пост в декабре. Затем используйте результат для среза и посчитайте посты по месяцам.</details>"
   ]
  },
  {
   "cell_type": "markdown",
   "metadata": {
    "id": "Vnxn9DVHDWKx"
   },
   "source": [
    "Изучите данные: есть ли в них аномалии? Предположите, почему могли появиться аномальные значения."
   ]
  },
  {
   "cell_type": "markdown",
   "metadata": {
    "id": "MMVIz4yMlKpN"
   },
   "source": [
    "*напишите ваш ответ здесь*\n",
    "Аномалия, что пользователи зарегистрировались в сентябре 2008 года, а посты выложены в августе 2008 года. Причем по сравнению с другими месяцами очень большой разрыв в количестве постов. Возможно процесс регистрации пользователей затянулся и на самом деле они зарегистрировались в августе, но долгая проверка, или возможно подтверждение данных прошло в сентябре"
   ]
  },
  {
   "cell_type": "markdown",
   "metadata": {
    "id": "5Pcizm0DDWKz"
   },
   "source": [
    "## Задание 4"
   ]
  },
  {
   "cell_type": "markdown",
   "metadata": {
    "id": "KUZPF6vHDWKz"
   },
   "source": [
    "Используя данные о постах, выведите несколько полей:\n",
    "\n",
    "- идентификатор пользователя, который написал пост;\n",
    "- дата создания поста;\n",
    "- количество просмотров у текущего поста;\n",
    "- сумму просмотров постов автора с накоплением.\n",
    "\n",
    "Данные в таблице должны быть отсортированы по возрастанию идентификаторов пользователей, а данные об одном и том же пользователе — по возрастанию даты создания поста."
   ]
  },
  {
   "cell_type": "markdown",
   "metadata": {
    "id": "ZpsTUVDYDWK0"
   },
   "source": [
    "| user_id | creation_date | views_count | cumulative_count |\n",
    "| ------ | -------------- | ----------- | ---------------- |\n",
    "| 1 | 2008-07-31 23:41:00  | 480476   | 480476  |\n",
    "| 1 | 2008-07-31 23:55:38  | 136033 | 616509  | \n",
    "| 1 | 2008-07-31 23:56:41  | 0 |  616509  |\n",
    "| ... | ... | ... | ... |\n",
    "| 2 | 2008-07-31 23:56:41 | 79087  | 79087 |\n",
    "| 2 | 2008-08-01 05:09:56 | 65443 | 144530 |\n",
    "| ... | ...  | ...  | ...  |"
   ]
  },
  {
   "cell_type": "code",
   "execution_count": 10,
   "metadata": {
    "id": "hDoJhMzfDWK0"
   },
   "outputs": [
    {
     "data": {
      "text/html": [
       "<div>\n",
       "<style scoped>\n",
       "    .dataframe tbody tr th:only-of-type {\n",
       "        vertical-align: middle;\n",
       "    }\n",
       "\n",
       "    .dataframe tbody tr th {\n",
       "        vertical-align: top;\n",
       "    }\n",
       "\n",
       "    .dataframe thead th {\n",
       "        text-align: right;\n",
       "    }\n",
       "</style>\n",
       "<table border=\"1\" class=\"dataframe\">\n",
       "  <thead>\n",
       "    <tr style=\"text-align: right;\">\n",
       "      <th></th>\n",
       "      <th>user_id</th>\n",
       "      <th>creation_date</th>\n",
       "      <th>views_count</th>\n",
       "      <th>sum</th>\n",
       "    </tr>\n",
       "  </thead>\n",
       "  <tbody>\n",
       "    <tr>\n",
       "      <th>0</th>\n",
       "      <td>1</td>\n",
       "      <td>2008-07-31 23:41:00</td>\n",
       "      <td>480476</td>\n",
       "      <td>480476</td>\n",
       "    </tr>\n",
       "    <tr>\n",
       "      <th>1</th>\n",
       "      <td>1</td>\n",
       "      <td>2008-07-31 23:55:38</td>\n",
       "      <td>136033</td>\n",
       "      <td>616509</td>\n",
       "    </tr>\n",
       "    <tr>\n",
       "      <th>2</th>\n",
       "      <td>1</td>\n",
       "      <td>2008-07-31 23:56:41</td>\n",
       "      <td>0</td>\n",
       "      <td>616509</td>\n",
       "    </tr>\n",
       "    <tr>\n",
       "      <th>3</th>\n",
       "      <td>1</td>\n",
       "      <td>2008-08-04 02:45:08</td>\n",
       "      <td>0</td>\n",
       "      <td>616509</td>\n",
       "    </tr>\n",
       "    <tr>\n",
       "      <th>4</th>\n",
       "      <td>1</td>\n",
       "      <td>2008-08-04 04:31:03</td>\n",
       "      <td>0</td>\n",
       "      <td>616509</td>\n",
       "    </tr>\n",
       "    <tr>\n",
       "      <th>...</th>\n",
       "      <td>...</td>\n",
       "      <td>...</td>\n",
       "      <td>...</td>\n",
       "      <td>...</td>\n",
       "    </tr>\n",
       "    <tr>\n",
       "      <th>243791</th>\n",
       "      <td>5696608</td>\n",
       "      <td>2008-12-23 16:00:37</td>\n",
       "      <td>0</td>\n",
       "      <td>2804</td>\n",
       "    </tr>\n",
       "    <tr>\n",
       "      <th>243792</th>\n",
       "      <td>5696608</td>\n",
       "      <td>2008-12-23 17:35:09</td>\n",
       "      <td>0</td>\n",
       "      <td>2804</td>\n",
       "    </tr>\n",
       "    <tr>\n",
       "      <th>243793</th>\n",
       "      <td>5696608</td>\n",
       "      <td>2008-12-24 01:02:48</td>\n",
       "      <td>0</td>\n",
       "      <td>2804</td>\n",
       "    </tr>\n",
       "    <tr>\n",
       "      <th>243794</th>\n",
       "      <td>5696608</td>\n",
       "      <td>2008-12-30 14:34:45</td>\n",
       "      <td>0</td>\n",
       "      <td>2804</td>\n",
       "    </tr>\n",
       "    <tr>\n",
       "      <th>243795</th>\n",
       "      <td>5696608</td>\n",
       "      <td>2008-12-30 16:32:12</td>\n",
       "      <td>0</td>\n",
       "      <td>2804</td>\n",
       "    </tr>\n",
       "  </tbody>\n",
       "</table>\n",
       "<p>243796 rows × 4 columns</p>\n",
       "</div>"
      ],
      "text/plain": [
       "        user_id       creation_date  views_count     sum\n",
       "0             1 2008-07-31 23:41:00       480476  480476\n",
       "1             1 2008-07-31 23:55:38       136033  616509\n",
       "2             1 2008-07-31 23:56:41            0  616509\n",
       "3             1 2008-08-04 02:45:08            0  616509\n",
       "4             1 2008-08-04 04:31:03            0  616509\n",
       "...         ...                 ...          ...     ...\n",
       "243791  5696608 2008-12-23 16:00:37            0    2804\n",
       "243792  5696608 2008-12-23 17:35:09            0    2804\n",
       "243793  5696608 2008-12-24 01:02:48            0    2804\n",
       "243794  5696608 2008-12-30 14:34:45            0    2804\n",
       "243795  5696608 2008-12-30 16:32:12            0    2804\n",
       "\n",
       "[243796 rows x 4 columns]"
      ]
     },
     "execution_count": 10,
     "metadata": {},
     "output_type": "execute_result"
    }
   ],
   "source": [
    "# напишите запрос\n",
    "query = '''\n",
    "SELECT user_id,\n",
    "creation_date,\n",
    "views_count,\n",
    "SUM (views_count) OVER (PARTITION BY user_id ORDER BY creation_date)\n",
    "FROM stackoverflow.posts p\n",
    "ORDER BY 1,2;\n",
    "'''\n",
    "\n",
    "# выполните запрос\n",
    "posts_sorts = pd.read_sql_query(query, con=engine)\n",
    "posts_sorts"
   ]
  },
  {
   "cell_type": "markdown",
   "metadata": {
    "id": "N0kHRHvIDWK2"
   },
   "source": [
    "## Задание 5"
   ]
  },
  {
   "cell_type": "markdown",
   "metadata": {
    "id": "gBgvmPtODWK2"
   },
   "source": [
    "Найдите среднее количество постов пользователей в день за август 2008 года. Отберите данные о пользователях, которые опубликовали больше 120 постов за август. Дни без публикаций не учитывайте. \n",
    "\n",
    "Отсортируйте результат по возрастанию среднего количества постов. Значения можно не округлять."
   ]
  },
  {
   "cell_type": "markdown",
   "metadata": {
    "id": "nfzR08BODWK3"
   },
   "source": [
    "| user_id | avg_daily |\n",
    "| ------- | --------- |\n",
    "| 116     | 4.777778  |\n",
    "| 234     | 5.208333  |\n",
    "| ...     | ... |"
   ]
  },
  {
   "cell_type": "code",
   "execution_count": 11,
   "metadata": {
    "id": "YFyPNz5GDWK3"
   },
   "outputs": [
    {
     "data": {
      "text/html": [
       "<div>\n",
       "<style scoped>\n",
       "    .dataframe tbody tr th:only-of-type {\n",
       "        vertical-align: middle;\n",
       "    }\n",
       "\n",
       "    .dataframe tbody tr th {\n",
       "        vertical-align: top;\n",
       "    }\n",
       "\n",
       "    .dataframe thead th {\n",
       "        text-align: right;\n",
       "    }\n",
       "</style>\n",
       "<table border=\"1\" class=\"dataframe\">\n",
       "  <thead>\n",
       "    <tr style=\"text-align: right;\">\n",
       "      <th></th>\n",
       "      <th>user_id</th>\n",
       "      <th>avg_daily</th>\n",
       "    </tr>\n",
       "  </thead>\n",
       "  <tbody>\n",
       "    <tr>\n",
       "      <th>0</th>\n",
       "      <td>116</td>\n",
       "      <td>4.777778</td>\n",
       "    </tr>\n",
       "    <tr>\n",
       "      <th>1</th>\n",
       "      <td>234</td>\n",
       "      <td>5.208333</td>\n",
       "    </tr>\n",
       "    <tr>\n",
       "      <th>2</th>\n",
       "      <td>91</td>\n",
       "      <td>5.681818</td>\n",
       "    </tr>\n",
       "    <tr>\n",
       "      <th>3</th>\n",
       "      <td>905</td>\n",
       "      <td>7.000000</td>\n",
       "    </tr>\n",
       "    <tr>\n",
       "      <th>4</th>\n",
       "      <td>383</td>\n",
       "      <td>7.277778</td>\n",
       "    </tr>\n",
       "  </tbody>\n",
       "</table>\n",
       "</div>"
      ],
      "text/plain": [
       "   user_id  avg_daily\n",
       "0      116   4.777778\n",
       "1      234   5.208333\n",
       "2       91   5.681818\n",
       "3      905   7.000000\n",
       "4      383   7.277778"
      ]
     },
     "execution_count": 11,
     "metadata": {},
     "output_type": "execute_result"
    }
   ],
   "source": [
    "# напишите запрос\n",
    "query = '''\n",
    "WITH post AS \n",
    "(SELECT user_id, \n",
    "        DATE_TRUNC('day', creation_date)::date AS day, \n",
    "        COUNT(id) AS count \n",
    "FROM stackoverflow.posts \n",
    "WHERE creation_date >= '2008-08-01' AND creation_date < '2008-09-01' AND user_id IN \n",
    "                                         (SELECT user_id \n",
    "                                          FROM stackoverflow.posts \n",
    "                                          WHERE creation_date >= '2008-08-01' AND creation_date < '2008-09-01' \n",
    "                                          GROUP BY user_id                                           \n",
    "                                          HAVING COUNT(user_id) > 120) \n",
    "GROUP BY user_id, day \n",
    "HAVING COUNT(id) > 0) \n",
    "SELECT user_id, \n",
    "       AVG(count) AS avg_daily \n",
    "FROM post\n",
    "GROUP BY user_id\n",
    "ORDER BY avg_daily;\n",
    "'''\n",
    "\n",
    "# выполните запрос\n",
    "posts_120 = pd.read_sql_query(query, con=engine)\n",
    "posts_120"
   ]
  },
  {
   "cell_type": "markdown",
   "metadata": {
    "id": "EQ0dcFH4DWK5"
   },
   "source": [
    "## Задание 6"
   ]
  },
  {
   "cell_type": "markdown",
   "metadata": {
    "id": "c7flfg_hDWK5"
   },
   "source": [
    "Сколько в среднем дней в период с 1 по 7 декабря 2008 года пользователи взаимодействовали с платформой? Для каждого пользователя отберите дни, в которые он или она опубликовали хотя бы один пост. Нужно получить одно целое число — не забудьте округлить результат. "
   ]
  },
  {
   "cell_type": "markdown",
   "metadata": {
    "id": "RC1Ibzm9DWK6"
   },
   "source": [
    "| result |\n",
    "| -----  |\n",
    "| <целое число> |"
   ]
  },
  {
   "cell_type": "code",
   "execution_count": 12,
   "metadata": {
    "id": "kZ7LXTr6DWK6"
   },
   "outputs": [
    {
     "data": {
      "text/html": [
       "<div>\n",
       "<style scoped>\n",
       "    .dataframe tbody tr th:only-of-type {\n",
       "        vertical-align: middle;\n",
       "    }\n",
       "\n",
       "    .dataframe tbody tr th {\n",
       "        vertical-align: top;\n",
       "    }\n",
       "\n",
       "    .dataframe thead th {\n",
       "        text-align: right;\n",
       "    }\n",
       "</style>\n",
       "<table border=\"1\" class=\"dataframe\">\n",
       "  <thead>\n",
       "    <tr style=\"text-align: right;\">\n",
       "      <th></th>\n",
       "      <th>result</th>\n",
       "    </tr>\n",
       "  </thead>\n",
       "  <tbody>\n",
       "    <tr>\n",
       "      <th>0</th>\n",
       "      <td>2.0</td>\n",
       "    </tr>\n",
       "  </tbody>\n",
       "</table>\n",
       "</div>"
      ],
      "text/plain": [
       "   result\n",
       "0     2.0"
      ]
     },
     "execution_count": 12,
     "metadata": {},
     "output_type": "execute_result"
    }
   ],
   "source": [
    "# напишите запрос\n",
    "query = '''\n",
    "SELECT ROUND(AVG(days_count),0) AS result\n",
    "FROM (SELECT user_id,\n",
    "          COUNT(DISTINCT day) AS days_count\n",
    "   FROM (SELECT user_id,\n",
    "          DATE_TRUNC('day', creation_date) AS day\n",
    "   FROM stackoverflow.posts\n",
    "   WHERE creation_date >= '2008-12-01'\n",
    "     AND creation_date <= '2008-12-08'\n",
    "   GROUP BY user_id,\n",
    "            day\n",
    "   ORDER BY user_id,\n",
    "            day) AS temp_table\n",
    "   GROUP BY user_id\n",
    "   ORDER BY user_id) AS u_max;\n",
    "\n",
    "\n",
    "'''\n",
    "\n",
    "# выполните запрос\n",
    "count_active_days = pd.read_sql_query(query, con=engine)\n",
    "count_active_days"
   ]
  },
  {
   "cell_type": "markdown",
   "metadata": {
    "id": "UJFtNNggDWK7"
   },
   "source": [
    "Проанализируйте итоговую таблицу — какие выводы можно сделать?"
   ]
  },
  {
   "cell_type": "markdown",
   "metadata": {
    "id": "LfUuYz-1DWK8"
   },
   "source": [
    "*напишите ваш ответ здесь*\n",
    "Здесь наверное вопрос не про таблицу, а про значение 2 - всего два дня из семи - среднее количество активных дней пользователя. Хотя, если принимать во внимание, что у некоторых пользователей в день было множество постов, думаю эта цифра не очень показательна. Нужно больше данных для анализа."
   ]
  },
  {
   "cell_type": "markdown",
   "metadata": {
    "id": "wfOmqmfLDWK8"
   },
   "source": [
    "## Задание 7"
   ]
  },
  {
   "cell_type": "markdown",
   "metadata": {
    "id": "X4ARQimADWK9"
   },
   "source": [
    "Выведите историю активности каждого пользователя в таком виде: идентификатор пользователя, дата публикации поста. Отсортируйте вывод по возрастанию идентификаторов пользователей, а для каждого пользователя — по возрастанию даты публикации.\n",
    "\n",
    "Добавьте в таблицу новое поле: для каждого поста в нём будет указано название месяца предпоследней публикации пользователя относительно текущей. Если такой публикации нет, укажите `NULL`.  Python автоматически поменяет `NULL` на `None`, но дополнительно преобразовывать значения `None` вам не нужно.\n",
    "\n",
    "Посмотрите внимательно на образец таблицы: для первых двух постов предпоследней публикации нет, но, начиная с третьего поста, в новое поле входит нужный месяц. Для следующего пользователя в первые две записи поля `second_last_month` тоже войдёт `NULL`."
   ]
  },
  {
   "cell_type": "markdown",
   "metadata": {
    "id": "IGPjRP01DWK9"
   },
   "source": [
    "| user_id | creation_date | second_last_month |\n",
    "| ------- | ------------- | ----------------- |\n",
    "| 1       | 2008-07-31 23:41:00 | None |\n",
    "| 1       | 2008-07-31 23:55:38 | None |\n",
    "| 1       | 2008-07-31 23:56:41 | July |\n",
    "| 1       | 2008-08-04 02:45:08 | July |\n",
    "| 1       | 2008-08-04 04:31:03 | July |\n",
    "| 1       | 2008-08-04 08:04:42 | August |\n",
    "| ... | ... | ... |"
   ]
  },
  {
   "cell_type": "code",
   "execution_count": 13,
   "metadata": {
    "id": "HzI1vhaMDWK-"
   },
   "outputs": [
    {
     "data": {
      "text/html": [
       "<div>\n",
       "<style scoped>\n",
       "    .dataframe tbody tr th:only-of-type {\n",
       "        vertical-align: middle;\n",
       "    }\n",
       "\n",
       "    .dataframe tbody tr th {\n",
       "        vertical-align: top;\n",
       "    }\n",
       "\n",
       "    .dataframe thead th {\n",
       "        text-align: right;\n",
       "    }\n",
       "</style>\n",
       "<table border=\"1\" class=\"dataframe\">\n",
       "  <thead>\n",
       "    <tr style=\"text-align: right;\">\n",
       "      <th></th>\n",
       "      <th>user_id</th>\n",
       "      <th>creation_date</th>\n",
       "      <th>case</th>\n",
       "    </tr>\n",
       "  </thead>\n",
       "  <tbody>\n",
       "    <tr>\n",
       "      <th>0</th>\n",
       "      <td>1</td>\n",
       "      <td>2008-07-31 23:41:00</td>\n",
       "      <td>None</td>\n",
       "    </tr>\n",
       "    <tr>\n",
       "      <th>1</th>\n",
       "      <td>1</td>\n",
       "      <td>2008-07-31 23:56:41</td>\n",
       "      <td>None</td>\n",
       "    </tr>\n",
       "    <tr>\n",
       "      <th>2</th>\n",
       "      <td>1</td>\n",
       "      <td>2008-07-31 23:55:38</td>\n",
       "      <td>July</td>\n",
       "    </tr>\n",
       "    <tr>\n",
       "      <th>3</th>\n",
       "      <td>1</td>\n",
       "      <td>2008-08-12 05:02:49</td>\n",
       "      <td>July</td>\n",
       "    </tr>\n",
       "    <tr>\n",
       "      <th>4</th>\n",
       "      <td>1</td>\n",
       "      <td>2008-08-25 00:11:44</td>\n",
       "      <td>July</td>\n",
       "    </tr>\n",
       "    <tr>\n",
       "      <th>...</th>\n",
       "      <td>...</td>\n",
       "      <td>...</td>\n",
       "      <td>...</td>\n",
       "    </tr>\n",
       "    <tr>\n",
       "      <th>243791</th>\n",
       "      <td>5696608</td>\n",
       "      <td>2008-12-30 16:32:12</td>\n",
       "      <td>December</td>\n",
       "    </tr>\n",
       "    <tr>\n",
       "      <th>243792</th>\n",
       "      <td>5696608</td>\n",
       "      <td>2008-12-22 19:58:23</td>\n",
       "      <td>December</td>\n",
       "    </tr>\n",
       "    <tr>\n",
       "      <th>243793</th>\n",
       "      <td>5696608</td>\n",
       "      <td>2008-12-22 18:09:31</td>\n",
       "      <td>December</td>\n",
       "    </tr>\n",
       "    <tr>\n",
       "      <th>243794</th>\n",
       "      <td>5696608</td>\n",
       "      <td>2008-12-23 16:00:37</td>\n",
       "      <td>December</td>\n",
       "    </tr>\n",
       "    <tr>\n",
       "      <th>243795</th>\n",
       "      <td>5696608</td>\n",
       "      <td>2008-12-30 14:34:45</td>\n",
       "      <td>December</td>\n",
       "    </tr>\n",
       "  </tbody>\n",
       "</table>\n",
       "<p>243796 rows × 3 columns</p>\n",
       "</div>"
      ],
      "text/plain": [
       "        user_id       creation_date      case\n",
       "0             1 2008-07-31 23:41:00      None\n",
       "1             1 2008-07-31 23:56:41      None\n",
       "2             1 2008-07-31 23:55:38      July\n",
       "3             1 2008-08-12 05:02:49      July\n",
       "4             1 2008-08-25 00:11:44      July\n",
       "...         ...                 ...       ...\n",
       "243791  5696608 2008-12-30 16:32:12  December\n",
       "243792  5696608 2008-12-22 19:58:23  December\n",
       "243793  5696608 2008-12-22 18:09:31  December\n",
       "243794  5696608 2008-12-23 16:00:37  December\n",
       "243795  5696608 2008-12-30 14:34:45  December\n",
       "\n",
       "[243796 rows x 3 columns]"
      ]
     },
     "execution_count": 13,
     "metadata": {},
     "output_type": "execute_result"
    }
   ],
   "source": [
    "# напишите запрос\n",
    "query = '''\n",
    "WITH abc AS\n",
    "(SELECT user_id,\n",
    "       creation_date,\n",
    "       LAG (DATE_TRUNC ('month', creation_date),2,NULL) OVER (PARTITION BY user_id ORDER BY (DATE_TRUNC ('month', creation_date))) AS second_last_month\n",
    "FROM stackoverflow.posts)\n",
    "SELECT user_id,\n",
    "       creation_date,\n",
    "       CASE\n",
    "           WHEN second_last_month ='2008-01-01' THEN 'January'\n",
    "          WHEN second_last_month ='2008-02-01' THEN 'February'\n",
    "          WHEN second_last_month ='2008-03-01' THEN 'March'\n",
    "          WHEN second_last_month ='2008-04-01' THEN 'April'\n",
    "          WHEN second_last_month ='2008-05-01' THEN 'May'\n",
    "          WHEN second_last_month ='2008-06-01' THEN 'June'\n",
    "          WHEN second_last_month ='2008-07-01' THEN 'July'\n",
    "          WHEN second_last_month ='2008-08-01' THEN 'August'\n",
    "          WHEN second_last_month ='2008-09-01' THEN 'September'\n",
    "          WHEN second_last_month ='2008-10-01' THEN 'October'\n",
    "          WHEN second_last_month ='2008-11-01' THEN 'November'\n",
    "          WHEN second_last_month ='2008-12-01' THEN 'December'\n",
    "       END\n",
    "FROM abc;\n",
    "'''\n",
    "\n",
    "# выполните запрос\n",
    "second_last_month = pd.read_sql_query(query, con=engine)\n",
    "second_last_month"
   ]
  },
  {
   "cell_type": "markdown",
   "metadata": {
    "id": "tf9qq2yzDWK_"
   },
   "source": [
    "## Задание 8"
   ]
  },
  {
   "cell_type": "markdown",
   "metadata": {
    "id": "gfwLVXBYDWLA"
   },
   "source": [
    "Рассчитайте аналог Retention Rate по месяцам для пользователей StackOverflow. Объедините пользователей в когорты по месяцу их первого поста. Возвращение определяйте по наличию поста в текущем месяце. "
   ]
  },
  {
   "cell_type": "markdown",
   "metadata": {
    "id": "kN2ic39WlKpl"
   },
   "source": [
    "| cohort_dt | session_date | users_cnt | cohort_users_cnt | retention_rate |\n",
    "| --- | --- | --- | --- | --- |\n",
    "| 2008-07-01 00:00:00 | 2008-07-01 00:00:00 | 3 | 3 | 100 |\n",
    "| 2008-07-01 00:00:00 | 2008-08-01 00:00:00 | 2 | 3 | 66,67 |\n",
    "| 2008-07-01 00:00:00 | 2008-09-01 00:00:00 | 1 | 3 | 33,33 |\n",
    "| 2008-07-01 00:00:00 | 2008-10-01 00:00:00 | 2 | 3 | 66,67 |\n",
    "| 2008-07-01 00:00:00 | 2008-11-01 00:00:00 | 1 | 3 | 33,33 |\n",
    "| 2008-07-01 00:00:00 | 2008-12-01 00:00:00 | 2 | 3 | 66,67 |\n",
    "| 2008-08-01 00:00:00 | 2008-08-01 00:00:00 | 2151 | 2151 | 100 |\n",
    "| ... | ... | ... | ... | ... |"
   ]
  },
  {
   "cell_type": "code",
   "execution_count": 14,
   "metadata": {
    "id": "LUgFmwmTDWLB"
   },
   "outputs": [
    {
     "data": {
      "text/html": [
       "<div>\n",
       "<style scoped>\n",
       "    .dataframe tbody tr th:only-of-type {\n",
       "        vertical-align: middle;\n",
       "    }\n",
       "\n",
       "    .dataframe tbody tr th {\n",
       "        vertical-align: top;\n",
       "    }\n",
       "\n",
       "    .dataframe thead th {\n",
       "        text-align: right;\n",
       "    }\n",
       "</style>\n",
       "<table border=\"1\" class=\"dataframe\">\n",
       "  <thead>\n",
       "    <tr style=\"text-align: right;\">\n",
       "      <th></th>\n",
       "      <th>cohort_dt</th>\n",
       "      <th>session_date</th>\n",
       "      <th>users_cnt</th>\n",
       "      <th>cohort_users_cnt</th>\n",
       "      <th>retention_rate</th>\n",
       "    </tr>\n",
       "  </thead>\n",
       "  <tbody>\n",
       "    <tr>\n",
       "      <th>0</th>\n",
       "      <td>2008-07-01</td>\n",
       "      <td>2008-07-01</td>\n",
       "      <td>3</td>\n",
       "      <td>3</td>\n",
       "      <td>100.00</td>\n",
       "    </tr>\n",
       "    <tr>\n",
       "      <th>1</th>\n",
       "      <td>2008-07-01</td>\n",
       "      <td>2008-08-01</td>\n",
       "      <td>2</td>\n",
       "      <td>3</td>\n",
       "      <td>66.67</td>\n",
       "    </tr>\n",
       "    <tr>\n",
       "      <th>2</th>\n",
       "      <td>2008-07-01</td>\n",
       "      <td>2008-09-01</td>\n",
       "      <td>1</td>\n",
       "      <td>3</td>\n",
       "      <td>33.33</td>\n",
       "    </tr>\n",
       "    <tr>\n",
       "      <th>3</th>\n",
       "      <td>2008-07-01</td>\n",
       "      <td>2008-10-01</td>\n",
       "      <td>2</td>\n",
       "      <td>3</td>\n",
       "      <td>66.67</td>\n",
       "    </tr>\n",
       "    <tr>\n",
       "      <th>4</th>\n",
       "      <td>2008-07-01</td>\n",
       "      <td>2008-11-01</td>\n",
       "      <td>1</td>\n",
       "      <td>3</td>\n",
       "      <td>33.33</td>\n",
       "    </tr>\n",
       "    <tr>\n",
       "      <th>5</th>\n",
       "      <td>2008-07-01</td>\n",
       "      <td>2008-12-01</td>\n",
       "      <td>2</td>\n",
       "      <td>3</td>\n",
       "      <td>66.67</td>\n",
       "    </tr>\n",
       "    <tr>\n",
       "      <th>6</th>\n",
       "      <td>2008-08-01</td>\n",
       "      <td>2008-08-01</td>\n",
       "      <td>2151</td>\n",
       "      <td>2151</td>\n",
       "      <td>100.00</td>\n",
       "    </tr>\n",
       "    <tr>\n",
       "      <th>7</th>\n",
       "      <td>2008-08-01</td>\n",
       "      <td>2008-09-01</td>\n",
       "      <td>1571</td>\n",
       "      <td>2151</td>\n",
       "      <td>73.04</td>\n",
       "    </tr>\n",
       "    <tr>\n",
       "      <th>8</th>\n",
       "      <td>2008-08-01</td>\n",
       "      <td>2008-10-01</td>\n",
       "      <td>1275</td>\n",
       "      <td>2151</td>\n",
       "      <td>59.27</td>\n",
       "    </tr>\n",
       "    <tr>\n",
       "      <th>9</th>\n",
       "      <td>2008-08-01</td>\n",
       "      <td>2008-11-01</td>\n",
       "      <td>1050</td>\n",
       "      <td>2151</td>\n",
       "      <td>48.81</td>\n",
       "    </tr>\n",
       "    <tr>\n",
       "      <th>10</th>\n",
       "      <td>2008-08-01</td>\n",
       "      <td>2008-12-01</td>\n",
       "      <td>894</td>\n",
       "      <td>2151</td>\n",
       "      <td>41.56</td>\n",
       "    </tr>\n",
       "    <tr>\n",
       "      <th>11</th>\n",
       "      <td>2008-09-01</td>\n",
       "      <td>2008-09-01</td>\n",
       "      <td>7678</td>\n",
       "      <td>7678</td>\n",
       "      <td>100.00</td>\n",
       "    </tr>\n",
       "    <tr>\n",
       "      <th>12</th>\n",
       "      <td>2008-09-01</td>\n",
       "      <td>2008-10-01</td>\n",
       "      <td>4132</td>\n",
       "      <td>7678</td>\n",
       "      <td>53.82</td>\n",
       "    </tr>\n",
       "    <tr>\n",
       "      <th>13</th>\n",
       "      <td>2008-09-01</td>\n",
       "      <td>2008-11-01</td>\n",
       "      <td>2966</td>\n",
       "      <td>7678</td>\n",
       "      <td>38.63</td>\n",
       "    </tr>\n",
       "    <tr>\n",
       "      <th>14</th>\n",
       "      <td>2008-09-01</td>\n",
       "      <td>2008-12-01</td>\n",
       "      <td>2500</td>\n",
       "      <td>7678</td>\n",
       "      <td>32.56</td>\n",
       "    </tr>\n",
       "    <tr>\n",
       "      <th>15</th>\n",
       "      <td>2008-10-01</td>\n",
       "      <td>2008-10-01</td>\n",
       "      <td>3629</td>\n",
       "      <td>3629</td>\n",
       "      <td>100.00</td>\n",
       "    </tr>\n",
       "    <tr>\n",
       "      <th>16</th>\n",
       "      <td>2008-10-01</td>\n",
       "      <td>2008-11-01</td>\n",
       "      <td>1640</td>\n",
       "      <td>3629</td>\n",
       "      <td>45.19</td>\n",
       "    </tr>\n",
       "    <tr>\n",
       "      <th>17</th>\n",
       "      <td>2008-10-01</td>\n",
       "      <td>2008-12-01</td>\n",
       "      <td>1221</td>\n",
       "      <td>3629</td>\n",
       "      <td>33.65</td>\n",
       "    </tr>\n",
       "    <tr>\n",
       "      <th>18</th>\n",
       "      <td>2008-11-01</td>\n",
       "      <td>2008-11-01</td>\n",
       "      <td>2852</td>\n",
       "      <td>2852</td>\n",
       "      <td>100.00</td>\n",
       "    </tr>\n",
       "    <tr>\n",
       "      <th>19</th>\n",
       "      <td>2008-11-01</td>\n",
       "      <td>2008-12-01</td>\n",
       "      <td>1151</td>\n",
       "      <td>2852</td>\n",
       "      <td>40.36</td>\n",
       "    </tr>\n",
       "    <tr>\n",
       "      <th>20</th>\n",
       "      <td>2008-12-01</td>\n",
       "      <td>2008-12-01</td>\n",
       "      <td>2536</td>\n",
       "      <td>2536</td>\n",
       "      <td>100.00</td>\n",
       "    </tr>\n",
       "  </tbody>\n",
       "</table>\n",
       "</div>"
      ],
      "text/plain": [
       "    cohort_dt session_date  users_cnt  cohort_users_cnt  retention_rate\n",
       "0  2008-07-01   2008-07-01          3                 3          100.00\n",
       "1  2008-07-01   2008-08-01          2                 3           66.67\n",
       "2  2008-07-01   2008-09-01          1                 3           33.33\n",
       "3  2008-07-01   2008-10-01          2                 3           66.67\n",
       "4  2008-07-01   2008-11-01          1                 3           33.33\n",
       "5  2008-07-01   2008-12-01          2                 3           66.67\n",
       "6  2008-08-01   2008-08-01       2151              2151          100.00\n",
       "7  2008-08-01   2008-09-01       1571              2151           73.04\n",
       "8  2008-08-01   2008-10-01       1275              2151           59.27\n",
       "9  2008-08-01   2008-11-01       1050              2151           48.81\n",
       "10 2008-08-01   2008-12-01        894              2151           41.56\n",
       "11 2008-09-01   2008-09-01       7678              7678          100.00\n",
       "12 2008-09-01   2008-10-01       4132              7678           53.82\n",
       "13 2008-09-01   2008-11-01       2966              7678           38.63\n",
       "14 2008-09-01   2008-12-01       2500              7678           32.56\n",
       "15 2008-10-01   2008-10-01       3629              3629          100.00\n",
       "16 2008-10-01   2008-11-01       1640              3629           45.19\n",
       "17 2008-10-01   2008-12-01       1221              3629           33.65\n",
       "18 2008-11-01   2008-11-01       2852              2852          100.00\n",
       "19 2008-11-01   2008-12-01       1151              2852           40.36\n",
       "20 2008-12-01   2008-12-01       2536              2536          100.00"
      ]
     },
     "execution_count": 14,
     "metadata": {},
     "output_type": "execute_result"
    }
   ],
   "source": [
    "# напишите запрос\n",
    "query = '''\n",
    "WITH profile AS  \n",
    " (SELECT DISTINCT \n",
    " user_id, \n",
    " DATE_TRUNC('month', MIN(creation_date)) AS cohort_dt, \n",
    " COUNT(*) OVER (PARTITION BY DATE_TRUNC('month', MIN(creation_date))) AS cohort_users_cnt \n",
    " FROM stackoverflow.posts \n",
    " GROUP BY user_id), \n",
    " sessions AS \n",
    " (SELECT user_id, \n",
    " DATE_TRUNC('month', creation_date) AS session_date \n",
    " FROM stackoverflow.posts \n",
    " GROUP BY 1, \n",
    "                2)\n",
    "SELECT p.cohort_dt, \n",
    " s.session_date, \n",
    " COUNT(s.user_id) AS users_cnt, \n",
    " p.cohort_users_cnt, \n",
    " ROUND(COUNT(s.user_id) * 100.0 / p.cohort_users_cnt, 2) AS retention_rate \n",
    "FROM profile AS p \n",
    "JOIN sessions AS s ON p.user_id = s.user_id \n",
    "GROUP BY 1, \n",
    "         2,\n",
    "         4\n",
    "'''\n",
    "\n",
    "# выполните запрос\n",
    "retention_rate_df = pd.read_sql_query(query, con=engine)\n",
    "retention_rate_df"
   ]
  },
  {
   "cell_type": "code",
   "execution_count": 15,
   "metadata": {},
   "outputs": [
    {
     "data": {
      "text/html": [
       "<div>\n",
       "<style scoped>\n",
       "    .dataframe tbody tr th:only-of-type {\n",
       "        vertical-align: middle;\n",
       "    }\n",
       "\n",
       "    .dataframe tbody tr th {\n",
       "        vertical-align: top;\n",
       "    }\n",
       "\n",
       "    .dataframe thead th {\n",
       "        text-align: right;\n",
       "    }\n",
       "</style>\n",
       "<table border=\"1\" class=\"dataframe\">\n",
       "  <thead>\n",
       "    <tr style=\"text-align: right;\">\n",
       "      <th></th>\n",
       "      <th>user_id</th>\n",
       "      <th>post_month</th>\n",
       "      <th>first_month_post</th>\n",
       "      <th>first_month_post</th>\n",
       "      <th>size</th>\n",
       "    </tr>\n",
       "  </thead>\n",
       "  <tbody>\n",
       "    <tr>\n",
       "      <th>0</th>\n",
       "      <td>1</td>\n",
       "      <td>2008-08-01</td>\n",
       "      <td>2008-07-01</td>\n",
       "      <td>2008-07-01</td>\n",
       "      <td>3</td>\n",
       "    </tr>\n",
       "    <tr>\n",
       "      <th>1</th>\n",
       "      <td>1</td>\n",
       "      <td>2008-07-01</td>\n",
       "      <td>2008-07-01</td>\n",
       "      <td>2008-07-01</td>\n",
       "      <td>3</td>\n",
       "    </tr>\n",
       "    <tr>\n",
       "      <th>2</th>\n",
       "      <td>1</td>\n",
       "      <td>2008-08-01</td>\n",
       "      <td>2008-07-01</td>\n",
       "      <td>2008-07-01</td>\n",
       "      <td>3</td>\n",
       "    </tr>\n",
       "    <tr>\n",
       "      <th>3</th>\n",
       "      <td>1</td>\n",
       "      <td>2008-09-01</td>\n",
       "      <td>2008-07-01</td>\n",
       "      <td>2008-07-01</td>\n",
       "      <td>3</td>\n",
       "    </tr>\n",
       "    <tr>\n",
       "      <th>4</th>\n",
       "      <td>1</td>\n",
       "      <td>2008-08-01</td>\n",
       "      <td>2008-07-01</td>\n",
       "      <td>2008-07-01</td>\n",
       "      <td>3</td>\n",
       "    </tr>\n",
       "    <tr>\n",
       "      <th>5</th>\n",
       "      <td>1</td>\n",
       "      <td>2008-07-01</td>\n",
       "      <td>2008-07-01</td>\n",
       "      <td>2008-07-01</td>\n",
       "      <td>3</td>\n",
       "    </tr>\n",
       "    <tr>\n",
       "      <th>6</th>\n",
       "      <td>1</td>\n",
       "      <td>2008-09-01</td>\n",
       "      <td>2008-07-01</td>\n",
       "      <td>2008-07-01</td>\n",
       "      <td>3</td>\n",
       "    </tr>\n",
       "    <tr>\n",
       "      <th>7</th>\n",
       "      <td>1</td>\n",
       "      <td>2008-08-01</td>\n",
       "      <td>2008-07-01</td>\n",
       "      <td>2008-07-01</td>\n",
       "      <td>3</td>\n",
       "    </tr>\n",
       "    <tr>\n",
       "      <th>8</th>\n",
       "      <td>1</td>\n",
       "      <td>2008-08-01</td>\n",
       "      <td>2008-07-01</td>\n",
       "      <td>2008-07-01</td>\n",
       "      <td>3</td>\n",
       "    </tr>\n",
       "    <tr>\n",
       "      <th>9</th>\n",
       "      <td>1</td>\n",
       "      <td>2008-09-01</td>\n",
       "      <td>2008-07-01</td>\n",
       "      <td>2008-07-01</td>\n",
       "      <td>3</td>\n",
       "    </tr>\n",
       "  </tbody>\n",
       "</table>\n",
       "</div>"
      ],
      "text/plain": [
       "   user_id post_month first_month_post first_month_post  size\n",
       "0        1 2008-08-01       2008-07-01       2008-07-01     3\n",
       "1        1 2008-07-01       2008-07-01       2008-07-01     3\n",
       "2        1 2008-08-01       2008-07-01       2008-07-01     3\n",
       "3        1 2008-09-01       2008-07-01       2008-07-01     3\n",
       "4        1 2008-08-01       2008-07-01       2008-07-01     3\n",
       "5        1 2008-07-01       2008-07-01       2008-07-01     3\n",
       "6        1 2008-09-01       2008-07-01       2008-07-01     3\n",
       "7        1 2008-08-01       2008-07-01       2008-07-01     3\n",
       "8        1 2008-08-01       2008-07-01       2008-07-01     3\n",
       "9        1 2008-09-01       2008-07-01       2008-07-01     3"
      ]
     },
     "execution_count": 15,
     "metadata": {},
     "output_type": "execute_result"
    }
   ],
   "source": [
    "#CODE REVIEW\n",
    "profile_cohort = \"\"\"\n",
    "with user_cohort as (-- профиль \n",
    "\t\t\t\t\tSELECT user_id AS user_id,\n",
    "\t\t\t\t\tDATE_TRUNC('month', creation_date) as post_month,\n",
    "\t\t\t\t\tmin(DATE_TRUNC('month', creation_date)) OVER(PARTITION BY user_id) AS first_month_post\n",
    "\t\t\t\t\tFROM stackoverflow.posts),\n",
    "cohort_sizes as (-- размеры когорт\n",
    "\t\t\t\tselect first_month_post,\n",
    "\t\t\t\t\tcount(distinct user_id) as size\n",
    "\t\t\t\tfrom user_cohort\n",
    "\t\t\t\tgroup by first_month_post)\n",
    "SELECT *\n",
    "FROM user_cohort p\n",
    "JOIN cohort_sizes c\n",
    "ON p.first_month_post = c.first_month_post;\n",
    "\"\"\"\n",
    "\n",
    "pd.read_sql(profile_cohort, con=engine).head(10)"
   ]
  },
  {
   "cell_type": "markdown",
   "metadata": {},
   "source": [
    "Далее справиться необходимо тебе. В полученных данных <code>size</code> - размер когорты - это означает, что полученное тобой user_cnt не должен быть больше его"
   ]
  },
  {
   "cell_type": "markdown",
   "metadata": {
    "id": "_msBtnb2DWLC"
   },
   "source": [
    "Постройте тепловую карту Retention Rate. Какие аномалии или другие необычные явления удалось выявить? Сформулируйте гипотезы о возможных причинах."
   ]
  },
  {
   "cell_type": "code",
   "execution_count": 16,
   "metadata": {
    "id": "qAEJc8H1DWLC"
   },
   "outputs": [
    {
     "data": {
      "image/png": "[encoded data removed]",
      "text/plain": [
       "<Figure size 1152x1152 with 2 Axes>"
      ]
     },
     "metadata": {
      "needs_background": "light"
     },
     "output_type": "display_data"
    }
   ],
   "source": [
    "# постройте тепловую карту Retention Rate\n",
    "# создаём сводную таблицу с результатами\n",
    "retention = retention_rate_df.pivot('cohort_dt', 'session_date', 'retention_rate')\n",
    "retention.index = [str(x)[0:10] for x in retention.index]\n",
    "retention.columns = [str(x)[0:10] for x in retention.columns]\n",
    "\n",
    "# строим хитмэп\n",
    "plt.figure(figsize=(16, 16)) # задаём размер графика\n",
    "sns.heatmap(retention, # датафрейм с данными\n",
    "            annot=True, # добавляем подписи\n",
    "            fmt='') # задаём исходный формат\n",
    "plt.title('Тепловая карта') # название графика\n",
    "plt.show() "
   ]
  },
  {
   "cell_type": "markdown",
   "metadata": {
    "id": "EgOfIsI4DWLC"
   },
   "source": [
    "*опишите аномалии или другие необычные явления и сформулируйте гипотезы*\n",
    "Меньше всего их было в когорте июля 2008 года. Зато во втором месяце пользователи активизировались. Самая активная когорта - зарегистрировавшаяся в декабре 2008 года. Также видим много аномалий, когда пользователи зарегистрировались позже, чем дата выхода их первого поста. Они отмечены черным цветом на тепловой карте."
   ]
  },
  {
   "cell_type": "markdown",
   "metadata": {
    "id": "1k7oPWt5DWLK"
   },
   "source": [
    "## Задание 9\n"
   ]
  },
  {
   "cell_type": "markdown",
   "metadata": {
    "id": "ALsYVSyRDWLM"
   },
   "source": [
    "На сколько процентов менялось количество постов ежемесячно с 1 сентября по 31 декабря 2008 года? Отобразите таблицу со следующими полями:\n",
    "\n",
    "- номер месяца;\n",
    "- количество постов за месяц;\n",
    "- процент, который показывает, насколько изменилось количество постов в текущем месяце по сравнению с предыдущим.\n",
    "\n",
    "Если постов стало меньше, значение процента должно быть отрицательным, если больше — положительным. Округлите значение процента до двух знаков после запятой.\n",
    "\n",
    "Напомним, что при делении одного целого числа на другое в PostgreSQL в результате получится целое число, округлённое до ближайшего целого вниз. Чтобы этого избежать, переведите делимое в тип `numeric`."
   ]
  },
  {
   "cell_type": "markdown",
   "metadata": {
    "id": "u4E2zF8DDWLM"
   },
   "source": [
    "| creation_month | posts_count | percentage |\n",
    "| -------------- | ----------- | ---------- |\n",
    "| 9 | 70731 | Nan |\n",
    "| 10 | 63102 | -10.33 |\n",
    "| ... | ... | ... |"
   ]
  },
  {
   "cell_type": "code",
   "execution_count": 17,
   "metadata": {
    "id": "Mb5pShStDWLN"
   },
   "outputs": [
    {
     "data": {
      "text/html": [
       "<div>\n",
       "<style scoped>\n",
       "    .dataframe tbody tr th:only-of-type {\n",
       "        vertical-align: middle;\n",
       "    }\n",
       "\n",
       "    .dataframe tbody tr th {\n",
       "        vertical-align: top;\n",
       "    }\n",
       "\n",
       "    .dataframe thead th {\n",
       "        text-align: right;\n",
       "    }\n",
       "</style>\n",
       "<table border=\"1\" class=\"dataframe\">\n",
       "  <thead>\n",
       "    <tr style=\"text-align: right;\">\n",
       "      <th></th>\n",
       "      <th>creation_month</th>\n",
       "      <th>posts_count</th>\n",
       "      <th>percentage</th>\n",
       "    </tr>\n",
       "  </thead>\n",
       "  <tbody>\n",
       "    <tr>\n",
       "      <th>0</th>\n",
       "      <td>9.0</td>\n",
       "      <td>70371</td>\n",
       "      <td>NaN</td>\n",
       "    </tr>\n",
       "    <tr>\n",
       "      <th>1</th>\n",
       "      <td>10.0</td>\n",
       "      <td>63102</td>\n",
       "      <td>-10.33</td>\n",
       "    </tr>\n",
       "    <tr>\n",
       "      <th>2</th>\n",
       "      <td>11.0</td>\n",
       "      <td>46975</td>\n",
       "      <td>-25.56</td>\n",
       "    </tr>\n",
       "    <tr>\n",
       "      <th>3</th>\n",
       "      <td>12.0</td>\n",
       "      <td>44592</td>\n",
       "      <td>-5.07</td>\n",
       "    </tr>\n",
       "  </tbody>\n",
       "</table>\n",
       "</div>"
      ],
      "text/plain": [
       "   creation_month  posts_count  percentage\n",
       "0             9.0        70371         NaN\n",
       "1            10.0        63102      -10.33\n",
       "2            11.0        46975      -25.56\n",
       "3            12.0        44592       -5.07"
      ]
     },
     "execution_count": 17,
     "metadata": {},
     "output_type": "execute_result"
    }
   ],
   "source": [
    "# напишите запрос\n",
    "query = '''\n",
    "WITH qwerty AS\n",
    "(SELECT DISTINCT EXTRACT (MONTH FROM CAST(creation_date AS timestamp)) AS creation_month,\n",
    "       COUNT (id) OVER (PARTITION BY EXTRACT (MONTH FROM CAST(creation_date AS timestamp))) AS posts_count\n",
    "FROM stackoverflow.posts\n",
    "WHERE creation_date >= '2008-09-01' AND creation_date < '2009-01-01'\n",
    "GROUP BY creation_date, id)\n",
    "SELECT creation_month,\n",
    "       posts_count,\n",
    "       ROUND((((posts_count::numeric / LAG(posts_count, 1, NULL) OVER (ORDER BY creation_month)) - 1) * 100),2) AS percentage\n",
    "FROM qwerty;\n",
    "'''\n",
    " \n",
    "\n",
    "# выполните запрос\n",
    "creation_month = pd.read_sql_query(query, con=engine)\n",
    "creation_month"
   ]
  },
  {
   "cell_type": "markdown",
   "metadata": {
    "id": "9NQE2y_MDWLP"
   },
   "source": [
    "Постройте круговую диаграмму с количеством постов по месяцам."
   ]
  },
  {
   "cell_type": "code",
   "execution_count": 18,
   "metadata": {
    "id": "377ABjiVDWLP",
    "scrolled": true
   },
   "outputs": [
    {
     "data": {
      "image/png": "[encoded data removed]",
      "text/plain": [
       "<Figure size 432x288 with 1 Axes>"
      ]
     },
     "metadata": {},
     "output_type": "display_data"
    }
   ],
   "source": [
    "# постройте круговую диаграмму с количеством постов по месяцам\n",
    "\n",
    "labels = 'Сентябрь', 'Октябрь', 'Ноябрь', 'Декабрь'\n",
    "sizes = [70371,63102,46975,44592]\n",
    "# строим диаграмму\n",
    "fig1, ax1 = plt.subplots()\n",
    "explode = (0, 0.1, 0, 0) \n",
    "ax1.pie(sizes, explode=explode, labels=labels,autopct='%1.1f%%',\n",
    "        shadow=True, startangle=90)\n",
    "\n",
    "plt.show()"
   ]
  },
  {
   "cell_type": "markdown",
   "metadata": {
    "id": "uw7qMtafDWLP"
   },
   "source": [
    "## Задание 10"
   ]
  },
  {
   "cell_type": "markdown",
   "metadata": {
    "id": "oRBpWKx3DWLQ"
   },
   "source": [
    "Выгрузите данные активности пользователя, который опубликовал больше всего постов за всё время. Выведите данные за октябрь 2008 года в таком виде:\n",
    "\n",
    "- номер недели;\n",
    "- дата и время последнего поста, опубликованного на этой неделе."
   ]
  },
  {
   "cell_type": "markdown",
   "metadata": {
    "id": "XjAWSn_3DWLQ"
   },
   "source": [
    "| week_creation | creation_date |\n",
    "| ------------- | ------------- |\n",
    "| 40 | 2008-10-05 09:00:58 |\n",
    "| 41 | 2008-10-12 21:22:23 |\n",
    "| ... | ... |"
   ]
  },
  {
   "cell_type": "code",
   "execution_count": 19,
   "metadata": {
    "id": "r5F5fSkwDWLQ"
   },
   "outputs": [
    {
     "data": {
      "text/html": [
       "<div>\n",
       "<style scoped>\n",
       "    .dataframe tbody tr th:only-of-type {\n",
       "        vertical-align: middle;\n",
       "    }\n",
       "\n",
       "    .dataframe tbody tr th {\n",
       "        vertical-align: top;\n",
       "    }\n",
       "\n",
       "    .dataframe thead th {\n",
       "        text-align: right;\n",
       "    }\n",
       "</style>\n",
       "<table border=\"1\" class=\"dataframe\">\n",
       "  <thead>\n",
       "    <tr style=\"text-align: right;\">\n",
       "      <th></th>\n",
       "      <th>week_creation</th>\n",
       "      <th>max</th>\n",
       "    </tr>\n",
       "  </thead>\n",
       "  <tbody>\n",
       "    <tr>\n",
       "      <th>0</th>\n",
       "      <td>40.0</td>\n",
       "      <td>2008-10-05 09:00:58</td>\n",
       "    </tr>\n",
       "    <tr>\n",
       "      <th>1</th>\n",
       "      <td>41.0</td>\n",
       "      <td>2008-10-12 21:22:23</td>\n",
       "    </tr>\n",
       "    <tr>\n",
       "      <th>2</th>\n",
       "      <td>42.0</td>\n",
       "      <td>2008-10-19 06:49:30</td>\n",
       "    </tr>\n",
       "    <tr>\n",
       "      <th>3</th>\n",
       "      <td>43.0</td>\n",
       "      <td>2008-10-26 21:44:36</td>\n",
       "    </tr>\n",
       "    <tr>\n",
       "      <th>4</th>\n",
       "      <td>44.0</td>\n",
       "      <td>2008-10-31 22:16:01</td>\n",
       "    </tr>\n",
       "  </tbody>\n",
       "</table>\n",
       "</div>"
      ],
      "text/plain": [
       "   week_creation                 max\n",
       "0           40.0 2008-10-05 09:00:58\n",
       "1           41.0 2008-10-12 21:22:23\n",
       "2           42.0 2008-10-19 06:49:30\n",
       "3           43.0 2008-10-26 21:44:36\n",
       "4           44.0 2008-10-31 22:16:01"
      ]
     },
     "execution_count": 19,
     "metadata": {},
     "output_type": "execute_result"
    }
   ],
   "source": [
    "# напишите запрос\n",
    "query = '''\n",
    "SELECT DISTINCT EXTRACT (WEEK FROM CAST(creation_date AS date)) AS week_creation,\n",
    "       MAX(creation_date) OVER (ORDER BY EXTRACT (WEEK FROM CAST(creation_date AS date)))\n",
    "FROM stackoverflow.posts \n",
    "WHERE creation_date >= '2008-10-01' AND creation_date < '2008-11-01'\n",
    "AND user_id in (SELECT user_id\n",
    "                 FROM stackoverflow.posts \n",
    "                 GROUP BY user_id\n",
    "                 ORDER BY COUNT (id) DESC\n",
    "                 LIMIT 1)\n",
    "GROUP BY week_creation, creation_date;\n",
    "'''\n",
    "\n",
    "\n",
    "# выполните запрос\n",
    "max_post = pd.read_sql_query(query, con=engine)\n",
    "max_post"
   ]
  }
 ],
 "metadata": {
  "ExecuteTimeLog": [
   {
    "duration": 56,
    "start_time": "2022-09-28T03:32:08.894Z"
   },
   {
    "duration": 6,
    "start_time": "2022-09-28T03:32:23.186Z"
   },
   {
    "duration": 841,
    "start_time": "2022-09-28T03:32:33.582Z"
   },
   {
    "duration": 4,
    "start_time": "2022-09-28T03:32:36.174Z"
   },
   {
    "duration": 4914,
    "start_time": "2022-09-28T03:32:37.918Z"
   },
   {
    "duration": 260,
    "start_time": "2022-09-28T03:32:42.834Z"
   },
   {
    "duration": 141,
    "start_time": "2022-09-28T03:32:43.095Z"
   },
   {
    "duration": 116,
    "start_time": "2022-09-28T03:33:02.182Z"
   },
   {
    "duration": 169,
    "start_time": "2022-09-28T03:33:23.582Z"
   },
   {
    "duration": 99,
    "start_time": "2022-09-28T03:33:32.944Z"
   },
   {
    "duration": 46,
    "start_time": "2022-09-28T03:33:46.246Z"
   },
   {
    "duration": 107,
    "start_time": "2022-09-28T03:35:06.854Z"
   },
   {
    "duration": 47,
    "start_time": "2022-09-28T03:35:25.793Z"
   },
   {
    "duration": 46,
    "start_time": "2022-09-28T03:35:28.992Z"
   },
   {
    "duration": 119,
    "start_time": "2022-09-28T03:36:38.438Z"
   },
   {
    "duration": 127,
    "start_time": "2022-09-28T03:38:13.918Z"
   },
   {
    "duration": 111,
    "start_time": "2022-09-28T03:38:28.892Z"
   },
   {
    "duration": 90,
    "start_time": "2022-09-28T03:38:45.531Z"
   },
   {
    "duration": 188,
    "start_time": "2022-09-28T03:39:10.893Z"
   },
   {
    "duration": 148,
    "start_time": "2022-09-28T03:39:42.565Z"
   },
   {
    "duration": 113,
    "start_time": "2022-09-28T03:41:53.644Z"
   },
   {
    "duration": 212,
    "start_time": "2022-09-28T03:42:05.104Z"
   },
   {
    "duration": 182,
    "start_time": "2022-09-28T03:42:08.333Z"
   },
   {
    "duration": 140,
    "start_time": "2022-09-28T03:42:21.777Z"
   },
   {
    "duration": 151,
    "start_time": "2022-09-28T03:43:35.175Z"
   },
   {
    "duration": 117,
    "start_time": "2022-09-28T03:45:11.047Z"
   },
   {
    "duration": 160,
    "start_time": "2022-09-28T03:45:47.573Z"
   },
   {
    "duration": 216,
    "start_time": "2022-09-28T03:45:57.232Z"
   },
   {
    "duration": 192,
    "start_time": "2022-09-28T03:46:49.095Z"
   },
   {
    "duration": 179,
    "start_time": "2022-09-28T03:47:03.854Z"
   },
   {
    "duration": 145,
    "start_time": "2022-09-28T03:47:47.749Z"
   },
   {
    "duration": 97,
    "start_time": "2022-09-28T03:48:03.103Z"
   },
   {
    "duration": 99,
    "start_time": "2022-09-28T03:48:19.969Z"
   },
   {
    "duration": 104,
    "start_time": "2022-09-28T03:48:41.297Z"
   },
   {
    "duration": 128,
    "start_time": "2022-09-28T03:49:24.868Z"
   },
   {
    "duration": 104,
    "start_time": "2022-09-28T03:50:17.472Z"
   },
   {
    "duration": 137,
    "start_time": "2022-09-28T03:50:31.763Z"
   },
   {
    "duration": 109,
    "start_time": "2022-09-28T03:51:18.393Z"
   },
   {
    "duration": 94,
    "start_time": "2022-09-28T03:51:36.392Z"
   },
   {
    "duration": 70,
    "start_time": "2022-09-28T03:52:00.797Z"
   },
   {
    "duration": 130,
    "start_time": "2022-09-28T05:06:43.368Z"
   },
   {
    "duration": 134,
    "start_time": "2022-09-28T05:07:44.862Z"
   },
   {
    "duration": 290,
    "start_time": "2022-09-28T05:09:51.416Z"
   },
   {
    "duration": 141,
    "start_time": "2022-09-28T05:11:54.370Z"
   },
   {
    "duration": 125,
    "start_time": "2022-09-28T05:13:22.571Z"
   },
   {
    "duration": 123,
    "start_time": "2022-09-28T05:14:22.474Z"
   },
   {
    "duration": 500,
    "start_time": "2022-09-28T05:14:41.758Z"
   },
   {
    "duration": 434,
    "start_time": "2022-09-28T05:15:34.046Z"
   },
   {
    "duration": 509,
    "start_time": "2022-09-28T05:15:59.832Z"
   },
   {
    "duration": 100,
    "start_time": "2022-09-28T05:16:27.928Z"
   },
   {
    "duration": 267,
    "start_time": "2022-09-28T05:16:40.770Z"
   },
   {
    "duration": 121,
    "start_time": "2022-09-28T09:34:01.484Z"
   },
   {
    "duration": 120,
    "start_time": "2022-09-28T09:34:21.303Z"
   },
   {
    "duration": 690,
    "start_time": "2022-09-28T09:34:54.451Z"
   },
   {
    "duration": 649,
    "start_time": "2022-09-28T09:37:03.504Z"
   },
   {
    "duration": 200,
    "start_time": "2022-09-28T09:39:35.143Z"
   },
   {
    "duration": 125,
    "start_time": "2022-09-28T09:40:13.794Z"
   },
   {
    "duration": 113,
    "start_time": "2022-09-28T09:40:26.411Z"
   },
   {
    "duration": 124,
    "start_time": "2022-09-28T09:41:42.469Z"
   },
   {
    "duration": 184,
    "start_time": "2022-09-28T09:41:57.196Z"
   },
   {
    "duration": 703,
    "start_time": "2022-09-28T09:42:27.512Z"
   },
   {
    "duration": 530,
    "start_time": "2022-09-28T09:43:17.066Z"
   },
   {
    "duration": 109,
    "start_time": "2022-09-28T09:48:16.682Z"
   },
   {
    "duration": 111,
    "start_time": "2022-09-28T09:48:34.009Z"
   },
   {
    "duration": 150,
    "start_time": "2022-09-28T09:48:47.525Z"
   },
   {
    "duration": 106,
    "start_time": "2022-09-28T09:52:23.452Z"
   },
   {
    "duration": 498,
    "start_time": "2022-09-28T09:52:45.131Z"
   },
   {
    "duration": 597,
    "start_time": "2022-09-28T09:53:38.401Z"
   },
   {
    "duration": 640,
    "start_time": "2022-09-28T09:54:00.714Z"
   },
   {
    "duration": 128,
    "start_time": "2022-09-28T09:54:21.678Z"
   },
   {
    "duration": 632,
    "start_time": "2022-09-28T09:54:30.944Z"
   },
   {
    "duration": 117,
    "start_time": "2022-09-28T09:55:29.222Z"
   },
   {
    "duration": 533,
    "start_time": "2022-09-28T09:55:42.162Z"
   },
   {
    "duration": 337,
    "start_time": "2022-09-28T09:55:57.500Z"
   },
   {
    "duration": 496,
    "start_time": "2022-09-28T09:56:33.065Z"
   },
   {
    "duration": 174,
    "start_time": "2022-09-28T09:57:18.354Z"
   },
   {
    "duration": 512,
    "start_time": "2022-09-28T09:58:36.360Z"
   },
   {
    "duration": 5,
    "start_time": "2022-09-28T10:05:01.316Z"
   },
   {
    "duration": 100,
    "start_time": "2022-09-28T10:24:22.388Z"
   },
   {
    "duration": 185,
    "start_time": "2022-09-28T10:24:35.945Z"
   },
   {
    "duration": 118,
    "start_time": "2022-09-28T10:31:49.679Z"
   },
   {
    "duration": 75,
    "start_time": "2022-09-28T10:34:59.404Z"
   },
   {
    "duration": 124,
    "start_time": "2022-09-28T10:38:55.878Z"
   },
   {
    "duration": 1276,
    "start_time": "2022-09-28T10:50:01.669Z"
   },
   {
    "duration": 1170,
    "start_time": "2022-09-28T10:51:26.210Z"
   },
   {
    "duration": 40,
    "start_time": "2022-09-28T10:53:57.084Z"
   },
   {
    "duration": 40,
    "start_time": "2022-09-28T10:54:36.301Z"
   },
   {
    "duration": 101,
    "start_time": "2022-09-28T10:55:28.748Z"
   },
   {
    "duration": 63,
    "start_time": "2022-09-28T10:55:41.862Z"
   },
   {
    "duration": 112,
    "start_time": "2022-09-28T11:08:27.359Z"
   },
   {
    "duration": 102,
    "start_time": "2022-09-28T11:08:46.882Z"
   },
   {
    "duration": 138,
    "start_time": "2022-09-28T11:10:39.267Z"
   },
   {
    "duration": 101,
    "start_time": "2022-09-28T11:11:57.234Z"
   },
   {
    "duration": 96,
    "start_time": "2022-09-28T11:12:25.532Z"
   },
   {
    "duration": 83,
    "start_time": "2022-09-28T11:12:49.413Z"
   },
   {
    "duration": 131,
    "start_time": "2022-09-28T11:28:49.394Z"
   },
   {
    "duration": 107,
    "start_time": "2022-09-28T11:29:13.457Z"
   },
   {
    "duration": 178,
    "start_time": "2022-09-28T11:31:27.059Z"
   },
   {
    "duration": 123,
    "start_time": "2022-09-28T11:33:38.042Z"
   },
   {
    "duration": 150,
    "start_time": "2022-09-28T11:34:04.761Z"
   },
   {
    "duration": 66,
    "start_time": "2022-09-28T11:34:22.811Z"
   },
   {
    "duration": 111,
    "start_time": "2022-09-28T11:36:23.236Z"
   },
   {
    "duration": 111,
    "start_time": "2022-09-28T11:36:39.594Z"
   },
   {
    "duration": 155,
    "start_time": "2022-09-28T11:36:49.875Z"
   },
   {
    "duration": 117,
    "start_time": "2022-09-28T11:37:12.055Z"
   },
   {
    "duration": 103,
    "start_time": "2022-09-28T11:37:21.274Z"
   },
   {
    "duration": 224,
    "start_time": "2022-09-28T11:39:15.032Z"
   },
   {
    "duration": 107,
    "start_time": "2022-09-28T11:39:24.168Z"
   },
   {
    "duration": 120,
    "start_time": "2022-09-28T11:39:41.912Z"
   },
   {
    "duration": 96,
    "start_time": "2022-09-28T11:39:51.572Z"
   },
   {
    "duration": 348,
    "start_time": "2022-09-28T11:41:49.340Z"
   },
   {
    "duration": 89,
    "start_time": "2022-09-28T11:42:01.821Z"
   },
   {
    "duration": 108,
    "start_time": "2022-09-28T11:43:31.872Z"
   },
   {
    "duration": 165,
    "start_time": "2022-09-28T12:14:04.895Z"
   },
   {
    "duration": 286,
    "start_time": "2022-09-28T12:19:21.710Z"
   },
   {
    "duration": 110,
    "start_time": "2022-09-28T12:20:29.256Z"
   },
   {
    "duration": 105,
    "start_time": "2022-09-28T12:21:30.199Z"
   },
   {
    "duration": 203,
    "start_time": "2022-09-28T12:29:31.123Z"
   },
   {
    "duration": 96,
    "start_time": "2022-09-28T12:29:41.393Z"
   },
   {
    "duration": 150,
    "start_time": "2022-09-28T12:30:04.211Z"
   },
   {
    "duration": 104,
    "start_time": "2022-09-28T12:30:26.167Z"
   },
   {
    "duration": 1327,
    "start_time": "2022-09-28T12:49:12.590Z"
   },
   {
    "duration": 102,
    "start_time": "2022-09-28T12:51:19.321Z"
   },
   {
    "duration": 1261,
    "start_time": "2022-09-28T12:51:42.178Z"
   },
   {
    "duration": 3735,
    "start_time": "2022-09-28T12:52:15.073Z"
   },
   {
    "duration": 148,
    "start_time": "2022-09-28T12:59:52.024Z"
   },
   {
    "duration": 370,
    "start_time": "2022-09-28T13:00:24.293Z"
   },
   {
    "duration": 168,
    "start_time": "2022-09-28T13:00:39.104Z"
   },
   {
    "duration": 213,
    "start_time": "2022-09-28T13:01:53.396Z"
   },
   {
    "duration": 1379,
    "start_time": "2022-09-28T13:02:02.853Z"
   },
   {
    "duration": 126,
    "start_time": "2022-09-28T13:08:20.144Z"
   },
   {
    "duration": 126,
    "start_time": "2022-09-28T13:08:46.933Z"
   },
   {
    "duration": 111,
    "start_time": "2022-09-28T13:09:38.592Z"
   },
   {
    "duration": 1301,
    "start_time": "2022-09-28T13:10:44.398Z"
   },
   {
    "duration": 145,
    "start_time": "2022-09-28T13:23:26.420Z"
   },
   {
    "duration": 274,
    "start_time": "2022-09-28T13:23:50.551Z"
   },
   {
    "duration": 9,
    "start_time": "2022-09-28T13:25:38.149Z"
   },
   {
    "duration": 304,
    "start_time": "2022-09-28T13:25:46.004Z"
   },
   {
    "duration": 17,
    "start_time": "2022-09-28T13:25:51.607Z"
   },
   {
    "duration": 455,
    "start_time": "2022-09-28T13:26:42.370Z"
   },
   {
    "duration": 551,
    "start_time": "2022-09-28T13:26:52.555Z"
   },
   {
    "duration": 48,
    "start_time": "2022-09-29T09:51:20.729Z"
   },
   {
    "duration": 1486,
    "start_time": "2022-09-29T09:51:30.035Z"
   },
   {
    "duration": 4,
    "start_time": "2022-09-29T09:51:31.522Z"
   },
   {
    "duration": 10173,
    "start_time": "2022-09-29T09:51:31.527Z"
   },
   {
    "duration": 237,
    "start_time": "2022-09-29T09:51:41.702Z"
   },
   {
    "duration": 13,
    "start_time": "2022-09-29T09:51:41.941Z"
   },
   {
    "duration": 70,
    "start_time": "2022-09-29T09:51:41.956Z"
   },
   {
    "duration": 428,
    "start_time": "2022-09-29T09:51:42.028Z"
   },
   {
    "duration": 5,
    "start_time": "2022-09-29T09:51:42.458Z"
   },
   {
    "duration": 102,
    "start_time": "2022-09-29T09:51:42.465Z"
   },
   {
    "duration": 1135,
    "start_time": "2022-09-29T09:51:42.570Z"
   },
   {
    "duration": 92,
    "start_time": "2022-09-29T09:51:43.707Z"
   },
   {
    "duration": 307,
    "start_time": "2022-09-29T09:51:43.801Z"
   },
   {
    "duration": 0,
    "start_time": "2022-09-29T09:51:44.110Z"
   },
   {
    "duration": 0,
    "start_time": "2022-09-29T09:51:44.111Z"
   },
   {
    "duration": 0,
    "start_time": "2022-09-29T09:51:44.112Z"
   },
   {
    "duration": 0,
    "start_time": "2022-09-29T09:51:44.113Z"
   },
   {
    "duration": 0,
    "start_time": "2022-09-29T09:51:44.114Z"
   },
   {
    "duration": 0,
    "start_time": "2022-09-29T09:51:44.116Z"
   },
   {
    "duration": 0,
    "start_time": "2022-09-29T09:51:44.117Z"
   },
   {
    "duration": 0,
    "start_time": "2022-09-29T09:51:44.119Z"
   },
   {
    "duration": 119,
    "start_time": "2022-09-29T09:51:45.993Z"
   },
   {
    "duration": 111,
    "start_time": "2022-09-29T09:52:07.838Z"
   },
   {
    "duration": 169,
    "start_time": "2022-09-29T09:52:25.311Z"
   },
   {
    "duration": 154,
    "start_time": "2022-09-29T09:52:56.735Z"
   },
   {
    "duration": 123,
    "start_time": "2022-09-29T09:53:02.318Z"
   },
   {
    "duration": 134,
    "start_time": "2022-09-29T09:53:24.477Z"
   },
   {
    "duration": 125,
    "start_time": "2022-09-29T09:53:39.409Z"
   },
   {
    "duration": 186,
    "start_time": "2022-09-29T09:54:58.102Z"
   },
   {
    "duration": 134,
    "start_time": "2022-09-29T10:33:31.346Z"
   },
   {
    "duration": 124,
    "start_time": "2022-09-29T10:34:37.592Z"
   },
   {
    "duration": 117,
    "start_time": "2022-09-29T10:43:33.282Z"
   },
   {
    "duration": 77,
    "start_time": "2022-09-29T10:45:00.461Z"
   },
   {
    "duration": 68,
    "start_time": "2022-09-29T10:45:48.436Z"
   },
   {
    "duration": 67,
    "start_time": "2022-09-29T10:46:05.220Z"
   },
   {
    "duration": 125,
    "start_time": "2022-09-29T10:47:27.291Z"
   },
   {
    "duration": 14,
    "start_time": "2022-09-29T10:51:51.374Z"
   },
   {
    "duration": 1195,
    "start_time": "2022-09-29T10:51:57.139Z"
   },
   {
    "duration": 5,
    "start_time": "2022-09-29T10:51:58.336Z"
   },
   {
    "duration": 7509,
    "start_time": "2022-09-29T10:51:58.342Z"
   },
   {
    "duration": 215,
    "start_time": "2022-09-29T10:52:05.853Z"
   },
   {
    "duration": 13,
    "start_time": "2022-09-29T10:52:06.069Z"
   },
   {
    "duration": 76,
    "start_time": "2022-09-29T10:52:06.083Z"
   },
   {
    "duration": 432,
    "start_time": "2022-09-29T10:52:06.160Z"
   },
   {
    "duration": 5,
    "start_time": "2022-09-29T10:52:06.594Z"
   },
   {
    "duration": 106,
    "start_time": "2022-09-29T10:52:06.601Z"
   },
   {
    "duration": 1150,
    "start_time": "2022-09-29T10:52:06.710Z"
   },
   {
    "duration": 90,
    "start_time": "2022-09-29T10:52:07.861Z"
   },
   {
    "duration": 154,
    "start_time": "2022-09-29T10:52:07.953Z"
   },
   {
    "duration": 2,
    "start_time": "2022-09-29T10:52:08.109Z"
   },
   {
    "duration": 1238,
    "start_time": "2022-09-29T10:52:08.113Z"
   },
   {
    "duration": 438,
    "start_time": "2022-09-29T10:52:09.650Z"
   },
   {
    "duration": 3,
    "start_time": "2022-09-29T10:52:10.089Z"
   },
   {
    "duration": 28,
    "start_time": "2022-09-29T10:52:10.093Z"
   },
   {
    "duration": 6,
    "start_time": "2022-09-29T10:52:10.123Z"
   },
   {
    "duration": 14,
    "start_time": "2022-09-29T10:52:10.131Z"
   },
   {
    "duration": 290,
    "start_time": "2022-09-29T10:52:10.147Z"
   },
   {
    "duration": 271,
    "start_time": "2022-09-29T11:15:30.736Z"
   },
   {
    "duration": 137,
    "start_time": "2022-09-29T11:16:00.024Z"
   },
   {
    "duration": 200,
    "start_time": "2022-09-29T11:16:12.867Z"
   },
   {
    "duration": 665,
    "start_time": "2022-09-29T11:16:41.954Z"
   },
   {
    "duration": 109,
    "start_time": "2022-09-29T11:17:28.184Z"
   },
   {
    "duration": 807,
    "start_time": "2022-09-29T11:17:34.604Z"
   },
   {
    "duration": 111,
    "start_time": "2022-09-29T11:19:02.696Z"
   },
   {
    "duration": 909,
    "start_time": "2022-09-29T11:19:17.803Z"
   },
   {
    "duration": 104,
    "start_time": "2022-09-29T11:19:40.171Z"
   },
   {
    "duration": 988,
    "start_time": "2022-09-29T11:20:12.811Z"
   },
   {
    "duration": 338,
    "start_time": "2022-09-29T11:23:41.700Z"
   },
   {
    "duration": 2040,
    "start_time": "2022-09-29T11:30:07.105Z"
   },
   {
    "duration": 370,
    "start_time": "2022-09-29T11:30:19.638Z"
   },
   {
    "duration": 359,
    "start_time": "2022-09-29T11:31:04.830Z"
   },
   {
    "duration": 3,
    "start_time": "2022-09-29T11:35:56.575Z"
   },
   {
    "duration": 133,
    "start_time": "2022-09-29T11:36:35.553Z"
   },
   {
    "duration": 172,
    "start_time": "2022-09-29T11:36:41.625Z"
   },
   {
    "duration": 176,
    "start_time": "2022-09-29T11:37:31.501Z"
   },
   {
    "duration": 350,
    "start_time": "2022-09-29T11:37:54.679Z"
   },
   {
    "duration": 553,
    "start_time": "2022-09-29T11:38:08.829Z"
   },
   {
    "duration": 453,
    "start_time": "2022-09-29T11:38:21.226Z"
   },
   {
    "duration": 313,
    "start_time": "2022-09-29T11:38:27.637Z"
   },
   {
    "duration": 155,
    "start_time": "2022-09-29T11:38:56.136Z"
   },
   {
    "duration": 981,
    "start_time": "2022-09-29T11:39:01.790Z"
   },
   {
    "duration": 1097,
    "start_time": "2022-09-29T11:40:52.554Z"
   },
   {
    "duration": 137,
    "start_time": "2022-09-29T11:42:21.797Z"
   },
   {
    "duration": 1134,
    "start_time": "2022-09-29T11:42:46.392Z"
   },
   {
    "duration": 984,
    "start_time": "2022-09-29T11:44:25.141Z"
   },
   {
    "duration": 1131,
    "start_time": "2022-09-29T11:51:02.025Z"
   },
   {
    "duration": 115,
    "start_time": "2022-09-29T11:52:46.206Z"
   },
   {
    "duration": 98,
    "start_time": "2022-09-29T11:52:54.840Z"
   },
   {
    "duration": 1162,
    "start_time": "2022-09-29T11:54:55.391Z"
   },
   {
    "duration": 403,
    "start_time": "2022-09-29T11:57:01.788Z"
   },
   {
    "duration": 193,
    "start_time": "2022-09-29T12:00:24.865Z"
   },
   {
    "duration": 164,
    "start_time": "2022-09-29T12:00:32.496Z"
   },
   {
    "duration": 384,
    "start_time": "2022-09-29T12:03:56.781Z"
   },
   {
    "duration": 116,
    "start_time": "2022-09-29T12:04:41.389Z"
   },
   {
    "duration": 99,
    "start_time": "2022-09-29T12:06:57.700Z"
   },
   {
    "duration": 80,
    "start_time": "2022-09-29T12:09:51.820Z"
   },
   {
    "duration": 80,
    "start_time": "2022-09-29T12:10:03.967Z"
   },
   {
    "duration": 204,
    "start_time": "2022-09-29T12:11:02.278Z"
   },
   {
    "duration": 426,
    "start_time": "2022-09-29T12:14:26.956Z"
   },
   {
    "duration": 417,
    "start_time": "2022-09-29T12:15:55.323Z"
   },
   {
    "duration": 426,
    "start_time": "2022-09-29T12:16:03.466Z"
   },
   {
    "duration": 418,
    "start_time": "2022-09-29T12:17:32.667Z"
   },
   {
    "duration": 413,
    "start_time": "2022-09-29T12:17:51.945Z"
   },
   {
    "duration": 719,
    "start_time": "2022-09-29T12:18:54.849Z"
   },
   {
    "duration": 556,
    "start_time": "2022-09-29T12:19:24.046Z"
   },
   {
    "duration": 757,
    "start_time": "2022-09-29T12:23:52.076Z"
   },
   {
    "duration": 988,
    "start_time": "2022-09-29T12:25:02.494Z"
   },
   {
    "duration": 83,
    "start_time": "2022-09-29T12:34:49.125Z"
   },
   {
    "duration": 75,
    "start_time": "2022-09-29T12:35:20.201Z"
   },
   {
    "duration": 147,
    "start_time": "2022-09-29T12:35:55.792Z"
   },
   {
    "duration": 4422,
    "start_time": "2022-09-29T12:37:16.414Z"
   },
   {
    "duration": 146,
    "start_time": "2022-09-29T12:40:38.696Z"
   },
   {
    "duration": 92,
    "start_time": "2022-09-29T12:40:44.697Z"
   },
   {
    "duration": 111,
    "start_time": "2022-09-29T12:52:55.361Z"
   },
   {
    "duration": 97,
    "start_time": "2022-09-29T12:54:23.352Z"
   },
   {
    "duration": 141,
    "start_time": "2022-09-29T12:55:06.178Z"
   },
   {
    "duration": 77,
    "start_time": "2022-09-29T13:03:32.503Z"
   },
   {
    "duration": 75,
    "start_time": "2022-09-29T13:04:52.876Z"
   },
   {
    "duration": 65,
    "start_time": "2022-09-29T13:05:31.973Z"
   },
   {
    "duration": 70,
    "start_time": "2022-09-29T13:05:46.556Z"
   },
   {
    "duration": 103,
    "start_time": "2022-09-29T13:06:28.107Z"
   },
   {
    "duration": 65,
    "start_time": "2022-09-29T13:18:55.949Z"
   },
   {
    "duration": 68,
    "start_time": "2022-09-29T13:19:11.562Z"
   },
   {
    "duration": 63,
    "start_time": "2022-09-29T13:19:18.476Z"
   },
   {
    "duration": 113,
    "start_time": "2022-09-29T13:29:12.638Z"
   },
   {
    "duration": 374,
    "start_time": "2022-09-29T13:29:54.008Z"
   },
   {
    "duration": 1229,
    "start_time": "2022-09-29T13:30:19.148Z"
   },
   {
    "duration": 1180,
    "start_time": "2022-09-29T13:31:12.824Z"
   },
   {
    "duration": 3,
    "start_time": "2022-09-29T13:31:14.006Z"
   },
   {
    "duration": 1431,
    "start_time": "2022-09-30T08:30:50.065Z"
   },
   {
    "duration": 3,
    "start_time": "2022-09-30T08:30:51.498Z"
   },
   {
    "duration": 9105,
    "start_time": "2022-09-30T08:30:51.503Z"
   },
   {
    "duration": 73,
    "start_time": "2022-09-30T08:31:00.610Z"
   },
   {
    "duration": 15,
    "start_time": "2022-09-30T08:31:00.685Z"
   },
   {
    "duration": 432,
    "start_time": "2022-09-30T08:31:00.701Z"
   },
   {
    "duration": 13739,
    "start_time": "2022-09-30T08:31:01.135Z"
   },
   {
    "duration": 6,
    "start_time": "2022-09-30T08:31:14.875Z"
   },
   {
    "duration": 6056,
    "start_time": "2022-09-30T08:31:14.882Z"
   },
   {
    "duration": 11158,
    "start_time": "2022-09-30T08:31:20.940Z"
   },
   {
    "duration": 308,
    "start_time": "2022-09-30T08:31:32.100Z"
   },
   {
    "duration": 39,
    "start_time": "2022-09-30T08:31:32.410Z"
   },
   {
    "duration": 7859,
    "start_time": "2022-09-30T08:31:32.451Z"
   },
   {
    "duration": 1274,
    "start_time": "2022-09-30T08:31:40.312Z"
   },
   {
    "duration": 486,
    "start_time": "2022-09-30T08:31:41.588Z"
   },
   {
    "duration": 22026,
    "start_time": "2022-09-30T08:31:42.076Z"
   },
   {
    "duration": 110,
    "start_time": "2022-09-30T08:32:04.104Z"
   },
   {
    "duration": 21095,
    "start_time": "2022-09-30T08:32:04.216Z"
   },
   {
    "duration": 42,
    "start_time": "2022-09-30T12:11:22.200Z"
   },
   {
    "duration": 1291,
    "start_time": "2022-09-30T12:11:35.572Z"
   },
   {
    "duration": 3,
    "start_time": "2022-09-30T12:11:36.865Z"
   },
   {
    "duration": 7692,
    "start_time": "2022-09-30T12:11:36.869Z"
   },
   {
    "duration": 217,
    "start_time": "2022-09-30T12:11:44.564Z"
   },
   {
    "duration": 13,
    "start_time": "2022-09-30T12:11:44.783Z"
   },
   {
    "duration": 104,
    "start_time": "2022-09-30T12:11:44.798Z"
   },
   {
    "duration": 508,
    "start_time": "2022-09-30T12:11:44.904Z"
   },
   {
    "duration": 5,
    "start_time": "2022-09-30T12:11:45.413Z"
   },
   {
    "duration": 98,
    "start_time": "2022-09-30T12:11:45.419Z"
   },
   {
    "duration": 1225,
    "start_time": "2022-09-30T12:11:45.519Z"
   },
   {
    "duration": 92,
    "start_time": "2022-09-30T12:11:46.746Z"
   },
   {
    "duration": 65,
    "start_time": "2022-09-30T12:11:46.840Z"
   },
   {
    "duration": 1144,
    "start_time": "2022-09-30T12:11:46.906Z"
   },
   {
    "duration": 288,
    "start_time": "2022-09-30T12:11:48.051Z"
   },
   {
    "duration": 460,
    "start_time": "2022-09-30T12:11:48.340Z"
   },
   {
    "duration": 657,
    "start_time": "2022-09-30T12:11:48.802Z"
   },
   {
    "duration": 91,
    "start_time": "2022-09-30T12:11:49.461Z"
   },
   {
    "duration": 1015,
    "start_time": "2022-09-30T12:11:49.553Z"
   },
   {
    "duration": 205,
    "start_time": "2022-09-30T12:13:31.562Z"
   },
   {
    "duration": 128,
    "start_time": "2022-09-30T12:13:43.656Z"
   },
   {
    "duration": 51,
    "start_time": "2022-09-30T12:14:18.857Z"
   },
   {
    "duration": 51,
    "start_time": "2022-09-30T12:14:29.454Z"
   },
   {
    "duration": 181,
    "start_time": "2022-09-30T12:15:04.638Z"
   },
   {
    "duration": 97,
    "start_time": "2022-09-30T12:25:40.631Z"
   },
   {
    "duration": 109,
    "start_time": "2022-09-30T12:25:49.898Z"
   },
   {
    "duration": 113,
    "start_time": "2022-09-30T12:25:59.447Z"
   },
   {
    "duration": 175,
    "start_time": "2022-09-30T12:26:28.130Z"
   },
   {
    "duration": 117,
    "start_time": "2022-09-30T12:27:04.102Z"
   },
   {
    "duration": 4,
    "start_time": "2022-09-30T12:27:31.747Z"
   },
   {
    "duration": 107,
    "start_time": "2022-09-30T12:36:28.066Z"
   },
   {
    "duration": 120,
    "start_time": "2022-09-30T12:37:56.218Z"
   },
   {
    "duration": 64,
    "start_time": "2022-09-30T12:39:00.865Z"
   },
   {
    "duration": 64,
    "start_time": "2022-09-30T12:39:05.622Z"
   },
   {
    "duration": 39,
    "start_time": "2022-09-30T12:39:56.714Z"
   },
   {
    "duration": 273,
    "start_time": "2022-09-30T12:41:18.644Z"
   },
   {
    "duration": 270,
    "start_time": "2022-09-30T12:41:53.218Z"
   },
   {
    "duration": 274,
    "start_time": "2022-09-30T12:42:27.638Z"
   },
   {
    "duration": 288,
    "start_time": "2022-09-30T12:45:01.826Z"
   },
   {
    "duration": 66,
    "start_time": "2022-09-30T12:46:02.226Z"
   },
   {
    "duration": 281,
    "start_time": "2022-09-30T12:47:00.076Z"
   },
   {
    "duration": 405,
    "start_time": "2022-09-30T12:47:08.452Z"
   },
   {
    "duration": 291,
    "start_time": "2022-09-30T12:48:07.648Z"
   },
   {
    "duration": 259,
    "start_time": "2022-09-30T12:48:43.285Z"
   },
   {
    "duration": 249,
    "start_time": "2022-09-30T12:49:42.547Z"
   },
   {
    "duration": 142,
    "start_time": "2022-09-30T12:55:12.526Z"
   },
   {
    "duration": 115,
    "start_time": "2022-09-30T12:55:26.060Z"
   },
   {
    "duration": 101,
    "start_time": "2022-09-30T12:56:21.825Z"
   },
   {
    "duration": 136,
    "start_time": "2022-09-30T13:04:01.222Z"
   },
   {
    "duration": 99,
    "start_time": "2022-09-30T13:04:10.537Z"
   },
   {
    "duration": 115,
    "start_time": "2022-09-30T13:07:12.506Z"
   },
   {
    "duration": 97,
    "start_time": "2022-09-30T13:07:20.167Z"
   },
   {
    "duration": 192,
    "start_time": "2022-09-30T13:07:35.240Z"
   },
   {
    "duration": 141,
    "start_time": "2022-09-30T13:08:08.901Z"
   },
   {
    "duration": 143,
    "start_time": "2022-09-30T13:09:56.305Z"
   },
   {
    "duration": 156,
    "start_time": "2022-09-30T13:10:22.700Z"
   },
   {
    "duration": 155,
    "start_time": "2022-09-30T13:10:36.886Z"
   },
   {
    "duration": 110,
    "start_time": "2022-09-30T13:10:56.509Z"
   },
   {
    "duration": 124,
    "start_time": "2022-09-30T13:11:07.474Z"
   },
   {
    "duration": 1364,
    "start_time": "2022-10-01T06:01:44.276Z"
   },
   {
    "duration": 4,
    "start_time": "2022-10-01T06:01:45.642Z"
   },
   {
    "duration": 6960,
    "start_time": "2022-10-01T06:01:45.648Z"
   },
   {
    "duration": 216,
    "start_time": "2022-10-01T06:01:52.610Z"
   },
   {
    "duration": 15,
    "start_time": "2022-10-01T06:01:52.828Z"
   },
   {
    "duration": 54,
    "start_time": "2022-10-01T06:01:52.845Z"
   },
   {
    "duration": 160,
    "start_time": "2022-10-01T06:01:52.901Z"
   },
   {
    "duration": 7,
    "start_time": "2022-10-01T06:01:53.064Z"
   },
   {
    "duration": 108,
    "start_time": "2022-10-01T06:01:53.073Z"
   },
   {
    "duration": 1190,
    "start_time": "2022-10-01T06:01:53.183Z"
   },
   {
    "duration": 86,
    "start_time": "2022-10-01T06:01:54.375Z"
   },
   {
    "duration": 61,
    "start_time": "2022-10-01T06:01:54.463Z"
   },
   {
    "duration": 1235,
    "start_time": "2022-10-01T06:01:54.526Z"
   },
   {
    "duration": 256,
    "start_time": "2022-10-01T06:01:55.765Z"
   },
   {
    "duration": 433,
    "start_time": "2022-10-01T06:01:56.023Z"
   },
   {
    "duration": 332,
    "start_time": "2022-10-01T06:01:56.458Z"
   },
   {
    "duration": 115,
    "start_time": "2022-10-01T06:01:56.792Z"
   },
   {
    "duration": 130,
    "start_time": "2022-10-01T06:01:56.909Z"
   },
   {
    "duration": 69,
    "start_time": "2022-10-01T06:04:06.451Z"
   },
   {
    "duration": 325,
    "start_time": "2022-10-01T06:38:19.295Z"
   },
   {
    "duration": 1499,
    "start_time": "2022-10-01T06:49:15.027Z"
   },
   {
    "duration": 1586,
    "start_time": "2022-10-01T06:49:26.519Z"
   },
   {
    "duration": 1641,
    "start_time": "2022-10-01T06:49:29.678Z"
   },
   {
    "duration": 45,
    "start_time": "2022-10-01T10:07:07.093Z"
   },
   {
    "duration": 1400,
    "start_time": "2022-10-01T10:07:15.709Z"
   },
   {
    "duration": 3,
    "start_time": "2022-10-01T10:07:17.111Z"
   },
   {
    "duration": 6830,
    "start_time": "2022-10-01T10:07:17.115Z"
   },
   {
    "duration": 201,
    "start_time": "2022-10-01T10:07:23.947Z"
   },
   {
    "duration": 13,
    "start_time": "2022-10-01T10:07:24.149Z"
   },
   {
    "duration": 72,
    "start_time": "2022-10-01T10:07:24.163Z"
   },
   {
    "duration": 172,
    "start_time": "2022-10-01T10:07:24.237Z"
   },
   {
    "duration": 5,
    "start_time": "2022-10-01T10:07:24.410Z"
   },
   {
    "duration": 115,
    "start_time": "2022-10-01T10:07:24.416Z"
   },
   {
    "duration": 1220,
    "start_time": "2022-10-01T10:07:24.533Z"
   },
   {
    "duration": 92,
    "start_time": "2022-10-01T10:07:25.754Z"
   },
   {
    "duration": 62,
    "start_time": "2022-10-01T10:07:25.848Z"
   },
   {
    "duration": 1195,
    "start_time": "2022-10-01T10:07:25.911Z"
   },
   {
    "duration": 256,
    "start_time": "2022-10-01T10:07:27.107Z"
   },
   {
    "duration": 0,
    "start_time": "2022-10-01T10:07:27.365Z"
   },
   {
    "duration": 0,
    "start_time": "2022-10-01T10:07:27.366Z"
   },
   {
    "duration": 0,
    "start_time": "2022-10-01T10:07:27.367Z"
   },
   {
    "duration": 0,
    "start_time": "2022-10-01T10:07:27.369Z"
   },
   {
    "duration": 0,
    "start_time": "2022-10-01T10:07:27.371Z"
   },
   {
    "duration": 321,
    "start_time": "2022-10-01T10:09:46.416Z"
   },
   {
    "duration": 435,
    "start_time": "2022-10-01T10:12:12.541Z"
   },
   {
    "duration": 1249,
    "start_time": "2022-10-01T16:49:01.596Z"
   },
   {
    "duration": 3,
    "start_time": "2022-10-01T16:49:02.847Z"
   },
   {
    "duration": 5854,
    "start_time": "2022-10-01T16:49:02.852Z"
   },
   {
    "duration": 201,
    "start_time": "2022-10-01T16:49:08.708Z"
   },
   {
    "duration": 12,
    "start_time": "2022-10-01T16:49:08.911Z"
   },
   {
    "duration": 52,
    "start_time": "2022-10-01T16:49:08.925Z"
   },
   {
    "duration": 3487,
    "start_time": "2022-10-01T16:49:08.978Z"
   },
   {
    "duration": 6,
    "start_time": "2022-10-01T16:49:12.466Z"
   },
   {
    "duration": 191,
    "start_time": "2022-10-01T16:49:12.474Z"
   },
   {
    "duration": 6966,
    "start_time": "2022-10-01T16:49:12.666Z"
   },
   {
    "duration": 82,
    "start_time": "2022-10-01T16:49:19.634Z"
   },
   {
    "duration": 58,
    "start_time": "2022-10-01T16:49:19.718Z"
   },
   {
    "duration": 2307,
    "start_time": "2022-10-01T16:49:19.778Z"
   },
   {
    "duration": 3933,
    "start_time": "2022-10-01T16:49:22.087Z"
   },
   {
    "duration": 7734,
    "start_time": "2022-10-01T16:49:26.022Z"
   },
   {
    "duration": 490,
    "start_time": "2022-10-01T16:49:33.757Z"
   },
   {
    "duration": 694,
    "start_time": "2022-10-01T16:49:34.249Z"
   },
   {
    "duration": 87,
    "start_time": "2022-10-01T16:49:34.945Z"
   },
   {
    "duration": 1100,
    "start_time": "2022-10-01T16:49:35.033Z"
   },
   {
    "duration": 182,
    "start_time": "2022-10-01T16:51:04.862Z"
   },
   {
    "duration": 66,
    "start_time": "2022-10-01T16:51:57.705Z"
   }
  ],
  "colab": {
   "name": "AdvansedSQLProjectTemplate.ipynb",
   "provenance": []
  },
  "kernelspec": {
   "display_name": "Python 3 (ipykernel)",
   "language": "python",
   "name": "python3"
  },
  "language_info": {
   "codemirror_mode": {
    "name": "ipython",
    "version": 3
   },
   "file_extension": ".py",
   "mimetype": "text/x-python",
   "name": "python",
   "nbconvert_exporter": "python",
   "pygments_lexer": "ipython3",
   "version": "3.9.12"
  },
  "toc": {
   "base_numbering": 1,
   "nav_menu": {},
   "number_sections": true,
   "sideBar": true,
   "skip_h1_title": true,
   "title_cell": "Table of Contents",
   "title_sidebar": "Contents",
   "toc_cell": false,
   "toc_position": {},
   "toc_section_display": true,
   "toc_window_display": true
  }
 },
 "nbformat": 4,
 "nbformat_minor": 1
}
